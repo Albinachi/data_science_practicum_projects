{
 "cells": [
  {
   "cell_type": "markdown",
   "id": "d518d257",
   "metadata": {
    "deletable": false,
    "editable": false,
    "id": "c81daeeb"
   },
   "source": [
    "# Исследование надежности заемщиков\n"
   ]
  },
  {
   "cell_type": "markdown",
   "id": "6e1d0dee",
   "metadata": {
    "deletable": false,
    "editable": false,
    "id": "744d7639"
   },
   "source": [
    "## Откройте таблицу и изучите общую информацию о данных"
   ]
  },
  {
   "cell_type": "markdown",
   "id": "9b9c5f5c",
   "metadata": {
    "deletable": false,
    "editable": false,
    "id": "e7a14c31"
   },
   "source": [
    "**Задание 1. Импортируйте библиотеку pandas. Считайте данные из csv-файла в датафрейм и сохраните в переменную `data`. Путь к файлу:**\n",
    "\n",
    "`/datasets/data.csv`"
   ]
  },
  {
   "cell_type": "code",
   "execution_count": 2,
   "id": "0a7c948e",
   "metadata": {
    "deletable": false,
    "id": "7bcf75c9"
   },
   "outputs": [],
   "source": [
    "# импортируйте библиотеку pandas\n",
    "import pandas as pd"
   ]
  },
  {
   "cell_type": "code",
   "execution_count": 3,
   "id": "bfe13644",
   "metadata": {},
   "outputs": [],
   "source": [
    "try:\n",
    "    data = pd.read_csv('/datasets/data.csv')\n",
    "except:\n",
    "    data = pd.read_csv('C:/Users/Данные/data.csv')"
   ]
  },
  {
   "cell_type": "markdown",
   "id": "a63cc813",
   "metadata": {
    "deletable": false,
    "editable": false,
    "id": "b8038fe3"
   },
   "source": [
    "**Задание 2. Выведите первые 20 строчек датафрейма `data` на экран.**"
   ]
  },
  {
   "cell_type": "code",
   "execution_count": 3,
   "id": "9940dad6",
   "metadata": {
    "deletable": false,
    "id": "2a7cab99",
    "outputId": "1a8f3ef2-d323-4ec2-ddf7-89670b5944c4"
   },
   "outputs": [
    {
     "data": {
      "text/html": [
       "<div>\n",
       "<style scoped>\n",
       "    .dataframe tbody tr th:only-of-type {\n",
       "        vertical-align: middle;\n",
       "    }\n",
       "\n",
       "    .dataframe tbody tr th {\n",
       "        vertical-align: top;\n",
       "    }\n",
       "\n",
       "    .dataframe thead th {\n",
       "        text-align: right;\n",
       "    }\n",
       "</style>\n",
       "<table border=\"1\" class=\"dataframe\">\n",
       "  <thead>\n",
       "    <tr style=\"text-align: right;\">\n",
       "      <th></th>\n",
       "      <th>children</th>\n",
       "      <th>days_employed</th>\n",
       "      <th>dob_years</th>\n",
       "      <th>education</th>\n",
       "      <th>education_id</th>\n",
       "      <th>family_status</th>\n",
       "      <th>family_status_id</th>\n",
       "      <th>gender</th>\n",
       "      <th>income_type</th>\n",
       "      <th>debt</th>\n",
       "      <th>total_income</th>\n",
       "      <th>purpose</th>\n",
       "    </tr>\n",
       "  </thead>\n",
       "  <tbody>\n",
       "    <tr>\n",
       "      <th>0</th>\n",
       "      <td>1</td>\n",
       "      <td>-8437.673028</td>\n",
       "      <td>42</td>\n",
       "      <td>высшее</td>\n",
       "      <td>0</td>\n",
       "      <td>женат / замужем</td>\n",
       "      <td>0</td>\n",
       "      <td>F</td>\n",
       "      <td>сотрудник</td>\n",
       "      <td>0</td>\n",
       "      <td>253875.639453</td>\n",
       "      <td>покупка жилья</td>\n",
       "    </tr>\n",
       "    <tr>\n",
       "      <th>1</th>\n",
       "      <td>1</td>\n",
       "      <td>-4024.803754</td>\n",
       "      <td>36</td>\n",
       "      <td>среднее</td>\n",
       "      <td>1</td>\n",
       "      <td>женат / замужем</td>\n",
       "      <td>0</td>\n",
       "      <td>F</td>\n",
       "      <td>сотрудник</td>\n",
       "      <td>0</td>\n",
       "      <td>112080.014102</td>\n",
       "      <td>приобретение автомобиля</td>\n",
       "    </tr>\n",
       "    <tr>\n",
       "      <th>2</th>\n",
       "      <td>0</td>\n",
       "      <td>-5623.422610</td>\n",
       "      <td>33</td>\n",
       "      <td>Среднее</td>\n",
       "      <td>1</td>\n",
       "      <td>женат / замужем</td>\n",
       "      <td>0</td>\n",
       "      <td>M</td>\n",
       "      <td>сотрудник</td>\n",
       "      <td>0</td>\n",
       "      <td>145885.952297</td>\n",
       "      <td>покупка жилья</td>\n",
       "    </tr>\n",
       "    <tr>\n",
       "      <th>3</th>\n",
       "      <td>3</td>\n",
       "      <td>-4124.747207</td>\n",
       "      <td>32</td>\n",
       "      <td>среднее</td>\n",
       "      <td>1</td>\n",
       "      <td>женат / замужем</td>\n",
       "      <td>0</td>\n",
       "      <td>M</td>\n",
       "      <td>сотрудник</td>\n",
       "      <td>0</td>\n",
       "      <td>267628.550329</td>\n",
       "      <td>дополнительное образование</td>\n",
       "    </tr>\n",
       "    <tr>\n",
       "      <th>4</th>\n",
       "      <td>0</td>\n",
       "      <td>340266.072047</td>\n",
       "      <td>53</td>\n",
       "      <td>среднее</td>\n",
       "      <td>1</td>\n",
       "      <td>гражданский брак</td>\n",
       "      <td>1</td>\n",
       "      <td>F</td>\n",
       "      <td>пенсионер</td>\n",
       "      <td>0</td>\n",
       "      <td>158616.077870</td>\n",
       "      <td>сыграть свадьбу</td>\n",
       "    </tr>\n",
       "    <tr>\n",
       "      <th>5</th>\n",
       "      <td>0</td>\n",
       "      <td>-926.185831</td>\n",
       "      <td>27</td>\n",
       "      <td>высшее</td>\n",
       "      <td>0</td>\n",
       "      <td>гражданский брак</td>\n",
       "      <td>1</td>\n",
       "      <td>M</td>\n",
       "      <td>компаньон</td>\n",
       "      <td>0</td>\n",
       "      <td>255763.565419</td>\n",
       "      <td>покупка жилья</td>\n",
       "    </tr>\n",
       "    <tr>\n",
       "      <th>6</th>\n",
       "      <td>0</td>\n",
       "      <td>-2879.202052</td>\n",
       "      <td>43</td>\n",
       "      <td>высшее</td>\n",
       "      <td>0</td>\n",
       "      <td>женат / замужем</td>\n",
       "      <td>0</td>\n",
       "      <td>F</td>\n",
       "      <td>компаньон</td>\n",
       "      <td>0</td>\n",
       "      <td>240525.971920</td>\n",
       "      <td>операции с жильем</td>\n",
       "    </tr>\n",
       "    <tr>\n",
       "      <th>7</th>\n",
       "      <td>0</td>\n",
       "      <td>-152.779569</td>\n",
       "      <td>50</td>\n",
       "      <td>СРЕДНЕЕ</td>\n",
       "      <td>1</td>\n",
       "      <td>женат / замужем</td>\n",
       "      <td>0</td>\n",
       "      <td>M</td>\n",
       "      <td>сотрудник</td>\n",
       "      <td>0</td>\n",
       "      <td>135823.934197</td>\n",
       "      <td>образование</td>\n",
       "    </tr>\n",
       "    <tr>\n",
       "      <th>8</th>\n",
       "      <td>2</td>\n",
       "      <td>-6929.865299</td>\n",
       "      <td>35</td>\n",
       "      <td>ВЫСШЕЕ</td>\n",
       "      <td>0</td>\n",
       "      <td>гражданский брак</td>\n",
       "      <td>1</td>\n",
       "      <td>F</td>\n",
       "      <td>сотрудник</td>\n",
       "      <td>0</td>\n",
       "      <td>95856.832424</td>\n",
       "      <td>на проведение свадьбы</td>\n",
       "    </tr>\n",
       "    <tr>\n",
       "      <th>9</th>\n",
       "      <td>0</td>\n",
       "      <td>-2188.756445</td>\n",
       "      <td>41</td>\n",
       "      <td>среднее</td>\n",
       "      <td>1</td>\n",
       "      <td>женат / замужем</td>\n",
       "      <td>0</td>\n",
       "      <td>M</td>\n",
       "      <td>сотрудник</td>\n",
       "      <td>0</td>\n",
       "      <td>144425.938277</td>\n",
       "      <td>покупка жилья для семьи</td>\n",
       "    </tr>\n",
       "    <tr>\n",
       "      <th>10</th>\n",
       "      <td>2</td>\n",
       "      <td>-4171.483647</td>\n",
       "      <td>36</td>\n",
       "      <td>высшее</td>\n",
       "      <td>0</td>\n",
       "      <td>женат / замужем</td>\n",
       "      <td>0</td>\n",
       "      <td>M</td>\n",
       "      <td>компаньон</td>\n",
       "      <td>0</td>\n",
       "      <td>113943.491460</td>\n",
       "      <td>покупка недвижимости</td>\n",
       "    </tr>\n",
       "    <tr>\n",
       "      <th>11</th>\n",
       "      <td>0</td>\n",
       "      <td>-792.701887</td>\n",
       "      <td>40</td>\n",
       "      <td>среднее</td>\n",
       "      <td>1</td>\n",
       "      <td>женат / замужем</td>\n",
       "      <td>0</td>\n",
       "      <td>F</td>\n",
       "      <td>сотрудник</td>\n",
       "      <td>0</td>\n",
       "      <td>77069.234271</td>\n",
       "      <td>покупка коммерческой недвижимости</td>\n",
       "    </tr>\n",
       "    <tr>\n",
       "      <th>12</th>\n",
       "      <td>0</td>\n",
       "      <td>NaN</td>\n",
       "      <td>65</td>\n",
       "      <td>среднее</td>\n",
       "      <td>1</td>\n",
       "      <td>гражданский брак</td>\n",
       "      <td>1</td>\n",
       "      <td>M</td>\n",
       "      <td>пенсионер</td>\n",
       "      <td>0</td>\n",
       "      <td>NaN</td>\n",
       "      <td>сыграть свадьбу</td>\n",
       "    </tr>\n",
       "    <tr>\n",
       "      <th>13</th>\n",
       "      <td>0</td>\n",
       "      <td>-1846.641941</td>\n",
       "      <td>54</td>\n",
       "      <td>неоконченное высшее</td>\n",
       "      <td>2</td>\n",
       "      <td>женат / замужем</td>\n",
       "      <td>0</td>\n",
       "      <td>F</td>\n",
       "      <td>сотрудник</td>\n",
       "      <td>0</td>\n",
       "      <td>130458.228857</td>\n",
       "      <td>приобретение автомобиля</td>\n",
       "    </tr>\n",
       "    <tr>\n",
       "      <th>14</th>\n",
       "      <td>0</td>\n",
       "      <td>-1844.956182</td>\n",
       "      <td>56</td>\n",
       "      <td>высшее</td>\n",
       "      <td>0</td>\n",
       "      <td>гражданский брак</td>\n",
       "      <td>1</td>\n",
       "      <td>F</td>\n",
       "      <td>компаньон</td>\n",
       "      <td>1</td>\n",
       "      <td>165127.911772</td>\n",
       "      <td>покупка жилой недвижимости</td>\n",
       "    </tr>\n",
       "    <tr>\n",
       "      <th>15</th>\n",
       "      <td>1</td>\n",
       "      <td>-972.364419</td>\n",
       "      <td>26</td>\n",
       "      <td>среднее</td>\n",
       "      <td>1</td>\n",
       "      <td>женат / замужем</td>\n",
       "      <td>0</td>\n",
       "      <td>F</td>\n",
       "      <td>сотрудник</td>\n",
       "      <td>0</td>\n",
       "      <td>116820.904450</td>\n",
       "      <td>строительство собственной недвижимости</td>\n",
       "    </tr>\n",
       "    <tr>\n",
       "      <th>16</th>\n",
       "      <td>0</td>\n",
       "      <td>-1719.934226</td>\n",
       "      <td>35</td>\n",
       "      <td>среднее</td>\n",
       "      <td>1</td>\n",
       "      <td>женат / замужем</td>\n",
       "      <td>0</td>\n",
       "      <td>F</td>\n",
       "      <td>сотрудник</td>\n",
       "      <td>0</td>\n",
       "      <td>289202.704229</td>\n",
       "      <td>недвижимость</td>\n",
       "    </tr>\n",
       "    <tr>\n",
       "      <th>17</th>\n",
       "      <td>0</td>\n",
       "      <td>-2369.999720</td>\n",
       "      <td>33</td>\n",
       "      <td>высшее</td>\n",
       "      <td>0</td>\n",
       "      <td>гражданский брак</td>\n",
       "      <td>1</td>\n",
       "      <td>M</td>\n",
       "      <td>сотрудник</td>\n",
       "      <td>0</td>\n",
       "      <td>90410.586745</td>\n",
       "      <td>строительство недвижимости</td>\n",
       "    </tr>\n",
       "    <tr>\n",
       "      <th>18</th>\n",
       "      <td>0</td>\n",
       "      <td>400281.136913</td>\n",
       "      <td>53</td>\n",
       "      <td>среднее</td>\n",
       "      <td>1</td>\n",
       "      <td>вдовец / вдова</td>\n",
       "      <td>2</td>\n",
       "      <td>F</td>\n",
       "      <td>пенсионер</td>\n",
       "      <td>0</td>\n",
       "      <td>56823.777243</td>\n",
       "      <td>на покупку подержанного автомобиля</td>\n",
       "    </tr>\n",
       "    <tr>\n",
       "      <th>19</th>\n",
       "      <td>0</td>\n",
       "      <td>-10038.818549</td>\n",
       "      <td>48</td>\n",
       "      <td>СРЕДНЕЕ</td>\n",
       "      <td>1</td>\n",
       "      <td>в разводе</td>\n",
       "      <td>3</td>\n",
       "      <td>F</td>\n",
       "      <td>сотрудник</td>\n",
       "      <td>0</td>\n",
       "      <td>242831.107982</td>\n",
       "      <td>на покупку своего автомобиля</td>\n",
       "    </tr>\n",
       "  </tbody>\n",
       "</table>\n",
       "</div>"
      ],
      "text/plain": [
       "    children  days_employed  dob_years            education  education_id  \\\n",
       "0          1   -8437.673028         42               высшее             0   \n",
       "1          1   -4024.803754         36              среднее             1   \n",
       "2          0   -5623.422610         33              Среднее             1   \n",
       "3          3   -4124.747207         32              среднее             1   \n",
       "4          0  340266.072047         53              среднее             1   \n",
       "5          0    -926.185831         27               высшее             0   \n",
       "6          0   -2879.202052         43               высшее             0   \n",
       "7          0    -152.779569         50              СРЕДНЕЕ             1   \n",
       "8          2   -6929.865299         35               ВЫСШЕЕ             0   \n",
       "9          0   -2188.756445         41              среднее             1   \n",
       "10         2   -4171.483647         36               высшее             0   \n",
       "11         0    -792.701887         40              среднее             1   \n",
       "12         0            NaN         65              среднее             1   \n",
       "13         0   -1846.641941         54  неоконченное высшее             2   \n",
       "14         0   -1844.956182         56               высшее             0   \n",
       "15         1    -972.364419         26              среднее             1   \n",
       "16         0   -1719.934226         35              среднее             1   \n",
       "17         0   -2369.999720         33               высшее             0   \n",
       "18         0  400281.136913         53              среднее             1   \n",
       "19         0  -10038.818549         48              СРЕДНЕЕ             1   \n",
       "\n",
       "       family_status  family_status_id gender income_type  debt  \\\n",
       "0    женат / замужем                 0      F   сотрудник     0   \n",
       "1    женат / замужем                 0      F   сотрудник     0   \n",
       "2    женат / замужем                 0      M   сотрудник     0   \n",
       "3    женат / замужем                 0      M   сотрудник     0   \n",
       "4   гражданский брак                 1      F   пенсионер     0   \n",
       "5   гражданский брак                 1      M   компаньон     0   \n",
       "6    женат / замужем                 0      F   компаньон     0   \n",
       "7    женат / замужем                 0      M   сотрудник     0   \n",
       "8   гражданский брак                 1      F   сотрудник     0   \n",
       "9    женат / замужем                 0      M   сотрудник     0   \n",
       "10   женат / замужем                 0      M   компаньон     0   \n",
       "11   женат / замужем                 0      F   сотрудник     0   \n",
       "12  гражданский брак                 1      M   пенсионер     0   \n",
       "13   женат / замужем                 0      F   сотрудник     0   \n",
       "14  гражданский брак                 1      F   компаньон     1   \n",
       "15   женат / замужем                 0      F   сотрудник     0   \n",
       "16   женат / замужем                 0      F   сотрудник     0   \n",
       "17  гражданский брак                 1      M   сотрудник     0   \n",
       "18    вдовец / вдова                 2      F   пенсионер     0   \n",
       "19         в разводе                 3      F   сотрудник     0   \n",
       "\n",
       "     total_income                                 purpose  \n",
       "0   253875.639453                           покупка жилья  \n",
       "1   112080.014102                 приобретение автомобиля  \n",
       "2   145885.952297                           покупка жилья  \n",
       "3   267628.550329              дополнительное образование  \n",
       "4   158616.077870                         сыграть свадьбу  \n",
       "5   255763.565419                           покупка жилья  \n",
       "6   240525.971920                       операции с жильем  \n",
       "7   135823.934197                             образование  \n",
       "8    95856.832424                   на проведение свадьбы  \n",
       "9   144425.938277                 покупка жилья для семьи  \n",
       "10  113943.491460                    покупка недвижимости  \n",
       "11   77069.234271       покупка коммерческой недвижимости  \n",
       "12            NaN                         сыграть свадьбу  \n",
       "13  130458.228857                 приобретение автомобиля  \n",
       "14  165127.911772              покупка жилой недвижимости  \n",
       "15  116820.904450  строительство собственной недвижимости  \n",
       "16  289202.704229                            недвижимость  \n",
       "17   90410.586745              строительство недвижимости  \n",
       "18   56823.777243      на покупку подержанного автомобиля  \n",
       "19  242831.107982            на покупку своего автомобиля  "
      ]
     },
     "execution_count": 3,
     "metadata": {},
     "output_type": "execute_result"
    }
   ],
   "source": [
    "data.head(20)"
   ]
  },
  {
   "cell_type": "markdown",
   "id": "6b293a29",
   "metadata": {
    "deletable": false,
    "editable": false,
    "id": "1c12e233"
   },
   "source": [
    "**Задание 3. Выведите основную информацию о датафрейме с помощью метода `info()`.**"
   ]
  },
  {
   "cell_type": "code",
   "execution_count": 3,
   "id": "bf307365",
   "metadata": {
    "deletable": false,
    "id": "2b757bca",
    "outputId": "15376089-8dad-46c9-b520-c05248d43158"
   },
   "outputs": [
    {
     "name": "stdout",
     "output_type": "stream",
     "text": [
      "<class 'pandas.core.frame.DataFrame'>\n",
      "RangeIndex: 21525 entries, 0 to 21524\n",
      "Data columns (total 12 columns):\n",
      " #   Column            Non-Null Count  Dtype  \n",
      "---  ------            --------------  -----  \n",
      " 0   children          21525 non-null  int64  \n",
      " 1   days_employed     19351 non-null  float64\n",
      " 2   dob_years         21525 non-null  int64  \n",
      " 3   education         21525 non-null  object \n",
      " 4   education_id      21525 non-null  int64  \n",
      " 5   family_status     21525 non-null  object \n",
      " 6   family_status_id  21525 non-null  int64  \n",
      " 7   gender            21525 non-null  object \n",
      " 8   income_type       21525 non-null  object \n",
      " 9   debt              21525 non-null  int64  \n",
      " 10  total_income      19351 non-null  float64\n",
      " 11  purpose           21525 non-null  object \n",
      "dtypes: float64(2), int64(5), object(5)\n",
      "memory usage: 2.0+ MB\n"
     ]
    }
   ],
   "source": [
    "data.info()"
   ]
  },
  {
   "cell_type": "markdown",
   "id": "0ae4dbe4",
   "metadata": {
    "deletable": false,
    "editable": false,
    "id": "333ec665"
   },
   "source": [
    "## Предобработка данных"
   ]
  },
  {
   "cell_type": "markdown",
   "id": "8dde5b28",
   "metadata": {
    "deletable": false,
    "editable": false,
    "id": "02d92d53"
   },
   "source": [
    "### Удаление пропусков"
   ]
  },
  {
   "cell_type": "markdown",
   "id": "b14d3378",
   "metadata": {
    "deletable": false,
    "editable": false,
    "id": "cd84967c"
   },
   "source": [
    "**Задание 4. Выведите количество пропущенных значений для каждого столбца. Используйте комбинацию двух методов.**"
   ]
  },
  {
   "cell_type": "code",
   "execution_count": 4,
   "id": "ecf251d6",
   "metadata": {
    "deletable": false,
    "id": "7f9b2309",
    "outputId": "81f4d817-781c-465c-ed15-91ce4446810d"
   },
   "outputs": [
    {
     "data": {
      "text/plain": [
       "children               0\n",
       "days_employed       2174\n",
       "dob_years              0\n",
       "education              0\n",
       "education_id           0\n",
       "family_status          0\n",
       "family_status_id       0\n",
       "gender                 0\n",
       "income_type            0\n",
       "debt                   0\n",
       "total_income        2174\n",
       "purpose                0\n",
       "dtype: int64"
      ]
     },
     "execution_count": 4,
     "metadata": {},
     "output_type": "execute_result"
    }
   ],
   "source": [
    "data.isna().sum()"
   ]
  },
  {
   "cell_type": "markdown",
   "id": "901ebfdd",
   "metadata": {
    "deletable": false,
    "editable": false,
    "id": "db86e27b"
   },
   "source": [
    "**Задание 5. В двух столбцах есть пропущенные значения. Один из них — `days_employed`. Пропуски в этом столбце вы обработаете на следующем этапе. Другой столбец с пропущенными значениями — `total_income` — хранит данные о доходах. На сумму дохода сильнее всего влияет тип занятости, поэтому заполнить пропуски в этом столбце нужно медианным значением по каждому типу из столбца `income_type`. Например, у человека с типом занятости `сотрудник` пропуск в столбце `total_income` должен быть заполнен медианным доходом среди всех записей с тем же типом.**"
   ]
  },
  {
   "cell_type": "code",
   "execution_count": 5,
   "id": "8d0cb056",
   "metadata": {
    "deletable": false,
    "id": "42006a93"
   },
   "outputs": [],
   "source": [
    "for d in data['income_type'].unique():\n",
    "    \n",
    "    data.loc[(data['income_type'] == d) & (data['total_income'].isna()), 'total_income'] = \\\n",
    "    data.loc[(data['income_type'] == d), 'total_income'].median()         "
   ]
  },
  {
   "cell_type": "markdown",
   "id": "aeffc46e",
   "metadata": {
    "deletable": false,
    "editable": false,
    "id": "89da5ece"
   },
   "source": [
    "### Обработка аномальных значений"
   ]
  },
  {
   "cell_type": "markdown",
   "id": "71d2e3fc",
   "metadata": {
    "deletable": false,
    "editable": false,
    "id": "57964554"
   },
   "source": [
    "**Задание 6. В данных могут встречаться артефакты (аномалии) — значения, которые не отражают действительность и появились по какой-то ошибке. таким артефактом будет отрицательное количество дней трудового стажа в столбце `days_employed`. Для реальных данных это нормально. Обработайте значения в этом столбце: замените все отрицательные значения положительными с помощью метода `abs()`.**"
   ]
  },
  {
   "cell_type": "code",
   "execution_count": 6,
   "id": "24168c8c",
   "metadata": {
    "deletable": false,
    "id": "f6f055bf"
   },
   "outputs": [],
   "source": [
    "data.loc[data['days_employed'] < 0, 'days_employed'] = \\\n",
    "data.loc[data['days_employed'] < 0, 'days_employed'].abs()"
   ]
  },
  {
   "cell_type": "markdown",
   "id": "1af88df0",
   "metadata": {
    "deletable": false,
    "editable": false,
    "id": "6107dd2f"
   },
   "source": [
    "**Задание 7. Для каждого типа занятости выведите медианное значение трудового стажа `days_employed` в днях.**"
   ]
  },
  {
   "cell_type": "code",
   "execution_count": 7,
   "id": "63ed90a9",
   "metadata": {
    "deletable": false,
    "id": "85a5faf6",
    "outputId": "801ef80e-522b-4668-f34e-565af7432bcf"
   },
   "outputs": [
    {
     "data": {
      "text/plain": [
       "income_type\n",
       "безработный        366413.652744\n",
       "в декрете            3296.759962\n",
       "госслужащий          2689.368353\n",
       "компаньон            1547.382223\n",
       "пенсионер          365213.306266\n",
       "предприниматель       520.848083\n",
       "сотрудник            1574.202821\n",
       "студент               578.751554\n",
       "Name: days_employed, dtype: float64"
      ]
     },
     "execution_count": 7,
     "metadata": {},
     "output_type": "execute_result"
    }
   ],
   "source": [
    "data.groupby('income_type')['days_employed'].agg('median')"
   ]
  },
  {
   "cell_type": "markdown",
   "id": "ac74b0d0",
   "metadata": {
    "deletable": false,
    "editable": false,
    "id": "38d1a030"
   },
   "source": [
    "У двух типов (безработные и пенсионеры) получатся аномально большие значения. Исправить такие значения сложно, поэтому оставьте их как есть. Тем более этот столбец не понадобится вам для исследования."
   ]
  },
  {
   "cell_type": "markdown",
   "id": "55bf114a",
   "metadata": {
    "deletable": false,
    "editable": false,
    "id": "d8a9f147"
   },
   "source": [
    "**Задание 8. Выведите перечень уникальных значений столбца `children`.**"
   ]
  },
  {
   "cell_type": "code",
   "execution_count": 8,
   "id": "05007bc5",
   "metadata": {
    "deletable": false,
    "id": "ef5056eb",
    "outputId": "6975b15c-7f95-4697-d16d-a0c79b657b03"
   },
   "outputs": [
    {
     "data": {
      "text/plain": [
       "array([ 1,  0,  3,  2, -1,  4, 20,  5])"
      ]
     },
     "execution_count": 8,
     "metadata": {},
     "output_type": "execute_result"
    }
   ],
   "source": [
    "data['children'].unique()"
   ]
  },
  {
   "cell_type": "markdown",
   "id": "6e45be36",
   "metadata": {
    "deletable": false,
    "editable": false,
    "id": "40b9ebf2"
   },
   "source": [
    "**Задание 9. В столбце `children` есть два аномальных значения. Удалите строки, в которых встречаются такие аномальные значения из датафрейма `data`.**"
   ]
  },
  {
   "cell_type": "code",
   "execution_count": 9,
   "id": "8212b2c1",
   "metadata": {
    "deletable": false,
    "id": "3ff9801d"
   },
   "outputs": [],
   "source": [
    "data = data[(data['children'] != -1) & (data['children'] != 20)]"
   ]
  },
  {
   "cell_type": "markdown",
   "id": "2a20aafe",
   "metadata": {
    "deletable": false,
    "editable": false,
    "id": "bbc4d0ce"
   },
   "source": [
    "**Задание 10. Ещё раз выведите перечень уникальных значений столбца `children`, чтобы убедиться, что артефакты удалены.**"
   ]
  },
  {
   "cell_type": "code",
   "execution_count": 10,
   "id": "cdb5c271",
   "metadata": {
    "deletable": false,
    "id": "ad4fa8b7",
    "outputId": "b2097101-d49d-44d9-901b-32a65c9463d1"
   },
   "outputs": [
    {
     "data": {
      "text/plain": [
       "array([1, 0, 3, 2, 4, 5])"
      ]
     },
     "execution_count": 10,
     "metadata": {},
     "output_type": "execute_result"
    }
   ],
   "source": [
    "data['children'].unique()"
   ]
  },
  {
   "cell_type": "markdown",
   "id": "1900b907",
   "metadata": {
    "deletable": false,
    "editable": false,
    "id": "75440b63"
   },
   "source": [
    "### Удаление пропусков (продолжение)"
   ]
  },
  {
   "cell_type": "markdown",
   "id": "7690bea9",
   "metadata": {
    "deletable": false,
    "id": "f4ea573f"
   },
   "source": [
    "**Задание 11. Заполните пропуски в столбце `days_employed` медианными значениями для каждого типа занятости `income_type`.**"
   ]
  },
  {
   "cell_type": "code",
   "execution_count": 11,
   "id": "37c3a953",
   "metadata": {
    "deletable": false,
    "id": "af6b1a7e"
   },
   "outputs": [],
   "source": [
    "for d in data['income_type'].unique():\n",
    "    \n",
    "    data.loc[(data['income_type'] == d) & (data['days_employed'].isna()), 'days_employed'] = \\\n",
    "    data.loc[(data['income_type'] == d), 'days_employed'].median()"
   ]
  },
  {
   "cell_type": "markdown",
   "id": "46a254cb",
   "metadata": {
    "deletable": false,
    "editable": false,
    "id": "2753f40d"
   },
   "source": [
    "**Задание 12. Убедитесь, что все пропуски заполнены. Проверьте себя и ещё раз выведите количество пропущенных значений для каждого столбца с помощью двух методов.**"
   ]
  },
  {
   "cell_type": "code",
   "execution_count": 12,
   "id": "8a178bb5",
   "metadata": {
    "deletable": false,
    "id": "55f78bc2",
    "outputId": "8da1e4e1-358e-4e87-98c9-f261bce0a7b2"
   },
   "outputs": [
    {
     "data": {
      "text/plain": [
       "children            0\n",
       "days_employed       0\n",
       "dob_years           0\n",
       "education           0\n",
       "education_id        0\n",
       "family_status       0\n",
       "family_status_id    0\n",
       "gender              0\n",
       "income_type         0\n",
       "debt                0\n",
       "total_income        0\n",
       "purpose             0\n",
       "dtype: int64"
      ]
     },
     "execution_count": 12,
     "metadata": {},
     "output_type": "execute_result"
    }
   ],
   "source": [
    "data.isna().sum()"
   ]
  },
  {
   "cell_type": "markdown",
   "id": "8e0071dc",
   "metadata": {
    "deletable": false,
    "editable": false,
    "id": "ddc81e43"
   },
   "source": [
    "### Изменение типов данных"
   ]
  },
  {
   "cell_type": "markdown",
   "id": "426d70f7",
   "metadata": {
    "deletable": false,
    "editable": false,
    "id": "42d19d24"
   },
   "source": [
    "**Задание 13. Замените вещественный тип данных в столбце `total_income` на целочисленный с помощью метода `astype()`.**"
   ]
  },
  {
   "cell_type": "code",
   "execution_count": 13,
   "id": "8f874a01",
   "metadata": {
    "deletable": false,
    "id": "920b65ad"
   },
   "outputs": [],
   "source": [
    "data['total_income'] = data['total_income'].astype(int)"
   ]
  },
  {
   "cell_type": "markdown",
   "id": "953d03b3",
   "metadata": {
    "deletable": false,
    "editable": false,
    "id": "80c420ba"
   },
   "source": [
    "### Обработка дубликатов"
   ]
  },
  {
   "cell_type": "markdown",
   "id": "bed85005",
   "metadata": {
    "deletable": false,
    "editable": false
   },
   "source": [
    "**Задание 14. Обработайте неявные дубликаты в столбце `education`. В этом столбце есть одни и те же значения, но записанные по-разному: с использованием заглавных и строчных букв. Приведите их к нижнему регистру. Проверьте остальные столбцы.**"
   ]
  },
  {
   "cell_type": "code",
   "execution_count": 14,
   "id": "2a3affcd",
   "metadata": {
    "deletable": false
   },
   "outputs": [],
   "source": [
    "data['education'] = data['education'].str.lower()"
   ]
  },
  {
   "cell_type": "markdown",
   "id": "1286d815",
   "metadata": {
    "deletable": false,
    "editable": false,
    "id": "dc587695"
   },
   "source": [
    "**Задание 15. Выведите на экран количество строк-дубликатов в данных. Если такие строки присутствуют, удалите их.**"
   ]
  },
  {
   "cell_type": "code",
   "execution_count": 15,
   "id": "5ff69d2d",
   "metadata": {
    "deletable": false,
    "id": "3ee445e4",
    "outputId": "9684deba-1934-42d1-99e1-cda61740f822"
   },
   "outputs": [
    {
     "data": {
      "text/plain": [
       "71"
      ]
     },
     "execution_count": 15,
     "metadata": {},
     "output_type": "execute_result"
    }
   ],
   "source": [
    "data.duplicated().sum()"
   ]
  },
  {
   "cell_type": "code",
   "execution_count": 16,
   "id": "1c755acb",
   "metadata": {
    "deletable": false,
    "id": "8575fe05"
   },
   "outputs": [],
   "source": [
    "data = data.drop_duplicates()"
   ]
  },
  {
   "cell_type": "markdown",
   "id": "39e11008",
   "metadata": {
    "deletable": false,
    "editable": false,
    "id": "9904cf55"
   },
   "source": [
    "### Категоризация данных"
   ]
  },
  {
   "cell_type": "markdown",
   "id": "5bca5a91",
   "metadata": {
    "deletable": false,
    "editable": false,
    "id": "72fcc8a2"
   },
   "source": [
    "**Задание 16. На основании диапазонов, указанных ниже, создайте в датафрейме `data` столбец `total_income_category` с категориями:**\n",
    "\n",
    "- 0–30000 — `'E'`;\n",
    "- 30001–50000 — `'D'`;\n",
    "- 50001–200000 — `'C'`;\n",
    "- 200001–1000000 — `'B'`;\n",
    "- 1000001 и выше — `'A'`.\n",
    "\n",
    "\n",
    "**Например, кредитополучателю с доходом 25000 нужно назначить категорию `'E'`, а клиенту, получающему 235000, — `'B'`. Используйте собственную функцию с именем `categorize_income()` и метод `apply()`.**"
   ]
  },
  {
   "cell_type": "code",
   "execution_count": 17,
   "id": "f2036671",
   "metadata": {
    "deletable": false,
    "id": "e1771346"
   },
   "outputs": [],
   "source": [
    "def categorize_income(income):\n",
    "    try:\n",
    "        if 0 <= income <= 30000:\n",
    "            return 'E'\n",
    "        elif 30001 <= income <= 50000:\n",
    "            return 'D'\n",
    "        elif 50001 <= income <= 200000:\n",
    "            return 'C'\n",
    "        elif 200001 <= income <= 1000000:\n",
    "            return 'B'\n",
    "        elif income >= 1000001:\n",
    "            return 'A'\n",
    "    except:\n",
    "        pass"
   ]
  },
  {
   "cell_type": "code",
   "execution_count": 18,
   "id": "8ff674d4",
   "metadata": {
    "deletable": false,
    "id": "d5f3586d"
   },
   "outputs": [],
   "source": [
    "data['total_income_category'] = data['total_income'].apply(categorize_income)"
   ]
  },
  {
   "cell_type": "markdown",
   "id": "a8e8f05e",
   "metadata": {
    "deletable": false,
    "editable": false,
    "id": "dde49b5c"
   },
   "source": [
    "**Задание 17. Выведите на экран перечень уникальных целей взятия кредита из столбца `purpose`.**"
   ]
  },
  {
   "cell_type": "code",
   "execution_count": 19,
   "id": "9c7ce2a5",
   "metadata": {
    "deletable": false,
    "id": "f67ce9b3",
    "outputId": "673c12d9-7d7e-4ae0-9812-c622c89dd244"
   },
   "outputs": [
    {
     "data": {
      "text/plain": [
       "array(['покупка жилья', 'приобретение автомобиля',\n",
       "       'дополнительное образование', 'сыграть свадьбу',\n",
       "       'операции с жильем', 'образование', 'на проведение свадьбы',\n",
       "       'покупка жилья для семьи', 'покупка недвижимости',\n",
       "       'покупка коммерческой недвижимости', 'покупка жилой недвижимости',\n",
       "       'строительство собственной недвижимости', 'недвижимость',\n",
       "       'строительство недвижимости', 'на покупку подержанного автомобиля',\n",
       "       'на покупку своего автомобиля',\n",
       "       'операции с коммерческой недвижимостью',\n",
       "       'строительство жилой недвижимости', 'жилье',\n",
       "       'операции со своей недвижимостью', 'автомобили',\n",
       "       'заняться образованием', 'сделка с подержанным автомобилем',\n",
       "       'получение образования', 'автомобиль', 'свадьба',\n",
       "       'получение дополнительного образования', 'покупка своего жилья',\n",
       "       'операции с недвижимостью', 'получение высшего образования',\n",
       "       'свой автомобиль', 'сделка с автомобилем',\n",
       "       'профильное образование', 'высшее образование',\n",
       "       'покупка жилья для сдачи', 'на покупку автомобиля', 'ремонт жилью',\n",
       "       'заняться высшим образованием'], dtype=object)"
      ]
     },
     "execution_count": 19,
     "metadata": {},
     "output_type": "execute_result"
    }
   ],
   "source": [
    "data['purpose'].unique()"
   ]
  },
  {
   "cell_type": "markdown",
   "id": "2061858b",
   "metadata": {
    "deletable": false,
    "editable": false,
    "id": "85d0aef0"
   },
   "source": [
    "**Задание 18. Создайте функцию, которая на основании данных из столбца `purpose` сформирует новый столбец `purpose_category`, в который войдут следующие категории:**\n",
    "\n",
    "- `'операции с автомобилем'`,\n",
    "- `'операции с недвижимостью'`,\n",
    "- `'проведение свадьбы'`,\n",
    "- `'получение образования'`.\n",
    "\n",
    "**Например, если в столбце `purpose` находится подстрока `'на покупку автомобиля'`, то в столбце `purpose_category` должна появиться строка `'операции с автомобилем'`.**\n",
    "\n",
    "**Используйте собственную функцию с именем `categorize_purpose()` и метод `apply()`. Изучите данные в столбце `purpose` и определите, какие подстроки помогут вам правильно определить категорию.**"
   ]
  },
  {
   "cell_type": "code",
   "execution_count": 20,
   "id": "6f7ecade",
   "metadata": {
    "deletable": false,
    "id": "e149fab4"
   },
   "outputs": [],
   "source": [
    "def categorize_purpose(row):\n",
    "    try:\n",
    "        if 'автом' in row:\n",
    "            return 'операции с автомобилем'\n",
    "        elif 'жил' in row or 'недвиж' in row:\n",
    "            return 'операции с недвижимостью'\n",
    "        elif 'свад' in row:\n",
    "            return 'проведение свадьбы'\n",
    "        elif 'образов' in row:\n",
    "            return 'получение образования'\n",
    "    except:\n",
    "        return 'нет категории'"
   ]
  },
  {
   "cell_type": "code",
   "execution_count": 21,
   "id": "747ce91c",
   "metadata": {
    "deletable": false,
    "id": "bf36e69b"
   },
   "outputs": [],
   "source": [
    "data['purpose_category'] = data['purpose'].apply(categorize_purpose)"
   ]
  },
  {
   "cell_type": "markdown",
   "id": "2083ff25",
   "metadata": {
    "deletable": false,
    "editable": false,
    "id": "09b242bf"
   },
   "source": [
    "### Шаг 3. Исследуйте данные и ответьте на вопросы"
   ]
  },
  {
   "cell_type": "markdown",
   "id": "b958c3c5",
   "metadata": {
    "deletable": false,
    "editable": false,
    "id": "c5d66278"
   },
   "source": [
    "#### 3.1 Есть ли зависимость между количеством детей и возвратом кредита в срок?"
   ]
  },
  {
   "cell_type": "code",
   "execution_count": 22,
   "id": "fa47339e",
   "metadata": {
    "deletable": false,
    "id": "2cacfc4a"
   },
   "outputs": [
    {
     "data": {
      "text/html": [
       "<div>\n",
       "<style scoped>\n",
       "    .dataframe tbody tr th:only-of-type {\n",
       "        vertical-align: middle;\n",
       "    }\n",
       "\n",
       "    .dataframe tbody tr th {\n",
       "        vertical-align: top;\n",
       "    }\n",
       "\n",
       "    .dataframe thead tr th {\n",
       "        text-align: left;\n",
       "    }\n",
       "\n",
       "    .dataframe thead tr:last-of-type th {\n",
       "        text-align: right;\n",
       "    }\n",
       "</style>\n",
       "<table border=\"1\" class=\"dataframe\">\n",
       "  <thead>\n",
       "    <tr>\n",
       "      <th></th>\n",
       "      <th colspan=\"2\" halign=\"left\">debt</th>\n",
       "      <th>return</th>\n",
       "    </tr>\n",
       "    <tr>\n",
       "      <th></th>\n",
       "      <th>count</th>\n",
       "      <th>sum</th>\n",
       "      <th></th>\n",
       "    </tr>\n",
       "    <tr>\n",
       "      <th>children</th>\n",
       "      <th></th>\n",
       "      <th></th>\n",
       "      <th></th>\n",
       "    </tr>\n",
       "  </thead>\n",
       "  <tbody>\n",
       "    <tr>\n",
       "      <th>0</th>\n",
       "      <td>14091</td>\n",
       "      <td>1063</td>\n",
       "      <td>0.924562</td>\n",
       "    </tr>\n",
       "    <tr>\n",
       "      <th>1</th>\n",
       "      <td>4808</td>\n",
       "      <td>444</td>\n",
       "      <td>0.907654</td>\n",
       "    </tr>\n",
       "    <tr>\n",
       "      <th>2</th>\n",
       "      <td>2052</td>\n",
       "      <td>194</td>\n",
       "      <td>0.905458</td>\n",
       "    </tr>\n",
       "    <tr>\n",
       "      <th>3</th>\n",
       "      <td>330</td>\n",
       "      <td>27</td>\n",
       "      <td>0.918182</td>\n",
       "    </tr>\n",
       "    <tr>\n",
       "      <th>4</th>\n",
       "      <td>41</td>\n",
       "      <td>4</td>\n",
       "      <td>0.902439</td>\n",
       "    </tr>\n",
       "    <tr>\n",
       "      <th>5</th>\n",
       "      <td>9</td>\n",
       "      <td>0</td>\n",
       "      <td>1.000000</td>\n",
       "    </tr>\n",
       "  </tbody>\n",
       "</table>\n",
       "</div>"
      ],
      "text/plain": [
       "           debt          return\n",
       "          count   sum          \n",
       "children                       \n",
       "0         14091  1063  0.924562\n",
       "1          4808   444  0.907654\n",
       "2          2052   194  0.905458\n",
       "3           330    27  0.918182\n",
       "4            41     4  0.902439\n",
       "5             9     0  1.000000"
      ]
     },
     "metadata": {},
     "output_type": "display_data"
    },
    {
     "data": {
      "text/html": [
       "<div>\n",
       "<style scoped>\n",
       "    .dataframe tbody tr th:only-of-type {\n",
       "        vertical-align: middle;\n",
       "    }\n",
       "\n",
       "    .dataframe tbody tr th {\n",
       "        vertical-align: top;\n",
       "    }\n",
       "\n",
       "    .dataframe thead tr th {\n",
       "        text-align: left;\n",
       "    }\n",
       "\n",
       "    .dataframe thead tr:last-of-type th {\n",
       "        text-align: right;\n",
       "    }\n",
       "</style>\n",
       "<table border=\"1\" class=\"dataframe\">\n",
       "  <thead>\n",
       "    <tr>\n",
       "      <th></th>\n",
       "      <th colspan=\"2\" halign=\"left\">debt</th>\n",
       "      <th>return</th>\n",
       "    </tr>\n",
       "    <tr>\n",
       "      <th></th>\n",
       "      <th>count</th>\n",
       "      <th>sum</th>\n",
       "      <th></th>\n",
       "    </tr>\n",
       "    <tr>\n",
       "      <th>children_final</th>\n",
       "      <th></th>\n",
       "      <th></th>\n",
       "      <th></th>\n",
       "    </tr>\n",
       "  </thead>\n",
       "  <tbody>\n",
       "    <tr>\n",
       "      <th>0</th>\n",
       "      <td>14091</td>\n",
       "      <td>1063</td>\n",
       "      <td>0.924562</td>\n",
       "    </tr>\n",
       "    <tr>\n",
       "      <th>1</th>\n",
       "      <td>4808</td>\n",
       "      <td>444</td>\n",
       "      <td>0.907654</td>\n",
       "    </tr>\n",
       "    <tr>\n",
       "      <th>2</th>\n",
       "      <td>2052</td>\n",
       "      <td>194</td>\n",
       "      <td>0.905458</td>\n",
       "    </tr>\n",
       "    <tr>\n",
       "      <th>3</th>\n",
       "      <td>380</td>\n",
       "      <td>31</td>\n",
       "      <td>0.918421</td>\n",
       "    </tr>\n",
       "  </tbody>\n",
       "</table>\n",
       "</div>"
      ],
      "text/plain": [
       "                 debt          return\n",
       "                count   sum          \n",
       "children_final                       \n",
       "0               14091  1063  0.924562\n",
       "1                4808   444  0.907654\n",
       "2                2052   194  0.905458\n",
       "3                 380    31  0.918421"
      ]
     },
     "metadata": {},
     "output_type": "display_data"
    }
   ],
   "source": [
    "# Ваш код будет здесь. Вы можете создавать новые ячейки.\n",
    "\n",
    "# группируем датафрейм по кол-ву детей и выводим общее кол-во клиентов в каждой группе и кол-во клиентов с задолженностью\n",
    "pivot_table = data.groupby('children').agg({'debt': ['count', 'sum']})\n",
    "# добавляем столбец с долей возврата кредита\n",
    "pivot_table['return'] = 1 - (pivot_table['debt']['sum'] / pivot_table['debt']['count'])\n",
    "\n",
    "display(pivot_table.head(20))\n",
    "\n",
    "#Количество клиентов в выборке с четырьмя и более детьми - небольшое, поэтому добавим данные этих групп в группу с тремя детьми.\n",
    "#Создадим новый столбец children_final\n",
    "\n",
    "data['children_final'] = data['children'] \n",
    "data.loc[data['children_final'] > 3, 'children_final'] = 3\n",
    "\n",
    "#Выводим пересчитанные данные\n",
    "pivot_table = data.groupby('children_final').agg({'debt': ['count', 'sum']})\n",
    "pivot_table['return'] = 1 - (pivot_table['debt']['sum'] / pivot_table['debt']['count'])\n",
    "\n",
    "display(pivot_table.head(20))"
   ]
  },
  {
   "cell_type": "markdown",
   "id": "3b269cdd",
   "metadata": {
    "deletable": false,
    "id": "3a6b99ec"
   },
   "source": [
    "**Вывод:** \n",
    "Обнаружена зависимость между количеством детей и возвратом кредита в срок.\n",
    "Самая высокая доля возврата кредита без задолженности  - среди клиентов, не имеющих детей (92,5%). Клиенты с одним или двумя детьми показали худший результат - доля возрата кредита в срок на 1,7 и 1,9 %% соотвественно ниже первой группы. При этом среди клиентов с тремя и более детьми зафиксирована высокая возвращаемость - 91,8%, что всего на 0,6% ниже по сравнению с группой без детей. "
   ]
  },
  {
   "cell_type": "markdown",
   "id": "c7a3695c",
   "metadata": {
    "deletable": false,
    "editable": false,
    "id": "97be82ca"
   },
   "source": [
    "#### 3.2 Есть ли зависимость между семейным положением и возвратом кредита в срок?"
   ]
  },
  {
   "cell_type": "code",
   "execution_count": 23,
   "id": "7391591b",
   "metadata": {
    "deletable": false,
    "id": "dc3f7ee8"
   },
   "outputs": [
    {
     "data": {
      "text/html": [
       "<div>\n",
       "<style scoped>\n",
       "    .dataframe tbody tr th:only-of-type {\n",
       "        vertical-align: middle;\n",
       "    }\n",
       "\n",
       "    .dataframe tbody tr th {\n",
       "        vertical-align: top;\n",
       "    }\n",
       "\n",
       "    .dataframe thead tr th {\n",
       "        text-align: left;\n",
       "    }\n",
       "\n",
       "    .dataframe thead tr:last-of-type th {\n",
       "        text-align: right;\n",
       "    }\n",
       "</style>\n",
       "<table border=\"1\" class=\"dataframe\">\n",
       "  <thead>\n",
       "    <tr>\n",
       "      <th></th>\n",
       "      <th colspan=\"2\" halign=\"left\">debt</th>\n",
       "      <th>return</th>\n",
       "    </tr>\n",
       "    <tr>\n",
       "      <th></th>\n",
       "      <th>count</th>\n",
       "      <th>sum</th>\n",
       "      <th></th>\n",
       "    </tr>\n",
       "    <tr>\n",
       "      <th>family_status</th>\n",
       "      <th></th>\n",
       "      <th></th>\n",
       "      <th></th>\n",
       "    </tr>\n",
       "  </thead>\n",
       "  <tbody>\n",
       "    <tr>\n",
       "      <th>вдовец / вдова</th>\n",
       "      <td>951</td>\n",
       "      <td>63</td>\n",
       "      <td>0.933754</td>\n",
       "    </tr>\n",
       "    <tr>\n",
       "      <th>в разводе</th>\n",
       "      <td>1189</td>\n",
       "      <td>84</td>\n",
       "      <td>0.929352</td>\n",
       "    </tr>\n",
       "    <tr>\n",
       "      <th>женат / замужем</th>\n",
       "      <td>12261</td>\n",
       "      <td>927</td>\n",
       "      <td>0.924394</td>\n",
       "    </tr>\n",
       "    <tr>\n",
       "      <th>гражданский брак</th>\n",
       "      <td>4134</td>\n",
       "      <td>385</td>\n",
       "      <td>0.906870</td>\n",
       "    </tr>\n",
       "    <tr>\n",
       "      <th>Не женат / не замужем</th>\n",
       "      <td>2796</td>\n",
       "      <td>273</td>\n",
       "      <td>0.902361</td>\n",
       "    </tr>\n",
       "  </tbody>\n",
       "</table>\n",
       "</div>"
      ],
      "text/plain": [
       "                        debt         return\n",
       "                       count  sum          \n",
       "family_status                              \n",
       "вдовец / вдова           951   63  0.933754\n",
       "в разводе               1189   84  0.929352\n",
       "женат / замужем        12261  927  0.924394\n",
       "гражданский брак        4134  385  0.906870\n",
       "Не женат / не замужем   2796  273  0.902361"
      ]
     },
     "metadata": {},
     "output_type": "display_data"
    }
   ],
   "source": [
    "# Ваш код будет здесь. Вы можете создавать новые ячейки.\n",
    "pivot_table = data.groupby('family_status').agg({'debt': ['count', 'sum']})\n",
    "pivot_table['return'] = 1 - (pivot_table['debt']['sum'] / pivot_table['debt']['count'])\n",
    "\n",
    "display(pivot_table.head(20).sort_values(by='return', ascending = False))"
   ]
  },
  {
   "cell_type": "markdown",
   "id": "dab48693",
   "metadata": {
    "deletable": false,
    "id": "1cef7837"
   },
   "source": [
    "**Вывод:** \n",
    "Обнаружена зависимость между семейным положением и возвратом кредита в срок.\n",
    "Низкая возвращаемость кредита зафиксирована среди клиентов в гражданском браке или в статусе \"не женат/не замужем\": 90,7 и 90,2 %% соотвественно.\n",
    "Высокая возращаемость наблюдается в группах \"вдовец / вдова\" и \"в разводе\": 93,4  и  92,9 %% соотвественно.\n",
    "Клиенты, находящиеся в статусе \"женат / замужем\", находятся в середине рейтинга с медианным значением доли возврата кредита - 92,4 %."
   ]
  },
  {
   "cell_type": "markdown",
   "id": "4f61d04a",
   "metadata": {
    "deletable": false,
    "editable": false,
    "id": "1e8b2fca"
   },
   "source": [
    "#### 3.3 Есть ли зависимость между уровнем дохода и возвратом кредита в срок?"
   ]
  },
  {
   "cell_type": "code",
   "execution_count": 24,
   "id": "39ae722e",
   "metadata": {
    "deletable": false,
    "id": "cd7e3720"
   },
   "outputs": [
    {
     "data": {
      "text/html": [
       "<div>\n",
       "<style scoped>\n",
       "    .dataframe tbody tr th:only-of-type {\n",
       "        vertical-align: middle;\n",
       "    }\n",
       "\n",
       "    .dataframe tbody tr th {\n",
       "        vertical-align: top;\n",
       "    }\n",
       "\n",
       "    .dataframe thead tr th {\n",
       "        text-align: left;\n",
       "    }\n",
       "\n",
       "    .dataframe thead tr:last-of-type th {\n",
       "        text-align: right;\n",
       "    }\n",
       "</style>\n",
       "<table border=\"1\" class=\"dataframe\">\n",
       "  <thead>\n",
       "    <tr>\n",
       "      <th></th>\n",
       "      <th colspan=\"2\" halign=\"left\">debt</th>\n",
       "      <th>return</th>\n",
       "    </tr>\n",
       "    <tr>\n",
       "      <th></th>\n",
       "      <th>count</th>\n",
       "      <th>sum</th>\n",
       "      <th></th>\n",
       "    </tr>\n",
       "    <tr>\n",
       "      <th>total_income_category</th>\n",
       "      <th></th>\n",
       "      <th></th>\n",
       "      <th></th>\n",
       "    </tr>\n",
       "  </thead>\n",
       "  <tbody>\n",
       "    <tr>\n",
       "      <th>D</th>\n",
       "      <td>349</td>\n",
       "      <td>21</td>\n",
       "      <td>0.939828</td>\n",
       "    </tr>\n",
       "    <tr>\n",
       "      <th>B</th>\n",
       "      <td>5014</td>\n",
       "      <td>354</td>\n",
       "      <td>0.929398</td>\n",
       "    </tr>\n",
       "    <tr>\n",
       "      <th>A</th>\n",
       "      <td>25</td>\n",
       "      <td>2</td>\n",
       "      <td>0.920000</td>\n",
       "    </tr>\n",
       "    <tr>\n",
       "      <th>C</th>\n",
       "      <td>15921</td>\n",
       "      <td>1353</td>\n",
       "      <td>0.915018</td>\n",
       "    </tr>\n",
       "    <tr>\n",
       "      <th>E</th>\n",
       "      <td>22</td>\n",
       "      <td>2</td>\n",
       "      <td>0.909091</td>\n",
       "    </tr>\n",
       "  </tbody>\n",
       "</table>\n",
       "</div>"
      ],
      "text/plain": [
       "                        debt          return\n",
       "                       count   sum          \n",
       "total_income_category                       \n",
       "D                        349    21  0.939828\n",
       "B                       5014   354  0.929398\n",
       "A                         25     2  0.920000\n",
       "C                      15921  1353  0.915018\n",
       "E                         22     2  0.909091"
      ]
     },
     "metadata": {},
     "output_type": "display_data"
    }
   ],
   "source": [
    "# Ваш код будет здесь. Вы можете создавать новые ячейки.\n",
    "pivot_table = data.groupby('total_income_category').agg({'debt': ['count', 'sum']})\n",
    "pivot_table['return'] = 1 - (pivot_table['debt']['sum'] / pivot_table['debt']['count'])\n",
    "\n",
    "display(pivot_table.head(20).sort_values(by='return', ascending = False))\n"
   ]
  },
  {
   "cell_type": "markdown",
   "id": "9e68795c",
   "metadata": {
    "deletable": false,
    "id": "e8593def"
   },
   "source": [
    "**Вывод:** \n",
    "Самая многочисленная группа - клиенты со средним уровнем дохода, возвращает кредиты в срок хуже (возвращаемость 91,5%), чем клиенты с доходом ниже среднего и выше среднего  - 92,9 и 94 %% соответственно. \n",
    "Брать в сравнение группы А и Е будет некорректно, т.к. выборки очень маленькие в сравнении с остальными группами.\n",
    "Зависимость между уровнем дохода и возвратом кредита в срок есть, но, возможно, низкую возвращаемость кредитов в группе С можно объяснить ее многочисленностью и, следовательно, неоднородностью."
   ]
  },
  {
   "cell_type": "markdown",
   "id": "2b5a5177",
   "metadata": {
    "deletable": false,
    "editable": false,
    "id": "99ecbd1f"
   },
   "source": [
    "#### 3.4 Как разные цели кредита влияют на его возврат в срок?"
   ]
  },
  {
   "cell_type": "code",
   "execution_count": 25,
   "id": "81230f07",
   "metadata": {
    "deletable": false,
    "id": "2b687290"
   },
   "outputs": [
    {
     "data": {
      "text/html": [
       "<div>\n",
       "<style scoped>\n",
       "    .dataframe tbody tr th:only-of-type {\n",
       "        vertical-align: middle;\n",
       "    }\n",
       "\n",
       "    .dataframe tbody tr th {\n",
       "        vertical-align: top;\n",
       "    }\n",
       "\n",
       "    .dataframe thead tr th {\n",
       "        text-align: left;\n",
       "    }\n",
       "\n",
       "    .dataframe thead tr:last-of-type th {\n",
       "        text-align: right;\n",
       "    }\n",
       "</style>\n",
       "<table border=\"1\" class=\"dataframe\">\n",
       "  <thead>\n",
       "    <tr>\n",
       "      <th></th>\n",
       "      <th colspan=\"2\" halign=\"left\">debt</th>\n",
       "      <th>return</th>\n",
       "    </tr>\n",
       "    <tr>\n",
       "      <th></th>\n",
       "      <th>count</th>\n",
       "      <th>sum</th>\n",
       "      <th></th>\n",
       "    </tr>\n",
       "    <tr>\n",
       "      <th>purpose_category</th>\n",
       "      <th></th>\n",
       "      <th></th>\n",
       "      <th></th>\n",
       "    </tr>\n",
       "  </thead>\n",
       "  <tbody>\n",
       "    <tr>\n",
       "      <th>операции с недвижимостью</th>\n",
       "      <td>10751</td>\n",
       "      <td>780</td>\n",
       "      <td>0.927449</td>\n",
       "    </tr>\n",
       "    <tr>\n",
       "      <th>проведение свадьбы</th>\n",
       "      <td>2313</td>\n",
       "      <td>183</td>\n",
       "      <td>0.920882</td>\n",
       "    </tr>\n",
       "    <tr>\n",
       "      <th>получение образования</th>\n",
       "      <td>3988</td>\n",
       "      <td>369</td>\n",
       "      <td>0.907472</td>\n",
       "    </tr>\n",
       "    <tr>\n",
       "      <th>операции с автомобилем</th>\n",
       "      <td>4279</td>\n",
       "      <td>400</td>\n",
       "      <td>0.906520</td>\n",
       "    </tr>\n",
       "  </tbody>\n",
       "</table>\n",
       "</div>"
      ],
      "text/plain": [
       "                           debt         return\n",
       "                          count  sum          \n",
       "purpose_category                              \n",
       "операции с недвижимостью  10751  780  0.927449\n",
       "проведение свадьбы         2313  183  0.920882\n",
       "получение образования      3988  369  0.907472\n",
       "операции с автомобилем     4279  400  0.906520"
      ]
     },
     "metadata": {},
     "output_type": "display_data"
    }
   ],
   "source": [
    "# Ваш код будет здесь. Вы можете создавать новые ячейки.\n",
    "pivot_table = data.groupby('purpose_category').agg({'debt': ['count', 'sum']})\n",
    "pivot_table['return'] = 1 - (pivot_table['debt']['sum'] / pivot_table['debt']['count'])\n",
    "\n",
    "display(pivot_table.head(20).sort_values(by='return', ascending = False))\n"
   ]
  },
  {
   "cell_type": "markdown",
   "id": "444231ea",
   "metadata": {
    "deletable": false,
    "id": "b4bb2ce6"
   },
   "source": [
    "**Вывод:** \n",
    "Чаще всего возвращают кредиты, взятые с целью операций с недвижимостью или проведения свадьбы - 92,7 и 92,1 %% соответсвенно, реже возвращают кредиты на получение образования или операции с автомобилем - доля возвращенных в срок кредитов составляет 90,7 % в обеих группах."
   ]
  },
  {
   "cell_type": "markdown",
   "id": "d2cc95fd",
   "metadata": {
    "deletable": false,
    "editable": false,
    "id": "09c3ac4c"
   },
   "source": [
    "#### 3.5 Приведите возможные причины появления пропусков в исходных данных."
   ]
  },
  {
   "cell_type": "markdown",
   "id": "3add4ce1",
   "metadata": {
    "deletable": false,
    "id": "9da2ceda"
   },
   "source": [
    "*Ответ:* \n",
    "Кодом print(data[data.isna().any(axis=1)].groupby('income_type')['children'].count()) на 4 шаге (до обработки пропусков) проверила гипотезу, что пропуски в столбцах days_employed и total_income могут объясняться типом занятости. Гипотеза не подтвердилась. Поэтому возможные причины появления пропусков вижу две:\n",
    "    1. Клиент не предоставил данные / данные в систему были внесены некорректно.\n",
    "    2. Данные были утеряны при обработке в КХД в связи с некорретным форматом исходных данных.\n"
   ]
  },
  {
   "cell_type": "markdown",
   "id": "f2135dea",
   "metadata": {
    "deletable": false,
    "editable": false,
    "id": "7b0487d6"
   },
   "source": [
    "#### 3.6 Объясните, почему заполнить пропуски медианным значением — лучшее решение для количественных переменных."
   ]
  },
  {
   "cell_type": "markdown",
   "id": "8fe7ae93",
   "metadata": {
    "deletable": false,
    "id": "7ecf2b8e"
   },
   "source": [
    "*Ответ:* \n",
    "Пропуски в количественных переменных принято заполнять типичным значением выборки. Выбирают медианное значение, а не среднее арифмитическое в связи с тем, что в выборке наблюдается неравномерное распределение: встречаются очень большие или очень маленькие значения, которые при подсчете среднего влияют на перекос в большую или меньшую сторону. "
   ]
  },
  {
   "cell_type": "markdown",
   "id": "4c9be4ac",
   "metadata": {
    "deletable": false,
    "editable": false,
    "id": "6db5255a"
   },
   "source": [
    "### Шаг 4: общий вывод."
   ]
  },
  {
   "cell_type": "markdown",
   "id": "b6eab022",
   "metadata": {
    "deletable": false,
    "id": "bad65432"
   },
   "source": [
    "Напишите ваш общий вывод.\n",
    "\n",
    "Результаты исследования показали, что наличие детей влияет на возврат кредита в срок: клиенты, не имеющие детей или имеющие три и более ребенка, чаще возвращают кредит без задолженностей, чем клиенты с одним или двумя детьми.\n",
    "Также среди клиентов, находящихся в данный момент или ранее в браке, возвращаемость выше в сравнении с клиентами, состоящими в гражданском браке или не состоящими в браке.\n",
    "Лучше возвращают кредиты клиенты в группе с доходом ниже или выше среднего. Объяснить более низкую возвращаемость кредитов в группе со средним уровнем дохода можно объяснить ее многочисленностью и, следовательно, неоднородностью. Провести анализ среди клиентов в самым высоким или самым низким уровнями дохода не представляется возможным в связи с маленьким объемом выборки.\n",
    "Чаще всего возвращают кредиты в срок, взятые с целью операций с недвижимостью или проведения свадьбы, реже - на получение образования или операции с автомобилем."
   ]
  }
 ],
 "metadata": {
  "ExecuteTimeLog": [
   {
    "duration": 46,
    "start_time": "2024-06-13T17:39:36.121Z"
   },
   {
    "duration": 463,
    "start_time": "2024-06-13T17:39:45.734Z"
   },
   {
    "duration": 21,
    "start_time": "2024-06-13T17:39:46.199Z"
   },
   {
    "duration": 15,
    "start_time": "2024-06-13T17:39:46.221Z"
   },
   {
    "duration": 10,
    "start_time": "2024-06-13T17:39:46.238Z"
   },
   {
    "duration": 55,
    "start_time": "2024-06-13T17:39:46.249Z"
   },
   {
    "duration": 3,
    "start_time": "2024-06-13T17:39:46.306Z"
   },
   {
    "duration": 8,
    "start_time": "2024-06-13T17:39:46.310Z"
   },
   {
    "duration": 3,
    "start_time": "2024-06-13T17:39:46.320Z"
   },
   {
    "duration": 10,
    "start_time": "2024-06-13T17:39:46.324Z"
   },
   {
    "duration": 4,
    "start_time": "2024-06-13T17:39:46.338Z"
   },
   {
    "duration": 61,
    "start_time": "2024-06-13T17:39:46.343Z"
   },
   {
    "duration": 10,
    "start_time": "2024-06-13T17:39:46.405Z"
   },
   {
    "duration": 4,
    "start_time": "2024-06-13T17:39:46.417Z"
   },
   {
    "duration": 12,
    "start_time": "2024-06-13T17:39:46.422Z"
   },
   {
    "duration": 25,
    "start_time": "2024-06-13T17:39:46.435Z"
   },
   {
    "duration": 39,
    "start_time": "2024-06-13T17:39:46.461Z"
   },
   {
    "duration": 4,
    "start_time": "2024-06-13T17:39:46.501Z"
   },
   {
    "duration": 11,
    "start_time": "2024-06-13T17:39:46.506Z"
   },
   {
    "duration": 6,
    "start_time": "2024-06-13T17:39:46.519Z"
   },
   {
    "duration": 3,
    "start_time": "2024-06-13T17:39:46.527Z"
   },
   {
    "duration": 9,
    "start_time": "2024-06-13T17:39:46.531Z"
   },
   {
    "duration": 9,
    "start_time": "2024-06-13T17:39:46.542Z"
   },
   {
    "duration": 2,
    "start_time": "2024-06-13T17:39:46.553Z"
   },
   {
    "duration": 43,
    "start_time": "2024-06-13T17:39:46.556Z"
   },
   {
    "duration": 9,
    "start_time": "2024-06-13T17:39:46.601Z"
   },
   {
    "duration": 6,
    "start_time": "2024-06-13T17:42:02.164Z"
   },
   {
    "duration": 77,
    "start_time": "2024-06-13T17:48:05.674Z"
   },
   {
    "duration": 8,
    "start_time": "2024-06-13T17:48:17.579Z"
   },
   {
    "duration": 9,
    "start_time": "2024-06-13T17:48:39.790Z"
   },
   {
    "duration": 7,
    "start_time": "2024-06-13T17:49:08.956Z"
   },
   {
    "duration": 7,
    "start_time": "2024-06-13T17:49:11.351Z"
   },
   {
    "duration": 8,
    "start_time": "2024-06-13T17:49:32.634Z"
   },
   {
    "duration": 7,
    "start_time": "2024-06-13T17:52:17.462Z"
   },
   {
    "duration": 9,
    "start_time": "2024-06-13T17:53:02.469Z"
   },
   {
    "duration": 9,
    "start_time": "2024-06-13T17:54:16.969Z"
   },
   {
    "duration": 10,
    "start_time": "2024-06-13T17:55:11.160Z"
   },
   {
    "duration": 10,
    "start_time": "2024-06-13T18:00:12.031Z"
   },
   {
    "duration": 66,
    "start_time": "2024-06-13T18:03:36.284Z"
   },
   {
    "duration": 10,
    "start_time": "2024-06-13T18:03:45.988Z"
   },
   {
    "duration": 56,
    "start_time": "2024-06-13T18:10:46.963Z"
   },
   {
    "duration": 53,
    "start_time": "2024-06-13T18:10:57.152Z"
   },
   {
    "duration": 11,
    "start_time": "2024-06-13T18:11:02.171Z"
   },
   {
    "duration": 14,
    "start_time": "2024-06-13T18:11:06.001Z"
   },
   {
    "duration": 10,
    "start_time": "2024-06-13T18:11:08.628Z"
   },
   {
    "duration": 10,
    "start_time": "2024-06-13T18:11:35.279Z"
   },
   {
    "duration": 724,
    "start_time": "2024-06-13T18:15:56.399Z"
   },
   {
    "duration": 1448,
    "start_time": "2024-06-13T18:16:41.515Z"
   },
   {
    "duration": 17,
    "start_time": "2024-06-13T18:17:24.495Z"
   },
   {
    "duration": 11,
    "start_time": "2024-06-13T18:19:11.878Z"
   },
   {
    "duration": 11,
    "start_time": "2024-06-13T18:20:37.130Z"
   },
   {
    "duration": 43,
    "start_time": "2024-06-14T09:51:00.614Z"
   },
   {
    "duration": 581,
    "start_time": "2024-06-14T09:51:08.912Z"
   },
   {
    "duration": 18,
    "start_time": "2024-06-14T09:51:09.494Z"
   },
   {
    "duration": 30,
    "start_time": "2024-06-14T09:51:09.513Z"
   },
   {
    "duration": 8,
    "start_time": "2024-06-14T09:51:09.544Z"
   },
   {
    "duration": 41,
    "start_time": "2024-06-14T09:51:09.553Z"
   },
   {
    "duration": 3,
    "start_time": "2024-06-14T09:51:09.596Z"
   },
   {
    "duration": 16,
    "start_time": "2024-06-14T09:51:09.600Z"
   },
   {
    "duration": 6,
    "start_time": "2024-06-14T09:51:09.618Z"
   },
   {
    "duration": 12,
    "start_time": "2024-06-14T09:51:09.625Z"
   },
   {
    "duration": 8,
    "start_time": "2024-06-14T09:51:09.639Z"
   },
   {
    "duration": 39,
    "start_time": "2024-06-14T09:51:09.648Z"
   },
   {
    "duration": 7,
    "start_time": "2024-06-14T09:51:09.688Z"
   },
   {
    "duration": 10,
    "start_time": "2024-06-14T09:51:09.697Z"
   },
   {
    "duration": 23,
    "start_time": "2024-06-14T09:51:09.708Z"
   },
   {
    "duration": 23,
    "start_time": "2024-06-14T09:51:09.732Z"
   },
   {
    "duration": 16,
    "start_time": "2024-06-14T09:51:09.756Z"
   },
   {
    "duration": 3,
    "start_time": "2024-06-14T09:51:09.773Z"
   },
   {
    "duration": 30,
    "start_time": "2024-06-14T09:51:09.777Z"
   },
   {
    "duration": 6,
    "start_time": "2024-06-14T09:51:09.808Z"
   },
   {
    "duration": 7,
    "start_time": "2024-06-14T09:51:09.815Z"
   },
   {
    "duration": 20,
    "start_time": "2024-06-14T09:51:09.823Z"
   },
   {
    "duration": 851,
    "start_time": "2024-06-14T09:51:09.844Z"
   },
   {
    "duration": 0,
    "start_time": "2024-06-14T09:51:10.697Z"
   },
   {
    "duration": 0,
    "start_time": "2024-06-14T09:51:10.699Z"
   },
   {
    "duration": 0,
    "start_time": "2024-06-14T09:51:10.700Z"
   },
   {
    "duration": 7,
    "start_time": "2024-06-14T09:51:38.216Z"
   },
   {
    "duration": 10,
    "start_time": "2024-06-14T09:53:16.002Z"
   },
   {
    "duration": 9,
    "start_time": "2024-06-14T09:53:21.417Z"
   },
   {
    "duration": 10,
    "start_time": "2024-06-14T10:29:53.960Z"
   },
   {
    "duration": 15,
    "start_time": "2024-06-14T10:30:32.062Z"
   },
   {
    "duration": 21,
    "start_time": "2024-06-14T10:39:54.099Z"
   },
   {
    "duration": 10,
    "start_time": "2024-06-14T10:40:03.940Z"
   },
   {
    "duration": 10,
    "start_time": "2024-06-14T10:40:27.717Z"
   },
   {
    "duration": 10,
    "start_time": "2024-06-14T10:40:34.053Z"
   },
   {
    "duration": 442,
    "start_time": "2024-06-14T10:40:42.183Z"
   },
   {
    "duration": 20,
    "start_time": "2024-06-14T10:40:42.626Z"
   },
   {
    "duration": 13,
    "start_time": "2024-06-14T10:40:42.647Z"
   },
   {
    "duration": 8,
    "start_time": "2024-06-14T10:40:42.662Z"
   },
   {
    "duration": 43,
    "start_time": "2024-06-14T10:40:42.671Z"
   },
   {
    "duration": 4,
    "start_time": "2024-06-14T10:40:42.715Z"
   },
   {
    "duration": 8,
    "start_time": "2024-06-14T10:40:42.721Z"
   },
   {
    "duration": 3,
    "start_time": "2024-06-14T10:40:42.730Z"
   },
   {
    "duration": 18,
    "start_time": "2024-06-14T10:40:42.735Z"
   },
   {
    "duration": 5,
    "start_time": "2024-06-14T10:40:42.755Z"
   },
   {
    "duration": 48,
    "start_time": "2024-06-14T10:40:42.761Z"
   },
   {
    "duration": 9,
    "start_time": "2024-06-14T10:40:42.810Z"
   },
   {
    "duration": 9,
    "start_time": "2024-06-14T10:40:42.820Z"
   },
   {
    "duration": 12,
    "start_time": "2024-06-14T10:40:42.830Z"
   },
   {
    "duration": 18,
    "start_time": "2024-06-14T10:40:42.843Z"
   },
   {
    "duration": 31,
    "start_time": "2024-06-14T10:40:42.862Z"
   },
   {
    "duration": 3,
    "start_time": "2024-06-14T10:40:42.894Z"
   },
   {
    "duration": 11,
    "start_time": "2024-06-14T10:40:42.899Z"
   },
   {
    "duration": 6,
    "start_time": "2024-06-14T10:40:42.911Z"
   },
   {
    "duration": 3,
    "start_time": "2024-06-14T10:40:42.919Z"
   },
   {
    "duration": 9,
    "start_time": "2024-06-14T10:40:42.923Z"
   },
   {
    "duration": 11,
    "start_time": "2024-06-14T10:40:42.933Z"
   },
   {
    "duration": 40,
    "start_time": "2024-06-14T10:40:42.946Z"
   },
   {
    "duration": 9,
    "start_time": "2024-06-14T10:40:42.987Z"
   },
   {
    "duration": 2,
    "start_time": "2024-06-14T10:40:42.997Z"
   },
   {
    "duration": 11,
    "start_time": "2024-06-14T10:42:57.334Z"
   },
   {
    "duration": 11,
    "start_time": "2024-06-14T10:43:06.460Z"
   },
   {
    "duration": 70,
    "start_time": "2024-06-14T10:43:24.136Z"
   },
   {
    "duration": 17,
    "start_time": "2024-06-14T10:43:57.328Z"
   },
   {
    "duration": 15,
    "start_time": "2024-06-14T10:44:07.897Z"
   },
   {
    "duration": 15,
    "start_time": "2024-06-14T10:46:06.120Z"
   },
   {
    "duration": 15,
    "start_time": "2024-06-14T10:47:08.611Z"
   },
   {
    "duration": 16,
    "start_time": "2024-06-14T10:47:27.245Z"
   },
   {
    "duration": 9,
    "start_time": "2024-06-14T11:11:33.426Z"
   },
   {
    "duration": 11,
    "start_time": "2024-06-14T11:12:59.562Z"
   },
   {
    "duration": 12,
    "start_time": "2024-06-14T11:14:31.854Z"
   },
   {
    "duration": 10,
    "start_time": "2024-06-14T11:28:56.425Z"
   },
   {
    "duration": 12,
    "start_time": "2024-06-14T11:29:14.897Z"
   },
   {
    "duration": 11,
    "start_time": "2024-06-14T11:31:03.285Z"
   },
   {
    "duration": 52,
    "start_time": "2024-06-15T10:17:11.686Z"
   },
   {
    "duration": 649,
    "start_time": "2024-06-15T10:17:22.242Z"
   },
   {
    "duration": 25,
    "start_time": "2024-06-15T10:17:23.820Z"
   },
   {
    "duration": 16,
    "start_time": "2024-06-15T10:17:26.198Z"
   },
   {
    "duration": 11,
    "start_time": "2024-06-15T10:17:29.012Z"
   },
   {
    "duration": 42,
    "start_time": "2024-06-15T10:18:44.038Z"
   },
   {
    "duration": 34,
    "start_time": "2024-06-15T10:18:54.014Z"
   },
   {
    "duration": 21,
    "start_time": "2024-06-15T10:19:04.359Z"
   },
   {
    "duration": 57,
    "start_time": "2024-06-15T10:20:08.447Z"
   },
   {
    "duration": 54,
    "start_time": "2024-06-15T10:20:33.210Z"
   },
   {
    "duration": 29,
    "start_time": "2024-06-15T10:20:38.859Z"
   },
   {
    "duration": 23,
    "start_time": "2024-06-15T10:21:23.323Z"
   },
   {
    "duration": 25,
    "start_time": "2024-06-15T10:22:04.209Z"
   },
   {
    "duration": 37,
    "start_time": "2024-06-15T10:22:19.850Z"
   },
   {
    "duration": 31,
    "start_time": "2024-06-15T10:22:35.148Z"
   },
   {
    "duration": 16,
    "start_time": "2024-06-15T10:23:15.808Z"
   },
   {
    "duration": 17,
    "start_time": "2024-06-15T10:24:23.415Z"
   },
   {
    "duration": 13,
    "start_time": "2024-06-15T10:27:36.585Z"
   },
   {
    "duration": 493,
    "start_time": "2024-06-15T10:28:28.703Z"
   },
   {
    "duration": 23,
    "start_time": "2024-06-15T10:28:29.198Z"
   },
   {
    "duration": 16,
    "start_time": "2024-06-15T10:28:29.222Z"
   },
   {
    "duration": 11,
    "start_time": "2024-06-15T10:28:29.239Z"
   },
   {
    "duration": 54,
    "start_time": "2024-06-15T10:28:29.251Z"
   },
   {
    "duration": 3,
    "start_time": "2024-06-15T10:28:29.307Z"
   },
   {
    "duration": 10,
    "start_time": "2024-06-15T10:28:29.311Z"
   },
   {
    "duration": 4,
    "start_time": "2024-06-15T10:28:29.322Z"
   },
   {
    "duration": 6,
    "start_time": "2024-06-15T10:28:29.327Z"
   },
   {
    "duration": 5,
    "start_time": "2024-06-15T10:28:29.336Z"
   },
   {
    "duration": 66,
    "start_time": "2024-06-15T10:28:29.343Z"
   },
   {
    "duration": 12,
    "start_time": "2024-06-15T10:28:29.411Z"
   },
   {
    "duration": 4,
    "start_time": "2024-06-15T10:28:29.425Z"
   },
   {
    "duration": 13,
    "start_time": "2024-06-15T10:28:29.431Z"
   },
   {
    "duration": 54,
    "start_time": "2024-06-15T10:28:29.445Z"
   },
   {
    "duration": 17,
    "start_time": "2024-06-15T10:28:29.501Z"
   },
   {
    "duration": 4,
    "start_time": "2024-06-15T10:28:29.519Z"
   },
   {
    "duration": 16,
    "start_time": "2024-06-15T10:28:29.524Z"
   },
   {
    "duration": 5,
    "start_time": "2024-06-15T10:28:29.542Z"
   },
   {
    "duration": 4,
    "start_time": "2024-06-15T10:28:29.549Z"
   },
   {
    "duration": 10,
    "start_time": "2024-06-15T10:28:29.555Z"
   },
   {
    "duration": 42,
    "start_time": "2024-06-15T10:28:29.567Z"
   },
   {
    "duration": 14,
    "start_time": "2024-06-15T10:28:29.611Z"
   },
   {
    "duration": 13,
    "start_time": "2024-06-15T10:28:29.626Z"
   },
   {
    "duration": 17,
    "start_time": "2024-06-15T10:28:29.640Z"
   },
   {
    "duration": 550,
    "start_time": "2024-06-15T12:17:56.640Z"
   },
   {
    "duration": 17,
    "start_time": "2024-06-15T12:17:57.191Z"
   },
   {
    "duration": 11,
    "start_time": "2024-06-15T12:17:57.209Z"
   },
   {
    "duration": 7,
    "start_time": "2024-06-15T12:17:57.221Z"
   },
   {
    "duration": 25,
    "start_time": "2024-06-15T12:17:57.229Z"
   },
   {
    "duration": 3,
    "start_time": "2024-06-15T12:17:57.255Z"
   },
   {
    "duration": 9,
    "start_time": "2024-06-15T12:17:57.259Z"
   },
   {
    "duration": 3,
    "start_time": "2024-06-15T12:17:57.269Z"
   },
   {
    "duration": 6,
    "start_time": "2024-06-15T12:17:57.289Z"
   },
   {
    "duration": 3,
    "start_time": "2024-06-15T12:17:57.297Z"
   },
   {
    "duration": 29,
    "start_time": "2024-06-15T12:17:57.301Z"
   },
   {
    "duration": 8,
    "start_time": "2024-06-15T12:17:57.331Z"
   },
   {
    "duration": 8,
    "start_time": "2024-06-15T12:17:57.340Z"
   },
   {
    "duration": 10,
    "start_time": "2024-06-15T12:17:57.349Z"
   },
   {
    "duration": 35,
    "start_time": "2024-06-15T12:17:57.360Z"
   },
   {
    "duration": 14,
    "start_time": "2024-06-15T12:17:57.396Z"
   },
   {
    "duration": 3,
    "start_time": "2024-06-15T12:17:57.411Z"
   },
   {
    "duration": 8,
    "start_time": "2024-06-15T12:17:57.416Z"
   },
   {
    "duration": 20,
    "start_time": "2024-06-15T12:17:57.425Z"
   },
   {
    "duration": 3,
    "start_time": "2024-06-15T12:17:57.447Z"
   },
   {
    "duration": 21,
    "start_time": "2024-06-15T12:17:57.451Z"
   },
   {
    "duration": 23,
    "start_time": "2024-06-15T12:17:57.474Z"
   },
   {
    "duration": 11,
    "start_time": "2024-06-15T12:17:57.498Z"
   },
   {
    "duration": 9,
    "start_time": "2024-06-15T12:17:57.510Z"
   },
   {
    "duration": 16,
    "start_time": "2024-06-15T12:17:57.520Z"
   },
   {
    "duration": 44,
    "start_time": "2024-06-16T10:20:32.123Z"
   },
   {
    "duration": 571,
    "start_time": "2024-06-16T10:31:43.183Z"
   },
   {
    "duration": 21,
    "start_time": "2024-06-16T10:31:43.755Z"
   },
   {
    "duration": 54,
    "start_time": "2024-06-16T10:31:43.777Z"
   },
   {
    "duration": 10,
    "start_time": "2024-06-16T10:31:43.833Z"
   },
   {
    "duration": 33,
    "start_time": "2024-06-16T10:31:43.845Z"
   },
   {
    "duration": 3,
    "start_time": "2024-06-16T10:31:43.879Z"
   },
   {
    "duration": 9,
    "start_time": "2024-06-16T10:31:43.884Z"
   },
   {
    "duration": 6,
    "start_time": "2024-06-16T10:31:43.894Z"
   },
   {
    "duration": 9,
    "start_time": "2024-06-16T10:31:43.902Z"
   },
   {
    "duration": 6,
    "start_time": "2024-06-16T10:31:43.913Z"
   },
   {
    "duration": 45,
    "start_time": "2024-06-16T10:31:43.920Z"
   },
   {
    "duration": 9,
    "start_time": "2024-06-16T10:31:43.966Z"
   },
   {
    "duration": 13,
    "start_time": "2024-06-16T10:31:43.976Z"
   },
   {
    "duration": 16,
    "start_time": "2024-06-16T10:31:43.990Z"
   },
   {
    "duration": 18,
    "start_time": "2024-06-16T10:31:44.007Z"
   },
   {
    "duration": 15,
    "start_time": "2024-06-16T10:31:44.027Z"
   },
   {
    "duration": 3,
    "start_time": "2024-06-16T10:31:44.043Z"
   },
   {
    "duration": 11,
    "start_time": "2024-06-16T10:31:44.064Z"
   },
   {
    "duration": 8,
    "start_time": "2024-06-16T10:31:44.076Z"
   },
   {
    "duration": 4,
    "start_time": "2024-06-16T10:31:44.086Z"
   },
   {
    "duration": 10,
    "start_time": "2024-06-16T10:31:44.092Z"
   },
   {
    "duration": 21,
    "start_time": "2024-06-16T10:31:44.104Z"
   },
   {
    "duration": 39,
    "start_time": "2024-06-16T10:31:44.127Z"
   },
   {
    "duration": 16,
    "start_time": "2024-06-16T10:31:44.167Z"
   },
   {
    "duration": 16,
    "start_time": "2024-06-16T10:31:44.184Z"
   },
   {
    "duration": 24,
    "start_time": "2024-06-16T10:33:55.121Z"
   },
   {
    "duration": 435,
    "start_time": "2024-06-16T15:24:55.884Z"
   },
   {
    "duration": 22,
    "start_time": "2024-06-16T15:24:56.320Z"
   },
   {
    "duration": 19,
    "start_time": "2024-06-16T15:24:56.343Z"
   },
   {
    "duration": 10,
    "start_time": "2024-06-16T15:24:56.364Z"
   },
   {
    "duration": 34,
    "start_time": "2024-06-16T15:24:56.375Z"
   },
   {
    "duration": 3,
    "start_time": "2024-06-16T15:24:56.411Z"
   },
   {
    "duration": 10,
    "start_time": "2024-06-16T15:24:56.416Z"
   },
   {
    "duration": 27,
    "start_time": "2024-06-16T15:24:56.428Z"
   },
   {
    "duration": 9,
    "start_time": "2024-06-16T15:24:56.456Z"
   },
   {
    "duration": 24,
    "start_time": "2024-06-16T15:24:56.467Z"
   },
   {
    "duration": 42,
    "start_time": "2024-06-16T15:24:56.492Z"
   },
   {
    "duration": 15,
    "start_time": "2024-06-16T15:24:56.536Z"
   },
   {
    "duration": 4,
    "start_time": "2024-06-16T15:24:56.553Z"
   },
   {
    "duration": 30,
    "start_time": "2024-06-16T15:24:56.559Z"
   },
   {
    "duration": 41,
    "start_time": "2024-06-16T15:24:56.591Z"
   },
   {
    "duration": 32,
    "start_time": "2024-06-16T15:24:56.633Z"
   },
   {
    "duration": 5,
    "start_time": "2024-06-16T15:24:56.667Z"
   },
   {
    "duration": 27,
    "start_time": "2024-06-16T15:24:56.673Z"
   },
   {
    "duration": 9,
    "start_time": "2024-06-16T15:24:56.702Z"
   },
   {
    "duration": 5,
    "start_time": "2024-06-16T15:24:56.712Z"
   },
   {
    "duration": 22,
    "start_time": "2024-06-16T15:24:56.719Z"
   },
   {
    "duration": 73,
    "start_time": "2024-06-16T15:24:56.743Z"
   },
   {
    "duration": 38,
    "start_time": "2024-06-16T15:24:56.817Z"
   },
   {
    "duration": 28,
    "start_time": "2024-06-16T15:24:56.857Z"
   },
   {
    "duration": 17,
    "start_time": "2024-06-16T15:24:56.886Z"
   }
  ],
  "celltoolbar": "Отсутствует",
  "colab": {
   "name": "dpp_template_part2.ipynb",
   "provenance": []
  },
  "kernelspec": {
   "display_name": "Python 3 (ipykernel)",
   "language": "python",
   "name": "python3"
  },
  "language_info": {
   "codemirror_mode": {
    "name": "ipython",
    "version": 3
   },
   "file_extension": ".py",
   "mimetype": "text/x-python",
   "name": "python",
   "nbconvert_exporter": "python",
   "pygments_lexer": "ipython3",
   "version": "3.9.18"
  },
  "toc": {
   "base_numbering": 1,
   "nav_menu": {},
   "number_sections": true,
   "sideBar": true,
   "skip_h1_title": true,
   "title_cell": "Table of Contents",
   "title_sidebar": "Содержание",
   "toc_cell": false,
   "toc_position": {
    "height": "calc(100% - 180px)",
    "left": "10px",
    "top": "150px",
    "width": "288px"
   },
   "toc_section_display": true,
   "toc_window_display": true
  }
 },
 "nbformat": 4,
 "nbformat_minor": 5
}
