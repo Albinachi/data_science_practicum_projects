{
 "cells": [
  {
   "cell_type": "markdown",
   "id": "6c7ef30e",
   "metadata": {},
   "source": [
    "# Проект: Исследование сервиса аренды самокатов"
   ]
  },
  {
   "cell_type": "markdown",
   "id": "fd31d71b",
   "metadata": {},
   "source": [
    "**Описание проекта**\n",
    "\n",
    "Вы аналитик популярного сервиса аренды самокатов GoFast. Вам передали данные о некоторых пользователях из нескольких городов, а также об их поездках. Проанализируйте данные и проверьте некоторые гипотезы, которые могут помочь бизнесу вырасти.\n",
    "Чтобы совершать поездки по городу, пользователи сервиса GoFast пользуются мобильным приложением. \n",
    "Сервисом можно пользоваться:\n",
    " - без подписки:\n",
    "* абонентская плата отсутствует;\n",
    "* стоимость одной минуты поездки — 8 рублей;\n",
    "* стоимость старта (начала поездки) — 50 рублей;\n",
    " - с подпиской Ultra:\n",
    "* абонентская плата — 199 рублей в месяц;\n",
    "* стоимость одной минуты поездки — 6 рублей;\n",
    "* стоимость старта — бесплатно."
   ]
  },
  {
   "cell_type": "markdown",
   "id": "990f925a",
   "metadata": {},
   "source": [
    "**Описание датасета**\n",
    "\n",
    "Основная информация о пользователях, их поездках и подписках записана в файле `users_go.csv`:\n",
    "- `user_id` - уникальный идентификатор пользователя;\n",
    "- `name` - \tимя пользователя;\n",
    "- `age` - \tвозраст;\n",
    "- `city` - \tгород;\n",
    "- `subscription_type` - \tтип подписки (free, ultra).\n",
    "\n",
    "Информация о поездках в файле `rides_go.csv`:\n",
    "- `user_id` - \t\tуникальный идентификатор пользователя;\n",
    "- `distance` - \t\tрасстояние, которое пользователь проехал в текущей сессии (в метрах);\n",
    "- `duration` - \t\tпродолжительность сессии (в минутах) — время с того момента, как пользователь нажал кнопку «Начать поездку» до момента, как он нажал кнопку «Завершить поездку»;\n",
    "- `date` -\tдата совершения поездки.\n",
    "\n",
    "Информация о подписках в файле `subscriptions_go.csv`:\n",
    "- `subscription_type` - \t\tтип подписки;\n",
    "- `minute_price` - \t\tстоимость одной минуты поездки по данной подписке;\n",
    "- `start_ride_price` - \t\tстоимость начала поездки;\n",
    "- `subscription_fee` - \t\tстоимость ежемесячного платежа."
   ]
  },
  {
   "cell_type": "code",
   "execution_count": 2,
   "id": "72576667",
   "metadata": {},
   "outputs": [],
   "source": [
    "import pandas as pd\n",
    "import numpy as np\n",
    "import scipy.stats as st"
   ]
  },
  {
   "cell_type": "markdown",
   "id": "c42cbe00",
   "metadata": {},
   "source": [
    "#### Шаг 1. Загрузка данных"
   ]
  },
  {
   "cell_type": "code",
   "execution_count": 4,
   "id": "eff9f206",
   "metadata": {},
   "outputs": [
    {
     "data": {
      "text/html": [
       "<div>\n",
       "<style scoped>\n",
       "    .dataframe tbody tr th:only-of-type {\n",
       "        vertical-align: middle;\n",
       "    }\n",
       "\n",
       "    .dataframe tbody tr th {\n",
       "        vertical-align: top;\n",
       "    }\n",
       "\n",
       "    .dataframe thead th {\n",
       "        text-align: right;\n",
       "    }\n",
       "</style>\n",
       "<table border=\"1\" class=\"dataframe\">\n",
       "  <thead>\n",
       "    <tr style=\"text-align: right;\">\n",
       "      <th></th>\n",
       "      <th>user_id</th>\n",
       "      <th>name</th>\n",
       "      <th>age</th>\n",
       "      <th>city</th>\n",
       "      <th>subscription_type</th>\n",
       "    </tr>\n",
       "  </thead>\n",
       "  <tbody>\n",
       "    <tr>\n",
       "      <th>0</th>\n",
       "      <td>1</td>\n",
       "      <td>Кира</td>\n",
       "      <td>22</td>\n",
       "      <td>Тюмень</td>\n",
       "      <td>ultra</td>\n",
       "    </tr>\n",
       "    <tr>\n",
       "      <th>1</th>\n",
       "      <td>2</td>\n",
       "      <td>Станислав</td>\n",
       "      <td>31</td>\n",
       "      <td>Омск</td>\n",
       "      <td>ultra</td>\n",
       "    </tr>\n",
       "    <tr>\n",
       "      <th>2</th>\n",
       "      <td>3</td>\n",
       "      <td>Алексей</td>\n",
       "      <td>20</td>\n",
       "      <td>Москва</td>\n",
       "      <td>ultra</td>\n",
       "    </tr>\n",
       "    <tr>\n",
       "      <th>3</th>\n",
       "      <td>4</td>\n",
       "      <td>Константин</td>\n",
       "      <td>26</td>\n",
       "      <td>Ростов-на-Дону</td>\n",
       "      <td>ultra</td>\n",
       "    </tr>\n",
       "    <tr>\n",
       "      <th>4</th>\n",
       "      <td>5</td>\n",
       "      <td>Адель</td>\n",
       "      <td>28</td>\n",
       "      <td>Омск</td>\n",
       "      <td>ultra</td>\n",
       "    </tr>\n",
       "  </tbody>\n",
       "</table>\n",
       "</div>"
      ],
      "text/plain": [
       "   user_id        name  age            city subscription_type\n",
       "0        1        Кира   22          Тюмень             ultra\n",
       "1        2   Станислав   31            Омск             ultra\n",
       "2        3     Алексей   20          Москва             ultra\n",
       "3        4  Константин   26  Ростов-на-Дону             ultra\n",
       "4        5       Адель   28            Омск             ultra"
      ]
     },
     "metadata": {},
     "output_type": "display_data"
    },
    {
     "data": {
      "text/html": [
       "<div>\n",
       "<style scoped>\n",
       "    .dataframe tbody tr th:only-of-type {\n",
       "        vertical-align: middle;\n",
       "    }\n",
       "\n",
       "    .dataframe tbody tr th {\n",
       "        vertical-align: top;\n",
       "    }\n",
       "\n",
       "    .dataframe thead th {\n",
       "        text-align: right;\n",
       "    }\n",
       "</style>\n",
       "<table border=\"1\" class=\"dataframe\">\n",
       "  <thead>\n",
       "    <tr style=\"text-align: right;\">\n",
       "      <th></th>\n",
       "      <th>user_id</th>\n",
       "      <th>name</th>\n",
       "      <th>age</th>\n",
       "      <th>city</th>\n",
       "      <th>subscription_type</th>\n",
       "    </tr>\n",
       "  </thead>\n",
       "  <tbody>\n",
       "    <tr>\n",
       "      <th>1560</th>\n",
       "      <td>829</td>\n",
       "      <td>Федор</td>\n",
       "      <td>29</td>\n",
       "      <td>Пятигорск</td>\n",
       "      <td>free</td>\n",
       "    </tr>\n",
       "    <tr>\n",
       "      <th>1561</th>\n",
       "      <td>809</td>\n",
       "      <td>Юрий</td>\n",
       "      <td>26</td>\n",
       "      <td>Сочи</td>\n",
       "      <td>free</td>\n",
       "    </tr>\n",
       "    <tr>\n",
       "      <th>1562</th>\n",
       "      <td>307</td>\n",
       "      <td>Ясмина</td>\n",
       "      <td>19</td>\n",
       "      <td>Краснодар</td>\n",
       "      <td>ultra</td>\n",
       "    </tr>\n",
       "    <tr>\n",
       "      <th>1563</th>\n",
       "      <td>47</td>\n",
       "      <td>Юрий</td>\n",
       "      <td>28</td>\n",
       "      <td>Тюмень</td>\n",
       "      <td>ultra</td>\n",
       "    </tr>\n",
       "    <tr>\n",
       "      <th>1564</th>\n",
       "      <td>1045</td>\n",
       "      <td>Артемий</td>\n",
       "      <td>28</td>\n",
       "      <td>Ростов-на-Дону</td>\n",
       "      <td>free</td>\n",
       "    </tr>\n",
       "  </tbody>\n",
       "</table>\n",
       "</div>"
      ],
      "text/plain": [
       "      user_id     name  age            city subscription_type\n",
       "1560      829    Федор   29       Пятигорск              free\n",
       "1561      809     Юрий   26            Сочи              free\n",
       "1562      307   Ясмина   19       Краснодар             ultra\n",
       "1563       47     Юрий   28          Тюмень             ultra\n",
       "1564     1045  Артемий   28  Ростов-на-Дону              free"
      ]
     },
     "metadata": {},
     "output_type": "display_data"
    },
    {
     "name": "stdout",
     "output_type": "stream",
     "text": [
      "<class 'pandas.core.frame.DataFrame'>\n",
      "RangeIndex: 1565 entries, 0 to 1564\n",
      "Data columns (total 5 columns):\n",
      " #   Column             Non-Null Count  Dtype \n",
      "---  ------             --------------  ----- \n",
      " 0   user_id            1565 non-null   int64 \n",
      " 1   name               1565 non-null   object\n",
      " 2   age                1565 non-null   int64 \n",
      " 3   city               1565 non-null   object\n",
      " 4   subscription_type  1565 non-null   object\n",
      "dtypes: int64(2), object(3)\n",
      "memory usage: 61.3+ KB\n"
     ]
    },
    {
     "data": {
      "text/plain": [
       "None"
      ]
     },
     "metadata": {},
     "output_type": "display_data"
    },
    {
     "data": {
      "text/html": [
       "<div>\n",
       "<style scoped>\n",
       "    .dataframe tbody tr th:only-of-type {\n",
       "        vertical-align: middle;\n",
       "    }\n",
       "\n",
       "    .dataframe tbody tr th {\n",
       "        vertical-align: top;\n",
       "    }\n",
       "\n",
       "    .dataframe thead th {\n",
       "        text-align: right;\n",
       "    }\n",
       "</style>\n",
       "<table border=\"1\" class=\"dataframe\">\n",
       "  <thead>\n",
       "    <tr style=\"text-align: right;\">\n",
       "      <th></th>\n",
       "      <th>user_id</th>\n",
       "      <th>distance</th>\n",
       "      <th>duration</th>\n",
       "      <th>date</th>\n",
       "    </tr>\n",
       "  </thead>\n",
       "  <tbody>\n",
       "    <tr>\n",
       "      <th>0</th>\n",
       "      <td>1</td>\n",
       "      <td>4409.919140</td>\n",
       "      <td>25.599769</td>\n",
       "      <td>2021-01-01</td>\n",
       "    </tr>\n",
       "    <tr>\n",
       "      <th>1</th>\n",
       "      <td>1</td>\n",
       "      <td>2617.592153</td>\n",
       "      <td>15.816871</td>\n",
       "      <td>2021-01-18</td>\n",
       "    </tr>\n",
       "    <tr>\n",
       "      <th>2</th>\n",
       "      <td>1</td>\n",
       "      <td>754.159807</td>\n",
       "      <td>6.232113</td>\n",
       "      <td>2021-04-20</td>\n",
       "    </tr>\n",
       "    <tr>\n",
       "      <th>3</th>\n",
       "      <td>1</td>\n",
       "      <td>2694.783254</td>\n",
       "      <td>18.511000</td>\n",
       "      <td>2021-08-11</td>\n",
       "    </tr>\n",
       "    <tr>\n",
       "      <th>4</th>\n",
       "      <td>1</td>\n",
       "      <td>4028.687306</td>\n",
       "      <td>26.265803</td>\n",
       "      <td>2021-08-28</td>\n",
       "    </tr>\n",
       "  </tbody>\n",
       "</table>\n",
       "</div>"
      ],
      "text/plain": [
       "   user_id     distance   duration        date\n",
       "0        1  4409.919140  25.599769  2021-01-01\n",
       "1        1  2617.592153  15.816871  2021-01-18\n",
       "2        1   754.159807   6.232113  2021-04-20\n",
       "3        1  2694.783254  18.511000  2021-08-11\n",
       "4        1  4028.687306  26.265803  2021-08-28"
      ]
     },
     "metadata": {},
     "output_type": "display_data"
    },
    {
     "data": {
      "text/html": [
       "<div>\n",
       "<style scoped>\n",
       "    .dataframe tbody tr th:only-of-type {\n",
       "        vertical-align: middle;\n",
       "    }\n",
       "\n",
       "    .dataframe tbody tr th {\n",
       "        vertical-align: top;\n",
       "    }\n",
       "\n",
       "    .dataframe thead th {\n",
       "        text-align: right;\n",
       "    }\n",
       "</style>\n",
       "<table border=\"1\" class=\"dataframe\">\n",
       "  <thead>\n",
       "    <tr style=\"text-align: right;\">\n",
       "      <th></th>\n",
       "      <th>user_id</th>\n",
       "      <th>distance</th>\n",
       "      <th>duration</th>\n",
       "      <th>date</th>\n",
       "    </tr>\n",
       "  </thead>\n",
       "  <tbody>\n",
       "    <tr>\n",
       "      <th>18063</th>\n",
       "      <td>1534</td>\n",
       "      <td>3781.098080</td>\n",
       "      <td>19.822962</td>\n",
       "      <td>2021-11-04</td>\n",
       "    </tr>\n",
       "    <tr>\n",
       "      <th>18064</th>\n",
       "      <td>1534</td>\n",
       "      <td>2840.423057</td>\n",
       "      <td>21.409799</td>\n",
       "      <td>2021-11-16</td>\n",
       "    </tr>\n",
       "    <tr>\n",
       "      <th>18065</th>\n",
       "      <td>1534</td>\n",
       "      <td>3826.185507</td>\n",
       "      <td>18.435051</td>\n",
       "      <td>2021-11-18</td>\n",
       "    </tr>\n",
       "    <tr>\n",
       "      <th>18066</th>\n",
       "      <td>1534</td>\n",
       "      <td>2902.308661</td>\n",
       "      <td>16.674362</td>\n",
       "      <td>2021-11-27</td>\n",
       "    </tr>\n",
       "    <tr>\n",
       "      <th>18067</th>\n",
       "      <td>1534</td>\n",
       "      <td>2371.711192</td>\n",
       "      <td>15.893917</td>\n",
       "      <td>2021-12-29</td>\n",
       "    </tr>\n",
       "  </tbody>\n",
       "</table>\n",
       "</div>"
      ],
      "text/plain": [
       "       user_id     distance   duration        date\n",
       "18063     1534  3781.098080  19.822962  2021-11-04\n",
       "18064     1534  2840.423057  21.409799  2021-11-16\n",
       "18065     1534  3826.185507  18.435051  2021-11-18\n",
       "18066     1534  2902.308661  16.674362  2021-11-27\n",
       "18067     1534  2371.711192  15.893917  2021-12-29"
      ]
     },
     "metadata": {},
     "output_type": "display_data"
    },
    {
     "name": "stdout",
     "output_type": "stream",
     "text": [
      "<class 'pandas.core.frame.DataFrame'>\n",
      "RangeIndex: 18068 entries, 0 to 18067\n",
      "Data columns (total 4 columns):\n",
      " #   Column    Non-Null Count  Dtype  \n",
      "---  ------    --------------  -----  \n",
      " 0   user_id   18068 non-null  int64  \n",
      " 1   distance  18068 non-null  float64\n",
      " 2   duration  18068 non-null  float64\n",
      " 3   date      18068 non-null  object \n",
      "dtypes: float64(2), int64(1), object(1)\n",
      "memory usage: 564.8+ KB\n"
     ]
    },
    {
     "data": {
      "text/plain": [
       "None"
      ]
     },
     "metadata": {},
     "output_type": "display_data"
    },
    {
     "data": {
      "text/html": [
       "<div>\n",
       "<style scoped>\n",
       "    .dataframe tbody tr th:only-of-type {\n",
       "        vertical-align: middle;\n",
       "    }\n",
       "\n",
       "    .dataframe tbody tr th {\n",
       "        vertical-align: top;\n",
       "    }\n",
       "\n",
       "    .dataframe thead th {\n",
       "        text-align: right;\n",
       "    }\n",
       "</style>\n",
       "<table border=\"1\" class=\"dataframe\">\n",
       "  <thead>\n",
       "    <tr style=\"text-align: right;\">\n",
       "      <th></th>\n",
       "      <th>subscription_type</th>\n",
       "      <th>minute_price</th>\n",
       "      <th>start_ride_price</th>\n",
       "      <th>subscription_fee</th>\n",
       "    </tr>\n",
       "  </thead>\n",
       "  <tbody>\n",
       "    <tr>\n",
       "      <th>0</th>\n",
       "      <td>free</td>\n",
       "      <td>8</td>\n",
       "      <td>50</td>\n",
       "      <td>0</td>\n",
       "    </tr>\n",
       "    <tr>\n",
       "      <th>1</th>\n",
       "      <td>ultra</td>\n",
       "      <td>6</td>\n",
       "      <td>0</td>\n",
       "      <td>199</td>\n",
       "    </tr>\n",
       "  </tbody>\n",
       "</table>\n",
       "</div>"
      ],
      "text/plain": [
       "  subscription_type  minute_price  start_ride_price  subscription_fee\n",
       "0              free             8                50                 0\n",
       "1             ultra             6                 0               199"
      ]
     },
     "metadata": {},
     "output_type": "display_data"
    },
    {
     "data": {
      "text/html": [
       "<div>\n",
       "<style scoped>\n",
       "    .dataframe tbody tr th:only-of-type {\n",
       "        vertical-align: middle;\n",
       "    }\n",
       "\n",
       "    .dataframe tbody tr th {\n",
       "        vertical-align: top;\n",
       "    }\n",
       "\n",
       "    .dataframe thead th {\n",
       "        text-align: right;\n",
       "    }\n",
       "</style>\n",
       "<table border=\"1\" class=\"dataframe\">\n",
       "  <thead>\n",
       "    <tr style=\"text-align: right;\">\n",
       "      <th></th>\n",
       "      <th>subscription_type</th>\n",
       "      <th>minute_price</th>\n",
       "      <th>start_ride_price</th>\n",
       "      <th>subscription_fee</th>\n",
       "    </tr>\n",
       "  </thead>\n",
       "  <tbody>\n",
       "    <tr>\n",
       "      <th>0</th>\n",
       "      <td>free</td>\n",
       "      <td>8</td>\n",
       "      <td>50</td>\n",
       "      <td>0</td>\n",
       "    </tr>\n",
       "    <tr>\n",
       "      <th>1</th>\n",
       "      <td>ultra</td>\n",
       "      <td>6</td>\n",
       "      <td>0</td>\n",
       "      <td>199</td>\n",
       "    </tr>\n",
       "  </tbody>\n",
       "</table>\n",
       "</div>"
      ],
      "text/plain": [
       "  subscription_type  minute_price  start_ride_price  subscription_fee\n",
       "0              free             8                50                 0\n",
       "1             ultra             6                 0               199"
      ]
     },
     "metadata": {},
     "output_type": "display_data"
    },
    {
     "name": "stdout",
     "output_type": "stream",
     "text": [
      "<class 'pandas.core.frame.DataFrame'>\n",
      "RangeIndex: 2 entries, 0 to 1\n",
      "Data columns (total 4 columns):\n",
      " #   Column             Non-Null Count  Dtype \n",
      "---  ------             --------------  ----- \n",
      " 0   subscription_type  2 non-null      object\n",
      " 1   minute_price       2 non-null      int64 \n",
      " 2   start_ride_price   2 non-null      int64 \n",
      " 3   subscription_fee   2 non-null      int64 \n",
      "dtypes: int64(3), object(1)\n",
      "memory usage: 192.0+ bytes\n"
     ]
    },
    {
     "data": {
      "text/plain": [
       "None"
      ]
     },
     "metadata": {},
     "output_type": "display_data"
    }
   ],
   "source": [
    "try:\n",
    "    users = pd.read_csv('/datasets/users_go.csv')\n",
    "except:    \n",
    "    users = pd.read_csv('D:/Данные/users_go.csv')\n",
    "\n",
    "try:\n",
    "    rides = pd.read_csv('/datasets/rides_go.csv')\n",
    "except:    \n",
    "    rides = pd.read_csv('D:/Данные/rides_go.csv')\n",
    "    \n",
    "try:\n",
    "    subscriptions = pd.read_csv('/datasets/subscriptions_go.csv')\n",
    "except:    \n",
    "    subscriptions = pd.read_csv('D:/Данные/subscriptions_go.csv')    \n",
    "    \n",
    "display(users.head())\n",
    "display(users.tail())\n",
    "display(users.info())\n",
    "display()\n",
    "display(rides.head())\n",
    "display(rides.tail())\n",
    "display(rides.info())\n",
    "display()\n",
    "display(subscriptions.head())\n",
    "display(subscriptions.tail())\n",
    "display(subscriptions.info())"
   ]
  },
  {
   "cell_type": "markdown",
   "id": "312e425a",
   "metadata": {},
   "source": [
    "**Промежуточный вывод**\n",
    "\n",
    "После записи данных о пользователях, совершенных поездках и подписках в переменные `users`, `rides` и `subscriptions` соответственно и первичного знакомства с данными было выявлено:\n",
    "\n",
    "* Датасет `users` содержит 5 столбцов с данными о пользователях, из которых столбцы с идентификаторами пользователей и информацией о возрасте имеют целочисленный тип, в то время как имя, город и тип подписки имеют строковый тип данных. \n",
    "Исходя из общего числа строк в датасете, равным 1565, делаем вывод о том, что датасет содержит информацию о 1565 пользователях.\n",
    "\n",
    "\n",
    "* Датасет `rides` содержит 4 столбца с данными о поездках, из которых столбец с идентификаторами пользователей имеет целочисленный тип, в то время как продолжительность и длина поездок имеют тип данных с плавающей точкой, а дата поездки - строковый тип данных.  \n",
    "Исходя из общего числа строк в датасете, равным 18068, делаем вывод о том, что датасет содержит информацию о 18068 поездках.\n",
    "\n",
    "\n",
    "* Датасет `subscriptions` содержит 4 столбца с данными о видах подписок, из которых столбцы со стоимостью одной минуты поездки, стоимостью начала поездки и стоимостью ежемесячного платежа имеют целочисленный тип, в то время как тип подписки - строковый тип данных.  \n",
    "Количество строк в датасете - две, с двумя видами подписок: бесплатной и платной.\n",
    "\n",
    "Также видим, что во всех трех датасетах нет пропущенных значений. Будет полезным отметить, что датасеты `users` и `rides` имеют общий столбец с идентификаторами пользователей, а датасеты `users` и `subscriptions` имеют общий столбец с типом подписки."
   ]
  },
  {
   "cell_type": "markdown",
   "id": "e95ebca7",
   "metadata": {},
   "source": [
    "#### Шаг 2. Предобработка данных"
   ]
  },
  {
   "cell_type": "code",
   "execution_count": 3,
   "id": "af6d202c",
   "metadata": {},
   "outputs": [
    {
     "name": "stdout",
     "output_type": "stream",
     "text": [
      "user_id       0\n",
      "distance      0\n",
      "duration      0\n",
      "date          0\n",
      "date_month    0\n",
      "dtype: int64\n",
      "user_id              0\n",
      "name                 0\n",
      "age                  0\n",
      "city                 0\n",
      "subscription_type    0\n",
      "dtype: int64\n",
      "\n",
      "['Екатеринбург' 'Краснодар' 'Москва' 'Омск' 'Пятигорск' 'Ростов-на-Дону'\n",
      " 'Сочи' 'Тюмень']\n",
      "['free' 'ultra']\n",
      "\n",
      "31\n",
      "0\n"
     ]
    }
   ],
   "source": [
    "# 2.1 Приведите столбец date к типу даты pandas.\n",
    "rides['date'] = pd.to_datetime(rides['date'], format='%Y-%m-%d')\n",
    "\n",
    "# 2.2 Создайте новый столбец с номером месяца\n",
    "rides['date_month'] = rides['date'].dt.month\n",
    "\n",
    "# 2.3 Проверьте наличие пропущенных значений и дубликатов\n",
    "\n",
    "# пропуски в датафреймах rides и users\n",
    "print(rides.isna().sum())\n",
    "print(users.isna().sum())\n",
    "print()\n",
    "# дубли в названиях\n",
    "print(users['city'].sort_values().unique())\n",
    "print(users['subscription_type'].sort_values().unique())\n",
    "print()\n",
    "# дубли строк\n",
    "print(users.duplicated().sum())\n",
    "print(rides.duplicated().sum())"
   ]
  },
  {
   "cell_type": "code",
   "execution_count": 4,
   "id": "e4a6b896",
   "metadata": {},
   "outputs": [],
   "source": [
    "# Обнаружена 31 строка-дубль в датафрейме users, удаляем:\n",
    "users = users.drop_duplicates()"
   ]
  },
  {
   "cell_type": "code",
   "execution_count": 5,
   "id": "8740d01d",
   "metadata": {},
   "outputs": [
    {
     "name": "stdout",
     "output_type": "stream",
     "text": [
      "2021    18068\n",
      "Name: date_year, dtype: int64\n"
     ]
    }
   ],
   "source": [
    "# Проверка, за какие годы предоставлены данные:\n",
    "rides['date_year'] = rides['date'].dt.year\n",
    "print(rides['date_year'].value_counts()) "
   ]
  },
  {
   "cell_type": "markdown",
   "id": "a373da56",
   "metadata": {},
   "source": [
    "**Промежуточный вывод**\n",
    "\n",
    "Столбец date был приведен к типу даты pandas.\n",
    "Также был создан новый столбец с номером месяца.\n",
    "\n",
    "Пропущенные значения и дубликаты в названиях городов и типах подписок не были обнаружены.\n",
    "Были найдены и удалены дубли строк в датафрйме с пользователями.\n",
    "\n",
    "Дополнительно была проведена проверка, за какие годы предоставлены данные о поездах, во избежание последующего некорректного анализа в разрезе месяцев поездок. Данные приведены за один год - 2021."
   ]
  },
  {
   "cell_type": "markdown",
   "id": "212593c7",
   "metadata": {},
   "source": [
    "#### Шаг 3. Исследовательский анализ данных"
   ]
  },
  {
   "cell_type": "markdown",
   "id": "d9a894c0",
   "metadata": {},
   "source": [
    "##### Частота встречаемости городов"
   ]
  },
  {
   "cell_type": "code",
   "execution_count": 6,
   "id": "e3a4274c",
   "metadata": {},
   "outputs": [
    {
     "data": {
      "text/plain": [
       "<AxesSubplot:title={'center':'Частота встречаемости городов'}, xlabel='Города', ylabel='Кол-во пользователей'>"
      ]
     },
     "metadata": {},
     "output_type": "display_data"
    },
    {
     "data": {
      "image/png": "[encoded data removed]",
      "text/plain": [
       "<Figure size 792x288 with 1 Axes>"
      ]
     },
     "metadata": {
      "needs_background": "light"
     },
     "output_type": "display_data"
    }
   ],
   "source": [
    "display(users\n",
    "        .groupby('city').agg(user_cnt=('user_id', 'count')).reset_index()\n",
    "        .sort_values(by='user_cnt', ascending = False)\n",
    "        .plot.bar(x='city', y='user_cnt', title='Частота встречаемости городов', rot=0, grid=True, figsize=(11, 4), fontsize=9, xlabel='Города', ylabel='Кол-во пользователей'));"
   ]
  },
  {
   "cell_type": "markdown",
   "id": "19115f5d",
   "metadata": {},
   "source": [
    "Видим, что в выборке присутствуют 8 различных городов.\n",
    "Самое большое число пользователей в Пятигорске - примерно 220 человек, самое маленькое число пользователей в Москве - около 165 человек. В остальных городах число пользователей варьируется примерно от 180 до 205 человек."
   ]
  },
  {
   "cell_type": "markdown",
   "id": "f4f993ee",
   "metadata": {},
   "source": [
    "##### Соотношение пользователей с подпиской и без подписки"
   ]
  },
  {
   "cell_type": "code",
   "execution_count": 8,
   "id": "4eb6375f",
   "metadata": {},
   "outputs": [
    {
     "data": {
      "text/plain": [
       "<AxesSubplot:title={'center':'Соотношение пользователей с подпиской и без подписки'}, ylabel='Доли пользователей'>"
      ]
     },
     "metadata": {},
     "output_type": "display_data"
    },
    {
     "data": {
      "image/png": "[encoded data removed]",
      "text/plain": [
       "<Figure size 432x288 with 1 Axes>"
      ]
     },
     "metadata": {},
     "output_type": "display_data"
    }
   ],
   "source": [
    "display(users\n",
    "        .groupby('subscription_type').agg(user_cnt=('user_id', 'count'))\n",
    "        .sort_values(by='user_cnt', ascending = False)\n",
    "        .plot(kind='pie', y='user_cnt', title='Соотношение пользователей с подпиской и без подписки', autopct='%1.0f%%', xlabel='Тип подписки', ylabel='Доли пользователей'));"
   ]
  },
  {
   "cell_type": "markdown",
   "id": "badf1ca5",
   "metadata": {},
   "source": [
    "Количество пользователей без подписки превышает на 8 % количество пользователей с подпиской и составляет примерно 845 человек против 720."
   ]
  },
  {
   "cell_type": "markdown",
   "id": "4b05b5d0",
   "metadata": {},
   "source": [
    "##### Возраст пользователей"
   ]
  },
  {
   "cell_type": "code",
   "execution_count": 9,
   "id": "ce93586a",
   "metadata": {},
   "outputs": [
    {
     "data": {
      "text/plain": [
       "<AxesSubplot:title={'center':'Возраст пользователей'}, xlabel='Возраст', ylabel='Кол-во пользователей'>"
      ]
     },
     "metadata": {},
     "output_type": "display_data"
    },
    {
     "data": {
      "image/png": "[encoded data removed]",
      "text/plain": [
       "<Figure size 792x288 with 1 Axes>"
      ]
     },
     "metadata": {
      "needs_background": "light"
     },
     "output_type": "display_data"
    }
   ],
   "source": [
    "display(users\n",
    "        .groupby('age').agg(user_cnt=('user_id', 'count')).reset_index()\n",
    "        .sort_values(by='age')\n",
    "        .plot.bar(x='age', y='user_cnt', title='Возраст пользователей', rot=0, grid=True, figsize=(11, 4), fontsize=9, xlabel='Возраст', ylabel='Кол-во пользователей'));"
   ]
  },
  {
   "cell_type": "markdown",
   "id": "7cdf5f93",
   "metadata": {},
   "source": [
    "Возраст пользователей распределяется нормально: начиная от около пяти человек двенадцати лет с шагом 1 год увеличивается до максимального числа пользователей 145 человек возраста 25 лет и также с шагом в 1 год постепенно уменьшается до 1 пользователя возрастом 39 и 43 года.\n",
    "Основной возраст пользователей находится в диапазоне от 18 до 33 лет, в каждой из этих возрастных групп не менее 40 человек."
   ]
  },
  {
   "cell_type": "markdown",
   "id": "176a72bc",
   "metadata": {},
   "source": [
    "##### Расстояние, которое пользователь преодолел за одну поездку"
   ]
  },
  {
   "cell_type": "code",
   "execution_count": 10,
   "id": "bb50d393",
   "metadata": {},
   "outputs": [
    {
     "data": {
      "text/plain": [
       "<AxesSubplot:title={'center':'Расстояние, которое пользователь преодолел за одну поездку (в метрах)'}, ylabel='Frequency'>"
      ]
     },
     "metadata": {},
     "output_type": "display_data"
    },
    {
     "data": {
      "image/png": "[encoded data removed]",
      "text/plain": [
       "<Figure size 432x288 with 1 Axes>"
      ]
     },
     "metadata": {
      "needs_background": "light"
     },
     "output_type": "display_data"
    }
   ],
   "source": [
    "display(rides['distance']        \n",
    "        .plot(kind='hist', title='Расстояние, которое пользователь преодолел за одну поездку (в метрах)', grid=True, xlabel='Расстояние (в метрах)', ylabel='Кол-во пользователей'));"
   ]
  },
  {
   "cell_type": "markdown",
   "id": "fb323b07",
   "metadata": {},
   "source": [
    "Большинство поездок совершаются на расстояние от 2 до 4 км.\n",
    "При этом короткие поездки до 2 км происходят намного чаще, чем длинные поездки от 5 км."
   ]
  },
  {
   "cell_type": "markdown",
   "id": "e5dafca7",
   "metadata": {},
   "source": [
    "##### Продолжительность поездок"
   ]
  },
  {
   "cell_type": "code",
   "execution_count": 11,
   "id": "fdea7c89",
   "metadata": {},
   "outputs": [
    {
     "data": {
      "text/plain": [
       "<AxesSubplot:title={'center':'Продолжительность поездок (в минутах) '}, ylabel='Frequency'>"
      ]
     },
     "metadata": {},
     "output_type": "display_data"
    },
    {
     "data": {
      "image/png": "[encoded data removed]",
      "text/plain": [
       "<Figure size 432x288 with 1 Axes>"
      ]
     },
     "metadata": {
      "needs_background": "light"
     },
     "output_type": "display_data"
    }
   ],
   "source": [
    "display(rides['duration']        \n",
    "        .plot(kind='hist', title='Продолжительность поездок (в минутах) ', grid=True));"
   ]
  },
  {
   "cell_type": "markdown",
   "id": "15e7d945",
   "metadata": {},
   "source": [
    "Большинство поездок длятся от 8,5 до 25 минут.\n",
    "Также присутсвуют небольшое число коротких поездок от 1 до 4 минут и единичные случаи продолжительных поездок дольше 37 минут."
   ]
  },
  {
   "cell_type": "markdown",
   "id": "4ef51331",
   "metadata": {},
   "source": [
    "#### Шаг 4. Объединение данных"
   ]
  },
  {
   "cell_type": "markdown",
   "id": "9ea8c628",
   "metadata": {},
   "source": [
    "##### Объединенный датафрейм методом merge()"
   ]
  },
  {
   "cell_type": "code",
   "execution_count": 12,
   "id": "6bf288b5",
   "metadata": {},
   "outputs": [
    {
     "data": {
      "text/html": [
       "<div>\n",
       "<style scoped>\n",
       "    .dataframe tbody tr th:only-of-type {\n",
       "        vertical-align: middle;\n",
       "    }\n",
       "\n",
       "    .dataframe tbody tr th {\n",
       "        vertical-align: top;\n",
       "    }\n",
       "\n",
       "    .dataframe thead th {\n",
       "        text-align: right;\n",
       "    }\n",
       "</style>\n",
       "<table border=\"1\" class=\"dataframe\">\n",
       "  <thead>\n",
       "    <tr style=\"text-align: right;\">\n",
       "      <th></th>\n",
       "      <th>user_id</th>\n",
       "      <th>name</th>\n",
       "      <th>age</th>\n",
       "      <th>city</th>\n",
       "      <th>subscription_type</th>\n",
       "      <th>distance</th>\n",
       "      <th>duration</th>\n",
       "      <th>date</th>\n",
       "      <th>date_month</th>\n",
       "      <th>date_year</th>\n",
       "      <th>minute_price</th>\n",
       "      <th>start_ride_price</th>\n",
       "      <th>subscription_fee</th>\n",
       "    </tr>\n",
       "  </thead>\n",
       "  <tbody>\n",
       "    <tr>\n",
       "      <th>0</th>\n",
       "      <td>1</td>\n",
       "      <td>Кира</td>\n",
       "      <td>22</td>\n",
       "      <td>Тюмень</td>\n",
       "      <td>ultra</td>\n",
       "      <td>4409.919140</td>\n",
       "      <td>25.599769</td>\n",
       "      <td>2021-01-01</td>\n",
       "      <td>1</td>\n",
       "      <td>2021</td>\n",
       "      <td>6</td>\n",
       "      <td>0</td>\n",
       "      <td>199</td>\n",
       "    </tr>\n",
       "    <tr>\n",
       "      <th>1</th>\n",
       "      <td>1</td>\n",
       "      <td>Кира</td>\n",
       "      <td>22</td>\n",
       "      <td>Тюмень</td>\n",
       "      <td>ultra</td>\n",
       "      <td>2617.592153</td>\n",
       "      <td>15.816871</td>\n",
       "      <td>2021-01-18</td>\n",
       "      <td>1</td>\n",
       "      <td>2021</td>\n",
       "      <td>6</td>\n",
       "      <td>0</td>\n",
       "      <td>199</td>\n",
       "    </tr>\n",
       "    <tr>\n",
       "      <th>2</th>\n",
       "      <td>1</td>\n",
       "      <td>Кира</td>\n",
       "      <td>22</td>\n",
       "      <td>Тюмень</td>\n",
       "      <td>ultra</td>\n",
       "      <td>754.159807</td>\n",
       "      <td>6.232113</td>\n",
       "      <td>2021-04-20</td>\n",
       "      <td>4</td>\n",
       "      <td>2021</td>\n",
       "      <td>6</td>\n",
       "      <td>0</td>\n",
       "      <td>199</td>\n",
       "    </tr>\n",
       "    <tr>\n",
       "      <th>3</th>\n",
       "      <td>1</td>\n",
       "      <td>Кира</td>\n",
       "      <td>22</td>\n",
       "      <td>Тюмень</td>\n",
       "      <td>ultra</td>\n",
       "      <td>2694.783254</td>\n",
       "      <td>18.511000</td>\n",
       "      <td>2021-08-11</td>\n",
       "      <td>8</td>\n",
       "      <td>2021</td>\n",
       "      <td>6</td>\n",
       "      <td>0</td>\n",
       "      <td>199</td>\n",
       "    </tr>\n",
       "    <tr>\n",
       "      <th>4</th>\n",
       "      <td>1</td>\n",
       "      <td>Кира</td>\n",
       "      <td>22</td>\n",
       "      <td>Тюмень</td>\n",
       "      <td>ultra</td>\n",
       "      <td>4028.687306</td>\n",
       "      <td>26.265803</td>\n",
       "      <td>2021-08-28</td>\n",
       "      <td>8</td>\n",
       "      <td>2021</td>\n",
       "      <td>6</td>\n",
       "      <td>0</td>\n",
       "      <td>199</td>\n",
       "    </tr>\n",
       "  </tbody>\n",
       "</table>\n",
       "</div>"
      ],
      "text/plain": [
       "   user_id  name  age    city subscription_type     distance   duration  \\\n",
       "0        1  Кира   22  Тюмень             ultra  4409.919140  25.599769   \n",
       "1        1  Кира   22  Тюмень             ultra  2617.592153  15.816871   \n",
       "2        1  Кира   22  Тюмень             ultra   754.159807   6.232113   \n",
       "3        1  Кира   22  Тюмень             ultra  2694.783254  18.511000   \n",
       "4        1  Кира   22  Тюмень             ultra  4028.687306  26.265803   \n",
       "\n",
       "        date  date_month  date_year  minute_price  start_ride_price  \\\n",
       "0 2021-01-01           1       2021             6                 0   \n",
       "1 2021-01-18           1       2021             6                 0   \n",
       "2 2021-04-20           4       2021             6                 0   \n",
       "3 2021-08-11           8       2021             6                 0   \n",
       "4 2021-08-28           8       2021             6                 0   \n",
       "\n",
       "   subscription_fee  \n",
       "0               199  \n",
       "1               199  \n",
       "2               199  \n",
       "3               199  \n",
       "4               199  "
      ]
     },
     "metadata": {},
     "output_type": "display_data"
    },
    {
     "data": {
      "text/html": [
       "<div>\n",
       "<style scoped>\n",
       "    .dataframe tbody tr th:only-of-type {\n",
       "        vertical-align: middle;\n",
       "    }\n",
       "\n",
       "    .dataframe tbody tr th {\n",
       "        vertical-align: top;\n",
       "    }\n",
       "\n",
       "    .dataframe thead th {\n",
       "        text-align: right;\n",
       "    }\n",
       "</style>\n",
       "<table border=\"1\" class=\"dataframe\">\n",
       "  <thead>\n",
       "    <tr style=\"text-align: right;\">\n",
       "      <th></th>\n",
       "      <th>user_id</th>\n",
       "      <th>name</th>\n",
       "      <th>age</th>\n",
       "      <th>city</th>\n",
       "      <th>subscription_type</th>\n",
       "      <th>distance</th>\n",
       "      <th>duration</th>\n",
       "      <th>date</th>\n",
       "      <th>date_month</th>\n",
       "      <th>date_year</th>\n",
       "      <th>minute_price</th>\n",
       "      <th>start_ride_price</th>\n",
       "      <th>subscription_fee</th>\n",
       "    </tr>\n",
       "  </thead>\n",
       "  <tbody>\n",
       "    <tr>\n",
       "      <th>18063</th>\n",
       "      <td>1534</td>\n",
       "      <td>Альберт</td>\n",
       "      <td>25</td>\n",
       "      <td>Краснодар</td>\n",
       "      <td>free</td>\n",
       "      <td>3781.098080</td>\n",
       "      <td>19.822962</td>\n",
       "      <td>2021-11-04</td>\n",
       "      <td>11</td>\n",
       "      <td>2021</td>\n",
       "      <td>8</td>\n",
       "      <td>50</td>\n",
       "      <td>0</td>\n",
       "    </tr>\n",
       "    <tr>\n",
       "      <th>18064</th>\n",
       "      <td>1534</td>\n",
       "      <td>Альберт</td>\n",
       "      <td>25</td>\n",
       "      <td>Краснодар</td>\n",
       "      <td>free</td>\n",
       "      <td>2840.423057</td>\n",
       "      <td>21.409799</td>\n",
       "      <td>2021-11-16</td>\n",
       "      <td>11</td>\n",
       "      <td>2021</td>\n",
       "      <td>8</td>\n",
       "      <td>50</td>\n",
       "      <td>0</td>\n",
       "    </tr>\n",
       "    <tr>\n",
       "      <th>18065</th>\n",
       "      <td>1534</td>\n",
       "      <td>Альберт</td>\n",
       "      <td>25</td>\n",
       "      <td>Краснодар</td>\n",
       "      <td>free</td>\n",
       "      <td>3826.185507</td>\n",
       "      <td>18.435051</td>\n",
       "      <td>2021-11-18</td>\n",
       "      <td>11</td>\n",
       "      <td>2021</td>\n",
       "      <td>8</td>\n",
       "      <td>50</td>\n",
       "      <td>0</td>\n",
       "    </tr>\n",
       "    <tr>\n",
       "      <th>18066</th>\n",
       "      <td>1534</td>\n",
       "      <td>Альберт</td>\n",
       "      <td>25</td>\n",
       "      <td>Краснодар</td>\n",
       "      <td>free</td>\n",
       "      <td>2902.308661</td>\n",
       "      <td>16.674362</td>\n",
       "      <td>2021-11-27</td>\n",
       "      <td>11</td>\n",
       "      <td>2021</td>\n",
       "      <td>8</td>\n",
       "      <td>50</td>\n",
       "      <td>0</td>\n",
       "    </tr>\n",
       "    <tr>\n",
       "      <th>18067</th>\n",
       "      <td>1534</td>\n",
       "      <td>Альберт</td>\n",
       "      <td>25</td>\n",
       "      <td>Краснодар</td>\n",
       "      <td>free</td>\n",
       "      <td>2371.711192</td>\n",
       "      <td>15.893917</td>\n",
       "      <td>2021-12-29</td>\n",
       "      <td>12</td>\n",
       "      <td>2021</td>\n",
       "      <td>8</td>\n",
       "      <td>50</td>\n",
       "      <td>0</td>\n",
       "    </tr>\n",
       "  </tbody>\n",
       "</table>\n",
       "</div>"
      ],
      "text/plain": [
       "       user_id     name  age       city subscription_type     distance  \\\n",
       "18063     1534  Альберт   25  Краснодар              free  3781.098080   \n",
       "18064     1534  Альберт   25  Краснодар              free  2840.423057   \n",
       "18065     1534  Альберт   25  Краснодар              free  3826.185507   \n",
       "18066     1534  Альберт   25  Краснодар              free  2902.308661   \n",
       "18067     1534  Альберт   25  Краснодар              free  2371.711192   \n",
       "\n",
       "        duration       date  date_month  date_year  minute_price  \\\n",
       "18063  19.822962 2021-11-04          11       2021             8   \n",
       "18064  21.409799 2021-11-16          11       2021             8   \n",
       "18065  18.435051 2021-11-18          11       2021             8   \n",
       "18066  16.674362 2021-11-27          11       2021             8   \n",
       "18067  15.893917 2021-12-29          12       2021             8   \n",
       "\n",
       "       start_ride_price  subscription_fee  \n",
       "18063                50                 0  \n",
       "18064                50                 0  \n",
       "18065                50                 0  \n",
       "18066                50                 0  \n",
       "18067                50                 0  "
      ]
     },
     "metadata": {},
     "output_type": "display_data"
    },
    {
     "data": {
      "text/plain": [
       "18068"
      ]
     },
     "metadata": {},
     "output_type": "display_data"
    },
    {
     "data": {
      "text/plain": [
       "18068"
      ]
     },
     "metadata": {},
     "output_type": "display_data"
    }
   ],
   "source": [
    "combined = (users\n",
    "            .merge(rides, how='left', on='user_id')\n",
    "            .merge(subscriptions, how='left', on='subscription_type')\n",
    "           )\n",
    "\n",
    "# проверка\n",
    "display(combined.head(), combined.tail(), rides.shape[0], combined.shape[0])"
   ]
  },
  {
   "cell_type": "markdown",
   "id": "6e055709",
   "metadata": {},
   "source": [
    "Создан объединенный датафрейм `combined`, который совмещает в себе информацию о пользователях, совершенных поездках и условиях подписок. \n",
    "Проверено, что кол-во строк в общем датафрейме и датафрейме с поездками совпадают."
   ]
  },
  {
   "cell_type": "markdown",
   "id": "67c600c3",
   "metadata": {},
   "source": [
    "##### Отдельные датафреймы из объединенного датафрейма combined c данными о пользователях без подписки/с подпиской"
   ]
  },
  {
   "cell_type": "code",
   "execution_count": 13,
   "id": "8817895e",
   "metadata": {},
   "outputs": [
    {
     "data": {
      "text/html": [
       "<div>\n",
       "<style scoped>\n",
       "    .dataframe tbody tr th:only-of-type {\n",
       "        vertical-align: middle;\n",
       "    }\n",
       "\n",
       "    .dataframe tbody tr th {\n",
       "        vertical-align: top;\n",
       "    }\n",
       "\n",
       "    .dataframe thead th {\n",
       "        text-align: right;\n",
       "    }\n",
       "</style>\n",
       "<table border=\"1\" class=\"dataframe\">\n",
       "  <thead>\n",
       "    <tr style=\"text-align: right;\">\n",
       "      <th></th>\n",
       "      <th>user_id</th>\n",
       "      <th>name</th>\n",
       "      <th>age</th>\n",
       "      <th>city</th>\n",
       "      <th>subscription_type</th>\n",
       "      <th>distance</th>\n",
       "      <th>duration</th>\n",
       "      <th>date</th>\n",
       "      <th>date_month</th>\n",
       "      <th>date_year</th>\n",
       "      <th>minute_price</th>\n",
       "      <th>start_ride_price</th>\n",
       "      <th>subscription_fee</th>\n",
       "    </tr>\n",
       "  </thead>\n",
       "  <tbody>\n",
       "    <tr>\n",
       "      <th>0</th>\n",
       "      <td>1</td>\n",
       "      <td>Кира</td>\n",
       "      <td>22</td>\n",
       "      <td>Тюмень</td>\n",
       "      <td>ultra</td>\n",
       "      <td>4409.919140</td>\n",
       "      <td>25.599769</td>\n",
       "      <td>2021-01-01</td>\n",
       "      <td>1</td>\n",
       "      <td>2021</td>\n",
       "      <td>6</td>\n",
       "      <td>0</td>\n",
       "      <td>199</td>\n",
       "    </tr>\n",
       "    <tr>\n",
       "      <th>1</th>\n",
       "      <td>1</td>\n",
       "      <td>Кира</td>\n",
       "      <td>22</td>\n",
       "      <td>Тюмень</td>\n",
       "      <td>ultra</td>\n",
       "      <td>2617.592153</td>\n",
       "      <td>15.816871</td>\n",
       "      <td>2021-01-18</td>\n",
       "      <td>1</td>\n",
       "      <td>2021</td>\n",
       "      <td>6</td>\n",
       "      <td>0</td>\n",
       "      <td>199</td>\n",
       "    </tr>\n",
       "    <tr>\n",
       "      <th>2</th>\n",
       "      <td>1</td>\n",
       "      <td>Кира</td>\n",
       "      <td>22</td>\n",
       "      <td>Тюмень</td>\n",
       "      <td>ultra</td>\n",
       "      <td>754.159807</td>\n",
       "      <td>6.232113</td>\n",
       "      <td>2021-04-20</td>\n",
       "      <td>4</td>\n",
       "      <td>2021</td>\n",
       "      <td>6</td>\n",
       "      <td>0</td>\n",
       "      <td>199</td>\n",
       "    </tr>\n",
       "    <tr>\n",
       "      <th>3</th>\n",
       "      <td>1</td>\n",
       "      <td>Кира</td>\n",
       "      <td>22</td>\n",
       "      <td>Тюмень</td>\n",
       "      <td>ultra</td>\n",
       "      <td>2694.783254</td>\n",
       "      <td>18.511000</td>\n",
       "      <td>2021-08-11</td>\n",
       "      <td>8</td>\n",
       "      <td>2021</td>\n",
       "      <td>6</td>\n",
       "      <td>0</td>\n",
       "      <td>199</td>\n",
       "    </tr>\n",
       "    <tr>\n",
       "      <th>4</th>\n",
       "      <td>1</td>\n",
       "      <td>Кира</td>\n",
       "      <td>22</td>\n",
       "      <td>Тюмень</td>\n",
       "      <td>ultra</td>\n",
       "      <td>4028.687306</td>\n",
       "      <td>26.265803</td>\n",
       "      <td>2021-08-28</td>\n",
       "      <td>8</td>\n",
       "      <td>2021</td>\n",
       "      <td>6</td>\n",
       "      <td>0</td>\n",
       "      <td>199</td>\n",
       "    </tr>\n",
       "    <tr>\n",
       "      <th>5</th>\n",
       "      <td>1</td>\n",
       "      <td>Кира</td>\n",
       "      <td>22</td>\n",
       "      <td>Тюмень</td>\n",
       "      <td>ultra</td>\n",
       "      <td>2770.890808</td>\n",
       "      <td>16.650138</td>\n",
       "      <td>2021-10-09</td>\n",
       "      <td>10</td>\n",
       "      <td>2021</td>\n",
       "      <td>6</td>\n",
       "      <td>0</td>\n",
       "      <td>199</td>\n",
       "    </tr>\n",
       "    <tr>\n",
       "      <th>6</th>\n",
       "      <td>1</td>\n",
       "      <td>Кира</td>\n",
       "      <td>22</td>\n",
       "      <td>Тюмень</td>\n",
       "      <td>ultra</td>\n",
       "      <td>3039.020292</td>\n",
       "      <td>14.927879</td>\n",
       "      <td>2021-10-19</td>\n",
       "      <td>10</td>\n",
       "      <td>2021</td>\n",
       "      <td>6</td>\n",
       "      <td>0</td>\n",
       "      <td>199</td>\n",
       "    </tr>\n",
       "    <tr>\n",
       "      <th>7</th>\n",
       "      <td>1</td>\n",
       "      <td>Кира</td>\n",
       "      <td>22</td>\n",
       "      <td>Тюмень</td>\n",
       "      <td>ultra</td>\n",
       "      <td>2842.118050</td>\n",
       "      <td>23.117468</td>\n",
       "      <td>2021-11-06</td>\n",
       "      <td>11</td>\n",
       "      <td>2021</td>\n",
       "      <td>6</td>\n",
       "      <td>0</td>\n",
       "      <td>199</td>\n",
       "    </tr>\n",
       "    <tr>\n",
       "      <th>8</th>\n",
       "      <td>1</td>\n",
       "      <td>Кира</td>\n",
       "      <td>22</td>\n",
       "      <td>Тюмень</td>\n",
       "      <td>ultra</td>\n",
       "      <td>3412.690668</td>\n",
       "      <td>15.238072</td>\n",
       "      <td>2021-11-14</td>\n",
       "      <td>11</td>\n",
       "      <td>2021</td>\n",
       "      <td>6</td>\n",
       "      <td>0</td>\n",
       "      <td>199</td>\n",
       "    </tr>\n",
       "    <tr>\n",
       "      <th>9</th>\n",
       "      <td>1</td>\n",
       "      <td>Кира</td>\n",
       "      <td>22</td>\n",
       "      <td>Тюмень</td>\n",
       "      <td>ultra</td>\n",
       "      <td>748.690645</td>\n",
       "      <td>15.041884</td>\n",
       "      <td>2021-11-22</td>\n",
       "      <td>11</td>\n",
       "      <td>2021</td>\n",
       "      <td>6</td>\n",
       "      <td>0</td>\n",
       "      <td>199</td>\n",
       "    </tr>\n",
       "    <tr>\n",
       "      <th>10</th>\n",
       "      <td>1</td>\n",
       "      <td>Кира</td>\n",
       "      <td>22</td>\n",
       "      <td>Тюмень</td>\n",
       "      <td>ultra</td>\n",
       "      <td>4031.020195</td>\n",
       "      <td>17.674448</td>\n",
       "      <td>2021-12-14</td>\n",
       "      <td>12</td>\n",
       "      <td>2021</td>\n",
       "      <td>6</td>\n",
       "      <td>0</td>\n",
       "      <td>199</td>\n",
       "    </tr>\n",
       "    <tr>\n",
       "      <th>11</th>\n",
       "      <td>1</td>\n",
       "      <td>Кира</td>\n",
       "      <td>22</td>\n",
       "      <td>Тюмень</td>\n",
       "      <td>ultra</td>\n",
       "      <td>2720.609748</td>\n",
       "      <td>9.529463</td>\n",
       "      <td>2021-12-22</td>\n",
       "      <td>12</td>\n",
       "      <td>2021</td>\n",
       "      <td>6</td>\n",
       "      <td>0</td>\n",
       "      <td>199</td>\n",
       "    </tr>\n",
       "    <tr>\n",
       "      <th>12</th>\n",
       "      <td>2</td>\n",
       "      <td>Станислав</td>\n",
       "      <td>31</td>\n",
       "      <td>Омск</td>\n",
       "      <td>ultra</td>\n",
       "      <td>3105.086678</td>\n",
       "      <td>24.307514</td>\n",
       "      <td>2021-03-15</td>\n",
       "      <td>3</td>\n",
       "      <td>2021</td>\n",
       "      <td>6</td>\n",
       "      <td>0</td>\n",
       "      <td>199</td>\n",
       "    </tr>\n",
       "    <tr>\n",
       "      <th>13</th>\n",
       "      <td>2</td>\n",
       "      <td>Станислав</td>\n",
       "      <td>31</td>\n",
       "      <td>Омск</td>\n",
       "      <td>ultra</td>\n",
       "      <td>3053.519401</td>\n",
       "      <td>11.543256</td>\n",
       "      <td>2021-03-18</td>\n",
       "      <td>3</td>\n",
       "      <td>2021</td>\n",
       "      <td>6</td>\n",
       "      <td>0</td>\n",
       "      <td>199</td>\n",
       "    </tr>\n",
       "    <tr>\n",
       "      <th>14</th>\n",
       "      <td>2</td>\n",
       "      <td>Станислав</td>\n",
       "      <td>31</td>\n",
       "      <td>Омск</td>\n",
       "      <td>ultra</td>\n",
       "      <td>4029.116927</td>\n",
       "      <td>25.109188</td>\n",
       "      <td>2021-03-23</td>\n",
       "      <td>3</td>\n",
       "      <td>2021</td>\n",
       "      <td>6</td>\n",
       "      <td>0</td>\n",
       "      <td>199</td>\n",
       "    </tr>\n",
       "    <tr>\n",
       "      <th>15</th>\n",
       "      <td>2</td>\n",
       "      <td>Станислав</td>\n",
       "      <td>31</td>\n",
       "      <td>Омск</td>\n",
       "      <td>ultra</td>\n",
       "      <td>2805.786329</td>\n",
       "      <td>20.652145</td>\n",
       "      <td>2021-04-08</td>\n",
       "      <td>4</td>\n",
       "      <td>2021</td>\n",
       "      <td>6</td>\n",
       "      <td>0</td>\n",
       "      <td>199</td>\n",
       "    </tr>\n",
       "    <tr>\n",
       "      <th>16</th>\n",
       "      <td>2</td>\n",
       "      <td>Станислав</td>\n",
       "      <td>31</td>\n",
       "      <td>Омск</td>\n",
       "      <td>ultra</td>\n",
       "      <td>3358.595495</td>\n",
       "      <td>18.396489</td>\n",
       "      <td>2021-04-13</td>\n",
       "      <td>4</td>\n",
       "      <td>2021</td>\n",
       "      <td>6</td>\n",
       "      <td>0</td>\n",
       "      <td>199</td>\n",
       "    </tr>\n",
       "    <tr>\n",
       "      <th>17</th>\n",
       "      <td>2</td>\n",
       "      <td>Станислав</td>\n",
       "      <td>31</td>\n",
       "      <td>Омск</td>\n",
       "      <td>ultra</td>\n",
       "      <td>3255.338202</td>\n",
       "      <td>13.851127</td>\n",
       "      <td>2021-06-20</td>\n",
       "      <td>6</td>\n",
       "      <td>2021</td>\n",
       "      <td>6</td>\n",
       "      <td>0</td>\n",
       "      <td>199</td>\n",
       "    </tr>\n",
       "    <tr>\n",
       "      <th>18</th>\n",
       "      <td>2</td>\n",
       "      <td>Станислав</td>\n",
       "      <td>31</td>\n",
       "      <td>Омск</td>\n",
       "      <td>ultra</td>\n",
       "      <td>3942.817648</td>\n",
       "      <td>20.142725</td>\n",
       "      <td>2021-07-02</td>\n",
       "      <td>7</td>\n",
       "      <td>2021</td>\n",
       "      <td>6</td>\n",
       "      <td>0</td>\n",
       "      <td>199</td>\n",
       "    </tr>\n",
       "    <tr>\n",
       "      <th>19</th>\n",
       "      <td>2</td>\n",
       "      <td>Станислав</td>\n",
       "      <td>31</td>\n",
       "      <td>Омск</td>\n",
       "      <td>ultra</td>\n",
       "      <td>2837.905316</td>\n",
       "      <td>26.027432</td>\n",
       "      <td>2021-07-18</td>\n",
       "      <td>7</td>\n",
       "      <td>2021</td>\n",
       "      <td>6</td>\n",
       "      <td>0</td>\n",
       "      <td>199</td>\n",
       "    </tr>\n",
       "    <tr>\n",
       "      <th>20</th>\n",
       "      <td>2</td>\n",
       "      <td>Станислав</td>\n",
       "      <td>31</td>\n",
       "      <td>Омск</td>\n",
       "      <td>ultra</td>\n",
       "      <td>923.007439</td>\n",
       "      <td>6.914760</td>\n",
       "      <td>2021-08-03</td>\n",
       "      <td>8</td>\n",
       "      <td>2021</td>\n",
       "      <td>6</td>\n",
       "      <td>0</td>\n",
       "      <td>199</td>\n",
       "    </tr>\n",
       "    <tr>\n",
       "      <th>21</th>\n",
       "      <td>2</td>\n",
       "      <td>Станислав</td>\n",
       "      <td>31</td>\n",
       "      <td>Омск</td>\n",
       "      <td>ultra</td>\n",
       "      <td>2824.636598</td>\n",
       "      <td>18.779128</td>\n",
       "      <td>2021-10-27</td>\n",
       "      <td>10</td>\n",
       "      <td>2021</td>\n",
       "      <td>6</td>\n",
       "      <td>0</td>\n",
       "      <td>199</td>\n",
       "    </tr>\n",
       "    <tr>\n",
       "      <th>22</th>\n",
       "      <td>2</td>\n",
       "      <td>Станислав</td>\n",
       "      <td>31</td>\n",
       "      <td>Омск</td>\n",
       "      <td>ultra</td>\n",
       "      <td>3828.248580</td>\n",
       "      <td>11.920514</td>\n",
       "      <td>2021-12-18</td>\n",
       "      <td>12</td>\n",
       "      <td>2021</td>\n",
       "      <td>6</td>\n",
       "      <td>0</td>\n",
       "      <td>199</td>\n",
       "    </tr>\n",
       "    <tr>\n",
       "      <th>23</th>\n",
       "      <td>3</td>\n",
       "      <td>Алексей</td>\n",
       "      <td>20</td>\n",
       "      <td>Москва</td>\n",
       "      <td>ultra</td>\n",
       "      <td>3061.777147</td>\n",
       "      <td>12.654443</td>\n",
       "      <td>2021-01-31</td>\n",
       "      <td>1</td>\n",
       "      <td>2021</td>\n",
       "      <td>6</td>\n",
       "      <td>0</td>\n",
       "      <td>199</td>\n",
       "    </tr>\n",
       "    <tr>\n",
       "      <th>24</th>\n",
       "      <td>3</td>\n",
       "      <td>Алексей</td>\n",
       "      <td>20</td>\n",
       "      <td>Москва</td>\n",
       "      <td>ultra</td>\n",
       "      <td>2560.495330</td>\n",
       "      <td>16.534984</td>\n",
       "      <td>2021-02-24</td>\n",
       "      <td>2</td>\n",
       "      <td>2021</td>\n",
       "      <td>6</td>\n",
       "      <td>0</td>\n",
       "      <td>199</td>\n",
       "    </tr>\n",
       "    <tr>\n",
       "      <th>25</th>\n",
       "      <td>3</td>\n",
       "      <td>Алексей</td>\n",
       "      <td>20</td>\n",
       "      <td>Москва</td>\n",
       "      <td>ultra</td>\n",
       "      <td>2860.656686</td>\n",
       "      <td>21.033653</td>\n",
       "      <td>2021-02-26</td>\n",
       "      <td>2</td>\n",
       "      <td>2021</td>\n",
       "      <td>6</td>\n",
       "      <td>0</td>\n",
       "      <td>199</td>\n",
       "    </tr>\n",
       "    <tr>\n",
       "      <th>26</th>\n",
       "      <td>3</td>\n",
       "      <td>Алексей</td>\n",
       "      <td>20</td>\n",
       "      <td>Москва</td>\n",
       "      <td>ultra</td>\n",
       "      <td>2956.651632</td>\n",
       "      <td>20.671364</td>\n",
       "      <td>2021-04-12</td>\n",
       "      <td>4</td>\n",
       "      <td>2021</td>\n",
       "      <td>6</td>\n",
       "      <td>0</td>\n",
       "      <td>199</td>\n",
       "    </tr>\n",
       "    <tr>\n",
       "      <th>27</th>\n",
       "      <td>3</td>\n",
       "      <td>Алексей</td>\n",
       "      <td>20</td>\n",
       "      <td>Москва</td>\n",
       "      <td>ultra</td>\n",
       "      <td>2756.975841</td>\n",
       "      <td>18.519025</td>\n",
       "      <td>2021-05-07</td>\n",
       "      <td>5</td>\n",
       "      <td>2021</td>\n",
       "      <td>6</td>\n",
       "      <td>0</td>\n",
       "      <td>199</td>\n",
       "    </tr>\n",
       "    <tr>\n",
       "      <th>28</th>\n",
       "      <td>3</td>\n",
       "      <td>Алексей</td>\n",
       "      <td>20</td>\n",
       "      <td>Москва</td>\n",
       "      <td>ultra</td>\n",
       "      <td>2837.317332</td>\n",
       "      <td>24.476276</td>\n",
       "      <td>2021-05-21</td>\n",
       "      <td>5</td>\n",
       "      <td>2021</td>\n",
       "      <td>6</td>\n",
       "      <td>0</td>\n",
       "      <td>199</td>\n",
       "    </tr>\n",
       "    <tr>\n",
       "      <th>29</th>\n",
       "      <td>3</td>\n",
       "      <td>Алексей</td>\n",
       "      <td>20</td>\n",
       "      <td>Москва</td>\n",
       "      <td>ultra</td>\n",
       "      <td>3469.733745</td>\n",
       "      <td>18.409201</td>\n",
       "      <td>2021-05-22</td>\n",
       "      <td>5</td>\n",
       "      <td>2021</td>\n",
       "      <td>6</td>\n",
       "      <td>0</td>\n",
       "      <td>199</td>\n",
       "    </tr>\n",
       "  </tbody>\n",
       "</table>\n",
       "</div>"
      ],
      "text/plain": [
       "    user_id       name  age    city subscription_type     distance   duration  \\\n",
       "0         1       Кира   22  Тюмень             ultra  4409.919140  25.599769   \n",
       "1         1       Кира   22  Тюмень             ultra  2617.592153  15.816871   \n",
       "2         1       Кира   22  Тюмень             ultra   754.159807   6.232113   \n",
       "3         1       Кира   22  Тюмень             ultra  2694.783254  18.511000   \n",
       "4         1       Кира   22  Тюмень             ultra  4028.687306  26.265803   \n",
       "5         1       Кира   22  Тюмень             ultra  2770.890808  16.650138   \n",
       "6         1       Кира   22  Тюмень             ultra  3039.020292  14.927879   \n",
       "7         1       Кира   22  Тюмень             ultra  2842.118050  23.117468   \n",
       "8         1       Кира   22  Тюмень             ultra  3412.690668  15.238072   \n",
       "9         1       Кира   22  Тюмень             ultra   748.690645  15.041884   \n",
       "10        1       Кира   22  Тюмень             ultra  4031.020195  17.674448   \n",
       "11        1       Кира   22  Тюмень             ultra  2720.609748   9.529463   \n",
       "12        2  Станислав   31    Омск             ultra  3105.086678  24.307514   \n",
       "13        2  Станислав   31    Омск             ultra  3053.519401  11.543256   \n",
       "14        2  Станислав   31    Омск             ultra  4029.116927  25.109188   \n",
       "15        2  Станислав   31    Омск             ultra  2805.786329  20.652145   \n",
       "16        2  Станислав   31    Омск             ultra  3358.595495  18.396489   \n",
       "17        2  Станислав   31    Омск             ultra  3255.338202  13.851127   \n",
       "18        2  Станислав   31    Омск             ultra  3942.817648  20.142725   \n",
       "19        2  Станислав   31    Омск             ultra  2837.905316  26.027432   \n",
       "20        2  Станислав   31    Омск             ultra   923.007439   6.914760   \n",
       "21        2  Станислав   31    Омск             ultra  2824.636598  18.779128   \n",
       "22        2  Станислав   31    Омск             ultra  3828.248580  11.920514   \n",
       "23        3    Алексей   20  Москва             ultra  3061.777147  12.654443   \n",
       "24        3    Алексей   20  Москва             ultra  2560.495330  16.534984   \n",
       "25        3    Алексей   20  Москва             ultra  2860.656686  21.033653   \n",
       "26        3    Алексей   20  Москва             ultra  2956.651632  20.671364   \n",
       "27        3    Алексей   20  Москва             ultra  2756.975841  18.519025   \n",
       "28        3    Алексей   20  Москва             ultra  2837.317332  24.476276   \n",
       "29        3    Алексей   20  Москва             ultra  3469.733745  18.409201   \n",
       "\n",
       "         date  date_month  date_year  minute_price  start_ride_price  \\\n",
       "0  2021-01-01           1       2021             6                 0   \n",
       "1  2021-01-18           1       2021             6                 0   \n",
       "2  2021-04-20           4       2021             6                 0   \n",
       "3  2021-08-11           8       2021             6                 0   \n",
       "4  2021-08-28           8       2021             6                 0   \n",
       "5  2021-10-09          10       2021             6                 0   \n",
       "6  2021-10-19          10       2021             6                 0   \n",
       "7  2021-11-06          11       2021             6                 0   \n",
       "8  2021-11-14          11       2021             6                 0   \n",
       "9  2021-11-22          11       2021             6                 0   \n",
       "10 2021-12-14          12       2021             6                 0   \n",
       "11 2021-12-22          12       2021             6                 0   \n",
       "12 2021-03-15           3       2021             6                 0   \n",
       "13 2021-03-18           3       2021             6                 0   \n",
       "14 2021-03-23           3       2021             6                 0   \n",
       "15 2021-04-08           4       2021             6                 0   \n",
       "16 2021-04-13           4       2021             6                 0   \n",
       "17 2021-06-20           6       2021             6                 0   \n",
       "18 2021-07-02           7       2021             6                 0   \n",
       "19 2021-07-18           7       2021             6                 0   \n",
       "20 2021-08-03           8       2021             6                 0   \n",
       "21 2021-10-27          10       2021             6                 0   \n",
       "22 2021-12-18          12       2021             6                 0   \n",
       "23 2021-01-31           1       2021             6                 0   \n",
       "24 2021-02-24           2       2021             6                 0   \n",
       "25 2021-02-26           2       2021             6                 0   \n",
       "26 2021-04-12           4       2021             6                 0   \n",
       "27 2021-05-07           5       2021             6                 0   \n",
       "28 2021-05-21           5       2021             6                 0   \n",
       "29 2021-05-22           5       2021             6                 0   \n",
       "\n",
       "    subscription_fee  \n",
       "0                199  \n",
       "1                199  \n",
       "2                199  \n",
       "3                199  \n",
       "4                199  \n",
       "5                199  \n",
       "6                199  \n",
       "7                199  \n",
       "8                199  \n",
       "9                199  \n",
       "10               199  \n",
       "11               199  \n",
       "12               199  \n",
       "13               199  \n",
       "14               199  \n",
       "15               199  \n",
       "16               199  \n",
       "17               199  \n",
       "18               199  \n",
       "19               199  \n",
       "20               199  \n",
       "21               199  \n",
       "22               199  \n",
       "23               199  \n",
       "24               199  \n",
       "25               199  \n",
       "26               199  \n",
       "27               199  \n",
       "28               199  \n",
       "29               199  "
      ]
     },
     "metadata": {},
     "output_type": "display_data"
    },
    {
     "data": {
      "text/html": [
       "<div>\n",
       "<style scoped>\n",
       "    .dataframe tbody tr th:only-of-type {\n",
       "        vertical-align: middle;\n",
       "    }\n",
       "\n",
       "    .dataframe tbody tr th {\n",
       "        vertical-align: top;\n",
       "    }\n",
       "\n",
       "    .dataframe thead th {\n",
       "        text-align: right;\n",
       "    }\n",
       "</style>\n",
       "<table border=\"1\" class=\"dataframe\">\n",
       "  <thead>\n",
       "    <tr style=\"text-align: right;\">\n",
       "      <th></th>\n",
       "      <th>user_id</th>\n",
       "      <th>name</th>\n",
       "      <th>age</th>\n",
       "      <th>city</th>\n",
       "      <th>subscription_type</th>\n",
       "      <th>distance</th>\n",
       "      <th>duration</th>\n",
       "      <th>date</th>\n",
       "      <th>date_month</th>\n",
       "      <th>date_year</th>\n",
       "      <th>minute_price</th>\n",
       "      <th>start_ride_price</th>\n",
       "      <th>subscription_fee</th>\n",
       "    </tr>\n",
       "  </thead>\n",
       "  <tbody>\n",
       "    <tr>\n",
       "      <th>6500</th>\n",
       "      <td>700</td>\n",
       "      <td>Айдар</td>\n",
       "      <td>22</td>\n",
       "      <td>Омск</td>\n",
       "      <td>free</td>\n",
       "      <td>2515.690719</td>\n",
       "      <td>14.944286</td>\n",
       "      <td>2021-01-02</td>\n",
       "      <td>1</td>\n",
       "      <td>2021</td>\n",
       "      <td>8</td>\n",
       "      <td>50</td>\n",
       "      <td>0</td>\n",
       "    </tr>\n",
       "    <tr>\n",
       "      <th>6501</th>\n",
       "      <td>700</td>\n",
       "      <td>Айдар</td>\n",
       "      <td>22</td>\n",
       "      <td>Омск</td>\n",
       "      <td>free</td>\n",
       "      <td>846.932642</td>\n",
       "      <td>16.234663</td>\n",
       "      <td>2021-02-01</td>\n",
       "      <td>2</td>\n",
       "      <td>2021</td>\n",
       "      <td>8</td>\n",
       "      <td>50</td>\n",
       "      <td>0</td>\n",
       "    </tr>\n",
       "    <tr>\n",
       "      <th>6502</th>\n",
       "      <td>700</td>\n",
       "      <td>Айдар</td>\n",
       "      <td>22</td>\n",
       "      <td>Омск</td>\n",
       "      <td>free</td>\n",
       "      <td>4004.434142</td>\n",
       "      <td>20.016628</td>\n",
       "      <td>2021-02-04</td>\n",
       "      <td>2</td>\n",
       "      <td>2021</td>\n",
       "      <td>8</td>\n",
       "      <td>50</td>\n",
       "      <td>0</td>\n",
       "    </tr>\n",
       "    <tr>\n",
       "      <th>6503</th>\n",
       "      <td>700</td>\n",
       "      <td>Айдар</td>\n",
       "      <td>22</td>\n",
       "      <td>Омск</td>\n",
       "      <td>free</td>\n",
       "      <td>1205.911290</td>\n",
       "      <td>9.782872</td>\n",
       "      <td>2021-02-10</td>\n",
       "      <td>2</td>\n",
       "      <td>2021</td>\n",
       "      <td>8</td>\n",
       "      <td>50</td>\n",
       "      <td>0</td>\n",
       "    </tr>\n",
       "    <tr>\n",
       "      <th>6504</th>\n",
       "      <td>700</td>\n",
       "      <td>Айдар</td>\n",
       "      <td>22</td>\n",
       "      <td>Омск</td>\n",
       "      <td>free</td>\n",
       "      <td>3047.379435</td>\n",
       "      <td>17.427673</td>\n",
       "      <td>2021-02-14</td>\n",
       "      <td>2</td>\n",
       "      <td>2021</td>\n",
       "      <td>8</td>\n",
       "      <td>50</td>\n",
       "      <td>0</td>\n",
       "    </tr>\n",
       "    <tr>\n",
       "      <th>6505</th>\n",
       "      <td>700</td>\n",
       "      <td>Айдар</td>\n",
       "      <td>22</td>\n",
       "      <td>Омск</td>\n",
       "      <td>free</td>\n",
       "      <td>4342.002254</td>\n",
       "      <td>22.368009</td>\n",
       "      <td>2021-02-23</td>\n",
       "      <td>2</td>\n",
       "      <td>2021</td>\n",
       "      <td>8</td>\n",
       "      <td>50</td>\n",
       "      <td>0</td>\n",
       "    </tr>\n",
       "    <tr>\n",
       "      <th>6506</th>\n",
       "      <td>700</td>\n",
       "      <td>Айдар</td>\n",
       "      <td>22</td>\n",
       "      <td>Омск</td>\n",
       "      <td>free</td>\n",
       "      <td>3798.334905</td>\n",
       "      <td>18.243756</td>\n",
       "      <td>2021-03-03</td>\n",
       "      <td>3</td>\n",
       "      <td>2021</td>\n",
       "      <td>8</td>\n",
       "      <td>50</td>\n",
       "      <td>0</td>\n",
       "    </tr>\n",
       "    <tr>\n",
       "      <th>6507</th>\n",
       "      <td>700</td>\n",
       "      <td>Айдар</td>\n",
       "      <td>22</td>\n",
       "      <td>Омск</td>\n",
       "      <td>free</td>\n",
       "      <td>2984.551206</td>\n",
       "      <td>15.424899</td>\n",
       "      <td>2021-04-09</td>\n",
       "      <td>4</td>\n",
       "      <td>2021</td>\n",
       "      <td>8</td>\n",
       "      <td>50</td>\n",
       "      <td>0</td>\n",
       "    </tr>\n",
       "    <tr>\n",
       "      <th>6508</th>\n",
       "      <td>700</td>\n",
       "      <td>Айдар</td>\n",
       "      <td>22</td>\n",
       "      <td>Омск</td>\n",
       "      <td>free</td>\n",
       "      <td>3360.107141</td>\n",
       "      <td>16.765497</td>\n",
       "      <td>2021-06-12</td>\n",
       "      <td>6</td>\n",
       "      <td>2021</td>\n",
       "      <td>8</td>\n",
       "      <td>50</td>\n",
       "      <td>0</td>\n",
       "    </tr>\n",
       "    <tr>\n",
       "      <th>6509</th>\n",
       "      <td>700</td>\n",
       "      <td>Айдар</td>\n",
       "      <td>22</td>\n",
       "      <td>Омск</td>\n",
       "      <td>free</td>\n",
       "      <td>2567.543847</td>\n",
       "      <td>11.312160</td>\n",
       "      <td>2021-06-23</td>\n",
       "      <td>6</td>\n",
       "      <td>2021</td>\n",
       "      <td>8</td>\n",
       "      <td>50</td>\n",
       "      <td>0</td>\n",
       "    </tr>\n",
       "    <tr>\n",
       "      <th>6510</th>\n",
       "      <td>700</td>\n",
       "      <td>Айдар</td>\n",
       "      <td>22</td>\n",
       "      <td>Омск</td>\n",
       "      <td>free</td>\n",
       "      <td>4110.232038</td>\n",
       "      <td>15.807640</td>\n",
       "      <td>2021-07-08</td>\n",
       "      <td>7</td>\n",
       "      <td>2021</td>\n",
       "      <td>8</td>\n",
       "      <td>50</td>\n",
       "      <td>0</td>\n",
       "    </tr>\n",
       "    <tr>\n",
       "      <th>6511</th>\n",
       "      <td>700</td>\n",
       "      <td>Айдар</td>\n",
       "      <td>22</td>\n",
       "      <td>Омск</td>\n",
       "      <td>free</td>\n",
       "      <td>288.974241</td>\n",
       "      <td>4.788112</td>\n",
       "      <td>2021-07-18</td>\n",
       "      <td>7</td>\n",
       "      <td>2021</td>\n",
       "      <td>8</td>\n",
       "      <td>50</td>\n",
       "      <td>0</td>\n",
       "    </tr>\n",
       "    <tr>\n",
       "      <th>6512</th>\n",
       "      <td>700</td>\n",
       "      <td>Айдар</td>\n",
       "      <td>22</td>\n",
       "      <td>Омск</td>\n",
       "      <td>free</td>\n",
       "      <td>4071.654669</td>\n",
       "      <td>16.370546</td>\n",
       "      <td>2021-08-17</td>\n",
       "      <td>8</td>\n",
       "      <td>2021</td>\n",
       "      <td>8</td>\n",
       "      <td>50</td>\n",
       "      <td>0</td>\n",
       "    </tr>\n",
       "    <tr>\n",
       "      <th>6513</th>\n",
       "      <td>700</td>\n",
       "      <td>Айдар</td>\n",
       "      <td>22</td>\n",
       "      <td>Омск</td>\n",
       "      <td>free</td>\n",
       "      <td>1920.188901</td>\n",
       "      <td>9.608453</td>\n",
       "      <td>2021-10-08</td>\n",
       "      <td>10</td>\n",
       "      <td>2021</td>\n",
       "      <td>8</td>\n",
       "      <td>50</td>\n",
       "      <td>0</td>\n",
       "    </tr>\n",
       "    <tr>\n",
       "      <th>6514</th>\n",
       "      <td>700</td>\n",
       "      <td>Айдар</td>\n",
       "      <td>22</td>\n",
       "      <td>Омск</td>\n",
       "      <td>free</td>\n",
       "      <td>4402.389717</td>\n",
       "      <td>33.013035</td>\n",
       "      <td>2021-10-15</td>\n",
       "      <td>10</td>\n",
       "      <td>2021</td>\n",
       "      <td>8</td>\n",
       "      <td>50</td>\n",
       "      <td>0</td>\n",
       "    </tr>\n",
       "    <tr>\n",
       "      <th>6515</th>\n",
       "      <td>700</td>\n",
       "      <td>Айдар</td>\n",
       "      <td>22</td>\n",
       "      <td>Омск</td>\n",
       "      <td>free</td>\n",
       "      <td>2409.555418</td>\n",
       "      <td>8.560513</td>\n",
       "      <td>2021-11-03</td>\n",
       "      <td>11</td>\n",
       "      <td>2021</td>\n",
       "      <td>8</td>\n",
       "      <td>50</td>\n",
       "      <td>0</td>\n",
       "    </tr>\n",
       "    <tr>\n",
       "      <th>6516</th>\n",
       "      <td>700</td>\n",
       "      <td>Айдар</td>\n",
       "      <td>22</td>\n",
       "      <td>Омск</td>\n",
       "      <td>free</td>\n",
       "      <td>2639.817512</td>\n",
       "      <td>8.656752</td>\n",
       "      <td>2021-11-14</td>\n",
       "      <td>11</td>\n",
       "      <td>2021</td>\n",
       "      <td>8</td>\n",
       "      <td>50</td>\n",
       "      <td>0</td>\n",
       "    </tr>\n",
       "    <tr>\n",
       "      <th>6517</th>\n",
       "      <td>700</td>\n",
       "      <td>Айдар</td>\n",
       "      <td>22</td>\n",
       "      <td>Омск</td>\n",
       "      <td>free</td>\n",
       "      <td>3686.409695</td>\n",
       "      <td>13.899449</td>\n",
       "      <td>2021-11-21</td>\n",
       "      <td>11</td>\n",
       "      <td>2021</td>\n",
       "      <td>8</td>\n",
       "      <td>50</td>\n",
       "      <td>0</td>\n",
       "    </tr>\n",
       "    <tr>\n",
       "      <th>6518</th>\n",
       "      <td>701</td>\n",
       "      <td>Иван</td>\n",
       "      <td>31</td>\n",
       "      <td>Екатеринбург</td>\n",
       "      <td>free</td>\n",
       "      <td>2676.472894</td>\n",
       "      <td>17.470598</td>\n",
       "      <td>2021-01-23</td>\n",
       "      <td>1</td>\n",
       "      <td>2021</td>\n",
       "      <td>8</td>\n",
       "      <td>50</td>\n",
       "      <td>0</td>\n",
       "    </tr>\n",
       "    <tr>\n",
       "      <th>6519</th>\n",
       "      <td>701</td>\n",
       "      <td>Иван</td>\n",
       "      <td>31</td>\n",
       "      <td>Екатеринбург</td>\n",
       "      <td>free</td>\n",
       "      <td>2743.677431</td>\n",
       "      <td>14.974710</td>\n",
       "      <td>2021-02-13</td>\n",
       "      <td>2</td>\n",
       "      <td>2021</td>\n",
       "      <td>8</td>\n",
       "      <td>50</td>\n",
       "      <td>0</td>\n",
       "    </tr>\n",
       "    <tr>\n",
       "      <th>6520</th>\n",
       "      <td>701</td>\n",
       "      <td>Иван</td>\n",
       "      <td>31</td>\n",
       "      <td>Екатеринбург</td>\n",
       "      <td>free</td>\n",
       "      <td>2893.656575</td>\n",
       "      <td>11.891791</td>\n",
       "      <td>2021-02-20</td>\n",
       "      <td>2</td>\n",
       "      <td>2021</td>\n",
       "      <td>8</td>\n",
       "      <td>50</td>\n",
       "      <td>0</td>\n",
       "    </tr>\n",
       "    <tr>\n",
       "      <th>6521</th>\n",
       "      <td>701</td>\n",
       "      <td>Иван</td>\n",
       "      <td>31</td>\n",
       "      <td>Екатеринбург</td>\n",
       "      <td>free</td>\n",
       "      <td>2802.021357</td>\n",
       "      <td>16.008663</td>\n",
       "      <td>2021-03-12</td>\n",
       "      <td>3</td>\n",
       "      <td>2021</td>\n",
       "      <td>8</td>\n",
       "      <td>50</td>\n",
       "      <td>0</td>\n",
       "    </tr>\n",
       "    <tr>\n",
       "      <th>6522</th>\n",
       "      <td>701</td>\n",
       "      <td>Иван</td>\n",
       "      <td>31</td>\n",
       "      <td>Екатеринбург</td>\n",
       "      <td>free</td>\n",
       "      <td>3509.012965</td>\n",
       "      <td>13.081094</td>\n",
       "      <td>2021-04-17</td>\n",
       "      <td>4</td>\n",
       "      <td>2021</td>\n",
       "      <td>8</td>\n",
       "      <td>50</td>\n",
       "      <td>0</td>\n",
       "    </tr>\n",
       "    <tr>\n",
       "      <th>6523</th>\n",
       "      <td>701</td>\n",
       "      <td>Иван</td>\n",
       "      <td>31</td>\n",
       "      <td>Екатеринбург</td>\n",
       "      <td>free</td>\n",
       "      <td>2465.852577</td>\n",
       "      <td>14.283970</td>\n",
       "      <td>2021-05-31</td>\n",
       "      <td>5</td>\n",
       "      <td>2021</td>\n",
       "      <td>8</td>\n",
       "      <td>50</td>\n",
       "      <td>0</td>\n",
       "    </tr>\n",
       "    <tr>\n",
       "      <th>6524</th>\n",
       "      <td>701</td>\n",
       "      <td>Иван</td>\n",
       "      <td>31</td>\n",
       "      <td>Екатеринбург</td>\n",
       "      <td>free</td>\n",
       "      <td>731.410111</td>\n",
       "      <td>6.657051</td>\n",
       "      <td>2021-06-02</td>\n",
       "      <td>6</td>\n",
       "      <td>2021</td>\n",
       "      <td>8</td>\n",
       "      <td>50</td>\n",
       "      <td>0</td>\n",
       "    </tr>\n",
       "    <tr>\n",
       "      <th>6525</th>\n",
       "      <td>701</td>\n",
       "      <td>Иван</td>\n",
       "      <td>31</td>\n",
       "      <td>Екатеринбург</td>\n",
       "      <td>free</td>\n",
       "      <td>3903.210649</td>\n",
       "      <td>18.367706</td>\n",
       "      <td>2021-06-20</td>\n",
       "      <td>6</td>\n",
       "      <td>2021</td>\n",
       "      <td>8</td>\n",
       "      <td>50</td>\n",
       "      <td>0</td>\n",
       "    </tr>\n",
       "    <tr>\n",
       "      <th>6526</th>\n",
       "      <td>701</td>\n",
       "      <td>Иван</td>\n",
       "      <td>31</td>\n",
       "      <td>Екатеринбург</td>\n",
       "      <td>free</td>\n",
       "      <td>3441.595717</td>\n",
       "      <td>18.978076</td>\n",
       "      <td>2021-07-04</td>\n",
       "      <td>7</td>\n",
       "      <td>2021</td>\n",
       "      <td>8</td>\n",
       "      <td>50</td>\n",
       "      <td>0</td>\n",
       "    </tr>\n",
       "    <tr>\n",
       "      <th>6527</th>\n",
       "      <td>701</td>\n",
       "      <td>Иван</td>\n",
       "      <td>31</td>\n",
       "      <td>Екатеринбург</td>\n",
       "      <td>free</td>\n",
       "      <td>1133.584211</td>\n",
       "      <td>6.250941</td>\n",
       "      <td>2021-07-17</td>\n",
       "      <td>7</td>\n",
       "      <td>2021</td>\n",
       "      <td>8</td>\n",
       "      <td>50</td>\n",
       "      <td>0</td>\n",
       "    </tr>\n",
       "    <tr>\n",
       "      <th>6528</th>\n",
       "      <td>701</td>\n",
       "      <td>Иван</td>\n",
       "      <td>31</td>\n",
       "      <td>Екатеринбург</td>\n",
       "      <td>free</td>\n",
       "      <td>3988.151318</td>\n",
       "      <td>20.092077</td>\n",
       "      <td>2021-07-28</td>\n",
       "      <td>7</td>\n",
       "      <td>2021</td>\n",
       "      <td>8</td>\n",
       "      <td>50</td>\n",
       "      <td>0</td>\n",
       "    </tr>\n",
       "    <tr>\n",
       "      <th>6529</th>\n",
       "      <td>701</td>\n",
       "      <td>Иван</td>\n",
       "      <td>31</td>\n",
       "      <td>Екатеринбург</td>\n",
       "      <td>free</td>\n",
       "      <td>4407.391436</td>\n",
       "      <td>18.814783</td>\n",
       "      <td>2021-07-28</td>\n",
       "      <td>7</td>\n",
       "      <td>2021</td>\n",
       "      <td>8</td>\n",
       "      <td>50</td>\n",
       "      <td>0</td>\n",
       "    </tr>\n",
       "  </tbody>\n",
       "</table>\n",
       "</div>"
      ],
      "text/plain": [
       "      user_id   name  age          city subscription_type     distance  \\\n",
       "6500      700  Айдар   22          Омск              free  2515.690719   \n",
       "6501      700  Айдар   22          Омск              free   846.932642   \n",
       "6502      700  Айдар   22          Омск              free  4004.434142   \n",
       "6503      700  Айдар   22          Омск              free  1205.911290   \n",
       "6504      700  Айдар   22          Омск              free  3047.379435   \n",
       "6505      700  Айдар   22          Омск              free  4342.002254   \n",
       "6506      700  Айдар   22          Омск              free  3798.334905   \n",
       "6507      700  Айдар   22          Омск              free  2984.551206   \n",
       "6508      700  Айдар   22          Омск              free  3360.107141   \n",
       "6509      700  Айдар   22          Омск              free  2567.543847   \n",
       "6510      700  Айдар   22          Омск              free  4110.232038   \n",
       "6511      700  Айдар   22          Омск              free   288.974241   \n",
       "6512      700  Айдар   22          Омск              free  4071.654669   \n",
       "6513      700  Айдар   22          Омск              free  1920.188901   \n",
       "6514      700  Айдар   22          Омск              free  4402.389717   \n",
       "6515      700  Айдар   22          Омск              free  2409.555418   \n",
       "6516      700  Айдар   22          Омск              free  2639.817512   \n",
       "6517      700  Айдар   22          Омск              free  3686.409695   \n",
       "6518      701   Иван   31  Екатеринбург              free  2676.472894   \n",
       "6519      701   Иван   31  Екатеринбург              free  2743.677431   \n",
       "6520      701   Иван   31  Екатеринбург              free  2893.656575   \n",
       "6521      701   Иван   31  Екатеринбург              free  2802.021357   \n",
       "6522      701   Иван   31  Екатеринбург              free  3509.012965   \n",
       "6523      701   Иван   31  Екатеринбург              free  2465.852577   \n",
       "6524      701   Иван   31  Екатеринбург              free   731.410111   \n",
       "6525      701   Иван   31  Екатеринбург              free  3903.210649   \n",
       "6526      701   Иван   31  Екатеринбург              free  3441.595717   \n",
       "6527      701   Иван   31  Екатеринбург              free  1133.584211   \n",
       "6528      701   Иван   31  Екатеринбург              free  3988.151318   \n",
       "6529      701   Иван   31  Екатеринбург              free  4407.391436   \n",
       "\n",
       "       duration       date  date_month  date_year  minute_price  \\\n",
       "6500  14.944286 2021-01-02           1       2021             8   \n",
       "6501  16.234663 2021-02-01           2       2021             8   \n",
       "6502  20.016628 2021-02-04           2       2021             8   \n",
       "6503   9.782872 2021-02-10           2       2021             8   \n",
       "6504  17.427673 2021-02-14           2       2021             8   \n",
       "6505  22.368009 2021-02-23           2       2021             8   \n",
       "6506  18.243756 2021-03-03           3       2021             8   \n",
       "6507  15.424899 2021-04-09           4       2021             8   \n",
       "6508  16.765497 2021-06-12           6       2021             8   \n",
       "6509  11.312160 2021-06-23           6       2021             8   \n",
       "6510  15.807640 2021-07-08           7       2021             8   \n",
       "6511   4.788112 2021-07-18           7       2021             8   \n",
       "6512  16.370546 2021-08-17           8       2021             8   \n",
       "6513   9.608453 2021-10-08          10       2021             8   \n",
       "6514  33.013035 2021-10-15          10       2021             8   \n",
       "6515   8.560513 2021-11-03          11       2021             8   \n",
       "6516   8.656752 2021-11-14          11       2021             8   \n",
       "6517  13.899449 2021-11-21          11       2021             8   \n",
       "6518  17.470598 2021-01-23           1       2021             8   \n",
       "6519  14.974710 2021-02-13           2       2021             8   \n",
       "6520  11.891791 2021-02-20           2       2021             8   \n",
       "6521  16.008663 2021-03-12           3       2021             8   \n",
       "6522  13.081094 2021-04-17           4       2021             8   \n",
       "6523  14.283970 2021-05-31           5       2021             8   \n",
       "6524   6.657051 2021-06-02           6       2021             8   \n",
       "6525  18.367706 2021-06-20           6       2021             8   \n",
       "6526  18.978076 2021-07-04           7       2021             8   \n",
       "6527   6.250941 2021-07-17           7       2021             8   \n",
       "6528  20.092077 2021-07-28           7       2021             8   \n",
       "6529  18.814783 2021-07-28           7       2021             8   \n",
       "\n",
       "      start_ride_price  subscription_fee  \n",
       "6500                50                 0  \n",
       "6501                50                 0  \n",
       "6502                50                 0  \n",
       "6503                50                 0  \n",
       "6504                50                 0  \n",
       "6505                50                 0  \n",
       "6506                50                 0  \n",
       "6507                50                 0  \n",
       "6508                50                 0  \n",
       "6509                50                 0  \n",
       "6510                50                 0  \n",
       "6511                50                 0  \n",
       "6512                50                 0  \n",
       "6513                50                 0  \n",
       "6514                50                 0  \n",
       "6515                50                 0  \n",
       "6516                50                 0  \n",
       "6517                50                 0  \n",
       "6518                50                 0  \n",
       "6519                50                 0  \n",
       "6520                50                 0  \n",
       "6521                50                 0  \n",
       "6522                50                 0  \n",
       "6523                50                 0  \n",
       "6524                50                 0  \n",
       "6525                50                 0  \n",
       "6526                50                 0  \n",
       "6527                50                 0  \n",
       "6528                50                 0  \n",
       "6529                50                 0  "
      ]
     },
     "metadata": {},
     "output_type": "display_data"
    },
    {
     "data": {
      "text/html": [
       "<div>\n",
       "<style scoped>\n",
       "    .dataframe tbody tr th:only-of-type {\n",
       "        vertical-align: middle;\n",
       "    }\n",
       "\n",
       "    .dataframe tbody tr th {\n",
       "        vertical-align: top;\n",
       "    }\n",
       "\n",
       "    .dataframe thead th {\n",
       "        text-align: right;\n",
       "    }\n",
       "</style>\n",
       "<table border=\"1\" class=\"dataframe\">\n",
       "  <thead>\n",
       "    <tr style=\"text-align: right;\">\n",
       "      <th></th>\n",
       "      <th>user_id</th>\n",
       "      <th>name</th>\n",
       "      <th>age</th>\n",
       "      <th>city</th>\n",
       "      <th>subscription_type</th>\n",
       "      <th>distance</th>\n",
       "      <th>duration</th>\n",
       "      <th>date</th>\n",
       "      <th>date_month</th>\n",
       "      <th>date_year</th>\n",
       "      <th>minute_price</th>\n",
       "      <th>start_ride_price</th>\n",
       "      <th>subscription_fee</th>\n",
       "    </tr>\n",
       "  </thead>\n",
       "  <tbody>\n",
       "    <tr>\n",
       "      <th>0</th>\n",
       "      <td>1</td>\n",
       "      <td>Кира</td>\n",
       "      <td>22</td>\n",
       "      <td>Тюмень</td>\n",
       "      <td>ultra</td>\n",
       "      <td>4409.919140</td>\n",
       "      <td>25.599769</td>\n",
       "      <td>2021-01-01</td>\n",
       "      <td>1</td>\n",
       "      <td>2021</td>\n",
       "      <td>6</td>\n",
       "      <td>0</td>\n",
       "      <td>199</td>\n",
       "    </tr>\n",
       "    <tr>\n",
       "      <th>1</th>\n",
       "      <td>1</td>\n",
       "      <td>Кира</td>\n",
       "      <td>22</td>\n",
       "      <td>Тюмень</td>\n",
       "      <td>ultra</td>\n",
       "      <td>2617.592153</td>\n",
       "      <td>15.816871</td>\n",
       "      <td>2021-01-18</td>\n",
       "      <td>1</td>\n",
       "      <td>2021</td>\n",
       "      <td>6</td>\n",
       "      <td>0</td>\n",
       "      <td>199</td>\n",
       "    </tr>\n",
       "    <tr>\n",
       "      <th>2</th>\n",
       "      <td>1</td>\n",
       "      <td>Кира</td>\n",
       "      <td>22</td>\n",
       "      <td>Тюмень</td>\n",
       "      <td>ultra</td>\n",
       "      <td>754.159807</td>\n",
       "      <td>6.232113</td>\n",
       "      <td>2021-04-20</td>\n",
       "      <td>4</td>\n",
       "      <td>2021</td>\n",
       "      <td>6</td>\n",
       "      <td>0</td>\n",
       "      <td>199</td>\n",
       "    </tr>\n",
       "    <tr>\n",
       "      <th>3</th>\n",
       "      <td>1</td>\n",
       "      <td>Кира</td>\n",
       "      <td>22</td>\n",
       "      <td>Тюмень</td>\n",
       "      <td>ultra</td>\n",
       "      <td>2694.783254</td>\n",
       "      <td>18.511000</td>\n",
       "      <td>2021-08-11</td>\n",
       "      <td>8</td>\n",
       "      <td>2021</td>\n",
       "      <td>6</td>\n",
       "      <td>0</td>\n",
       "      <td>199</td>\n",
       "    </tr>\n",
       "    <tr>\n",
       "      <th>4</th>\n",
       "      <td>1</td>\n",
       "      <td>Кира</td>\n",
       "      <td>22</td>\n",
       "      <td>Тюмень</td>\n",
       "      <td>ultra</td>\n",
       "      <td>4028.687306</td>\n",
       "      <td>26.265803</td>\n",
       "      <td>2021-08-28</td>\n",
       "      <td>8</td>\n",
       "      <td>2021</td>\n",
       "      <td>6</td>\n",
       "      <td>0</td>\n",
       "      <td>199</td>\n",
       "    </tr>\n",
       "    <tr>\n",
       "      <th>5</th>\n",
       "      <td>1</td>\n",
       "      <td>Кира</td>\n",
       "      <td>22</td>\n",
       "      <td>Тюмень</td>\n",
       "      <td>ultra</td>\n",
       "      <td>2770.890808</td>\n",
       "      <td>16.650138</td>\n",
       "      <td>2021-10-09</td>\n",
       "      <td>10</td>\n",
       "      <td>2021</td>\n",
       "      <td>6</td>\n",
       "      <td>0</td>\n",
       "      <td>199</td>\n",
       "    </tr>\n",
       "    <tr>\n",
       "      <th>6</th>\n",
       "      <td>1</td>\n",
       "      <td>Кира</td>\n",
       "      <td>22</td>\n",
       "      <td>Тюмень</td>\n",
       "      <td>ultra</td>\n",
       "      <td>3039.020292</td>\n",
       "      <td>14.927879</td>\n",
       "      <td>2021-10-19</td>\n",
       "      <td>10</td>\n",
       "      <td>2021</td>\n",
       "      <td>6</td>\n",
       "      <td>0</td>\n",
       "      <td>199</td>\n",
       "    </tr>\n",
       "    <tr>\n",
       "      <th>7</th>\n",
       "      <td>1</td>\n",
       "      <td>Кира</td>\n",
       "      <td>22</td>\n",
       "      <td>Тюмень</td>\n",
       "      <td>ultra</td>\n",
       "      <td>2842.118050</td>\n",
       "      <td>23.117468</td>\n",
       "      <td>2021-11-06</td>\n",
       "      <td>11</td>\n",
       "      <td>2021</td>\n",
       "      <td>6</td>\n",
       "      <td>0</td>\n",
       "      <td>199</td>\n",
       "    </tr>\n",
       "    <tr>\n",
       "      <th>8</th>\n",
       "      <td>1</td>\n",
       "      <td>Кира</td>\n",
       "      <td>22</td>\n",
       "      <td>Тюмень</td>\n",
       "      <td>ultra</td>\n",
       "      <td>3412.690668</td>\n",
       "      <td>15.238072</td>\n",
       "      <td>2021-11-14</td>\n",
       "      <td>11</td>\n",
       "      <td>2021</td>\n",
       "      <td>6</td>\n",
       "      <td>0</td>\n",
       "      <td>199</td>\n",
       "    </tr>\n",
       "    <tr>\n",
       "      <th>9</th>\n",
       "      <td>1</td>\n",
       "      <td>Кира</td>\n",
       "      <td>22</td>\n",
       "      <td>Тюмень</td>\n",
       "      <td>ultra</td>\n",
       "      <td>748.690645</td>\n",
       "      <td>15.041884</td>\n",
       "      <td>2021-11-22</td>\n",
       "      <td>11</td>\n",
       "      <td>2021</td>\n",
       "      <td>6</td>\n",
       "      <td>0</td>\n",
       "      <td>199</td>\n",
       "    </tr>\n",
       "    <tr>\n",
       "      <th>10</th>\n",
       "      <td>1</td>\n",
       "      <td>Кира</td>\n",
       "      <td>22</td>\n",
       "      <td>Тюмень</td>\n",
       "      <td>ultra</td>\n",
       "      <td>4031.020195</td>\n",
       "      <td>17.674448</td>\n",
       "      <td>2021-12-14</td>\n",
       "      <td>12</td>\n",
       "      <td>2021</td>\n",
       "      <td>6</td>\n",
       "      <td>0</td>\n",
       "      <td>199</td>\n",
       "    </tr>\n",
       "    <tr>\n",
       "      <th>11</th>\n",
       "      <td>1</td>\n",
       "      <td>Кира</td>\n",
       "      <td>22</td>\n",
       "      <td>Тюмень</td>\n",
       "      <td>ultra</td>\n",
       "      <td>2720.609748</td>\n",
       "      <td>9.529463</td>\n",
       "      <td>2021-12-22</td>\n",
       "      <td>12</td>\n",
       "      <td>2021</td>\n",
       "      <td>6</td>\n",
       "      <td>0</td>\n",
       "      <td>199</td>\n",
       "    </tr>\n",
       "    <tr>\n",
       "      <th>12</th>\n",
       "      <td>2</td>\n",
       "      <td>Станислав</td>\n",
       "      <td>31</td>\n",
       "      <td>Омск</td>\n",
       "      <td>ultra</td>\n",
       "      <td>3105.086678</td>\n",
       "      <td>24.307514</td>\n",
       "      <td>2021-03-15</td>\n",
       "      <td>3</td>\n",
       "      <td>2021</td>\n",
       "      <td>6</td>\n",
       "      <td>0</td>\n",
       "      <td>199</td>\n",
       "    </tr>\n",
       "    <tr>\n",
       "      <th>13</th>\n",
       "      <td>2</td>\n",
       "      <td>Станислав</td>\n",
       "      <td>31</td>\n",
       "      <td>Омск</td>\n",
       "      <td>ultra</td>\n",
       "      <td>3053.519401</td>\n",
       "      <td>11.543256</td>\n",
       "      <td>2021-03-18</td>\n",
       "      <td>3</td>\n",
       "      <td>2021</td>\n",
       "      <td>6</td>\n",
       "      <td>0</td>\n",
       "      <td>199</td>\n",
       "    </tr>\n",
       "    <tr>\n",
       "      <th>14</th>\n",
       "      <td>2</td>\n",
       "      <td>Станислав</td>\n",
       "      <td>31</td>\n",
       "      <td>Омск</td>\n",
       "      <td>ultra</td>\n",
       "      <td>4029.116927</td>\n",
       "      <td>25.109188</td>\n",
       "      <td>2021-03-23</td>\n",
       "      <td>3</td>\n",
       "      <td>2021</td>\n",
       "      <td>6</td>\n",
       "      <td>0</td>\n",
       "      <td>199</td>\n",
       "    </tr>\n",
       "    <tr>\n",
       "      <th>15</th>\n",
       "      <td>2</td>\n",
       "      <td>Станислав</td>\n",
       "      <td>31</td>\n",
       "      <td>Омск</td>\n",
       "      <td>ultra</td>\n",
       "      <td>2805.786329</td>\n",
       "      <td>20.652145</td>\n",
       "      <td>2021-04-08</td>\n",
       "      <td>4</td>\n",
       "      <td>2021</td>\n",
       "      <td>6</td>\n",
       "      <td>0</td>\n",
       "      <td>199</td>\n",
       "    </tr>\n",
       "    <tr>\n",
       "      <th>16</th>\n",
       "      <td>2</td>\n",
       "      <td>Станислав</td>\n",
       "      <td>31</td>\n",
       "      <td>Омск</td>\n",
       "      <td>ultra</td>\n",
       "      <td>3358.595495</td>\n",
       "      <td>18.396489</td>\n",
       "      <td>2021-04-13</td>\n",
       "      <td>4</td>\n",
       "      <td>2021</td>\n",
       "      <td>6</td>\n",
       "      <td>0</td>\n",
       "      <td>199</td>\n",
       "    </tr>\n",
       "    <tr>\n",
       "      <th>17</th>\n",
       "      <td>2</td>\n",
       "      <td>Станислав</td>\n",
       "      <td>31</td>\n",
       "      <td>Омск</td>\n",
       "      <td>ultra</td>\n",
       "      <td>3255.338202</td>\n",
       "      <td>13.851127</td>\n",
       "      <td>2021-06-20</td>\n",
       "      <td>6</td>\n",
       "      <td>2021</td>\n",
       "      <td>6</td>\n",
       "      <td>0</td>\n",
       "      <td>199</td>\n",
       "    </tr>\n",
       "    <tr>\n",
       "      <th>18</th>\n",
       "      <td>2</td>\n",
       "      <td>Станислав</td>\n",
       "      <td>31</td>\n",
       "      <td>Омск</td>\n",
       "      <td>ultra</td>\n",
       "      <td>3942.817648</td>\n",
       "      <td>20.142725</td>\n",
       "      <td>2021-07-02</td>\n",
       "      <td>7</td>\n",
       "      <td>2021</td>\n",
       "      <td>6</td>\n",
       "      <td>0</td>\n",
       "      <td>199</td>\n",
       "    </tr>\n",
       "    <tr>\n",
       "      <th>19</th>\n",
       "      <td>2</td>\n",
       "      <td>Станислав</td>\n",
       "      <td>31</td>\n",
       "      <td>Омск</td>\n",
       "      <td>ultra</td>\n",
       "      <td>2837.905316</td>\n",
       "      <td>26.027432</td>\n",
       "      <td>2021-07-18</td>\n",
       "      <td>7</td>\n",
       "      <td>2021</td>\n",
       "      <td>6</td>\n",
       "      <td>0</td>\n",
       "      <td>199</td>\n",
       "    </tr>\n",
       "    <tr>\n",
       "      <th>20</th>\n",
       "      <td>2</td>\n",
       "      <td>Станислав</td>\n",
       "      <td>31</td>\n",
       "      <td>Омск</td>\n",
       "      <td>ultra</td>\n",
       "      <td>923.007439</td>\n",
       "      <td>6.914760</td>\n",
       "      <td>2021-08-03</td>\n",
       "      <td>8</td>\n",
       "      <td>2021</td>\n",
       "      <td>6</td>\n",
       "      <td>0</td>\n",
       "      <td>199</td>\n",
       "    </tr>\n",
       "    <tr>\n",
       "      <th>21</th>\n",
       "      <td>2</td>\n",
       "      <td>Станислав</td>\n",
       "      <td>31</td>\n",
       "      <td>Омск</td>\n",
       "      <td>ultra</td>\n",
       "      <td>2824.636598</td>\n",
       "      <td>18.779128</td>\n",
       "      <td>2021-10-27</td>\n",
       "      <td>10</td>\n",
       "      <td>2021</td>\n",
       "      <td>6</td>\n",
       "      <td>0</td>\n",
       "      <td>199</td>\n",
       "    </tr>\n",
       "    <tr>\n",
       "      <th>22</th>\n",
       "      <td>2</td>\n",
       "      <td>Станислав</td>\n",
       "      <td>31</td>\n",
       "      <td>Омск</td>\n",
       "      <td>ultra</td>\n",
       "      <td>3828.248580</td>\n",
       "      <td>11.920514</td>\n",
       "      <td>2021-12-18</td>\n",
       "      <td>12</td>\n",
       "      <td>2021</td>\n",
       "      <td>6</td>\n",
       "      <td>0</td>\n",
       "      <td>199</td>\n",
       "    </tr>\n",
       "    <tr>\n",
       "      <th>23</th>\n",
       "      <td>3</td>\n",
       "      <td>Алексей</td>\n",
       "      <td>20</td>\n",
       "      <td>Москва</td>\n",
       "      <td>ultra</td>\n",
       "      <td>3061.777147</td>\n",
       "      <td>12.654443</td>\n",
       "      <td>2021-01-31</td>\n",
       "      <td>1</td>\n",
       "      <td>2021</td>\n",
       "      <td>6</td>\n",
       "      <td>0</td>\n",
       "      <td>199</td>\n",
       "    </tr>\n",
       "    <tr>\n",
       "      <th>24</th>\n",
       "      <td>3</td>\n",
       "      <td>Алексей</td>\n",
       "      <td>20</td>\n",
       "      <td>Москва</td>\n",
       "      <td>ultra</td>\n",
       "      <td>2560.495330</td>\n",
       "      <td>16.534984</td>\n",
       "      <td>2021-02-24</td>\n",
       "      <td>2</td>\n",
       "      <td>2021</td>\n",
       "      <td>6</td>\n",
       "      <td>0</td>\n",
       "      <td>199</td>\n",
       "    </tr>\n",
       "    <tr>\n",
       "      <th>25</th>\n",
       "      <td>3</td>\n",
       "      <td>Алексей</td>\n",
       "      <td>20</td>\n",
       "      <td>Москва</td>\n",
       "      <td>ultra</td>\n",
       "      <td>2860.656686</td>\n",
       "      <td>21.033653</td>\n",
       "      <td>2021-02-26</td>\n",
       "      <td>2</td>\n",
       "      <td>2021</td>\n",
       "      <td>6</td>\n",
       "      <td>0</td>\n",
       "      <td>199</td>\n",
       "    </tr>\n",
       "    <tr>\n",
       "      <th>26</th>\n",
       "      <td>3</td>\n",
       "      <td>Алексей</td>\n",
       "      <td>20</td>\n",
       "      <td>Москва</td>\n",
       "      <td>ultra</td>\n",
       "      <td>2956.651632</td>\n",
       "      <td>20.671364</td>\n",
       "      <td>2021-04-12</td>\n",
       "      <td>4</td>\n",
       "      <td>2021</td>\n",
       "      <td>6</td>\n",
       "      <td>0</td>\n",
       "      <td>199</td>\n",
       "    </tr>\n",
       "    <tr>\n",
       "      <th>27</th>\n",
       "      <td>3</td>\n",
       "      <td>Алексей</td>\n",
       "      <td>20</td>\n",
       "      <td>Москва</td>\n",
       "      <td>ultra</td>\n",
       "      <td>2756.975841</td>\n",
       "      <td>18.519025</td>\n",
       "      <td>2021-05-07</td>\n",
       "      <td>5</td>\n",
       "      <td>2021</td>\n",
       "      <td>6</td>\n",
       "      <td>0</td>\n",
       "      <td>199</td>\n",
       "    </tr>\n",
       "    <tr>\n",
       "      <th>28</th>\n",
       "      <td>3</td>\n",
       "      <td>Алексей</td>\n",
       "      <td>20</td>\n",
       "      <td>Москва</td>\n",
       "      <td>ultra</td>\n",
       "      <td>2837.317332</td>\n",
       "      <td>24.476276</td>\n",
       "      <td>2021-05-21</td>\n",
       "      <td>5</td>\n",
       "      <td>2021</td>\n",
       "      <td>6</td>\n",
       "      <td>0</td>\n",
       "      <td>199</td>\n",
       "    </tr>\n",
       "    <tr>\n",
       "      <th>29</th>\n",
       "      <td>3</td>\n",
       "      <td>Алексей</td>\n",
       "      <td>20</td>\n",
       "      <td>Москва</td>\n",
       "      <td>ultra</td>\n",
       "      <td>3469.733745</td>\n",
       "      <td>18.409201</td>\n",
       "      <td>2021-05-22</td>\n",
       "      <td>5</td>\n",
       "      <td>2021</td>\n",
       "      <td>6</td>\n",
       "      <td>0</td>\n",
       "      <td>199</td>\n",
       "    </tr>\n",
       "  </tbody>\n",
       "</table>\n",
       "</div>"
      ],
      "text/plain": [
       "    user_id       name  age    city subscription_type     distance   duration  \\\n",
       "0         1       Кира   22  Тюмень             ultra  4409.919140  25.599769   \n",
       "1         1       Кира   22  Тюмень             ultra  2617.592153  15.816871   \n",
       "2         1       Кира   22  Тюмень             ultra   754.159807   6.232113   \n",
       "3         1       Кира   22  Тюмень             ultra  2694.783254  18.511000   \n",
       "4         1       Кира   22  Тюмень             ultra  4028.687306  26.265803   \n",
       "5         1       Кира   22  Тюмень             ultra  2770.890808  16.650138   \n",
       "6         1       Кира   22  Тюмень             ultra  3039.020292  14.927879   \n",
       "7         1       Кира   22  Тюмень             ultra  2842.118050  23.117468   \n",
       "8         1       Кира   22  Тюмень             ultra  3412.690668  15.238072   \n",
       "9         1       Кира   22  Тюмень             ultra   748.690645  15.041884   \n",
       "10        1       Кира   22  Тюмень             ultra  4031.020195  17.674448   \n",
       "11        1       Кира   22  Тюмень             ultra  2720.609748   9.529463   \n",
       "12        2  Станислав   31    Омск             ultra  3105.086678  24.307514   \n",
       "13        2  Станислав   31    Омск             ultra  3053.519401  11.543256   \n",
       "14        2  Станислав   31    Омск             ultra  4029.116927  25.109188   \n",
       "15        2  Станислав   31    Омск             ultra  2805.786329  20.652145   \n",
       "16        2  Станислав   31    Омск             ultra  3358.595495  18.396489   \n",
       "17        2  Станислав   31    Омск             ultra  3255.338202  13.851127   \n",
       "18        2  Станислав   31    Омск             ultra  3942.817648  20.142725   \n",
       "19        2  Станислав   31    Омск             ultra  2837.905316  26.027432   \n",
       "20        2  Станислав   31    Омск             ultra   923.007439   6.914760   \n",
       "21        2  Станислав   31    Омск             ultra  2824.636598  18.779128   \n",
       "22        2  Станислав   31    Омск             ultra  3828.248580  11.920514   \n",
       "23        3    Алексей   20  Москва             ultra  3061.777147  12.654443   \n",
       "24        3    Алексей   20  Москва             ultra  2560.495330  16.534984   \n",
       "25        3    Алексей   20  Москва             ultra  2860.656686  21.033653   \n",
       "26        3    Алексей   20  Москва             ultra  2956.651632  20.671364   \n",
       "27        3    Алексей   20  Москва             ultra  2756.975841  18.519025   \n",
       "28        3    Алексей   20  Москва             ultra  2837.317332  24.476276   \n",
       "29        3    Алексей   20  Москва             ultra  3469.733745  18.409201   \n",
       "\n",
       "         date  date_month  date_year  minute_price  start_ride_price  \\\n",
       "0  2021-01-01           1       2021             6                 0   \n",
       "1  2021-01-18           1       2021             6                 0   \n",
       "2  2021-04-20           4       2021             6                 0   \n",
       "3  2021-08-11           8       2021             6                 0   \n",
       "4  2021-08-28           8       2021             6                 0   \n",
       "5  2021-10-09          10       2021             6                 0   \n",
       "6  2021-10-19          10       2021             6                 0   \n",
       "7  2021-11-06          11       2021             6                 0   \n",
       "8  2021-11-14          11       2021             6                 0   \n",
       "9  2021-11-22          11       2021             6                 0   \n",
       "10 2021-12-14          12       2021             6                 0   \n",
       "11 2021-12-22          12       2021             6                 0   \n",
       "12 2021-03-15           3       2021             6                 0   \n",
       "13 2021-03-18           3       2021             6                 0   \n",
       "14 2021-03-23           3       2021             6                 0   \n",
       "15 2021-04-08           4       2021             6                 0   \n",
       "16 2021-04-13           4       2021             6                 0   \n",
       "17 2021-06-20           6       2021             6                 0   \n",
       "18 2021-07-02           7       2021             6                 0   \n",
       "19 2021-07-18           7       2021             6                 0   \n",
       "20 2021-08-03           8       2021             6                 0   \n",
       "21 2021-10-27          10       2021             6                 0   \n",
       "22 2021-12-18          12       2021             6                 0   \n",
       "23 2021-01-31           1       2021             6                 0   \n",
       "24 2021-02-24           2       2021             6                 0   \n",
       "25 2021-02-26           2       2021             6                 0   \n",
       "26 2021-04-12           4       2021             6                 0   \n",
       "27 2021-05-07           5       2021             6                 0   \n",
       "28 2021-05-21           5       2021             6                 0   \n",
       "29 2021-05-22           5       2021             6                 0   \n",
       "\n",
       "    subscription_fee  \n",
       "0                199  \n",
       "1                199  \n",
       "2                199  \n",
       "3                199  \n",
       "4                199  \n",
       "5                199  \n",
       "6                199  \n",
       "7                199  \n",
       "8                199  \n",
       "9                199  \n",
       "10               199  \n",
       "11               199  \n",
       "12               199  \n",
       "13               199  \n",
       "14               199  \n",
       "15               199  \n",
       "16               199  \n",
       "17               199  \n",
       "18               199  \n",
       "19               199  \n",
       "20               199  \n",
       "21               199  \n",
       "22               199  \n",
       "23               199  \n",
       "24               199  \n",
       "25               199  \n",
       "26               199  \n",
       "27               199  \n",
       "28               199  \n",
       "29               199  "
      ]
     },
     "metadata": {},
     "output_type": "display_data"
    }
   ],
   "source": [
    "# Пользователи без подписки\n",
    "\n",
    "combined_free = combined.query('subscription_type == \"free\"')\n",
    "\n",
    "# Пользователи с подпиской\n",
    "\n",
    "combined_ultra = combined.query('subscription_type == \"ultra\"')\n",
    "\n",
    "# проверка\n",
    "display(combined.head(30))\n",
    "display(combined_free.head(30))\n",
    "display(combined_ultra.head(30))"
   ]
  },
  {
   "cell_type": "markdown",
   "id": "d95248d8",
   "metadata": {},
   "source": [
    "##### Визуализируйте информацию о расстоянии и времени поездок для пользователей обеих категорий. "
   ]
  },
  {
   "cell_type": "code",
   "execution_count": 14,
   "id": "bd74ffa1",
   "metadata": {},
   "outputs": [
    {
     "data": {
      "text/plain": [
       "<AxesSubplot:title={'center':'Расстояние, которое пользователь преодолел за одну поездку (в метрах)'}, ylabel='Frequency'>"
      ]
     },
     "execution_count": 14,
     "metadata": {},
     "output_type": "execute_result"
    },
    {
     "data": {
      "image/png": "[encoded data removed]",
      "text/plain": [
       "<Figure size 432x288 with 1 Axes>"
      ]
     },
     "metadata": {
      "needs_background": "light"
     },
     "output_type": "display_data"
    }
   ],
   "source": [
    "combined_free['distance'].plot(\n",
    "    kind='hist',\n",
    "    y='duration',\n",
    "    histtype='step',\n",
    "    bins=20,\n",
    "    linewidth=4,\n",
    "    alpha=0.7,\n",
    "    label='free',\n",
    ")\n",
    "combined_ultra['distance'].plot(\n",
    "    kind='hist',\n",
    "    y='duration',\n",
    "    histtype='step',\n",
    "    bins=20,\n",
    "    linewidth=4,\n",
    "    alpha=0.7,\n",
    "    label='ultra',\n",
    "    grid=True,\n",
    "    legend=True,\n",
    "    title='Расстояние, которое пользователь преодолел за одну поездку (в метрах)'\n",
    ")"
   ]
  },
  {
   "cell_type": "markdown",
   "id": "5ec07080",
   "metadata": {},
   "source": [
    "Видим, что разброс в километраже поездок для пользователей без подписки больше: пользователи совершили поездки на расстояние от практически 1 метра до чуть более 7 км. В то время как поездки пользователей с подпиской варьируются от 200 метров до 5,7 км.\n",
    "Поездки на расстояние от 1,6 до 2,1 км не очень популярны среди пользователей с подпиской. Похожий провал на графике есть среди пользователей без подписки, но с другими значениями: от 1 км. до 1,8 км.\n",
    "При этом среднее расстояние для обеих групп пользователей примерно одинаково и составляет чуть более 3 км."
   ]
  },
  {
   "cell_type": "code",
   "execution_count": 15,
   "id": "46c79309",
   "metadata": {},
   "outputs": [
    {
     "data": {
      "text/plain": [
       "<AxesSubplot:title={'center':'Продолжительность поездок пользователей (в минутах)'}, ylabel='Frequency'>"
      ]
     },
     "execution_count": 15,
     "metadata": {},
     "output_type": "execute_result"
    },
    {
     "data": {
      "image/png": "[encoded data removed]",
      "text/plain": [
       "<Figure size 432x288 with 1 Axes>"
      ]
     },
     "metadata": {
      "needs_background": "light"
     },
     "output_type": "display_data"
    }
   ],
   "source": [
    "combined_free['duration'].plot(\n",
    "    kind='hist',\n",
    "    y='duration',\n",
    "    histtype='step',\n",
    "    bins=10,\n",
    "    linewidth=4,\n",
    "    alpha=0.7,\n",
    "    label='free',\n",
    ")\n",
    "combined_ultra['duration'].plot(\n",
    "    kind='hist',\n",
    "    y='duration',\n",
    "    histtype='step',\n",
    "    bins=10,\n",
    "    linewidth=4,\n",
    "    alpha=0.7,\n",
    "    label='ultra',\n",
    "    grid=True,\n",
    "    legend=True,\n",
    "    title='Продолжительность поездок пользователей (в минутах)'\n",
    ")"
   ]
  },
  {
   "cell_type": "markdown",
   "id": "b778b553",
   "metadata": {},
   "source": [
    "Видим, что продолжительность поездок среди двух групп пользователей очень похожи между собой за небольшим исключением: среди пользователей с подпиской нет поездок менее 3 минут, в то время как минимальная поездка для пользователей без подписки - 1 минута. Также максимальная продолжительность поездки среди пользователей без подписки - 35 минут (возможно это установленное ограничение в приложении), для пользователей с подпиской - свыше 40 минут."
   ]
  },
  {
   "cell_type": "markdown",
   "id": "402d620f",
   "metadata": {},
   "source": [
    "#### Шаг 5. Подсчёт выручки"
   ]
  },
  {
   "cell_type": "markdown",
   "id": "534f7e34",
   "metadata": {},
   "source": [
    "##### Сводный датафрейм: суммарное расстояние, количество поездок и суммарное время для каждого пользователя за каждый месяц."
   ]
  },
  {
   "cell_type": "code",
   "execution_count": 16,
   "id": "53049e0a",
   "metadata": {},
   "outputs": [],
   "source": [
    "# Добавим вспомогательный столбец с округлением длительности поездок для последующего расчета помесячной выручки\n",
    "\n",
    "combined['duration_sub'] = np.ceil(combined['duration'])\n",
    "\n",
    "agg_data = (combined.groupby(['user_id', 'date_month']).agg(\n",
    "    total_distance=('distance', 'sum'), \n",
    "    total_rides=('user_id', 'count'), \n",
    "    total_duration=('duration', 'sum'),\n",
    "    total_duration_sub=('duration_sub', 'sum'),\n",
    "    minute_price=('minute_price', 'first'),\n",
    "    start_ride_price=('start_ride_price', 'first'),\n",
    "    subscription_fee=('subscription_fee', 'first'),\n",
    "    subscription_type=('subscription_type', 'first')).reset_index()  #сохраним тип подписки для задания 6.3\n",
    "        );"
   ]
  },
  {
   "cell_type": "markdown",
   "id": "fea40028",
   "metadata": {},
   "source": [
    "##### Новый столбец с помесячной выручкой, которую принёс каждый пользователь."
   ]
  },
  {
   "cell_type": "code",
   "execution_count": 17,
   "id": "0e13689f",
   "metadata": {},
   "outputs": [],
   "source": [
    "agg_data['revenue_month'] = (\n",
    "    agg_data['total_rides'] * agg_data['start_ride_price'] \n",
    "    + agg_data['total_duration_sub'] * agg_data['minute_price'] \n",
    "    + agg_data['subscription_fee'] \n",
    ")"
   ]
  },
  {
   "cell_type": "code",
   "execution_count": 18,
   "id": "bb76975e",
   "metadata": {},
   "outputs": [
    {
     "data": {
      "text/html": [
       "<div>\n",
       "<style scoped>\n",
       "    .dataframe tbody tr th:only-of-type {\n",
       "        vertical-align: middle;\n",
       "    }\n",
       "\n",
       "    .dataframe tbody tr th {\n",
       "        vertical-align: top;\n",
       "    }\n",
       "\n",
       "    .dataframe thead th {\n",
       "        text-align: right;\n",
       "    }\n",
       "</style>\n",
       "<table border=\"1\" class=\"dataframe\">\n",
       "  <thead>\n",
       "    <tr style=\"text-align: right;\">\n",
       "      <th></th>\n",
       "      <th>user_id</th>\n",
       "      <th>date_month</th>\n",
       "      <th>total_distance</th>\n",
       "      <th>total_rides</th>\n",
       "      <th>total_duration</th>\n",
       "      <th>total_duration_sub</th>\n",
       "      <th>minute_price</th>\n",
       "      <th>start_ride_price</th>\n",
       "      <th>subscription_fee</th>\n",
       "      <th>subscription_type</th>\n",
       "      <th>revenue_month</th>\n",
       "    </tr>\n",
       "  </thead>\n",
       "  <tbody>\n",
       "    <tr>\n",
       "      <th>0</th>\n",
       "      <td>1</td>\n",
       "      <td>1</td>\n",
       "      <td>7027.511294</td>\n",
       "      <td>2</td>\n",
       "      <td>41.416640</td>\n",
       "      <td>42.0</td>\n",
       "      <td>6</td>\n",
       "      <td>0</td>\n",
       "      <td>199</td>\n",
       "      <td>ultra</td>\n",
       "      <td>451.0</td>\n",
       "    </tr>\n",
       "    <tr>\n",
       "      <th>1</th>\n",
       "      <td>1</td>\n",
       "      <td>4</td>\n",
       "      <td>754.159807</td>\n",
       "      <td>1</td>\n",
       "      <td>6.232113</td>\n",
       "      <td>7.0</td>\n",
       "      <td>6</td>\n",
       "      <td>0</td>\n",
       "      <td>199</td>\n",
       "      <td>ultra</td>\n",
       "      <td>241.0</td>\n",
       "    </tr>\n",
       "    <tr>\n",
       "      <th>2</th>\n",
       "      <td>1</td>\n",
       "      <td>8</td>\n",
       "      <td>6723.470560</td>\n",
       "      <td>2</td>\n",
       "      <td>44.776802</td>\n",
       "      <td>46.0</td>\n",
       "      <td>6</td>\n",
       "      <td>0</td>\n",
       "      <td>199</td>\n",
       "      <td>ultra</td>\n",
       "      <td>475.0</td>\n",
       "    </tr>\n",
       "    <tr>\n",
       "      <th>3</th>\n",
       "      <td>1</td>\n",
       "      <td>10</td>\n",
       "      <td>5809.911100</td>\n",
       "      <td>2</td>\n",
       "      <td>31.578017</td>\n",
       "      <td>32.0</td>\n",
       "      <td>6</td>\n",
       "      <td>0</td>\n",
       "      <td>199</td>\n",
       "      <td>ultra</td>\n",
       "      <td>391.0</td>\n",
       "    </tr>\n",
       "    <tr>\n",
       "      <th>4</th>\n",
       "      <td>1</td>\n",
       "      <td>11</td>\n",
       "      <td>7003.499363</td>\n",
       "      <td>3</td>\n",
       "      <td>53.397424</td>\n",
       "      <td>56.0</td>\n",
       "      <td>6</td>\n",
       "      <td>0</td>\n",
       "      <td>199</td>\n",
       "      <td>ultra</td>\n",
       "      <td>535.0</td>\n",
       "    </tr>\n",
       "  </tbody>\n",
       "</table>\n",
       "</div>"
      ],
      "text/plain": [
       "   user_id  date_month  total_distance  total_rides  total_duration  \\\n",
       "0        1           1     7027.511294            2       41.416640   \n",
       "1        1           4      754.159807            1        6.232113   \n",
       "2        1           8     6723.470560            2       44.776802   \n",
       "3        1          10     5809.911100            2       31.578017   \n",
       "4        1          11     7003.499363            3       53.397424   \n",
       "\n",
       "   total_duration_sub  minute_price  start_ride_price  subscription_fee  \\\n",
       "0                42.0             6                 0               199   \n",
       "1                 7.0             6                 0               199   \n",
       "2                46.0             6                 0               199   \n",
       "3                32.0             6                 0               199   \n",
       "4                56.0             6                 0               199   \n",
       "\n",
       "  subscription_type  revenue_month  \n",
       "0             ultra          451.0  \n",
       "1             ultra          241.0  \n",
       "2             ultra          475.0  \n",
       "3             ultra          391.0  \n",
       "4             ultra          535.0  "
      ]
     },
     "metadata": {},
     "output_type": "display_data"
    },
    {
     "data": {
      "text/html": [
       "<div>\n",
       "<style scoped>\n",
       "    .dataframe tbody tr th:only-of-type {\n",
       "        vertical-align: middle;\n",
       "    }\n",
       "\n",
       "    .dataframe tbody tr th {\n",
       "        vertical-align: top;\n",
       "    }\n",
       "\n",
       "    .dataframe thead th {\n",
       "        text-align: right;\n",
       "    }\n",
       "</style>\n",
       "<table border=\"1\" class=\"dataframe\">\n",
       "  <thead>\n",
       "    <tr style=\"text-align: right;\">\n",
       "      <th></th>\n",
       "      <th>user_id</th>\n",
       "      <th>date_month</th>\n",
       "      <th>total_distance</th>\n",
       "      <th>total_rides</th>\n",
       "      <th>total_duration</th>\n",
       "      <th>total_duration_sub</th>\n",
       "      <th>minute_price</th>\n",
       "      <th>start_ride_price</th>\n",
       "      <th>subscription_fee</th>\n",
       "      <th>subscription_type</th>\n",
       "      <th>revenue_month</th>\n",
       "    </tr>\n",
       "  </thead>\n",
       "  <tbody>\n",
       "    <tr>\n",
       "      <th>11326</th>\n",
       "      <td>1534</td>\n",
       "      <td>6</td>\n",
       "      <td>3409.468534</td>\n",
       "      <td>2</td>\n",
       "      <td>24.812678</td>\n",
       "      <td>26.0</td>\n",
       "      <td>8</td>\n",
       "      <td>50</td>\n",
       "      <td>0</td>\n",
       "      <td>free</td>\n",
       "      <td>308.0</td>\n",
       "    </tr>\n",
       "    <tr>\n",
       "      <th>11327</th>\n",
       "      <td>1534</td>\n",
       "      <td>8</td>\n",
       "      <td>7622.453034</td>\n",
       "      <td>2</td>\n",
       "      <td>47.205960</td>\n",
       "      <td>48.0</td>\n",
       "      <td>8</td>\n",
       "      <td>50</td>\n",
       "      <td>0</td>\n",
       "      <td>free</td>\n",
       "      <td>484.0</td>\n",
       "    </tr>\n",
       "    <tr>\n",
       "      <th>11328</th>\n",
       "      <td>1534</td>\n",
       "      <td>9</td>\n",
       "      <td>4928.173852</td>\n",
       "      <td>1</td>\n",
       "      <td>22.560373</td>\n",
       "      <td>23.0</td>\n",
       "      <td>8</td>\n",
       "      <td>50</td>\n",
       "      <td>0</td>\n",
       "      <td>free</td>\n",
       "      <td>234.0</td>\n",
       "    </tr>\n",
       "    <tr>\n",
       "      <th>11329</th>\n",
       "      <td>1534</td>\n",
       "      <td>11</td>\n",
       "      <td>13350.015305</td>\n",
       "      <td>4</td>\n",
       "      <td>76.342174</td>\n",
       "      <td>78.0</td>\n",
       "      <td>8</td>\n",
       "      <td>50</td>\n",
       "      <td>0</td>\n",
       "      <td>free</td>\n",
       "      <td>824.0</td>\n",
       "    </tr>\n",
       "    <tr>\n",
       "      <th>11330</th>\n",
       "      <td>1534</td>\n",
       "      <td>12</td>\n",
       "      <td>2371.711192</td>\n",
       "      <td>1</td>\n",
       "      <td>15.893917</td>\n",
       "      <td>16.0</td>\n",
       "      <td>8</td>\n",
       "      <td>50</td>\n",
       "      <td>0</td>\n",
       "      <td>free</td>\n",
       "      <td>178.0</td>\n",
       "    </tr>\n",
       "  </tbody>\n",
       "</table>\n",
       "</div>"
      ],
      "text/plain": [
       "       user_id  date_month  total_distance  total_rides  total_duration  \\\n",
       "11326     1534           6     3409.468534            2       24.812678   \n",
       "11327     1534           8     7622.453034            2       47.205960   \n",
       "11328     1534           9     4928.173852            1       22.560373   \n",
       "11329     1534          11    13350.015305            4       76.342174   \n",
       "11330     1534          12     2371.711192            1       15.893917   \n",
       "\n",
       "       total_duration_sub  minute_price  start_ride_price  subscription_fee  \\\n",
       "11326                26.0             8                50                 0   \n",
       "11327                48.0             8                50                 0   \n",
       "11328                23.0             8                50                 0   \n",
       "11329                78.0             8                50                 0   \n",
       "11330                16.0             8                50                 0   \n",
       "\n",
       "      subscription_type  revenue_month  \n",
       "11326              free          308.0  \n",
       "11327              free          484.0  \n",
       "11328              free          234.0  \n",
       "11329              free          824.0  \n",
       "11330              free          178.0  "
      ]
     },
     "metadata": {},
     "output_type": "display_data"
    },
    {
     "data": {
      "text/html": [
       "<div>\n",
       "<style scoped>\n",
       "    .dataframe tbody tr th:only-of-type {\n",
       "        vertical-align: middle;\n",
       "    }\n",
       "\n",
       "    .dataframe tbody tr th {\n",
       "        vertical-align: top;\n",
       "    }\n",
       "\n",
       "    .dataframe thead th {\n",
       "        text-align: right;\n",
       "    }\n",
       "</style>\n",
       "<table border=\"1\" class=\"dataframe\">\n",
       "  <thead>\n",
       "    <tr style=\"text-align: right;\">\n",
       "      <th></th>\n",
       "      <th>user_id</th>\n",
       "      <th>date_month</th>\n",
       "      <th>total_distance</th>\n",
       "      <th>total_rides</th>\n",
       "      <th>total_duration</th>\n",
       "      <th>subscription_type</th>\n",
       "      <th>revenue_month</th>\n",
       "    </tr>\n",
       "  </thead>\n",
       "  <tbody>\n",
       "    <tr>\n",
       "      <th>0</th>\n",
       "      <td>1</td>\n",
       "      <td>1</td>\n",
       "      <td>7027.511294</td>\n",
       "      <td>2</td>\n",
       "      <td>41.416640</td>\n",
       "      <td>ultra</td>\n",
       "      <td>451.0</td>\n",
       "    </tr>\n",
       "    <tr>\n",
       "      <th>1</th>\n",
       "      <td>1</td>\n",
       "      <td>4</td>\n",
       "      <td>754.159807</td>\n",
       "      <td>1</td>\n",
       "      <td>6.232113</td>\n",
       "      <td>ultra</td>\n",
       "      <td>241.0</td>\n",
       "    </tr>\n",
       "    <tr>\n",
       "      <th>2</th>\n",
       "      <td>1</td>\n",
       "      <td>8</td>\n",
       "      <td>6723.470560</td>\n",
       "      <td>2</td>\n",
       "      <td>44.776802</td>\n",
       "      <td>ultra</td>\n",
       "      <td>475.0</td>\n",
       "    </tr>\n",
       "    <tr>\n",
       "      <th>3</th>\n",
       "      <td>1</td>\n",
       "      <td>10</td>\n",
       "      <td>5809.911100</td>\n",
       "      <td>2</td>\n",
       "      <td>31.578017</td>\n",
       "      <td>ultra</td>\n",
       "      <td>391.0</td>\n",
       "    </tr>\n",
       "    <tr>\n",
       "      <th>4</th>\n",
       "      <td>1</td>\n",
       "      <td>11</td>\n",
       "      <td>7003.499363</td>\n",
       "      <td>3</td>\n",
       "      <td>53.397424</td>\n",
       "      <td>ultra</td>\n",
       "      <td>535.0</td>\n",
       "    </tr>\n",
       "  </tbody>\n",
       "</table>\n",
       "</div>"
      ],
      "text/plain": [
       "   user_id  date_month  total_distance  total_rides  total_duration  \\\n",
       "0        1           1     7027.511294            2       41.416640   \n",
       "1        1           4      754.159807            1        6.232113   \n",
       "2        1           8     6723.470560            2       44.776802   \n",
       "3        1          10     5809.911100            2       31.578017   \n",
       "4        1          11     7003.499363            3       53.397424   \n",
       "\n",
       "  subscription_type  revenue_month  \n",
       "0             ultra          451.0  \n",
       "1             ultra          241.0  \n",
       "2             ultra          475.0  \n",
       "3             ultra          391.0  \n",
       "4             ultra          535.0  "
      ]
     },
     "metadata": {},
     "output_type": "display_data"
    },
    {
     "data": {
      "text/html": [
       "<div>\n",
       "<style scoped>\n",
       "    .dataframe tbody tr th:only-of-type {\n",
       "        vertical-align: middle;\n",
       "    }\n",
       "\n",
       "    .dataframe tbody tr th {\n",
       "        vertical-align: top;\n",
       "    }\n",
       "\n",
       "    .dataframe thead th {\n",
       "        text-align: right;\n",
       "    }\n",
       "</style>\n",
       "<table border=\"1\" class=\"dataframe\">\n",
       "  <thead>\n",
       "    <tr style=\"text-align: right;\">\n",
       "      <th></th>\n",
       "      <th>user_id</th>\n",
       "      <th>date_month</th>\n",
       "      <th>total_distance</th>\n",
       "      <th>total_rides</th>\n",
       "      <th>total_duration</th>\n",
       "      <th>subscription_type</th>\n",
       "      <th>revenue_month</th>\n",
       "    </tr>\n",
       "  </thead>\n",
       "  <tbody>\n",
       "    <tr>\n",
       "      <th>11326</th>\n",
       "      <td>1534</td>\n",
       "      <td>6</td>\n",
       "      <td>3409.468534</td>\n",
       "      <td>2</td>\n",
       "      <td>24.812678</td>\n",
       "      <td>free</td>\n",
       "      <td>308.0</td>\n",
       "    </tr>\n",
       "    <tr>\n",
       "      <th>11327</th>\n",
       "      <td>1534</td>\n",
       "      <td>8</td>\n",
       "      <td>7622.453034</td>\n",
       "      <td>2</td>\n",
       "      <td>47.205960</td>\n",
       "      <td>free</td>\n",
       "      <td>484.0</td>\n",
       "    </tr>\n",
       "    <tr>\n",
       "      <th>11328</th>\n",
       "      <td>1534</td>\n",
       "      <td>9</td>\n",
       "      <td>4928.173852</td>\n",
       "      <td>1</td>\n",
       "      <td>22.560373</td>\n",
       "      <td>free</td>\n",
       "      <td>234.0</td>\n",
       "    </tr>\n",
       "    <tr>\n",
       "      <th>11329</th>\n",
       "      <td>1534</td>\n",
       "      <td>11</td>\n",
       "      <td>13350.015305</td>\n",
       "      <td>4</td>\n",
       "      <td>76.342174</td>\n",
       "      <td>free</td>\n",
       "      <td>824.0</td>\n",
       "    </tr>\n",
       "    <tr>\n",
       "      <th>11330</th>\n",
       "      <td>1534</td>\n",
       "      <td>12</td>\n",
       "      <td>2371.711192</td>\n",
       "      <td>1</td>\n",
       "      <td>15.893917</td>\n",
       "      <td>free</td>\n",
       "      <td>178.0</td>\n",
       "    </tr>\n",
       "  </tbody>\n",
       "</table>\n",
       "</div>"
      ],
      "text/plain": [
       "       user_id  date_month  total_distance  total_rides  total_duration  \\\n",
       "11326     1534           6     3409.468534            2       24.812678   \n",
       "11327     1534           8     7622.453034            2       47.205960   \n",
       "11328     1534           9     4928.173852            1       22.560373   \n",
       "11329     1534          11    13350.015305            4       76.342174   \n",
       "11330     1534          12     2371.711192            1       15.893917   \n",
       "\n",
       "      subscription_type  revenue_month  \n",
       "11326              free          308.0  \n",
       "11327              free          484.0  \n",
       "11328              free          234.0  \n",
       "11329              free          824.0  \n",
       "11330              free          178.0  "
      ]
     },
     "metadata": {},
     "output_type": "display_data"
    }
   ],
   "source": [
    "# проверка\n",
    "display(agg_data.head())\n",
    "display(agg_data.tail())\n",
    "\n",
    "# удаление из аггрегированного датафрейма вспомогательных столбцов:\n",
    "agg_data = agg_data.drop(['total_duration_sub', 'minute_price', 'start_ride_price', 'subscription_fee'], axis=1)\n",
    "\n",
    "# проверка\n",
    "display(agg_data.head())\n",
    "display(agg_data.tail())"
   ]
  },
  {
   "cell_type": "markdown",
   "id": "41545ac0",
   "metadata": {},
   "source": [
    "#### Шаг 6. Проверка гипотез"
   ]
  },
  {
   "cell_type": "markdown",
   "id": "965819de",
   "metadata": {},
   "source": [
    "##### Проверьте гипотезу: тратят ли пользователи с подпиской больше времени на поездки? "
   ]
  },
  {
   "cell_type": "markdown",
   "id": "cc43ea1c",
   "metadata": {},
   "source": [
    "Необходимо проверить, тратят ли пользователи с подпиской больше времени на поездки по сравнению с пользователями без подписки. Если да, то пользователи с подпиской могут быть «выгоднее» для компании. \n",
    "Таким образом, сравниваем две генеральные совокупности и формулируем нулевую и альтернативные гипотезы:\n",
    "\n",
    "* Н0: Пользователи с подпиской тратят столько же времени на поездки, сколько и пользователи без подписки.\n",
    "\n",
    "* Н1: Пользователи с подпиской тратят больше времени на поездки, чем пользователи без подписки."
   ]
  },
  {
   "cell_type": "code",
   "execution_count": 19,
   "id": "23ea867b",
   "metadata": {},
   "outputs": [
    {
     "name": "stdout",
     "output_type": "stream",
     "text": [
      "p-value: 1.2804098316645618e-34\n",
      "Отвергаем нулевую гипотезу\n"
     ]
    },
    {
     "data": {
      "text/plain": [
       "18.54198516280583"
      ]
     },
     "metadata": {},
     "output_type": "display_data"
    },
    {
     "data": {
      "text/plain": [
       "17.39090929866399"
      ]
     },
     "metadata": {},
     "output_type": "display_data"
    },
    {
     "data": {
      "text/plain": [
       "18.17815320055055"
      ]
     },
     "metadata": {},
     "output_type": "display_data"
    },
    {
     "data": {
      "text/plain": [
       "17.326890226082043"
      ]
     },
     "metadata": {},
     "output_type": "display_data"
    }
   ],
   "source": [
    "alpha = 0.01 # задаем уровень стат. значимости\n",
    "\n",
    "# пользователи без подписки\n",
    "#combined_free \n",
    "\n",
    "# пользователи с подпиской\n",
    "#combined_ultra \n",
    "\n",
    "results = st.ttest_ind(combined_ultra['duration'], combined_free['duration'], alternative='greater')\n",
    "\n",
    "print(f'p-value: {results.pvalue}')\n",
    "\n",
    "# проверяем p-value\n",
    "if results.pvalue < alpha:\n",
    "    print('Отвергаем нулевую гипотезу')\n",
    "else:\n",
    "    print('Нет оснований отвергнуть нулевую гипотезу')\n",
    "\n",
    "# проверка средних из 2х выборок    \n",
    "display(combined_ultra['duration'].mean(), combined_free['duration'].mean(), \n",
    "        combined_ultra['duration'].median(), combined_free['duration'].median() )"
   ]
  },
  {
   "cell_type": "markdown",
   "id": "bde8a93e",
   "metadata": {},
   "source": [
    "**Вывод**  \n",
    "\n",
    "Полученное значение p_value стремится к нулю и значительно меньше заданного уровня статистической значимости. \n",
    "Отвергаем нулевую гипотезу в пользу альтернативной и делаем вывод о том, что вероятно пользователи с подпиской тратят больше времени на поездки в сравнении с пользователями без подписки.\n"
   ]
  },
  {
   "cell_type": "markdown",
   "id": "e09f74be",
   "metadata": {},
   "source": [
    "##### Проверьте гипотезу: среднее расстояние, которое проезжают пользователи с подпиской за одну поездку, не превышает 3130 метров? "
   ]
  },
  {
   "cell_type": "markdown",
   "id": "b6cb4774",
   "metadata": {},
   "source": [
    "Расстояние одной поездки в 3130 метров — оптимальное с точки зрения износа самоката. Необходимо проверить, что длина поездок пользователей с подпиской за одну поездку не превышает 3130 метров.\n",
    "Таким образом, сравниваем выборку с заданным оптимальным значением 3130 метров и формулируем нулевую и альтернативные гипотезы:\n",
    "\n",
    "* Н0: Среднее расстояние равно 3130 метрам.\n",
    "\n",
    "* Н1: Среднее расстояние превышает 3130 метров."
   ]
  },
  {
   "cell_type": "code",
   "execution_count": 20,
   "id": "326f3bbe",
   "metadata": {},
   "outputs": [
    {
     "name": "stdout",
     "output_type": "stream",
     "text": [
      "p-value: 0.9195368847849785\n",
      "Нет оснований отвергнуть нулевую гипотезу\n"
     ]
    },
    {
     "data": {
      "text/plain": [
       "3148.6372291760854"
      ]
     },
     "metadata": {},
     "output_type": "display_data"
    }
   ],
   "source": [
    "alpha = 0.01 # задаем уровень стат. значимости\n",
    "\n",
    "# пользователи с подпиской\n",
    "#combined_ultra \n",
    "\n",
    "optimal_distance = 3130\n",
    "\n",
    "results = st.ttest_1samp(combined_ultra['distance'], optimal_distance, alternative='greater')\n",
    "\n",
    "print(f'p-value: {results.pvalue}')\n",
    "\n",
    "# проверяем p-value\n",
    "if results.pvalue < alpha:\n",
    "    print('Отвергаем нулевую гипотезу')\n",
    "else:\n",
    "    print('Нет оснований отвергнуть нулевую гипотезу')    \n",
    "    \n",
    "# проверка среднего \n",
    "display(combined_ultra['distance'].median())"
   ]
  },
  {
   "cell_type": "markdown",
   "id": "f9ddbf84",
   "metadata": {},
   "source": [
    "**Вывод**  \n",
    "\n",
    "Полученное значение p_value показывает, что нулевая гипотеза не может быть отвергнута в пользу альтернативной о том, что среднее расстояние, которое проезжают пользователи с подпиской за одну поездку, не превышает 3130 метров. \n",
    "Т.е. среднее расстояние в большинстве случаев будет стремиться к значению 3130. "
   ]
  },
  {
   "cell_type": "markdown",
   "id": "df4f4fa5",
   "metadata": {},
   "source": [
    "##### Проверьте гипотезу: помесячная выручка от пользователей с подпиской по месяцам выше, чем выручка от пользователей без подписки? "
   ]
  },
  {
   "cell_type": "markdown",
   "id": "5d56ba9c",
   "metadata": {},
   "source": [
    "Необходимо проверить, приносят ли пользователи с подпиской больше дохода компании по сравнению с пользователями без подписки. \n",
    "Таким образом, сравниваем две генеральные совокупности и формулируем нулевую и альтернативные гипотезы:\n",
    "\n",
    "* Н0: Помесячная выручка от пользователей с подпиской равна выручке, которую принесли пользователи без подписки.\n",
    "\n",
    "* Н1: Помесячная выручка от пользователей с подпиской превышает выручку, которую принесли пользователи без подписки."
   ]
  },
  {
   "cell_type": "code",
   "execution_count": 21,
   "id": "3751a277",
   "metadata": {},
   "outputs": [
    {
     "name": "stdout",
     "output_type": "stream",
     "text": [
      "p-value: 1.8850394384715216e-31\n",
      "Отвергаем нулевую гипотезу\n"
     ]
    },
    {
     "data": {
      "text/plain": [
       "337.0"
      ]
     },
     "metadata": {},
     "output_type": "display_data"
    },
    {
     "data": {
      "text/plain": [
       "274.0"
      ]
     },
     "metadata": {},
     "output_type": "display_data"
    }
   ],
   "source": [
    "alpha = 0.01 # задаем уровень стат. значимости\n",
    "\n",
    "# пользователи без подписки\n",
    "# agg_data.query('subscription_type==free')\n",
    "\n",
    "# пользователи с подпиской\n",
    "# agg_data.query('subscription_type==ultra')\n",
    "\n",
    "results = st.ttest_ind(agg_data.query('subscription_type==\"ultra\"')['revenue_month'], \n",
    "                       agg_data.query('subscription_type==\"free\"')['revenue_month'], alternative='greater')\n",
    "\n",
    "print(f'p-value: {results.pvalue}')\n",
    "\n",
    "# проверяем p-value\n",
    "if results.pvalue < alpha:\n",
    "    print('Отвергаем нулевую гипотезу')\n",
    "else:\n",
    "    print('Нет оснований отвергнуть нулевую гипотезу')\n",
    "\n",
    "# проверка средних из 2х выборок    \n",
    "display(agg_data.query('subscription_type==\"ultra\"')['revenue_month'].median(), \n",
    "        agg_data.query('subscription_type==\"free\"')['revenue_month'].median() )"
   ]
  },
  {
   "cell_type": "markdown",
   "id": "8d490868",
   "metadata": {},
   "source": [
    "**Вывод**  \n",
    "\n",
    "Полученное значение p-value стремится к нулю и значительно меньше заданного уровня статистической значимости. \n",
    "Отвергаем нулевую гипотезу в пользу альтернативной и делаем вывод о том, что с большой вероятностью выручка от пользователей с подпиской по месяцам выше, чем выручка от пользователей без подписки."
   ]
  },
  {
   "cell_type": "markdown",
   "id": "6ef7deb7",
   "metadata": {},
   "source": [
    "##### Какой тест вам понадобился бы для проверки гипотезы: количество обращений в техподдержку значимо снизилось после обновления серверов?"
   ]
  },
  {
   "cell_type": "markdown",
   "id": "233add8f",
   "metadata": {},
   "source": [
    "Представим, что данные о количестве обращений до обновления хранятся в объекте data_before, \n",
    "данные о количестве обращений после обновления хранятся в объекте data_after.\n",
    "Т.к. в выборках содержатся данные по тем же пользователям до и после изменений, делаем вывод, что это парные зависимые выборки, для проверки которых необходим т-тест scipy.stats.ttest_rel.\n",
    "Нужно проверить, что количество обращений в техподдержку значимо снизилось, т.е. до изменений обращений было больше, чем после изменений, поэтому в параметре alternative указываем greater.\n",
    "\n",
    "scipy.stats.ttest_rel(data_before, data_after, alternative='greater')"
   ]
  },
  {
   "cell_type": "markdown",
   "id": "fb7341bd",
   "metadata": {},
   "source": [
    "**Общий вывод**  \n",
    "\n",
    "Был проведен анализ данных о пользователях сервиса аренды самокатов из восьми городов.\n",
    "\n",
    "Пользователи с подпиской составляют 46 % от общего числа пользователей, остальные 54 % пользователей не используют подписку.\n",
    "\n",
    "Основной возраст пользователей находится в диапазоне от 18 до 33 лет.\n",
    "\n",
    "Большинство поездок совершаются на расстояние от 2 до 4 км и длятся от 8,5 до 25 минут.\n",
    "\n",
    "Проведенные т-тесты позволяют сделать выводы о том, что:\n",
    " - среднее расстояние в большинстве случаев будет стремиться к 3130 метрам;\n",
    " - вероятно пользователи с подпиской тратят больше времени на поездки в сравнении с пользователями без подписки;\n",
    " - с большой вероятностью выручка от пользователей с подпиской по месяцам выше, чем выручка от пользователей без подписки."
   ]
  }
 ],
 "metadata": {
  "ExecuteTimeLog": [
   {
    "duration": 50,
    "start_time": "2024-07-31T15:41:33.596Z"
   },
   {
    "duration": 392,
    "start_time": "2024-07-31T15:41:37.362Z"
   },
   {
    "duration": 356,
    "start_time": "2024-07-31T15:41:38.507Z"
   },
   {
    "duration": 49,
    "start_time": "2024-07-31T18:40:48.465Z"
   },
   {
    "duration": 377,
    "start_time": "2024-07-31T18:40:53.491Z"
   },
   {
    "duration": 341,
    "start_time": "2024-07-31T18:40:54.252Z"
   },
   {
    "duration": 7,
    "start_time": "2024-07-31T18:40:57.978Z"
   },
   {
    "duration": 52,
    "start_time": "2024-07-31T18:42:24.036Z"
   },
   {
    "duration": 34,
    "start_time": "2024-07-31T18:52:19.552Z"
   },
   {
    "duration": 17,
    "start_time": "2024-07-31T18:52:52.516Z"
   },
   {
    "duration": 20,
    "start_time": "2024-07-31T18:55:19.924Z"
   },
   {
    "duration": 17,
    "start_time": "2024-07-31T19:02:53.455Z"
   },
   {
    "duration": 19,
    "start_time": "2024-07-31T19:03:39.002Z"
   },
   {
    "duration": 19,
    "start_time": "2024-07-31T19:04:49.225Z"
   },
   {
    "duration": 5,
    "start_time": "2024-07-31T19:07:22.026Z"
   },
   {
    "duration": 19,
    "start_time": "2024-07-31T19:07:24.325Z"
   },
   {
    "duration": 4,
    "start_time": "2024-07-31T19:07:35.672Z"
   },
   {
    "duration": 21,
    "start_time": "2024-07-31T19:07:38.089Z"
   },
   {
    "duration": 65,
    "start_time": "2024-07-31T19:17:50.893Z"
   },
   {
    "duration": 59,
    "start_time": "2024-07-31T19:18:09.384Z"
   },
   {
    "duration": 58,
    "start_time": "2024-07-31T19:18:16.324Z"
   },
   {
    "duration": 63,
    "start_time": "2024-07-31T19:18:25.195Z"
   },
   {
    "duration": 14,
    "start_time": "2024-07-31T19:18:29.722Z"
   },
   {
    "duration": 70,
    "start_time": "2024-07-31T19:19:34.436Z"
   },
   {
    "duration": 72,
    "start_time": "2024-07-31T19:19:41.409Z"
   },
   {
    "duration": 13,
    "start_time": "2024-07-31T19:19:53.024Z"
   },
   {
    "duration": 510,
    "start_time": "2024-07-31T19:19:56.707Z"
   },
   {
    "duration": 1038,
    "start_time": "2024-07-31T19:20:58.642Z"
   },
   {
    "duration": 1028,
    "start_time": "2024-07-31T19:21:45.947Z"
   },
   {
    "duration": 169,
    "start_time": "2024-07-31T19:21:57.647Z"
   },
   {
    "duration": 175,
    "start_time": "2024-07-31T19:22:11.573Z"
   },
   {
    "duration": 218,
    "start_time": "2024-07-31T19:22:25.987Z"
   },
   {
    "duration": 148,
    "start_time": "2024-07-31T19:23:09.186Z"
   },
   {
    "duration": 157,
    "start_time": "2024-07-31T19:23:17.131Z"
   },
   {
    "duration": 154,
    "start_time": "2024-07-31T19:23:21.636Z"
   },
   {
    "duration": 162,
    "start_time": "2024-07-31T19:23:25.480Z"
   },
   {
    "duration": 180,
    "start_time": "2024-07-31T19:26:29.915Z"
   },
   {
    "duration": 156,
    "start_time": "2024-07-31T19:29:50.576Z"
   },
   {
    "duration": 167,
    "start_time": "2024-07-31T19:30:10.935Z"
   },
   {
    "duration": 171,
    "start_time": "2024-07-31T19:30:15.613Z"
   },
   {
    "duration": 154,
    "start_time": "2024-07-31T19:33:22.401Z"
   },
   {
    "duration": 215,
    "start_time": "2024-07-31T19:33:28.762Z"
   },
   {
    "duration": 164,
    "start_time": "2024-07-31T19:33:38.509Z"
   },
   {
    "duration": 279,
    "start_time": "2024-07-31T19:34:19.135Z"
   },
   {
    "duration": 572,
    "start_time": "2024-07-31T19:35:38.038Z"
   },
   {
    "duration": 562,
    "start_time": "2024-07-31T19:36:20.521Z"
   },
   {
    "duration": 648,
    "start_time": "2024-07-31T19:36:45.221Z"
   },
   {
    "duration": 600,
    "start_time": "2024-07-31T19:40:56.582Z"
   },
   {
    "duration": 843,
    "start_time": "2024-07-31T19:41:41.515Z"
   },
   {
    "duration": 587,
    "start_time": "2024-07-31T19:41:51.900Z"
   },
   {
    "duration": 615,
    "start_time": "2024-07-31T19:42:10.291Z"
   },
   {
    "duration": 108,
    "start_time": "2024-07-31T19:42:12.879Z"
   },
   {
    "duration": 132,
    "start_time": "2024-07-31T19:42:25.649Z"
   },
   {
    "duration": 142,
    "start_time": "2024-07-31T19:42:52.818Z"
   },
   {
    "duration": 150,
    "start_time": "2024-07-31T19:42:58.014Z"
   },
   {
    "duration": 122,
    "start_time": "2024-07-31T19:43:06.996Z"
   },
   {
    "duration": 116,
    "start_time": "2024-07-31T19:43:14.178Z"
   },
   {
    "duration": 156,
    "start_time": "2024-08-01T13:16:01.494Z"
   },
   {
    "duration": 48,
    "start_time": "2024-08-01T13:16:17.860Z"
   },
   {
    "duration": 399,
    "start_time": "2024-08-01T13:16:24.805Z"
   },
   {
    "duration": 353,
    "start_time": "2024-08-01T13:16:25.205Z"
   },
   {
    "duration": 24,
    "start_time": "2024-08-01T13:16:25.560Z"
   },
   {
    "duration": 19,
    "start_time": "2024-08-01T13:16:25.586Z"
   },
   {
    "duration": 1031,
    "start_time": "2024-08-01T13:16:25.607Z"
   },
   {
    "duration": 161,
    "start_time": "2024-08-01T13:16:26.640Z"
   },
   {
    "duration": 203,
    "start_time": "2024-08-01T13:16:26.802Z"
   },
   {
    "duration": 615,
    "start_time": "2024-08-01T13:18:06.149Z"
   },
   {
    "duration": 652,
    "start_time": "2024-08-01T13:18:48.159Z"
   },
   {
    "duration": 605,
    "start_time": "2024-08-01T13:19:05.376Z"
   },
   {
    "duration": 622,
    "start_time": "2024-08-01T13:19:26.444Z"
   },
   {
    "duration": 597,
    "start_time": "2024-08-01T13:20:22.010Z"
   },
   {
    "duration": 697,
    "start_time": "2024-08-01T13:20:32.780Z"
   },
   {
    "duration": 614,
    "start_time": "2024-08-01T13:21:18.312Z"
   },
   {
    "duration": 609,
    "start_time": "2024-08-01T13:21:29.169Z"
   },
   {
    "duration": 1184,
    "start_time": "2024-08-01T13:24:19.414Z"
   },
   {
    "duration": 588,
    "start_time": "2024-08-01T13:24:34.775Z"
   },
   {
    "duration": 463,
    "start_time": "2024-08-01T13:27:39.039Z"
   },
   {
    "duration": 711,
    "start_time": "2024-08-01T13:28:01.494Z"
   },
   {
    "duration": 16,
    "start_time": "2024-08-01T13:32:10.461Z"
   },
   {
    "duration": 12,
    "start_time": "2024-08-01T13:32:33.954Z"
   },
   {
    "duration": 159,
    "start_time": "2024-08-01T13:32:59.637Z"
   },
   {
    "duration": 597,
    "start_time": "2024-08-01T13:33:20.336Z"
   },
   {
    "duration": 1263,
    "start_time": "2024-08-01T13:33:28.099Z"
   },
   {
    "duration": 608,
    "start_time": "2024-08-01T13:34:05.373Z"
   },
   {
    "duration": 133,
    "start_time": "2024-08-01T13:44:39.794Z"
   },
   {
    "duration": 140,
    "start_time": "2024-08-01T13:44:45.995Z"
   },
   {
    "duration": 131,
    "start_time": "2024-08-01T13:44:53.563Z"
   },
   {
    "duration": 145,
    "start_time": "2024-08-01T13:46:02.179Z"
   },
   {
    "duration": 252,
    "start_time": "2024-08-01T13:47:41.647Z"
   },
   {
    "duration": 162,
    "start_time": "2024-08-01T13:52:09.859Z"
   },
   {
    "duration": 159,
    "start_time": "2024-08-01T13:53:12.146Z"
   },
   {
    "duration": 155,
    "start_time": "2024-08-01T13:53:55.439Z"
   },
   {
    "duration": 162,
    "start_time": "2024-08-01T13:54:21.472Z"
   },
   {
    "duration": 154,
    "start_time": "2024-08-01T13:55:31.467Z"
   },
   {
    "duration": 178,
    "start_time": "2024-08-01T13:56:01.503Z"
   },
   {
    "duration": 186,
    "start_time": "2024-08-01T13:56:16.735Z"
   },
   {
    "duration": 171,
    "start_time": "2024-08-01T13:56:21.745Z"
   },
   {
    "duration": 166,
    "start_time": "2024-08-01T13:56:25.224Z"
   },
   {
    "duration": 149,
    "start_time": "2024-08-01T13:57:13.859Z"
   },
   {
    "duration": 241,
    "start_time": "2024-08-01T13:57:21.955Z"
   },
   {
    "duration": 52,
    "start_time": "2024-08-01T16:46:23.599Z"
   },
   {
    "duration": 423,
    "start_time": "2024-08-01T16:46:30.529Z"
   },
   {
    "duration": 509,
    "start_time": "2024-08-01T16:46:30.955Z"
   },
   {
    "duration": 52,
    "start_time": "2024-08-01T16:46:31.466Z"
   },
   {
    "duration": 17,
    "start_time": "2024-08-01T16:46:31.521Z"
   },
   {
    "duration": 642,
    "start_time": "2024-08-01T16:46:31.540Z"
   },
   {
    "duration": 682,
    "start_time": "2024-08-01T16:46:32.184Z"
   },
   {
    "duration": 242,
    "start_time": "2024-08-01T16:46:32.869Z"
   },
   {
    "duration": 165,
    "start_time": "2024-08-01T16:46:33.112Z"
   },
   {
    "duration": 14,
    "start_time": "2024-08-01T16:46:33.279Z"
   },
   {
    "duration": 11,
    "start_time": "2024-08-01T16:46:33.295Z"
   },
   {
    "duration": 15,
    "start_time": "2024-08-01T16:46:55.403Z"
   },
   {
    "duration": 430,
    "start_time": "2024-08-01T16:48:10.383Z"
   },
   {
    "duration": 149,
    "start_time": "2024-08-01T16:48:10.815Z"
   },
   {
    "duration": 43,
    "start_time": "2024-08-01T16:48:10.965Z"
   },
   {
    "duration": 6,
    "start_time": "2024-08-01T16:48:11.010Z"
   },
   {
    "duration": 415,
    "start_time": "2024-08-01T16:48:11.019Z"
   },
   {
    "duration": 659,
    "start_time": "2024-08-01T16:48:11.436Z"
   },
   {
    "duration": 181,
    "start_time": "2024-08-01T16:48:12.097Z"
   },
   {
    "duration": 223,
    "start_time": "2024-08-01T16:48:12.284Z"
   },
   {
    "duration": 10,
    "start_time": "2024-08-01T16:48:12.509Z"
   },
   {
    "duration": 16,
    "start_time": "2024-08-01T16:48:12.521Z"
   },
   {
    "duration": 18,
    "start_time": "2024-08-01T16:51:35.412Z"
   },
   {
    "duration": 18,
    "start_time": "2024-08-01T16:51:37.910Z"
   },
   {
    "duration": 72,
    "start_time": "2024-08-01T17:00:00.235Z"
   },
   {
    "duration": 104,
    "start_time": "2024-08-01T17:00:17.383Z"
   },
   {
    "duration": 24,
    "start_time": "2024-08-01T17:00:39.905Z"
   },
   {
    "duration": 45,
    "start_time": "2024-08-01T17:00:42.750Z"
   },
   {
    "duration": 162,
    "start_time": "2024-08-01T17:15:29.065Z"
   },
   {
    "duration": 144,
    "start_time": "2024-08-01T17:15:33.794Z"
   },
   {
    "duration": 144,
    "start_time": "2024-08-01T17:15:59.554Z"
   },
   {
    "duration": 156,
    "start_time": "2024-08-01T17:17:25.136Z"
   },
   {
    "duration": 158,
    "start_time": "2024-08-01T17:19:32.445Z"
   },
   {
    "duration": 144,
    "start_time": "2024-08-01T17:19:35.150Z"
   },
   {
    "duration": 158,
    "start_time": "2024-08-01T17:19:37.621Z"
   },
   {
    "duration": 75,
    "start_time": "2024-08-01T17:48:36.142Z"
   },
   {
    "duration": 55,
    "start_time": "2024-08-01T17:50:01.259Z"
   },
   {
    "duration": 24,
    "start_time": "2024-08-01T17:51:10.574Z"
   },
   {
    "duration": 24,
    "start_time": "2024-08-01T17:53:55.561Z"
   },
   {
    "duration": 13,
    "start_time": "2024-08-01T17:59:02.651Z"
   },
   {
    "duration": 15,
    "start_time": "2024-08-01T18:07:16.459Z"
   },
   {
    "duration": 8,
    "start_time": "2024-08-01T18:07:18.373Z"
   },
   {
    "duration": 14,
    "start_time": "2024-08-01T19:34:13.418Z"
   },
   {
    "duration": 19,
    "start_time": "2024-08-01T19:34:22.851Z"
   },
   {
    "duration": 9,
    "start_time": "2024-08-01T19:34:31.276Z"
   },
   {
    "duration": 26,
    "start_time": "2024-08-01T19:43:03.891Z"
   },
   {
    "duration": 12,
    "start_time": "2024-08-01T19:43:05.957Z"
   },
   {
    "duration": 13,
    "start_time": "2024-08-01T19:43:25.153Z"
   },
   {
    "duration": 14,
    "start_time": "2024-08-01T19:43:36.123Z"
   },
   {
    "duration": 16,
    "start_time": "2024-08-01T19:53:01.051Z"
   },
   {
    "duration": 28,
    "start_time": "2024-08-01T19:55:36.389Z"
   },
   {
    "duration": 16,
    "start_time": "2024-08-01T19:55:39.024Z"
   },
   {
    "duration": 26,
    "start_time": "2024-08-01T20:05:01.939Z"
   },
   {
    "duration": 24,
    "start_time": "2024-08-01T20:05:03.750Z"
   },
   {
    "duration": 16,
    "start_time": "2024-08-01T20:09:47.575Z"
   },
   {
    "duration": 54,
    "start_time": "2024-08-01T20:16:13.139Z"
   },
   {
    "duration": 10,
    "start_time": "2024-08-01T20:16:21.362Z"
   },
   {
    "duration": 2,
    "start_time": "2024-08-01T20:16:28.701Z"
   },
   {
    "duration": 10,
    "start_time": "2024-08-01T20:16:33.305Z"
   },
   {
    "duration": 14,
    "start_time": "2024-08-01T20:17:48.823Z"
   },
   {
    "duration": 51,
    "start_time": "2024-08-01T20:21:14.179Z"
   },
   {
    "duration": 56,
    "start_time": "2024-08-01T20:22:11.968Z"
   },
   {
    "duration": 60,
    "start_time": "2024-08-01T20:22:17.044Z"
   },
   {
    "duration": 52,
    "start_time": "2024-08-01T20:22:48.315Z"
   },
   {
    "duration": 63,
    "start_time": "2024-08-01T20:23:59.276Z"
   },
   {
    "duration": 15,
    "start_time": "2024-08-01T20:24:15.389Z"
   },
   {
    "duration": 55,
    "start_time": "2024-08-01T20:24:27.624Z"
   },
   {
    "duration": 53,
    "start_time": "2024-08-01T20:25:13.796Z"
   },
   {
    "duration": 60,
    "start_time": "2024-08-01T20:25:24.208Z"
   },
   {
    "duration": 55,
    "start_time": "2024-08-01T20:26:13.564Z"
   },
   {
    "duration": 34,
    "start_time": "2024-08-01T20:26:27.560Z"
   },
   {
    "duration": 18,
    "start_time": "2024-08-01T20:26:34.285Z"
   },
   {
    "duration": 45,
    "start_time": "2024-08-01T20:33:06.992Z"
   },
   {
    "duration": 56,
    "start_time": "2024-08-02T08:59:58.390Z"
   },
   {
    "duration": 894,
    "start_time": "2024-08-02T09:00:06.921Z"
   },
   {
    "duration": 339,
    "start_time": "2024-08-02T09:00:07.817Z"
   },
   {
    "duration": 25,
    "start_time": "2024-08-02T09:00:08.158Z"
   },
   {
    "duration": 28,
    "start_time": "2024-08-02T09:00:08.185Z"
   },
   {
    "duration": 692,
    "start_time": "2024-08-02T09:00:08.215Z"
   },
   {
    "duration": 675,
    "start_time": "2024-08-02T09:00:08.909Z"
   },
   {
    "duration": 176,
    "start_time": "2024-08-02T09:00:09.585Z"
   },
   {
    "duration": 164,
    "start_time": "2024-08-02T09:00:09.762Z"
   },
   {
    "duration": 83,
    "start_time": "2024-08-02T09:00:09.928Z"
   },
   {
    "duration": 196,
    "start_time": "2024-08-02T09:00:10.013Z"
   },
   {
    "duration": 170,
    "start_time": "2024-08-02T09:00:10.211Z"
   },
   {
    "duration": 196,
    "start_time": "2024-08-02T09:00:10.383Z"
   },
   {
    "duration": 259,
    "start_time": "2024-08-02T09:00:10.581Z"
   },
   {
    "duration": 35,
    "start_time": "2024-08-02T09:00:10.845Z"
   },
   {
    "duration": 33,
    "start_time": "2024-08-02T09:00:10.882Z"
   },
   {
    "duration": 29,
    "start_time": "2024-08-02T09:00:10.917Z"
   },
   {
    "duration": 8,
    "start_time": "2024-08-02T09:06:22.181Z"
   },
   {
    "duration": 5,
    "start_time": "2024-08-02T09:06:39.937Z"
   },
   {
    "duration": 9,
    "start_time": "2024-08-02T09:07:41.467Z"
   },
   {
    "duration": 6,
    "start_time": "2024-08-02T09:08:22.267Z"
   },
   {
    "duration": 8,
    "start_time": "2024-08-02T09:13:15.615Z"
   },
   {
    "duration": 14,
    "start_time": "2024-08-02T09:23:15.184Z"
   },
   {
    "duration": 14,
    "start_time": "2024-08-02T09:23:34.816Z"
   },
   {
    "duration": 11,
    "start_time": "2024-08-02T09:24:54.928Z"
   },
   {
    "duration": 11,
    "start_time": "2024-08-02T09:25:15.998Z"
   },
   {
    "duration": 12,
    "start_time": "2024-08-02T09:25:17.868Z"
   },
   {
    "duration": 7,
    "start_time": "2024-08-02T09:54:57.554Z"
   },
   {
    "duration": 7,
    "start_time": "2024-08-02T09:56:02.935Z"
   },
   {
    "duration": 5,
    "start_time": "2024-08-02T09:56:20.491Z"
   },
   {
    "duration": 131,
    "start_time": "2024-08-02T09:57:14.999Z"
   },
   {
    "duration": 108,
    "start_time": "2024-08-02T09:59:15.340Z"
   },
   {
    "duration": 9,
    "start_time": "2024-08-02T10:04:28.190Z"
   },
   {
    "duration": 6,
    "start_time": "2024-08-02T10:04:45.493Z"
   },
   {
    "duration": 9,
    "start_time": "2024-08-02T10:05:08.638Z"
   },
   {
    "duration": 7,
    "start_time": "2024-08-02T10:05:16.067Z"
   },
   {
    "duration": 5,
    "start_time": "2024-08-02T10:05:43.424Z"
   },
   {
    "duration": 7,
    "start_time": "2024-08-02T10:06:02.672Z"
   },
   {
    "duration": 6,
    "start_time": "2024-08-02T10:06:11.760Z"
   },
   {
    "duration": 6,
    "start_time": "2024-08-02T10:07:54.323Z"
   },
   {
    "duration": 7,
    "start_time": "2024-08-02T10:08:52.409Z"
   },
   {
    "duration": 7,
    "start_time": "2024-08-02T10:09:31.563Z"
   },
   {
    "duration": 4,
    "start_time": "2024-08-02T10:10:38.225Z"
   },
   {
    "duration": 6,
    "start_time": "2024-08-02T10:10:45.062Z"
   },
   {
    "duration": 7,
    "start_time": "2024-08-02T10:11:34.956Z"
   },
   {
    "duration": 6,
    "start_time": "2024-08-02T10:16:39.690Z"
   },
   {
    "duration": 7,
    "start_time": "2024-08-02T10:16:44.900Z"
   },
   {
    "duration": 11,
    "start_time": "2024-08-02T10:26:38.737Z"
   },
   {
    "duration": 10,
    "start_time": "2024-08-02T10:27:27.723Z"
   },
   {
    "duration": 13,
    "start_time": "2024-08-02T11:23:08.731Z"
   },
   {
    "duration": 111,
    "start_time": "2024-08-02T11:27:22.773Z"
   },
   {
    "duration": 841,
    "start_time": "2024-08-02T11:27:42.098Z"
   },
   {
    "duration": 147,
    "start_time": "2024-08-02T11:27:42.941Z"
   },
   {
    "duration": 26,
    "start_time": "2024-08-02T11:27:43.090Z"
   },
   {
    "duration": 32,
    "start_time": "2024-08-02T11:27:43.118Z"
   },
   {
    "duration": 426,
    "start_time": "2024-08-02T11:27:43.152Z"
   },
   {
    "duration": 622,
    "start_time": "2024-08-02T11:27:43.579Z"
   },
   {
    "duration": 172,
    "start_time": "2024-08-02T11:27:44.203Z"
   },
   {
    "duration": 162,
    "start_time": "2024-08-02T11:27:44.377Z"
   },
   {
    "duration": 81,
    "start_time": "2024-08-02T11:27:44.549Z"
   },
   {
    "duration": 181,
    "start_time": "2024-08-02T11:27:44.645Z"
   },
   {
    "duration": 157,
    "start_time": "2024-08-02T11:27:44.827Z"
   },
   {
    "duration": 155,
    "start_time": "2024-08-02T11:27:44.985Z"
   },
   {
    "duration": 175,
    "start_time": "2024-08-02T11:27:45.146Z"
   },
   {
    "duration": 47,
    "start_time": "2024-08-02T11:27:45.323Z"
   },
   {
    "duration": 58,
    "start_time": "2024-08-02T11:27:45.372Z"
   },
   {
    "duration": 14,
    "start_time": "2024-08-02T11:27:45.431Z"
   },
   {
    "duration": 30,
    "start_time": "2024-08-02T11:27:45.447Z"
   },
   {
    "duration": 12,
    "start_time": "2024-08-02T11:27:45.479Z"
   },
   {
    "duration": 138,
    "start_time": "2024-08-02T11:30:35.308Z"
   },
   {
    "duration": 12,
    "start_time": "2024-08-02T11:30:53.963Z"
   },
   {
    "duration": 19,
    "start_time": "2024-08-02T11:32:36.508Z"
   },
   {
    "duration": 10,
    "start_time": "2024-08-02T11:42:17.721Z"
   },
   {
    "duration": 171,
    "start_time": "2024-08-02T12:09:15.375Z"
   },
   {
    "duration": 244,
    "start_time": "2024-08-02T12:13:18.986Z"
   },
   {
    "duration": 148,
    "start_time": "2024-08-02T12:14:12.273Z"
   },
   {
    "duration": 157,
    "start_time": "2024-08-02T12:14:46.805Z"
   },
   {
    "duration": 163,
    "start_time": "2024-08-02T12:15:25.443Z"
   },
   {
    "duration": 152,
    "start_time": "2024-08-02T12:16:02.712Z"
   },
   {
    "duration": 148,
    "start_time": "2024-08-02T12:16:12.878Z"
   },
   {
    "duration": 162,
    "start_time": "2024-08-02T12:16:30.555Z"
   },
   {
    "duration": 144,
    "start_time": "2024-08-02T12:16:39.209Z"
   },
   {
    "duration": 147,
    "start_time": "2024-08-02T12:16:44.790Z"
   },
   {
    "duration": 169,
    "start_time": "2024-08-02T12:16:49.677Z"
   },
   {
    "duration": 167,
    "start_time": "2024-08-02T12:17:01.742Z"
   },
   {
    "duration": 235,
    "start_time": "2024-08-02T12:17:16.382Z"
   },
   {
    "duration": 154,
    "start_time": "2024-08-02T12:18:09.680Z"
   },
   {
    "duration": 158,
    "start_time": "2024-08-02T12:18:16.179Z"
   },
   {
    "duration": 170,
    "start_time": "2024-08-02T12:21:47.659Z"
   },
   {
    "duration": 185,
    "start_time": "2024-08-02T12:24:00.758Z"
   },
   {
    "duration": 68,
    "start_time": "2024-08-02T12:26:50.828Z"
   },
   {
    "duration": 19,
    "start_time": "2024-08-02T12:26:54.436Z"
   },
   {
    "duration": 1164,
    "start_time": "2024-08-02T12:31:25.057Z"
   },
   {
    "duration": 39,
    "start_time": "2024-08-02T12:31:44.322Z"
   },
   {
    "duration": 7,
    "start_time": "2024-08-02T12:31:45.577Z"
   },
   {
    "duration": 221,
    "start_time": "2024-08-02T12:36:10.556Z"
   },
   {
    "duration": 202,
    "start_time": "2024-08-02T12:36:52.473Z"
   },
   {
    "duration": 191,
    "start_time": "2024-08-02T12:37:14.011Z"
   },
   {
    "duration": 329,
    "start_time": "2024-08-02T12:38:10.398Z"
   },
   {
    "duration": 317,
    "start_time": "2024-08-02T12:39:13.868Z"
   },
   {
    "duration": 306,
    "start_time": "2024-08-02T12:39:22.358Z"
   },
   {
    "duration": 218,
    "start_time": "2024-08-02T12:39:29.681Z"
   },
   {
    "duration": 7,
    "start_time": "2024-08-02T13:20:56.080Z"
   },
   {
    "duration": 5,
    "start_time": "2024-08-02T13:21:25.787Z"
   },
   {
    "duration": 189,
    "start_time": "2024-08-02T13:21:47.693Z"
   },
   {
    "duration": 172,
    "start_time": "2024-08-02T13:29:34.412Z"
   },
   {
    "duration": 163,
    "start_time": "2024-08-02T13:32:19.582Z"
   },
   {
    "duration": 175,
    "start_time": "2024-08-02T13:32:42.947Z"
   },
   {
    "duration": 7,
    "start_time": "2024-08-02T13:53:35.084Z"
   },
   {
    "duration": 5,
    "start_time": "2024-08-02T13:53:42.387Z"
   },
   {
    "duration": 878,
    "start_time": "2024-08-02T14:05:06.628Z"
   },
   {
    "duration": 133,
    "start_time": "2024-08-02T14:05:07.508Z"
   },
   {
    "duration": 22,
    "start_time": "2024-08-02T14:05:07.645Z"
   },
   {
    "duration": 5,
    "start_time": "2024-08-02T14:05:07.669Z"
   },
   {
    "duration": 478,
    "start_time": "2024-08-02T14:05:07.675Z"
   },
   {
    "duration": 148,
    "start_time": "2024-08-02T14:05:08.155Z"
   },
   {
    "duration": 325,
    "start_time": "2024-08-02T14:05:08.305Z"
   },
   {
    "duration": 177,
    "start_time": "2024-08-02T14:05:08.632Z"
   },
   {
    "duration": 155,
    "start_time": "2024-08-02T14:05:08.811Z"
   },
   {
    "duration": 17,
    "start_time": "2024-08-02T14:05:08.969Z"
   },
   {
    "duration": 71,
    "start_time": "2024-08-02T14:05:08.988Z"
   },
   {
    "duration": 186,
    "start_time": "2024-08-02T14:05:09.061Z"
   },
   {
    "duration": 176,
    "start_time": "2024-08-02T14:05:09.249Z"
   },
   {
    "duration": 46,
    "start_time": "2024-08-02T14:05:09.426Z"
   },
   {
    "duration": 5,
    "start_time": "2024-08-02T14:05:09.474Z"
   },
   {
    "duration": 47,
    "start_time": "2024-08-02T14:05:09.480Z"
   },
   {
    "duration": 26,
    "start_time": "2024-08-02T14:05:09.529Z"
   },
   {
    "duration": 7,
    "start_time": "2024-08-02T14:05:09.557Z"
   },
   {
    "duration": 17,
    "start_time": "2024-08-02T14:05:09.566Z"
   },
   {
    "duration": 805,
    "start_time": "2024-08-02T15:22:01.322Z"
   },
   {
    "duration": 424,
    "start_time": "2024-08-02T15:22:02.128Z"
   },
   {
    "duration": 42,
    "start_time": "2024-08-02T15:22:02.554Z"
   },
   {
    "duration": 5,
    "start_time": "2024-08-02T15:22:02.598Z"
   },
   {
    "duration": 425,
    "start_time": "2024-08-02T15:22:02.605Z"
   },
   {
    "duration": 138,
    "start_time": "2024-08-02T15:22:03.031Z"
   },
   {
    "duration": 290,
    "start_time": "2024-08-02T15:22:03.170Z"
   },
   {
    "duration": 152,
    "start_time": "2024-08-02T15:22:03.461Z"
   },
   {
    "duration": 145,
    "start_time": "2024-08-02T15:22:03.614Z"
   },
   {
    "duration": 16,
    "start_time": "2024-08-02T15:22:03.761Z"
   },
   {
    "duration": 79,
    "start_time": "2024-08-02T15:22:03.779Z"
   },
   {
    "duration": 166,
    "start_time": "2024-08-02T15:22:03.859Z"
   },
   {
    "duration": 164,
    "start_time": "2024-08-02T15:22:04.027Z"
   },
   {
    "duration": 34,
    "start_time": "2024-08-02T15:22:04.193Z"
   },
   {
    "duration": 5,
    "start_time": "2024-08-02T15:22:04.229Z"
   },
   {
    "duration": 33,
    "start_time": "2024-08-02T15:22:04.235Z"
   },
   {
    "duration": 36,
    "start_time": "2024-08-02T15:22:04.270Z"
   },
   {
    "duration": 18,
    "start_time": "2024-08-02T15:22:04.307Z"
   },
   {
    "duration": 17,
    "start_time": "2024-08-02T15:22:04.326Z"
   },
   {
    "duration": 42,
    "start_time": "2024-08-02T17:23:17.243Z"
   },
   {
    "duration": 750,
    "start_time": "2024-08-02T17:23:22.740Z"
   },
   {
    "duration": 337,
    "start_time": "2024-08-02T17:23:23.491Z"
   },
   {
    "duration": 18,
    "start_time": "2024-08-02T17:23:23.829Z"
   },
   {
    "duration": 11,
    "start_time": "2024-08-02T17:23:23.850Z"
   },
   {
    "duration": 585,
    "start_time": "2024-08-02T17:23:23.862Z"
   },
   {
    "duration": 134,
    "start_time": "2024-08-02T17:23:24.448Z"
   },
   {
    "duration": 241,
    "start_time": "2024-08-02T17:23:24.583Z"
   },
   {
    "duration": 133,
    "start_time": "2024-08-02T17:23:24.825Z"
   },
   {
    "duration": 114,
    "start_time": "2024-08-02T17:23:24.960Z"
   },
   {
    "duration": 24,
    "start_time": "2024-08-02T17:23:25.077Z"
   },
   {
    "duration": 3,
    "start_time": "2024-08-02T17:23:25.103Z"
   },
   {
    "duration": 45,
    "start_time": "2024-08-02T17:23:25.107Z"
   },
   {
    "duration": 155,
    "start_time": "2024-08-02T17:23:25.153Z"
   },
   {
    "duration": 136,
    "start_time": "2024-08-02T17:23:25.309Z"
   },
   {
    "duration": 27,
    "start_time": "2024-08-02T17:23:25.446Z"
   },
   {
    "duration": 4,
    "start_time": "2024-08-02T17:23:25.474Z"
   },
   {
    "duration": 41,
    "start_time": "2024-08-02T17:23:25.479Z"
   },
   {
    "duration": 9,
    "start_time": "2024-08-02T17:23:25.521Z"
   },
   {
    "duration": 10,
    "start_time": "2024-08-02T17:23:25.532Z"
   },
   {
    "duration": 14,
    "start_time": "2024-08-02T17:23:25.544Z"
   },
   {
    "duration": 15,
    "start_time": "2024-08-02T17:24:34.718Z"
   },
   {
    "duration": 7,
    "start_time": "2024-08-02T17:25:25.453Z"
   },
   {
    "duration": 3,
    "start_time": "2024-08-02T18:31:36.064Z"
   },
   {
    "duration": 49,
    "start_time": "2024-08-02T20:24:13.136Z"
   },
   {
    "duration": 954,
    "start_time": "2024-08-02T20:25:19.714Z"
   },
   {
    "duration": 348,
    "start_time": "2024-08-02T20:25:20.671Z"
   },
   {
    "duration": 38,
    "start_time": "2024-08-02T20:25:21.021Z"
   },
   {
    "duration": 5,
    "start_time": "2024-08-02T20:25:21.061Z"
   },
   {
    "duration": 1114,
    "start_time": "2024-08-02T20:25:21.067Z"
   },
   {
    "duration": 0,
    "start_time": "2024-08-02T20:25:22.183Z"
   },
   {
    "duration": 0,
    "start_time": "2024-08-02T20:25:22.184Z"
   },
   {
    "duration": 0,
    "start_time": "2024-08-02T20:25:22.185Z"
   },
   {
    "duration": 0,
    "start_time": "2024-08-02T20:25:22.186Z"
   },
   {
    "duration": 0,
    "start_time": "2024-08-02T20:25:22.187Z"
   },
   {
    "duration": 0,
    "start_time": "2024-08-02T20:25:22.188Z"
   },
   {
    "duration": 0,
    "start_time": "2024-08-02T20:25:22.189Z"
   },
   {
    "duration": 0,
    "start_time": "2024-08-02T20:25:22.190Z"
   },
   {
    "duration": 0,
    "start_time": "2024-08-02T20:25:22.191Z"
   },
   {
    "duration": 0,
    "start_time": "2024-08-02T20:25:22.192Z"
   },
   {
    "duration": 0,
    "start_time": "2024-08-02T20:25:22.194Z"
   },
   {
    "duration": 0,
    "start_time": "2024-08-02T20:25:22.195Z"
   },
   {
    "duration": 1,
    "start_time": "2024-08-02T20:25:22.195Z"
   },
   {
    "duration": 0,
    "start_time": "2024-08-02T20:25:22.196Z"
   },
   {
    "duration": 0,
    "start_time": "2024-08-02T20:25:22.197Z"
   },
   {
    "duration": 2258,
    "start_time": "2024-08-02T20:26:01.650Z"
   },
   {
    "duration": 7,
    "start_time": "2024-08-02T20:26:21.209Z"
   },
   {
    "duration": 677,
    "start_time": "2024-08-02T20:39:10.011Z"
   },
   {
    "duration": 173,
    "start_time": "2024-08-02T20:41:31.205Z"
   },
   {
    "duration": 185,
    "start_time": "2024-08-02T20:42:05.696Z"
   },
   {
    "duration": 189,
    "start_time": "2024-08-02T20:42:15.474Z"
   },
   {
    "duration": 177,
    "start_time": "2024-08-02T20:44:27.768Z"
   },
   {
    "duration": 174,
    "start_time": "2024-08-02T20:44:34.785Z"
   },
   {
    "duration": 142,
    "start_time": "2024-08-02T20:44:46.192Z"
   },
   {
    "duration": 168,
    "start_time": "2024-08-02T20:46:07.802Z"
   },
   {
    "duration": 165,
    "start_time": "2024-08-02T20:46:29.408Z"
   },
   {
    "duration": 257,
    "start_time": "2024-08-02T20:46:54.139Z"
   },
   {
    "duration": 143,
    "start_time": "2024-08-02T20:50:36.111Z"
   },
   {
    "duration": 142,
    "start_time": "2024-08-02T20:51:21.233Z"
   },
   {
    "duration": 159,
    "start_time": "2024-08-02T20:53:02.885Z"
   },
   {
    "duration": 145,
    "start_time": "2024-08-02T20:53:11.714Z"
   },
   {
    "duration": 285,
    "start_time": "2024-08-02T20:53:27.271Z"
   },
   {
    "duration": 346,
    "start_time": "2024-08-02T20:54:32.640Z"
   },
   {
    "duration": 150,
    "start_time": "2024-08-02T20:55:03.804Z"
   },
   {
    "duration": 181,
    "start_time": "2024-08-02T20:55:38.519Z"
   },
   {
    "duration": 244,
    "start_time": "2024-08-02T20:56:17.596Z"
   },
   {
    "duration": 163,
    "start_time": "2024-08-02T20:58:14.083Z"
   },
   {
    "duration": 151,
    "start_time": "2024-08-02T21:01:27.054Z"
   },
   {
    "duration": 308,
    "start_time": "2024-08-02T21:02:27.163Z"
   },
   {
    "duration": 296,
    "start_time": "2024-08-02T21:03:01.297Z"
   },
   {
    "duration": 306,
    "start_time": "2024-08-02T21:03:07.251Z"
   },
   {
    "duration": 35,
    "start_time": "2024-08-02T21:05:47.686Z"
   },
   {
    "duration": 46,
    "start_time": "2024-08-02T21:06:23.792Z"
   },
   {
    "duration": 35,
    "start_time": "2024-08-02T21:06:45.496Z"
   },
   {
    "duration": 11,
    "start_time": "2024-08-02T21:12:10.464Z"
   },
   {
    "duration": 53,
    "start_time": "2024-08-02T21:12:14.351Z"
   },
   {
    "duration": 183,
    "start_time": "2024-08-02T21:12:15.917Z"
   },
   {
    "duration": 157,
    "start_time": "2024-08-02T21:12:22.128Z"
   },
   {
    "duration": 11,
    "start_time": "2024-08-02T21:39:32.487Z"
   },
   {
    "duration": 14,
    "start_time": "2024-08-02T21:44:09.593Z"
   },
   {
    "duration": 887,
    "start_time": "2024-08-02T21:46:09.612Z"
   },
   {
    "duration": 135,
    "start_time": "2024-08-02T21:46:10.501Z"
   },
   {
    "duration": 24,
    "start_time": "2024-08-02T21:46:10.646Z"
   },
   {
    "duration": 6,
    "start_time": "2024-08-02T21:46:10.672Z"
   },
   {
    "duration": 6,
    "start_time": "2024-08-02T21:46:10.680Z"
   },
   {
    "duration": 467,
    "start_time": "2024-08-02T21:46:10.688Z"
   },
   {
    "duration": 156,
    "start_time": "2024-08-02T21:46:11.157Z"
   },
   {
    "duration": 302,
    "start_time": "2024-08-02T21:46:11.315Z"
   },
   {
    "duration": 177,
    "start_time": "2024-08-02T21:46:11.618Z"
   },
   {
    "duration": 161,
    "start_time": "2024-08-02T21:46:11.798Z"
   },
   {
    "duration": 36,
    "start_time": "2024-08-02T21:46:11.961Z"
   },
   {
    "duration": 78,
    "start_time": "2024-08-02T21:46:11.998Z"
   },
   {
    "duration": 186,
    "start_time": "2024-08-02T21:46:12.077Z"
   },
   {
    "duration": 163,
    "start_time": "2024-08-02T21:46:12.265Z"
   },
   {
    "duration": 38,
    "start_time": "2024-08-02T21:46:12.430Z"
   },
   {
    "duration": 5,
    "start_time": "2024-08-02T21:46:12.470Z"
   },
   {
    "duration": 41,
    "start_time": "2024-08-02T21:46:12.476Z"
   },
   {
    "duration": 32,
    "start_time": "2024-08-02T21:46:12.518Z"
   },
   {
    "duration": 7,
    "start_time": "2024-08-02T21:46:12.552Z"
   },
   {
    "duration": 19,
    "start_time": "2024-08-02T21:46:12.561Z"
   },
   {
    "duration": 892,
    "start_time": "2024-08-03T08:35:55.655Z"
   },
   {
    "duration": 463,
    "start_time": "2024-08-03T08:35:56.549Z"
   },
   {
    "duration": 24,
    "start_time": "2024-08-03T08:35:57.014Z"
   },
   {
    "duration": 19,
    "start_time": "2024-08-03T08:35:57.039Z"
   },
   {
    "duration": 13,
    "start_time": "2024-08-03T08:35:57.060Z"
   },
   {
    "duration": 448,
    "start_time": "2024-08-03T08:35:57.083Z"
   },
   {
    "duration": 162,
    "start_time": "2024-08-03T08:35:57.533Z"
   },
   {
    "duration": 316,
    "start_time": "2024-08-03T08:35:57.696Z"
   },
   {
    "duration": 170,
    "start_time": "2024-08-03T08:35:58.014Z"
   },
   {
    "duration": 171,
    "start_time": "2024-08-03T08:35:58.186Z"
   },
   {
    "duration": 59,
    "start_time": "2024-08-03T08:35:58.358Z"
   },
   {
    "duration": 103,
    "start_time": "2024-08-03T08:35:58.419Z"
   },
   {
    "duration": 193,
    "start_time": "2024-08-03T08:35:58.524Z"
   },
   {
    "duration": 169,
    "start_time": "2024-08-03T08:35:58.719Z"
   },
   {
    "duration": 36,
    "start_time": "2024-08-03T08:35:58.889Z"
   },
   {
    "duration": 5,
    "start_time": "2024-08-03T08:35:58.926Z"
   },
   {
    "duration": 63,
    "start_time": "2024-08-03T08:35:58.933Z"
   },
   {
    "duration": 12,
    "start_time": "2024-08-03T08:35:58.997Z"
   },
   {
    "duration": 29,
    "start_time": "2024-08-03T08:35:59.010Z"
   },
   {
    "duration": 18,
    "start_time": "2024-08-03T08:35:59.040Z"
   },
   {
    "duration": 146,
    "start_time": "2024-08-03T08:39:18.019Z"
   },
   {
    "duration": 865,
    "start_time": "2024-08-03T08:39:41.064Z"
   },
   {
    "duration": 139,
    "start_time": "2024-08-03T08:39:41.931Z"
   },
   {
    "duration": 30,
    "start_time": "2024-08-03T08:39:42.071Z"
   },
   {
    "duration": 4,
    "start_time": "2024-08-03T08:39:42.103Z"
   },
   {
    "duration": 7,
    "start_time": "2024-08-03T08:39:42.109Z"
   },
   {
    "duration": 454,
    "start_time": "2024-08-03T08:39:42.117Z"
   },
   {
    "duration": 175,
    "start_time": "2024-08-03T08:39:42.573Z"
   },
   {
    "duration": 151,
    "start_time": "2024-08-03T08:39:42.750Z"
   },
   {
    "duration": 306,
    "start_time": "2024-08-03T08:39:42.903Z"
   },
   {
    "duration": 162,
    "start_time": "2024-08-03T08:39:43.211Z"
   },
   {
    "duration": 154,
    "start_time": "2024-08-03T08:39:43.375Z"
   },
   {
    "duration": 36,
    "start_time": "2024-08-03T08:39:43.530Z"
   },
   {
    "duration": 69,
    "start_time": "2024-08-03T08:39:43.567Z"
   },
   {
    "duration": 202,
    "start_time": "2024-08-03T08:39:43.639Z"
   },
   {
    "duration": 169,
    "start_time": "2024-08-03T08:39:43.843Z"
   },
   {
    "duration": 34,
    "start_time": "2024-08-03T08:39:44.014Z"
   },
   {
    "duration": 5,
    "start_time": "2024-08-03T08:39:44.050Z"
   },
   {
    "duration": 58,
    "start_time": "2024-08-03T08:39:44.056Z"
   },
   {
    "duration": 12,
    "start_time": "2024-08-03T08:39:44.115Z"
   },
   {
    "duration": 27,
    "start_time": "2024-08-03T08:39:44.129Z"
   },
   {
    "duration": 29,
    "start_time": "2024-08-03T08:39:44.157Z"
   },
   {
    "duration": 155,
    "start_time": "2024-08-03T08:41:23.276Z"
   },
   {
    "duration": 50,
    "start_time": "2024-08-03T08:41:53.696Z"
   },
   {
    "duration": 160,
    "start_time": "2024-08-03T08:42:46.012Z"
   }
  ],
  "kernelspec": {
   "display_name": "Python 3 (ipykernel)",
   "language": "python",
   "name": "python3"
  },
  "language_info": {
   "codemirror_mode": {
    "name": "ipython",
    "version": 3
   },
   "file_extension": ".py",
   "mimetype": "text/x-python",
   "name": "python",
   "nbconvert_exporter": "python",
   "pygments_lexer": "ipython3",
   "version": "3.9.19"
  },
  "toc": {
   "base_numbering": 1,
   "nav_menu": {},
   "number_sections": true,
   "sideBar": true,
   "skip_h1_title": true,
   "title_cell": "Table of Contents",
   "title_sidebar": "Contents",
   "toc_cell": false,
   "toc_position": {
    "height": "calc(100% - 180px)",
    "left": "10px",
    "top": "150px",
    "width": "319.6px"
   },
   "toc_section_display": true,
   "toc_window_display": true
  }
 },
 "nbformat": 4,
 "nbformat_minor": 5
}
