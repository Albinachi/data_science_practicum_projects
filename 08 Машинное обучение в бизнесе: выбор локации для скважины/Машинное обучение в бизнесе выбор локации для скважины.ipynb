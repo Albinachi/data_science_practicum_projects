{
 "cells": [
  {
   "cell_type": "markdown",
   "metadata": {},
   "source": [
    "# Машинное обучение в бизнесе: выбор локации для скважины"
   ]
  },
  {
   "cell_type": "markdown",
   "metadata": {},
   "source": [
    "**Описание проекта**\n",
    "\n",
    "Допустим, вы работаете в добывающей компании «ГлавРосГосНефть». Нужно решить, где бурить новую скважину.\n",
    "\n",
    "Вам предоставлены пробы нефти в трёх регионах: в каждом 10 000 месторождений, где измерили качество нефти и объём её запасов. Постройте модель машинного обучения, которая поможет определить регион, где добыча принесёт наибольшую прибыль. Проанализируйте возможную прибыль и риски техникой *Bootstrap.*\n",
    "\n",
    "Шаги для выбора локации:\n",
    "\n",
    "- В избранном регионе ищут месторождения, для каждого определяют значения признаков;\n",
    "- Строят модель и оценивают объём запасов;\n",
    "- Выбирают месторождения с самым высокими оценками значений. Количество месторождений зависит от бюджета компании и стоимости разработки одной скважины;\n",
    "- Прибыль равна суммарной прибыли отобранных месторождений."
   ]
  },
  {
   "cell_type": "markdown",
   "metadata": {},
   "source": [
    "**Импорт библиотек**"
   ]
  },
  {
   "cell_type": "code",
   "execution_count": 1,
   "metadata": {},
   "outputs": [],
   "source": [
    "!pip install --upgrade scikit-learn -q\n",
    "!pip install phik -q\n"
   ]
  },
  {
   "cell_type": "code",
   "execution_count": 2,
   "metadata": {},
   "outputs": [],
   "source": [
    "import pandas as pd\n",
    "import numpy as np\n",
    "import matplotlib.pyplot as plt\n",
    "import seaborn as sns\n",
    "import sklearn as skl\n",
    "import phik\n",
    "import os\n",
    "\n",
    "from sklearn.model_selection import train_test_split, RandomizedSearchCV, GridSearchCV\n",
    "\n",
    "from sklearn.linear_model import LogisticRegression, Ridge, LinearRegression\n",
    "from sklearn.neighbors import KNeighborsClassifier, KNeighborsRegressor\n",
    "from sklearn.tree import DecisionTreeClassifier, DecisionTreeRegressor\n",
    "from sklearn.svm import SVC, SVR\n",
    "\n",
    "from sklearn.preprocessing import OneHotEncoder, StandardScaler, OrdinalEncoder, MinMaxScaler, RobustScaler, LabelEncoder\n",
    "from sklearn.compose import ColumnTransformer\n",
    "\n",
    "# класс для работы с пропусками\n",
    "from sklearn.impute import SimpleImputer\n",
    "\n",
    "from sklearn.metrics import (\n",
    "    root_mean_squared_error,\n",
    "    mean_squared_error\n",
    ")\n",
    "\n",
    "from sklearn.pipeline import Pipeline\n",
    "\n",
    "from phik.report import plot_correlation_matrix\n",
    "\n",
    "\n",
    "RANDOM_STATE = 42"
   ]
  },
  {
   "cell_type": "markdown",
   "metadata": {},
   "source": [
    "## Загрузка, подготовка и исследовательский анализ данных"
   ]
  },
  {
   "cell_type": "code",
   "execution_count": 3,
   "metadata": {},
   "outputs": [
    {
     "data": {
      "text/html": [
       "<div>\n",
       "<style scoped>\n",
       "    .dataframe tbody tr th:only-of-type {\n",
       "        vertical-align: middle;\n",
       "    }\n",
       "\n",
       "    .dataframe tbody tr th {\n",
       "        vertical-align: top;\n",
       "    }\n",
       "\n",
       "    .dataframe thead th {\n",
       "        text-align: right;\n",
       "    }\n",
       "</style>\n",
       "<table border=\"1\" class=\"dataframe\">\n",
       "  <thead>\n",
       "    <tr style=\"text-align: right;\">\n",
       "      <th></th>\n",
       "      <th>id</th>\n",
       "      <th>f0</th>\n",
       "      <th>f1</th>\n",
       "      <th>f2</th>\n",
       "      <th>product</th>\n",
       "    </tr>\n",
       "  </thead>\n",
       "  <tbody>\n",
       "    <tr>\n",
       "      <th>0</th>\n",
       "      <td>txEyH</td>\n",
       "      <td>0.705745</td>\n",
       "      <td>-0.497823</td>\n",
       "      <td>1.22117</td>\n",
       "      <td>105.280062</td>\n",
       "    </tr>\n",
       "    <tr>\n",
       "      <th>1</th>\n",
       "      <td>2acmU</td>\n",
       "      <td>1.334711</td>\n",
       "      <td>-0.340164</td>\n",
       "      <td>4.36508</td>\n",
       "      <td>73.037750</td>\n",
       "    </tr>\n",
       "  </tbody>\n",
       "</table>\n",
       "</div>"
      ],
      "text/plain": [
       "      id        f0        f1       f2     product\n",
       "0  txEyH  0.705745 -0.497823  1.22117  105.280062\n",
       "1  2acmU  1.334711 -0.340164  4.36508   73.037750"
      ]
     },
     "metadata": {},
     "output_type": "display_data"
    },
    {
     "data": {
      "text/html": [
       "<div>\n",
       "<style scoped>\n",
       "    .dataframe tbody tr th:only-of-type {\n",
       "        vertical-align: middle;\n",
       "    }\n",
       "\n",
       "    .dataframe tbody tr th {\n",
       "        vertical-align: top;\n",
       "    }\n",
       "\n",
       "    .dataframe thead th {\n",
       "        text-align: right;\n",
       "    }\n",
       "</style>\n",
       "<table border=\"1\" class=\"dataframe\">\n",
       "  <thead>\n",
       "    <tr style=\"text-align: right;\">\n",
       "      <th></th>\n",
       "      <th>id</th>\n",
       "      <th>f0</th>\n",
       "      <th>f1</th>\n",
       "      <th>f2</th>\n",
       "      <th>product</th>\n",
       "    </tr>\n",
       "  </thead>\n",
       "  <tbody>\n",
       "    <tr>\n",
       "      <th>99998</th>\n",
       "      <td>7kl59</td>\n",
       "      <td>0.998163</td>\n",
       "      <td>-0.528582</td>\n",
       "      <td>1.583869</td>\n",
       "      <td>74.040764</td>\n",
       "    </tr>\n",
       "    <tr>\n",
       "      <th>99999</th>\n",
       "      <td>1CWhH</td>\n",
       "      <td>1.764754</td>\n",
       "      <td>-0.266417</td>\n",
       "      <td>5.722849</td>\n",
       "      <td>149.633246</td>\n",
       "    </tr>\n",
       "  </tbody>\n",
       "</table>\n",
       "</div>"
      ],
      "text/plain": [
       "          id        f0        f1        f2     product\n",
       "99998  7kl59  0.998163 -0.528582  1.583869   74.040764\n",
       "99999  1CWhH  1.764754 -0.266417  5.722849  149.633246"
      ]
     },
     "metadata": {},
     "output_type": "display_data"
    },
    {
     "name": "stdout",
     "output_type": "stream",
     "text": [
      "<class 'pandas.core.frame.DataFrame'>\n",
      "RangeIndex: 100000 entries, 0 to 99999\n",
      "Data columns (total 5 columns):\n",
      " #   Column   Non-Null Count   Dtype  \n",
      "---  ------   --------------   -----  \n",
      " 0   id       100000 non-null  object \n",
      " 1   f0       100000 non-null  float64\n",
      " 2   f1       100000 non-null  float64\n",
      " 3   f2       100000 non-null  float64\n",
      " 4   product  100000 non-null  float64\n",
      "dtypes: float64(4), object(1)\n",
      "memory usage: 3.8+ MB\n"
     ]
    },
    {
     "data": {
      "text/plain": [
       "None"
      ]
     },
     "metadata": {},
     "output_type": "display_data"
    },
    {
     "data": {
      "text/html": [
       "<div>\n",
       "<style scoped>\n",
       "    .dataframe tbody tr th:only-of-type {\n",
       "        vertical-align: middle;\n",
       "    }\n",
       "\n",
       "    .dataframe tbody tr th {\n",
       "        vertical-align: top;\n",
       "    }\n",
       "\n",
       "    .dataframe thead th {\n",
       "        text-align: right;\n",
       "    }\n",
       "</style>\n",
       "<table border=\"1\" class=\"dataframe\">\n",
       "  <thead>\n",
       "    <tr style=\"text-align: right;\">\n",
       "      <th></th>\n",
       "      <th>id</th>\n",
       "      <th>f0</th>\n",
       "      <th>f1</th>\n",
       "      <th>f2</th>\n",
       "      <th>product</th>\n",
       "    </tr>\n",
       "  </thead>\n",
       "  <tbody>\n",
       "    <tr>\n",
       "      <th>0</th>\n",
       "      <td>kBEdx</td>\n",
       "      <td>-15.001348</td>\n",
       "      <td>-8.276000</td>\n",
       "      <td>-0.005876</td>\n",
       "      <td>3.179103</td>\n",
       "    </tr>\n",
       "    <tr>\n",
       "      <th>1</th>\n",
       "      <td>62mP7</td>\n",
       "      <td>14.272088</td>\n",
       "      <td>-3.475083</td>\n",
       "      <td>0.999183</td>\n",
       "      <td>26.953261</td>\n",
       "    </tr>\n",
       "  </tbody>\n",
       "</table>\n",
       "</div>"
      ],
      "text/plain": [
       "      id         f0        f1        f2    product\n",
       "0  kBEdx -15.001348 -8.276000 -0.005876   3.179103\n",
       "1  62mP7  14.272088 -3.475083  0.999183  26.953261"
      ]
     },
     "metadata": {},
     "output_type": "display_data"
    },
    {
     "data": {
      "text/html": [
       "<div>\n",
       "<style scoped>\n",
       "    .dataframe tbody tr th:only-of-type {\n",
       "        vertical-align: middle;\n",
       "    }\n",
       "\n",
       "    .dataframe tbody tr th {\n",
       "        vertical-align: top;\n",
       "    }\n",
       "\n",
       "    .dataframe thead th {\n",
       "        text-align: right;\n",
       "    }\n",
       "</style>\n",
       "<table border=\"1\" class=\"dataframe\">\n",
       "  <thead>\n",
       "    <tr style=\"text-align: right;\">\n",
       "      <th></th>\n",
       "      <th>id</th>\n",
       "      <th>f0</th>\n",
       "      <th>f1</th>\n",
       "      <th>f2</th>\n",
       "      <th>product</th>\n",
       "    </tr>\n",
       "  </thead>\n",
       "  <tbody>\n",
       "    <tr>\n",
       "      <th>99998</th>\n",
       "      <td>rqwUm</td>\n",
       "      <td>0.665714</td>\n",
       "      <td>-6.152593</td>\n",
       "      <td>1.000146</td>\n",
       "      <td>30.132364</td>\n",
       "    </tr>\n",
       "    <tr>\n",
       "      <th>99999</th>\n",
       "      <td>relB0</td>\n",
       "      <td>-3.426139</td>\n",
       "      <td>-7.794274</td>\n",
       "      <td>-0.003299</td>\n",
       "      <td>3.179103</td>\n",
       "    </tr>\n",
       "  </tbody>\n",
       "</table>\n",
       "</div>"
      ],
      "text/plain": [
       "          id        f0        f1        f2    product\n",
       "99998  rqwUm  0.665714 -6.152593  1.000146  30.132364\n",
       "99999  relB0 -3.426139 -7.794274 -0.003299   3.179103"
      ]
     },
     "metadata": {},
     "output_type": "display_data"
    },
    {
     "name": "stdout",
     "output_type": "stream",
     "text": [
      "<class 'pandas.core.frame.DataFrame'>\n",
      "RangeIndex: 100000 entries, 0 to 99999\n",
      "Data columns (total 5 columns):\n",
      " #   Column   Non-Null Count   Dtype  \n",
      "---  ------   --------------   -----  \n",
      " 0   id       100000 non-null  object \n",
      " 1   f0       100000 non-null  float64\n",
      " 2   f1       100000 non-null  float64\n",
      " 3   f2       100000 non-null  float64\n",
      " 4   product  100000 non-null  float64\n",
      "dtypes: float64(4), object(1)\n",
      "memory usage: 3.8+ MB\n"
     ]
    },
    {
     "data": {
      "text/plain": [
       "None"
      ]
     },
     "metadata": {},
     "output_type": "display_data"
    },
    {
     "data": {
      "text/html": [
       "<div>\n",
       "<style scoped>\n",
       "    .dataframe tbody tr th:only-of-type {\n",
       "        vertical-align: middle;\n",
       "    }\n",
       "\n",
       "    .dataframe tbody tr th {\n",
       "        vertical-align: top;\n",
       "    }\n",
       "\n",
       "    .dataframe thead th {\n",
       "        text-align: right;\n",
       "    }\n",
       "</style>\n",
       "<table border=\"1\" class=\"dataframe\">\n",
       "  <thead>\n",
       "    <tr style=\"text-align: right;\">\n",
       "      <th></th>\n",
       "      <th>id</th>\n",
       "      <th>f0</th>\n",
       "      <th>f1</th>\n",
       "      <th>f2</th>\n",
       "      <th>product</th>\n",
       "    </tr>\n",
       "  </thead>\n",
       "  <tbody>\n",
       "    <tr>\n",
       "      <th>0</th>\n",
       "      <td>fwXo0</td>\n",
       "      <td>-1.146987</td>\n",
       "      <td>0.963328</td>\n",
       "      <td>-0.828965</td>\n",
       "      <td>27.758673</td>\n",
       "    </tr>\n",
       "    <tr>\n",
       "      <th>1</th>\n",
       "      <td>WJtFt</td>\n",
       "      <td>0.262778</td>\n",
       "      <td>0.269839</td>\n",
       "      <td>-2.530187</td>\n",
       "      <td>56.069697</td>\n",
       "    </tr>\n",
       "  </tbody>\n",
       "</table>\n",
       "</div>"
      ],
      "text/plain": [
       "      id        f0        f1        f2    product\n",
       "0  fwXo0 -1.146987  0.963328 -0.828965  27.758673\n",
       "1  WJtFt  0.262778  0.269839 -2.530187  56.069697"
      ]
     },
     "metadata": {},
     "output_type": "display_data"
    },
    {
     "data": {
      "text/html": [
       "<div>\n",
       "<style scoped>\n",
       "    .dataframe tbody tr th:only-of-type {\n",
       "        vertical-align: middle;\n",
       "    }\n",
       "\n",
       "    .dataframe tbody tr th {\n",
       "        vertical-align: top;\n",
       "    }\n",
       "\n",
       "    .dataframe thead th {\n",
       "        text-align: right;\n",
       "    }\n",
       "</style>\n",
       "<table border=\"1\" class=\"dataframe\">\n",
       "  <thead>\n",
       "    <tr style=\"text-align: right;\">\n",
       "      <th></th>\n",
       "      <th>id</th>\n",
       "      <th>f0</th>\n",
       "      <th>f1</th>\n",
       "      <th>f2</th>\n",
       "      <th>product</th>\n",
       "    </tr>\n",
       "  </thead>\n",
       "  <tbody>\n",
       "    <tr>\n",
       "      <th>99998</th>\n",
       "      <td>nmxp2</td>\n",
       "      <td>-2.419896</td>\n",
       "      <td>2.417221</td>\n",
       "      <td>-5.548444</td>\n",
       "      <td>51.795253</td>\n",
       "    </tr>\n",
       "    <tr>\n",
       "      <th>99999</th>\n",
       "      <td>V9kWn</td>\n",
       "      <td>-2.551421</td>\n",
       "      <td>-2.025625</td>\n",
       "      <td>6.090891</td>\n",
       "      <td>102.775767</td>\n",
       "    </tr>\n",
       "  </tbody>\n",
       "</table>\n",
       "</div>"
      ],
      "text/plain": [
       "          id        f0        f1        f2     product\n",
       "99998  nmxp2 -2.419896  2.417221 -5.548444   51.795253\n",
       "99999  V9kWn -2.551421 -2.025625  6.090891  102.775767"
      ]
     },
     "metadata": {},
     "output_type": "display_data"
    },
    {
     "name": "stdout",
     "output_type": "stream",
     "text": [
      "<class 'pandas.core.frame.DataFrame'>\n",
      "RangeIndex: 100000 entries, 0 to 99999\n",
      "Data columns (total 5 columns):\n",
      " #   Column   Non-Null Count   Dtype  \n",
      "---  ------   --------------   -----  \n",
      " 0   id       100000 non-null  object \n",
      " 1   f0       100000 non-null  float64\n",
      " 2   f1       100000 non-null  float64\n",
      " 3   f2       100000 non-null  float64\n",
      " 4   product  100000 non-null  float64\n",
      "dtypes: float64(4), object(1)\n",
      "memory usage: 3.8+ MB\n"
     ]
    },
    {
     "data": {
      "text/plain": [
       "None"
      ]
     },
     "metadata": {},
     "output_type": "display_data"
    }
   ],
   "source": [
    "pth1 = f'/datasets/geo_data_0.csv'\n",
    "pth2 = f'D:/Данные/geo_data_0.csv'\n",
    "    \n",
    "if os.path.exists(pth1):\n",
    "    geo_data_0 = pd.read_csv(pth1)\n",
    "elif os.path.exists(pth2):\n",
    "    geo_data_0  = pd.read_csv(pth2)\n",
    "else:\n",
    "    print('Something is wrong')\n",
    "    \n",
    "\n",
    "pth1 = f'/datasets/geo_data_1.csv'\n",
    "pth2 = f'D:/Данные/geo_data_1.csv'\n",
    "    \n",
    "if os.path.exists(pth1):\n",
    "    geo_data_1 = pd.read_csv(pth1)\n",
    "elif os.path.exists(pth2):\n",
    "    geo_data_1  = pd.read_csv(pth2)\n",
    "else:\n",
    "    print('Something is wrong')\n",
    "    \n",
    "    \n",
    "pth1 = f'/datasets/geo_data_2.csv'\n",
    "pth2 = f'D:/Данные/geo_data_2.csv'\n",
    "    \n",
    "if os.path.exists(pth1):\n",
    "    geo_data_2 = pd.read_csv(pth1)\n",
    "elif os.path.exists(pth2):\n",
    "    geo_data_2  = pd.read_csv(pth2)\n",
    "else:\n",
    "    print('Something is wrong')\n",
    "    \n",
    "    \n",
    "for n in [geo_data_0, geo_data_1, geo_data_2]:\n",
    "    display(n.head(2))\n",
    "    display(n.tail(2))\n",
    "    display(n.info())      "
   ]
  },
  {
   "cell_type": "markdown",
   "metadata": {},
   "source": [
    "**Явные дубликаты**"
   ]
  },
  {
   "cell_type": "code",
   "execution_count": 4,
   "metadata": {},
   "outputs": [
    {
     "data": {
      "text/plain": [
       "'Кол-во дубликатов 0'"
      ]
     },
     "metadata": {},
     "output_type": "display_data"
    },
    {
     "data": {
      "text/plain": [
       "'Кол-во дубликатов 0'"
      ]
     },
     "metadata": {},
     "output_type": "display_data"
    },
    {
     "data": {
      "text/plain": [
       "'Кол-во дубликатов 0'"
      ]
     },
     "metadata": {},
     "output_type": "display_data"
    }
   ],
   "source": [
    "for n in [geo_data_0, geo_data_1, geo_data_2]:\n",
    "    display(f'Кол-во дубликатов {n.duplicated().sum()}')\n"
   ]
  },
  {
   "cell_type": "markdown",
   "metadata": {},
   "source": [
    "**Неявные дубликаты**"
   ]
  },
  {
   "cell_type": "code",
   "execution_count": 5,
   "metadata": {},
   "outputs": [
    {
     "name": "stdout",
     "output_type": "stream",
     "text": [
      "          id        f0        f1         f2     product\n",
      "66136  74z30  1.084962 -0.312358   6.990771  127.643327\n",
      "64022  74z30  0.741456  0.459229   5.153109  140.771492\n",
      "51970  A5aEY -0.180335  0.935548  -2.094773   33.020205\n",
      "3389   A5aEY -0.039949  0.156872   0.209861   89.249364\n",
      "69163  AGS9W -0.933795  0.116194  -3.655896   19.230453\n",
      "42529  AGS9W  1.454747 -0.479651   0.683380  126.370504\n",
      "931    HZww2  0.755284  0.368511   1.863211   30.681774\n",
      "7530   HZww2  1.061194 -0.373969  10.430210  158.828695\n",
      "63593  QcMuo  0.635635 -0.473422   0.862670   64.578675\n",
      "1949   QcMuo  0.506563 -0.323775  -2.215583   75.496502\n",
      "75715  Tdehs  0.112079  0.430296   3.218993   60.964018\n",
      "21426  Tdehs  0.829407  0.298807  -0.049563   96.035308\n",
      "92341  TtcGQ  0.110711  1.022689   0.911381  101.318008\n",
      "60140  TtcGQ  0.569276 -0.104876   6.440215   85.350186\n",
      "89582  bsk9y  0.398908 -0.400253  10.122376  163.433078\n",
      "97785  bsk9y  0.378429  0.005837   0.160827  160.637302\n",
      "41724  bxg6G -0.823752  0.546319   3.630479   93.007798\n",
      "1364   bxg6G  0.411645  0.856830  -3.653440   73.604260\n",
      "16633  fiKDv  0.157341  1.028359   5.585586   95.817889\n",
      "90815  fiKDv  0.049883  0.841313   6.394613  137.346586\n",
      "--------------------------------------------------\n",
      "          id         f0         f1        f2     product\n",
      "5849   5ltQ6  -3.435401 -12.296043  1.999796   57.085625\n",
      "84461  5ltQ6  18.213839   2.191999  3.993869  107.813044\n",
      "1305   LHZR0  11.170835  -1.945066  3.002872   80.859783\n",
      "41906  LHZR0  -8.989672  -4.286607  2.009139   57.085625\n",
      "2721   bfPNe  -9.494442  -5.463692  4.006042  110.992147\n",
      "82178  bfPNe  -6.202799  -4.820045  2.995107   84.038886\n",
      "47591  wt4Uk  -9.091098  -8.109279 -0.002314    3.179103\n",
      "82873  wt4Uk  10.259972  -9.376355  4.994297  134.766305\n",
      "--------------------------------------------------\n",
      "          id        f0        f1        f2     product\n",
      "45404  KUPhW  0.231846 -1.698941  4.990775   11.716299\n",
      "55967  KUPhW  1.211150  3.176408  5.543540  132.831802\n",
      "11449  VF7Jo  2.122656 -0.858275  5.746001  181.716817\n",
      "49564  VF7Jo -0.883115  0.560537  0.723601  136.233420\n",
      "44378  Vcm5J -1.229484 -2.439204  1.222909  137.968290\n",
      "95090  Vcm5J  2.587702  1.986875  2.482245   92.327572\n",
      "28039  xCHr8  1.633027  0.368135 -2.378367    6.120525\n",
      "43233  xCHr8 -0.847066  2.101796  5.597130  184.388641\n",
      "--------------------------------------------------\n"
     ]
    }
   ],
   "source": [
    "for n in [geo_data_0, geo_data_1, geo_data_2]:   \n",
    "    print(n[n['id'].isin(n['id'][n['id'].duplicated()])].sort_values('id'))   \n",
    "    print('-'* 50)\n"
   ]
  },
  {
   "cell_type": "markdown",
   "metadata": {},
   "source": [
    "**Распределение признаков**\n",
    "\n",
    "Функция для отрисовки графиков:"
   ]
  },
  {
   "cell_type": "code",
   "execution_count": 6,
   "metadata": {},
   "outputs": [],
   "source": [
    "def draw_chart(n):\n",
    "    for i, col in enumerate(n[['f0', 'f1', 'f2', 'product']]):        \n",
    "        x_label = ('тыс. баррелей' if col in ['product'] \n",
    "                   else 'Кол-во единиц') \n",
    "        title_name = col[0].upper() + col[1:].lower()\n",
    "\n",
    "        mean_value = n[col].mean()\n",
    "        median_value = n[col].median()\n",
    "\n",
    "        plt.figure(i)\n",
    "\n",
    "        fig, axs = plt.subplots(nrows = 1 , ncols = 2, figsize = (12,4))\n",
    "\n",
    "        sns.histplot(data = n, x = n[col], ax=axs[0], kde=True, bins = 50)\n",
    "        axs[0].axvline(mean_value, linewidth=2, color='orange', alpha=1, linestyle='--', label = 'Среднее = {:.3f}'.format(mean_value))\n",
    "        axs[0].axvline(median_value, linewidth=2, color='orange', alpha=1, linestyle='-', label = 'Медиана = {:.3f}'.format(median_value))\n",
    "        axs[0].set_xlabel(x_label)\n",
    "        axs[0].set_ylabel('Количество точек')\n",
    "        axs[0].legend(fontsize=\"8\")\n",
    "\n",
    "        sns.boxplot(data = n, x = n[col], ax=axs[1])\n",
    "        axs[1].set_xlabel(x_label)\n",
    "        fig.suptitle(title_name)    \n"
   ]
  },
  {
   "cell_type": "markdown",
   "metadata": {},
   "source": [
    "Функция для матрицы корреляции:"
   ]
  },
  {
   "cell_type": "code",
   "execution_count": 7,
   "metadata": {},
   "outputs": [],
   "source": [
    "def draw_phik_matrix(dataframe):\n",
    "\n",
    "    df_corr = dataframe.phik_matrix(interval_cols=['f0', 'f1', 'f2', 'product'])\n",
    "\n",
    "    plot_correlation_matrix(\n",
    "        df_corr.values,\n",
    "        x_labels=df_corr.columns,\n",
    "        y_labels=df_corr.index,\n",
    "        vmin=0, vmax=1, color_map='Greens',\n",
    "        title=r'correlation $\\phi_K$',\n",
    "        fontsize_factor=1.2,\n",
    "        figsize=(15, 7)\n",
    "    ) "
   ]
  },
  {
   "cell_type": "markdown",
   "metadata": {},
   "source": [
    "**Регион №1**   "
   ]
  },
  {
   "cell_type": "code",
   "execution_count": 8,
   "metadata": {},
   "outputs": [
    {
     "data": {
      "text/html": [
       "<div>\n",
       "<style scoped>\n",
       "    .dataframe tbody tr th:only-of-type {\n",
       "        vertical-align: middle;\n",
       "    }\n",
       "\n",
       "    .dataframe tbody tr th {\n",
       "        vertical-align: top;\n",
       "    }\n",
       "\n",
       "    .dataframe thead th {\n",
       "        text-align: right;\n",
       "    }\n",
       "</style>\n",
       "<table border=\"1\" class=\"dataframe\">\n",
       "  <thead>\n",
       "    <tr style=\"text-align: right;\">\n",
       "      <th></th>\n",
       "      <th>f0</th>\n",
       "      <th>f1</th>\n",
       "      <th>f2</th>\n",
       "      <th>product</th>\n",
       "    </tr>\n",
       "  </thead>\n",
       "  <tbody>\n",
       "    <tr>\n",
       "      <th>count</th>\n",
       "      <td>100000.000000</td>\n",
       "      <td>100000.000000</td>\n",
       "      <td>100000.000000</td>\n",
       "      <td>100000.000000</td>\n",
       "    </tr>\n",
       "    <tr>\n",
       "      <th>mean</th>\n",
       "      <td>0.500419</td>\n",
       "      <td>0.250143</td>\n",
       "      <td>2.502647</td>\n",
       "      <td>92.500000</td>\n",
       "    </tr>\n",
       "    <tr>\n",
       "      <th>std</th>\n",
       "      <td>0.871832</td>\n",
       "      <td>0.504433</td>\n",
       "      <td>3.248248</td>\n",
       "      <td>44.288691</td>\n",
       "    </tr>\n",
       "    <tr>\n",
       "      <th>min</th>\n",
       "      <td>-1.408605</td>\n",
       "      <td>-0.848218</td>\n",
       "      <td>-12.088328</td>\n",
       "      <td>0.000000</td>\n",
       "    </tr>\n",
       "    <tr>\n",
       "      <th>25%</th>\n",
       "      <td>-0.072580</td>\n",
       "      <td>-0.200881</td>\n",
       "      <td>0.287748</td>\n",
       "      <td>56.497507</td>\n",
       "    </tr>\n",
       "    <tr>\n",
       "      <th>50%</th>\n",
       "      <td>0.502360</td>\n",
       "      <td>0.250252</td>\n",
       "      <td>2.515969</td>\n",
       "      <td>91.849972</td>\n",
       "    </tr>\n",
       "    <tr>\n",
       "      <th>75%</th>\n",
       "      <td>1.073581</td>\n",
       "      <td>0.700646</td>\n",
       "      <td>4.715088</td>\n",
       "      <td>128.564089</td>\n",
       "    </tr>\n",
       "    <tr>\n",
       "      <th>max</th>\n",
       "      <td>2.362331</td>\n",
       "      <td>1.343769</td>\n",
       "      <td>16.003790</td>\n",
       "      <td>185.364347</td>\n",
       "    </tr>\n",
       "  </tbody>\n",
       "</table>\n",
       "</div>"
      ],
      "text/plain": [
       "                  f0             f1             f2        product\n",
       "count  100000.000000  100000.000000  100000.000000  100000.000000\n",
       "mean        0.500419       0.250143       2.502647      92.500000\n",
       "std         0.871832       0.504433       3.248248      44.288691\n",
       "min        -1.408605      -0.848218     -12.088328       0.000000\n",
       "25%        -0.072580      -0.200881       0.287748      56.497507\n",
       "50%         0.502360       0.250252       2.515969      91.849972\n",
       "75%         1.073581       0.700646       4.715088     128.564089\n",
       "max         2.362331       1.343769      16.003790     185.364347"
      ]
     },
     "execution_count": 8,
     "metadata": {},
     "output_type": "execute_result"
    }
   ],
   "source": [
    "geo_data_0.drop('id', axis=1).describe() "
   ]
  },
  {
   "cell_type": "code",
   "execution_count": 9,
   "metadata": {
    "scrolled": true
   },
   "outputs": [
    {
     "data": {
      "text/plain": [
       "<Figure size 432x288 with 0 Axes>"
      ]
     },
     "metadata": {},
     "output_type": "display_data"
    },
    {
     "data": {
      "image/png": "[encoded data removed]",
      "text/plain": [
       "<Figure size 864x288 with 2 Axes>"
      ]
     },
     "metadata": {
      "needs_background": "light"
     },
     "output_type": "display_data"
    },
    {
     "data": {
      "image/png": "[encoded data removed]",
      "text/plain": [
       "<Figure size 864x288 with 2 Axes>"
      ]
     },
     "metadata": {
      "needs_background": "light"
     },
     "output_type": "display_data"
    },
    {
     "data": {
      "image/png": "[encoded data removed]",
      "text/plain": [
       "<Figure size 864x288 with 2 Axes>"
      ]
     },
     "metadata": {
      "needs_background": "light"
     },
     "output_type": "display_data"
    },
    {
     "data": {
      "image/png": "[encoded data removed]",
      "text/plain": [
       "<Figure size 864x288 with 2 Axes>"
      ]
     },
     "metadata": {
      "needs_background": "light"
     },
     "output_type": "display_data"
    }
   ],
   "source": [
    "draw_chart(geo_data_0)"
   ]
  },
  {
   "cell_type": "code",
   "execution_count": 10,
   "metadata": {},
   "outputs": [
    {
     "data": {
      "image/png": "[encoded data removed]",
      "text/plain": [
       "<Figure size 1080x504 with 2 Axes>"
      ]
     },
     "metadata": {
      "needs_background": "light"
     },
     "output_type": "display_data"
    }
   ],
   "source": [
    "draw_phik_matrix(geo_data_0.drop(['id'], axis=1))"
   ]
  },
  {
   "cell_type": "markdown",
   "metadata": {},
   "source": [
    "**Регион №2**"
   ]
  },
  {
   "cell_type": "code",
   "execution_count": 11,
   "metadata": {},
   "outputs": [
    {
     "data": {
      "text/html": [
       "<div>\n",
       "<style scoped>\n",
       "    .dataframe tbody tr th:only-of-type {\n",
       "        vertical-align: middle;\n",
       "    }\n",
       "\n",
       "    .dataframe tbody tr th {\n",
       "        vertical-align: top;\n",
       "    }\n",
       "\n",
       "    .dataframe thead th {\n",
       "        text-align: right;\n",
       "    }\n",
       "</style>\n",
       "<table border=\"1\" class=\"dataframe\">\n",
       "  <thead>\n",
       "    <tr style=\"text-align: right;\">\n",
       "      <th></th>\n",
       "      <th>f0</th>\n",
       "      <th>f1</th>\n",
       "      <th>f2</th>\n",
       "      <th>product</th>\n",
       "    </tr>\n",
       "  </thead>\n",
       "  <tbody>\n",
       "    <tr>\n",
       "      <th>count</th>\n",
       "      <td>100000.000000</td>\n",
       "      <td>100000.000000</td>\n",
       "      <td>100000.000000</td>\n",
       "      <td>100000.000000</td>\n",
       "    </tr>\n",
       "    <tr>\n",
       "      <th>mean</th>\n",
       "      <td>1.141296</td>\n",
       "      <td>-4.796579</td>\n",
       "      <td>2.494541</td>\n",
       "      <td>68.825000</td>\n",
       "    </tr>\n",
       "    <tr>\n",
       "      <th>std</th>\n",
       "      <td>8.965932</td>\n",
       "      <td>5.119872</td>\n",
       "      <td>1.703572</td>\n",
       "      <td>45.944423</td>\n",
       "    </tr>\n",
       "    <tr>\n",
       "      <th>min</th>\n",
       "      <td>-31.609576</td>\n",
       "      <td>-26.358598</td>\n",
       "      <td>-0.018144</td>\n",
       "      <td>0.000000</td>\n",
       "    </tr>\n",
       "    <tr>\n",
       "      <th>25%</th>\n",
       "      <td>-6.298551</td>\n",
       "      <td>-8.267985</td>\n",
       "      <td>1.000021</td>\n",
       "      <td>26.953261</td>\n",
       "    </tr>\n",
       "    <tr>\n",
       "      <th>50%</th>\n",
       "      <td>1.153055</td>\n",
       "      <td>-4.813172</td>\n",
       "      <td>2.011479</td>\n",
       "      <td>57.085625</td>\n",
       "    </tr>\n",
       "    <tr>\n",
       "      <th>75%</th>\n",
       "      <td>8.621015</td>\n",
       "      <td>-1.332816</td>\n",
       "      <td>3.999904</td>\n",
       "      <td>107.813044</td>\n",
       "    </tr>\n",
       "    <tr>\n",
       "      <th>max</th>\n",
       "      <td>29.421755</td>\n",
       "      <td>18.734063</td>\n",
       "      <td>5.019721</td>\n",
       "      <td>137.945408</td>\n",
       "    </tr>\n",
       "  </tbody>\n",
       "</table>\n",
       "</div>"
      ],
      "text/plain": [
       "                  f0             f1             f2        product\n",
       "count  100000.000000  100000.000000  100000.000000  100000.000000\n",
       "mean        1.141296      -4.796579       2.494541      68.825000\n",
       "std         8.965932       5.119872       1.703572      45.944423\n",
       "min       -31.609576     -26.358598      -0.018144       0.000000\n",
       "25%        -6.298551      -8.267985       1.000021      26.953261\n",
       "50%         1.153055      -4.813172       2.011479      57.085625\n",
       "75%         8.621015      -1.332816       3.999904     107.813044\n",
       "max        29.421755      18.734063       5.019721     137.945408"
      ]
     },
     "execution_count": 11,
     "metadata": {},
     "output_type": "execute_result"
    }
   ],
   "source": [
    "geo_data_1.drop('id', axis=1).describe() "
   ]
  },
  {
   "cell_type": "code",
   "execution_count": 12,
   "metadata": {
    "scrolled": true
   },
   "outputs": [
    {
     "data": {
      "text/plain": [
       "<Figure size 432x288 with 0 Axes>"
      ]
     },
     "metadata": {},
     "output_type": "display_data"
    },
    {
     "data": {
      "image/png": "[encoded data removed]",
      "text/plain": [
       "<Figure size 864x288 with 2 Axes>"
      ]
     },
     "metadata": {
      "needs_background": "light"
     },
     "output_type": "display_data"
    },
    {
     "data": {
      "image/png": "[encoded data removed]",
      "text/plain": [
       "<Figure size 864x288 with 2 Axes>"
      ]
     },
     "metadata": {
      "needs_background": "light"
     },
     "output_type": "display_data"
    },
    {
     "data": {
      "image/png": "[encoded data removed]",
      "text/plain": [
       "<Figure size 864x288 with 2 Axes>"
      ]
     },
     "metadata": {
      "needs_background": "light"
     },
     "output_type": "display_data"
    },
    {
     "data": {
      "image/png": "[encoded data removed]",
      "text/plain": [
       "<Figure size 864x288 with 2 Axes>"
      ]
     },
     "metadata": {
      "needs_background": "light"
     },
     "output_type": "display_data"
    }
   ],
   "source": [
    "draw_chart(geo_data_1)"
   ]
  },
  {
   "cell_type": "code",
   "execution_count": 13,
   "metadata": {},
   "outputs": [
    {
     "data": {
      "image/png": "[encoded data removed]",
      "text/plain": [
       "<Figure size 1080x504 with 2 Axes>"
      ]
     },
     "metadata": {
      "needs_background": "light"
     },
     "output_type": "display_data"
    }
   ],
   "source": [
    "draw_phik_matrix(geo_data_1.drop(['id'], axis=1))"
   ]
  },
  {
   "cell_type": "markdown",
   "metadata": {},
   "source": [
    "**Регион №3**"
   ]
  },
  {
   "cell_type": "code",
   "execution_count": 14,
   "metadata": {},
   "outputs": [
    {
     "data": {
      "text/html": [
       "<div>\n",
       "<style scoped>\n",
       "    .dataframe tbody tr th:only-of-type {\n",
       "        vertical-align: middle;\n",
       "    }\n",
       "\n",
       "    .dataframe tbody tr th {\n",
       "        vertical-align: top;\n",
       "    }\n",
       "\n",
       "    .dataframe thead th {\n",
       "        text-align: right;\n",
       "    }\n",
       "</style>\n",
       "<table border=\"1\" class=\"dataframe\">\n",
       "  <thead>\n",
       "    <tr style=\"text-align: right;\">\n",
       "      <th></th>\n",
       "      <th>f0</th>\n",
       "      <th>f1</th>\n",
       "      <th>f2</th>\n",
       "      <th>product</th>\n",
       "    </tr>\n",
       "  </thead>\n",
       "  <tbody>\n",
       "    <tr>\n",
       "      <th>count</th>\n",
       "      <td>100000.000000</td>\n",
       "      <td>100000.000000</td>\n",
       "      <td>100000.000000</td>\n",
       "      <td>100000.000000</td>\n",
       "    </tr>\n",
       "    <tr>\n",
       "      <th>mean</th>\n",
       "      <td>0.002023</td>\n",
       "      <td>-0.002081</td>\n",
       "      <td>2.495128</td>\n",
       "      <td>95.000000</td>\n",
       "    </tr>\n",
       "    <tr>\n",
       "      <th>std</th>\n",
       "      <td>1.732045</td>\n",
       "      <td>1.730417</td>\n",
       "      <td>3.473445</td>\n",
       "      <td>44.749921</td>\n",
       "    </tr>\n",
       "    <tr>\n",
       "      <th>min</th>\n",
       "      <td>-8.760004</td>\n",
       "      <td>-7.084020</td>\n",
       "      <td>-11.970335</td>\n",
       "      <td>0.000000</td>\n",
       "    </tr>\n",
       "    <tr>\n",
       "      <th>25%</th>\n",
       "      <td>-1.162288</td>\n",
       "      <td>-1.174820</td>\n",
       "      <td>0.130359</td>\n",
       "      <td>59.450441</td>\n",
       "    </tr>\n",
       "    <tr>\n",
       "      <th>50%</th>\n",
       "      <td>0.009424</td>\n",
       "      <td>-0.009482</td>\n",
       "      <td>2.484236</td>\n",
       "      <td>94.925613</td>\n",
       "    </tr>\n",
       "    <tr>\n",
       "      <th>75%</th>\n",
       "      <td>1.158535</td>\n",
       "      <td>1.163678</td>\n",
       "      <td>4.858794</td>\n",
       "      <td>130.595027</td>\n",
       "    </tr>\n",
       "    <tr>\n",
       "      <th>max</th>\n",
       "      <td>7.238262</td>\n",
       "      <td>7.844801</td>\n",
       "      <td>16.739402</td>\n",
       "      <td>190.029838</td>\n",
       "    </tr>\n",
       "  </tbody>\n",
       "</table>\n",
       "</div>"
      ],
      "text/plain": [
       "                  f0             f1             f2        product\n",
       "count  100000.000000  100000.000000  100000.000000  100000.000000\n",
       "mean        0.002023      -0.002081       2.495128      95.000000\n",
       "std         1.732045       1.730417       3.473445      44.749921\n",
       "min        -8.760004      -7.084020     -11.970335       0.000000\n",
       "25%        -1.162288      -1.174820       0.130359      59.450441\n",
       "50%         0.009424      -0.009482       2.484236      94.925613\n",
       "75%         1.158535       1.163678       4.858794     130.595027\n",
       "max         7.238262       7.844801      16.739402     190.029838"
      ]
     },
     "execution_count": 14,
     "metadata": {},
     "output_type": "execute_result"
    }
   ],
   "source": [
    "geo_data_2.drop('id', axis=1).describe() "
   ]
  },
  {
   "cell_type": "code",
   "execution_count": 15,
   "metadata": {
    "scrolled": true
   },
   "outputs": [
    {
     "data": {
      "text/plain": [
       "<Figure size 432x288 with 0 Axes>"
      ]
     },
     "metadata": {},
     "output_type": "display_data"
    },
    {
     "data": {
      "image/png": "[encoded data removed]",
      "text/plain": [
       "<Figure size 864x288 with 2 Axes>"
      ]
     },
     "metadata": {
      "needs_background": "light"
     },
     "output_type": "display_data"
    },
    {
     "data": {
      "image/png": "[encoded data removed]",
      "text/plain": [
       "<Figure size 864x288 with 2 Axes>"
      ]
     },
     "metadata": {
      "needs_background": "light"
     },
     "output_type": "display_data"
    },
    {
     "data": {
      "image/png": "[encoded data removed]",
      "text/plain": [
       "<Figure size 864x288 with 2 Axes>"
      ]
     },
     "metadata": {
      "needs_background": "light"
     },
     "output_type": "display_data"
    },
    {
     "data": {
      "image/png": "[encoded data removed]",
      "text/plain": [
       "<Figure size 864x288 with 2 Axes>"
      ]
     },
     "metadata": {
      "needs_background": "light"
     },
     "output_type": "display_data"
    }
   ],
   "source": [
    "draw_chart(geo_data_2)"
   ]
  },
  {
   "cell_type": "code",
   "execution_count": 16,
   "metadata": {},
   "outputs": [
    {
     "data": {
      "image/png": "[encoded data removed]",
      "text/plain": [
       "<Figure size 1080x504 with 2 Axes>"
      ]
     },
     "metadata": {
      "needs_background": "light"
     },
     "output_type": "display_data"
    }
   ],
   "source": [
    "draw_phik_matrix(geo_data_2.drop(['id'], axis=1))"
   ]
  },
  {
   "cell_type": "markdown",
   "metadata": {},
   "source": [
    "### Промежуточный вывод\n",
    "\n",
    "После записи датасета в одноименные переменные `geo_data_0`, `geo_data_1`, `geo_data_2` и первичного знакомства с данными видим, что данные в таблицах соответствуют описанию. \n",
    "\n",
    "Данные не содержат пропуски и явные дубликаты.\n",
    "\n",
    "В каждом из трех датафреймов содержатся повторяющиеся идентификаторы скважин, которые должны быть уникальными. При этом для скважин с одним идентификатором данные признаков и объемов запасов существенно различаются.\n",
    "Во избежание упущенной выгоды в случае удаления дублей, оставим дубли. В реальной ситуации необходимо уточнение от заказчика для продолжения работы с данными.\n",
    "\n",
    "Каждой датафрейм содержит 5 столбцов и 100 тыс. строк. Столбец с идентификатором скважины имеет строковый тип данных, стобцы с информацией о признаках и объеме добычи имеют вещественный тип данных.\n",
    "\n",
    "Наименования столбцов в датафреймах соответствуют \"змеиному\" регистру.\n",
    "\n",
    "\n",
    "\n",
    "`F0`:\n",
    "- Распределение признака мультимодальное в 1м и 2м регионах, в 1м регионе - нет выбросов, во 2м регионе есть 1 выброс. В 3м регионе признак распределен нормально, присутсвуют выбросы как у нижней, так и у верхней границ распределения.\n",
    "- Разброс значений отличается в зависимости от региона: от -1.4 до 2.4 в 1м регионе, от -31.6 до 29.4 в 2м регионе, от -8.8 до 7.2 в 3м регионе.\n",
    "\n",
    "`F1`:\n",
    "- Распределение признака мультимодальное в 1м регионе, нет выбросов. Во 2м регионе признак распределен нормально со сдвигом влево, в 3м регионе признак распределен нормально, присутсвуют выбросы как у нижней, так и у верхней границ распределения.\n",
    "- Разброс значений отличается в зависимости от региона: от -0.8 до 1.3 в 1м регионе, от -26.4 до 18.7 в 2м регионе, от -7.1 до 7.8 в 3м регионе.\n",
    "\n",
    "`F2`:\n",
    "- В 1м и 3м регионах признак распределен нормально со сдвигом вправо, есть выбросы. Во 2м регионе признак сгруппирован по кластерам, нет выбросов.\n",
    "- Разброс значений отличается в зависимости от региона: от -12.1 до 16 в 1м регионе, от -0.02 до 5.02 в 2м регионе, от -12 до 16.7 в 3м регионе.\n",
    "\n",
    "`product`:\n",
    "- Распределение признака мультимодальное в 1м и 3м регионах, без выбросов. Во 2м регионе признак сгруппирован по кластерам, нет выбросов.\n",
    "- Разброс значений отличается в зависимости от региона: от 0 до 185.4 в 1м регионе, от 0 до 138 в 2м регионе, от 0 до 190 в 3м регионе.\n",
    "\n",
    "\n",
    "\n",
    "Регион №1:\n",
    "\n",
    "Целевой признак `product` коррелирует с признаками: \n",
    "    - `f2`- коэффициент корреляции: 0,48 - умеренная связь;\n",
    "    - `f1` и `f0`- коэффициенты корреляции: 0,25 и 0,22 - слабая связь;\n",
    "\n",
    "Мультиколлинеарности между входными признаками нет, самый высокий коэффициент корреляции 0,76 между признаками `f1` и `f0`.    \n",
    "\n",
    "Регион №2:\n",
    "\n",
    "Целевой признак `product` коррелирует с признаками: \n",
    "    - `f2`- коэффициент корреляции: 0,98 - весьма высокая связь;\n",
    "    - `f1`- коэффициент корреляции: 0,19 - слабая связь;\n",
    "    - `f0`- коэффициент корреляции: 0,63 - заметная связь;\n",
    "\n",
    "Мультиколлинеарности между входными признаками нет. \n",
    "\n",
    "Регион №3:\n",
    "\n",
    "Целевой признак `product` коррелирует с признаками: \n",
    "    - `f2`- коэффициент корреляции: 0,44 - умеренная связь;\n",
    "    - `f1` и `f0`- коэффициенты корреляции: 0,22 и 0,20 - слабая связь;\n",
    "\n",
    "Мультиколлинеарности между входными признаками нет. \n"
   ]
  },
  {
   "cell_type": "markdown",
   "metadata": {},
   "source": [
    "## Обучение и проверка модели"
   ]
  },
  {
   "cell_type": "markdown",
   "metadata": {},
   "source": [
    "Функция для разбивки данных на обучающую и валидационную выборки в соотношении 75:25."
   ]
  },
  {
   "cell_type": "code",
   "execution_count": 17,
   "metadata": {},
   "outputs": [],
   "source": [
    "def prepare_data(df):\n",
    "\n",
    "    X = df.drop(['product', 'id'], axis=1)\n",
    "    y = df['product']\n",
    "\n",
    "    X_train, X_test_valid, y_train, y_test_valid = train_test_split(X, y, \\\n",
    "    test_size=0.25, \\\n",
    "    random_state=RANDOM_STATE)\n",
    "    \n",
    "    display(f'X_train: {X_train.shape}', \n",
    "            f'X_test_valid: {X_test_valid.shape}',\n",
    "            f'y_train: {y_train.shape}', \n",
    "            f'y_test_valid: {y_test_valid.shape}' )\n",
    "\n",
    "    return X_train, X_test_valid, y_train, y_test_valid"
   ]
  },
  {
   "cell_type": "markdown",
   "metadata": {},
   "source": [
    "Разбивка данных на обучающую и валидационную выборки для региона 1"
   ]
  },
  {
   "cell_type": "code",
   "execution_count": 18,
   "metadata": {},
   "outputs": [
    {
     "data": {
      "text/plain": [
       "'X_train: (75000, 3)'"
      ]
     },
     "metadata": {},
     "output_type": "display_data"
    },
    {
     "data": {
      "text/plain": [
       "'X_test_valid: (25000, 3)'"
      ]
     },
     "metadata": {},
     "output_type": "display_data"
    },
    {
     "data": {
      "text/plain": [
       "'y_train: (75000,)'"
      ]
     },
     "metadata": {},
     "output_type": "display_data"
    },
    {
     "data": {
      "text/plain": [
       "'y_test_valid: (25000,)'"
      ]
     },
     "metadata": {},
     "output_type": "display_data"
    }
   ],
   "source": [
    "X_train, X_test_valid, y_train, y_test_valid = prepare_data(geo_data_0)\n"
   ]
  },
  {
   "cell_type": "markdown",
   "metadata": {},
   "source": [
    "Создание пайплайна для масштабирования количественных признаков и обучения модели"
   ]
  },
  {
   "cell_type": "code",
   "execution_count": 19,
   "metadata": {},
   "outputs": [],
   "source": [
    "# создаём итоговый пайплайн: подготовка данных и модель\n",
    "pipe_final = Pipeline([\n",
    "    ('preprocessor', ColumnTransformer([('num', RobustScaler(), ['f0', 'f1', 'f2'])], remainder='passthrough')),\n",
    "    ('models', LinearRegression( n_jobs= -1))\n",
    "])\n",
    "\n",
    "param_grid = [\n",
    "   \n",
    "    # словарь для модели LinearRegression()\n",
    "    {\n",
    "        'models': [LinearRegression(n_jobs= -1)],\n",
    "        'preprocessor__num': [StandardScaler(), MinMaxScaler(), RobustScaler(), 'passthrough']\n",
    "    }\n",
    "]\n",
    "\n",
    "\n",
    "gs = GridSearchCV(\n",
    "    pipe_final, \n",
    "    param_grid, \n",
    "    cv=5,\n",
    "    scoring='neg_root_mean_squared_error',\n",
    "    n_jobs=-1\n",
    ")\n"
   ]
  },
  {
   "cell_type": "markdown",
   "metadata": {},
   "source": [
    "Создание пайплайна для масштабирования количественных признаков и обучения модели\n",
    "\n",
    "Функция для обучения модели и получения предсказания на валидационной выборке, выводе среднего запаса предсказанного сырья и RMSE модели."
   ]
  },
  {
   "cell_type": "code",
   "execution_count": 20,
   "metadata": {},
   "outputs": [],
   "source": [
    "def prepare_data_2(X_train, X_test_valid, y_train, y_test_valid):\n",
    "\n",
    "    gs.fit(X_train, y_train)\n",
    "\n",
    "    print('Лучшая модель и её параметры:\\n\\n', gs.best_params_, '\\n\\n')\n",
    "\n",
    "    pred = gs.predict(X_test_valid)\n",
    "    \n",
    "    pd.set_option('display.max_columns', None)\n",
    "    display('Рейтинг моделей:',pd.DataFrame(gs.cv_results_).sort_values(by='rank_test_score').head())\n",
    "        \n",
    "    rmse_score = round(root_mean_squared_error(y_test_valid, pred), 5)\n",
    "    pred_mean = pred.mean()\n",
    "    y_valid = pd.concat([X_test_valid, y_test_valid], axis=1)\n",
    "    y_valid['pred'] = pred\n",
    "    \n",
    "    return rmse_score, pred_mean, y_valid\n"
   ]
  },
  {
   "cell_type": "markdown",
   "metadata": {},
   "source": [
    "Вывод метрик для региона № 1"
   ]
  },
  {
   "cell_type": "code",
   "execution_count": 21,
   "metadata": {},
   "outputs": [
    {
     "name": "stdout",
     "output_type": "stream",
     "text": [
      "Лучшая модель и её параметры:\n",
      "\n",
      " {'models': LinearRegression(n_jobs=-1), 'preprocessor__num': StandardScaler()} \n",
      "\n",
      "\n"
     ]
    },
    {
     "data": {
      "text/plain": [
       "'Рейтинг моделей:'"
      ]
     },
     "metadata": {},
     "output_type": "display_data"
    },
    {
     "data": {
      "text/html": [
       "<div>\n",
       "<style scoped>\n",
       "    .dataframe tbody tr th:only-of-type {\n",
       "        vertical-align: middle;\n",
       "    }\n",
       "\n",
       "    .dataframe tbody tr th {\n",
       "        vertical-align: top;\n",
       "    }\n",
       "\n",
       "    .dataframe thead th {\n",
       "        text-align: right;\n",
       "    }\n",
       "</style>\n",
       "<table border=\"1\" class=\"dataframe\">\n",
       "  <thead>\n",
       "    <tr style=\"text-align: right;\">\n",
       "      <th></th>\n",
       "      <th>mean_fit_time</th>\n",
       "      <th>std_fit_time</th>\n",
       "      <th>mean_score_time</th>\n",
       "      <th>std_score_time</th>\n",
       "      <th>param_models</th>\n",
       "      <th>param_preprocessor__num</th>\n",
       "      <th>params</th>\n",
       "      <th>split0_test_score</th>\n",
       "      <th>split1_test_score</th>\n",
       "      <th>split2_test_score</th>\n",
       "      <th>split3_test_score</th>\n",
       "      <th>split4_test_score</th>\n",
       "      <th>mean_test_score</th>\n",
       "      <th>std_test_score</th>\n",
       "      <th>rank_test_score</th>\n",
       "    </tr>\n",
       "  </thead>\n",
       "  <tbody>\n",
       "    <tr>\n",
       "      <th>0</th>\n",
       "      <td>0.160335</td>\n",
       "      <td>0.060715</td>\n",
       "      <td>0.005994</td>\n",
       "      <td>0.000212</td>\n",
       "      <td>LinearRegression(n_jobs=-1)</td>\n",
       "      <td>StandardScaler()</td>\n",
       "      <td>{'models': LinearRegression(n_jobs=-1), 'prepr...</td>\n",
       "      <td>-37.267211</td>\n",
       "      <td>-37.698271</td>\n",
       "      <td>-37.979989</td>\n",
       "      <td>-37.733561</td>\n",
       "      <td>-37.680995</td>\n",
       "      <td>-37.672005</td>\n",
       "      <td>0.229465</td>\n",
       "      <td>1</td>\n",
       "    </tr>\n",
       "    <tr>\n",
       "      <th>1</th>\n",
       "      <td>0.155530</td>\n",
       "      <td>0.045299</td>\n",
       "      <td>0.040650</td>\n",
       "      <td>0.042468</td>\n",
       "      <td>LinearRegression(n_jobs=-1)</td>\n",
       "      <td>MinMaxScaler()</td>\n",
       "      <td>{'models': LinearRegression(n_jobs=-1), 'prepr...</td>\n",
       "      <td>-37.267211</td>\n",
       "      <td>-37.698271</td>\n",
       "      <td>-37.979989</td>\n",
       "      <td>-37.733561</td>\n",
       "      <td>-37.680995</td>\n",
       "      <td>-37.672005</td>\n",
       "      <td>0.229465</td>\n",
       "      <td>1</td>\n",
       "    </tr>\n",
       "    <tr>\n",
       "      <th>2</th>\n",
       "      <td>0.194526</td>\n",
       "      <td>0.004071</td>\n",
       "      <td>0.005580</td>\n",
       "      <td>0.000195</td>\n",
       "      <td>LinearRegression(n_jobs=-1)</td>\n",
       "      <td>RobustScaler()</td>\n",
       "      <td>{'models': LinearRegression(n_jobs=-1), 'prepr...</td>\n",
       "      <td>-37.267211</td>\n",
       "      <td>-37.698271</td>\n",
       "      <td>-37.979989</td>\n",
       "      <td>-37.733561</td>\n",
       "      <td>-37.680995</td>\n",
       "      <td>-37.672005</td>\n",
       "      <td>0.229465</td>\n",
       "      <td>1</td>\n",
       "    </tr>\n",
       "    <tr>\n",
       "      <th>3</th>\n",
       "      <td>0.151988</td>\n",
       "      <td>0.042769</td>\n",
       "      <td>0.023004</td>\n",
       "      <td>0.036654</td>\n",
       "      <td>LinearRegression(n_jobs=-1)</td>\n",
       "      <td>passthrough</td>\n",
       "      <td>{'models': LinearRegression(n_jobs=-1), 'prepr...</td>\n",
       "      <td>-37.267211</td>\n",
       "      <td>-37.698271</td>\n",
       "      <td>-37.979989</td>\n",
       "      <td>-37.733561</td>\n",
       "      <td>-37.680995</td>\n",
       "      <td>-37.672005</td>\n",
       "      <td>0.229465</td>\n",
       "      <td>1</td>\n",
       "    </tr>\n",
       "  </tbody>\n",
       "</table>\n",
       "</div>"
      ],
      "text/plain": [
       "   mean_fit_time  std_fit_time  mean_score_time  std_score_time  \\\n",
       "0       0.160335      0.060715         0.005994        0.000212   \n",
       "1       0.155530      0.045299         0.040650        0.042468   \n",
       "2       0.194526      0.004071         0.005580        0.000195   \n",
       "3       0.151988      0.042769         0.023004        0.036654   \n",
       "\n",
       "                  param_models param_preprocessor__num  \\\n",
       "0  LinearRegression(n_jobs=-1)        StandardScaler()   \n",
       "1  LinearRegression(n_jobs=-1)          MinMaxScaler()   \n",
       "2  LinearRegression(n_jobs=-1)          RobustScaler()   \n",
       "3  LinearRegression(n_jobs=-1)             passthrough   \n",
       "\n",
       "                                              params  split0_test_score  \\\n",
       "0  {'models': LinearRegression(n_jobs=-1), 'prepr...         -37.267211   \n",
       "1  {'models': LinearRegression(n_jobs=-1), 'prepr...         -37.267211   \n",
       "2  {'models': LinearRegression(n_jobs=-1), 'prepr...         -37.267211   \n",
       "3  {'models': LinearRegression(n_jobs=-1), 'prepr...         -37.267211   \n",
       "\n",
       "   split1_test_score  split2_test_score  split3_test_score  split4_test_score  \\\n",
       "0         -37.698271         -37.979989         -37.733561         -37.680995   \n",
       "1         -37.698271         -37.979989         -37.733561         -37.680995   \n",
       "2         -37.698271         -37.979989         -37.733561         -37.680995   \n",
       "3         -37.698271         -37.979989         -37.733561         -37.680995   \n",
       "\n",
       "   mean_test_score  std_test_score  rank_test_score  \n",
       "0       -37.672005        0.229465                1  \n",
       "1       -37.672005        0.229465                1  \n",
       "2       -37.672005        0.229465                1  \n",
       "3       -37.672005        0.229465                1  "
      ]
     },
     "metadata": {},
     "output_type": "display_data"
    },
    {
     "data": {
      "text/html": [
       "<style  type=\"text/css\" >\n",
       "</style><table id=\"T_12c3e_\" ><caption>Данные по регионам на валидационных выборках</caption><thead>    <tr>        <th class=\"blank level0\" ></th>        <th class=\"col_heading level0 col0\" >Регион, №</th>        <th class=\"col_heading level0 col1\" >Cредний запас сырья</th>        <th class=\"col_heading level0 col2\" >RMSE</th>    </tr></thead><tbody>\n",
       "                <tr>\n",
       "                        <th id=\"T_12c3e_level0_row0\" class=\"row_heading level0 row0\" >0</th>\n",
       "                        <td id=\"T_12c3e_row0_col0\" class=\"data row0 col0\" >1</td>\n",
       "                        <td id=\"T_12c3e_row0_col1\" class=\"data row0 col1\" >92.398800</td>\n",
       "                        <td id=\"T_12c3e_row0_col2\" class=\"data row0 col2\" >37.756600</td>\n",
       "            </tr>\n",
       "    </tbody></table>"
      ],
      "text/plain": [
       "<pandas.io.formats.style.Styler at 0x7f56ae8ce100>"
      ]
     },
     "metadata": {},
     "output_type": "display_data"
    }
   ],
   "source": [
    "rmse_score, pred_mean, y_valid_1 = prepare_data_2(X_train, X_test_valid, y_train, y_test_valid)\n",
    "\n",
    "df_table = pd.DataFrame({'Регион, №': ['1'], 'Cредний запас сырья': pred_mean, 'RMSE': rmse_score})\n",
    "\n",
    "display(df_table.style.set_caption('Данные по регионам на валидационных выборках'))"
   ]
  },
  {
   "cell_type": "markdown",
   "metadata": {},
   "source": [
    "Разбивка данных на обучающую и валидационную выборки, обучение модели и выводе среднего запаса предсказанного сырья и RMSE модели для региона № 2."
   ]
  },
  {
   "cell_type": "code",
   "execution_count": 22,
   "metadata": {},
   "outputs": [
    {
     "data": {
      "text/plain": [
       "'X_train: (75000, 3)'"
      ]
     },
     "metadata": {},
     "output_type": "display_data"
    },
    {
     "data": {
      "text/plain": [
       "'X_test_valid: (25000, 3)'"
      ]
     },
     "metadata": {},
     "output_type": "display_data"
    },
    {
     "data": {
      "text/plain": [
       "'y_train: (75000,)'"
      ]
     },
     "metadata": {},
     "output_type": "display_data"
    },
    {
     "data": {
      "text/plain": [
       "'y_test_valid: (25000,)'"
      ]
     },
     "metadata": {},
     "output_type": "display_data"
    },
    {
     "name": "stdout",
     "output_type": "stream",
     "text": [
      "Лучшая модель и её параметры:\n",
      "\n",
      " {'models': LinearRegression(n_jobs=-1), 'preprocessor__num': StandardScaler()} \n",
      "\n",
      "\n"
     ]
    },
    {
     "data": {
      "text/plain": [
       "'Рейтинг моделей:'"
      ]
     },
     "metadata": {},
     "output_type": "display_data"
    },
    {
     "data": {
      "text/html": [
       "<div>\n",
       "<style scoped>\n",
       "    .dataframe tbody tr th:only-of-type {\n",
       "        vertical-align: middle;\n",
       "    }\n",
       "\n",
       "    .dataframe tbody tr th {\n",
       "        vertical-align: top;\n",
       "    }\n",
       "\n",
       "    .dataframe thead th {\n",
       "        text-align: right;\n",
       "    }\n",
       "</style>\n",
       "<table border=\"1\" class=\"dataframe\">\n",
       "  <thead>\n",
       "    <tr style=\"text-align: right;\">\n",
       "      <th></th>\n",
       "      <th>mean_fit_time</th>\n",
       "      <th>std_fit_time</th>\n",
       "      <th>mean_score_time</th>\n",
       "      <th>std_score_time</th>\n",
       "      <th>param_models</th>\n",
       "      <th>param_preprocessor__num</th>\n",
       "      <th>params</th>\n",
       "      <th>split0_test_score</th>\n",
       "      <th>split1_test_score</th>\n",
       "      <th>split2_test_score</th>\n",
       "      <th>split3_test_score</th>\n",
       "      <th>split4_test_score</th>\n",
       "      <th>mean_test_score</th>\n",
       "      <th>std_test_score</th>\n",
       "      <th>rank_test_score</th>\n",
       "    </tr>\n",
       "  </thead>\n",
       "  <tbody>\n",
       "    <tr>\n",
       "      <th>0</th>\n",
       "      <td>0.088259</td>\n",
       "      <td>0.025988</td>\n",
       "      <td>0.078570</td>\n",
       "      <td>0.035891</td>\n",
       "      <td>LinearRegression(n_jobs=-1)</td>\n",
       "      <td>StandardScaler()</td>\n",
       "      <td>{'models': LinearRegression(n_jobs=-1), 'prepr...</td>\n",
       "      <td>-0.886094</td>\n",
       "      <td>-0.890379</td>\n",
       "      <td>-0.893287</td>\n",
       "      <td>-0.892678</td>\n",
       "      <td>-0.889843</td>\n",
       "      <td>-0.890456</td>\n",
       "      <td>0.002544</td>\n",
       "      <td>1</td>\n",
       "    </tr>\n",
       "    <tr>\n",
       "      <th>1</th>\n",
       "      <td>0.119439</td>\n",
       "      <td>0.038859</td>\n",
       "      <td>0.060627</td>\n",
       "      <td>0.043755</td>\n",
       "      <td>LinearRegression(n_jobs=-1)</td>\n",
       "      <td>MinMaxScaler()</td>\n",
       "      <td>{'models': LinearRegression(n_jobs=-1), 'prepr...</td>\n",
       "      <td>-0.886094</td>\n",
       "      <td>-0.890379</td>\n",
       "      <td>-0.893287</td>\n",
       "      <td>-0.892678</td>\n",
       "      <td>-0.889843</td>\n",
       "      <td>-0.890456</td>\n",
       "      <td>0.002544</td>\n",
       "      <td>1</td>\n",
       "    </tr>\n",
       "    <tr>\n",
       "      <th>2</th>\n",
       "      <td>0.191978</td>\n",
       "      <td>0.002548</td>\n",
       "      <td>0.006211</td>\n",
       "      <td>0.000405</td>\n",
       "      <td>LinearRegression(n_jobs=-1)</td>\n",
       "      <td>RobustScaler()</td>\n",
       "      <td>{'models': LinearRegression(n_jobs=-1), 'prepr...</td>\n",
       "      <td>-0.886094</td>\n",
       "      <td>-0.890379</td>\n",
       "      <td>-0.893287</td>\n",
       "      <td>-0.892678</td>\n",
       "      <td>-0.889843</td>\n",
       "      <td>-0.890456</td>\n",
       "      <td>0.002544</td>\n",
       "      <td>1</td>\n",
       "    </tr>\n",
       "    <tr>\n",
       "      <th>3</th>\n",
       "      <td>0.097032</td>\n",
       "      <td>0.056796</td>\n",
       "      <td>0.040380</td>\n",
       "      <td>0.042699</td>\n",
       "      <td>LinearRegression(n_jobs=-1)</td>\n",
       "      <td>passthrough</td>\n",
       "      <td>{'models': LinearRegression(n_jobs=-1), 'prepr...</td>\n",
       "      <td>-0.886094</td>\n",
       "      <td>-0.890379</td>\n",
       "      <td>-0.893287</td>\n",
       "      <td>-0.892678</td>\n",
       "      <td>-0.889843</td>\n",
       "      <td>-0.890456</td>\n",
       "      <td>0.002544</td>\n",
       "      <td>4</td>\n",
       "    </tr>\n",
       "  </tbody>\n",
       "</table>\n",
       "</div>"
      ],
      "text/plain": [
       "   mean_fit_time  std_fit_time  mean_score_time  std_score_time  \\\n",
       "0       0.088259      0.025988         0.078570        0.035891   \n",
       "1       0.119439      0.038859         0.060627        0.043755   \n",
       "2       0.191978      0.002548         0.006211        0.000405   \n",
       "3       0.097032      0.056796         0.040380        0.042699   \n",
       "\n",
       "                  param_models param_preprocessor__num  \\\n",
       "0  LinearRegression(n_jobs=-1)        StandardScaler()   \n",
       "1  LinearRegression(n_jobs=-1)          MinMaxScaler()   \n",
       "2  LinearRegression(n_jobs=-1)          RobustScaler()   \n",
       "3  LinearRegression(n_jobs=-1)             passthrough   \n",
       "\n",
       "                                              params  split0_test_score  \\\n",
       "0  {'models': LinearRegression(n_jobs=-1), 'prepr...          -0.886094   \n",
       "1  {'models': LinearRegression(n_jobs=-1), 'prepr...          -0.886094   \n",
       "2  {'models': LinearRegression(n_jobs=-1), 'prepr...          -0.886094   \n",
       "3  {'models': LinearRegression(n_jobs=-1), 'prepr...          -0.886094   \n",
       "\n",
       "   split1_test_score  split2_test_score  split3_test_score  split4_test_score  \\\n",
       "0          -0.890379          -0.893287          -0.892678          -0.889843   \n",
       "1          -0.890379          -0.893287          -0.892678          -0.889843   \n",
       "2          -0.890379          -0.893287          -0.892678          -0.889843   \n",
       "3          -0.890379          -0.893287          -0.892678          -0.889843   \n",
       "\n",
       "   mean_test_score  std_test_score  rank_test_score  \n",
       "0        -0.890456        0.002544                1  \n",
       "1        -0.890456        0.002544                1  \n",
       "2        -0.890456        0.002544                1  \n",
       "3        -0.890456        0.002544                4  "
      ]
     },
     "metadata": {},
     "output_type": "display_data"
    },
    {
     "data": {
      "text/html": [
       "<style  type=\"text/css\" >\n",
       "</style><table id=\"T_067ae_\" ><caption>Данные по регионам на валидационных выборках</caption><thead>    <tr>        <th class=\"blank level0\" ></th>        <th class=\"col_heading level0 col0\" >Регион, №</th>        <th class=\"col_heading level0 col1\" >Cредний запас сырья</th>        <th class=\"col_heading level0 col2\" >RMSE</th>    </tr></thead><tbody>\n",
       "                <tr>\n",
       "                        <th id=\"T_067ae_level0_row0\" class=\"row_heading level0 row0\" >0</th>\n",
       "                        <td id=\"T_067ae_row0_col0\" class=\"data row0 col0\" >1</td>\n",
       "                        <td id=\"T_067ae_row0_col1\" class=\"data row0 col1\" >92.398800</td>\n",
       "                        <td id=\"T_067ae_row0_col2\" class=\"data row0 col2\" >37.756600</td>\n",
       "            </tr>\n",
       "            <tr>\n",
       "                        <th id=\"T_067ae_level0_row1\" class=\"row_heading level0 row1\" >1</th>\n",
       "                        <td id=\"T_067ae_row1_col0\" class=\"data row1 col0\" >2</td>\n",
       "                        <td id=\"T_067ae_row1_col1\" class=\"data row1 col1\" >68.712878</td>\n",
       "                        <td id=\"T_067ae_row1_col2\" class=\"data row1 col2\" >0.890280</td>\n",
       "            </tr>\n",
       "    </tbody></table>"
      ],
      "text/plain": [
       "<pandas.io.formats.style.Styler at 0x7f56ae99af40>"
      ]
     },
     "metadata": {},
     "output_type": "display_data"
    }
   ],
   "source": [
    "X_train, X_test_valid, y_train, y_test_valid = prepare_data(geo_data_1)\n",
    "\n",
    "rmse_score, pred_mean, y_valid_2 = prepare_data_2(X_train, X_test_valid, y_train, y_test_valid)\n",
    "\n",
    "df_table = df_table.append({'Регион, №': '2', 'Cредний запас сырья': pred_mean, 'RMSE': rmse_score}, ignore_index=True)\n",
    "\n",
    "display(df_table.style.set_caption('Данные по регионам на валидационных выборках'))\n"
   ]
  },
  {
   "cell_type": "markdown",
   "metadata": {},
   "source": [
    "Разбивка данных на обучающую и валидационную выборки, обучение модели и выводе среднего запаса предсказанного сырья и RMSE модели для региона № 3."
   ]
  },
  {
   "cell_type": "code",
   "execution_count": 23,
   "metadata": {},
   "outputs": [
    {
     "data": {
      "text/plain": [
       "'X_train: (75000, 3)'"
      ]
     },
     "metadata": {},
     "output_type": "display_data"
    },
    {
     "data": {
      "text/plain": [
       "'X_test_valid: (25000, 3)'"
      ]
     },
     "metadata": {},
     "output_type": "display_data"
    },
    {
     "data": {
      "text/plain": [
       "'y_train: (75000,)'"
      ]
     },
     "metadata": {},
     "output_type": "display_data"
    },
    {
     "data": {
      "text/plain": [
       "'y_test_valid: (25000,)'"
      ]
     },
     "metadata": {},
     "output_type": "display_data"
    },
    {
     "name": "stdout",
     "output_type": "stream",
     "text": [
      "Лучшая модель и её параметры:\n",
      "\n",
      " {'models': LinearRegression(n_jobs=-1), 'preprocessor__num': StandardScaler()} \n",
      "\n",
      "\n"
     ]
    },
    {
     "data": {
      "text/plain": [
       "'Рейтинг моделей:'"
      ]
     },
     "metadata": {},
     "output_type": "display_data"
    },
    {
     "data": {
      "text/html": [
       "<div>\n",
       "<style scoped>\n",
       "    .dataframe tbody tr th:only-of-type {\n",
       "        vertical-align: middle;\n",
       "    }\n",
       "\n",
       "    .dataframe tbody tr th {\n",
       "        vertical-align: top;\n",
       "    }\n",
       "\n",
       "    .dataframe thead th {\n",
       "        text-align: right;\n",
       "    }\n",
       "</style>\n",
       "<table border=\"1\" class=\"dataframe\">\n",
       "  <thead>\n",
       "    <tr style=\"text-align: right;\">\n",
       "      <th></th>\n",
       "      <th>mean_fit_time</th>\n",
       "      <th>std_fit_time</th>\n",
       "      <th>mean_score_time</th>\n",
       "      <th>std_score_time</th>\n",
       "      <th>param_models</th>\n",
       "      <th>param_preprocessor__num</th>\n",
       "      <th>params</th>\n",
       "      <th>split0_test_score</th>\n",
       "      <th>split1_test_score</th>\n",
       "      <th>split2_test_score</th>\n",
       "      <th>split3_test_score</th>\n",
       "      <th>split4_test_score</th>\n",
       "      <th>mean_test_score</th>\n",
       "      <th>std_test_score</th>\n",
       "      <th>rank_test_score</th>\n",
       "    </tr>\n",
       "  </thead>\n",
       "  <tbody>\n",
       "    <tr>\n",
       "      <th>0</th>\n",
       "      <td>0.074906</td>\n",
       "      <td>0.035118</td>\n",
       "      <td>0.077515</td>\n",
       "      <td>0.036421</td>\n",
       "      <td>LinearRegression(n_jobs=-1)</td>\n",
       "      <td>StandardScaler()</td>\n",
       "      <td>{'models': LinearRegression(n_jobs=-1), 'prepr...</td>\n",
       "      <td>-40.004724</td>\n",
       "      <td>-40.110065</td>\n",
       "      <td>-39.986828</td>\n",
       "      <td>-39.909902</td>\n",
       "      <td>-40.123389</td>\n",
       "      <td>-40.026982</td>\n",
       "      <td>0.080016</td>\n",
       "      <td>1</td>\n",
       "    </tr>\n",
       "    <tr>\n",
       "      <th>1</th>\n",
       "      <td>0.102560</td>\n",
       "      <td>0.002376</td>\n",
       "      <td>0.078644</td>\n",
       "      <td>0.034379</td>\n",
       "      <td>LinearRegression(n_jobs=-1)</td>\n",
       "      <td>MinMaxScaler()</td>\n",
       "      <td>{'models': LinearRegression(n_jobs=-1), 'prepr...</td>\n",
       "      <td>-40.004724</td>\n",
       "      <td>-40.110065</td>\n",
       "      <td>-39.986828</td>\n",
       "      <td>-39.909902</td>\n",
       "      <td>-40.123389</td>\n",
       "      <td>-40.026982</td>\n",
       "      <td>0.080016</td>\n",
       "      <td>1</td>\n",
       "    </tr>\n",
       "    <tr>\n",
       "      <th>2</th>\n",
       "      <td>0.192591</td>\n",
       "      <td>0.003197</td>\n",
       "      <td>0.005738</td>\n",
       "      <td>0.000109</td>\n",
       "      <td>LinearRegression(n_jobs=-1)</td>\n",
       "      <td>RobustScaler()</td>\n",
       "      <td>{'models': LinearRegression(n_jobs=-1), 'prepr...</td>\n",
       "      <td>-40.004724</td>\n",
       "      <td>-40.110065</td>\n",
       "      <td>-39.986828</td>\n",
       "      <td>-39.909902</td>\n",
       "      <td>-40.123389</td>\n",
       "      <td>-40.026982</td>\n",
       "      <td>0.080016</td>\n",
       "      <td>1</td>\n",
       "    </tr>\n",
       "    <tr>\n",
       "      <th>3</th>\n",
       "      <td>0.098676</td>\n",
       "      <td>0.054653</td>\n",
       "      <td>0.057493</td>\n",
       "      <td>0.042575</td>\n",
       "      <td>LinearRegression(n_jobs=-1)</td>\n",
       "      <td>passthrough</td>\n",
       "      <td>{'models': LinearRegression(n_jobs=-1), 'prepr...</td>\n",
       "      <td>-40.004724</td>\n",
       "      <td>-40.110065</td>\n",
       "      <td>-39.986828</td>\n",
       "      <td>-39.909902</td>\n",
       "      <td>-40.123389</td>\n",
       "      <td>-40.026982</td>\n",
       "      <td>0.080016</td>\n",
       "      <td>1</td>\n",
       "    </tr>\n",
       "  </tbody>\n",
       "</table>\n",
       "</div>"
      ],
      "text/plain": [
       "   mean_fit_time  std_fit_time  mean_score_time  std_score_time  \\\n",
       "0       0.074906      0.035118         0.077515        0.036421   \n",
       "1       0.102560      0.002376         0.078644        0.034379   \n",
       "2       0.192591      0.003197         0.005738        0.000109   \n",
       "3       0.098676      0.054653         0.057493        0.042575   \n",
       "\n",
       "                  param_models param_preprocessor__num  \\\n",
       "0  LinearRegression(n_jobs=-1)        StandardScaler()   \n",
       "1  LinearRegression(n_jobs=-1)          MinMaxScaler()   \n",
       "2  LinearRegression(n_jobs=-1)          RobustScaler()   \n",
       "3  LinearRegression(n_jobs=-1)             passthrough   \n",
       "\n",
       "                                              params  split0_test_score  \\\n",
       "0  {'models': LinearRegression(n_jobs=-1), 'prepr...         -40.004724   \n",
       "1  {'models': LinearRegression(n_jobs=-1), 'prepr...         -40.004724   \n",
       "2  {'models': LinearRegression(n_jobs=-1), 'prepr...         -40.004724   \n",
       "3  {'models': LinearRegression(n_jobs=-1), 'prepr...         -40.004724   \n",
       "\n",
       "   split1_test_score  split2_test_score  split3_test_score  split4_test_score  \\\n",
       "0         -40.110065         -39.986828         -39.909902         -40.123389   \n",
       "1         -40.110065         -39.986828         -39.909902         -40.123389   \n",
       "2         -40.110065         -39.986828         -39.909902         -40.123389   \n",
       "3         -40.110065         -39.986828         -39.909902         -40.123389   \n",
       "\n",
       "   mean_test_score  std_test_score  rank_test_score  \n",
       "0       -40.026982        0.080016                1  \n",
       "1       -40.026982        0.080016                1  \n",
       "2       -40.026982        0.080016                1  \n",
       "3       -40.026982        0.080016                1  "
      ]
     },
     "metadata": {},
     "output_type": "display_data"
    },
    {
     "data": {
      "text/html": [
       "<style  type=\"text/css\" >\n",
       "</style><table id=\"T_ecd7f_\" ><caption>Данные по регионам на валидационных выборках</caption><thead>    <tr>        <th class=\"blank level0\" ></th>        <th class=\"col_heading level0 col0\" >Регион, №</th>        <th class=\"col_heading level0 col1\" >Cредний запас сырья</th>        <th class=\"col_heading level0 col2\" >RMSE</th>    </tr></thead><tbody>\n",
       "                <tr>\n",
       "                        <th id=\"T_ecd7f_level0_row0\" class=\"row_heading level0 row0\" >0</th>\n",
       "                        <td id=\"T_ecd7f_row0_col0\" class=\"data row0 col0\" >1</td>\n",
       "                        <td id=\"T_ecd7f_row0_col1\" class=\"data row0 col1\" >92.398800</td>\n",
       "                        <td id=\"T_ecd7f_row0_col2\" class=\"data row0 col2\" >37.756600</td>\n",
       "            </tr>\n",
       "            <tr>\n",
       "                        <th id=\"T_ecd7f_level0_row1\" class=\"row_heading level0 row1\" >1</th>\n",
       "                        <td id=\"T_ecd7f_row1_col0\" class=\"data row1 col0\" >2</td>\n",
       "                        <td id=\"T_ecd7f_row1_col1\" class=\"data row1 col1\" >68.712878</td>\n",
       "                        <td id=\"T_ecd7f_row1_col2\" class=\"data row1 col2\" >0.890280</td>\n",
       "            </tr>\n",
       "            <tr>\n",
       "                        <th id=\"T_ecd7f_level0_row2\" class=\"row_heading level0 row2\" >2</th>\n",
       "                        <td id=\"T_ecd7f_row2_col0\" class=\"data row2 col0\" >3</td>\n",
       "                        <td id=\"T_ecd7f_row2_col1\" class=\"data row2 col1\" >94.771024</td>\n",
       "                        <td id=\"T_ecd7f_row2_col2\" class=\"data row2 col2\" >40.145870</td>\n",
       "            </tr>\n",
       "    </tbody></table>"
      ],
      "text/plain": [
       "<pandas.io.formats.style.Styler at 0x7f56a3582cd0>"
      ]
     },
     "metadata": {},
     "output_type": "display_data"
    }
   ],
   "source": [
    "X_train, X_test_valid, y_train, y_test_valid = prepare_data(geo_data_2)\n",
    "\n",
    "rmse_score, pred_mean, y_valid_3 = prepare_data_2(X_train, X_test_valid, y_train, y_test_valid)\n",
    "\n",
    "df_table = df_table.append({'Регион, №': '3', 'Cредний запас сырья': pred_mean, 'RMSE': rmse_score}, ignore_index=True)\n",
    "\n",
    "display(df_table.style.set_caption('Данные по регионам на валидационных выборках'))\n"
   ]
  },
  {
   "cell_type": "markdown",
   "metadata": {},
   "source": [
    "### Промежуточный вывод\n",
    "\n",
    "Корень среднеквадратичной ошибки показывает, на какое значение предсказание в среднем отличается от истинного значения. Значение метрики ниже для региона № 2 и составляет 0.89 тыс. баррелей. Вместе с этим средний запас сырья в этом регионе самый низкий - 68,7 тыс. баррелей.\n",
    "\n",
    "Самый высокий средний запас сырья в регионе № 3 - 94,8 тыс. баррелей, при этом значение метрики RMSE самое высокое - 40 тыс. баррелей.  "
   ]
  },
  {
   "cell_type": "markdown",
   "metadata": {},
   "source": [
    "## Подготовка к расчёту прибыли"
   ]
  },
  {
   "cell_type": "markdown",
   "metadata": {},
   "source": [
    "Сохранение ключевых значений для расчётов в отдельных переменных."
   ]
  },
  {
   "cell_type": "code",
   "execution_count": 24,
   "metadata": {},
   "outputs": [],
   "source": [
    "DEVELOPMENT_BUDGET = 10000000000\n",
    "INCOME_PER_UNIT = 450000\n",
    "PROBABILITY_OF_LOSS = 0.025\n",
    "TOTAL_POINTS = 500\n",
    "BEST_POINTS = 200"
   ]
  },
  {
   "cell_type": "code",
   "execution_count": 25,
   "metadata": {},
   "outputs": [
    {
     "name": "stdout",
     "output_type": "stream",
     "text": [
      "Достаточный объём сырья для безубыточной разработки новой скважины:  111.11111111111111 \n",
      "Полученный объём сырья превышает средний запас сырья в каждом регионе.\n"
     ]
    }
   ],
   "source": [
    "development_volume = DEVELOPMENT_BUDGET / INCOME_PER_UNIT / BEST_POINTS\n",
    "\n",
    "print('Достаточный объём сырья для безубыточной разработки новой скважины: ', development_volume, '\\n'\n",
    "     'Полученный объём сырья превышает средний запас сырья в каждом регионе.')\n"
   ]
  },
  {
   "cell_type": "markdown",
   "metadata": {},
   "source": [
    "## Функция для расчёта прибыли"
   ]
  },
  {
   "cell_type": "markdown",
   "metadata": {},
   "source": [
    "Функция расчета прибыли для 200 лучших для разработки скважин."
   ]
  },
  {
   "cell_type": "code",
   "execution_count": 26,
   "metadata": {},
   "outputs": [],
   "source": [
    "def profit_calc(subsample):\n",
    "    profit = (subsample.sort_values(by='pred', ascending = False)\n",
    "              .head(BEST_POINTS)['product']\n",
    "              .sum() * INCOME_PER_UNIT - DEVELOPMENT_BUDGET)\n",
    "    return profit"
   ]
  },
  {
   "cell_type": "markdown",
   "metadata": {},
   "source": [
    "## Расчёт прибыли и рисков "
   ]
  },
  {
   "cell_type": "markdown",
   "metadata": {},
   "source": [
    "Функция для применения техники Bootstrap с 1000 выборок и распределение прибыли.\n",
    "Для каждой выборки нахождение средней прибыли, 95%-го доверительного интервала и риска убытков.\n"
   ]
  },
  {
   "cell_type": "code",
   "execution_count": 27,
   "metadata": {},
   "outputs": [],
   "source": [
    "def sample_calc(df):\n",
    "\n",
    "    state = np.random.RandomState(12345)\n",
    "    values = []\n",
    "\n",
    "    for i in range(1000):\n",
    "        subsample = df.sample(n=500, replace=True, random_state=state) \n",
    "        profit_value = profit_calc(subsample)\n",
    "        values.append(profit_value)\n",
    "\n",
    "    values = pd.Series(values)\n",
    "    \n",
    "    mean_profit = f'{int(values.mean()):,}'\n",
    "    risk_of_loss = round((values < 0).sum() / 1000 * 100, 1)\n",
    "    confidence_interval = (f\"{int(values.quantile(0.025)):,} ; {int(values.quantile(0.975)):,}\") \n",
    "\n",
    "    return [mean_profit, confidence_interval, risk_of_loss]\n"
   ]
  },
  {
   "cell_type": "code",
   "execution_count": 28,
   "metadata": {},
   "outputs": [],
   "source": [
    "ind = []\n",
    "\n",
    "for n in [y_valid_1, y_valid_2, y_valid_3] :\n",
    "    ind.append(sample_calc(n))"
   ]
  },
  {
   "cell_type": "code",
   "execution_count": 29,
   "metadata": {},
   "outputs": [
    {
     "data": {
      "text/html": [
       "<div>\n",
       "<style scoped>\n",
       "    .dataframe tbody tr th:only-of-type {\n",
       "        vertical-align: middle;\n",
       "    }\n",
       "\n",
       "    .dataframe tbody tr th {\n",
       "        vertical-align: top;\n",
       "    }\n",
       "\n",
       "    .dataframe thead th {\n",
       "        text-align: right;\n",
       "    }\n",
       "</style>\n",
       "<table border=\"1\" class=\"dataframe\">\n",
       "  <thead>\n",
       "    <tr style=\"text-align: right;\">\n",
       "      <th></th>\n",
       "      <th>Средняя прибыль, р.</th>\n",
       "      <th>95%-й доверительный интервал, р.</th>\n",
       "      <th>Риск убытков, %</th>\n",
       "    </tr>\n",
       "  </thead>\n",
       "  <tbody>\n",
       "    <tr>\n",
       "      <th>0</th>\n",
       "      <td>406,278,783</td>\n",
       "      <td>-117,742,136 ; 911,737,050</td>\n",
       "      <td>6.7</td>\n",
       "    </tr>\n",
       "    <tr>\n",
       "      <th>1</th>\n",
       "      <td>432,624,131</td>\n",
       "      <td>16,846,174 ; 815,972,526</td>\n",
       "      <td>1.9</td>\n",
       "    </tr>\n",
       "    <tr>\n",
       "      <th>2</th>\n",
       "      <td>377,362,192</td>\n",
       "      <td>-170,780,417 ; 901,772,131</td>\n",
       "      <td>7.4</td>\n",
       "    </tr>\n",
       "  </tbody>\n",
       "</table>\n",
       "</div>"
      ],
      "text/plain": [
       "  Средняя прибыль, р. 95%-й доверительный интервал, р.  Риск убытков, %\n",
       "0         406,278,783       -117,742,136 ; 911,737,050              6.7\n",
       "1         432,624,131         16,846,174 ; 815,972,526              1.9\n",
       "2         377,362,192       -170,780,417 ; 901,772,131              7.4"
      ]
     },
     "execution_count": 29,
     "metadata": {},
     "output_type": "execute_result"
    }
   ],
   "source": [
    "df = pd.DataFrame(ind, columns=['Средняя прибыль, р.', '95%-й доверительный интервал, р.', 'Риск убытков, %'])\n",
    "df"
   ]
  },
  {
   "cell_type": "markdown",
   "metadata": {},
   "source": [
    "### Промежуточный вывод\n",
    "\n",
    "Лучший регион для разработки скважин - регион № 2.\n",
    "Вероятность убытков ниже 2.5% и составляет 1.9 %. Средняя прибыль в этом регионе выше по сравнению с другими регионами и составляет 432,6 млн р. 95%-й доверительный интервал в распределении прибыли от 16,8 млн р. до 816 млн р."
   ]
  },
  {
   "cell_type": "markdown",
   "metadata": {},
   "source": [
    "## Общий вывод\n",
    "\n",
    "`Цель исследования`: На основе данных качества нефти и объёма её запасов в трёх регионах построена модель для предсказания объёма запасов в новых скважинах в каждом регионе. Проанализирована возможная прибыль и риски техникой Bootstrap. Определен регион с минимальной вероятностью убытков и максимальной суммарной прибылью отобранных скважин - регион № 2.\n",
    "\n",
    "Вероятность убытков ниже 2.5% и составляет 1.9 %. Средняя прибыль в этом регионе выше по сравнению с другими регионами и составляет 432,6 млн р. 95%-й доверительный интервал в распределении прибыли от 16,8 млн р. до 816 млн р.\n",
    "\n",
    "\n",
    "`Исходные данные` содержат информацию о качестве нефти и объёме её запасов в трёх регионах.\n",
    "\n",
    "\n",
    "`Подготовка и исследовательский анализ данных` включает этапы:\n",
    "- Запись датасета в переменные;\n",
    "- Явные дубликаты и пропуски не обнаружены.\n",
    "- Обнаружены повторяющиеся идентификаторы скважин с отличными друг от друга объемами запасов.\n",
    "Дубли оставлены. В реальной ситуации необходимо уточнение от заказчика для продолжения работы с данными.\n",
    "- Распределение целевого и входных признаков отличается от региона к региону.\n",
    "\n",
    "`F0`:\n",
    "- Распределение признака мультимодальное в 1м и 2м регионах, в 1м регионе - нет выбросов, во 2м регионе есть 1 выброс. В 3м регионе признак распределен нормально, присутсвуют выбросы как у нижней, так и у верхней границ распределения.\n",
    "- Разброс значений отличается в зависимости от региона: от -1.4 до 2.4 в 1м регионе, от -31.6 до 29.4 в 2м регионе, от -8.8 до 7.2 в 3м регионе.\n",
    "\n",
    "`F1`:\n",
    "- Распределение признака мультимодальное в 1м регионе, нет выбросов. Во 2м регионе признак распределен нормально со сдвигом влево, в 3м регионе признак распределен нормально, присутсвуют выбросы как у нижней, так и у верхней границ распределения.\n",
    "- Разброс значений отличается в зависимости от региона: от -0.8 до 1.3 в 1м регионе, от -26.4 до 18.7 в 2м регионе, от -7.1 до 7.8 в 3м регионе.\n",
    "\n",
    "`F2`:\n",
    "- В 1м и 3м регионах признак распределен нормально со сдвигом вправо, есть выбросы. Во 2м регионе признак сгруппирован по кластерам, нет выбросов.\n",
    "- Разброс значений отличается в зависимости от региона: от -12.1 до 16 в 1м регионе, от -0.02 до 5.02 в 2м регионе, от -12 до 16.7 в 3м регионе.\n",
    "\n",
    "`product`:\n",
    "- Распределение признака мультимодальное в 1м и 3м регионах, без выбросов. Во 2м регионе признак сгруппирован по кластерам, нет выбросов.\n",
    "- Разброс значений отличается в зависимости от региона: от 0 до 185.4 в 1м регионе, от 0 до 138 в 2м регионе, от 0 до 190 в 3м регионе.\n",
    "\n",
    "- Мультиколлинеарности между входными признаками нет. \n",
    "\n",
    "Регион №1:\n",
    "\n",
    "Целевой признак `product` коррелирует с признаками: \n",
    "    - `f2`- коэффициент корреляции: 0,48 - умеренная связь;\n",
    "    - `f1` и `f0`- коэффициенты корреляции: 0,25 и 0,22 - слабая связь;\n",
    "\n",
    "Регион №2:\n",
    "\n",
    "Целевой признак `product` коррелирует с признаками: \n",
    "    - `f2`- коэффициент корреляции: 0,98 - весьма высокая связь;\n",
    "    - `f1`- коэффициент корреляции: 0,19 - слабая связь;\n",
    "    - `f0`- коэффициент корреляции: 0,63 - заметная связь;\n",
    "\n",
    "Регион №3:\n",
    "\n",
    "Целевой признак `product` коррелирует с признаками: \n",
    "    - `f2`- коэффициент корреляции: 0,44 - умеренная связь;\n",
    "    - `f1` и `f0`- коэффициенты корреляции: 0,22 и 0,20 - слабая связь;\n",
    "\n",
    "`Обучение и проверка модели`\n",
    "\n",
    "Обучена модель линейной регресии для каждого региона. \n",
    "Предсказание в среднем отличается от истинного значения меньше для региона № 2 и составляет 0.89 тыс. баррелей. Вместе с этим средний запас сырья в этом регионе самый низкий - 68,7 тыс. баррелей. \n",
    "\n",
    "Самый высокий средний запас сырья в регионе № 3 - 94,8 тыс. баррелей, при этом значение метрики RMSE самое высокое - 40 тыс. баррелей. \n",
    "\n",
    "Достаточный объём сырья для безубыточной разработки новой скважины:  111 тыс. баррелей. \n",
    "Он превышает средний запас сырья в каждом регионе."
   ]
  },
  {
   "cell_type": "markdown",
   "metadata": {},
   "source": [
    "## Чек-лист готовности проекта"
   ]
  },
  {
   "cell_type": "markdown",
   "metadata": {},
   "source": [
    "Поставьте 'x' в выполненных пунктах. Далее нажмите Shift+Enter."
   ]
  },
  {
   "cell_type": "markdown",
   "metadata": {},
   "source": [
    "- [x]  Jupyter Notebook открыт\n",
    "- [x]  Весь код выполняется без ошибок\n",
    "- [x]  Ячейки с кодом расположены в порядке исполнения\n",
    "- [x]  Выполнен шаг 1: данные подготовлены\n",
    "- [x]  Выполнен шаг 2: модели обучены и проверены\n",
    "    - [x]  Данные корректно разбиты на обучающую и валидационную выборки\n",
    "    - [x]  Модели обучены, предсказания сделаны\n",
    "    - [x]  Предсказания и правильные ответы на валидационной выборке сохранены\n",
    "    - [x]  На экране напечатаны результаты\n",
    "    - [x]  Сделаны выводы\n",
    "- [x]  Выполнен шаг 3: проведена подготовка к расчёту прибыли\n",
    "    - [x]  Для всех ключевых значений созданы константы Python\n",
    "    - [x]  Посчитано минимальное среднее количество продукта в месторождениях региона, достаточное для разработки\n",
    "    - [x]  По предыдущему пункту сделаны выводы\n",
    "    - [x]  Написана функция расчёта прибыли\n",
    "- [x]  Выполнен шаг 4: посчитаны риски и прибыль\n",
    "    - [x]  Проведена процедура *Bootstrap*\n",
    "    - [x]  Все параметры бутстрепа соответствуют условию\n",
    "    - [x]  Найдены все нужные величины\n",
    "    - [x]  Предложен регион для разработки месторождения\n",
    "    - [x]  Выбор региона обоснован"
   ]
  },
  {
   "cell_type": "code",
   "execution_count": null,
   "metadata": {},
   "outputs": [],
   "source": []
  }
 ],
 "metadata": {
  "ExecuteTimeLog": [
   {
    "duration": 1664,
    "start_time": "2024-12-19T15:18:55.242Z"
   },
   {
    "duration": 11,
    "start_time": "2024-12-19T15:18:57.034Z"
   },
   {
    "duration": 10198,
    "start_time": "2024-12-19T15:19:00.170Z"
   },
   {
    "duration": 53,
    "start_time": "2024-12-19T15:19:10.371Z"
   },
   {
    "duration": 0,
    "start_time": "2024-12-19T15:19:10.426Z"
   },
   {
    "duration": 5125,
    "start_time": "2024-12-19T15:19:55.383Z"
   },
   {
    "duration": 1271,
    "start_time": "2024-12-19T15:20:00.510Z"
   },
   {
    "duration": 724,
    "start_time": "2024-12-19T15:20:01.783Z"
   },
   {
    "duration": 111,
    "start_time": "2024-12-19T15:32:50.064Z"
   },
   {
    "duration": 113,
    "start_time": "2024-12-19T16:17:59.754Z"
   },
   {
    "duration": 8,
    "start_time": "2024-12-19T16:18:21.194Z"
   },
   {
    "duration": 11,
    "start_time": "2024-12-19T16:18:51.306Z"
   },
   {
    "duration": 7,
    "start_time": "2024-12-19T16:19:06.124Z"
   },
   {
    "duration": 6,
    "start_time": "2024-12-19T16:19:29.769Z"
   },
   {
    "duration": 32,
    "start_time": "2024-12-19T16:19:38.866Z"
   },
   {
    "duration": 9,
    "start_time": "2024-12-19T16:49:58.963Z"
   },
   {
    "duration": 8,
    "start_time": "2024-12-19T16:50:09.239Z"
   },
   {
    "duration": 5,
    "start_time": "2024-12-19T16:50:39.009Z"
   },
   {
    "duration": 7,
    "start_time": "2024-12-19T16:51:02.079Z"
   },
   {
    "duration": 5,
    "start_time": "2024-12-19T16:51:16.589Z"
   },
   {
    "duration": 8,
    "start_time": "2024-12-19T16:52:01.334Z"
   },
   {
    "duration": 8,
    "start_time": "2024-12-19T16:52:07.311Z"
   },
   {
    "duration": 7,
    "start_time": "2024-12-19T16:52:16.495Z"
   },
   {
    "duration": 79,
    "start_time": "2024-12-19T16:52:33.278Z"
   },
   {
    "duration": 6,
    "start_time": "2024-12-19T16:52:41.706Z"
   },
   {
    "duration": 8,
    "start_time": "2024-12-19T16:52:46.944Z"
   },
   {
    "duration": 6,
    "start_time": "2024-12-19T16:55:17.971Z"
   },
   {
    "duration": 28,
    "start_time": "2024-12-19T16:56:59.797Z"
   },
   {
    "duration": 25,
    "start_time": "2024-12-19T16:58:58.575Z"
   },
   {
    "duration": 25,
    "start_time": "2024-12-19T16:59:41.033Z"
   },
   {
    "duration": 23,
    "start_time": "2024-12-19T16:59:46.541Z"
   },
   {
    "duration": 18,
    "start_time": "2024-12-19T16:59:55.211Z"
   },
   {
    "duration": 17,
    "start_time": "2024-12-19T17:00:17.664Z"
   },
   {
    "duration": 20,
    "start_time": "2024-12-19T17:00:35.819Z"
   },
   {
    "duration": 20,
    "start_time": "2024-12-19T17:00:42.094Z"
   },
   {
    "duration": 20,
    "start_time": "2024-12-19T17:00:48.192Z"
   },
   {
    "duration": 21,
    "start_time": "2024-12-19T17:02:01.952Z"
   },
   {
    "duration": 101,
    "start_time": "2024-12-19T17:02:07.251Z"
   },
   {
    "duration": 20,
    "start_time": "2024-12-19T17:02:26.767Z"
   },
   {
    "duration": 20,
    "start_time": "2024-12-19T17:02:36.623Z"
   },
   {
    "duration": 22,
    "start_time": "2024-12-19T17:03:05.384Z"
   },
   {
    "duration": 22,
    "start_time": "2024-12-19T17:06:23.260Z"
   },
   {
    "duration": 5028,
    "start_time": "2024-12-19T18:24:02.905Z"
   },
   {
    "duration": 1242,
    "start_time": "2024-12-19T18:24:07.935Z"
   },
   {
    "duration": 462,
    "start_time": "2024-12-19T18:24:09.179Z"
   },
   {
    "duration": 125,
    "start_time": "2024-12-19T18:24:09.654Z"
   },
   {
    "duration": 5,
    "start_time": "2024-12-19T18:24:09.781Z"
   },
   {
    "duration": 19,
    "start_time": "2024-12-19T18:24:09.788Z"
   },
   {
    "duration": 4,
    "start_time": "2024-12-19T18:24:09.808Z"
   },
   {
    "duration": 131,
    "start_time": "2024-12-19T18:24:09.814Z"
   },
   {
    "duration": 0,
    "start_time": "2024-12-19T18:24:09.947Z"
   },
   {
    "duration": 3,
    "start_time": "2024-12-19T18:24:48.251Z"
   },
   {
    "duration": 28,
    "start_time": "2024-12-19T18:24:49.513Z"
   },
   {
    "duration": 81,
    "start_time": "2024-12-19T18:25:17.840Z"
   },
   {
    "duration": 100,
    "start_time": "2024-12-19T18:25:23.110Z"
   },
   {
    "duration": 5196,
    "start_time": "2024-12-19T18:25:35.760Z"
   },
   {
    "duration": 1233,
    "start_time": "2024-12-19T18:25:40.958Z"
   },
   {
    "duration": 440,
    "start_time": "2024-12-19T18:25:42.193Z"
   },
   {
    "duration": 119,
    "start_time": "2024-12-19T18:25:42.655Z"
   },
   {
    "duration": 5,
    "start_time": "2024-12-19T18:25:42.776Z"
   },
   {
    "duration": 25,
    "start_time": "2024-12-19T18:25:42.782Z"
   },
   {
    "duration": 3,
    "start_time": "2024-12-19T18:25:42.809Z"
   },
   {
    "duration": 327,
    "start_time": "2024-12-19T18:25:42.813Z"
   },
   {
    "duration": 0,
    "start_time": "2024-12-19T18:25:43.142Z"
   },
   {
    "duration": 113,
    "start_time": "2024-12-19T18:26:23.441Z"
   },
   {
    "duration": 4,
    "start_time": "2024-12-19T18:26:27.229Z"
   },
   {
    "duration": 94,
    "start_time": "2024-12-19T18:27:57.908Z"
   },
   {
    "duration": 5159,
    "start_time": "2024-12-19T18:28:46.151Z"
   },
   {
    "duration": 1178,
    "start_time": "2024-12-19T18:28:51.312Z"
   },
   {
    "duration": 448,
    "start_time": "2024-12-19T18:28:52.492Z"
   },
   {
    "duration": 117,
    "start_time": "2024-12-19T18:28:52.954Z"
   },
   {
    "duration": 5,
    "start_time": "2024-12-19T18:28:53.073Z"
   },
   {
    "duration": 29,
    "start_time": "2024-12-19T18:28:53.079Z"
   },
   {
    "duration": 4,
    "start_time": "2024-12-19T18:28:53.109Z"
   },
   {
    "duration": 327,
    "start_time": "2024-12-19T18:28:53.114Z"
   },
   {
    "duration": 0,
    "start_time": "2024-12-19T18:28:53.442Z"
   },
   {
    "duration": 4,
    "start_time": "2024-12-19T18:31:19.871Z"
   },
   {
    "duration": 5264,
    "start_time": "2024-12-19T18:31:30.779Z"
   },
   {
    "duration": 1337,
    "start_time": "2024-12-19T18:31:36.046Z"
   },
   {
    "duration": 448,
    "start_time": "2024-12-19T18:31:37.385Z"
   },
   {
    "duration": 134,
    "start_time": "2024-12-19T18:31:37.834Z"
   },
   {
    "duration": 5,
    "start_time": "2024-12-19T18:31:37.970Z"
   },
   {
    "duration": 26,
    "start_time": "2024-12-19T18:31:37.976Z"
   },
   {
    "duration": 3,
    "start_time": "2024-12-19T18:31:38.003Z"
   },
   {
    "duration": 50,
    "start_time": "2024-12-19T18:31:38.007Z"
   },
   {
    "duration": 5,
    "start_time": "2024-12-19T18:31:38.058Z"
   },
   {
    "duration": 8,
    "start_time": "2024-12-20T15:26:31.677Z"
   },
   {
    "duration": 6,
    "start_time": "2024-12-20T15:26:56.225Z"
   },
   {
    "duration": 4,
    "start_time": "2024-12-20T15:36:42.958Z"
   },
   {
    "duration": 4,
    "start_time": "2024-12-20T15:37:15.203Z"
   },
   {
    "duration": 11854,
    "start_time": "2025-01-05T10:29:36.411Z"
   },
   {
    "duration": 1602,
    "start_time": "2025-01-05T10:29:48.267Z"
   },
   {
    "duration": 746,
    "start_time": "2025-01-05T10:29:49.871Z"
   },
   {
    "duration": 161,
    "start_time": "2025-01-05T10:29:50.619Z"
   },
   {
    "duration": 20,
    "start_time": "2025-01-05T10:29:50.783Z"
   },
   {
    "duration": 4,
    "start_time": "2025-01-05T10:29:50.805Z"
   },
   {
    "duration": 64,
    "start_time": "2025-01-05T10:29:50.811Z"
   },
   {
    "duration": 100,
    "start_time": "2025-01-05T10:29:50.878Z"
   },
   {
    "duration": 8,
    "start_time": "2025-01-05T10:29:51.071Z"
   },
   {
    "duration": 16,
    "start_time": "2025-01-05T10:29:51.081Z"
   },
   {
    "duration": 126,
    "start_time": "2025-01-05T10:51:44.001Z"
   },
   {
    "duration": 14,
    "start_time": "2025-01-05T10:51:57.898Z"
   },
   {
    "duration": 4,
    "start_time": "2025-01-05T10:56:15.851Z"
   },
   {
    "duration": 4,
    "start_time": "2025-01-05T10:56:38.529Z"
   },
   {
    "duration": 4,
    "start_time": "2025-01-05T10:56:46.783Z"
   },
   {
    "duration": 4,
    "start_time": "2025-01-05T10:58:09.803Z"
   },
   {
    "duration": 3,
    "start_time": "2025-01-05T10:58:19.956Z"
   },
   {
    "duration": 4,
    "start_time": "2025-01-05T10:58:27.172Z"
   },
   {
    "duration": 3,
    "start_time": "2025-01-05T11:32:04.153Z"
   },
   {
    "duration": 22,
    "start_time": "2025-01-05T11:32:07.063Z"
   },
   {
    "duration": 4084,
    "start_time": "2025-01-05T11:33:40.792Z"
   },
   {
    "duration": 4096,
    "start_time": "2025-01-05T11:34:15.678Z"
   },
   {
    "duration": 80,
    "start_time": "2025-01-05T11:48:01.788Z"
   },
   {
    "duration": 4141,
    "start_time": "2025-01-05T11:48:14.136Z"
   },
   {
    "duration": 5,
    "start_time": "2025-01-05T11:48:56.574Z"
   },
   {
    "duration": 4156,
    "start_time": "2025-01-05T11:49:01.023Z"
   },
   {
    "duration": 4206,
    "start_time": "2025-01-05T11:49:59.067Z"
   },
   {
    "duration": 10259,
    "start_time": "2025-01-05T14:08:07.044Z"
   },
   {
    "duration": 1434,
    "start_time": "2025-01-05T14:08:17.306Z"
   },
   {
    "duration": 1704,
    "start_time": "2025-01-05T14:08:18.742Z"
   },
   {
    "duration": 142,
    "start_time": "2025-01-05T14:08:20.447Z"
   },
   {
    "duration": 26,
    "start_time": "2025-01-05T14:08:20.592Z"
   },
   {
    "duration": 3,
    "start_time": "2025-01-05T14:08:20.620Z"
   },
   {
    "duration": 164,
    "start_time": "2025-01-05T14:08:20.625Z"
   },
   {
    "duration": 4,
    "start_time": "2025-01-05T14:08:20.791Z"
   },
   {
    "duration": 3,
    "start_time": "2025-01-05T14:08:20.797Z"
   },
   {
    "duration": 3590,
    "start_time": "2025-01-05T14:08:20.803Z"
   },
   {
    "duration": 6,
    "start_time": "2025-01-05T14:08:24.395Z"
   },
   {
    "duration": 85,
    "start_time": "2025-01-05T14:08:24.403Z"
   },
   {
    "duration": 55,
    "start_time": "2025-01-05T14:17:35.991Z"
   },
   {
    "duration": 5,
    "start_time": "2025-01-05T14:17:44.007Z"
   },
   {
    "duration": 59,
    "start_time": "2025-01-05T14:17:45.608Z"
   },
   {
    "duration": 25,
    "start_time": "2025-01-05T14:17:51.102Z"
   },
   {
    "duration": 3,
    "start_time": "2025-01-05T14:18:18.836Z"
   },
   {
    "duration": 17,
    "start_time": "2025-01-05T14:18:20.632Z"
   },
   {
    "duration": 4,
    "start_time": "2025-01-05T14:20:23.384Z"
   },
   {
    "duration": 3246,
    "start_time": "2025-01-05T14:27:02.049Z"
   },
   {
    "duration": 81,
    "start_time": "2025-01-05T14:32:20.982Z"
   },
   {
    "duration": 3406,
    "start_time": "2025-01-05T14:32:29.489Z"
   },
   {
    "duration": 3302,
    "start_time": "2025-01-05T14:33:33.088Z"
   },
   {
    "duration": 3251,
    "start_time": "2025-01-05T14:34:03.561Z"
   },
   {
    "duration": 5947,
    "start_time": "2025-01-05T15:13:43.062Z"
   },
   {
    "duration": 1311,
    "start_time": "2025-01-05T15:13:49.012Z"
   },
   {
    "duration": 441,
    "start_time": "2025-01-05T15:13:50.324Z"
   },
   {
    "duration": 142,
    "start_time": "2025-01-05T15:13:50.766Z"
   },
   {
    "duration": 3,
    "start_time": "2025-01-05T15:13:50.910Z"
   },
   {
    "duration": 46,
    "start_time": "2025-01-05T15:13:50.914Z"
   },
   {
    "duration": 4,
    "start_time": "2025-01-05T15:13:50.961Z"
   },
   {
    "duration": 6,
    "start_time": "2025-01-05T15:13:50.966Z"
   },
   {
    "duration": 129,
    "start_time": "2025-01-05T15:13:50.973Z"
   },
   {
    "duration": 0,
    "start_time": "2025-01-05T15:13:51.103Z"
   },
   {
    "duration": 0,
    "start_time": "2025-01-05T15:13:51.105Z"
   },
   {
    "duration": 6107,
    "start_time": "2025-01-05T15:15:16.240Z"
   },
   {
    "duration": 1279,
    "start_time": "2025-01-05T15:15:22.349Z"
   },
   {
    "duration": 434,
    "start_time": "2025-01-05T15:15:23.631Z"
   },
   {
    "duration": 149,
    "start_time": "2025-01-05T15:15:24.066Z"
   },
   {
    "duration": 4,
    "start_time": "2025-01-05T15:15:24.217Z"
   },
   {
    "duration": 18,
    "start_time": "2025-01-05T15:15:24.222Z"
   },
   {
    "duration": 4,
    "start_time": "2025-01-05T15:15:24.241Z"
   },
   {
    "duration": 4,
    "start_time": "2025-01-05T15:15:24.247Z"
   },
   {
    "duration": 137,
    "start_time": "2025-01-05T15:15:24.252Z"
   },
   {
    "duration": 0,
    "start_time": "2025-01-05T15:15:24.391Z"
   },
   {
    "duration": 0,
    "start_time": "2025-01-05T15:15:24.392Z"
   },
   {
    "duration": 5991,
    "start_time": "2025-01-05T15:16:06.417Z"
   },
   {
    "duration": 1213,
    "start_time": "2025-01-05T15:16:12.411Z"
   },
   {
    "duration": 438,
    "start_time": "2025-01-05T15:16:13.625Z"
   },
   {
    "duration": 153,
    "start_time": "2025-01-05T15:16:14.064Z"
   },
   {
    "duration": 3,
    "start_time": "2025-01-05T15:16:14.219Z"
   },
   {
    "duration": 27,
    "start_time": "2025-01-05T15:16:14.224Z"
   },
   {
    "duration": 5,
    "start_time": "2025-01-05T15:16:14.253Z"
   },
   {
    "duration": 30,
    "start_time": "2025-01-05T15:16:14.259Z"
   },
   {
    "duration": 130,
    "start_time": "2025-01-05T15:16:14.292Z"
   },
   {
    "duration": 0,
    "start_time": "2025-01-05T15:16:14.424Z"
   },
   {
    "duration": 0,
    "start_time": "2025-01-05T15:16:14.425Z"
   },
   {
    "duration": 9,
    "start_time": "2025-01-05T15:17:48.599Z"
   },
   {
    "duration": 8,
    "start_time": "2025-01-05T15:18:37.996Z"
   },
   {
    "duration": 10,
    "start_time": "2025-01-05T15:18:41.796Z"
   },
   {
    "duration": 8,
    "start_time": "2025-01-05T15:18:48.755Z"
   },
   {
    "duration": 3,
    "start_time": "2025-01-05T15:19:18.746Z"
   },
   {
    "duration": 24,
    "start_time": "2025-01-05T15:19:21.037Z"
   },
   {
    "duration": 8,
    "start_time": "2025-01-05T15:19:31.317Z"
   },
   {
    "duration": 26,
    "start_time": "2025-01-05T15:19:58.033Z"
   },
   {
    "duration": 10,
    "start_time": "2025-01-05T15:20:23.897Z"
   },
   {
    "duration": 4,
    "start_time": "2025-01-05T15:26:41.758Z"
   },
   {
    "duration": 27,
    "start_time": "2025-01-05T15:26:43.572Z"
   },
   {
    "duration": 4,
    "start_time": "2025-01-05T15:29:58.788Z"
   },
   {
    "duration": 22,
    "start_time": "2025-01-05T15:29:59.947Z"
   },
   {
    "duration": 10,
    "start_time": "2025-01-05T15:30:12.345Z"
   },
   {
    "duration": 4,
    "start_time": "2025-01-05T15:30:39.507Z"
   },
   {
    "duration": 25,
    "start_time": "2025-01-05T15:30:41.271Z"
   },
   {
    "duration": 11,
    "start_time": "2025-01-05T15:30:44.710Z"
   },
   {
    "duration": 6,
    "start_time": "2025-01-05T15:30:51.440Z"
   },
   {
    "duration": 8,
    "start_time": "2025-01-05T15:31:12.633Z"
   },
   {
    "duration": 22,
    "start_time": "2025-01-05T15:34:49.880Z"
   },
   {
    "duration": 6,
    "start_time": "2025-01-05T15:36:31.493Z"
   },
   {
    "duration": 2672,
    "start_time": "2025-01-05T15:36:33.034Z"
   },
   {
    "duration": 5,
    "start_time": "2025-01-05T16:03:52.420Z"
   },
   {
    "duration": 6315,
    "start_time": "2025-01-05T16:33:13.319Z"
   },
   {
    "duration": 1210,
    "start_time": "2025-01-05T16:33:19.636Z"
   },
   {
    "duration": 476,
    "start_time": "2025-01-05T16:33:20.848Z"
   },
   {
    "duration": 135,
    "start_time": "2025-01-05T16:33:21.326Z"
   },
   {
    "duration": 3,
    "start_time": "2025-01-05T16:33:21.463Z"
   },
   {
    "duration": 26,
    "start_time": "2025-01-05T16:33:21.468Z"
   },
   {
    "duration": 4,
    "start_time": "2025-01-05T16:33:21.495Z"
   },
   {
    "duration": 5,
    "start_time": "2025-01-05T16:33:21.500Z"
   },
   {
    "duration": 4014,
    "start_time": "2025-01-05T16:33:21.506Z"
   },
   {
    "duration": 0,
    "start_time": "2025-01-05T16:33:25.521Z"
   },
   {
    "duration": 0,
    "start_time": "2025-01-05T16:33:25.523Z"
   },
   {
    "duration": 0,
    "start_time": "2025-01-05T16:33:25.525Z"
   },
   {
    "duration": 9,
    "start_time": "2025-01-05T16:38:15.839Z"
   },
   {
    "duration": 3881,
    "start_time": "2025-01-05T16:38:31.112Z"
   },
   {
    "duration": 5,
    "start_time": "2025-01-05T16:39:51.358Z"
   },
   {
    "duration": 3805,
    "start_time": "2025-01-05T16:40:04.194Z"
   },
   {
    "duration": 6048,
    "start_time": "2025-01-05T17:14:01.601Z"
   },
   {
    "duration": 1286,
    "start_time": "2025-01-05T17:14:07.651Z"
   },
   {
    "duration": 454,
    "start_time": "2025-01-05T17:14:08.938Z"
   },
   {
    "duration": 161,
    "start_time": "2025-01-05T17:14:09.394Z"
   },
   {
    "duration": 3,
    "start_time": "2025-01-05T17:14:09.557Z"
   },
   {
    "duration": 36,
    "start_time": "2025-01-05T17:14:09.562Z"
   },
   {
    "duration": 5,
    "start_time": "2025-01-05T17:14:09.599Z"
   },
   {
    "duration": 6,
    "start_time": "2025-01-05T17:14:09.605Z"
   },
   {
    "duration": 3906,
    "start_time": "2025-01-05T17:14:09.612Z"
   },
   {
    "duration": 0,
    "start_time": "2025-01-05T17:14:13.520Z"
   },
   {
    "duration": 0,
    "start_time": "2025-01-05T17:14:13.522Z"
   },
   {
    "duration": 0,
    "start_time": "2025-01-05T17:14:13.524Z"
   },
   {
    "duration": 6017,
    "start_time": "2025-01-05T17:15:17.984Z"
   },
   {
    "duration": 1229,
    "start_time": "2025-01-05T17:15:24.004Z"
   },
   {
    "duration": 464,
    "start_time": "2025-01-05T17:15:25.235Z"
   },
   {
    "duration": 128,
    "start_time": "2025-01-05T17:15:25.700Z"
   },
   {
    "duration": 3,
    "start_time": "2025-01-05T17:15:25.830Z"
   },
   {
    "duration": 22,
    "start_time": "2025-01-05T17:15:25.834Z"
   },
   {
    "duration": 4,
    "start_time": "2025-01-05T17:15:25.857Z"
   },
   {
    "duration": 24,
    "start_time": "2025-01-05T17:15:25.862Z"
   },
   {
    "duration": 3683,
    "start_time": "2025-01-05T17:15:25.888Z"
   },
   {
    "duration": 2,
    "start_time": "2025-01-05T17:15:29.586Z"
   },
   {
    "duration": 23,
    "start_time": "2025-01-05T17:15:29.589Z"
   },
   {
    "duration": 5,
    "start_time": "2025-01-05T17:15:29.614Z"
   },
   {
    "duration": 12,
    "start_time": "2025-01-05T17:24:48.957Z"
   },
   {
    "duration": 5986,
    "start_time": "2025-01-05T17:27:06.705Z"
   },
   {
    "duration": 1241,
    "start_time": "2025-01-05T17:27:12.694Z"
   },
   {
    "duration": 434,
    "start_time": "2025-01-05T17:27:13.936Z"
   },
   {
    "duration": 125,
    "start_time": "2025-01-05T17:27:14.387Z"
   },
   {
    "duration": 3,
    "start_time": "2025-01-05T17:27:14.515Z"
   },
   {
    "duration": 18,
    "start_time": "2025-01-05T17:27:14.520Z"
   },
   {
    "duration": 4,
    "start_time": "2025-01-05T17:27:14.539Z"
   },
   {
    "duration": 8,
    "start_time": "2025-01-05T17:27:14.545Z"
   },
   {
    "duration": 3866,
    "start_time": "2025-01-05T17:27:14.554Z"
   },
   {
    "duration": 13,
    "start_time": "2025-01-05T17:27:18.422Z"
   },
   {
    "duration": 13,
    "start_time": "2025-01-05T17:27:18.437Z"
   },
   {
    "duration": 31,
    "start_time": "2025-01-05T17:27:18.452Z"
   },
   {
    "duration": 10555,
    "start_time": "2025-01-09T10:47:15.287Z"
   },
   {
    "duration": 1450,
    "start_time": "2025-01-09T10:47:25.844Z"
   },
   {
    "duration": 1661,
    "start_time": "2025-01-09T10:47:27.296Z"
   },
   {
    "duration": 130,
    "start_time": "2025-01-09T10:47:28.959Z"
   },
   {
    "duration": 5,
    "start_time": "2025-01-09T10:47:29.090Z"
   },
   {
    "duration": 35,
    "start_time": "2025-01-09T10:47:29.097Z"
   },
   {
    "duration": 5,
    "start_time": "2025-01-09T10:47:29.134Z"
   },
   {
    "duration": 13,
    "start_time": "2025-01-09T10:47:29.141Z"
   },
   {
    "duration": 3740,
    "start_time": "2025-01-09T10:47:29.156Z"
   },
   {
    "duration": 12,
    "start_time": "2025-01-09T10:47:32.898Z"
   },
   {
    "duration": 10,
    "start_time": "2025-01-09T10:47:32.912Z"
   },
   {
    "duration": 12,
    "start_time": "2025-01-09T10:47:32.924Z"
   },
   {
    "duration": 3662,
    "start_time": "2025-01-09T11:31:57.213Z"
   },
   {
    "duration": 3041,
    "start_time": "2025-01-09T11:34:20.813Z"
   },
   {
    "duration": 3,
    "start_time": "2025-01-09T11:44:33.049Z"
   },
   {
    "duration": 3,
    "start_time": "2025-01-09T11:44:47.556Z"
   },
   {
    "duration": 3,
    "start_time": "2025-01-09T11:44:56.103Z"
   },
   {
    "duration": 3,
    "start_time": "2025-01-09T11:45:08.114Z"
   },
   {
    "duration": 11,
    "start_time": "2025-01-09T11:53:01.841Z"
   },
   {
    "duration": 13,
    "start_time": "2025-01-09T11:54:58.489Z"
   },
   {
    "duration": 13,
    "start_time": "2025-01-09T11:55:10.696Z"
   },
   {
    "duration": 12,
    "start_time": "2025-01-09T11:55:45.115Z"
   },
   {
    "duration": 12,
    "start_time": "2025-01-09T11:55:52.390Z"
   },
   {
    "duration": 12,
    "start_time": "2025-01-09T11:59:59.727Z"
   },
   {
    "duration": 9,
    "start_time": "2025-01-09T12:17:51.788Z"
   },
   {
    "duration": 22,
    "start_time": "2025-01-09T12:18:18.849Z"
   },
   {
    "duration": 7,
    "start_time": "2025-01-09T12:18:29.267Z"
   },
   {
    "duration": 49,
    "start_time": "2025-01-10T11:51:24.845Z"
   },
   {
    "duration": 10278,
    "start_time": "2025-01-10T11:51:31.913Z"
   },
   {
    "duration": 1496,
    "start_time": "2025-01-10T11:51:42.194Z"
   },
   {
    "duration": 747,
    "start_time": "2025-01-10T11:51:43.692Z"
   },
   {
    "duration": 144,
    "start_time": "2025-01-10T11:51:44.441Z"
   },
   {
    "duration": 4,
    "start_time": "2025-01-10T11:51:44.587Z"
   },
   {
    "duration": 18,
    "start_time": "2025-01-10T11:51:44.593Z"
   },
   {
    "duration": 25,
    "start_time": "2025-01-10T11:51:44.612Z"
   },
   {
    "duration": 4,
    "start_time": "2025-01-10T11:51:44.639Z"
   },
   {
    "duration": 4241,
    "start_time": "2025-01-10T11:51:44.644Z"
   },
   {
    "duration": 3960,
    "start_time": "2025-01-10T11:51:48.887Z"
   },
   {
    "duration": 3702,
    "start_time": "2025-01-10T11:51:52.848Z"
   },
   {
    "duration": 3,
    "start_time": "2025-01-10T11:51:56.552Z"
   },
   {
    "duration": 17,
    "start_time": "2025-01-10T11:51:56.556Z"
   },
   {
    "duration": 11,
    "start_time": "2025-01-10T11:51:56.575Z"
   },
   {
    "duration": 22,
    "start_time": "2025-01-10T11:51:56.587Z"
   },
   {
    "duration": 125,
    "start_time": "2025-01-10T12:38:59.115Z"
   },
   {
    "duration": 7,
    "start_time": "2025-01-10T12:39:06.191Z"
   },
   {
    "duration": 21,
    "start_time": "2025-01-10T12:39:09.164Z"
   },
   {
    "duration": 8,
    "start_time": "2025-01-10T12:42:47.138Z"
   },
   {
    "duration": 16,
    "start_time": "2025-01-10T12:43:29.263Z"
   },
   {
    "duration": 5,
    "start_time": "2025-01-10T12:43:49.022Z"
   },
   {
    "duration": 6,
    "start_time": "2025-01-10T12:44:05.713Z"
   },
   {
    "duration": 1435,
    "start_time": "2025-01-10T12:44:36.732Z"
   },
   {
    "duration": 7,
    "start_time": "2025-01-10T12:51:38.416Z"
   },
   {
    "duration": 139,
    "start_time": "2025-01-10T13:01:44.692Z"
   },
   {
    "duration": 87,
    "start_time": "2025-01-10T13:01:56.395Z"
   },
   {
    "duration": 7,
    "start_time": "2025-01-10T13:02:10.871Z"
   },
   {
    "duration": 7,
    "start_time": "2025-01-10T13:02:39.411Z"
   },
   {
    "duration": 14,
    "start_time": "2025-01-10T13:02:44.284Z"
   },
   {
    "duration": 7,
    "start_time": "2025-01-10T13:04:02.694Z"
   },
   {
    "duration": 18,
    "start_time": "2025-01-10T13:04:05.973Z"
   },
   {
    "duration": 7,
    "start_time": "2025-01-10T13:04:31.108Z"
   },
   {
    "duration": 1336,
    "start_time": "2025-01-10T13:04:33.195Z"
   },
   {
    "duration": 11,
    "start_time": "2025-01-10T13:07:06.312Z"
   },
   {
    "duration": 7,
    "start_time": "2025-01-10T13:07:44.878Z"
   },
   {
    "duration": 1402,
    "start_time": "2025-01-10T13:07:47.683Z"
   },
   {
    "duration": 131,
    "start_time": "2025-01-10T13:08:41.559Z"
   },
   {
    "duration": 7,
    "start_time": "2025-01-10T13:08:59.970Z"
   },
   {
    "duration": 1272,
    "start_time": "2025-01-10T13:09:04.288Z"
   },
   {
    "duration": 8,
    "start_time": "2025-01-10T13:09:38.596Z"
   },
   {
    "duration": 1289,
    "start_time": "2025-01-10T13:09:42.906Z"
   },
   {
    "duration": 8,
    "start_time": "2025-01-10T13:10:44.352Z"
   },
   {
    "duration": 1305,
    "start_time": "2025-01-10T13:10:46.195Z"
   },
   {
    "duration": 8,
    "start_time": "2025-01-10T13:11:14.940Z"
   },
   {
    "duration": 1331,
    "start_time": "2025-01-10T13:11:17.980Z"
   },
   {
    "duration": 8,
    "start_time": "2025-01-10T13:12:28.818Z"
   },
   {
    "duration": 1325,
    "start_time": "2025-01-10T13:12:31.735Z"
   },
   {
    "duration": 87,
    "start_time": "2025-01-10T13:13:14.473Z"
   },
   {
    "duration": 7,
    "start_time": "2025-01-10T13:13:31.025Z"
   },
   {
    "duration": 1278,
    "start_time": "2025-01-10T13:13:34.710Z"
   },
   {
    "duration": 9,
    "start_time": "2025-01-10T13:16:30.689Z"
   },
   {
    "duration": 1277,
    "start_time": "2025-01-10T13:16:32.628Z"
   },
   {
    "duration": 9,
    "start_time": "2025-01-10T13:17:55.446Z"
   },
   {
    "duration": 1301,
    "start_time": "2025-01-10T13:17:57.168Z"
   },
   {
    "duration": 9938,
    "start_time": "2025-01-11T09:59:41.509Z"
   },
   {
    "duration": 1570,
    "start_time": "2025-01-11T09:59:51.449Z"
   },
   {
    "duration": 782,
    "start_time": "2025-01-11T09:59:53.021Z"
   },
   {
    "duration": 162,
    "start_time": "2025-01-11T09:59:53.805Z"
   },
   {
    "duration": 4,
    "start_time": "2025-01-11T09:59:53.969Z"
   },
   {
    "duration": 57,
    "start_time": "2025-01-11T09:59:53.975Z"
   },
   {
    "duration": 19,
    "start_time": "2025-01-11T09:59:54.033Z"
   },
   {
    "duration": 32,
    "start_time": "2025-01-11T09:59:54.054Z"
   },
   {
    "duration": 4176,
    "start_time": "2025-01-11T09:59:54.087Z"
   },
   {
    "duration": 4164,
    "start_time": "2025-01-11T09:59:58.264Z"
   },
   {
    "duration": 3797,
    "start_time": "2025-01-11T10:00:02.430Z"
   },
   {
    "duration": 3,
    "start_time": "2025-01-11T10:00:06.228Z"
   },
   {
    "duration": 40,
    "start_time": "2025-01-11T10:00:06.232Z"
   },
   {
    "duration": 47,
    "start_time": "2025-01-11T10:00:06.275Z"
   },
   {
    "duration": 14,
    "start_time": "2025-01-11T10:00:06.323Z"
   },
   {
    "duration": 20,
    "start_time": "2025-01-11T10:00:06.339Z"
   },
   {
    "duration": 1322,
    "start_time": "2025-01-11T10:00:06.361Z"
   },
   {
    "duration": 130,
    "start_time": "2025-01-11T10:00:07.685Z"
   },
   {
    "duration": 11,
    "start_time": "2025-01-11T12:13:03.257Z"
   },
   {
    "duration": 10,
    "start_time": "2025-01-11T12:22:31.693Z"
   },
   {
    "duration": 18,
    "start_time": "2025-01-11T12:23:23.784Z"
   },
   {
    "duration": 9,
    "start_time": "2025-01-11T12:23:54.371Z"
   },
   {
    "duration": 8,
    "start_time": "2025-01-11T12:26:03.057Z"
   },
   {
    "duration": 9,
    "start_time": "2025-01-11T12:26:07.395Z"
   },
   {
    "duration": 94,
    "start_time": "2025-01-11T12:28:49.072Z"
   },
   {
    "duration": 3,
    "start_time": "2025-01-11T12:29:19.949Z"
   },
   {
    "duration": 7,
    "start_time": "2025-01-11T12:29:31.953Z"
   },
   {
    "duration": 4,
    "start_time": "2025-01-11T12:29:45.079Z"
   },
   {
    "duration": 9,
    "start_time": "2025-01-11T12:29:46.244Z"
   },
   {
    "duration": 20,
    "start_time": "2025-01-11T12:37:25.033Z"
   },
   {
    "duration": 11,
    "start_time": "2025-01-11T12:48:49.035Z"
   },
   {
    "duration": 3,
    "start_time": "2025-01-11T12:50:10.140Z"
   },
   {
    "duration": 840,
    "start_time": "2025-01-11T12:50:11.513Z"
   },
   {
    "duration": 4,
    "start_time": "2025-01-11T12:50:26.244Z"
   },
   {
    "duration": 4,
    "start_time": "2025-01-11T12:50:54.175Z"
   },
   {
    "duration": 747,
    "start_time": "2025-01-11T12:52:29.224Z"
   },
   {
    "duration": 6,
    "start_time": "2025-01-11T12:52:30.933Z"
   },
   {
    "duration": 762,
    "start_time": "2025-01-11T12:53:03.583Z"
   },
   {
    "duration": 5,
    "start_time": "2025-01-11T12:53:04.700Z"
   },
   {
    "duration": 765,
    "start_time": "2025-01-11T12:53:52.751Z"
   },
   {
    "duration": 4,
    "start_time": "2025-01-11T12:53:53.884Z"
   },
   {
    "duration": 751,
    "start_time": "2025-01-11T12:54:10.352Z"
   },
   {
    "duration": 4,
    "start_time": "2025-01-11T12:54:11.391Z"
   },
   {
    "duration": 114,
    "start_time": "2025-01-11T12:54:19.938Z"
   },
   {
    "duration": 9,
    "start_time": "2025-01-11T12:54:35.733Z"
   },
   {
    "duration": 6,
    "start_time": "2025-01-11T12:54:52.254Z"
   },
   {
    "duration": 6,
    "start_time": "2025-01-11T12:55:34.698Z"
   },
   {
    "duration": 735,
    "start_time": "2025-01-11T12:55:53.901Z"
   },
   {
    "duration": 4,
    "start_time": "2025-01-11T12:56:01.156Z"
   },
   {
    "duration": 6,
    "start_time": "2025-01-11T12:56:08.087Z"
   },
   {
    "duration": 740,
    "start_time": "2025-01-11T12:56:35.048Z"
   },
   {
    "duration": 3,
    "start_time": "2025-01-11T12:56:36.178Z"
   },
   {
    "duration": 737,
    "start_time": "2025-01-11T12:56:44.566Z"
   },
   {
    "duration": 3,
    "start_time": "2025-01-11T12:56:46.134Z"
   },
   {
    "duration": 729,
    "start_time": "2025-01-11T12:56:57.031Z"
   },
   {
    "duration": 4,
    "start_time": "2025-01-11T12:56:59.539Z"
   },
   {
    "duration": 3,
    "start_time": "2025-01-11T13:16:55.768Z"
   },
   {
    "duration": 5,
    "start_time": "2025-01-11T13:16:56.828Z"
   },
   {
    "duration": 2211,
    "start_time": "2025-01-11T13:16:58.127Z"
   },
   {
    "duration": 2219,
    "start_time": "2025-01-11T13:25:21.425Z"
   },
   {
    "duration": 4,
    "start_time": "2025-01-11T13:25:29.429Z"
   },
   {
    "duration": 2155,
    "start_time": "2025-01-11T13:25:50.428Z"
   },
   {
    "duration": 4,
    "start_time": "2025-01-11T13:25:56.357Z"
   },
   {
    "duration": 4,
    "start_time": "2025-01-11T13:26:25.168Z"
   },
   {
    "duration": 5,
    "start_time": "2025-01-11T13:26:36.168Z"
   },
   {
    "duration": 2220,
    "start_time": "2025-01-11T13:26:37.627Z"
   },
   {
    "duration": 4,
    "start_time": "2025-01-11T13:26:41.473Z"
   },
   {
    "duration": 2180,
    "start_time": "2025-01-11T13:27:48.422Z"
   },
   {
    "duration": 5,
    "start_time": "2025-01-11T13:27:58.632Z"
   },
   {
    "duration": 2168,
    "start_time": "2025-01-11T13:30:21.670Z"
   },
   {
    "duration": 16,
    "start_time": "2025-01-11T13:30:27.412Z"
   },
   {
    "duration": 13,
    "start_time": "2025-01-11T13:31:36.845Z"
   },
   {
    "duration": 2278,
    "start_time": "2025-01-11T13:31:54.328Z"
   },
   {
    "duration": 4,
    "start_time": "2025-01-11T13:31:57.982Z"
   },
   {
    "duration": 768,
    "start_time": "2025-01-11T13:32:05.258Z"
   },
   {
    "duration": 2220,
    "start_time": "2025-01-11T13:32:12.224Z"
   },
   {
    "duration": 5,
    "start_time": "2025-01-11T13:32:15.851Z"
   },
   {
    "duration": 7,
    "start_time": "2025-01-11T13:35:26.525Z"
   },
   {
    "duration": 2238,
    "start_time": "2025-01-11T13:35:44.493Z"
   },
   {
    "duration": 4,
    "start_time": "2025-01-11T13:36:03.734Z"
   },
   {
    "duration": 5,
    "start_time": "2025-01-11T13:36:31.844Z"
   },
   {
    "duration": 795,
    "start_time": "2025-01-11T13:36:33.966Z"
   },
   {
    "duration": 6,
    "start_time": "2025-01-11T13:36:48.569Z"
   },
   {
    "duration": 4,
    "start_time": "2025-01-11T13:36:49.974Z"
   },
   {
    "duration": 5,
    "start_time": "2025-01-11T13:37:44.468Z"
   },
   {
    "duration": 755,
    "start_time": "2025-01-11T13:37:46.735Z"
   },
   {
    "duration": 5,
    "start_time": "2025-01-11T13:39:05.894Z"
   },
   {
    "duration": 2243,
    "start_time": "2025-01-11T13:39:07.863Z"
   },
   {
    "duration": 4,
    "start_time": "2025-01-11T13:39:16.140Z"
   },
   {
    "duration": 757,
    "start_time": "2025-01-11T13:40:06.619Z"
   },
   {
    "duration": 10,
    "start_time": "2025-01-11T13:42:20.973Z"
   },
   {
    "duration": 742,
    "start_time": "2025-01-11T13:42:22.870Z"
   },
   {
    "duration": 5,
    "start_time": "2025-01-11T13:42:31.065Z"
   },
   {
    "duration": 4,
    "start_time": "2025-01-11T13:43:05.193Z"
   },
   {
    "duration": 2211,
    "start_time": "2025-01-11T13:43:07.968Z"
   },
   {
    "duration": 5,
    "start_time": "2025-01-11T13:43:15.344Z"
   },
   {
    "duration": 2243,
    "start_time": "2025-01-11T13:43:37.104Z"
   },
   {
    "duration": 4,
    "start_time": "2025-01-11T13:43:39.349Z"
   },
   {
    "duration": 4,
    "start_time": "2025-01-11T13:54:36.489Z"
   },
   {
    "duration": 728,
    "start_time": "2025-01-11T13:54:43.869Z"
   },
   {
    "duration": 4,
    "start_time": "2025-01-11T13:54:51.878Z"
   },
   {
    "duration": 4,
    "start_time": "2025-01-11T15:03:01.731Z"
   },
   {
    "duration": 745,
    "start_time": "2025-01-11T15:03:03.807Z"
   },
   {
    "duration": 6,
    "start_time": "2025-01-11T15:03:14.106Z"
   },
   {
    "duration": 2274,
    "start_time": "2025-01-11T15:03:15.086Z"
   },
   {
    "duration": 6,
    "start_time": "2025-01-11T15:03:20.719Z"
   },
   {
    "duration": 2310,
    "start_time": "2025-01-11T15:04:25.056Z"
   },
   {
    "duration": 4,
    "start_time": "2025-01-11T15:04:30.404Z"
   },
   {
    "duration": 5,
    "start_time": "2025-01-11T15:04:36.728Z"
   },
   {
    "duration": 4,
    "start_time": "2025-01-11T15:04:53.642Z"
   },
   {
    "duration": 5,
    "start_time": "2025-01-11T15:04:58.035Z"
   },
   {
    "duration": 2193,
    "start_time": "2025-01-11T15:04:59.437Z"
   },
   {
    "duration": 4,
    "start_time": "2025-01-11T15:05:02.737Z"
   },
   {
    "duration": 4,
    "start_time": "2025-01-11T15:05:15.327Z"
   },
   {
    "duration": 3,
    "start_time": "2025-01-11T15:05:20.767Z"
   },
   {
    "duration": 5,
    "start_time": "2025-01-11T15:05:34.224Z"
   },
   {
    "duration": 4,
    "start_time": "2025-01-11T15:05:37.660Z"
   },
   {
    "duration": 12,
    "start_time": "2025-01-11T15:06:19.618Z"
   },
   {
    "duration": 2187,
    "start_time": "2025-01-11T15:06:26.971Z"
   },
   {
    "duration": 4,
    "start_time": "2025-01-11T15:06:29.471Z"
   },
   {
    "duration": 5,
    "start_time": "2025-01-11T15:06:31.671Z"
   },
   {
    "duration": 5,
    "start_time": "2025-01-11T15:07:19.198Z"
   },
   {
    "duration": 2208,
    "start_time": "2025-01-11T15:07:20.490Z"
   },
   {
    "duration": 4,
    "start_time": "2025-01-11T15:07:24.679Z"
   },
   {
    "duration": 6,
    "start_time": "2025-01-11T15:09:02.611Z"
   },
   {
    "duration": 2225,
    "start_time": "2025-01-11T15:09:03.786Z"
   },
   {
    "duration": 9,
    "start_time": "2025-01-11T15:09:06.015Z"
   },
   {
    "duration": 2211,
    "start_time": "2025-01-11T15:11:51.427Z"
   },
   {
    "duration": 4,
    "start_time": "2025-01-11T15:11:55.370Z"
   },
   {
    "duration": 9,
    "start_time": "2025-01-11T15:12:23.922Z"
   },
   {
    "duration": 4,
    "start_time": "2025-01-11T15:12:27.363Z"
   },
   {
    "duration": 3,
    "start_time": "2025-01-11T15:12:30.382Z"
   },
   {
    "duration": 9,
    "start_time": "2025-01-11T15:12:53.912Z"
   },
   {
    "duration": 19,
    "start_time": "2025-01-11T15:13:45.434Z"
   },
   {
    "duration": 10,
    "start_time": "2025-01-11T15:15:35.657Z"
   },
   {
    "duration": 87,
    "start_time": "2025-01-11T15:16:23.364Z"
   },
   {
    "duration": 10,
    "start_time": "2025-01-11T15:16:28.684Z"
   },
   {
    "duration": 14,
    "start_time": "2025-01-11T15:16:43.036Z"
   },
   {
    "duration": 14,
    "start_time": "2025-01-11T15:16:50.195Z"
   },
   {
    "duration": 18,
    "start_time": "2025-01-11T15:20:27.656Z"
   },
   {
    "duration": 6,
    "start_time": "2025-01-11T15:25:49.484Z"
   },
   {
    "duration": 2198,
    "start_time": "2025-01-11T15:25:51.153Z"
   },
   {
    "duration": 4,
    "start_time": "2025-01-11T15:25:57.439Z"
   },
   {
    "duration": 19,
    "start_time": "2025-01-11T15:26:34.205Z"
   },
   {
    "duration": 2179,
    "start_time": "2025-01-11T15:26:45.956Z"
   },
   {
    "duration": 5,
    "start_time": "2025-01-11T15:26:48.137Z"
   },
   {
    "duration": 4,
    "start_time": "2025-01-11T15:26:59.948Z"
   },
   {
    "duration": 11,
    "start_time": "2025-01-11T15:27:10.524Z"
   },
   {
    "duration": 6,
    "start_time": "2025-01-11T15:30:25.225Z"
   },
   {
    "duration": 4,
    "start_time": "2025-01-11T15:30:36.664Z"
   },
   {
    "duration": 5,
    "start_time": "2025-01-11T15:30:43.900Z"
   },
   {
    "duration": 2229,
    "start_time": "2025-01-11T15:30:59.974Z"
   },
   {
    "duration": 4,
    "start_time": "2025-01-11T15:31:03.935Z"
   },
   {
    "duration": 4,
    "start_time": "2025-01-11T15:31:21.695Z"
   },
   {
    "duration": 731,
    "start_time": "2025-01-11T15:31:25.124Z"
   },
   {
    "duration": 9,
    "start_time": "2025-01-11T15:31:44.112Z"
   },
   {
    "duration": 2229,
    "start_time": "2025-01-11T15:31:45.861Z"
   },
   {
    "duration": 17,
    "start_time": "2025-01-11T15:31:48.512Z"
   },
   {
    "duration": 4,
    "start_time": "2025-01-11T15:32:00.699Z"
   },
   {
    "duration": 5,
    "start_time": "2025-01-11T15:32:08.519Z"
   },
   {
    "duration": 5,
    "start_time": "2025-01-11T15:32:17.044Z"
   },
   {
    "duration": 2437,
    "start_time": "2025-01-11T15:32:24.329Z"
   },
   {
    "duration": 4,
    "start_time": "2025-01-11T15:32:26.769Z"
   },
   {
    "duration": 4,
    "start_time": "2025-01-11T15:32:29.970Z"
   },
   {
    "duration": 4,
    "start_time": "2025-01-11T15:32:40.175Z"
   },
   {
    "duration": 4,
    "start_time": "2025-01-11T15:32:44.460Z"
   },
   {
    "duration": 9,
    "start_time": "2025-01-11T15:33:12.678Z"
   },
   {
    "duration": 11,
    "start_time": "2025-01-11T15:33:18.383Z"
   },
   {
    "duration": 2290,
    "start_time": "2025-01-11T15:33:56.144Z"
   },
   {
    "duration": 5,
    "start_time": "2025-01-11T15:34:00.830Z"
   },
   {
    "duration": 2185,
    "start_time": "2025-01-11T15:35:17.213Z"
   },
   {
    "duration": 7,
    "start_time": "2025-01-11T15:35:23.414Z"
   },
   {
    "duration": 732,
    "start_time": "2025-01-11T15:35:57.635Z"
   },
   {
    "duration": 770,
    "start_time": "2025-01-11T15:36:19.356Z"
   },
   {
    "duration": 5,
    "start_time": "2025-01-11T15:36:48.762Z"
   },
   {
    "duration": 751,
    "start_time": "2025-01-11T15:36:50.802Z"
   },
   {
    "duration": 7,
    "start_time": "2025-01-11T15:37:05.004Z"
   },
   {
    "duration": 2266,
    "start_time": "2025-01-11T15:37:53.644Z"
   },
   {
    "duration": 4,
    "start_time": "2025-01-11T15:37:57.823Z"
   },
   {
    "duration": 5,
    "start_time": "2025-01-11T15:38:13.282Z"
   },
   {
    "duration": 4,
    "start_time": "2025-01-11T15:38:25.838Z"
   },
   {
    "duration": 85,
    "start_time": "2025-01-11T15:38:36.204Z"
   },
   {
    "duration": 4,
    "start_time": "2025-01-11T15:41:18.711Z"
   },
   {
    "duration": 5,
    "start_time": "2025-01-11T15:41:37.882Z"
   },
   {
    "duration": 5,
    "start_time": "2025-01-11T15:41:40.928Z"
   },
   {
    "duration": 85,
    "start_time": "2025-01-11T15:42:09.263Z"
   },
   {
    "duration": 5,
    "start_time": "2025-01-11T15:42:24.120Z"
   },
   {
    "duration": 4,
    "start_time": "2025-01-11T15:42:49.441Z"
   },
   {
    "duration": 3,
    "start_time": "2025-01-11T15:44:16.075Z"
   },
   {
    "duration": 6,
    "start_time": "2025-01-11T15:44:34.020Z"
   },
   {
    "duration": 6,
    "start_time": "2025-01-11T15:44:50.252Z"
   },
   {
    "duration": 96,
    "start_time": "2025-01-11T15:45:44.354Z"
   },
   {
    "duration": 5,
    "start_time": "2025-01-11T15:46:16.752Z"
   },
   {
    "duration": 24,
    "start_time": "2025-01-11T15:46:36.747Z"
   },
   {
    "duration": 19,
    "start_time": "2025-01-11T15:46:49.805Z"
   },
   {
    "duration": 87,
    "start_time": "2025-01-11T15:46:53.724Z"
   },
   {
    "duration": 13,
    "start_time": "2025-01-11T15:47:16.491Z"
   },
   {
    "duration": 13,
    "start_time": "2025-01-11T15:47:29.270Z"
   },
   {
    "duration": 10,
    "start_time": "2025-01-11T15:47:34.767Z"
   },
   {
    "duration": 4,
    "start_time": "2025-01-11T15:47:40.337Z"
   },
   {
    "duration": 11,
    "start_time": "2025-01-11T15:47:51.052Z"
   },
   {
    "duration": 5,
    "start_time": "2025-01-11T15:47:57.673Z"
   },
   {
    "duration": 5,
    "start_time": "2025-01-11T15:51:07.949Z"
   },
   {
    "duration": 4,
    "start_time": "2025-01-11T15:51:16.673Z"
   },
   {
    "duration": 4,
    "start_time": "2025-01-11T15:51:30.830Z"
   },
   {
    "duration": 5,
    "start_time": "2025-01-11T15:51:36.740Z"
   },
   {
    "duration": 18,
    "start_time": "2025-01-11T15:54:09.066Z"
   },
   {
    "duration": 14,
    "start_time": "2025-01-11T15:54:18.940Z"
   },
   {
    "duration": 4,
    "start_time": "2025-01-11T15:54:32.189Z"
   },
   {
    "duration": 5,
    "start_time": "2025-01-11T15:54:40.380Z"
   },
   {
    "duration": 5,
    "start_time": "2025-01-11T15:54:45.184Z"
   },
   {
    "duration": 17,
    "start_time": "2025-01-11T15:55:08.653Z"
   },
   {
    "duration": 9,
    "start_time": "2025-01-11T15:55:22.106Z"
   },
   {
    "duration": 78,
    "start_time": "2025-01-11T15:55:29.315Z"
   },
   {
    "duration": 10,
    "start_time": "2025-01-11T15:55:33.446Z"
   },
   {
    "duration": 13,
    "start_time": "2025-01-11T15:56:07.584Z"
   },
   {
    "duration": 15,
    "start_time": "2025-01-11T15:57:56.309Z"
   },
   {
    "duration": 7,
    "start_time": "2025-01-11T15:58:16.411Z"
   },
   {
    "duration": 11,
    "start_time": "2025-01-11T15:58:57.072Z"
   },
   {
    "duration": 158,
    "start_time": "2025-01-11T15:59:18.192Z"
   },
   {
    "duration": 18,
    "start_time": "2025-01-11T15:59:25.809Z"
   },
   {
    "duration": 11,
    "start_time": "2025-01-11T15:59:30.872Z"
   },
   {
    "duration": 148,
    "start_time": "2025-01-11T15:59:48.556Z"
   },
   {
    "duration": 11,
    "start_time": "2025-01-11T15:59:52.223Z"
   },
   {
    "duration": 111,
    "start_time": "2025-01-11T16:01:13.711Z"
   },
   {
    "duration": 12,
    "start_time": "2025-01-11T16:01:32.222Z"
   },
   {
    "duration": 10,
    "start_time": "2025-01-11T16:04:30.095Z"
   },
   {
    "duration": 11,
    "start_time": "2025-01-11T16:04:54.482Z"
   },
   {
    "duration": 13,
    "start_time": "2025-01-11T16:06:00.827Z"
   },
   {
    "duration": 3,
    "start_time": "2025-01-11T16:07:21.993Z"
   },
   {
    "duration": 17,
    "start_time": "2025-01-11T16:07:50.429Z"
   },
   {
    "duration": 129,
    "start_time": "2025-01-11T16:08:11.051Z"
   },
   {
    "duration": 16,
    "start_time": "2025-01-11T16:08:27.518Z"
   },
   {
    "duration": 11,
    "start_time": "2025-01-11T16:08:38.994Z"
   },
   {
    "duration": 10,
    "start_time": "2025-01-11T16:08:44.382Z"
   },
   {
    "duration": 15,
    "start_time": "2025-01-11T16:08:51.167Z"
   },
   {
    "duration": 11,
    "start_time": "2025-01-11T16:08:54.759Z"
   },
   {
    "duration": 5,
    "start_time": "2025-01-11T16:54:41.797Z"
   },
   {
    "duration": 2217,
    "start_time": "2025-01-11T16:54:43.663Z"
   },
   {
    "duration": 10,
    "start_time": "2025-01-11T16:54:50.662Z"
   },
   {
    "duration": 5,
    "start_time": "2025-01-11T16:56:08.957Z"
   },
   {
    "duration": 2219,
    "start_time": "2025-01-11T16:56:10.677Z"
   },
   {
    "duration": 10,
    "start_time": "2025-01-11T16:56:14.003Z"
   },
   {
    "duration": 4,
    "start_time": "2025-01-11T16:57:04.154Z"
   },
   {
    "duration": 2212,
    "start_time": "2025-01-11T16:57:05.479Z"
   },
   {
    "duration": 9,
    "start_time": "2025-01-11T16:57:08.450Z"
   },
   {
    "duration": 8,
    "start_time": "2025-01-11T17:00:23.419Z"
   },
   {
    "duration": 2179,
    "start_time": "2025-01-11T17:00:25.367Z"
   },
   {
    "duration": 9,
    "start_time": "2025-01-11T17:00:30.577Z"
   },
   {
    "duration": 7,
    "start_time": "2025-01-11T17:00:51.213Z"
   },
   {
    "duration": 2178,
    "start_time": "2025-01-11T17:00:53.252Z"
   },
   {
    "duration": 10,
    "start_time": "2025-01-11T17:00:55.756Z"
   },
   {
    "duration": 94,
    "start_time": "2025-01-11T17:03:36.071Z"
   },
   {
    "duration": 103,
    "start_time": "2025-01-11T17:04:05.661Z"
   },
   {
    "duration": 4,
    "start_time": "2025-01-11T17:04:41.088Z"
   },
   {
    "duration": 2330,
    "start_time": "2025-01-11T17:04:42.859Z"
   },
   {
    "duration": 9,
    "start_time": "2025-01-11T17:04:45.270Z"
   },
   {
    "duration": 5,
    "start_time": "2025-01-11T17:04:54.676Z"
   },
   {
    "duration": 2220,
    "start_time": "2025-01-11T17:04:58.740Z"
   },
   {
    "duration": 10,
    "start_time": "2025-01-11T17:05:01.070Z"
   },
   {
    "duration": 5,
    "start_time": "2025-01-11T17:05:21.153Z"
   },
   {
    "duration": 2201,
    "start_time": "2025-01-11T17:05:22.697Z"
   },
   {
    "duration": 16,
    "start_time": "2025-01-11T17:05:25.113Z"
   },
   {
    "duration": 4,
    "start_time": "2025-01-11T17:05:50.155Z"
   },
   {
    "duration": 2247,
    "start_time": "2025-01-11T17:05:51.033Z"
   },
   {
    "duration": 14,
    "start_time": "2025-01-11T17:05:53.723Z"
   },
   {
    "duration": 5,
    "start_time": "2025-01-11T17:06:55.270Z"
   },
   {
    "duration": 2175,
    "start_time": "2025-01-11T17:06:57.812Z"
   },
   {
    "duration": 9,
    "start_time": "2025-01-11T17:06:59.989Z"
   },
   {
    "duration": 5883,
    "start_time": "2025-01-11T17:10:50.490Z"
   },
   {
    "duration": 1408,
    "start_time": "2025-01-11T17:10:56.376Z"
   },
   {
    "duration": 562,
    "start_time": "2025-01-11T17:10:57.785Z"
   },
   {
    "duration": 173,
    "start_time": "2025-01-11T17:10:58.349Z"
   },
   {
    "duration": 4,
    "start_time": "2025-01-11T17:10:58.530Z"
   },
   {
    "duration": 19,
    "start_time": "2025-01-11T17:10:58.536Z"
   },
   {
    "duration": 4,
    "start_time": "2025-01-11T17:10:58.557Z"
   },
   {
    "duration": 5,
    "start_time": "2025-01-11T17:10:58.563Z"
   },
   {
    "duration": 3798,
    "start_time": "2025-01-11T17:10:58.569Z"
   },
   {
    "duration": 3366,
    "start_time": "2025-01-11T17:11:02.370Z"
   },
   {
    "duration": 3102,
    "start_time": "2025-01-11T17:11:05.737Z"
   },
   {
    "duration": 3,
    "start_time": "2025-01-11T17:11:08.841Z"
   },
   {
    "duration": 5,
    "start_time": "2025-01-11T17:11:08.845Z"
   },
   {
    "duration": 21,
    "start_time": "2025-01-11T17:11:08.852Z"
   },
   {
    "duration": 6,
    "start_time": "2025-01-11T17:11:08.875Z"
   },
   {
    "duration": 14,
    "start_time": "2025-01-11T17:11:08.882Z"
   },
   {
    "duration": 2339,
    "start_time": "2025-01-11T17:11:08.918Z"
   },
   {
    "duration": 10,
    "start_time": "2025-01-11T17:11:11.259Z"
   },
   {
    "duration": 4,
    "start_time": "2025-01-11T17:12:25.764Z"
   },
   {
    "duration": 9,
    "start_time": "2025-01-11T17:16:43.805Z"
   },
   {
    "duration": 9,
    "start_time": "2025-01-11T17:17:14.055Z"
   },
   {
    "duration": 19,
    "start_time": "2025-01-11T17:17:19.807Z"
   },
   {
    "duration": 10,
    "start_time": "2025-01-11T17:17:28.401Z"
   },
   {
    "duration": 5,
    "start_time": "2025-01-11T17:20:51.587Z"
   },
   {
    "duration": 2334,
    "start_time": "2025-01-11T17:20:53.917Z"
   },
   {
    "duration": 5,
    "start_time": "2025-01-11T18:17:52.857Z"
   },
   {
    "duration": 2220,
    "start_time": "2025-01-11T18:17:54.671Z"
   },
   {
    "duration": 10,
    "start_time": "2025-01-11T18:18:03.432Z"
   },
   {
    "duration": 118,
    "start_time": "2025-01-11T18:23:44.588Z"
   },
   {
    "duration": 476,
    "start_time": "2025-01-11T18:24:04.210Z"
   },
   {
    "duration": 6,
    "start_time": "2025-01-11T18:24:52.328Z"
   },
   {
    "duration": 35,
    "start_time": "2025-01-11T18:25:03.268Z"
   },
   {
    "duration": 32,
    "start_time": "2025-01-11T18:25:27.270Z"
   },
   {
    "duration": 24,
    "start_time": "2025-01-11T18:27:37.770Z"
   },
   {
    "duration": 19,
    "start_time": "2025-01-11T18:27:48.496Z"
   },
   {
    "duration": 27,
    "start_time": "2025-01-11T18:28:02.092Z"
   },
   {
    "duration": 33,
    "start_time": "2025-01-11T18:28:36.469Z"
   },
   {
    "duration": 18,
    "start_time": "2025-01-11T18:30:01.376Z"
   },
   {
    "duration": 25,
    "start_time": "2025-01-11T18:37:37.967Z"
   },
   {
    "duration": 32,
    "start_time": "2025-01-11T18:37:44.013Z"
   },
   {
    "duration": 21,
    "start_time": "2025-01-11T18:40:40.654Z"
   },
   {
    "duration": 31,
    "start_time": "2025-01-11T18:46:00.628Z"
   },
   {
    "duration": 73,
    "start_time": "2025-01-11T18:47:26.738Z"
   },
   {
    "duration": 162,
    "start_time": "2025-01-11T19:05:57.676Z"
   },
   {
    "duration": 11997,
    "start_time": "2025-01-11T19:06:19.682Z"
   },
   {
    "duration": 7,
    "start_time": "2025-01-11T19:08:53.330Z"
   },
   {
    "duration": 11602,
    "start_time": "2025-01-11T19:09:00.491Z"
   },
   {
    "duration": 11655,
    "start_time": "2025-01-11T19:11:04.179Z"
   },
   {
    "duration": 11744,
    "start_time": "2025-01-11T19:11:38.753Z"
   },
   {
    "duration": 79,
    "start_time": "2025-01-11T19:13:16.831Z"
   },
   {
    "duration": 7,
    "start_time": "2025-01-11T19:13:28.239Z"
   },
   {
    "duration": 10,
    "start_time": "2025-01-11T19:13:29.786Z"
   },
   {
    "duration": 11471,
    "start_time": "2025-01-11T19:14:13.740Z"
   },
   {
    "duration": 4004,
    "start_time": "2025-01-11T19:14:41.559Z"
   },
   {
    "duration": 9,
    "start_time": "2025-01-12T11:38:10.259Z"
   },
   {
    "duration": 46,
    "start_time": "2025-01-12T11:38:11.624Z"
   },
   {
    "duration": 10261,
    "start_time": "2025-01-12T11:38:21.236Z"
   },
   {
    "duration": 1560,
    "start_time": "2025-01-12T11:38:31.499Z"
   },
   {
    "duration": 760,
    "start_time": "2025-01-12T11:38:33.061Z"
   },
   {
    "duration": 164,
    "start_time": "2025-01-12T11:38:33.823Z"
   },
   {
    "duration": 84,
    "start_time": "2025-01-12T11:38:33.990Z"
   },
   {
    "duration": 8,
    "start_time": "2025-01-12T11:38:34.076Z"
   },
   {
    "duration": 3769,
    "start_time": "2025-01-12T11:38:34.086Z"
   },
   {
    "duration": 4,
    "start_time": "2025-01-12T11:38:37.857Z"
   },
   {
    "duration": 753,
    "start_time": "2025-01-12T11:38:37.862Z"
   },
   {
    "duration": 4,
    "start_time": "2025-01-12T11:38:38.616Z"
   },
   {
    "duration": 19,
    "start_time": "2025-01-12T11:38:38.622Z"
   },
   {
    "duration": 27,
    "start_time": "2025-01-12T11:38:38.643Z"
   },
   {
    "duration": 4,
    "start_time": "2025-01-12T11:38:38.672Z"
   },
   {
    "duration": 4253,
    "start_time": "2025-01-12T11:38:38.679Z"
   },
   {
    "duration": 3857,
    "start_time": "2025-01-12T11:38:42.934Z"
   },
   {
    "duration": 3893,
    "start_time": "2025-01-12T11:38:46.792Z"
   },
   {
    "duration": 3,
    "start_time": "2025-01-12T11:38:50.686Z"
   },
   {
    "duration": 6,
    "start_time": "2025-01-12T11:38:50.691Z"
   },
   {
    "duration": 11,
    "start_time": "2025-01-12T11:38:50.698Z"
   },
   {
    "duration": 9,
    "start_time": "2025-01-12T11:38:50.710Z"
   },
   {
    "duration": 2193,
    "start_time": "2025-01-12T11:38:50.720Z"
   },
   {
    "duration": 9,
    "start_time": "2025-01-12T11:38:52.914Z"
   },
   {
    "duration": 9,
    "start_time": "2025-01-12T12:00:43.288Z"
   },
   {
    "duration": 21,
    "start_time": "2025-01-12T12:00:48.935Z"
   },
   {
    "duration": 19,
    "start_time": "2025-01-12T12:01:27.087Z"
   },
   {
    "duration": 21,
    "start_time": "2025-01-12T12:01:33.660Z"
   },
   {
    "duration": 3544,
    "start_time": "2025-01-12T12:28:55.471Z"
   },
   {
    "duration": 3679,
    "start_time": "2025-01-12T12:29:53.648Z"
   },
   {
    "duration": 307,
    "start_time": "2025-01-12T12:31:42.509Z"
   },
   {
    "duration": 39,
    "start_time": "2025-01-12T12:40:29.740Z"
   },
   {
    "duration": 36,
    "start_time": "2025-01-12T12:43:41.103Z"
   },
   {
    "duration": 37,
    "start_time": "2025-01-12T12:44:41.816Z"
   },
   {
    "duration": 6,
    "start_time": "2025-01-12T13:35:53.811Z"
   },
   {
    "duration": 11,
    "start_time": "2025-01-12T13:36:36.654Z"
   },
   {
    "duration": 7,
    "start_time": "2025-01-12T13:47:44.039Z"
   },
   {
    "duration": 3897,
    "start_time": "2025-01-12T13:47:47.779Z"
   },
   {
    "duration": 4083,
    "start_time": "2025-01-12T13:48:06.368Z"
   },
   {
    "duration": 4127,
    "start_time": "2025-01-12T13:48:18.235Z"
   },
   {
    "duration": 640,
    "start_time": "2025-01-12T15:43:29.853Z"
   },
   {
    "duration": 613,
    "start_time": "2025-01-12T15:44:02.793Z"
   },
   {
    "duration": 4,
    "start_time": "2025-01-12T18:21:06.551Z"
   },
   {
    "duration": 3,
    "start_time": "2025-01-12T18:21:15.177Z"
   },
   {
    "duration": 3,
    "start_time": "2025-01-12T18:22:00.952Z"
   },
   {
    "duration": 4,
    "start_time": "2025-01-12T18:22:11.656Z"
   },
   {
    "duration": 3,
    "start_time": "2025-01-12T18:23:47.455Z"
   },
   {
    "duration": 4,
    "start_time": "2025-01-12T18:23:59.953Z"
   },
   {
    "duration": 4,
    "start_time": "2025-01-12T18:26:21.365Z"
   },
   {
    "duration": 3,
    "start_time": "2025-01-12T18:27:25.624Z"
   },
   {
    "duration": 5963,
    "start_time": "2025-01-12T19:28:36.241Z"
   },
   {
    "duration": 1335,
    "start_time": "2025-01-12T19:28:42.206Z"
   },
   {
    "duration": 565,
    "start_time": "2025-01-12T19:28:43.543Z"
   },
   {
    "duration": 165,
    "start_time": "2025-01-12T19:28:44.110Z"
   },
   {
    "duration": 69,
    "start_time": "2025-01-12T19:28:44.278Z"
   },
   {
    "duration": 21,
    "start_time": "2025-01-12T19:28:44.349Z"
   },
   {
    "duration": 26,
    "start_time": "2025-01-12T19:28:44.372Z"
   },
   {
    "duration": 44,
    "start_time": "2025-01-12T19:28:44.399Z"
   },
   {
    "duration": 4071,
    "start_time": "2025-01-12T19:28:44.445Z"
   },
   {
    "duration": 800,
    "start_time": "2025-01-12T19:28:48.517Z"
   },
   {
    "duration": 37,
    "start_time": "2025-01-12T19:28:49.319Z"
   },
   {
    "duration": 3856,
    "start_time": "2025-01-12T19:28:49.358Z"
   },
   {
    "duration": 666,
    "start_time": "2025-01-12T19:28:53.216Z"
   },
   {
    "duration": 46,
    "start_time": "2025-01-12T19:28:53.888Z"
   },
   {
    "duration": 4262,
    "start_time": "2025-01-12T19:28:53.936Z"
   },
   {
    "duration": 718,
    "start_time": "2025-01-12T19:28:58.199Z"
   },
   {
    "duration": 5,
    "start_time": "2025-01-12T19:28:58.919Z"
   },
   {
    "duration": 19,
    "start_time": "2025-01-12T19:28:58.926Z"
   },
   {
    "duration": 25,
    "start_time": "2025-01-12T19:28:58.947Z"
   },
   {
    "duration": 7,
    "start_time": "2025-01-12T19:28:58.974Z"
   },
   {
    "duration": 3743,
    "start_time": "2025-01-12T19:28:58.983Z"
   },
   {
    "duration": 2855,
    "start_time": "2025-01-12T19:29:02.728Z"
   },
   {
    "duration": 3390,
    "start_time": "2025-01-12T19:29:05.586Z"
   },
   {
    "duration": 4,
    "start_time": "2025-01-12T19:29:08.979Z"
   },
   {
    "duration": 8,
    "start_time": "2025-01-12T19:29:08.985Z"
   },
   {
    "duration": 6,
    "start_time": "2025-01-12T19:29:08.994Z"
   },
   {
    "duration": 4,
    "start_time": "2025-01-12T19:29:09.002Z"
   },
   {
    "duration": 2287,
    "start_time": "2025-01-12T19:29:09.008Z"
   },
   {
    "duration": 8,
    "start_time": "2025-01-12T19:29:11.296Z"
   },
   {
    "duration": 5596,
    "start_time": "2025-01-12T20:50:27.692Z"
   },
   {
    "duration": 1359,
    "start_time": "2025-01-12T20:50:33.290Z"
   },
   {
    "duration": 520,
    "start_time": "2025-01-12T20:50:34.651Z"
   },
   {
    "duration": 137,
    "start_time": "2025-01-12T20:50:35.172Z"
   },
   {
    "duration": 83,
    "start_time": "2025-01-12T20:50:35.311Z"
   },
   {
    "duration": 6,
    "start_time": "2025-01-12T20:50:35.396Z"
   },
   {
    "duration": 40,
    "start_time": "2025-01-12T20:50:35.404Z"
   },
   {
    "duration": 115,
    "start_time": "2025-01-12T20:50:35.446Z"
   },
   {
    "duration": 3801,
    "start_time": "2025-01-12T20:50:35.563Z"
   },
   {
    "duration": 742,
    "start_time": "2025-01-12T20:50:39.370Z"
   },
   {
    "duration": 38,
    "start_time": "2025-01-12T20:50:40.114Z"
   },
   {
    "duration": 3775,
    "start_time": "2025-01-12T20:50:40.153Z"
   },
   {
    "duration": 683,
    "start_time": "2025-01-12T20:50:43.930Z"
   },
   {
    "duration": 39,
    "start_time": "2025-01-12T20:50:44.616Z"
   },
   {
    "duration": 3996,
    "start_time": "2025-01-12T20:50:44.656Z"
   },
   {
    "duration": 638,
    "start_time": "2025-01-12T20:50:48.654Z"
   },
   {
    "duration": 4,
    "start_time": "2025-01-12T20:50:49.294Z"
   },
   {
    "duration": 17,
    "start_time": "2025-01-12T20:50:49.299Z"
   },
   {
    "duration": 4,
    "start_time": "2025-01-12T20:50:49.318Z"
   },
   {
    "duration": 4,
    "start_time": "2025-01-12T20:50:49.324Z"
   },
   {
    "duration": 4183,
    "start_time": "2025-01-12T20:50:49.330Z"
   },
   {
    "duration": 3870,
    "start_time": "2025-01-12T20:50:53.515Z"
   },
   {
    "duration": 3800,
    "start_time": "2025-01-12T20:50:57.386Z"
   },
   {
    "duration": 2,
    "start_time": "2025-01-12T20:51:01.188Z"
   },
   {
    "duration": 16,
    "start_time": "2025-01-12T20:51:01.192Z"
   },
   {
    "duration": 33,
    "start_time": "2025-01-12T20:51:01.209Z"
   },
   {
    "duration": 5,
    "start_time": "2025-01-12T20:51:01.244Z"
   },
   {
    "duration": 2269,
    "start_time": "2025-01-12T20:51:01.251Z"
   },
   {
    "duration": 9,
    "start_time": "2025-01-12T20:51:03.522Z"
   }
  ],
  "kernelspec": {
   "display_name": "Python 3 (ipykernel)",
   "language": "python",
   "name": "python3"
  },
  "language_info": {
   "codemirror_mode": {
    "name": "ipython",
    "version": 3
   },
   "file_extension": ".py",
   "mimetype": "text/x-python",
   "name": "python",
   "nbconvert_exporter": "python",
   "pygments_lexer": "ipython3",
   "version": "3.9.19"
  },
  "toc": {
   "base_numbering": 1,
   "nav_menu": {},
   "number_sections": true,
   "sideBar": true,
   "skip_h1_title": true,
   "title_cell": "Table of Contents",
   "title_sidebar": "Contents",
   "toc_cell": false,
   "toc_position": {
    "height": "calc(100% - 180px)",
    "left": "10px",
    "top": "150px",
    "width": "371.391px"
   },
   "toc_section_display": true,
   "toc_window_display": true
  }
 },
 "nbformat": 4,
 "nbformat_minor": 2
}
