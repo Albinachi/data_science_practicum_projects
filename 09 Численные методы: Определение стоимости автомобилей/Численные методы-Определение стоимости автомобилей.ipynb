{
 "cells": [
  {
   "cell_type": "markdown",
   "metadata": {},
   "source": [
    "# Определение стоимости автомобилей"
   ]
  },
  {
   "cell_type": "markdown",
   "metadata": {},
   "source": [
    "**Описание проекта**\n",
    "\n",
    "Сервис по продаже автомобилей с пробегом «Не бит, не крашен» разрабатывает приложение для привлечения новых клиентов. В нём можно быстро узнать рыночную стоимость своего автомобиля. В вашем распоряжении исторические данные: технические характеристики, комплектации и цены автомобилей. Вам нужно построить модель для определения стоимости. \n",
    "\n",
    "Заказчику важны:\n",
    "\n",
    "- качество предсказания;\n",
    "- скорость предсказания;\n",
    "- время обучения.\n",
    "\n",
    "**Описание данных**\n",
    "\n",
    "Данные находятся в файле `/datasets/autos.csv`. \n",
    "\n",
    "Признаки\n",
    "- `DateCrawled` — дата скачивания анкеты из базы\n",
    "- `VehicleType` — тип автомобильного кузова\n",
    "- `RegistrationYear` — год регистрации автомобиля\n",
    "- `Gearbox` — тип коробки передач\n",
    "- `Power` — мощность (л. с.)\n",
    "- `Model` — модель автомобиля\n",
    "- `Kilometer` — пробег (км)\n",
    "- `RegistrationMonth` — месяц регистрации автомобиля\n",
    "- `FuelType` — тип топлива\n",
    "- `Brand` — марка автомобиля\n",
    "- `Repaired` — была машина в ремонте или нет\n",
    "- `DateCreated` — дата создания анкеты\n",
    "- `NumberOfPictures` — количество фотографий автомобиля\n",
    "- `PostalCode` — почтовый индекс владельца анкеты (пользователя)\n",
    "- `LastSeen` — дата последней активности пользователя\n",
    "\n",
    "Целевой признак\n",
    "- `Price` — цена (евро)\n"
   ]
  },
  {
   "cell_type": "markdown",
   "metadata": {},
   "source": [
    "**Импорт библиотек**"
   ]
  },
  {
   "cell_type": "code",
   "execution_count": 1,
   "metadata": {},
   "outputs": [],
   "source": [
    "!pip install --upgrade scikit-learn -q\n",
    "!pip install phik -q\n",
    "!pip install lightgbm -q"
   ]
  },
  {
   "cell_type": "code",
   "execution_count": 2,
   "metadata": {},
   "outputs": [],
   "source": [
    "import pandas as pd\n",
    "import numpy as np\n",
    "import matplotlib.pyplot as plt\n",
    "import seaborn as sns\n",
    "import sklearn as skl\n",
    "import phik\n",
    "import os\n",
    "import lightgbm as lgb\n",
    "import time\n",
    "\n",
    "from sklearn.model_selection import train_test_split, RandomizedSearchCV, GridSearchCV\n",
    "\n",
    "from sklearn.linear_model import LinearRegression\n",
    "from sklearn.tree import DecisionTreeRegressor\n",
    "from sklearn.svm import SVR\n",
    "from catboost import CatBoostRegressor\n",
    "from lightgbm import LGBMRegressor\n",
    "\n",
    "\n",
    "from sklearn.preprocessing import OneHotEncoder, StandardScaler, OrdinalEncoder, MinMaxScaler, RobustScaler, LabelEncoder\n",
    "from sklearn.compose import ColumnTransformer\n",
    "\n",
    "# класс для работы с пропусками\n",
    "from sklearn.impute import SimpleImputer\n",
    "\n",
    "from sklearn.metrics import (\n",
    "    root_mean_squared_error,\n",
    "    mean_squared_error\n",
    ")\n",
    "\n",
    "from sklearn.pipeline import Pipeline\n",
    "\n",
    "from phik.report import plot_correlation_matrix\n",
    "\n",
    "\n",
    "RANDOM_STATE = 42"
   ]
  },
  {
   "cell_type": "markdown",
   "metadata": {},
   "source": [
    "## Подготовка данных"
   ]
  },
  {
   "cell_type": "markdown",
   "metadata": {},
   "source": [
    "### Загрузка"
   ]
  },
  {
   "cell_type": "code",
   "execution_count": 3,
   "metadata": {},
   "outputs": [
    {
     "data": {
      "text/html": [
       "<div>\n",
       "<style scoped>\n",
       "    .dataframe tbody tr th:only-of-type {\n",
       "        vertical-align: middle;\n",
       "    }\n",
       "\n",
       "    .dataframe tbody tr th {\n",
       "        vertical-align: top;\n",
       "    }\n",
       "\n",
       "    .dataframe thead th {\n",
       "        text-align: right;\n",
       "    }\n",
       "</style>\n",
       "<table border=\"1\" class=\"dataframe\">\n",
       "  <thead>\n",
       "    <tr style=\"text-align: right;\">\n",
       "      <th></th>\n",
       "      <th>DateCrawled</th>\n",
       "      <th>Price</th>\n",
       "      <th>VehicleType</th>\n",
       "      <th>RegistrationYear</th>\n",
       "      <th>Gearbox</th>\n",
       "      <th>Power</th>\n",
       "      <th>Model</th>\n",
       "      <th>Kilometer</th>\n",
       "      <th>RegistrationMonth</th>\n",
       "      <th>FuelType</th>\n",
       "      <th>Brand</th>\n",
       "      <th>Repaired</th>\n",
       "      <th>DateCreated</th>\n",
       "      <th>NumberOfPictures</th>\n",
       "      <th>PostalCode</th>\n",
       "      <th>LastSeen</th>\n",
       "    </tr>\n",
       "  </thead>\n",
       "  <tbody>\n",
       "    <tr>\n",
       "      <th>0</th>\n",
       "      <td>2016-03-24 11:52:17</td>\n",
       "      <td>480</td>\n",
       "      <td>NaN</td>\n",
       "      <td>1993</td>\n",
       "      <td>manual</td>\n",
       "      <td>0</td>\n",
       "      <td>golf</td>\n",
       "      <td>150000</td>\n",
       "      <td>0</td>\n",
       "      <td>petrol</td>\n",
       "      <td>volkswagen</td>\n",
       "      <td>NaN</td>\n",
       "      <td>2016-03-24 00:00:00</td>\n",
       "      <td>0</td>\n",
       "      <td>70435</td>\n",
       "      <td>2016-04-07 03:16:57</td>\n",
       "    </tr>\n",
       "    <tr>\n",
       "      <th>1</th>\n",
       "      <td>2016-03-24 10:58:45</td>\n",
       "      <td>18300</td>\n",
       "      <td>coupe</td>\n",
       "      <td>2011</td>\n",
       "      <td>manual</td>\n",
       "      <td>190</td>\n",
       "      <td>NaN</td>\n",
       "      <td>125000</td>\n",
       "      <td>5</td>\n",
       "      <td>gasoline</td>\n",
       "      <td>audi</td>\n",
       "      <td>yes</td>\n",
       "      <td>2016-03-24 00:00:00</td>\n",
       "      <td>0</td>\n",
       "      <td>66954</td>\n",
       "      <td>2016-04-07 01:46:50</td>\n",
       "    </tr>\n",
       "  </tbody>\n",
       "</table>\n",
       "</div>"
      ],
      "text/plain": [
       "           DateCrawled  Price VehicleType  RegistrationYear Gearbox  Power  \\\n",
       "0  2016-03-24 11:52:17    480         NaN              1993  manual      0   \n",
       "1  2016-03-24 10:58:45  18300       coupe              2011  manual    190   \n",
       "\n",
       "  Model  Kilometer  RegistrationMonth  FuelType       Brand Repaired  \\\n",
       "0  golf     150000                  0    petrol  volkswagen      NaN   \n",
       "1   NaN     125000                  5  gasoline        audi      yes   \n",
       "\n",
       "           DateCreated  NumberOfPictures  PostalCode             LastSeen  \n",
       "0  2016-03-24 00:00:00                 0       70435  2016-04-07 03:16:57  \n",
       "1  2016-03-24 00:00:00                 0       66954  2016-04-07 01:46:50  "
      ]
     },
     "metadata": {},
     "output_type": "display_data"
    },
    {
     "data": {
      "text/html": [
       "<div>\n",
       "<style scoped>\n",
       "    .dataframe tbody tr th:only-of-type {\n",
       "        vertical-align: middle;\n",
       "    }\n",
       "\n",
       "    .dataframe tbody tr th {\n",
       "        vertical-align: top;\n",
       "    }\n",
       "\n",
       "    .dataframe thead th {\n",
       "        text-align: right;\n",
       "    }\n",
       "</style>\n",
       "<table border=\"1\" class=\"dataframe\">\n",
       "  <thead>\n",
       "    <tr style=\"text-align: right;\">\n",
       "      <th></th>\n",
       "      <th>DateCrawled</th>\n",
       "      <th>Price</th>\n",
       "      <th>VehicleType</th>\n",
       "      <th>RegistrationYear</th>\n",
       "      <th>Gearbox</th>\n",
       "      <th>Power</th>\n",
       "      <th>Model</th>\n",
       "      <th>Kilometer</th>\n",
       "      <th>RegistrationMonth</th>\n",
       "      <th>FuelType</th>\n",
       "      <th>Brand</th>\n",
       "      <th>Repaired</th>\n",
       "      <th>DateCreated</th>\n",
       "      <th>NumberOfPictures</th>\n",
       "      <th>PostalCode</th>\n",
       "      <th>LastSeen</th>\n",
       "    </tr>\n",
       "  </thead>\n",
       "  <tbody>\n",
       "    <tr>\n",
       "      <th>354367</th>\n",
       "      <td>2016-03-19 18:57:12</td>\n",
       "      <td>9200</td>\n",
       "      <td>bus</td>\n",
       "      <td>1996</td>\n",
       "      <td>manual</td>\n",
       "      <td>102</td>\n",
       "      <td>transporter</td>\n",
       "      <td>150000</td>\n",
       "      <td>3</td>\n",
       "      <td>gasoline</td>\n",
       "      <td>volkswagen</td>\n",
       "      <td>no</td>\n",
       "      <td>2016-03-19 00:00:00</td>\n",
       "      <td>0</td>\n",
       "      <td>87439</td>\n",
       "      <td>2016-04-07 07:15:26</td>\n",
       "    </tr>\n",
       "    <tr>\n",
       "      <th>354368</th>\n",
       "      <td>2016-03-20 19:41:08</td>\n",
       "      <td>3400</td>\n",
       "      <td>wagon</td>\n",
       "      <td>2002</td>\n",
       "      <td>manual</td>\n",
       "      <td>100</td>\n",
       "      <td>golf</td>\n",
       "      <td>150000</td>\n",
       "      <td>6</td>\n",
       "      <td>gasoline</td>\n",
       "      <td>volkswagen</td>\n",
       "      <td>NaN</td>\n",
       "      <td>2016-03-20 00:00:00</td>\n",
       "      <td>0</td>\n",
       "      <td>40764</td>\n",
       "      <td>2016-03-24 12:45:21</td>\n",
       "    </tr>\n",
       "  </tbody>\n",
       "</table>\n",
       "</div>"
      ],
      "text/plain": [
       "                DateCrawled  Price VehicleType  RegistrationYear Gearbox  \\\n",
       "354367  2016-03-19 18:57:12   9200         bus              1996  manual   \n",
       "354368  2016-03-20 19:41:08   3400       wagon              2002  manual   \n",
       "\n",
       "        Power        Model  Kilometer  RegistrationMonth  FuelType  \\\n",
       "354367    102  transporter     150000                  3  gasoline   \n",
       "354368    100         golf     150000                  6  gasoline   \n",
       "\n",
       "             Brand Repaired          DateCreated  NumberOfPictures  \\\n",
       "354367  volkswagen       no  2016-03-19 00:00:00                 0   \n",
       "354368  volkswagen      NaN  2016-03-20 00:00:00                 0   \n",
       "\n",
       "        PostalCode             LastSeen  \n",
       "354367       87439  2016-04-07 07:15:26  \n",
       "354368       40764  2016-03-24 12:45:21  "
      ]
     },
     "metadata": {},
     "output_type": "display_data"
    },
    {
     "name": "stdout",
     "output_type": "stream",
     "text": [
      "<class 'pandas.core.frame.DataFrame'>\n",
      "RangeIndex: 354369 entries, 0 to 354368\n",
      "Data columns (total 16 columns):\n",
      " #   Column             Non-Null Count   Dtype \n",
      "---  ------             --------------   ----- \n",
      " 0   DateCrawled        354369 non-null  object\n",
      " 1   Price              354369 non-null  int64 \n",
      " 2   VehicleType        316879 non-null  object\n",
      " 3   RegistrationYear   354369 non-null  int64 \n",
      " 4   Gearbox            334536 non-null  object\n",
      " 5   Power              354369 non-null  int64 \n",
      " 6   Model              334664 non-null  object\n",
      " 7   Kilometer          354369 non-null  int64 \n",
      " 8   RegistrationMonth  354369 non-null  int64 \n",
      " 9   FuelType           321474 non-null  object\n",
      " 10  Brand              354369 non-null  object\n",
      " 11  Repaired           283215 non-null  object\n",
      " 12  DateCreated        354369 non-null  object\n",
      " 13  NumberOfPictures   354369 non-null  int64 \n",
      " 14  PostalCode         354369 non-null  int64 \n",
      " 15  LastSeen           354369 non-null  object\n",
      "dtypes: int64(7), object(9)\n",
      "memory usage: 43.3+ MB\n"
     ]
    },
    {
     "data": {
      "text/plain": [
       "None"
      ]
     },
     "metadata": {},
     "output_type": "display_data"
    }
   ],
   "source": [
    "pth1 = f'/datasets/autos.csv'\n",
    "pth2 = f'D:/Данные/autos.csv'\n",
    "    \n",
    "if os.path.exists(pth1):\n",
    "    autos = pd.read_csv(pth1)\n",
    "elif os.path.exists(pth2):\n",
    "    autos  = pd.read_csv(pth2)\n",
    "else:\n",
    "    print('Something is wrong')\n",
    "    \n",
    "display(autos.head(2))\n",
    "display(autos.tail(2))\n",
    "display(autos.info())     "
   ]
  },
  {
   "cell_type": "markdown",
   "metadata": {},
   "source": [
    "### Предобработка\n"
   ]
  },
  {
   "cell_type": "markdown",
   "metadata": {},
   "source": [
    "#### Преобразование наименований столбцов"
   ]
  },
  {
   "cell_type": "code",
   "execution_count": 4,
   "metadata": {},
   "outputs": [],
   "source": [
    "for col in autos.columns:    \n",
    "\n",
    "    j = []\n",
    "    h = []\n",
    "    \n",
    "    for i, n in enumerate(col):\n",
    "        if i> 0 and n.isupper() == True:\n",
    "            j.append(i)\n",
    "            h.append(n)            \n",
    "    \n",
    "    if len(j) == 1:\n",
    "        col_name = (col[:j[0]] + '_' + h[0] + col[j[0]+1:]).lower()\n",
    "        \n",
    "    elif len(j) == 2:\n",
    "        col_name = (col[:j[0]] + '_' + h[0] + col[j[0]+1:j[1]] + '_' + h[1] + col[j[1]+1:]).lower()\n",
    "        \n",
    "    else:\n",
    "        col_name = col.lower()\n",
    "    \n",
    "    autos = autos.rename(columns={col: col_name})\n",
    "    "
   ]
  },
  {
   "cell_type": "code",
   "execution_count": 5,
   "metadata": {},
   "outputs": [
    {
     "data": {
      "text/plain": [
       "Index(['date_crawled', 'price', 'vehicle_type', 'registration_year', 'gearbox',\n",
       "       'power', 'model', 'kilometer', 'registration_month', 'fuel_type',\n",
       "       'brand', 'repaired', 'date_created', 'number_of_pictures',\n",
       "       'postal_code', 'last_seen'],\n",
       "      dtype='object')"
      ]
     },
     "metadata": {},
     "output_type": "display_data"
    }
   ],
   "source": [
    "display(autos.columns)"
   ]
  },
  {
   "cell_type": "markdown",
   "metadata": {},
   "source": [
    "#### Обработка дубликатов"
   ]
  },
  {
   "cell_type": "code",
   "execution_count": 6,
   "metadata": {},
   "outputs": [
    {
     "data": {
      "text/plain": [
       "'Кол-во дубликатов 4'"
      ]
     },
     "metadata": {},
     "output_type": "display_data"
    }
   ],
   "source": [
    "display(f'Кол-во дубликатов {autos.duplicated().sum()}')\n"
   ]
  },
  {
   "cell_type": "code",
   "execution_count": 7,
   "metadata": {},
   "outputs": [
    {
     "data": {
      "text/plain": [
       "'Кол-во дубликатов 0'"
      ]
     },
     "metadata": {},
     "output_type": "display_data"
    }
   ],
   "source": [
    "autos = autos.drop_duplicates().reset_index(drop=True)\n",
    "\n",
    "display(f'Кол-во дубликатов {autos.duplicated().sum()}')"
   ]
  },
  {
   "cell_type": "markdown",
   "metadata": {},
   "source": [
    "#### Обработка неявных дубликатов"
   ]
  },
  {
   "cell_type": "code",
   "execution_count": 8,
   "metadata": {},
   "outputs": [
    {
     "name": "stdout",
     "output_type": "stream",
     "text": [
      "--------------------------------------------------\n",
      "vehicle_type ['bus' 'convertible' 'coupe' 'other' 'sedan' 'small' 'suv' 'wagon' nan] 9\n",
      "--------------------------------------------------\n",
      "gearbox ['auto' 'manual' nan] 3\n",
      "--------------------------------------------------\n",
      "model ['100' '145' '147' '156' '159' '1_reihe' '1er' '200' '2_reihe' '300c'\n",
      " '3_reihe' '3er' '4_reihe' '500' '5_reihe' '5er' '601' '6_reihe' '6er'\n",
      " '7er' '80' '850' '90' '900' '9000' '911' 'a1' 'a2' 'a3' 'a4' 'a5' 'a6'\n",
      " 'a8' 'a_klasse' 'accord' 'agila' 'alhambra' 'almera' 'altea' 'amarok'\n",
      " 'antara' 'arosa' 'astra' 'auris' 'avensis' 'aveo' 'aygo' 'b_klasse'\n",
      " 'b_max' 'beetle' 'berlingo' 'bora' 'boxster' 'bravo' 'c1' 'c2' 'c3' 'c4'\n",
      " 'c5' 'c_klasse' 'c_max' 'c_reihe' 'caddy' 'calibra' 'captiva' 'carisma'\n",
      " 'carnival' 'cayenne' 'cc' 'ceed' 'charade' 'cherokee' 'citigo' 'civic'\n",
      " 'cl' 'clio' 'clk' 'clubman' 'colt' 'combo' 'cooper' 'cordoba' 'corolla'\n",
      " 'corsa' 'cr_reihe' 'croma' 'crossfire' 'cuore' 'cx_reihe' 'defender'\n",
      " 'delta' 'discovery' 'doblo' 'ducato' 'duster' 'e_klasse' 'elefantino'\n",
      " 'eos' 'escort' 'espace' 'exeo' 'fabia' 'fiesta' 'focus' 'forester'\n",
      " 'forfour' 'fortwo' 'fox' 'freelander' 'fusion' 'g_klasse' 'galant'\n",
      " 'galaxy' 'getz' 'gl' 'glk' 'golf' 'grand' 'i3' 'i_reihe' 'ibiza'\n",
      " 'impreza' 'insignia' 'jazz' 'jetta' 'jimny' 'juke' 'justy' 'ka' 'kadett'\n",
      " 'kaefer' 'kalina' 'kalos' 'kangoo' 'kappa' 'kuga' 'laguna' 'lancer'\n",
      " 'lanos' 'legacy' 'leon' 'lodgy' 'logan' 'lupo' 'lybra' 'm_klasse'\n",
      " 'm_reihe' 'materia' 'matiz' 'megane' 'meriva' 'micra' 'mii' 'modus'\n",
      " 'mondeo' 'move' 'musa' 'mustang' 'mx_reihe' 'navara' 'niva' 'note'\n",
      " 'nubira' 'octavia' 'omega' 'one' 'other' 'outlander' 'pajero' 'panda'\n",
      " 'passat' 'phaeton' 'picanto' 'polo' 'primera' 'ptcruiser' 'punto' 'q3'\n",
      " 'q5' 'q7' 'qashqai' 'r19' 'range_rover' 'range_rover_evoque'\n",
      " 'range_rover_sport' 'rangerover' 'rav' 'rio' 'roadster' 'roomster'\n",
      " 'rx_reihe' 's60' 's_klasse' 's_max' 's_type' 'samara' 'sandero' 'santa'\n",
      " 'scenic' 'scirocco' 'seicento' 'serie_1' 'serie_2' 'serie_3' 'sharan'\n",
      " 'signum' 'sirion' 'sl' 'slk' 'sorento' 'spark' 'spider' 'sportage'\n",
      " 'sprinter' 'stilo' 'superb' 'swift' 'terios' 'tigra' 'tiguan' 'toledo'\n",
      " 'touareg' 'touran' 'transit' 'transporter' 'tt' 'tucson' 'twingo' 'up'\n",
      " 'v40' 'v50' 'v60' 'v70' 'v_klasse' 'vectra' 'verso' 'viano' 'vito'\n",
      " 'vivaro' 'voyager' 'wrangler' 'x_reihe' 'x_trail' 'x_type' 'xc_reihe'\n",
      " 'yaris' 'yeti' 'ypsilon' 'z_reihe' 'zafira' nan] 251\n",
      "--------------------------------------------------\n",
      "brand ['alfa_romeo' 'audi' 'bmw' 'chevrolet' 'chrysler' 'citroen' 'dacia'\n",
      " 'daewoo' 'daihatsu' 'fiat' 'ford' 'honda' 'hyundai' 'jaguar' 'jeep' 'kia'\n",
      " 'lada' 'lancia' 'land_rover' 'mazda' 'mercedes_benz' 'mini' 'mitsubishi'\n",
      " 'nissan' 'opel' 'peugeot' 'porsche' 'renault' 'rover' 'saab' 'seat'\n",
      " 'skoda' 'smart' 'sonstige_autos' 'subaru' 'suzuki' 'toyota' 'trabant'\n",
      " 'volkswagen' 'volvo'] 40\n",
      "--------------------------------------------------\n",
      "fuel_type ['cng' 'electric' 'gasoline' 'hybrid' 'lpg' 'other' 'petrol' nan] 8\n",
      "--------------------------------------------------\n",
      "repaired ['no' 'yes' nan] 3\n"
     ]
    }
   ],
   "source": [
    "def func(list_col, data):\n",
    "    for col_l in list_col:\n",
    "        print('-'* 50)\n",
    "        print(col_l, data[col_l].sort_values().unique(), len(data[col_l].sort_values().unique()))    \n",
    "\n",
    "\n",
    "func(autos[['vehicle_type', 'gearbox', 'model' , 'brand', 'fuel_type' , 'repaired']], autos)\n",
    " "
   ]
  },
  {
   "cell_type": "code",
   "execution_count": 9,
   "metadata": {},
   "outputs": [],
   "source": [
    "autos['model'] = autos['model'].replace('rangerover', 'range_rover')\n"
   ]
  },
  {
   "cell_type": "markdown",
   "metadata": {},
   "source": [
    "Gasoline и petrol обозначают один вид топлива - бензин. Объединим в одну категорию \"gasoline\".\n",
    "\n",
    "CNG — это метан, а LPG — это пропан и/или бутан. CNG хранится в виде газа, а LPG, сжиженный нефтяной газ, – в виде жидкости, объединить эти виды категорий топлива не получится.\n"
   ]
  },
  {
   "cell_type": "code",
   "execution_count": 10,
   "metadata": {},
   "outputs": [],
   "source": [
    "autos.loc[(autos['fuel_type'] == 'petrol'), 'fuel_type'] = 'gasoline'"
   ]
  },
  {
   "cell_type": "markdown",
   "metadata": {},
   "source": [
    "#### Преобразование типов данных\n"
   ]
  },
  {
   "cell_type": "code",
   "execution_count": 11,
   "metadata": {},
   "outputs": [
    {
     "data": {
      "text/plain": [
       "price                 int32\n",
       "registration_year     int32\n",
       "power                 int32\n",
       "kilometer             int32\n",
       "registration_month    int32\n",
       "number_of_pictures    int32\n",
       "postal_code           int32\n",
       "dtype: object"
      ]
     },
     "metadata": {},
     "output_type": "display_data"
    }
   ],
   "source": [
    "int64 = autos.select_dtypes(include=['int64']).columns.tolist()\n",
    "autos[int64] = autos[int64].astype('int32')\n",
    "\n",
    "display(autos.select_dtypes(include='number').dtypes)   \n"
   ]
  },
  {
   "cell_type": "markdown",
   "metadata": {},
   "source": [
    "#### Удаление неинформативных входных признаков \n",
    "\n",
    "Необходимо удалить признаки, которые не содержат характеристики автомобиля и комплектации, а являются параметрами анкеты. Т.е. эти признаки не нужны для обучения модели и получения предсказания цены автомобиля."
   ]
  },
  {
   "cell_type": "code",
   "execution_count": 12,
   "metadata": {},
   "outputs": [],
   "source": [
    "autos.drop(columns=['date_crawled', 'date_created', 'number_of_pictures','postal_code', 'last_seen', 'registration_month'],\n",
    "           axis=1,inplace=True)"
   ]
  },
  {
   "cell_type": "markdown",
   "metadata": {},
   "source": [
    "#### Обработка пропусков и аномалий\n",
    "\n",
    "Кол-во пропусков по столбцам:"
   ]
  },
  {
   "cell_type": "code",
   "execution_count": 13,
   "metadata": {},
   "outputs": [
    {
     "name": "stdout",
     "output_type": "stream",
     "text": [
      "price                    0\n",
      "vehicle_type         37490\n",
      "registration_year        0\n",
      "gearbox              19833\n",
      "power                    0\n",
      "model                19705\n",
      "kilometer                0\n",
      "fuel_type            32895\n",
      "brand                    0\n",
      "repaired             71154\n",
      "dtype: int64\n"
     ]
    }
   ],
   "source": [
    "print(autos.isna().sum())"
   ]
  },
  {
   "cell_type": "code",
   "execution_count": 14,
   "metadata": {},
   "outputs": [
    {
     "data": {
      "text/html": [
       "<div>\n",
       "<style scoped>\n",
       "    .dataframe tbody tr th:only-of-type {\n",
       "        vertical-align: middle;\n",
       "    }\n",
       "\n",
       "    .dataframe tbody tr th {\n",
       "        vertical-align: top;\n",
       "    }\n",
       "\n",
       "    .dataframe thead th {\n",
       "        text-align: right;\n",
       "    }\n",
       "</style>\n",
       "<table border=\"1\" class=\"dataframe\">\n",
       "  <thead>\n",
       "    <tr style=\"text-align: right;\">\n",
       "      <th></th>\n",
       "      <th>price</th>\n",
       "      <th>vehicle_type</th>\n",
       "      <th>registration_year</th>\n",
       "      <th>gearbox</th>\n",
       "      <th>power</th>\n",
       "      <th>model</th>\n",
       "      <th>kilometer</th>\n",
       "      <th>fuel_type</th>\n",
       "      <th>brand</th>\n",
       "      <th>repaired</th>\n",
       "    </tr>\n",
       "  </thead>\n",
       "  <tbody>\n",
       "    <tr>\n",
       "      <th>0</th>\n",
       "      <td>480</td>\n",
       "      <td>NaN</td>\n",
       "      <td>1993</td>\n",
       "      <td>manual</td>\n",
       "      <td>0</td>\n",
       "      <td>golf</td>\n",
       "      <td>150000</td>\n",
       "      <td>gasoline</td>\n",
       "      <td>volkswagen</td>\n",
       "      <td>NaN</td>\n",
       "    </tr>\n",
       "    <tr>\n",
       "      <th>1</th>\n",
       "      <td>18300</td>\n",
       "      <td>coupe</td>\n",
       "      <td>2011</td>\n",
       "      <td>manual</td>\n",
       "      <td>190</td>\n",
       "      <td>NaN</td>\n",
       "      <td>125000</td>\n",
       "      <td>gasoline</td>\n",
       "      <td>audi</td>\n",
       "      <td>yes</td>\n",
       "    </tr>\n",
       "  </tbody>\n",
       "</table>\n",
       "</div>"
      ],
      "text/plain": [
       "   price vehicle_type  registration_year gearbox  power model  kilometer  \\\n",
       "0    480          NaN               1993  manual      0  golf     150000   \n",
       "1  18300        coupe               2011  manual    190   NaN     125000   \n",
       "\n",
       "  fuel_type       brand repaired  \n",
       "0  gasoline  volkswagen      NaN  \n",
       "1  gasoline        audi      yes  "
      ]
     },
     "metadata": {},
     "output_type": "display_data"
    }
   ],
   "source": [
    "display(autos.head(2))\n"
   ]
  },
  {
   "cell_type": "markdown",
   "metadata": {},
   "source": [
    "Категории и кол-во значений в столбцах с пропусками:"
   ]
  },
  {
   "cell_type": "code",
   "execution_count": 15,
   "metadata": {},
   "outputs": [
    {
     "data": {
      "text/plain": [
       "'vehicle_type'"
      ]
     },
     "metadata": {},
     "output_type": "display_data"
    },
    {
     "data": {
      "text/plain": [
       "sedan          91457\n",
       "small          79830\n",
       "wagon          65165\n",
       "bus            28775\n",
       "convertible    20203\n",
       "coupe          16161\n",
       "suv            11996\n",
       "other           3288\n",
       "Name: vehicle_type, dtype: int64"
      ]
     },
     "metadata": {},
     "output_type": "display_data"
    },
    {
     "data": {
      "text/plain": [
       "'gearbox'"
      ]
     },
     "metadata": {},
     "output_type": "display_data"
    },
    {
     "data": {
      "text/plain": [
       "manual    268249\n",
       "auto       66283\n",
       "Name: gearbox, dtype: int64"
      ]
     },
     "metadata": {},
     "output_type": "display_data"
    },
    {
     "data": {
      "text/plain": [
       "'model'"
      ]
     },
     "metadata": {},
     "output_type": "display_data"
    },
    {
     "data": {
      "text/plain": [
       "golf        29232\n",
       "other       24420\n",
       "3er         19761\n",
       "polo        13066\n",
       "corsa       12570\n",
       "astra       10809\n",
       "passat      10145\n",
       "a4           9900\n",
       "c_klasse     8312\n",
       "5er          7868\n",
       "Name: model, dtype: int64"
      ]
     },
     "metadata": {},
     "output_type": "display_data"
    },
    {
     "data": {
      "text/plain": [
       "'fuel_type'"
      ]
     },
     "metadata": {},
     "output_type": "display_data"
    },
    {
     "data": {
      "text/plain": [
       "gasoline    315068\n",
       "lpg           5310\n",
       "cng            565\n",
       "hybrid         233\n",
       "other          204\n",
       "electric        90\n",
       "Name: fuel_type, dtype: int64"
      ]
     },
     "metadata": {},
     "output_type": "display_data"
    },
    {
     "data": {
      "text/plain": [
       "'repaired'"
      ]
     },
     "metadata": {},
     "output_type": "display_data"
    },
    {
     "data": {
      "text/plain": [
       "no     247158\n",
       "yes     36053\n",
       "Name: repaired, dtype: int64"
      ]
     },
     "metadata": {},
     "output_type": "display_data"
    }
   ],
   "source": [
    "for n in ['vehicle_type', 'gearbox', 'model', 'fuel_type', 'repaired']:\n",
    "    display(n, autos[n].value_counts().head(10))"
   ]
  },
  {
   "cell_type": "markdown",
   "metadata": {},
   "source": [
    "Добавим новый столбец в датафрейм со связкой brand-model для того, чтобы проверить, возможно ли однозначно по бренду и модели автомобиля определить тип кузова для заполнения пропусков."
   ]
  },
  {
   "cell_type": "code",
   "execution_count": 16,
   "metadata": {},
   "outputs": [],
   "source": [
    "autos['model_brand'] = autos['model'] + autos['brand']"
   ]
  },
  {
   "cell_type": "code",
   "execution_count": 17,
   "metadata": {},
   "outputs": [
    {
     "data": {
      "text/plain": [
       "5.0"
      ]
     },
     "execution_count": 17,
     "metadata": {},
     "output_type": "execute_result"
    }
   ],
   "source": [
    "((\n",
    "    (\n",
    "    autos\n",
    "    .groupby(['model_brand', 'vehicle_type'])\n",
    "    .agg(cnt=('vehicle_type', 'count'))\n",
    "              .reset_index()\n",
    "    )\n",
    "    .groupby(['model_brand'])\n",
    "    .agg(cnt_cat=('vehicle_type', 'count'))\n",
    "    .reset_index()\n",
    ")\n",
    "['cnt_cat'].median())\n",
    "        "
   ]
  },
  {
   "cell_type": "markdown",
   "metadata": {},
   "source": [
    "В среднем одному бренду и модели соотвествуют 5 типов кузова, поэтому однозначно выделить значения для заполнения пропусков не получится.\n",
    "\n",
    "Заполним пропуски значением \"unknown\". \n",
    "\n",
    "Предлагаю заполнить именно этим значением, а не имеющимся в датафрейме \"other\", т.к. \"other\" может означать категорию, отличную от имеющихся в базе, но не неизвестное значение.  \n",
    "\n",
    "Значения для заполнения пропусков в столбцах gearbox, fuel_type невозможно однозначно определить, т.к. одна и та же модель автомобиля может иметь несколько типов коробки передач и видов топлива. Пропуски в данных столбцах также заполним \"unknown\". \n",
    "\n",
    "Модель автомобиля и признак, была ли машина в ремонте или нет, определить никак не получится, поэтому пропуски заполним \"unknown\". \n",
    "В данном случае также не беру для заполнения \"other\", т.к. \"other\" может означать категорию, отличную от имеющихся в базе, но не неизвестное значение.  \n"
   ]
  },
  {
   "cell_type": "code",
   "execution_count": 18,
   "metadata": {},
   "outputs": [],
   "source": [
    "for n in ['vehicle_type', 'gearbox', 'model', 'fuel_type', 'repaired']:\n",
    "    autos[n] = autos[n].fillna('unknown')"
   ]
  },
  {
   "cell_type": "code",
   "execution_count": 19,
   "metadata": {
    "scrolled": true
   },
   "outputs": [
    {
     "name": "stdout",
     "output_type": "stream",
     "text": [
      "price                    0\n",
      "vehicle_type             0\n",
      "registration_year        0\n",
      "gearbox                  0\n",
      "power                    0\n",
      "model                    0\n",
      "kilometer                0\n",
      "fuel_type                0\n",
      "brand                    0\n",
      "repaired                 0\n",
      "model_brand          19705\n",
      "dtype: int64\n"
     ]
    }
   ],
   "source": [
    "print(autos.isna().sum())"
   ]
  },
  {
   "cell_type": "markdown",
   "metadata": {},
   "source": [
    "После заполнения пропусков обновим также новый столбец модель-бренд:"
   ]
  },
  {
   "cell_type": "code",
   "execution_count": 20,
   "metadata": {},
   "outputs": [],
   "source": [
    "autos['model_brand'] = autos['model'] + autos['brand']"
   ]
  },
  {
   "cell_type": "code",
   "execution_count": 21,
   "metadata": {},
   "outputs": [],
   "source": [
    "def draw_number_chart(dataframe):\n",
    "\n",
    "    for i, col in enumerate(dataframe[dataframe.select_dtypes(include='number').columns.tolist()]):\n",
    "\n",
    "        x_label = ('Год' if col in ['registration_year'] \n",
    "             else 'Евро' if col in ['price']\n",
    "             else 'Мощность (л. с.)' if col in ['power']                \n",
    "            else 'Км' if col in ['kilometer']  \n",
    "                   else 'Количество') \n",
    "        title_name = col[0].upper() + col[1:].lower()\n",
    "\n",
    "        mean_value = dataframe[col].mean()\n",
    "        median_value = dataframe[col].median()\n",
    "\n",
    "        plt.figure(i)\n",
    "        \n",
    "\n",
    "        fig, axs = plt.subplots(nrows = 1 , ncols = 2, figsize = (12,4))\n",
    "\n",
    "        sns.histplot(data = dataframe, x = dataframe[col], ax=axs[0], kde=True, bins = 30, legend=True);\n",
    "        axs[0].axvline(mean_value, linewidth=2, color='orange', alpha=1, linestyle='--', label = 'Среднее = {:.3f}'.format(mean_value))\n",
    "        axs[0].axvline(median_value, linewidth=2, color='orange', alpha=1, linestyle='-', label = 'Медиана = {:.3f}'.format(median_value))\n",
    "        axs[0].set_xlabel(x_label)\n",
    "        axs[0].set_ylabel('Кол-во автомобилей')\n",
    "        axs[0].legend(fontsize=\"8\")\n",
    "\n",
    "        sns.boxplot(data = dataframe, x = dataframe[col], ax=axs[1]);\n",
    "        axs[1].set_xlabel(x_label)\n",
    "        fig.suptitle(title_name)    \n",
    "    "
   ]
  },
  {
   "cell_type": "code",
   "execution_count": 22,
   "metadata": {},
   "outputs": [
    {
     "data": {
      "text/html": [
       "<div>\n",
       "<style scoped>\n",
       "    .dataframe tbody tr th:only-of-type {\n",
       "        vertical-align: middle;\n",
       "    }\n",
       "\n",
       "    .dataframe tbody tr th {\n",
       "        vertical-align: top;\n",
       "    }\n",
       "\n",
       "    .dataframe thead th {\n",
       "        text-align: right;\n",
       "    }\n",
       "</style>\n",
       "<table border=\"1\" class=\"dataframe\">\n",
       "  <thead>\n",
       "    <tr style=\"text-align: right;\">\n",
       "      <th></th>\n",
       "      <th>price</th>\n",
       "      <th>registration_year</th>\n",
       "      <th>power</th>\n",
       "      <th>kilometer</th>\n",
       "    </tr>\n",
       "  </thead>\n",
       "  <tbody>\n",
       "    <tr>\n",
       "      <th>count</th>\n",
       "      <td>354365.000000</td>\n",
       "      <td>354365.000000</td>\n",
       "      <td>354365.000000</td>\n",
       "      <td>354365.000000</td>\n",
       "    </tr>\n",
       "    <tr>\n",
       "      <th>mean</th>\n",
       "      <td>4416.679830</td>\n",
       "      <td>2004.234481</td>\n",
       "      <td>110.093816</td>\n",
       "      <td>128211.363989</td>\n",
       "    </tr>\n",
       "    <tr>\n",
       "      <th>std</th>\n",
       "      <td>4514.176349</td>\n",
       "      <td>90.228466</td>\n",
       "      <td>189.851330</td>\n",
       "      <td>37905.083858</td>\n",
       "    </tr>\n",
       "    <tr>\n",
       "      <th>min</th>\n",
       "      <td>0.000000</td>\n",
       "      <td>1000.000000</td>\n",
       "      <td>0.000000</td>\n",
       "      <td>5000.000000</td>\n",
       "    </tr>\n",
       "    <tr>\n",
       "      <th>25%</th>\n",
       "      <td>1050.000000</td>\n",
       "      <td>1999.000000</td>\n",
       "      <td>69.000000</td>\n",
       "      <td>125000.000000</td>\n",
       "    </tr>\n",
       "    <tr>\n",
       "      <th>50%</th>\n",
       "      <td>2700.000000</td>\n",
       "      <td>2003.000000</td>\n",
       "      <td>105.000000</td>\n",
       "      <td>150000.000000</td>\n",
       "    </tr>\n",
       "    <tr>\n",
       "      <th>75%</th>\n",
       "      <td>6400.000000</td>\n",
       "      <td>2008.000000</td>\n",
       "      <td>143.000000</td>\n",
       "      <td>150000.000000</td>\n",
       "    </tr>\n",
       "    <tr>\n",
       "      <th>max</th>\n",
       "      <td>20000.000000</td>\n",
       "      <td>9999.000000</td>\n",
       "      <td>20000.000000</td>\n",
       "      <td>150000.000000</td>\n",
       "    </tr>\n",
       "  </tbody>\n",
       "</table>\n",
       "</div>"
      ],
      "text/plain": [
       "               price  registration_year          power      kilometer\n",
       "count  354365.000000      354365.000000  354365.000000  354365.000000\n",
       "mean     4416.679830        2004.234481     110.093816  128211.363989\n",
       "std      4514.176349          90.228466     189.851330   37905.083858\n",
       "min         0.000000        1000.000000       0.000000    5000.000000\n",
       "25%      1050.000000        1999.000000      69.000000  125000.000000\n",
       "50%      2700.000000        2003.000000     105.000000  150000.000000\n",
       "75%      6400.000000        2008.000000     143.000000  150000.000000\n",
       "max     20000.000000        9999.000000   20000.000000  150000.000000"
      ]
     },
     "execution_count": 22,
     "metadata": {},
     "output_type": "execute_result"
    }
   ],
   "source": [
    "autos.describe()"
   ]
  },
  {
   "cell_type": "code",
   "execution_count": 23,
   "metadata": {},
   "outputs": [
    {
     "data": {
      "text/plain": [
       "<Figure size 432x288 with 0 Axes>"
      ]
     },
     "metadata": {},
     "output_type": "display_data"
    },
    {
     "data": {
      "image/png": "[encoded data removed]",
      "text/plain": [
       "<Figure size 864x288 with 2 Axes>"
      ]
     },
     "metadata": {
      "needs_background": "light"
     },
     "output_type": "display_data"
    },
    {
     "data": {
      "image/png": "[encoded data removed]",
      "text/plain": [
       "<Figure size 864x288 with 2 Axes>"
      ]
     },
     "metadata": {
      "needs_background": "light"
     },
     "output_type": "display_data"
    },
    {
     "data": {
      "image/png": "[encoded data removed]",
      "text/plain": [
       "<Figure size 864x288 with 2 Axes>"
      ]
     },
     "metadata": {
      "needs_background": "light"
     },
     "output_type": "display_data"
    },
    {
     "data": {
      "image/png": "[encoded data removed]",
      "text/plain": [
       "<Figure size 864x288 with 2 Axes>"
      ]
     },
     "metadata": {
      "needs_background": "light"
     },
     "output_type": "display_data"
    }
   ],
   "source": [
    "draw_number_chart(autos)"
   ]
  },
  {
   "cell_type": "markdown",
   "metadata": {},
   "source": [
    "**`price`** "
   ]
  },
  {
   "cell_type": "code",
   "execution_count": 24,
   "metadata": {},
   "outputs": [
    {
     "data": {
      "text/plain": [
       "<AxesSubplot:>"
      ]
     },
     "execution_count": 24,
     "metadata": {},
     "output_type": "execute_result"
    },
    {
     "data": {
      "image/png": "[encoded data removed]",
      "text/plain": [
       "<Figure size 432x288 with 1 Axes>"
      ]
     },
     "metadata": {
      "needs_background": "light"
     },
     "output_type": "display_data"
    }
   ],
   "source": [
    "autos.query('price>1')['price'].hist(bins=30)"
   ]
  },
  {
   "cell_type": "code",
   "execution_count": 25,
   "metadata": {},
   "outputs": [
    {
     "data": {
      "text/html": [
       "<div>\n",
       "<style scoped>\n",
       "    .dataframe tbody tr th:only-of-type {\n",
       "        vertical-align: middle;\n",
       "    }\n",
       "\n",
       "    .dataframe tbody tr th {\n",
       "        vertical-align: top;\n",
       "    }\n",
       "\n",
       "    .dataframe thead th {\n",
       "        text-align: right;\n",
       "    }\n",
       "</style>\n",
       "<table border=\"1\" class=\"dataframe\">\n",
       "  <thead>\n",
       "    <tr style=\"text-align: right;\">\n",
       "      <th></th>\n",
       "      <th>price</th>\n",
       "      <th>vehicle_type</th>\n",
       "      <th>registration_year</th>\n",
       "      <th>gearbox</th>\n",
       "      <th>power</th>\n",
       "      <th>model</th>\n",
       "      <th>kilometer</th>\n",
       "      <th>fuel_type</th>\n",
       "      <th>brand</th>\n",
       "      <th>repaired</th>\n",
       "      <th>model_brand</th>\n",
       "    </tr>\n",
       "  </thead>\n",
       "  <tbody>\n",
       "    <tr>\n",
       "      <th>7</th>\n",
       "      <td>0</td>\n",
       "      <td>sedan</td>\n",
       "      <td>1980</td>\n",
       "      <td>manual</td>\n",
       "      <td>50</td>\n",
       "      <td>other</td>\n",
       "      <td>40000</td>\n",
       "      <td>gasoline</td>\n",
       "      <td>volkswagen</td>\n",
       "      <td>no</td>\n",
       "      <td>othervolkswagen</td>\n",
       "    </tr>\n",
       "    <tr>\n",
       "      <th>40</th>\n",
       "      <td>0</td>\n",
       "      <td>unknown</td>\n",
       "      <td>1990</td>\n",
       "      <td>unknown</td>\n",
       "      <td>0</td>\n",
       "      <td>corsa</td>\n",
       "      <td>150000</td>\n",
       "      <td>gasoline</td>\n",
       "      <td>opel</td>\n",
       "      <td>unknown</td>\n",
       "      <td>corsaopel</td>\n",
       "    </tr>\n",
       "    <tr>\n",
       "      <th>111</th>\n",
       "      <td>0</td>\n",
       "      <td>unknown</td>\n",
       "      <td>2017</td>\n",
       "      <td>manual</td>\n",
       "      <td>0</td>\n",
       "      <td>golf</td>\n",
       "      <td>5000</td>\n",
       "      <td>gasoline</td>\n",
       "      <td>volkswagen</td>\n",
       "      <td>unknown</td>\n",
       "      <td>golfvolkswagen</td>\n",
       "    </tr>\n",
       "    <tr>\n",
       "      <th>115</th>\n",
       "      <td>0</td>\n",
       "      <td>small</td>\n",
       "      <td>1999</td>\n",
       "      <td>unknown</td>\n",
       "      <td>0</td>\n",
       "      <td>unknown</td>\n",
       "      <td>5000</td>\n",
       "      <td>gasoline</td>\n",
       "      <td>volkswagen</td>\n",
       "      <td>unknown</td>\n",
       "      <td>unknownvolkswagen</td>\n",
       "    </tr>\n",
       "    <tr>\n",
       "      <th>152</th>\n",
       "      <td>0</td>\n",
       "      <td>bus</td>\n",
       "      <td>2004</td>\n",
       "      <td>manual</td>\n",
       "      <td>101</td>\n",
       "      <td>meriva</td>\n",
       "      <td>150000</td>\n",
       "      <td>lpg</td>\n",
       "      <td>opel</td>\n",
       "      <td>yes</td>\n",
       "      <td>merivaopel</td>\n",
       "    </tr>\n",
       "    <tr>\n",
       "      <th>...</th>\n",
       "      <td>...</td>\n",
       "      <td>...</td>\n",
       "      <td>...</td>\n",
       "      <td>...</td>\n",
       "      <td>...</td>\n",
       "      <td>...</td>\n",
       "      <td>...</td>\n",
       "      <td>...</td>\n",
       "      <td>...</td>\n",
       "      <td>...</td>\n",
       "      <td>...</td>\n",
       "    </tr>\n",
       "    <tr>\n",
       "      <th>354201</th>\n",
       "      <td>0</td>\n",
       "      <td>unknown</td>\n",
       "      <td>2000</td>\n",
       "      <td>manual</td>\n",
       "      <td>65</td>\n",
       "      <td>corsa</td>\n",
       "      <td>150000</td>\n",
       "      <td>unknown</td>\n",
       "      <td>opel</td>\n",
       "      <td>yes</td>\n",
       "      <td>corsaopel</td>\n",
       "    </tr>\n",
       "    <tr>\n",
       "      <th>354234</th>\n",
       "      <td>0</td>\n",
       "      <td>small</td>\n",
       "      <td>2002</td>\n",
       "      <td>manual</td>\n",
       "      <td>60</td>\n",
       "      <td>fiesta</td>\n",
       "      <td>150000</td>\n",
       "      <td>gasoline</td>\n",
       "      <td>ford</td>\n",
       "      <td>unknown</td>\n",
       "      <td>fiestaford</td>\n",
       "    </tr>\n",
       "    <tr>\n",
       "      <th>354244</th>\n",
       "      <td>0</td>\n",
       "      <td>small</td>\n",
       "      <td>1999</td>\n",
       "      <td>manual</td>\n",
       "      <td>53</td>\n",
       "      <td>swift</td>\n",
       "      <td>150000</td>\n",
       "      <td>gasoline</td>\n",
       "      <td>suzuki</td>\n",
       "      <td>unknown</td>\n",
       "      <td>swiftsuzuki</td>\n",
       "    </tr>\n",
       "    <tr>\n",
       "      <th>354273</th>\n",
       "      <td>0</td>\n",
       "      <td>small</td>\n",
       "      <td>1999</td>\n",
       "      <td>manual</td>\n",
       "      <td>37</td>\n",
       "      <td>arosa</td>\n",
       "      <td>150000</td>\n",
       "      <td>gasoline</td>\n",
       "      <td>seat</td>\n",
       "      <td>yes</td>\n",
       "      <td>arosaseat</td>\n",
       "    </tr>\n",
       "    <tr>\n",
       "      <th>354360</th>\n",
       "      <td>0</td>\n",
       "      <td>unknown</td>\n",
       "      <td>2005</td>\n",
       "      <td>manual</td>\n",
       "      <td>0</td>\n",
       "      <td>colt</td>\n",
       "      <td>150000</td>\n",
       "      <td>gasoline</td>\n",
       "      <td>mitsubishi</td>\n",
       "      <td>yes</td>\n",
       "      <td>coltmitsubishi</td>\n",
       "    </tr>\n",
       "  </tbody>\n",
       "</table>\n",
       "<p>10772 rows × 11 columns</p>\n",
       "</div>"
      ],
      "text/plain": [
       "        price vehicle_type  registration_year  gearbox  power    model  \\\n",
       "7           0        sedan               1980   manual     50    other   \n",
       "40          0      unknown               1990  unknown      0    corsa   \n",
       "111         0      unknown               2017   manual      0     golf   \n",
       "115         0        small               1999  unknown      0  unknown   \n",
       "152         0          bus               2004   manual    101   meriva   \n",
       "...       ...          ...                ...      ...    ...      ...   \n",
       "354201      0      unknown               2000   manual     65    corsa   \n",
       "354234      0        small               2002   manual     60   fiesta   \n",
       "354244      0        small               1999   manual     53    swift   \n",
       "354273      0        small               1999   manual     37    arosa   \n",
       "354360      0      unknown               2005   manual      0     colt   \n",
       "\n",
       "        kilometer fuel_type       brand repaired        model_brand  \n",
       "7           40000  gasoline  volkswagen       no    othervolkswagen  \n",
       "40         150000  gasoline        opel  unknown          corsaopel  \n",
       "111          5000  gasoline  volkswagen  unknown     golfvolkswagen  \n",
       "115          5000  gasoline  volkswagen  unknown  unknownvolkswagen  \n",
       "152        150000       lpg        opel      yes         merivaopel  \n",
       "...           ...       ...         ...      ...                ...  \n",
       "354201     150000   unknown        opel      yes          corsaopel  \n",
       "354234     150000  gasoline        ford  unknown         fiestaford  \n",
       "354244     150000  gasoline      suzuki  unknown        swiftsuzuki  \n",
       "354273     150000  gasoline        seat      yes          arosaseat  \n",
       "354360     150000  gasoline  mitsubishi      yes     coltmitsubishi  \n",
       "\n",
       "[10772 rows x 11 columns]"
      ]
     },
     "execution_count": 25,
     "metadata": {},
     "output_type": "execute_result"
    }
   ],
   "source": [
    "autos[(autos['price'] < 1)]"
   ]
  },
  {
   "cell_type": "code",
   "execution_count": 26,
   "metadata": {},
   "outputs": [
    {
     "data": {
      "text/plain": [
       "3865"
      ]
     },
     "execution_count": 26,
     "metadata": {},
     "output_type": "execute_result"
    }
   ],
   "source": [
    "autos[(autos['price'] < 1) & (autos['power'] < 1)]['price'].count()"
   ]
  },
  {
   "cell_type": "markdown",
   "metadata": {},
   "source": [
    "10,7 тыс. строк с нулевой ценой. Цена - таргет, поэтому вычислить новое значение не получится. \n",
    "Из них в 35 % случаев случаев автомобили имеют нулевую мощность.\n",
    "Предположим, что автомобили с ценой 0, еще не были оценены на момент выгрузки данных, т.к. даже при нулевой мощности автомобиля без двигателя, цена автомобиля будет выше 0."
   ]
  },
  {
   "cell_type": "markdown",
   "metadata": {},
   "source": [
    "Удалим 10,7 тыс. строк с нулевой ценой."
   ]
  },
  {
   "cell_type": "code",
   "execution_count": 28,
   "metadata": {},
   "outputs": [],
   "source": [
    "autos = autos[autos['price'] > 0]"
   ]
  },
  {
   "cell_type": "markdown",
   "metadata": {},
   "source": [
    "**`registration_year`** \n"
   ]
  },
  {
   "cell_type": "code",
   "execution_count": 29,
   "metadata": {},
   "outputs": [
    {
     "data": {
      "text/plain": [
       "426"
      ]
     },
     "execution_count": 29,
     "metadata": {},
     "output_type": "execute_result"
    }
   ],
   "source": [
    "(autos.query('registration_year < 1960 or registration_year > 2024')\n",
    " .sort_values(by='registration_year', ascending=False)['price']\n",
    " .count())"
   ]
  },
  {
   "cell_type": "markdown",
   "metadata": {},
   "source": [
    "349(0,1%) из 354 тысяч строк содержат некорректный год регистрации автомобиля. Удалим эти строки."
   ]
  },
  {
   "cell_type": "code",
   "execution_count": 30,
   "metadata": {},
   "outputs": [],
   "source": [
    "autos = autos.query('registration_year >= 1960')\n",
    "autos = autos.query('registration_year < 2025')"
   ]
  },
  {
   "cell_type": "markdown",
   "metadata": {},
   "source": [
    "**`power`**"
   ]
  },
  {
   "cell_type": "code",
   "execution_count": 31,
   "metadata": {},
   "outputs": [
    {
     "data": {
      "text/plain": [
       "36440"
      ]
     },
     "execution_count": 31,
     "metadata": {},
     "output_type": "execute_result"
    }
   ],
   "source": [
    "(autos.query('power < 10 or power > 2000')\n",
    " .sort_values(by='power', ascending=False)['price']\n",
    " .count())"
   ]
  },
  {
   "cell_type": "markdown",
   "metadata": {},
   "source": [
    "35 тыс. (10%) из 354 тысяч строк содержат информацию о нереалистичном количестве л.с (менее 10 и более 2 тыс.).\n",
    "\n",
    "Заменим аномалии медианным значением по связке модель-бренд. "
   ]
  },
  {
   "cell_type": "code",
   "execution_count": 32,
   "metadata": {},
   "outputs": [],
   "source": [
    "aux_tab = (autos\n",
    " .groupby('model_brand')\n",
    " .agg(median_power=('power', 'median'))\n",
    " .reset_index())"
   ]
  },
  {
   "cell_type": "code",
   "execution_count": 33,
   "metadata": {},
   "outputs": [],
   "source": [
    "for n in aux_tab[aux_tab['median_power'].isna() == False]['model_brand'].unique():\n",
    "    autos.loc[(autos['model_brand'] == n) & ((autos['power'] > 2000) | (autos['power'] < 10)), 'power'] = \\\n",
    "    aux_tab.loc[(aux_tab['model_brand'] == n), 'median_power'].values[0]\n",
    "    "
   ]
  },
  {
   "cell_type": "markdown",
   "metadata": {},
   "source": [
    "**`Kilometer`**\n",
    "\n",
    "Значения для признака — пробег, распределены реалистично: от 5 до 150 тыс. км."
   ]
  },
  {
   "cell_type": "markdown",
   "metadata": {},
   "source": [
    "**Матрица корреляции $\\phi_K$**"
   ]
  },
  {
   "cell_type": "code",
   "execution_count": 34,
   "metadata": {},
   "outputs": [
    {
     "data": {
      "image/png": "[encoded data removed]",
      "text/plain": [
       "<Figure size 1080x504 with 2 Axes>"
      ]
     },
     "metadata": {
      "needs_background": "light"
     },
     "output_type": "display_data"
    }
   ],
   "source": [
    "df_corr = autos.phik_matrix(interval_cols=['price', 'registration_year', 'power', 'kilometer'])\n",
    "\n",
    "plot_correlation_matrix(\n",
    "    df_corr.values,\n",
    "    x_labels=df_corr.columns,\n",
    "    y_labels=df_corr.index,\n",
    "    vmin=0, vmax=1, color_map='Greens',\n",
    "    title=r'correlation $\\phi_K$',\n",
    "    fontsize_factor=1.2,\n",
    "    figsize=(15, 7)\n",
    ") \n",
    "    "
   ]
  },
  {
   "cell_type": "markdown",
   "metadata": {},
   "source": [
    "Мультиколлинеарность между входными признаками: `model` - `brand`, коэффициент корреляции - 1.\n",
    "\n",
    "Удалим признаки и оставим объединенный признак для устранения мультиколлинеарности."
   ]
  },
  {
   "cell_type": "code",
   "execution_count": 35,
   "metadata": {},
   "outputs": [],
   "source": [
    "autos = autos.drop(['brand', 'model'], axis=1)"
   ]
  },
  {
   "cell_type": "code",
   "execution_count": 36,
   "metadata": {},
   "outputs": [
    {
     "data": {
      "image/png": "[encoded data removed]",
      "text/plain": [
       "<Figure size 1080x504 with 2 Axes>"
      ]
     },
     "metadata": {
      "needs_background": "light"
     },
     "output_type": "display_data"
    }
   ],
   "source": [
    "df_corr = autos.phik_matrix(interval_cols=['price', 'registration_year', 'power', 'kilometer'])\n",
    "\n",
    "plot_correlation_matrix(\n",
    "    df_corr.values,\n",
    "    x_labels=df_corr.columns,\n",
    "    y_labels=df_corr.index,\n",
    "    vmin=0, vmax=1, color_map='Greens',\n",
    "    title=r'correlation $\\phi_K$',\n",
    "    fontsize_factor=1.2,\n",
    "    figsize=(15, 7)\n",
    ") \n",
    "    "
   ]
  },
  {
   "cell_type": "markdown",
   "metadata": {},
   "source": [
    "#### Промежуточный вывод\n",
    "\n",
    "После записи датасета в переменную `autos` и первичного знакомства с данными видим, что данные в таблицах соответствуют описанию. \n",
    "\n",
    "\n",
    "- Наименования столбцов приведены к \"змеиному\" регистру.\n",
    "- Удалены полные дубликаты строк: 4.\n",
    "- Обработан 1 неявный дубликат.\n",
    "- Для экономии памяти тип данных в столбце скорректирован с int64 до int32.\n",
    "- Удалены признаки, которые не содержат характеристики автомобиля и комплектации, а являются параметрами анкеты: 'date_crawled', 'date_created', 'number_of_pictures','postal_code', 'last_seen', 'registration_month'. \n",
    "- Пропуски в категориальных признаках `vehicle_type` `gearbox`, `model`, `fuel_type`, `repaired` заполнены значением \"unknown\". \n",
    "- 10,7 тыс. строк с нулевой ценой. Был построен 93 % доверительный интервал и отброшены 3,5 % наибольших и 3,5 % наименьших значений (удалено 25 тыс. строк (около 2%)).\n",
    "- удалены строки с некорректным годом регистрации автомобиля: 349(0,1%).\n",
    "- аномальные значения мощности автомобиля - 35 тыс. (10%): заменены медианным значением по связке модель-бренд.\n",
    "- Значения признака — пробег, распределены реалистично: от 5 до 150 тыс. км.\n",
    "- Для устранения мультиколлинеарности между входными признаками, имеющими коэффициент корреляции - 1 создан объединенный признак model - brand.\n",
    "\n",
    "\n",
    "\n"
   ]
  },
  {
   "cell_type": "markdown",
   "metadata": {},
   "source": [
    "## Обучение моделей"
   ]
  },
  {
   "cell_type": "markdown",
   "metadata": {},
   "source": [
    "Разделение данных на тренировочную и тестовую выборки:"
   ]
  },
  {
   "cell_type": "code",
   "execution_count": 37,
   "metadata": {},
   "outputs": [],
   "source": [
    "def prepare_data(df):\n",
    "\n",
    "    X = df.drop(['price'], axis=1)\n",
    "    y = df['price']\n",
    "\n",
    "    X_train, X_test, y_train, y_test = train_test_split(X, y, \\\n",
    "    test_size=0.25, \\\n",
    "    random_state=RANDOM_STATE)\n",
    "    \n",
    "    display(f'X_train: {X_train.shape}', \n",
    "            f'X_test: {X_test.shape}',\n",
    "            f'y_train: {y_train.shape}', \n",
    "            f'y_test: {y_test.shape}' )\n",
    "\n",
    "    return X_train, X_test, y_train, y_test"
   ]
  },
  {
   "cell_type": "code",
   "execution_count": 38,
   "metadata": {},
   "outputs": [
    {
     "data": {
      "text/plain": [
       "'X_train: (257375, 8)'"
      ]
     },
     "metadata": {},
     "output_type": "display_data"
    },
    {
     "data": {
      "text/plain": [
       "'X_test: (85792, 8)'"
      ]
     },
     "metadata": {},
     "output_type": "display_data"
    },
    {
     "data": {
      "text/plain": [
       "'y_train: (257375,)'"
      ]
     },
     "metadata": {},
     "output_type": "display_data"
    },
    {
     "data": {
      "text/plain": [
       "'y_test: (85792,)'"
      ]
     },
     "metadata": {},
     "output_type": "display_data"
    }
   ],
   "source": [
    "X_train, X_test, y_train, y_test = prepare_data(autos)"
   ]
  },
  {
   "cell_type": "markdown",
   "metadata": {},
   "source": [
    "Для обучения модели LightGBM скорректируем тип данных для категориальных признаков на 'category'."
   ]
  },
  {
   "cell_type": "code",
   "execution_count": 39,
   "metadata": {},
   "outputs": [],
   "source": [
    "X_train_cat, X_test_cat = X_train, X_test"
   ]
  },
  {
   "cell_type": "code",
   "execution_count": 40,
   "metadata": {},
   "outputs": [],
   "source": [
    "for col in autos.select_dtypes(exclude='number').columns.tolist():\n",
    "    X_train_cat[col] = X_train_cat[col].astype('category')\n",
    "    X_test_cat[col] = X_test_cat[col].astype('category')"
   ]
  },
  {
   "cell_type": "markdown",
   "metadata": {},
   "source": [
    "**`LightGBM`**"
   ]
  },
  {
   "cell_type": "code",
   "execution_count": 41,
   "metadata": {},
   "outputs": [],
   "source": [
    "params = [{\n",
    "    'max_depth': range(4,9),\n",
    "    'learning_rate': [0.05, 0.1, 0.3, 0.4],\n",
    "    'num_leaves': range(20, 100, 10)}]"
   ]
  },
  {
   "cell_type": "code",
   "execution_count": 42,
   "metadata": {},
   "outputs": [
    {
     "name": "stdout",
     "output_type": "stream",
     "text": [
      "Fitting 5 folds for each of 10 candidates, totalling 50 fits\n",
      "CPU times: user 3min 56s, sys: 1.11 s, total: 3min 58s\n",
      "Wall time: 3min 58s\n"
     ]
    }
   ],
   "source": [
    "%%time\n",
    "start = time.time()\n",
    "\n",
    "model_lgb = LGBMRegressor() \n",
    "\n",
    "rs_lgb = RandomizedSearchCV(model_lgb, \n",
    "    params, \n",
    "    cv=5,\n",
    "    scoring='neg_root_mean_squared_error',\n",
    "    random_state=RANDOM_STATE,\n",
    "    n_jobs=-1,\n",
    "    n_iter=10,\n",
    "    verbose=1\n",
    ")\n",
    "\n",
    "rs_lgb.fit(X_train_cat, y_train)\n",
    "\n",
    "time_value = (time.time() - start)\n"
   ]
  },
  {
   "cell_type": "code",
   "execution_count": 43,
   "metadata": {},
   "outputs": [],
   "source": [
    "def func_pred(rs):\n",
    "\n",
    "    best_param_value = rs.best_params_\n",
    "    best_score_value = rs.best_score_ * (-1)\n",
    "\n",
    "    mean_fit_time = pd.DataFrame(rs.cv_results_).sort_values(by='rank_test_score').head(1)['mean_fit_time'].values[0] # время обучения\n",
    "    mean_score_time = pd.DataFrame(rs.cv_results_).sort_values(by='rank_test_score').head(1)['mean_score_time'].values[0] # скорость предсказания\n",
    "    \n",
    "    return best_param_value, best_score_value, mean_fit_time, mean_score_time"
   ]
  },
  {
   "cell_type": "code",
   "execution_count": 44,
   "metadata": {},
   "outputs": [
    {
     "data": {
      "text/html": [
       "<div>\n",
       "<style scoped>\n",
       "    .dataframe tbody tr th:only-of-type {\n",
       "        vertical-align: middle;\n",
       "    }\n",
       "\n",
       "    .dataframe tbody tr th {\n",
       "        vertical-align: top;\n",
       "    }\n",
       "\n",
       "    .dataframe thead th {\n",
       "        text-align: right;\n",
       "    }\n",
       "</style>\n",
       "<table border=\"1\" class=\"dataframe\">\n",
       "  <thead>\n",
       "    <tr style=\"text-align: right;\">\n",
       "      <th></th>\n",
       "      <th>Модель</th>\n",
       "      <th>Общее время обучения на кросс-валидации</th>\n",
       "      <th>Лучшие параметры на кросс-валидации</th>\n",
       "      <th>RMSE на кросс-валидации</th>\n",
       "      <th>Среднее время обучения на кросс-валидации</th>\n",
       "      <th>Время предсказания</th>\n",
       "    </tr>\n",
       "  </thead>\n",
       "  <tbody>\n",
       "    <tr>\n",
       "      <th>0</th>\n",
       "      <td>LightGBM</td>\n",
       "      <td>238.394088</td>\n",
       "      <td>{'num_leaves': 60, 'max_depth': 7, 'learning_rate': 0.3}</td>\n",
       "      <td>1659.717632</td>\n",
       "      <td>4.799042</td>\n",
       "      <td>0.581417</td>\n",
       "    </tr>\n",
       "  </tbody>\n",
       "</table>\n",
       "</div>"
      ],
      "text/plain": [
       "     Модель  Общее время обучения на кросс-валидации  \\\n",
       "0  LightGBM                               238.394088   \n",
       "\n",
       "                        Лучшие параметры на кросс-валидации  \\\n",
       "0  {'num_leaves': 60, 'max_depth': 7, 'learning_rate': 0.3}   \n",
       "\n",
       "   RMSE на кросс-валидации  Среднее время обучения на кросс-валидации  \\\n",
       "0              1659.717632                                   4.799042   \n",
       "\n",
       "   Время предсказания   \n",
       "0             0.581417  "
      ]
     },
     "execution_count": 44,
     "metadata": {},
     "output_type": "execute_result"
    }
   ],
   "source": [
    "best_param_value, best_score_value, mean_fit_time, mean_score_time = func_pred(rs_lgb)\n",
    "\n",
    "df_table = pd.DataFrame({'Модель': ['LightGBM'], \n",
    "                         'Общее время обучения на кросс-валидации': time_value, \n",
    "                         'Лучшие параметры на кросс-валидации': [best_param_value], \n",
    "                         'RMSE на кросс-валидации': best_score_value, \n",
    "                         'Среднее время обучения на кросс-валидации': mean_fit_time,                          \n",
    "                         'Время предсказания ': mean_score_time})\n",
    "\n",
    "pd.set_option('display.max_colwidth', None)\n",
    "df_table"
   ]
  },
  {
   "cell_type": "markdown",
   "metadata": {},
   "source": [
    "**`CatBoost`**"
   ]
  },
  {
   "cell_type": "code",
   "execution_count": 45,
   "metadata": {},
   "outputs": [],
   "source": [
    "params = [{'learning_rate': [0.05, 0.1, 0.3, 0.4],\n",
    "           'iterations' : range(50, 100, 5),\n",
    "           'max_depth': range(4,9)}]"
   ]
  },
  {
   "cell_type": "code",
   "execution_count": 46,
   "metadata": {},
   "outputs": [
    {
     "name": "stdout",
     "output_type": "stream",
     "text": [
      "Fitting 5 folds for each of 10 candidates, totalling 50 fits\n",
      "0:\tlearn: 3578.6794191\ttotal: 133ms\tremaining: 9.15s\n",
      "1:\tlearn: 3055.9570325\ttotal: 199ms\tremaining: 6.76s\n",
      "2:\tlearn: 2721.6545851\ttotal: 253ms\tremaining: 5.64s\n",
      "3:\tlearn: 2540.7893803\ttotal: 309ms\tremaining: 5.09s\n",
      "4:\tlearn: 2419.6556576\ttotal: 376ms\tremaining: 4.88s\n",
      "5:\tlearn: 2323.6700579\ttotal: 428ms\tremaining: 4.56s\n",
      "6:\tlearn: 2271.0035000\ttotal: 476ms\tremaining: 4.29s\n",
      "7:\tlearn: 2235.5547560\ttotal: 529ms\tremaining: 4.1s\n",
      "8:\tlearn: 2213.9752694\ttotal: 586ms\tremaining: 3.97s\n",
      "9:\tlearn: 2178.8409882\ttotal: 638ms\tremaining: 3.83s\n",
      "10:\tlearn: 2153.6476169\ttotal: 694ms\tremaining: 3.72s\n",
      "11:\tlearn: 2128.9515465\ttotal: 746ms\tremaining: 3.61s\n",
      "12:\tlearn: 2111.0886139\ttotal: 800ms\tremaining: 3.51s\n",
      "13:\tlearn: 2102.3149145\ttotal: 854ms\tremaining: 3.42s\n",
      "14:\tlearn: 2088.0663292\ttotal: 908ms\tremaining: 3.33s\n",
      "15:\tlearn: 2071.8904244\ttotal: 958ms\tremaining: 3.23s\n",
      "16:\tlearn: 2059.8041947\ttotal: 1.01s\tremaining: 3.15s\n",
      "17:\tlearn: 2051.7722861\ttotal: 1.06s\tremaining: 3.08s\n",
      "18:\tlearn: 2040.8848446\ttotal: 1.12s\tremaining: 3s\n",
      "19:\tlearn: 2032.4079677\ttotal: 1.17s\tremaining: 2.92s\n",
      "20:\tlearn: 2026.1292409\ttotal: 1.22s\tremaining: 2.85s\n",
      "21:\tlearn: 2022.7544359\ttotal: 1.27s\tremaining: 2.78s\n",
      "22:\tlearn: 2015.3485746\ttotal: 1.32s\tremaining: 2.71s\n",
      "23:\tlearn: 2008.7157463\ttotal: 1.38s\tremaining: 2.65s\n",
      "24:\tlearn: 2003.5935613\ttotal: 1.43s\tremaining: 2.58s\n",
      "25:\tlearn: 2000.6179470\ttotal: 1.49s\tremaining: 2.51s\n",
      "26:\tlearn: 1994.9194649\ttotal: 1.54s\tremaining: 2.45s\n",
      "27:\tlearn: 1989.9434283\ttotal: 1.59s\tremaining: 2.38s\n",
      "28:\tlearn: 1985.5069165\ttotal: 1.65s\tremaining: 2.33s\n",
      "29:\tlearn: 1982.4599179\ttotal: 1.7s\tremaining: 2.26s\n",
      "30:\tlearn: 1978.3135165\ttotal: 1.75s\tremaining: 2.2s\n",
      "31:\tlearn: 1975.0969467\ttotal: 1.8s\tremaining: 2.14s\n",
      "32:\tlearn: 1967.7123126\ttotal: 1.85s\tremaining: 2.08s\n",
      "33:\tlearn: 1965.2462597\ttotal: 1.91s\tremaining: 2.02s\n",
      "34:\tlearn: 1959.3472427\ttotal: 1.96s\tremaining: 1.96s\n",
      "35:\tlearn: 1956.6411038\ttotal: 2.01s\tremaining: 1.9s\n",
      "36:\tlearn: 1954.5859183\ttotal: 2.07s\tremaining: 1.84s\n",
      "37:\tlearn: 1950.4648236\ttotal: 2.12s\tremaining: 1.78s\n",
      "38:\tlearn: 1948.7714048\ttotal: 2.17s\tremaining: 1.73s\n",
      "39:\tlearn: 1945.7713032\ttotal: 2.22s\tremaining: 1.67s\n",
      "40:\tlearn: 1943.1346517\ttotal: 2.28s\tremaining: 1.61s\n",
      "41:\tlearn: 1940.6660419\ttotal: 2.33s\tremaining: 1.55s\n",
      "42:\tlearn: 1938.9107109\ttotal: 2.39s\tremaining: 1.5s\n",
      "43:\tlearn: 1936.7654579\ttotal: 2.44s\tremaining: 1.44s\n",
      "44:\tlearn: 1933.3372659\ttotal: 2.49s\tremaining: 1.39s\n",
      "45:\tlearn: 1930.4298180\ttotal: 2.55s\tremaining: 1.33s\n",
      "46:\tlearn: 1927.9566426\ttotal: 2.6s\tremaining: 1.27s\n",
      "47:\tlearn: 1925.7331128\ttotal: 2.65s\tremaining: 1.22s\n",
      "48:\tlearn: 1923.2568337\ttotal: 2.71s\tremaining: 1.16s\n",
      "49:\tlearn: 1922.3905678\ttotal: 2.77s\tremaining: 1.11s\n",
      "50:\tlearn: 1920.4814709\ttotal: 2.81s\tremaining: 1.05s\n",
      "51:\tlearn: 1918.8523486\ttotal: 2.87s\tremaining: 993ms\n",
      "52:\tlearn: 1916.5389875\ttotal: 2.92s\tremaining: 937ms\n",
      "53:\tlearn: 1915.1642298\ttotal: 2.97s\tremaining: 881ms\n",
      "54:\tlearn: 1912.7530668\ttotal: 3.02s\tremaining: 825ms\n",
      "55:\tlearn: 1910.9375018\ttotal: 3.08s\tremaining: 770ms\n",
      "56:\tlearn: 1909.2928873\ttotal: 3.13s\tremaining: 714ms\n",
      "57:\tlearn: 1907.9032763\ttotal: 3.19s\tremaining: 660ms\n",
      "58:\tlearn: 1905.8211590\ttotal: 3.24s\tremaining: 605ms\n",
      "59:\tlearn: 1904.5499409\ttotal: 3.3s\tremaining: 549ms\n",
      "60:\tlearn: 1902.1820418\ttotal: 3.35s\tremaining: 495ms\n",
      "61:\tlearn: 1900.9147101\ttotal: 3.43s\tremaining: 442ms\n",
      "62:\tlearn: 1899.8136257\ttotal: 3.48s\tremaining: 387ms\n",
      "63:\tlearn: 1897.3993083\ttotal: 3.54s\tremaining: 332ms\n",
      "64:\tlearn: 1896.2696535\ttotal: 3.59s\tremaining: 276ms\n",
      "65:\tlearn: 1895.0870702\ttotal: 3.65s\tremaining: 221ms\n",
      "66:\tlearn: 1892.7061554\ttotal: 3.7s\tremaining: 166ms\n",
      "67:\tlearn: 1889.8554157\ttotal: 3.75s\tremaining: 110ms\n",
      "68:\tlearn: 1888.1166147\ttotal: 3.8s\tremaining: 55.1ms\n",
      "69:\tlearn: 1886.6191741\ttotal: 3.86s\tremaining: 0us\n",
      "0:\tlearn: 3583.2744261\ttotal: 69.1ms\tremaining: 4.77s\n",
      "1:\tlearn: 3056.7798002\ttotal: 130ms\tremaining: 4.42s\n",
      "2:\tlearn: 2723.4645356\ttotal: 182ms\tremaining: 4.06s\n",
      "3:\tlearn: 2543.2709435\ttotal: 237ms\tremaining: 3.92s\n",
      "4:\tlearn: 2424.0524905\ttotal: 302ms\tremaining: 3.92s\n",
      "5:\tlearn: 2330.4563537\ttotal: 356ms\tremaining: 3.8s\n",
      "6:\tlearn: 2276.8093763\ttotal: 406ms\tremaining: 3.66s\n",
      "7:\tlearn: 2240.8949757\ttotal: 458ms\tremaining: 3.55s\n",
      "8:\tlearn: 2219.8929513\ttotal: 513ms\tremaining: 3.48s\n",
      "9:\tlearn: 2185.3646273\ttotal: 563ms\tremaining: 3.38s\n",
      "10:\tlearn: 2160.6136102\ttotal: 616ms\tremaining: 3.3s\n",
      "11:\tlearn: 2136.7665988\ttotal: 668ms\tremaining: 3.23s\n",
      "12:\tlearn: 2116.4793034\ttotal: 719ms\tremaining: 3.15s\n",
      "13:\tlearn: 2105.9490443\ttotal: 771ms\tremaining: 3.08s\n",
      "14:\tlearn: 2087.6193455\ttotal: 822ms\tremaining: 3.01s\n",
      "15:\tlearn: 2076.5903037\ttotal: 876ms\tremaining: 2.96s\n",
      "16:\tlearn: 2069.3071669\ttotal: 930ms\tremaining: 2.9s\n",
      "17:\tlearn: 2058.9988149\ttotal: 988ms\tremaining: 2.85s\n",
      "18:\tlearn: 2050.9654888\ttotal: 1.04s\tremaining: 2.79s\n",
      "19:\tlearn: 2038.6865109\ttotal: 1.09s\tremaining: 2.72s\n",
      "20:\tlearn: 2032.8045291\ttotal: 1.14s\tremaining: 2.66s\n",
      "21:\tlearn: 2027.7907632\ttotal: 1.19s\tremaining: 2.6s\n",
      "22:\tlearn: 2023.9306044\ttotal: 1.25s\tremaining: 2.54s\n",
      "23:\tlearn: 2019.5983797\ttotal: 1.3s\tremaining: 2.49s\n",
      "24:\tlearn: 2011.9230247\ttotal: 1.35s\tremaining: 2.43s\n",
      "25:\tlearn: 2006.2909836\ttotal: 1.4s\tremaining: 2.37s\n",
      "26:\tlearn: 2003.6539454\ttotal: 1.45s\tremaining: 2.32s\n",
      "27:\tlearn: 1998.2201829\ttotal: 1.51s\tremaining: 2.26s\n",
      "28:\tlearn: 1992.3436500\ttotal: 1.56s\tremaining: 2.21s\n",
      "29:\tlearn: 1989.0487768\ttotal: 1.62s\tremaining: 2.15s\n",
      "30:\tlearn: 1983.4949991\ttotal: 1.67s\tremaining: 2.1s\n",
      "31:\tlearn: 1980.2209220\ttotal: 1.71s\tremaining: 2.04s\n",
      "32:\tlearn: 1976.1840497\ttotal: 1.76s\tremaining: 1.98s\n",
      "33:\tlearn: 1972.6395005\ttotal: 1.81s\tremaining: 1.92s\n",
      "34:\tlearn: 1969.7850779\ttotal: 1.87s\tremaining: 1.87s\n",
      "35:\tlearn: 1967.5640615\ttotal: 1.92s\tremaining: 1.81s\n",
      "36:\tlearn: 1965.5244712\ttotal: 1.97s\tremaining: 1.76s\n",
      "37:\tlearn: 1962.5858394\ttotal: 2.02s\tremaining: 1.7s\n",
      "38:\tlearn: 1958.9635489\ttotal: 2.08s\tremaining: 1.66s\n",
      "39:\tlearn: 1957.2112852\ttotal: 2.14s\tremaining: 1.6s\n",
      "40:\tlearn: 1954.1674750\ttotal: 2.19s\tremaining: 1.55s\n",
      "41:\tlearn: 1951.1823722\ttotal: 2.24s\tremaining: 1.49s\n",
      "42:\tlearn: 1948.9678760\ttotal: 2.29s\tremaining: 1.44s\n",
      "43:\tlearn: 1946.2046420\ttotal: 2.35s\tremaining: 1.39s\n",
      "44:\tlearn: 1943.3918089\ttotal: 2.39s\tremaining: 1.33s\n",
      "45:\tlearn: 1940.9312600\ttotal: 2.45s\tremaining: 1.28s\n",
      "46:\tlearn: 1939.3742681\ttotal: 2.5s\tremaining: 1.23s\n",
      "47:\tlearn: 1936.6934547\ttotal: 2.56s\tremaining: 1.17s\n",
      "48:\tlearn: 1935.6904916\ttotal: 2.61s\tremaining: 1.12s\n",
      "49:\tlearn: 1934.1291058\ttotal: 2.66s\tremaining: 1.06s\n",
      "50:\tlearn: 1929.2496692\ttotal: 2.71s\tremaining: 1.01s\n",
      "51:\tlearn: 1925.6128562\ttotal: 2.76s\tremaining: 956ms\n",
      "52:\tlearn: 1923.9717968\ttotal: 2.81s\tremaining: 902ms\n",
      "53:\tlearn: 1921.2837189\ttotal: 2.86s\tremaining: 849ms\n",
      "54:\tlearn: 1919.3186076\ttotal: 2.91s\tremaining: 795ms\n",
      "55:\tlearn: 1918.1295758\ttotal: 2.96s\tremaining: 741ms\n",
      "56:\tlearn: 1916.5350101\ttotal: 3.02s\tremaining: 688ms\n",
      "57:\tlearn: 1914.5236767\ttotal: 3.07s\tremaining: 635ms\n",
      "58:\tlearn: 1912.6013823\ttotal: 3.12s\tremaining: 583ms\n",
      "59:\tlearn: 1911.4020660\ttotal: 3.18s\tremaining: 529ms\n",
      "60:\tlearn: 1909.5534416\ttotal: 3.23s\tremaining: 476ms\n",
      "61:\tlearn: 1908.8652398\ttotal: 3.28s\tremaining: 423ms\n",
      "62:\tlearn: 1906.0933274\ttotal: 3.33s\tremaining: 370ms\n",
      "63:\tlearn: 1903.6627758\ttotal: 3.37s\tremaining: 316ms\n",
      "64:\tlearn: 1901.9226340\ttotal: 3.42s\tremaining: 263ms\n",
      "65:\tlearn: 1898.3503472\ttotal: 3.47s\tremaining: 210ms\n",
      "66:\tlearn: 1897.0513982\ttotal: 3.53s\tremaining: 158ms\n",
      "67:\tlearn: 1895.7545070\ttotal: 3.58s\tremaining: 105ms\n",
      "68:\tlearn: 1894.9461961\ttotal: 3.63s\tremaining: 52.6ms\n",
      "69:\tlearn: 1893.3514728\ttotal: 3.68s\tremaining: 0us\n",
      "0:\tlearn: 3587.0581557\ttotal: 69.2ms\tremaining: 4.77s\n",
      "1:\tlearn: 3061.3194458\ttotal: 131ms\tremaining: 4.46s\n",
      "2:\tlearn: 2727.6926663\ttotal: 183ms\tremaining: 4.09s\n",
      "3:\tlearn: 2547.0776821\ttotal: 237ms\tremaining: 3.9s\n",
      "4:\tlearn: 2425.6443500\ttotal: 295ms\tremaining: 3.84s\n",
      "5:\tlearn: 2328.2473052\ttotal: 351ms\tremaining: 3.74s\n",
      "6:\tlearn: 2274.9172564\ttotal: 413ms\tremaining: 3.71s\n",
      "7:\tlearn: 2244.7942510\ttotal: 467ms\tremaining: 3.62s\n",
      "8:\tlearn: 2204.5308284\ttotal: 517ms\tremaining: 3.51s\n",
      "9:\tlearn: 2183.4633765\ttotal: 570ms\tremaining: 3.42s\n",
      "10:\tlearn: 2163.9677747\ttotal: 625ms\tremaining: 3.35s\n",
      "11:\tlearn: 2135.7296079\ttotal: 676ms\tremaining: 3.27s\n",
      "12:\tlearn: 2117.5601501\ttotal: 732ms\tremaining: 3.21s\n",
      "13:\tlearn: 2103.4707034\ttotal: 782ms\tremaining: 3.13s\n",
      "14:\tlearn: 2092.2219523\ttotal: 840ms\tremaining: 3.08s\n",
      "15:\tlearn: 2082.1566204\ttotal: 896ms\tremaining: 3.02s\n",
      "16:\tlearn: 2067.2435172\ttotal: 946ms\tremaining: 2.95s\n",
      "17:\tlearn: 2055.9717852\ttotal: 997ms\tremaining: 2.88s\n",
      "18:\tlearn: 2047.1030244\ttotal: 1.05s\tremaining: 2.81s\n",
      "19:\tlearn: 2037.5367356\ttotal: 1.1s\tremaining: 2.74s\n",
      "20:\tlearn: 2029.5784209\ttotal: 1.15s\tremaining: 2.67s\n",
      "21:\tlearn: 2024.5276387\ttotal: 1.2s\tremaining: 2.62s\n",
      "22:\tlearn: 2021.2989481\ttotal: 1.25s\tremaining: 2.56s\n",
      "23:\tlearn: 2017.3330161\ttotal: 1.31s\tremaining: 2.5s\n",
      "24:\tlearn: 2012.4296740\ttotal: 1.36s\tremaining: 2.45s\n",
      "25:\tlearn: 2006.5483923\ttotal: 1.41s\tremaining: 2.39s\n",
      "26:\tlearn: 2001.0468245\ttotal: 1.46s\tremaining: 2.33s\n",
      "27:\tlearn: 1994.1805006\ttotal: 1.51s\tremaining: 2.26s\n",
      "28:\tlearn: 1990.4941048\ttotal: 1.56s\tremaining: 2.21s\n",
      "29:\tlearn: 1985.6093515\ttotal: 1.61s\tremaining: 2.15s\n",
      "30:\tlearn: 1981.9856328\ttotal: 1.67s\tremaining: 2.1s\n",
      "31:\tlearn: 1979.2586867\ttotal: 1.72s\tremaining: 2.04s\n",
      "32:\tlearn: 1975.5678597\ttotal: 1.77s\tremaining: 1.99s\n",
      "33:\tlearn: 1972.9092386\ttotal: 1.82s\tremaining: 1.93s\n",
      "34:\tlearn: 1969.1012722\ttotal: 1.88s\tremaining: 1.88s\n",
      "35:\tlearn: 1963.9443048\ttotal: 1.92s\tremaining: 1.82s\n",
      "36:\tlearn: 1958.4595740\ttotal: 1.98s\tremaining: 1.76s\n",
      "37:\tlearn: 1956.7014987\ttotal: 2.03s\tremaining: 1.71s\n",
      "38:\tlearn: 1953.4701370\ttotal: 2.08s\tremaining: 1.66s\n",
      "39:\tlearn: 1951.1773494\ttotal: 2.13s\tremaining: 1.6s\n",
      "40:\tlearn: 1948.9483547\ttotal: 2.19s\tremaining: 1.54s\n",
      "41:\tlearn: 1946.4392310\ttotal: 2.24s\tremaining: 1.49s\n",
      "42:\tlearn: 1943.4961191\ttotal: 2.29s\tremaining: 1.44s\n",
      "43:\tlearn: 1939.0705762\ttotal: 2.34s\tremaining: 1.38s\n",
      "44:\tlearn: 1935.1688814\ttotal: 2.39s\tremaining: 1.33s\n",
      "45:\tlearn: 1932.9788549\ttotal: 2.44s\tremaining: 1.27s\n",
      "46:\tlearn: 1930.4401827\ttotal: 2.49s\tremaining: 1.22s\n",
      "47:\tlearn: 1928.7271516\ttotal: 2.54s\tremaining: 1.17s\n",
      "48:\tlearn: 1927.1753069\ttotal: 2.59s\tremaining: 1.11s\n",
      "49:\tlearn: 1925.7635475\ttotal: 2.65s\tremaining: 1.06s\n",
      "50:\tlearn: 1923.2355343\ttotal: 2.7s\tremaining: 1s\n",
      "51:\tlearn: 1920.4585446\ttotal: 2.75s\tremaining: 952ms\n",
      "52:\tlearn: 1918.6720374\ttotal: 2.8s\tremaining: 898ms\n",
      "53:\tlearn: 1915.8049915\ttotal: 2.85s\tremaining: 845ms\n",
      "54:\tlearn: 1914.2177112\ttotal: 2.91s\tremaining: 793ms\n",
      "55:\tlearn: 1913.2676536\ttotal: 2.96s\tremaining: 740ms\n",
      "56:\tlearn: 1911.5894179\ttotal: 3.01s\tremaining: 687ms\n",
      "57:\tlearn: 1909.0372890\ttotal: 3.06s\tremaining: 634ms\n",
      "58:\tlearn: 1906.7054723\ttotal: 3.12s\tremaining: 581ms\n",
      "59:\tlearn: 1904.7310390\ttotal: 3.17s\tremaining: 528ms\n",
      "60:\tlearn: 1902.9341952\ttotal: 3.22s\tremaining: 475ms\n",
      "61:\tlearn: 1901.6852635\ttotal: 3.27s\tremaining: 422ms\n",
      "62:\tlearn: 1900.1546565\ttotal: 3.33s\tremaining: 370ms\n",
      "63:\tlearn: 1898.7445008\ttotal: 3.38s\tremaining: 317ms\n",
      "64:\tlearn: 1897.3150418\ttotal: 3.43s\tremaining: 264ms\n",
      "65:\tlearn: 1895.1258032\ttotal: 3.49s\tremaining: 211ms\n",
      "66:\tlearn: 1893.4229868\ttotal: 3.54s\tremaining: 159ms\n",
      "67:\tlearn: 1891.8698941\ttotal: 3.59s\tremaining: 106ms\n",
      "68:\tlearn: 1890.3583651\ttotal: 3.64s\tremaining: 52.8ms\n",
      "69:\tlearn: 1888.8738740\ttotal: 3.7s\tremaining: 0us\n",
      "0:\tlearn: 3575.2672697\ttotal: 68.2ms\tremaining: 4.71s\n",
      "1:\tlearn: 3056.3517087\ttotal: 128ms\tremaining: 4.36s\n",
      "2:\tlearn: 2726.1651880\ttotal: 181ms\tremaining: 4.03s\n",
      "3:\tlearn: 2547.4065508\ttotal: 238ms\tremaining: 3.92s\n",
      "4:\tlearn: 2405.3051264\ttotal: 300ms\tremaining: 3.89s\n",
      "5:\tlearn: 2324.2554110\ttotal: 350ms\tremaining: 3.73s\n",
      "6:\tlearn: 2275.4239931\ttotal: 404ms\tremaining: 3.64s\n",
      "7:\tlearn: 2242.2792626\ttotal: 458ms\tremaining: 3.54s\n",
      "8:\tlearn: 2209.6366187\ttotal: 511ms\tremaining: 3.47s\n",
      "9:\tlearn: 2179.2780773\ttotal: 564ms\tremaining: 3.38s\n",
      "10:\tlearn: 2163.0542628\ttotal: 617ms\tremaining: 3.31s\n",
      "11:\tlearn: 2129.8994366\ttotal: 666ms\tremaining: 3.22s\n",
      "12:\tlearn: 2117.7763669\ttotal: 715ms\tremaining: 3.13s\n",
      "13:\tlearn: 2108.6666787\ttotal: 769ms\tremaining: 3.07s\n",
      "14:\tlearn: 2093.9729818\ttotal: 825ms\tremaining: 3.02s\n",
      "15:\tlearn: 2078.6214147\ttotal: 883ms\tremaining: 2.98s\n",
      "16:\tlearn: 2066.3655976\ttotal: 933ms\tremaining: 2.91s\n",
      "17:\tlearn: 2059.5329299\ttotal: 992ms\tremaining: 2.87s\n",
      "18:\tlearn: 2053.4216082\ttotal: 1.05s\tremaining: 2.81s\n",
      "19:\tlearn: 2042.6212465\ttotal: 1.1s\tremaining: 2.75s\n",
      "20:\tlearn: 2034.9318943\ttotal: 1.15s\tremaining: 2.68s\n",
      "21:\tlearn: 2028.4236321\ttotal: 1.2s\tremaining: 2.63s\n",
      "22:\tlearn: 2024.2104128\ttotal: 1.26s\tremaining: 2.57s\n",
      "23:\tlearn: 2018.4362653\ttotal: 1.31s\tremaining: 2.51s\n",
      "24:\tlearn: 2014.2965345\ttotal: 1.36s\tremaining: 2.45s\n",
      "25:\tlearn: 2006.7334876\ttotal: 1.41s\tremaining: 2.39s\n",
      "26:\tlearn: 2003.6965257\ttotal: 1.47s\tremaining: 2.34s\n",
      "27:\tlearn: 1996.9262003\ttotal: 1.52s\tremaining: 2.28s\n",
      "28:\tlearn: 1991.0087063\ttotal: 1.57s\tremaining: 2.22s\n",
      "29:\tlearn: 1987.3519634\ttotal: 1.62s\tremaining: 2.16s\n",
      "30:\tlearn: 1980.8999993\ttotal: 1.67s\tremaining: 2.1s\n",
      "31:\tlearn: 1978.2080943\ttotal: 1.73s\tremaining: 2.05s\n",
      "32:\tlearn: 1975.9888504\ttotal: 1.78s\tremaining: 2s\n",
      "33:\tlearn: 1971.3334281\ttotal: 1.83s\tremaining: 1.94s\n",
      "34:\tlearn: 1966.5146617\ttotal: 1.88s\tremaining: 1.88s\n",
      "35:\tlearn: 1963.7765478\ttotal: 1.93s\tremaining: 1.83s\n",
      "36:\tlearn: 1959.9017696\ttotal: 1.98s\tremaining: 1.77s\n",
      "37:\tlearn: 1957.6297060\ttotal: 2.04s\tremaining: 1.72s\n",
      "38:\tlearn: 1955.1902888\ttotal: 2.1s\tremaining: 1.67s\n",
      "39:\tlearn: 1952.2633011\ttotal: 2.15s\tremaining: 1.61s\n",
      "40:\tlearn: 1949.2610178\ttotal: 2.2s\tremaining: 1.56s\n",
      "41:\tlearn: 1946.4797233\ttotal: 2.25s\tremaining: 1.5s\n",
      "42:\tlearn: 1943.7102699\ttotal: 2.31s\tremaining: 1.45s\n",
      "43:\tlearn: 1940.3980871\ttotal: 2.36s\tremaining: 1.39s\n",
      "44:\tlearn: 1936.0358041\ttotal: 2.41s\tremaining: 1.34s\n",
      "45:\tlearn: 1932.8253792\ttotal: 2.46s\tremaining: 1.28s\n",
      "46:\tlearn: 1929.9691232\ttotal: 2.51s\tremaining: 1.23s\n",
      "47:\tlearn: 1928.1129994\ttotal: 2.56s\tremaining: 1.17s\n",
      "48:\tlearn: 1925.6277155\ttotal: 2.6s\tremaining: 1.11s\n",
      "49:\tlearn: 1923.7380072\ttotal: 2.65s\tremaining: 1.06s\n",
      "50:\tlearn: 1922.0219549\ttotal: 2.7s\tremaining: 1.01s\n",
      "51:\tlearn: 1919.7164376\ttotal: 2.75s\tremaining: 953ms\n",
      "52:\tlearn: 1917.0115092\ttotal: 2.8s\tremaining: 900ms\n",
      "53:\tlearn: 1916.1732902\ttotal: 2.86s\tremaining: 847ms\n",
      "54:\tlearn: 1914.8141378\ttotal: 2.91s\tremaining: 794ms\n",
      "55:\tlearn: 1912.5320371\ttotal: 2.97s\tremaining: 742ms\n",
      "56:\tlearn: 1910.6504008\ttotal: 3.02s\tremaining: 688ms\n",
      "57:\tlearn: 1908.9249111\ttotal: 3.06s\tremaining: 634ms\n",
      "58:\tlearn: 1907.9190423\ttotal: 3.12s\tremaining: 581ms\n",
      "59:\tlearn: 1906.1073077\ttotal: 3.17s\tremaining: 528ms\n",
      "60:\tlearn: 1904.3218954\ttotal: 3.22s\tremaining: 475ms\n",
      "61:\tlearn: 1902.6634221\ttotal: 3.27s\tremaining: 422ms\n",
      "62:\tlearn: 1901.0059520\ttotal: 3.32s\tremaining: 369ms\n",
      "63:\tlearn: 1899.3148032\ttotal: 3.37s\tremaining: 316ms\n",
      "64:\tlearn: 1897.9740203\ttotal: 3.42s\tremaining: 263ms\n",
      "65:\tlearn: 1896.4931725\ttotal: 3.48s\tremaining: 211ms\n",
      "66:\tlearn: 1894.9519616\ttotal: 3.53s\tremaining: 158ms\n",
      "67:\tlearn: 1892.6227046\ttotal: 3.58s\tremaining: 105ms\n",
      "68:\tlearn: 1892.5917677\ttotal: 3.63s\tremaining: 52.6ms\n",
      "69:\tlearn: 1890.9583826\ttotal: 3.68s\tremaining: 0us\n",
      "0:\tlearn: 3576.4106069\ttotal: 68.4ms\tremaining: 4.72s\n",
      "1:\tlearn: 3058.7129070\ttotal: 129ms\tremaining: 4.37s\n",
      "2:\tlearn: 2725.4027108\ttotal: 180ms\tremaining: 4.02s\n",
      "3:\tlearn: 2548.5026715\ttotal: 236ms\tremaining: 3.89s\n",
      "4:\tlearn: 2435.0866411\ttotal: 292ms\tremaining: 3.8s\n",
      "5:\tlearn: 2338.5952751\ttotal: 347ms\tremaining: 3.7s\n",
      "6:\tlearn: 2286.5384810\ttotal: 399ms\tremaining: 3.59s\n",
      "7:\tlearn: 2233.6585576\ttotal: 451ms\tremaining: 3.49s\n",
      "8:\tlearn: 2205.8747474\ttotal: 501ms\tremaining: 3.4s\n",
      "9:\tlearn: 2188.7396882\ttotal: 557ms\tremaining: 3.34s\n",
      "10:\tlearn: 2163.4626186\ttotal: 611ms\tremaining: 3.28s\n",
      "11:\tlearn: 2152.3928377\ttotal: 666ms\tremaining: 3.22s\n",
      "12:\tlearn: 2132.0923611\ttotal: 716ms\tremaining: 3.14s\n",
      "13:\tlearn: 2109.5925023\ttotal: 765ms\tremaining: 3.06s\n",
      "14:\tlearn: 2094.7282109\ttotal: 816ms\tremaining: 2.99s\n",
      "15:\tlearn: 2082.9800073\ttotal: 867ms\tremaining: 2.93s\n",
      "16:\tlearn: 2072.9119257\ttotal: 928ms\tremaining: 2.89s\n",
      "17:\tlearn: 2062.1781899\ttotal: 979ms\tremaining: 2.83s\n",
      "18:\tlearn: 2055.2957505\ttotal: 1.03s\tremaining: 2.77s\n",
      "19:\tlearn: 2045.0001951\ttotal: 1.08s\tremaining: 2.7s\n",
      "20:\tlearn: 2037.0906850\ttotal: 1.13s\tremaining: 2.64s\n",
      "21:\tlearn: 2029.3846794\ttotal: 1.18s\tremaining: 2.58s\n",
      "22:\tlearn: 2019.3995374\ttotal: 1.24s\tremaining: 2.54s\n",
      "23:\tlearn: 2012.6497173\ttotal: 1.29s\tremaining: 2.48s\n",
      "24:\tlearn: 2006.4416740\ttotal: 1.35s\tremaining: 2.42s\n",
      "25:\tlearn: 2000.4663165\ttotal: 1.41s\tremaining: 2.38s\n",
      "26:\tlearn: 1996.2581486\ttotal: 1.46s\tremaining: 2.33s\n",
      "27:\tlearn: 1991.1713174\ttotal: 1.53s\tremaining: 2.29s\n",
      "28:\tlearn: 1985.0161367\ttotal: 1.58s\tremaining: 2.23s\n",
      "29:\tlearn: 1981.6275704\ttotal: 1.63s\tremaining: 2.17s\n",
      "30:\tlearn: 1978.6935329\ttotal: 1.68s\tremaining: 2.12s\n",
      "31:\tlearn: 1973.5015918\ttotal: 1.73s\tremaining: 2.05s\n",
      "32:\tlearn: 1970.2577127\ttotal: 1.78s\tremaining: 2s\n",
      "33:\tlearn: 1967.5736754\ttotal: 1.84s\tremaining: 1.95s\n",
      "34:\tlearn: 1964.7760971\ttotal: 1.89s\tremaining: 1.89s\n",
      "35:\tlearn: 1962.2438661\ttotal: 1.94s\tremaining: 1.83s\n",
      "36:\tlearn: 1960.3795868\ttotal: 2s\tremaining: 1.78s\n",
      "37:\tlearn: 1955.8962067\ttotal: 2.05s\tremaining: 1.72s\n",
      "38:\tlearn: 1953.2626701\ttotal: 2.1s\tremaining: 1.67s\n",
      "39:\tlearn: 1951.1250137\ttotal: 2.15s\tremaining: 1.61s\n",
      "40:\tlearn: 1949.0131945\ttotal: 2.21s\tremaining: 1.56s\n",
      "41:\tlearn: 1947.1366132\ttotal: 2.26s\tremaining: 1.5s\n",
      "42:\tlearn: 1944.2035909\ttotal: 2.31s\tremaining: 1.45s\n",
      "43:\tlearn: 1942.7645938\ttotal: 2.36s\tremaining: 1.39s\n",
      "44:\tlearn: 1939.0945216\ttotal: 2.41s\tremaining: 1.34s\n",
      "45:\tlearn: 1935.3280461\ttotal: 2.46s\tremaining: 1.28s\n",
      "46:\tlearn: 1932.1309979\ttotal: 2.52s\tremaining: 1.23s\n",
      "47:\tlearn: 1929.3213216\ttotal: 2.57s\tremaining: 1.18s\n",
      "48:\tlearn: 1926.8836125\ttotal: 2.62s\tremaining: 1.12s\n",
      "49:\tlearn: 1925.4746201\ttotal: 2.67s\tremaining: 1.07s\n",
      "50:\tlearn: 1923.0471760\ttotal: 2.73s\tremaining: 1.01s\n",
      "51:\tlearn: 1921.6349626\ttotal: 2.78s\tremaining: 962ms\n",
      "52:\tlearn: 1920.5074398\ttotal: 2.83s\tremaining: 910ms\n",
      "53:\tlearn: 1918.7391486\ttotal: 2.89s\tremaining: 856ms\n",
      "54:\tlearn: 1917.3446189\ttotal: 2.94s\tremaining: 802ms\n",
      "55:\tlearn: 1915.1212316\ttotal: 2.99s\tremaining: 748ms\n",
      "56:\tlearn: 1912.1889637\ttotal: 3.04s\tremaining: 694ms\n",
      "57:\tlearn: 1910.1222532\ttotal: 3.09s\tremaining: 639ms\n",
      "58:\tlearn: 1908.3394446\ttotal: 3.15s\tremaining: 587ms\n",
      "59:\tlearn: 1906.4717038\ttotal: 3.2s\tremaining: 533ms\n",
      "60:\tlearn: 1904.7253243\ttotal: 3.25s\tremaining: 480ms\n",
      "61:\tlearn: 1903.4822461\ttotal: 3.31s\tremaining: 426ms\n",
      "62:\tlearn: 1901.9875489\ttotal: 3.35s\tremaining: 373ms\n",
      "63:\tlearn: 1900.6496904\ttotal: 3.4s\tremaining: 319ms\n",
      "64:\tlearn: 1899.4334553\ttotal: 3.46s\tremaining: 266ms\n",
      "65:\tlearn: 1897.3252953\ttotal: 3.51s\tremaining: 213ms\n",
      "66:\tlearn: 1895.3522195\ttotal: 3.56s\tremaining: 159ms\n",
      "67:\tlearn: 1894.9037459\ttotal: 3.61s\tremaining: 106ms\n",
      "68:\tlearn: 1892.8509135\ttotal: 3.66s\tremaining: 53.1ms\n",
      "69:\tlearn: 1891.6347941\ttotal: 3.72s\tremaining: 0us\n",
      "0:\tlearn: 3578.6794191\ttotal: 69.1ms\tremaining: 3.38s\n",
      "1:\tlearn: 3055.9570325\ttotal: 130ms\tremaining: 3.11s\n",
      "2:\tlearn: 2721.6545851\ttotal: 182ms\tremaining: 2.85s\n",
      "3:\tlearn: 2540.7893803\ttotal: 237ms\tremaining: 2.72s\n",
      "4:\tlearn: 2419.6556576\ttotal: 296ms\tremaining: 2.66s\n",
      "5:\tlearn: 2323.6700579\ttotal: 348ms\tremaining: 2.55s\n",
      "6:\tlearn: 2271.0035000\ttotal: 397ms\tremaining: 2.44s\n",
      "7:\tlearn: 2235.5547560\ttotal: 449ms\tremaining: 2.36s\n",
      "8:\tlearn: 2213.9752694\ttotal: 505ms\tremaining: 2.3s\n",
      "9:\tlearn: 2178.8409882\ttotal: 558ms\tremaining: 2.23s\n",
      "10:\tlearn: 2153.6476169\ttotal: 608ms\tremaining: 2.15s\n",
      "11:\tlearn: 2128.9515465\ttotal: 661ms\tremaining: 2.09s\n",
      "12:\tlearn: 2111.0886139\ttotal: 715ms\tremaining: 2.04s\n",
      "13:\tlearn: 2102.3149145\ttotal: 778ms\tremaining: 2s\n",
      "14:\tlearn: 2088.0663292\ttotal: 848ms\tremaining: 1.98s\n",
      "15:\tlearn: 2071.8904244\ttotal: 903ms\tremaining: 1.92s\n",
      "16:\tlearn: 2059.8041947\ttotal: 960ms\tremaining: 1.86s\n",
      "17:\tlearn: 2051.7722861\ttotal: 1.01s\tremaining: 1.79s\n",
      "18:\tlearn: 2040.8848446\ttotal: 1.06s\tremaining: 1.73s\n",
      "19:\tlearn: 2032.4079677\ttotal: 1.11s\tremaining: 1.67s\n",
      "20:\tlearn: 2026.1292409\ttotal: 1.17s\tremaining: 1.61s\n",
      "21:\tlearn: 2022.7544359\ttotal: 1.22s\tremaining: 1.55s\n",
      "22:\tlearn: 2015.3485746\ttotal: 1.27s\tremaining: 1.5s\n",
      "23:\tlearn: 2008.7157463\ttotal: 1.33s\tremaining: 1.44s\n",
      "24:\tlearn: 2003.5935613\ttotal: 1.38s\tremaining: 1.38s\n",
      "25:\tlearn: 2000.6179470\ttotal: 1.44s\tremaining: 1.33s\n",
      "26:\tlearn: 1994.9194649\ttotal: 1.49s\tremaining: 1.27s\n",
      "27:\tlearn: 1989.9434283\ttotal: 1.54s\tremaining: 1.21s\n",
      "28:\tlearn: 1985.5069165\ttotal: 1.6s\tremaining: 1.16s\n",
      "29:\tlearn: 1982.4599179\ttotal: 1.65s\tremaining: 1.1s\n",
      "30:\tlearn: 1978.3135165\ttotal: 1.7s\tremaining: 1.04s\n",
      "31:\tlearn: 1975.0969467\ttotal: 1.75s\tremaining: 987ms\n",
      "32:\tlearn: 1967.7123126\ttotal: 1.81s\tremaining: 931ms\n",
      "33:\tlearn: 1965.2462597\ttotal: 1.86s\tremaining: 877ms\n",
      "34:\tlearn: 1959.3472427\ttotal: 1.91s\tremaining: 821ms\n",
      "35:\tlearn: 1956.6411038\ttotal: 1.97s\tremaining: 765ms\n",
      "36:\tlearn: 1954.5859183\ttotal: 2.02s\tremaining: 710ms\n",
      "37:\tlearn: 1950.4648236\ttotal: 2.07s\tremaining: 654ms\n",
      "38:\tlearn: 1948.7714048\ttotal: 2.12s\tremaining: 598ms\n",
      "39:\tlearn: 1945.7713032\ttotal: 2.17s\tremaining: 543ms\n",
      "40:\tlearn: 1943.1346517\ttotal: 2.22s\tremaining: 488ms\n",
      "41:\tlearn: 1940.6660419\ttotal: 2.28s\tremaining: 434ms\n",
      "42:\tlearn: 1938.9107109\ttotal: 2.33s\tremaining: 380ms\n",
      "43:\tlearn: 1936.7654579\ttotal: 2.38s\tremaining: 325ms\n",
      "44:\tlearn: 1933.3372659\ttotal: 2.44s\tremaining: 271ms\n",
      "45:\tlearn: 1930.4298180\ttotal: 2.49s\tremaining: 216ms\n",
      "46:\tlearn: 1927.9566426\ttotal: 2.54s\tremaining: 162ms\n",
      "47:\tlearn: 1925.7331128\ttotal: 2.59s\tremaining: 108ms\n",
      "48:\tlearn: 1923.2568337\ttotal: 2.64s\tremaining: 53.9ms\n",
      "49:\tlearn: 1922.3905678\ttotal: 2.7s\tremaining: 0us\n",
      "0:\tlearn: 3583.2744261\ttotal: 69.9ms\tremaining: 3.42s\n",
      "1:\tlearn: 3056.7798002\ttotal: 130ms\tremaining: 3.13s\n",
      "2:\tlearn: 2723.4645356\ttotal: 183ms\tremaining: 2.86s\n",
      "3:\tlearn: 2543.2709435\ttotal: 239ms\tremaining: 2.75s\n",
      "4:\tlearn: 2424.0524905\ttotal: 297ms\tremaining: 2.67s\n",
      "5:\tlearn: 2330.4563537\ttotal: 353ms\tremaining: 2.59s\n",
      "6:\tlearn: 2276.8093763\ttotal: 403ms\tremaining: 2.48s\n",
      "7:\tlearn: 2240.8949757\ttotal: 455ms\tremaining: 2.39s\n",
      "8:\tlearn: 2219.8929513\ttotal: 511ms\tremaining: 2.33s\n",
      "9:\tlearn: 2185.3646273\ttotal: 565ms\tremaining: 2.26s\n",
      "10:\tlearn: 2160.6136102\ttotal: 616ms\tremaining: 2.18s\n",
      "11:\tlearn: 2136.7665988\ttotal: 668ms\tremaining: 2.12s\n",
      "12:\tlearn: 2116.4793034\ttotal: 719ms\tremaining: 2.05s\n",
      "13:\tlearn: 2105.9490443\ttotal: 771ms\tremaining: 1.98s\n",
      "14:\tlearn: 2087.6193455\ttotal: 823ms\tremaining: 1.92s\n",
      "15:\tlearn: 2076.5903037\ttotal: 875ms\tremaining: 1.86s\n",
      "16:\tlearn: 2069.3071669\ttotal: 929ms\tremaining: 1.8s\n",
      "17:\tlearn: 2058.9988149\ttotal: 984ms\tremaining: 1.75s\n",
      "18:\tlearn: 2050.9654888\ttotal: 1.03s\tremaining: 1.69s\n",
      "19:\tlearn: 2038.6865109\ttotal: 1.08s\tremaining: 1.63s\n",
      "20:\tlearn: 2032.8045291\ttotal: 1.13s\tremaining: 1.56s\n",
      "21:\tlearn: 2027.7907632\ttotal: 1.19s\tremaining: 1.51s\n",
      "22:\tlearn: 2023.9306044\ttotal: 1.24s\tremaining: 1.46s\n",
      "23:\tlearn: 2019.5983797\ttotal: 1.29s\tremaining: 1.4s\n",
      "24:\tlearn: 2011.9230247\ttotal: 1.34s\tremaining: 1.34s\n",
      "25:\tlearn: 2006.2909836\ttotal: 1.4s\tremaining: 1.29s\n",
      "26:\tlearn: 2003.6539454\ttotal: 1.45s\tremaining: 1.24s\n",
      "27:\tlearn: 1998.2201829\ttotal: 1.51s\tremaining: 1.19s\n",
      "28:\tlearn: 1992.3436500\ttotal: 1.57s\tremaining: 1.14s\n",
      "29:\tlearn: 1989.0487768\ttotal: 1.62s\tremaining: 1.08s\n",
      "30:\tlearn: 1983.4949991\ttotal: 1.67s\tremaining: 1.02s\n",
      "31:\tlearn: 1980.2209220\ttotal: 1.73s\tremaining: 971ms\n",
      "32:\tlearn: 1976.1840497\ttotal: 1.78s\tremaining: 916ms\n",
      "33:\tlearn: 1972.6395005\ttotal: 1.83s\tremaining: 863ms\n",
      "34:\tlearn: 1969.7850779\ttotal: 1.89s\tremaining: 808ms\n",
      "35:\tlearn: 1967.5640615\ttotal: 1.94s\tremaining: 754ms\n",
      "36:\tlearn: 1965.5244712\ttotal: 1.99s\tremaining: 700ms\n",
      "37:\tlearn: 1962.5858394\ttotal: 2.04s\tremaining: 645ms\n",
      "38:\tlearn: 1958.9635489\ttotal: 2.1s\tremaining: 591ms\n",
      "39:\tlearn: 1957.2112852\ttotal: 2.15s\tremaining: 537ms\n",
      "40:\tlearn: 1954.1674750\ttotal: 2.2s\tremaining: 484ms\n",
      "41:\tlearn: 1951.1823722\ttotal: 2.26s\tremaining: 430ms\n",
      "42:\tlearn: 1948.9678760\ttotal: 2.31s\tremaining: 376ms\n",
      "43:\tlearn: 1946.2046420\ttotal: 2.37s\tremaining: 323ms\n",
      "44:\tlearn: 1943.3918089\ttotal: 2.42s\tremaining: 269ms\n",
      "45:\tlearn: 1940.9312600\ttotal: 2.47s\tremaining: 215ms\n",
      "46:\tlearn: 1939.3742681\ttotal: 2.52s\tremaining: 161ms\n",
      "47:\tlearn: 1936.6934547\ttotal: 2.58s\tremaining: 107ms\n",
      "48:\tlearn: 1935.6904916\ttotal: 2.63s\tremaining: 53.7ms\n",
      "49:\tlearn: 1934.1291058\ttotal: 2.68s\tremaining: 0us\n",
      "0:\tlearn: 3587.0581557\ttotal: 74.5ms\tremaining: 3.65s\n",
      "1:\tlearn: 3061.3194458\ttotal: 137ms\tremaining: 3.29s\n",
      "2:\tlearn: 2727.6926663\ttotal: 190ms\tremaining: 2.97s\n",
      "3:\tlearn: 2547.0776821\ttotal: 246ms\tremaining: 2.83s\n",
      "4:\tlearn: 2425.6443500\ttotal: 305ms\tremaining: 2.74s\n",
      "5:\tlearn: 2328.2473052\ttotal: 361ms\tremaining: 2.65s\n",
      "6:\tlearn: 2274.9172564\ttotal: 411ms\tremaining: 2.52s\n",
      "7:\tlearn: 2244.7942510\ttotal: 463ms\tremaining: 2.43s\n",
      "8:\tlearn: 2204.5308284\ttotal: 513ms\tremaining: 2.33s\n",
      "9:\tlearn: 2183.4633765\ttotal: 570ms\tremaining: 2.28s\n",
      "10:\tlearn: 2163.9677747\ttotal: 623ms\tremaining: 2.21s\n",
      "11:\tlearn: 2135.7296079\ttotal: 674ms\tremaining: 2.13s\n",
      "12:\tlearn: 2117.5601501\ttotal: 730ms\tremaining: 2.08s\n",
      "13:\tlearn: 2103.4707034\ttotal: 781ms\tremaining: 2.01s\n",
      "14:\tlearn: 2092.2219523\ttotal: 836ms\tremaining: 1.95s\n",
      "15:\tlearn: 2082.1566204\ttotal: 891ms\tremaining: 1.89s\n",
      "16:\tlearn: 2067.2435172\ttotal: 943ms\tremaining: 1.83s\n",
      "17:\tlearn: 2055.9717852\ttotal: 995ms\tremaining: 1.77s\n",
      "18:\tlearn: 2047.1030244\ttotal: 1.05s\tremaining: 1.71s\n",
      "19:\tlearn: 2037.5367356\ttotal: 1.1s\tremaining: 1.65s\n",
      "20:\tlearn: 2029.5784209\ttotal: 1.15s\tremaining: 1.59s\n",
      "21:\tlearn: 2024.5276387\ttotal: 1.2s\tremaining: 1.53s\n",
      "22:\tlearn: 2021.2989481\ttotal: 1.26s\tremaining: 1.48s\n",
      "23:\tlearn: 2017.3330161\ttotal: 1.31s\tremaining: 1.42s\n",
      "24:\tlearn: 2012.4296740\ttotal: 1.36s\tremaining: 1.36s\n",
      "25:\tlearn: 2006.5483923\ttotal: 1.42s\tremaining: 1.31s\n",
      "26:\tlearn: 2001.0468245\ttotal: 1.47s\tremaining: 1.25s\n",
      "27:\tlearn: 1994.1805006\ttotal: 1.52s\tremaining: 1.2s\n",
      "28:\tlearn: 1990.4941048\ttotal: 1.58s\tremaining: 1.14s\n",
      "29:\tlearn: 1985.6093515\ttotal: 1.63s\tremaining: 1.09s\n",
      "30:\tlearn: 1981.9856328\ttotal: 1.69s\tremaining: 1.03s\n",
      "31:\tlearn: 1979.2586867\ttotal: 1.74s\tremaining: 979ms\n",
      "32:\tlearn: 1975.5678597\ttotal: 1.79s\tremaining: 925ms\n",
      "33:\tlearn: 1972.9092386\ttotal: 1.85s\tremaining: 870ms\n",
      "34:\tlearn: 1969.1012722\ttotal: 1.9s\tremaining: 815ms\n",
      "35:\tlearn: 1963.9443048\ttotal: 1.95s\tremaining: 760ms\n",
      "36:\tlearn: 1958.4595740\ttotal: 2.01s\tremaining: 707ms\n",
      "37:\tlearn: 1956.7014987\ttotal: 2.06s\tremaining: 652ms\n",
      "38:\tlearn: 1953.4701370\ttotal: 2.12s\tremaining: 598ms\n",
      "39:\tlearn: 1951.1773494\ttotal: 2.17s\tremaining: 542ms\n",
      "40:\tlearn: 1948.9483547\ttotal: 2.22s\tremaining: 488ms\n",
      "41:\tlearn: 1946.4392310\ttotal: 2.27s\tremaining: 433ms\n",
      "42:\tlearn: 1943.4961191\ttotal: 2.33s\tremaining: 379ms\n",
      "43:\tlearn: 1939.0705762\ttotal: 2.38s\tremaining: 324ms\n",
      "44:\tlearn: 1935.1688814\ttotal: 2.43s\tremaining: 270ms\n",
      "45:\tlearn: 1932.9788549\ttotal: 2.48s\tremaining: 216ms\n",
      "46:\tlearn: 1930.4401827\ttotal: 2.54s\tremaining: 162ms\n",
      "47:\tlearn: 1928.7271516\ttotal: 2.59s\tremaining: 108ms\n",
      "48:\tlearn: 1927.1753069\ttotal: 2.65s\tremaining: 54ms\n",
      "49:\tlearn: 1925.7635475\ttotal: 2.7s\tremaining: 0us\n",
      "0:\tlearn: 3575.2672697\ttotal: 68.9ms\tremaining: 3.38s\n",
      "1:\tlearn: 3056.3517087\ttotal: 131ms\tremaining: 3.14s\n",
      "2:\tlearn: 2726.1651880\ttotal: 183ms\tremaining: 2.87s\n",
      "3:\tlearn: 2547.4065508\ttotal: 251ms\tremaining: 2.88s\n",
      "4:\tlearn: 2405.3051264\ttotal: 331ms\tremaining: 2.98s\n",
      "5:\tlearn: 2324.2554110\ttotal: 381ms\tremaining: 2.79s\n",
      "6:\tlearn: 2275.4239931\ttotal: 435ms\tremaining: 2.67s\n",
      "7:\tlearn: 2242.2792626\ttotal: 491ms\tremaining: 2.58s\n",
      "8:\tlearn: 2209.6366187\ttotal: 548ms\tremaining: 2.5s\n",
      "9:\tlearn: 2179.2780773\ttotal: 603ms\tremaining: 2.41s\n",
      "10:\tlearn: 2163.0542628\ttotal: 656ms\tremaining: 2.33s\n",
      "11:\tlearn: 2129.8994366\ttotal: 708ms\tremaining: 2.24s\n",
      "12:\tlearn: 2117.7763669\ttotal: 760ms\tremaining: 2.16s\n",
      "13:\tlearn: 2108.6666787\ttotal: 819ms\tremaining: 2.11s\n",
      "14:\tlearn: 2093.9729818\ttotal: 871ms\tremaining: 2.03s\n",
      "15:\tlearn: 2078.6214147\ttotal: 930ms\tremaining: 1.98s\n",
      "16:\tlearn: 2066.3655976\ttotal: 982ms\tremaining: 1.91s\n",
      "17:\tlearn: 2059.5329299\ttotal: 1.04s\tremaining: 1.84s\n",
      "18:\tlearn: 2053.4216082\ttotal: 1.09s\tremaining: 1.78s\n",
      "19:\tlearn: 2042.6212465\ttotal: 1.14s\tremaining: 1.71s\n",
      "20:\tlearn: 2034.9318943\ttotal: 1.19s\tremaining: 1.64s\n",
      "21:\tlearn: 2028.4236321\ttotal: 1.24s\tremaining: 1.58s\n",
      "22:\tlearn: 2024.2104128\ttotal: 1.3s\tremaining: 1.52s\n",
      "23:\tlearn: 2018.4362653\ttotal: 1.35s\tremaining: 1.46s\n",
      "24:\tlearn: 2014.2965345\ttotal: 1.4s\tremaining: 1.4s\n",
      "25:\tlearn: 2006.7334876\ttotal: 1.45s\tremaining: 1.34s\n",
      "26:\tlearn: 2003.6965257\ttotal: 1.51s\tremaining: 1.28s\n",
      "27:\tlearn: 1996.9262003\ttotal: 1.56s\tremaining: 1.22s\n",
      "28:\tlearn: 1991.0087063\ttotal: 1.61s\tremaining: 1.17s\n",
      "29:\tlearn: 1987.3519634\ttotal: 1.66s\tremaining: 1.11s\n",
      "30:\tlearn: 1980.8999993\ttotal: 1.72s\tremaining: 1.05s\n",
      "31:\tlearn: 1978.2080943\ttotal: 1.77s\tremaining: 998ms\n",
      "32:\tlearn: 1975.9888504\ttotal: 1.82s\tremaining: 941ms\n",
      "33:\tlearn: 1971.3334281\ttotal: 1.88s\tremaining: 883ms\n",
      "34:\tlearn: 1966.5146617\ttotal: 1.93s\tremaining: 826ms\n",
      "35:\tlearn: 1963.7765478\ttotal: 1.98s\tremaining: 771ms\n",
      "36:\tlearn: 1959.9017696\ttotal: 2.03s\tremaining: 714ms\n",
      "37:\tlearn: 1957.6297060\ttotal: 2.09s\tremaining: 660ms\n",
      "38:\tlearn: 1955.1902888\ttotal: 2.14s\tremaining: 604ms\n",
      "39:\tlearn: 1952.2633011\ttotal: 2.19s\tremaining: 548ms\n",
      "40:\tlearn: 1949.2610178\ttotal: 2.24s\tremaining: 493ms\n",
      "41:\tlearn: 1946.4797233\ttotal: 2.3s\tremaining: 438ms\n",
      "42:\tlearn: 1943.7102699\ttotal: 2.35s\tremaining: 383ms\n",
      "43:\tlearn: 1940.3980871\ttotal: 2.41s\tremaining: 328ms\n",
      "44:\tlearn: 1936.0358041\ttotal: 2.46s\tremaining: 273ms\n",
      "45:\tlearn: 1932.8253792\ttotal: 2.5s\tremaining: 218ms\n",
      "46:\tlearn: 1929.9691232\ttotal: 2.55s\tremaining: 163ms\n",
      "47:\tlearn: 1928.1129994\ttotal: 2.61s\tremaining: 109ms\n",
      "48:\tlearn: 1925.6277155\ttotal: 2.65s\tremaining: 54.2ms\n",
      "49:\tlearn: 1923.7380072\ttotal: 2.71s\tremaining: 0us\n",
      "0:\tlearn: 3576.4106069\ttotal: 69.1ms\tremaining: 3.39s\n",
      "1:\tlearn: 3058.7129070\ttotal: 129ms\tremaining: 3.1s\n",
      "2:\tlearn: 2725.4027108\ttotal: 181ms\tremaining: 2.83s\n",
      "3:\tlearn: 2548.5026715\ttotal: 235ms\tremaining: 2.7s\n",
      "4:\tlearn: 2435.0866411\ttotal: 292ms\tremaining: 2.63s\n",
      "5:\tlearn: 2338.5952751\ttotal: 343ms\tremaining: 2.51s\n",
      "6:\tlearn: 2286.5384810\ttotal: 394ms\tremaining: 2.42s\n",
      "7:\tlearn: 2233.6585576\ttotal: 443ms\tremaining: 2.33s\n",
      "8:\tlearn: 2205.8747474\ttotal: 492ms\tremaining: 2.24s\n",
      "9:\tlearn: 2188.7396882\ttotal: 544ms\tremaining: 2.18s\n",
      "10:\tlearn: 2163.4626186\ttotal: 604ms\tremaining: 2.14s\n",
      "11:\tlearn: 2152.3928377\ttotal: 657ms\tremaining: 2.08s\n",
      "12:\tlearn: 2132.0923611\ttotal: 705ms\tremaining: 2.01s\n",
      "13:\tlearn: 2109.5925023\ttotal: 754ms\tremaining: 1.94s\n",
      "14:\tlearn: 2094.7282109\ttotal: 809ms\tremaining: 1.89s\n",
      "15:\tlearn: 2082.9800073\ttotal: 860ms\tremaining: 1.83s\n",
      "16:\tlearn: 2072.9119257\ttotal: 913ms\tremaining: 1.77s\n",
      "17:\tlearn: 2062.1781899\ttotal: 964ms\tremaining: 1.71s\n",
      "18:\tlearn: 2055.2957505\ttotal: 1.02s\tremaining: 1.66s\n",
      "19:\tlearn: 2045.0001951\ttotal: 1.07s\tremaining: 1.6s\n",
      "20:\tlearn: 2037.0906850\ttotal: 1.12s\tremaining: 1.55s\n",
      "21:\tlearn: 2029.3846794\ttotal: 1.18s\tremaining: 1.5s\n",
      "22:\tlearn: 2019.3995374\ttotal: 1.23s\tremaining: 1.44s\n",
      "23:\tlearn: 2012.6497173\ttotal: 1.28s\tremaining: 1.38s\n",
      "24:\tlearn: 2006.4416740\ttotal: 1.33s\tremaining: 1.33s\n",
      "25:\tlearn: 2000.4663165\ttotal: 1.38s\tremaining: 1.27s\n",
      "26:\tlearn: 1996.2581486\ttotal: 1.43s\tremaining: 1.22s\n",
      "27:\tlearn: 1991.1713174\ttotal: 1.48s\tremaining: 1.17s\n",
      "28:\tlearn: 1985.0161367\ttotal: 1.53s\tremaining: 1.11s\n",
      "29:\tlearn: 1981.6275704\ttotal: 1.59s\tremaining: 1.06s\n",
      "30:\tlearn: 1978.6935329\ttotal: 1.64s\tremaining: 1s\n",
      "31:\tlearn: 1973.5015918\ttotal: 1.69s\tremaining: 950ms\n",
      "32:\tlearn: 1970.2577127\ttotal: 1.74s\tremaining: 897ms\n",
      "33:\tlearn: 1967.5736754\ttotal: 1.8s\tremaining: 846ms\n",
      "34:\tlearn: 1964.7760971\ttotal: 1.85s\tremaining: 792ms\n",
      "35:\tlearn: 1962.2438661\ttotal: 1.9s\tremaining: 738ms\n",
      "36:\tlearn: 1960.3795868\ttotal: 1.95s\tremaining: 685ms\n",
      "37:\tlearn: 1955.8962067\ttotal: 2s\tremaining: 631ms\n",
      "38:\tlearn: 1953.2626701\ttotal: 2.05s\tremaining: 579ms\n",
      "39:\tlearn: 1951.1250137\ttotal: 2.1s\tremaining: 526ms\n",
      "40:\tlearn: 1949.0131945\ttotal: 2.16s\tremaining: 474ms\n",
      "41:\tlearn: 1947.1366132\ttotal: 2.21s\tremaining: 421ms\n",
      "42:\tlearn: 1944.2035909\ttotal: 2.26s\tremaining: 368ms\n",
      "43:\tlearn: 1942.7645938\ttotal: 2.31s\tremaining: 315ms\n",
      "44:\tlearn: 1939.0945216\ttotal: 2.37s\tremaining: 263ms\n",
      "45:\tlearn: 1935.3280461\ttotal: 2.41s\tremaining: 210ms\n",
      "46:\tlearn: 1932.1309979\ttotal: 2.47s\tremaining: 158ms\n",
      "47:\tlearn: 1929.3213216\ttotal: 2.52s\tremaining: 105ms\n",
      "48:\tlearn: 1926.8836125\ttotal: 2.57s\tremaining: 52.5ms\n",
      "49:\tlearn: 1925.4746201\ttotal: 2.62s\tremaining: 0us\n",
      "0:\tlearn: 3787.4446573\ttotal: 67.8ms\tremaining: 3.66s\n",
      "1:\tlearn: 3309.1994050\ttotal: 129ms\tremaining: 3.42s\n",
      "2:\tlearn: 2999.5884989\ttotal: 179ms\tremaining: 3.11s\n",
      "3:\tlearn: 2764.7381572\ttotal: 231ms\tremaining: 2.95s\n",
      "4:\tlearn: 2612.4197761\ttotal: 287ms\tremaining: 2.87s\n",
      "5:\tlearn: 2493.7630803\ttotal: 344ms\tremaining: 2.81s\n",
      "6:\tlearn: 2394.9289851\ttotal: 400ms\tremaining: 2.74s\n",
      "7:\tlearn: 2327.7426587\ttotal: 450ms\tremaining: 2.65s\n",
      "8:\tlearn: 2280.7171451\ttotal: 505ms\tremaining: 2.58s\n",
      "9:\tlearn: 2234.7679935\ttotal: 562ms\tremaining: 2.53s\n",
      "10:\tlearn: 2211.8292516\ttotal: 619ms\tremaining: 2.48s\n",
      "11:\tlearn: 2192.8991059\ttotal: 670ms\tremaining: 2.4s\n",
      "12:\tlearn: 2176.7274470\ttotal: 722ms\tremaining: 2.33s\n",
      "13:\tlearn: 2159.0706386\ttotal: 778ms\tremaining: 2.28s\n",
      "14:\tlearn: 2145.1245127\ttotal: 838ms\tremaining: 2.23s\n",
      "15:\tlearn: 2129.3324799\ttotal: 888ms\tremaining: 2.16s\n",
      "16:\tlearn: 2114.9135014\ttotal: 937ms\tremaining: 2.09s\n",
      "17:\tlearn: 2106.1721281\ttotal: 991ms\tremaining: 2.04s\n",
      "18:\tlearn: 2094.0853680\ttotal: 1.05s\tremaining: 1.99s\n",
      "19:\tlearn: 2085.7860741\ttotal: 1.1s\tremaining: 1.93s\n",
      "20:\tlearn: 2074.2682004\ttotal: 1.15s\tremaining: 1.86s\n",
      "21:\tlearn: 2065.3721130\ttotal: 1.21s\tremaining: 1.81s\n",
      "22:\tlearn: 2057.7267988\ttotal: 1.26s\tremaining: 1.75s\n",
      "23:\tlearn: 2048.3431443\ttotal: 1.31s\tremaining: 1.69s\n",
      "24:\tlearn: 2041.0733027\ttotal: 1.36s\tremaining: 1.63s\n",
      "25:\tlearn: 2035.6567791\ttotal: 1.41s\tremaining: 1.57s\n",
      "26:\tlearn: 2028.1346264\ttotal: 1.46s\tremaining: 1.52s\n",
      "27:\tlearn: 2022.7886832\ttotal: 1.51s\tremaining: 1.46s\n",
      "28:\tlearn: 2017.5912985\ttotal: 1.56s\tremaining: 1.4s\n",
      "29:\tlearn: 2012.7191054\ttotal: 1.61s\tremaining: 1.34s\n",
      "30:\tlearn: 2007.9684622\ttotal: 1.66s\tremaining: 1.29s\n",
      "31:\tlearn: 2002.1159910\ttotal: 1.72s\tremaining: 1.23s\n",
      "32:\tlearn: 1996.5356548\ttotal: 1.77s\tremaining: 1.18s\n",
      "33:\tlearn: 1993.8507747\ttotal: 1.83s\tremaining: 1.13s\n",
      "34:\tlearn: 1990.8390430\ttotal: 1.88s\tremaining: 1.07s\n",
      "35:\tlearn: 1987.7065863\ttotal: 1.93s\tremaining: 1.02s\n",
      "36:\tlearn: 1983.5705817\ttotal: 1.98s\tremaining: 964ms\n",
      "37:\tlearn: 1977.7276096\ttotal: 2.03s\tremaining: 909ms\n",
      "38:\tlearn: 1971.6956880\ttotal: 2.08s\tremaining: 854ms\n",
      "39:\tlearn: 1969.4778483\ttotal: 2.14s\tremaining: 803ms\n",
      "40:\tlearn: 1967.0961427\ttotal: 2.19s\tremaining: 749ms\n",
      "41:\tlearn: 1963.9614423\ttotal: 2.25s\tremaining: 695ms\n",
      "42:\tlearn: 1958.9081030\ttotal: 2.3s\tremaining: 641ms\n",
      "43:\tlearn: 1956.3434171\ttotal: 2.35s\tremaining: 588ms\n",
      "44:\tlearn: 1952.7656831\ttotal: 2.42s\tremaining: 539ms\n",
      "45:\tlearn: 1951.0352408\ttotal: 2.48s\tremaining: 485ms\n",
      "46:\tlearn: 1948.1121253\ttotal: 2.54s\tremaining: 432ms\n",
      "47:\tlearn: 1945.9038751\ttotal: 2.59s\tremaining: 378ms\n",
      "48:\tlearn: 1942.6709850\ttotal: 2.64s\tremaining: 323ms\n",
      "49:\tlearn: 1940.4012989\ttotal: 2.69s\tremaining: 269ms\n",
      "50:\tlearn: 1939.0617146\ttotal: 2.8s\tremaining: 219ms\n",
      "51:\tlearn: 1937.1381406\ttotal: 2.87s\tremaining: 165ms\n",
      "52:\tlearn: 1935.6215651\ttotal: 2.92s\tremaining: 110ms\n",
      "53:\tlearn: 1932.7435817\ttotal: 3s\tremaining: 55.6ms\n",
      "54:\tlearn: 1929.9185895\ttotal: 3.05s\tremaining: 0us\n",
      "0:\tlearn: 3791.9282780\ttotal: 68.3ms\tremaining: 3.69s\n",
      "1:\tlearn: 3311.4601938\ttotal: 127ms\tremaining: 3.38s\n",
      "2:\tlearn: 3012.0993328\ttotal: 181ms\tremaining: 3.14s\n",
      "3:\tlearn: 2772.9350846\ttotal: 229ms\tremaining: 2.92s\n",
      "4:\tlearn: 2625.0099918\ttotal: 286ms\tremaining: 2.86s\n",
      "5:\tlearn: 2480.0637725\ttotal: 341ms\tremaining: 2.79s\n",
      "6:\tlearn: 2399.7551856\ttotal: 392ms\tremaining: 2.69s\n",
      "7:\tlearn: 2329.7487227\ttotal: 439ms\tremaining: 2.58s\n",
      "8:\tlearn: 2286.4666714\ttotal: 491ms\tremaining: 2.51s\n",
      "9:\tlearn: 2258.2315129\ttotal: 547ms\tremaining: 2.46s\n",
      "10:\tlearn: 2234.8173708\ttotal: 596ms\tremaining: 2.38s\n",
      "11:\tlearn: 2202.1689943\ttotal: 652ms\tremaining: 2.34s\n",
      "12:\tlearn: 2189.4093047\ttotal: 711ms\tremaining: 2.3s\n",
      "13:\tlearn: 2172.0242077\ttotal: 766ms\tremaining: 2.24s\n",
      "14:\tlearn: 2151.2755042\ttotal: 816ms\tremaining: 2.18s\n",
      "15:\tlearn: 2127.6571249\ttotal: 869ms\tremaining: 2.12s\n",
      "16:\tlearn: 2118.7107866\ttotal: 919ms\tremaining: 2.05s\n",
      "17:\tlearn: 2110.0121802\ttotal: 973ms\tremaining: 2s\n",
      "18:\tlearn: 2097.3120889\ttotal: 1.03s\tremaining: 1.96s\n",
      "19:\tlearn: 2089.2724650\ttotal: 1.09s\tremaining: 1.9s\n",
      "20:\tlearn: 2080.4418093\ttotal: 1.14s\tremaining: 1.85s\n",
      "21:\tlearn: 2071.7396191\ttotal: 1.19s\tremaining: 1.79s\n",
      "22:\tlearn: 2065.5936514\ttotal: 1.25s\tremaining: 1.74s\n",
      "23:\tlearn: 2060.0505886\ttotal: 1.3s\tremaining: 1.68s\n",
      "24:\tlearn: 2050.6876119\ttotal: 1.35s\tremaining: 1.62s\n",
      "25:\tlearn: 2044.3726218\ttotal: 1.4s\tremaining: 1.56s\n",
      "26:\tlearn: 2037.0355794\ttotal: 1.46s\tremaining: 1.51s\n",
      "27:\tlearn: 2029.0071077\ttotal: 1.51s\tremaining: 1.45s\n",
      "28:\tlearn: 2022.0573903\ttotal: 1.56s\tremaining: 1.4s\n",
      "29:\tlearn: 2016.8246280\ttotal: 1.61s\tremaining: 1.34s\n",
      "30:\tlearn: 2011.4632604\ttotal: 1.66s\tremaining: 1.29s\n",
      "31:\tlearn: 2007.0491018\ttotal: 1.71s\tremaining: 1.23s\n",
      "32:\tlearn: 2002.5351025\ttotal: 1.76s\tremaining: 1.18s\n",
      "33:\tlearn: 1999.7916350\ttotal: 1.82s\tremaining: 1.13s\n",
      "34:\tlearn: 1995.8456512\ttotal: 1.88s\tremaining: 1.07s\n",
      "35:\tlearn: 1992.9896613\ttotal: 1.93s\tremaining: 1.02s\n",
      "36:\tlearn: 1990.2429233\ttotal: 1.99s\tremaining: 967ms\n",
      "37:\tlearn: 1986.1924208\ttotal: 2.04s\tremaining: 912ms\n",
      "38:\tlearn: 1982.0810989\ttotal: 2.09s\tremaining: 857ms\n",
      "39:\tlearn: 1980.6084679\ttotal: 2.14s\tremaining: 804ms\n",
      "40:\tlearn: 1976.4369647\ttotal: 2.2s\tremaining: 751ms\n",
      "41:\tlearn: 1971.7373752\ttotal: 2.25s\tremaining: 696ms\n",
      "42:\tlearn: 1969.8523036\ttotal: 2.3s\tremaining: 642ms\n",
      "43:\tlearn: 1966.0851535\ttotal: 2.35s\tremaining: 588ms\n",
      "44:\tlearn: 1962.2625980\ttotal: 2.4s\tremaining: 534ms\n",
      "45:\tlearn: 1959.2664688\ttotal: 2.46s\tremaining: 480ms\n",
      "46:\tlearn: 1956.0815130\ttotal: 2.5s\tremaining: 426ms\n",
      "47:\tlearn: 1953.6239447\ttotal: 2.56s\tremaining: 373ms\n",
      "48:\tlearn: 1950.0084029\ttotal: 2.61s\tremaining: 319ms\n",
      "49:\tlearn: 1947.3554336\ttotal: 2.66s\tremaining: 266ms\n",
      "50:\tlearn: 1944.6397062\ttotal: 2.72s\tremaining: 213ms\n",
      "51:\tlearn: 1942.5997908\ttotal: 2.77s\tremaining: 160ms\n",
      "52:\tlearn: 1940.5856427\ttotal: 2.82s\tremaining: 106ms\n",
      "53:\tlearn: 1937.8493207\ttotal: 2.87s\tremaining: 53.2ms\n",
      "54:\tlearn: 1936.5976517\ttotal: 2.93s\tremaining: 0us\n",
      "0:\tlearn: 3795.4123108\ttotal: 69.3ms\tremaining: 3.74s\n",
      "1:\tlearn: 3315.4010911\ttotal: 131ms\tremaining: 3.46s\n",
      "2:\tlearn: 3014.1945129\ttotal: 186ms\tremaining: 3.23s\n",
      "3:\tlearn: 2776.3171499\ttotal: 237ms\tremaining: 3.02s\n",
      "4:\tlearn: 2627.2647054\ttotal: 297ms\tremaining: 2.97s\n",
      "5:\tlearn: 2484.2011217\ttotal: 361ms\tremaining: 2.95s\n",
      "6:\tlearn: 2400.7224215\ttotal: 414ms\tremaining: 2.84s\n",
      "7:\tlearn: 2340.6545188\ttotal: 465ms\tremaining: 2.73s\n",
      "8:\tlearn: 2301.8249127\ttotal: 516ms\tremaining: 2.63s\n",
      "9:\tlearn: 2250.5522303\ttotal: 569ms\tremaining: 2.56s\n",
      "10:\tlearn: 2226.2675103\ttotal: 625ms\tremaining: 2.5s\n",
      "11:\tlearn: 2199.6970173\ttotal: 680ms\tremaining: 2.44s\n",
      "12:\tlearn: 2183.4442926\ttotal: 732ms\tremaining: 2.36s\n",
      "13:\tlearn: 2166.7444230\ttotal: 789ms\tremaining: 2.31s\n",
      "14:\tlearn: 2142.6127749\ttotal: 839ms\tremaining: 2.24s\n",
      "15:\tlearn: 2126.2084445\ttotal: 888ms\tremaining: 2.16s\n",
      "16:\tlearn: 2109.4599839\ttotal: 937ms\tremaining: 2.1s\n",
      "17:\tlearn: 2100.8619757\ttotal: 991ms\tremaining: 2.04s\n",
      "18:\tlearn: 2093.2911599\ttotal: 1.04s\tremaining: 1.98s\n",
      "19:\tlearn: 2080.6448059\ttotal: 1.09s\tremaining: 1.92s\n",
      "20:\tlearn: 2073.3372207\ttotal: 1.15s\tremaining: 1.86s\n",
      "21:\tlearn: 2062.7683035\ttotal: 1.2s\tremaining: 1.8s\n",
      "22:\tlearn: 2057.3135150\ttotal: 1.25s\tremaining: 1.75s\n",
      "23:\tlearn: 2053.0513636\ttotal: 1.31s\tremaining: 1.69s\n",
      "24:\tlearn: 2046.1448189\ttotal: 1.36s\tremaining: 1.64s\n",
      "25:\tlearn: 2038.9489575\ttotal: 1.42s\tremaining: 1.58s\n",
      "26:\tlearn: 2033.0881141\ttotal: 1.47s\tremaining: 1.52s\n",
      "27:\tlearn: 2026.2056527\ttotal: 1.52s\tremaining: 1.47s\n",
      "28:\tlearn: 2022.6504249\ttotal: 1.57s\tremaining: 1.41s\n",
      "29:\tlearn: 2019.7310895\ttotal: 1.63s\tremaining: 1.36s\n",
      "30:\tlearn: 2014.5630847\ttotal: 1.68s\tremaining: 1.3s\n",
      "31:\tlearn: 2009.2587320\ttotal: 1.73s\tremaining: 1.24s\n",
      "32:\tlearn: 2005.6547256\ttotal: 1.78s\tremaining: 1.19s\n",
      "33:\tlearn: 1999.3234308\ttotal: 1.83s\tremaining: 1.13s\n",
      "34:\tlearn: 1994.3840787\ttotal: 1.89s\tremaining: 1.08s\n",
      "35:\tlearn: 1990.0480474\ttotal: 1.94s\tremaining: 1.02s\n",
      "36:\tlearn: 1987.3301862\ttotal: 1.99s\tremaining: 967ms\n",
      "37:\tlearn: 1983.7002152\ttotal: 2.06s\tremaining: 920ms\n",
      "38:\tlearn: 1979.9441020\ttotal: 2.11s\tremaining: 864ms\n",
      "39:\tlearn: 1976.5795822\ttotal: 2.16s\tremaining: 809ms\n",
      "40:\tlearn: 1974.4916848\ttotal: 2.21s\tremaining: 755ms\n",
      "41:\tlearn: 1970.8301041\ttotal: 2.26s\tremaining: 701ms\n",
      "42:\tlearn: 1967.5014342\ttotal: 2.31s\tremaining: 646ms\n",
      "43:\tlearn: 1964.5052286\ttotal: 2.37s\tremaining: 593ms\n",
      "44:\tlearn: 1961.4901430\ttotal: 2.42s\tremaining: 539ms\n",
      "45:\tlearn: 1959.1421783\ttotal: 2.47s\tremaining: 484ms\n",
      "46:\tlearn: 1956.3409147\ttotal: 2.53s\tremaining: 431ms\n",
      "47:\tlearn: 1954.4631283\ttotal: 2.58s\tremaining: 377ms\n",
      "48:\tlearn: 1951.9741526\ttotal: 2.63s\tremaining: 323ms\n",
      "49:\tlearn: 1950.2022174\ttotal: 2.69s\tremaining: 269ms\n",
      "50:\tlearn: 1947.4391362\ttotal: 2.74s\tremaining: 215ms\n",
      "51:\tlearn: 1944.6311503\ttotal: 2.79s\tremaining: 161ms\n",
      "52:\tlearn: 1942.0463304\ttotal: 2.83s\tremaining: 107ms\n",
      "53:\tlearn: 1939.3456384\ttotal: 2.89s\tremaining: 53.5ms\n",
      "54:\tlearn: 1937.4602776\ttotal: 2.94s\tremaining: 0us\n",
      "0:\tlearn: 3783.5095288\ttotal: 69ms\tremaining: 3.73s\n",
      "1:\tlearn: 3300.7185209\ttotal: 131ms\tremaining: 3.46s\n",
      "2:\tlearn: 3002.1715056\ttotal: 184ms\tremaining: 3.2s\n",
      "3:\tlearn: 2767.8798850\ttotal: 234ms\tremaining: 2.99s\n",
      "4:\tlearn: 2602.1838273\ttotal: 294ms\tremaining: 2.94s\n",
      "5:\tlearn: 2488.5132736\ttotal: 351ms\tremaining: 2.87s\n",
      "6:\tlearn: 2386.9330216\ttotal: 404ms\tremaining: 2.77s\n",
      "7:\tlearn: 2324.2032960\ttotal: 455ms\tremaining: 2.67s\n",
      "8:\tlearn: 2278.5912413\ttotal: 507ms\tremaining: 2.59s\n",
      "9:\tlearn: 2237.9157974\ttotal: 563ms\tremaining: 2.53s\n",
      "10:\tlearn: 2214.3229094\ttotal: 619ms\tremaining: 2.47s\n",
      "11:\tlearn: 2194.3200344\ttotal: 675ms\tremaining: 2.42s\n",
      "12:\tlearn: 2176.1238398\ttotal: 731ms\tremaining: 2.36s\n",
      "13:\tlearn: 2164.4360753\ttotal: 785ms\tremaining: 2.3s\n",
      "14:\tlearn: 2147.3378255\ttotal: 841ms\tremaining: 2.24s\n",
      "15:\tlearn: 2134.1120280\ttotal: 895ms\tremaining: 2.18s\n",
      "16:\tlearn: 2125.6494840\ttotal: 951ms\tremaining: 2.13s\n",
      "17:\tlearn: 2103.0591686\ttotal: 1000ms\tremaining: 2.06s\n",
      "18:\tlearn: 2091.7891426\ttotal: 1.05s\tremaining: 2s\n",
      "19:\tlearn: 2084.0971826\ttotal: 1.11s\tremaining: 1.94s\n",
      "20:\tlearn: 2073.1228703\ttotal: 1.16s\tremaining: 1.87s\n",
      "21:\tlearn: 2064.9650609\ttotal: 1.22s\tremaining: 1.82s\n",
      "22:\tlearn: 2058.3856106\ttotal: 1.27s\tremaining: 1.76s\n",
      "23:\tlearn: 2052.7959542\ttotal: 1.32s\tremaining: 1.71s\n",
      "24:\tlearn: 2044.9325600\ttotal: 1.38s\tremaining: 1.65s\n",
      "25:\tlearn: 2037.6614220\ttotal: 1.43s\tremaining: 1.59s\n",
      "26:\tlearn: 2033.5827379\ttotal: 1.48s\tremaining: 1.54s\n",
      "27:\tlearn: 2026.8821605\ttotal: 1.53s\tremaining: 1.48s\n",
      "28:\tlearn: 2021.4083914\ttotal: 1.59s\tremaining: 1.42s\n",
      "29:\tlearn: 2015.9711455\ttotal: 1.64s\tremaining: 1.37s\n",
      "30:\tlearn: 2011.1172891\ttotal: 1.7s\tremaining: 1.31s\n",
      "31:\tlearn: 2005.2728125\ttotal: 1.75s\tremaining: 1.25s\n",
      "32:\tlearn: 1999.1085198\ttotal: 1.8s\tremaining: 1.2s\n",
      "33:\tlearn: 1996.1367673\ttotal: 1.85s\tremaining: 1.14s\n",
      "34:\tlearn: 1991.2951601\ttotal: 1.9s\tremaining: 1.08s\n",
      "35:\tlearn: 1987.2414749\ttotal: 1.95s\tremaining: 1.03s\n",
      "36:\tlearn: 1981.0621748\ttotal: 2s\tremaining: 973ms\n",
      "37:\tlearn: 1977.1984304\ttotal: 2.07s\tremaining: 926ms\n",
      "38:\tlearn: 1973.9311260\ttotal: 2.13s\tremaining: 876ms\n",
      "39:\tlearn: 1970.5202694\ttotal: 2.19s\tremaining: 820ms\n",
      "40:\tlearn: 1967.0352704\ttotal: 2.24s\tremaining: 766ms\n",
      "41:\tlearn: 1963.4323056\ttotal: 2.3s\tremaining: 713ms\n",
      "42:\tlearn: 1960.3712150\ttotal: 2.36s\tremaining: 657ms\n",
      "43:\tlearn: 1958.1784351\ttotal: 2.41s\tremaining: 602ms\n",
      "44:\tlearn: 1955.4471267\ttotal: 2.46s\tremaining: 548ms\n",
      "45:\tlearn: 1953.8774867\ttotal: 2.52s\tremaining: 494ms\n",
      "46:\tlearn: 1952.2507319\ttotal: 2.58s\tremaining: 439ms\n",
      "47:\tlearn: 1950.0878590\ttotal: 2.63s\tremaining: 384ms\n",
      "48:\tlearn: 1947.7199304\ttotal: 2.69s\tremaining: 329ms\n",
      "49:\tlearn: 1945.1178528\ttotal: 2.74s\tremaining: 274ms\n",
      "50:\tlearn: 1939.9843281\ttotal: 2.79s\tremaining: 219ms\n",
      "51:\tlearn: 1937.3579321\ttotal: 2.84s\tremaining: 164ms\n",
      "52:\tlearn: 1934.9086254\ttotal: 2.89s\tremaining: 109ms\n",
      "53:\tlearn: 1932.7612869\ttotal: 2.95s\tremaining: 54.6ms\n",
      "54:\tlearn: 1931.2429332\ttotal: 3s\tremaining: 0us\n",
      "0:\tlearn: 3784.9642986\ttotal: 66.2ms\tremaining: 3.58s\n",
      "1:\tlearn: 3299.2927363\ttotal: 127ms\tremaining: 3.37s\n",
      "2:\tlearn: 2969.3635216\ttotal: 179ms\tremaining: 3.1s\n",
      "3:\tlearn: 2759.7471712\ttotal: 243ms\tremaining: 3.09s\n",
      "4:\tlearn: 2589.9784833\ttotal: 295ms\tremaining: 2.95s\n",
      "5:\tlearn: 2465.0317163\ttotal: 346ms\tremaining: 2.83s\n",
      "6:\tlearn: 2385.6884463\ttotal: 402ms\tremaining: 2.75s\n",
      "7:\tlearn: 2334.2835157\ttotal: 451ms\tremaining: 2.65s\n",
      "8:\tlearn: 2280.4133960\ttotal: 506ms\tremaining: 2.59s\n",
      "9:\tlearn: 2249.6208565\ttotal: 560ms\tremaining: 2.52s\n",
      "10:\tlearn: 2231.5160935\ttotal: 610ms\tremaining: 2.44s\n",
      "11:\tlearn: 2201.0238978\ttotal: 664ms\tremaining: 2.38s\n",
      "12:\tlearn: 2181.4262595\ttotal: 719ms\tremaining: 2.32s\n",
      "13:\tlearn: 2165.1106088\ttotal: 775ms\tremaining: 2.27s\n",
      "14:\tlearn: 2154.7656924\ttotal: 828ms\tremaining: 2.21s\n",
      "15:\tlearn: 2138.1567277\ttotal: 877ms\tremaining: 2.14s\n",
      "16:\tlearn: 2128.1837762\ttotal: 927ms\tremaining: 2.07s\n",
      "17:\tlearn: 2113.1768474\ttotal: 977ms\tremaining: 2.01s\n",
      "18:\tlearn: 2100.6494426\ttotal: 1.03s\tremaining: 1.95s\n",
      "19:\tlearn: 2094.2352951\ttotal: 1.08s\tremaining: 1.89s\n",
      "20:\tlearn: 2082.3713069\ttotal: 1.14s\tremaining: 1.84s\n",
      "21:\tlearn: 2075.9855627\ttotal: 1.2s\tremaining: 1.79s\n",
      "22:\tlearn: 2068.6341699\ttotal: 1.25s\tremaining: 1.74s\n",
      "23:\tlearn: 2059.6537718\ttotal: 1.3s\tremaining: 1.68s\n",
      "24:\tlearn: 2050.8973047\ttotal: 1.35s\tremaining: 1.62s\n",
      "25:\tlearn: 2041.8993207\ttotal: 1.4s\tremaining: 1.56s\n",
      "26:\tlearn: 2037.9424483\ttotal: 1.45s\tremaining: 1.51s\n",
      "27:\tlearn: 2033.8112952\ttotal: 1.5s\tremaining: 1.45s\n",
      "28:\tlearn: 2027.1374775\ttotal: 1.56s\tremaining: 1.4s\n",
      "29:\tlearn: 2022.3495316\ttotal: 1.61s\tremaining: 1.34s\n",
      "30:\tlearn: 2017.3193314\ttotal: 1.66s\tremaining: 1.28s\n",
      "31:\tlearn: 2010.3780874\ttotal: 1.71s\tremaining: 1.23s\n",
      "32:\tlearn: 2006.8987451\ttotal: 1.76s\tremaining: 1.17s\n",
      "33:\tlearn: 2002.8639679\ttotal: 1.81s\tremaining: 1.12s\n",
      "34:\tlearn: 1999.5117986\ttotal: 1.86s\tremaining: 1.06s\n",
      "35:\tlearn: 1996.9626357\ttotal: 1.92s\tremaining: 1.01s\n",
      "36:\tlearn: 1993.6618461\ttotal: 1.97s\tremaining: 958ms\n",
      "37:\tlearn: 1990.2304276\ttotal: 2.02s\tremaining: 904ms\n",
      "38:\tlearn: 1983.4009037\ttotal: 2.07s\tremaining: 851ms\n",
      "39:\tlearn: 1981.4490728\ttotal: 2.13s\tremaining: 797ms\n",
      "40:\tlearn: 1979.1377984\ttotal: 2.18s\tremaining: 744ms\n",
      "41:\tlearn: 1975.5708753\ttotal: 2.23s\tremaining: 691ms\n",
      "42:\tlearn: 1971.2759801\ttotal: 2.28s\tremaining: 637ms\n",
      "43:\tlearn: 1968.1942096\ttotal: 2.33s\tremaining: 584ms\n",
      "44:\tlearn: 1964.9041032\ttotal: 2.38s\tremaining: 530ms\n",
      "45:\tlearn: 1961.3416819\ttotal: 2.43s\tremaining: 476ms\n",
      "46:\tlearn: 1959.0070402\ttotal: 2.48s\tremaining: 422ms\n",
      "47:\tlearn: 1957.2257789\ttotal: 2.53s\tremaining: 370ms\n",
      "48:\tlearn: 1956.2709810\ttotal: 2.59s\tremaining: 317ms\n",
      "49:\tlearn: 1952.9517984\ttotal: 2.64s\tremaining: 264ms\n",
      "50:\tlearn: 1950.5072250\ttotal: 2.69s\tremaining: 211ms\n",
      "51:\tlearn: 1947.2380810\ttotal: 2.74s\tremaining: 158ms\n",
      "52:\tlearn: 1944.6557451\ttotal: 2.8s\tremaining: 106ms\n",
      "53:\tlearn: 1942.5589963\ttotal: 2.85s\tremaining: 52.7ms\n",
      "54:\tlearn: 1939.9204316\ttotal: 2.9s\tremaining: 0us\n",
      "0:\tlearn: 3403.9839917\ttotal: 92.7ms\tremaining: 7.78s\n",
      "1:\tlearn: 2788.2123173\ttotal: 178ms\tremaining: 7.37s\n",
      "2:\tlearn: 2460.6964730\ttotal: 250ms\tremaining: 6.83s\n",
      "3:\tlearn: 2299.5136821\ttotal: 336ms\tremaining: 6.79s\n",
      "4:\tlearn: 2187.3627055\ttotal: 413ms\tremaining: 6.6s\n",
      "5:\tlearn: 2119.8189941\ttotal: 491ms\tremaining: 6.47s\n",
      "6:\tlearn: 2072.8340721\ttotal: 565ms\tremaining: 6.29s\n",
      "7:\tlearn: 2047.3151988\ttotal: 648ms\tremaining: 6.24s\n",
      "8:\tlearn: 2007.2030256\ttotal: 718ms\tremaining: 6.06s\n",
      "9:\tlearn: 1979.7763303\ttotal: 790ms\tremaining: 5.92s\n",
      "10:\tlearn: 1962.6592218\ttotal: 873ms\tremaining: 5.88s\n",
      "11:\tlearn: 1949.6028374\ttotal: 951ms\tremaining: 5.78s\n",
      "12:\tlearn: 1939.3071127\ttotal: 1.03s\tremaining: 5.68s\n",
      "13:\tlearn: 1927.8951080\ttotal: 1.11s\tremaining: 5.62s\n",
      "14:\tlearn: 1920.7063992\ttotal: 1.19s\tremaining: 5.54s\n",
      "15:\tlearn: 1912.0462031\ttotal: 1.27s\tremaining: 5.46s\n",
      "16:\tlearn: 1906.7735346\ttotal: 1.35s\tremaining: 5.4s\n",
      "17:\tlearn: 1896.2140478\ttotal: 1.43s\tremaining: 5.3s\n",
      "18:\tlearn: 1892.7128290\ttotal: 1.51s\tremaining: 5.24s\n",
      "19:\tlearn: 1887.6453415\ttotal: 1.58s\tremaining: 5.15s\n",
      "20:\tlearn: 1884.4820464\ttotal: 1.66s\tremaining: 5.05s\n",
      "21:\tlearn: 1880.6397804\ttotal: 1.73s\tremaining: 4.96s\n",
      "22:\tlearn: 1874.5472170\ttotal: 1.81s\tremaining: 4.87s\n",
      "23:\tlearn: 1867.2921555\ttotal: 1.88s\tremaining: 4.78s\n",
      "24:\tlearn: 1863.4162582\ttotal: 1.95s\tremaining: 4.69s\n",
      "25:\tlearn: 1861.1050034\ttotal: 2.03s\tremaining: 4.6s\n",
      "26:\tlearn: 1857.4114600\ttotal: 2.1s\tremaining: 4.52s\n",
      "27:\tlearn: 1851.9643379\ttotal: 2.18s\tremaining: 4.45s\n",
      "28:\tlearn: 1848.4897698\ttotal: 2.25s\tremaining: 4.36s\n",
      "29:\tlearn: 1845.1199831\ttotal: 2.33s\tremaining: 4.27s\n",
      "30:\tlearn: 1841.4135981\ttotal: 2.41s\tremaining: 4.19s\n",
      "31:\tlearn: 1838.1478871\ttotal: 2.48s\tremaining: 4.12s\n",
      "32:\tlearn: 1835.3448357\ttotal: 2.56s\tremaining: 4.04s\n",
      "33:\tlearn: 1833.0179540\ttotal: 2.63s\tremaining: 3.95s\n",
      "34:\tlearn: 1830.4191285\ttotal: 2.72s\tremaining: 3.88s\n",
      "35:\tlearn: 1828.5356789\ttotal: 2.79s\tremaining: 3.8s\n",
      "36:\tlearn: 1824.9253650\ttotal: 2.87s\tremaining: 3.73s\n",
      "37:\tlearn: 1823.0726624\ttotal: 2.95s\tremaining: 3.64s\n",
      "38:\tlearn: 1820.3529265\ttotal: 3.02s\tremaining: 3.56s\n",
      "39:\tlearn: 1817.8943846\ttotal: 3.09s\tremaining: 3.48s\n",
      "40:\tlearn: 1815.6773155\ttotal: 3.17s\tremaining: 3.41s\n",
      "41:\tlearn: 1813.0318980\ttotal: 3.25s\tremaining: 3.33s\n",
      "42:\tlearn: 1811.1748220\ttotal: 3.33s\tremaining: 3.25s\n",
      "43:\tlearn: 1808.5593283\ttotal: 3.4s\tremaining: 3.17s\n",
      "44:\tlearn: 1806.9541215\ttotal: 3.48s\tremaining: 3.1s\n",
      "45:\tlearn: 1804.5377519\ttotal: 3.57s\tremaining: 3.02s\n",
      "46:\tlearn: 1803.3461379\ttotal: 3.65s\tremaining: 2.95s\n",
      "47:\tlearn: 1801.5494677\ttotal: 3.72s\tremaining: 2.87s\n",
      "48:\tlearn: 1798.4605671\ttotal: 3.79s\tremaining: 2.79s\n",
      "49:\tlearn: 1796.7712949\ttotal: 3.88s\tremaining: 2.71s\n",
      "50:\tlearn: 1794.5920750\ttotal: 3.95s\tremaining: 2.63s\n",
      "51:\tlearn: 1793.6221262\ttotal: 4.03s\tremaining: 2.56s\n",
      "52:\tlearn: 1791.2387757\ttotal: 4.11s\tremaining: 2.48s\n",
      "53:\tlearn: 1790.9264026\ttotal: 4.19s\tremaining: 2.4s\n",
      "54:\tlearn: 1789.5861475\ttotal: 4.27s\tremaining: 2.33s\n",
      "55:\tlearn: 1787.6839250\ttotal: 4.35s\tremaining: 2.25s\n",
      "56:\tlearn: 1786.0409710\ttotal: 4.42s\tremaining: 2.17s\n",
      "57:\tlearn: 1784.9504333\ttotal: 4.5s\tremaining: 2.1s\n",
      "58:\tlearn: 1783.6384211\ttotal: 4.58s\tremaining: 2.02s\n",
      "59:\tlearn: 1782.8409583\ttotal: 4.69s\tremaining: 1.95s\n",
      "60:\tlearn: 1780.5624188\ttotal: 4.77s\tremaining: 1.88s\n",
      "61:\tlearn: 1778.5212311\ttotal: 4.84s\tremaining: 1.8s\n",
      "62:\tlearn: 1775.9682357\ttotal: 4.92s\tremaining: 1.72s\n",
      "63:\tlearn: 1774.2674992\ttotal: 4.99s\tremaining: 1.64s\n",
      "64:\tlearn: 1773.2104750\ttotal: 5.08s\tremaining: 1.56s\n",
      "65:\tlearn: 1770.9974417\ttotal: 5.15s\tremaining: 1.48s\n",
      "66:\tlearn: 1770.0676405\ttotal: 5.23s\tremaining: 1.4s\n",
      "67:\tlearn: 1769.0856582\ttotal: 5.3s\tremaining: 1.33s\n",
      "68:\tlearn: 1767.0256056\ttotal: 5.38s\tremaining: 1.25s\n",
      "69:\tlearn: 1765.9725960\ttotal: 5.46s\tremaining: 1.17s\n",
      "70:\tlearn: 1765.0079061\ttotal: 5.54s\tremaining: 1.09s\n",
      "71:\tlearn: 1763.8550417\ttotal: 5.61s\tremaining: 1.01s\n",
      "72:\tlearn: 1763.1953566\ttotal: 5.69s\tremaining: 935ms\n",
      "73:\tlearn: 1760.6312598\ttotal: 5.77s\tremaining: 857ms\n",
      "74:\tlearn: 1759.3357447\ttotal: 5.85s\tremaining: 779ms\n",
      "75:\tlearn: 1758.0691535\ttotal: 5.92s\tremaining: 701ms\n",
      "76:\tlearn: 1756.1275176\ttotal: 5.99s\tremaining: 623ms\n",
      "77:\tlearn: 1755.9658988\ttotal: 6.07s\tremaining: 545ms\n",
      "78:\tlearn: 1755.1941436\ttotal: 6.15s\tremaining: 467ms\n",
      "79:\tlearn: 1754.2921471\ttotal: 6.23s\tremaining: 389ms\n",
      "80:\tlearn: 1753.1301170\ttotal: 6.31s\tremaining: 312ms\n",
      "81:\tlearn: 1752.1057906\ttotal: 6.38s\tremaining: 234ms\n",
      "82:\tlearn: 1750.8966849\ttotal: 6.46s\tremaining: 156ms\n",
      "83:\tlearn: 1749.4802426\ttotal: 6.54s\tremaining: 77.8ms\n",
      "84:\tlearn: 1749.3953551\ttotal: 6.62s\tremaining: 0us\n",
      "0:\tlearn: 3407.6009587\ttotal: 90.9ms\tremaining: 7.64s\n",
      "1:\tlearn: 2790.9670372\ttotal: 170ms\tremaining: 7.06s\n",
      "2:\tlearn: 2468.9414732\ttotal: 248ms\tremaining: 6.78s\n",
      "3:\tlearn: 2299.3402977\ttotal: 329ms\tremaining: 6.67s\n",
      "4:\tlearn: 2182.9201174\ttotal: 406ms\tremaining: 6.5s\n",
      "5:\tlearn: 2118.4119624\ttotal: 478ms\tremaining: 6.29s\n",
      "6:\tlearn: 2079.5470285\ttotal: 551ms\tremaining: 6.13s\n",
      "7:\tlearn: 2049.8087822\ttotal: 623ms\tremaining: 6s\n",
      "8:\tlearn: 2009.2628101\ttotal: 694ms\tremaining: 5.86s\n",
      "9:\tlearn: 1984.5633551\ttotal: 771ms\tremaining: 5.78s\n",
      "10:\tlearn: 1972.8033698\ttotal: 846ms\tremaining: 5.69s\n",
      "11:\tlearn: 1961.3012995\ttotal: 924ms\tremaining: 5.62s\n",
      "12:\tlearn: 1948.6451456\ttotal: 996ms\tremaining: 5.51s\n",
      "13:\tlearn: 1937.6556803\ttotal: 1.08s\tremaining: 5.46s\n",
      "14:\tlearn: 1931.5789317\ttotal: 1.15s\tremaining: 5.38s\n",
      "15:\tlearn: 1926.2245899\ttotal: 1.23s\tremaining: 5.29s\n",
      "16:\tlearn: 1918.6567496\ttotal: 1.3s\tremaining: 5.2s\n",
      "17:\tlearn: 1910.5519421\ttotal: 1.38s\tremaining: 5.12s\n",
      "18:\tlearn: 1905.9145543\ttotal: 1.46s\tremaining: 5.07s\n",
      "19:\tlearn: 1902.4590555\ttotal: 1.54s\tremaining: 5s\n",
      "20:\tlearn: 1897.2616508\ttotal: 1.61s\tremaining: 4.91s\n",
      "21:\tlearn: 1892.0355748\ttotal: 1.69s\tremaining: 4.83s\n",
      "22:\tlearn: 1885.1196355\ttotal: 1.77s\tremaining: 4.77s\n",
      "23:\tlearn: 1878.5999886\ttotal: 1.84s\tremaining: 4.67s\n",
      "24:\tlearn: 1876.1580676\ttotal: 1.91s\tremaining: 4.59s\n",
      "25:\tlearn: 1871.8811429\ttotal: 1.98s\tremaining: 4.5s\n",
      "26:\tlearn: 1867.0790759\ttotal: 2.06s\tremaining: 4.43s\n",
      "27:\tlearn: 1863.7626931\ttotal: 2.14s\tremaining: 4.35s\n",
      "28:\tlearn: 1860.0645330\ttotal: 2.22s\tremaining: 4.28s\n",
      "29:\tlearn: 1854.5941981\ttotal: 2.28s\tremaining: 4.19s\n",
      "30:\tlearn: 1851.5536846\ttotal: 2.36s\tremaining: 4.11s\n",
      "31:\tlearn: 1846.9909665\ttotal: 2.43s\tremaining: 4.03s\n",
      "32:\tlearn: 1844.4249218\ttotal: 2.51s\tremaining: 3.95s\n",
      "33:\tlearn: 1841.7853205\ttotal: 2.58s\tremaining: 3.87s\n",
      "34:\tlearn: 1839.1531957\ttotal: 2.66s\tremaining: 3.81s\n",
      "35:\tlearn: 1836.0086438\ttotal: 2.74s\tremaining: 3.73s\n",
      "36:\tlearn: 1833.0217378\ttotal: 2.81s\tremaining: 3.65s\n",
      "37:\tlearn: 1830.5388658\ttotal: 2.88s\tremaining: 3.57s\n",
      "38:\tlearn: 1827.1513806\ttotal: 2.96s\tremaining: 3.49s\n",
      "39:\tlearn: 1824.0865397\ttotal: 3.03s\tremaining: 3.41s\n",
      "40:\tlearn: 1821.2411509\ttotal: 3.11s\tremaining: 3.34s\n",
      "41:\tlearn: 1818.4813696\ttotal: 3.19s\tremaining: 3.26s\n",
      "42:\tlearn: 1815.6951859\ttotal: 3.26s\tremaining: 3.19s\n",
      "43:\tlearn: 1814.3544172\ttotal: 3.35s\tremaining: 3.12s\n",
      "44:\tlearn: 1811.8817328\ttotal: 3.43s\tremaining: 3.05s\n",
      "45:\tlearn: 1809.1680912\ttotal: 3.51s\tremaining: 2.98s\n",
      "46:\tlearn: 1807.6441277\ttotal: 3.59s\tremaining: 2.9s\n",
      "47:\tlearn: 1805.4581356\ttotal: 3.67s\tremaining: 2.83s\n",
      "48:\tlearn: 1803.6740709\ttotal: 3.74s\tremaining: 2.75s\n",
      "49:\tlearn: 1801.6397462\ttotal: 3.81s\tremaining: 2.67s\n",
      "50:\tlearn: 1799.9572898\ttotal: 3.88s\tremaining: 2.59s\n",
      "51:\tlearn: 1796.7960813\ttotal: 3.95s\tremaining: 2.51s\n",
      "52:\tlearn: 1794.5725882\ttotal: 4.02s\tremaining: 2.43s\n",
      "53:\tlearn: 1792.7323939\ttotal: 4.1s\tremaining: 2.36s\n",
      "54:\tlearn: 1790.8334447\ttotal: 4.17s\tremaining: 2.28s\n",
      "55:\tlearn: 1789.9597068\ttotal: 4.25s\tremaining: 2.2s\n",
      "56:\tlearn: 1788.6252680\ttotal: 4.33s\tremaining: 2.13s\n",
      "57:\tlearn: 1786.9921973\ttotal: 4.4s\tremaining: 2.05s\n",
      "58:\tlearn: 1785.2110562\ttotal: 4.47s\tremaining: 1.97s\n",
      "59:\tlearn: 1785.1168685\ttotal: 4.55s\tremaining: 1.9s\n",
      "60:\tlearn: 1783.9672586\ttotal: 4.63s\tremaining: 1.82s\n",
      "61:\tlearn: 1781.9981993\ttotal: 4.7s\tremaining: 1.74s\n",
      "62:\tlearn: 1780.4090354\ttotal: 4.78s\tremaining: 1.67s\n",
      "63:\tlearn: 1779.2335503\ttotal: 4.85s\tremaining: 1.59s\n",
      "64:\tlearn: 1778.0519046\ttotal: 4.93s\tremaining: 1.52s\n",
      "65:\tlearn: 1776.5314690\ttotal: 5.01s\tremaining: 1.44s\n",
      "66:\tlearn: 1775.2344168\ttotal: 5.09s\tremaining: 1.37s\n",
      "67:\tlearn: 1773.8603554\ttotal: 5.16s\tremaining: 1.29s\n",
      "68:\tlearn: 1772.1479905\ttotal: 5.23s\tremaining: 1.21s\n",
      "69:\tlearn: 1770.7501217\ttotal: 5.3s\tremaining: 1.14s\n",
      "70:\tlearn: 1769.5260135\ttotal: 5.38s\tremaining: 1.06s\n",
      "71:\tlearn: 1768.1453350\ttotal: 5.46s\tremaining: 985ms\n",
      "72:\tlearn: 1766.7987868\ttotal: 5.53s\tremaining: 909ms\n",
      "73:\tlearn: 1765.1782491\ttotal: 5.6s\tremaining: 833ms\n",
      "74:\tlearn: 1764.1369125\ttotal: 5.68s\tremaining: 758ms\n",
      "75:\tlearn: 1763.5649215\ttotal: 5.76s\tremaining: 683ms\n",
      "76:\tlearn: 1762.4786154\ttotal: 5.85s\tremaining: 608ms\n",
      "77:\tlearn: 1761.7591206\ttotal: 5.92s\tremaining: 532ms\n",
      "78:\tlearn: 1761.0935193\ttotal: 6s\tremaining: 456ms\n",
      "79:\tlearn: 1759.8150612\ttotal: 6.08s\tremaining: 380ms\n",
      "80:\tlearn: 1758.6362907\ttotal: 6.16s\tremaining: 304ms\n",
      "81:\tlearn: 1757.7441810\ttotal: 6.23s\tremaining: 228ms\n",
      "82:\tlearn: 1757.6702841\ttotal: 6.31s\tremaining: 152ms\n",
      "83:\tlearn: 1756.0032172\ttotal: 6.38s\tremaining: 76ms\n",
      "84:\tlearn: 1754.5160659\ttotal: 6.45s\tremaining: 0us\n",
      "0:\tlearn: 3430.6970158\ttotal: 92.1ms\tremaining: 7.74s\n",
      "1:\tlearn: 2809.1224657\ttotal: 176ms\tremaining: 7.29s\n",
      "2:\tlearn: 2503.2538230\ttotal: 256ms\tremaining: 7s\n",
      "3:\tlearn: 2320.0636003\ttotal: 330ms\tremaining: 6.68s\n",
      "4:\tlearn: 2205.8803529\ttotal: 417ms\tremaining: 6.68s\n",
      "5:\tlearn: 2136.8808169\ttotal: 489ms\tremaining: 6.44s\n",
      "6:\tlearn: 2097.5231124\ttotal: 561ms\tremaining: 6.25s\n",
      "7:\tlearn: 2067.5483896\ttotal: 638ms\tremaining: 6.14s\n",
      "8:\tlearn: 2050.1079569\ttotal: 710ms\tremaining: 6s\n",
      "9:\tlearn: 2009.6172747\ttotal: 783ms\tremaining: 5.87s\n",
      "10:\tlearn: 1990.9871844\ttotal: 858ms\tremaining: 5.77s\n",
      "11:\tlearn: 1975.8356344\ttotal: 928ms\tremaining: 5.65s\n",
      "12:\tlearn: 1961.2689543\ttotal: 1s\tremaining: 5.55s\n",
      "13:\tlearn: 1950.6215950\ttotal: 1.08s\tremaining: 5.47s\n",
      "14:\tlearn: 1941.6760557\ttotal: 1.16s\tremaining: 5.41s\n",
      "15:\tlearn: 1935.4944860\ttotal: 1.24s\tremaining: 5.36s\n",
      "16:\tlearn: 1924.1488559\ttotal: 1.32s\tremaining: 5.27s\n",
      "17:\tlearn: 1915.0441233\ttotal: 1.4s\tremaining: 5.21s\n",
      "18:\tlearn: 1908.6543381\ttotal: 1.48s\tremaining: 5.13s\n",
      "19:\tlearn: 1902.4659005\ttotal: 1.55s\tremaining: 5.04s\n",
      "20:\tlearn: 1896.7029125\ttotal: 1.62s\tremaining: 4.95s\n",
      "21:\tlearn: 1892.4612601\ttotal: 1.7s\tremaining: 4.87s\n",
      "22:\tlearn: 1887.3637759\ttotal: 1.78s\tremaining: 4.8s\n",
      "23:\tlearn: 1882.2801368\ttotal: 1.86s\tremaining: 4.72s\n",
      "24:\tlearn: 1879.0074180\ttotal: 1.93s\tremaining: 4.63s\n",
      "25:\tlearn: 1875.6918241\ttotal: 2.01s\tremaining: 4.55s\n",
      "26:\tlearn: 1872.0510673\ttotal: 2.08s\tremaining: 4.47s\n",
      "27:\tlearn: 1867.4185232\ttotal: 2.15s\tremaining: 4.39s\n",
      "28:\tlearn: 1862.1463704\ttotal: 2.23s\tremaining: 4.3s\n",
      "29:\tlearn: 1859.2006556\ttotal: 2.31s\tremaining: 4.23s\n",
      "30:\tlearn: 1856.1832169\ttotal: 2.39s\tremaining: 4.16s\n",
      "31:\tlearn: 1849.9066079\ttotal: 2.46s\tremaining: 4.08s\n",
      "32:\tlearn: 1846.0391927\ttotal: 2.54s\tremaining: 4s\n",
      "33:\tlearn: 1842.9975695\ttotal: 2.62s\tremaining: 3.92s\n",
      "34:\tlearn: 1839.8608228\ttotal: 2.69s\tremaining: 3.85s\n",
      "35:\tlearn: 1837.3758219\ttotal: 2.77s\tremaining: 3.77s\n",
      "36:\tlearn: 1833.9438940\ttotal: 2.84s\tremaining: 3.69s\n",
      "37:\tlearn: 1830.6973710\ttotal: 2.92s\tremaining: 3.61s\n",
      "38:\tlearn: 1828.1895120\ttotal: 2.99s\tremaining: 3.53s\n",
      "39:\tlearn: 1825.9809625\ttotal: 3.07s\tremaining: 3.45s\n",
      "40:\tlearn: 1822.6357057\ttotal: 3.15s\tremaining: 3.38s\n",
      "41:\tlearn: 1821.0649949\ttotal: 3.22s\tremaining: 3.29s\n",
      "42:\tlearn: 1818.7054688\ttotal: 3.29s\tremaining: 3.22s\n",
      "43:\tlearn: 1816.6577964\ttotal: 3.37s\tremaining: 3.14s\n",
      "44:\tlearn: 1813.8041010\ttotal: 3.45s\tremaining: 3.06s\n",
      "45:\tlearn: 1812.3145923\ttotal: 3.53s\tremaining: 2.99s\n",
      "46:\tlearn: 1810.7819542\ttotal: 3.6s\tremaining: 2.91s\n",
      "47:\tlearn: 1808.4903666\ttotal: 3.68s\tremaining: 2.83s\n",
      "48:\tlearn: 1806.2612419\ttotal: 3.75s\tremaining: 2.76s\n",
      "49:\tlearn: 1804.5882986\ttotal: 3.83s\tremaining: 2.68s\n",
      "50:\tlearn: 1801.5064126\ttotal: 3.91s\tremaining: 2.6s\n",
      "51:\tlearn: 1800.0504968\ttotal: 3.98s\tremaining: 2.53s\n",
      "52:\tlearn: 1797.8966417\ttotal: 4.06s\tremaining: 2.45s\n",
      "53:\tlearn: 1795.7531590\ttotal: 4.13s\tremaining: 2.37s\n",
      "54:\tlearn: 1793.5772296\ttotal: 4.21s\tremaining: 2.29s\n",
      "55:\tlearn: 1791.9746365\ttotal: 4.29s\tremaining: 2.22s\n",
      "56:\tlearn: 1789.8086857\ttotal: 4.37s\tremaining: 2.14s\n",
      "57:\tlearn: 1787.5491827\ttotal: 4.44s\tremaining: 2.07s\n",
      "58:\tlearn: 1786.2445938\ttotal: 4.52s\tremaining: 1.99s\n",
      "59:\tlearn: 1784.7001674\ttotal: 4.59s\tremaining: 1.91s\n",
      "60:\tlearn: 1782.1303474\ttotal: 4.67s\tremaining: 1.84s\n",
      "61:\tlearn: 1781.2153765\ttotal: 4.75s\tremaining: 1.76s\n",
      "62:\tlearn: 1780.3692563\ttotal: 4.83s\tremaining: 1.69s\n",
      "63:\tlearn: 1778.6599033\ttotal: 4.91s\tremaining: 1.61s\n",
      "64:\tlearn: 1776.8375862\ttotal: 4.99s\tremaining: 1.53s\n",
      "65:\tlearn: 1774.2417163\ttotal: 5.06s\tremaining: 1.46s\n",
      "66:\tlearn: 1772.6863267\ttotal: 5.14s\tremaining: 1.38s\n",
      "67:\tlearn: 1771.1526089\ttotal: 5.21s\tremaining: 1.3s\n",
      "68:\tlearn: 1769.7358035\ttotal: 5.29s\tremaining: 1.23s\n",
      "69:\tlearn: 1768.3580761\ttotal: 5.36s\tremaining: 1.15s\n",
      "70:\tlearn: 1766.6092950\ttotal: 5.44s\tremaining: 1.07s\n",
      "71:\tlearn: 1764.6874239\ttotal: 5.51s\tremaining: 996ms\n",
      "72:\tlearn: 1763.3553542\ttotal: 5.59s\tremaining: 919ms\n",
      "73:\tlearn: 1761.8611462\ttotal: 5.67s\tremaining: 843ms\n",
      "74:\tlearn: 1761.0543778\ttotal: 5.75s\tremaining: 766ms\n",
      "75:\tlearn: 1760.0194761\ttotal: 5.83s\tremaining: 690ms\n",
      "76:\tlearn: 1758.8576907\ttotal: 5.9s\tremaining: 613ms\n",
      "77:\tlearn: 1758.8212511\ttotal: 5.97s\tremaining: 536ms\n",
      "78:\tlearn: 1757.1469302\ttotal: 6.05s\tremaining: 459ms\n",
      "79:\tlearn: 1755.7882079\ttotal: 6.13s\tremaining: 383ms\n",
      "80:\tlearn: 1754.6326846\ttotal: 6.21s\tremaining: 307ms\n",
      "81:\tlearn: 1753.4088989\ttotal: 6.29s\tremaining: 230ms\n",
      "82:\tlearn: 1752.1251013\ttotal: 6.37s\tremaining: 153ms\n",
      "83:\tlearn: 1750.7995384\ttotal: 6.44s\tremaining: 76.7ms\n",
      "84:\tlearn: 1749.0725910\ttotal: 6.52s\tremaining: 0us\n",
      "0:\tlearn: 3409.4252882\ttotal: 93.1ms\tremaining: 7.82s\n",
      "1:\tlearn: 2801.7228089\ttotal: 174ms\tremaining: 7.24s\n",
      "2:\tlearn: 2482.5705604\ttotal: 256ms\tremaining: 7.01s\n",
      "3:\tlearn: 2330.2034547\ttotal: 337ms\tremaining: 6.82s\n",
      "4:\tlearn: 2197.3647890\ttotal: 417ms\tremaining: 6.67s\n",
      "5:\tlearn: 2121.1320185\ttotal: 488ms\tremaining: 6.42s\n",
      "6:\tlearn: 2082.7012155\ttotal: 559ms\tremaining: 6.23s\n",
      "7:\tlearn: 2056.7087862\ttotal: 639ms\tremaining: 6.15s\n",
      "8:\tlearn: 2017.8023712\ttotal: 709ms\tremaining: 5.98s\n",
      "9:\tlearn: 1993.0275493\ttotal: 779ms\tremaining: 5.84s\n",
      "10:\tlearn: 1978.8865252\ttotal: 854ms\tremaining: 5.74s\n",
      "11:\tlearn: 1966.6825009\ttotal: 927ms\tremaining: 5.64s\n",
      "12:\tlearn: 1954.4800336\ttotal: 1s\tremaining: 5.55s\n",
      "13:\tlearn: 1942.2873010\ttotal: 1.08s\tremaining: 5.49s\n",
      "14:\tlearn: 1934.7950423\ttotal: 1.16s\tremaining: 5.41s\n",
      "15:\tlearn: 1926.7315078\ttotal: 1.23s\tremaining: 5.32s\n",
      "16:\tlearn: 1919.5190081\ttotal: 1.31s\tremaining: 5.24s\n",
      "17:\tlearn: 1911.8100931\ttotal: 1.39s\tremaining: 5.17s\n",
      "18:\tlearn: 1905.5440705\ttotal: 1.47s\tremaining: 5.1s\n",
      "19:\tlearn: 1900.7343905\ttotal: 1.54s\tremaining: 5.02s\n",
      "20:\tlearn: 1897.6910902\ttotal: 1.62s\tremaining: 4.94s\n",
      "21:\tlearn: 1892.4389707\ttotal: 1.69s\tremaining: 4.85s\n",
      "22:\tlearn: 1886.6016891\ttotal: 1.77s\tremaining: 4.78s\n",
      "23:\tlearn: 1881.8778253\ttotal: 1.85s\tremaining: 4.7s\n",
      "24:\tlearn: 1877.3210104\ttotal: 1.92s\tremaining: 4.61s\n",
      "25:\tlearn: 1871.3438275\ttotal: 1.99s\tremaining: 4.53s\n",
      "26:\tlearn: 1868.8481943\ttotal: 2.07s\tremaining: 4.44s\n",
      "27:\tlearn: 1864.0811818\ttotal: 2.15s\tremaining: 4.37s\n",
      "28:\tlearn: 1860.3491279\ttotal: 2.22s\tremaining: 4.29s\n",
      "29:\tlearn: 1857.1636650\ttotal: 2.3s\tremaining: 4.22s\n",
      "30:\tlearn: 1855.2038886\ttotal: 2.39s\tremaining: 4.16s\n",
      "31:\tlearn: 1853.1863024\ttotal: 2.46s\tremaining: 4.08s\n",
      "32:\tlearn: 1850.9781932\ttotal: 2.57s\tremaining: 4.05s\n",
      "33:\tlearn: 1847.5184874\ttotal: 2.65s\tremaining: 3.98s\n",
      "34:\tlearn: 1843.5790282\ttotal: 2.73s\tremaining: 3.9s\n",
      "35:\tlearn: 1839.0445815\ttotal: 2.8s\tremaining: 3.82s\n",
      "36:\tlearn: 1835.5564713\ttotal: 2.89s\tremaining: 3.75s\n",
      "37:\tlearn: 1832.5333595\ttotal: 2.96s\tremaining: 3.66s\n",
      "38:\tlearn: 1830.4684318\ttotal: 3.04s\tremaining: 3.59s\n",
      "39:\tlearn: 1827.7690995\ttotal: 3.12s\tremaining: 3.51s\n",
      "40:\tlearn: 1825.4925250\ttotal: 3.19s\tremaining: 3.42s\n",
      "41:\tlearn: 1823.1749832\ttotal: 3.27s\tremaining: 3.35s\n",
      "42:\tlearn: 1821.5282863\ttotal: 3.34s\tremaining: 3.27s\n",
      "43:\tlearn: 1819.1061533\ttotal: 3.42s\tremaining: 3.19s\n",
      "44:\tlearn: 1815.7631585\ttotal: 3.49s\tremaining: 3.11s\n",
      "45:\tlearn: 1814.2157777\ttotal: 3.58s\tremaining: 3.03s\n",
      "46:\tlearn: 1812.0656411\ttotal: 3.65s\tremaining: 2.95s\n",
      "47:\tlearn: 1810.0118911\ttotal: 3.73s\tremaining: 2.87s\n",
      "48:\tlearn: 1807.3964901\ttotal: 3.8s\tremaining: 2.79s\n",
      "49:\tlearn: 1805.1217285\ttotal: 3.87s\tremaining: 2.71s\n",
      "50:\tlearn: 1802.8455665\ttotal: 3.95s\tremaining: 2.63s\n",
      "51:\tlearn: 1801.7045437\ttotal: 4.03s\tremaining: 2.56s\n",
      "52:\tlearn: 1800.4080150\ttotal: 4.1s\tremaining: 2.48s\n",
      "53:\tlearn: 1798.3878089\ttotal: 4.18s\tremaining: 2.4s\n",
      "54:\tlearn: 1796.6903694\ttotal: 4.26s\tremaining: 2.32s\n",
      "55:\tlearn: 1796.4947752\ttotal: 4.34s\tremaining: 2.25s\n",
      "56:\tlearn: 1795.0171030\ttotal: 4.42s\tremaining: 2.17s\n",
      "57:\tlearn: 1793.9802959\ttotal: 4.49s\tremaining: 2.09s\n",
      "58:\tlearn: 1792.4643038\ttotal: 4.57s\tremaining: 2.01s\n",
      "59:\tlearn: 1789.9456553\ttotal: 4.64s\tremaining: 1.93s\n",
      "60:\tlearn: 1787.3782993\ttotal: 4.72s\tremaining: 1.86s\n",
      "61:\tlearn: 1786.8342091\ttotal: 4.8s\tremaining: 1.78s\n",
      "62:\tlearn: 1784.8008879\ttotal: 4.88s\tremaining: 1.7s\n",
      "63:\tlearn: 1783.2101790\ttotal: 4.96s\tremaining: 1.63s\n",
      "64:\tlearn: 1781.9487472\ttotal: 5.04s\tremaining: 1.55s\n",
      "65:\tlearn: 1780.7354841\ttotal: 5.12s\tremaining: 1.47s\n",
      "66:\tlearn: 1779.5910657\ttotal: 5.2s\tremaining: 1.4s\n",
      "67:\tlearn: 1778.1772514\ttotal: 5.29s\tremaining: 1.32s\n",
      "68:\tlearn: 1776.5796803\ttotal: 5.36s\tremaining: 1.24s\n",
      "69:\tlearn: 1775.4232609\ttotal: 5.44s\tremaining: 1.17s\n",
      "70:\tlearn: 1773.5336332\ttotal: 5.51s\tremaining: 1.09s\n",
      "71:\tlearn: 1771.6497540\ttotal: 5.59s\tremaining: 1.01s\n",
      "72:\tlearn: 1770.7412650\ttotal: 5.67s\tremaining: 932ms\n",
      "73:\tlearn: 1769.7036312\ttotal: 5.76s\tremaining: 856ms\n",
      "74:\tlearn: 1767.0135341\ttotal: 5.83s\tremaining: 777ms\n",
      "75:\tlearn: 1766.1786823\ttotal: 5.9s\tremaining: 699ms\n",
      "76:\tlearn: 1764.1773919\ttotal: 5.98s\tremaining: 622ms\n",
      "77:\tlearn: 1762.9368791\ttotal: 6.06s\tremaining: 544ms\n",
      "78:\tlearn: 1761.2741300\ttotal: 6.13s\tremaining: 466ms\n",
      "79:\tlearn: 1759.6447769\ttotal: 6.21s\tremaining: 388ms\n",
      "80:\tlearn: 1759.0204011\ttotal: 6.28s\tremaining: 310ms\n",
      "81:\tlearn: 1758.1176892\ttotal: 6.36s\tremaining: 233ms\n",
      "82:\tlearn: 1757.4122535\ttotal: 6.44s\tremaining: 155ms\n",
      "83:\tlearn: 1755.9540826\ttotal: 6.51s\tremaining: 77.6ms\n",
      "84:\tlearn: 1754.4612648\ttotal: 6.59s\tremaining: 0us\n",
      "0:\tlearn: 3408.7566986\ttotal: 90.6ms\tremaining: 7.61s\n",
      "1:\tlearn: 2809.4331878\ttotal: 168ms\tremaining: 6.98s\n",
      "2:\tlearn: 2490.8501568\ttotal: 246ms\tremaining: 6.71s\n",
      "3:\tlearn: 2311.5582629\ttotal: 324ms\tremaining: 6.57s\n",
      "4:\tlearn: 2200.1379869\ttotal: 404ms\tremaining: 6.46s\n",
      "5:\tlearn: 2129.9152636\ttotal: 481ms\tremaining: 6.33s\n",
      "6:\tlearn: 2087.5708527\ttotal: 560ms\tremaining: 6.24s\n",
      "7:\tlearn: 2056.8009749\ttotal: 633ms\tremaining: 6.09s\n",
      "8:\tlearn: 2013.4224125\ttotal: 706ms\tremaining: 5.96s\n",
      "9:\tlearn: 1992.1600972\ttotal: 788ms\tremaining: 5.91s\n",
      "10:\tlearn: 1977.6590405\ttotal: 859ms\tremaining: 5.78s\n",
      "11:\tlearn: 1963.3093548\ttotal: 936ms\tremaining: 5.69s\n",
      "12:\tlearn: 1953.6035863\ttotal: 1.01s\tremaining: 5.62s\n",
      "13:\tlearn: 1942.1140173\ttotal: 1.09s\tremaining: 5.53s\n",
      "14:\tlearn: 1933.4005856\ttotal: 1.17s\tremaining: 5.45s\n",
      "15:\tlearn: 1924.1826349\ttotal: 1.25s\tremaining: 5.38s\n",
      "16:\tlearn: 1916.6879661\ttotal: 1.32s\tremaining: 5.29s\n",
      "17:\tlearn: 1911.3895945\ttotal: 1.4s\tremaining: 5.21s\n",
      "18:\tlearn: 1903.8793440\ttotal: 1.48s\tremaining: 5.13s\n",
      "19:\tlearn: 1899.6668305\ttotal: 1.56s\tremaining: 5.06s\n",
      "20:\tlearn: 1896.0059130\ttotal: 1.64s\tremaining: 5s\n",
      "21:\tlearn: 1889.3794435\ttotal: 1.72s\tremaining: 4.92s\n",
      "22:\tlearn: 1885.6996155\ttotal: 1.79s\tremaining: 4.83s\n",
      "23:\tlearn: 1878.4105466\ttotal: 1.86s\tremaining: 4.74s\n",
      "24:\tlearn: 1874.0662634\ttotal: 1.94s\tremaining: 4.66s\n",
      "25:\tlearn: 1871.1925293\ttotal: 2.01s\tremaining: 4.57s\n",
      "26:\tlearn: 1867.0579815\ttotal: 2.09s\tremaining: 4.49s\n",
      "27:\tlearn: 1864.0634843\ttotal: 2.17s\tremaining: 4.41s\n",
      "28:\tlearn: 1861.9776617\ttotal: 2.25s\tremaining: 4.34s\n",
      "29:\tlearn: 1856.7774363\ttotal: 2.32s\tremaining: 4.25s\n",
      "30:\tlearn: 1852.8473168\ttotal: 2.39s\tremaining: 4.17s\n",
      "31:\tlearn: 1849.4215041\ttotal: 2.47s\tremaining: 4.09s\n",
      "32:\tlearn: 1847.4837645\ttotal: 2.54s\tremaining: 4.01s\n",
      "33:\tlearn: 1843.9155532\ttotal: 2.63s\tremaining: 3.94s\n",
      "34:\tlearn: 1839.4840072\ttotal: 2.7s\tremaining: 3.86s\n",
      "35:\tlearn: 1837.3607359\ttotal: 2.78s\tremaining: 3.78s\n",
      "36:\tlearn: 1835.4053636\ttotal: 2.86s\tremaining: 3.71s\n",
      "37:\tlearn: 1833.3872147\ttotal: 2.94s\tremaining: 3.63s\n",
      "38:\tlearn: 1830.7464395\ttotal: 3.01s\tremaining: 3.55s\n",
      "39:\tlearn: 1829.1938553\ttotal: 3.09s\tremaining: 3.47s\n",
      "40:\tlearn: 1825.5124542\ttotal: 3.17s\tremaining: 3.4s\n",
      "41:\tlearn: 1822.1807550\ttotal: 3.25s\tremaining: 3.33s\n",
      "42:\tlearn: 1820.1315336\ttotal: 3.34s\tremaining: 3.26s\n",
      "43:\tlearn: 1818.5409103\ttotal: 3.42s\tremaining: 3.19s\n",
      "44:\tlearn: 1815.7867839\ttotal: 3.49s\tremaining: 3.1s\n",
      "45:\tlearn: 1813.5062596\ttotal: 3.57s\tremaining: 3.03s\n",
      "46:\tlearn: 1811.0247759\ttotal: 3.65s\tremaining: 2.95s\n",
      "47:\tlearn: 1808.5104828\ttotal: 3.73s\tremaining: 2.88s\n",
      "48:\tlearn: 1806.6323271\ttotal: 3.81s\tremaining: 2.8s\n",
      "49:\tlearn: 1804.1983532\ttotal: 3.89s\tremaining: 2.72s\n",
      "50:\tlearn: 1802.3997677\ttotal: 3.98s\tremaining: 2.65s\n",
      "51:\tlearn: 1800.7840798\ttotal: 4.05s\tremaining: 2.57s\n",
      "52:\tlearn: 1799.3517400\ttotal: 4.13s\tremaining: 2.49s\n",
      "53:\tlearn: 1797.3071881\ttotal: 4.21s\tremaining: 2.42s\n",
      "54:\tlearn: 1794.7095393\ttotal: 4.29s\tremaining: 2.34s\n",
      "55:\tlearn: 1793.5325184\ttotal: 4.38s\tremaining: 2.27s\n",
      "56:\tlearn: 1792.3800191\ttotal: 4.46s\tremaining: 2.19s\n",
      "57:\tlearn: 1792.2371017\ttotal: 4.53s\tremaining: 2.11s\n",
      "58:\tlearn: 1791.1153329\ttotal: 4.61s\tremaining: 2.03s\n",
      "59:\tlearn: 1789.1427226\ttotal: 4.69s\tremaining: 1.95s\n",
      "60:\tlearn: 1787.2113149\ttotal: 4.76s\tremaining: 1.88s\n",
      "61:\tlearn: 1785.8417840\ttotal: 4.85s\tremaining: 1.8s\n",
      "62:\tlearn: 1784.7377367\ttotal: 4.93s\tremaining: 1.72s\n",
      "63:\tlearn: 1783.0854515\ttotal: 5.01s\tremaining: 1.64s\n",
      "64:\tlearn: 1781.4323341\ttotal: 5.12s\tremaining: 1.57s\n",
      "65:\tlearn: 1779.5215502\ttotal: 5.2s\tremaining: 1.5s\n",
      "66:\tlearn: 1777.8489199\ttotal: 5.28s\tremaining: 1.42s\n",
      "67:\tlearn: 1776.6800739\ttotal: 5.36s\tremaining: 1.34s\n",
      "68:\tlearn: 1774.6327987\ttotal: 5.43s\tremaining: 1.26s\n",
      "69:\tlearn: 1773.7181951\ttotal: 5.51s\tremaining: 1.18s\n",
      "70:\tlearn: 1771.5232556\ttotal: 5.59s\tremaining: 1.1s\n",
      "71:\tlearn: 1770.3228352\ttotal: 5.67s\tremaining: 1.02s\n",
      "72:\tlearn: 1768.8900947\ttotal: 5.75s\tremaining: 945ms\n",
      "73:\tlearn: 1767.4345948\ttotal: 5.83s\tremaining: 866ms\n",
      "74:\tlearn: 1765.3773159\ttotal: 5.9s\tremaining: 787ms\n",
      "75:\tlearn: 1764.0656707\ttotal: 5.98s\tremaining: 708ms\n",
      "76:\tlearn: 1763.1563312\ttotal: 6.05s\tremaining: 629ms\n",
      "77:\tlearn: 1761.7117556\ttotal: 6.14s\tremaining: 551ms\n",
      "78:\tlearn: 1759.8357061\ttotal: 6.21s\tremaining: 472ms\n",
      "79:\tlearn: 1759.4502131\ttotal: 6.29s\tremaining: 393ms\n",
      "80:\tlearn: 1758.2543338\ttotal: 6.38s\tremaining: 315ms\n",
      "81:\tlearn: 1756.7608887\ttotal: 6.45s\tremaining: 236ms\n",
      "82:\tlearn: 1754.9506815\ttotal: 6.53s\tremaining: 157ms\n",
      "83:\tlearn: 1754.4676364\ttotal: 6.6s\tremaining: 78.6ms\n",
      "84:\tlearn: 1753.6794389\ttotal: 6.69s\tremaining: 0us\n",
      "0:\tlearn: 4215.2241394\ttotal: 92ms\tremaining: 7.27s\n",
      "1:\tlearn: 3955.7294171\ttotal: 166ms\tremaining: 6.46s\n",
      "2:\tlearn: 3721.2410224\ttotal: 241ms\tremaining: 6.18s\n",
      "3:\tlearn: 3517.8156243\ttotal: 333ms\tremaining: 6.33s\n",
      "4:\tlearn: 3340.4243859\ttotal: 405ms\tremaining: 6.08s\n",
      "5:\tlearn: 3185.7048788\ttotal: 488ms\tremaining: 6.01s\n",
      "6:\tlearn: 3047.1780044\ttotal: 560ms\tremaining: 5.84s\n",
      "7:\tlearn: 2930.9030751\ttotal: 634ms\tremaining: 5.7s\n",
      "8:\tlearn: 2826.8584277\ttotal: 708ms\tremaining: 5.59s\n",
      "9:\tlearn: 2732.3274060\ttotal: 781ms\tremaining: 5.46s\n",
      "10:\tlearn: 2654.6576533\ttotal: 856ms\tremaining: 5.37s\n",
      "11:\tlearn: 2579.1746600\ttotal: 927ms\tremaining: 5.25s\n",
      "12:\tlearn: 2519.2880677\ttotal: 998ms\tremaining: 5.14s\n",
      "13:\tlearn: 2464.0296551\ttotal: 1.07s\tremaining: 5.04s\n",
      "14:\tlearn: 2417.4805217\ttotal: 1.14s\tremaining: 4.93s\n",
      "15:\tlearn: 2377.2895432\ttotal: 1.21s\tremaining: 4.83s\n",
      "16:\tlearn: 2340.3352787\ttotal: 1.28s\tremaining: 4.73s\n",
      "17:\tlearn: 2301.7077764\ttotal: 1.35s\tremaining: 4.67s\n",
      "18:\tlearn: 2264.2147684\ttotal: 1.43s\tremaining: 4.58s\n",
      "19:\tlearn: 2234.6863492\ttotal: 1.5s\tremaining: 4.49s\n",
      "20:\tlearn: 2208.2290917\ttotal: 1.57s\tremaining: 4.41s\n",
      "21:\tlearn: 2185.3838054\ttotal: 1.64s\tremaining: 4.33s\n",
      "22:\tlearn: 2162.7649620\ttotal: 1.72s\tremaining: 4.25s\n",
      "23:\tlearn: 2144.6855341\ttotal: 1.79s\tremaining: 4.17s\n",
      "24:\tlearn: 2127.1801461\ttotal: 1.85s\tremaining: 4.08s\n",
      "25:\tlearn: 2113.1880256\ttotal: 1.93s\tremaining: 4.01s\n",
      "26:\tlearn: 2099.8559604\ttotal: 2s\tremaining: 3.93s\n",
      "27:\tlearn: 2087.6321052\ttotal: 2.08s\tremaining: 3.86s\n",
      "28:\tlearn: 2077.5990557\ttotal: 2.15s\tremaining: 3.78s\n",
      "29:\tlearn: 2067.7838534\ttotal: 2.23s\tremaining: 3.71s\n",
      "30:\tlearn: 2058.6344772\ttotal: 2.3s\tremaining: 3.63s\n",
      "31:\tlearn: 2051.5495128\ttotal: 2.37s\tremaining: 3.56s\n",
      "32:\tlearn: 2038.5543038\ttotal: 2.44s\tremaining: 3.48s\n",
      "33:\tlearn: 2026.3781305\ttotal: 2.52s\tremaining: 3.41s\n",
      "34:\tlearn: 2017.0664337\ttotal: 2.6s\tremaining: 3.34s\n",
      "35:\tlearn: 2007.3696811\ttotal: 2.67s\tremaining: 3.26s\n",
      "36:\tlearn: 2001.2038506\ttotal: 2.75s\tremaining: 3.19s\n",
      "37:\tlearn: 1994.0338876\ttotal: 2.82s\tremaining: 3.12s\n",
      "38:\tlearn: 1987.8972514\ttotal: 2.9s\tremaining: 3.05s\n",
      "39:\tlearn: 1983.0010369\ttotal: 2.99s\tremaining: 2.99s\n",
      "40:\tlearn: 1977.0188916\ttotal: 3.07s\tremaining: 2.92s\n",
      "41:\tlearn: 1970.9788562\ttotal: 3.14s\tremaining: 2.84s\n",
      "42:\tlearn: 1967.0786321\ttotal: 3.22s\tremaining: 2.77s\n",
      "43:\tlearn: 1962.6652047\ttotal: 3.3s\tremaining: 2.7s\n",
      "44:\tlearn: 1958.6367638\ttotal: 3.38s\tremaining: 2.63s\n",
      "45:\tlearn: 1953.5840794\ttotal: 3.45s\tremaining: 2.55s\n",
      "46:\tlearn: 1950.9166190\ttotal: 3.53s\tremaining: 2.48s\n",
      "47:\tlearn: 1946.0967581\ttotal: 3.6s\tremaining: 2.4s\n",
      "48:\tlearn: 1942.6175867\ttotal: 3.69s\tremaining: 2.34s\n",
      "49:\tlearn: 1940.0700215\ttotal: 3.78s\tremaining: 2.27s\n",
      "50:\tlearn: 1937.2554955\ttotal: 3.86s\tremaining: 2.2s\n",
      "51:\tlearn: 1933.4443978\ttotal: 3.94s\tremaining: 2.12s\n",
      "52:\tlearn: 1929.7538457\ttotal: 4.02s\tremaining: 2.05s\n",
      "53:\tlearn: 1927.8601431\ttotal: 4.1s\tremaining: 1.98s\n",
      "54:\tlearn: 1925.4429674\ttotal: 4.19s\tremaining: 1.9s\n",
      "55:\tlearn: 1922.1390200\ttotal: 4.26s\tremaining: 1.83s\n",
      "56:\tlearn: 1918.6761752\ttotal: 4.34s\tremaining: 1.75s\n",
      "57:\tlearn: 1916.9720101\ttotal: 4.42s\tremaining: 1.68s\n",
      "58:\tlearn: 1915.2131727\ttotal: 4.5s\tremaining: 1.6s\n",
      "59:\tlearn: 1911.1917982\ttotal: 4.57s\tremaining: 1.52s\n",
      "60:\tlearn: 1908.4330461\ttotal: 4.65s\tremaining: 1.45s\n",
      "61:\tlearn: 1905.6259696\ttotal: 4.72s\tremaining: 1.37s\n",
      "62:\tlearn: 1903.1582913\ttotal: 4.8s\tremaining: 1.3s\n",
      "63:\tlearn: 1901.1925022\ttotal: 4.88s\tremaining: 1.22s\n",
      "64:\tlearn: 1898.7673492\ttotal: 4.96s\tremaining: 1.15s\n",
      "65:\tlearn: 1896.4010819\ttotal: 5.04s\tremaining: 1.07s\n",
      "66:\tlearn: 1894.6110476\ttotal: 5.12s\tremaining: 993ms\n",
      "67:\tlearn: 1893.3174522\ttotal: 5.2s\tremaining: 917ms\n",
      "68:\tlearn: 1890.5759294\ttotal: 5.27s\tremaining: 840ms\n",
      "69:\tlearn: 1889.2480911\ttotal: 5.35s\tremaining: 765ms\n",
      "70:\tlearn: 1887.6875065\ttotal: 5.43s\tremaining: 688ms\n",
      "71:\tlearn: 1886.2930395\ttotal: 5.51s\tremaining: 612ms\n",
      "72:\tlearn: 1885.4630723\ttotal: 5.59s\tremaining: 536ms\n",
      "73:\tlearn: 1883.3184894\ttotal: 5.67s\tremaining: 459ms\n",
      "74:\tlearn: 1881.5647026\ttotal: 5.74s\tremaining: 383ms\n",
      "75:\tlearn: 1880.0306396\ttotal: 5.82s\tremaining: 306ms\n",
      "76:\tlearn: 1878.9012031\ttotal: 5.91s\tremaining: 230ms\n",
      "77:\tlearn: 1876.9792404\ttotal: 5.98s\tremaining: 153ms\n",
      "78:\tlearn: 1875.4661240\ttotal: 6.07s\tremaining: 76.8ms\n",
      "79:\tlearn: 1873.8749501\ttotal: 6.14s\tremaining: 0us\n",
      "0:\tlearn: 4219.2754959\ttotal: 94.5ms\tremaining: 7.47s\n",
      "1:\tlearn: 3958.3821958\ttotal: 168ms\tremaining: 6.55s\n",
      "2:\tlearn: 3727.3597703\ttotal: 250ms\tremaining: 6.43s\n",
      "3:\tlearn: 3520.6161871\ttotal: 333ms\tremaining: 6.33s\n",
      "4:\tlearn: 3337.4469267\ttotal: 411ms\tremaining: 6.16s\n",
      "5:\tlearn: 3183.2807291\ttotal: 483ms\tremaining: 5.96s\n",
      "6:\tlearn: 3041.1413256\ttotal: 585ms\tremaining: 6.1s\n",
      "7:\tlearn: 2923.8274773\ttotal: 670ms\tremaining: 6.03s\n",
      "8:\tlearn: 2815.4736806\ttotal: 744ms\tremaining: 5.87s\n",
      "9:\tlearn: 2726.6316797\ttotal: 819ms\tremaining: 5.74s\n",
      "10:\tlearn: 2645.9955761\ttotal: 894ms\tremaining: 5.61s\n",
      "11:\tlearn: 2574.9063660\ttotal: 969ms\tremaining: 5.49s\n",
      "12:\tlearn: 2514.0516288\ttotal: 1.05s\tremaining: 5.4s\n",
      "13:\tlearn: 2462.0895911\ttotal: 1.13s\tremaining: 5.31s\n",
      "14:\tlearn: 2412.9872320\ttotal: 1.2s\tremaining: 5.19s\n",
      "15:\tlearn: 2372.0897062\ttotal: 1.27s\tremaining: 5.08s\n",
      "16:\tlearn: 2335.4889356\ttotal: 1.34s\tremaining: 4.97s\n",
      "17:\tlearn: 2295.2763268\ttotal: 1.42s\tremaining: 4.88s\n",
      "18:\tlearn: 2260.6707728\ttotal: 1.49s\tremaining: 4.78s\n",
      "19:\tlearn: 2230.0947141\ttotal: 1.56s\tremaining: 4.69s\n",
      "20:\tlearn: 2202.2222337\ttotal: 1.64s\tremaining: 4.6s\n",
      "21:\tlearn: 2178.8085467\ttotal: 1.71s\tremaining: 4.51s\n",
      "22:\tlearn: 2158.2863539\ttotal: 1.79s\tremaining: 4.43s\n",
      "23:\tlearn: 2140.2745728\ttotal: 1.86s\tremaining: 4.35s\n",
      "24:\tlearn: 2124.6609223\ttotal: 1.94s\tremaining: 4.26s\n",
      "25:\tlearn: 2109.3225358\ttotal: 2.01s\tremaining: 4.18s\n",
      "26:\tlearn: 2095.9858563\ttotal: 2.09s\tremaining: 4.09s\n",
      "27:\tlearn: 2083.3146400\ttotal: 2.16s\tremaining: 4.01s\n",
      "28:\tlearn: 2073.0365425\ttotal: 2.23s\tremaining: 3.92s\n",
      "29:\tlearn: 2064.2563091\ttotal: 2.3s\tremaining: 3.84s\n",
      "30:\tlearn: 2056.4839677\ttotal: 2.38s\tremaining: 3.76s\n",
      "31:\tlearn: 2047.7495871\ttotal: 2.45s\tremaining: 3.68s\n",
      "32:\tlearn: 2035.0852715\ttotal: 2.53s\tremaining: 3.6s\n",
      "33:\tlearn: 2025.4850197\ttotal: 2.6s\tremaining: 3.52s\n",
      "34:\tlearn: 2016.4229989\ttotal: 2.68s\tremaining: 3.44s\n",
      "35:\tlearn: 2009.3396983\ttotal: 2.75s\tremaining: 3.37s\n",
      "36:\tlearn: 2001.8122249\ttotal: 2.83s\tremaining: 3.29s\n",
      "37:\tlearn: 1994.8776290\ttotal: 2.9s\tremaining: 3.21s\n",
      "38:\tlearn: 1988.1268228\ttotal: 2.98s\tremaining: 3.13s\n",
      "39:\tlearn: 1983.1854140\ttotal: 3.06s\tremaining: 3.06s\n",
      "40:\tlearn: 1978.3502475\ttotal: 3.14s\tremaining: 2.99s\n",
      "41:\tlearn: 1974.0369741\ttotal: 3.22s\tremaining: 2.91s\n",
      "42:\tlearn: 1969.6694414\ttotal: 3.3s\tremaining: 2.84s\n",
      "43:\tlearn: 1964.2791522\ttotal: 3.38s\tremaining: 2.77s\n",
      "44:\tlearn: 1960.0148881\ttotal: 3.46s\tremaining: 2.69s\n",
      "45:\tlearn: 1955.9189224\ttotal: 3.53s\tremaining: 2.61s\n",
      "46:\tlearn: 1952.1164734\ttotal: 3.61s\tremaining: 2.54s\n",
      "47:\tlearn: 1949.3014580\ttotal: 3.69s\tremaining: 2.46s\n",
      "48:\tlearn: 1944.9107662\ttotal: 3.77s\tremaining: 2.38s\n",
      "49:\tlearn: 1941.5744949\ttotal: 3.85s\tremaining: 2.31s\n",
      "50:\tlearn: 1937.3541005\ttotal: 3.92s\tremaining: 2.23s\n",
      "51:\tlearn: 1935.3468708\ttotal: 4s\tremaining: 2.15s\n",
      "52:\tlearn: 1932.7910346\ttotal: 4.09s\tremaining: 2.08s\n",
      "53:\tlearn: 1929.3899172\ttotal: 4.16s\tremaining: 2s\n",
      "54:\tlearn: 1926.9156610\ttotal: 4.24s\tremaining: 1.93s\n",
      "55:\tlearn: 1924.2567241\ttotal: 4.32s\tremaining: 1.85s\n",
      "56:\tlearn: 1921.0428266\ttotal: 4.39s\tremaining: 1.77s\n",
      "57:\tlearn: 1918.7254888\ttotal: 4.47s\tremaining: 1.7s\n",
      "58:\tlearn: 1916.2414911\ttotal: 4.55s\tremaining: 1.62s\n",
      "59:\tlearn: 1914.2743981\ttotal: 4.63s\tremaining: 1.54s\n",
      "60:\tlearn: 1912.9209114\ttotal: 4.71s\tremaining: 1.47s\n",
      "61:\tlearn: 1911.2325835\ttotal: 4.79s\tremaining: 1.39s\n",
      "62:\tlearn: 1909.2335668\ttotal: 4.86s\tremaining: 1.31s\n",
      "63:\tlearn: 1907.5428494\ttotal: 4.93s\tremaining: 1.23s\n",
      "64:\tlearn: 1904.9388580\ttotal: 5.01s\tremaining: 1.16s\n",
      "65:\tlearn: 1901.6706659\ttotal: 5.08s\tremaining: 1.08s\n",
      "66:\tlearn: 1899.5346310\ttotal: 5.16s\tremaining: 1s\n",
      "67:\tlearn: 1897.9555545\ttotal: 5.23s\tremaining: 924ms\n",
      "68:\tlearn: 1896.3865934\ttotal: 5.31s\tremaining: 846ms\n",
      "69:\tlearn: 1893.7406083\ttotal: 5.38s\tremaining: 769ms\n",
      "70:\tlearn: 1892.4022666\ttotal: 5.46s\tremaining: 692ms\n",
      "71:\tlearn: 1890.8935469\ttotal: 5.54s\tremaining: 615ms\n",
      "72:\tlearn: 1888.0722242\ttotal: 5.61s\tremaining: 538ms\n",
      "73:\tlearn: 1886.2308572\ttotal: 5.69s\tremaining: 461ms\n",
      "74:\tlearn: 1885.1138545\ttotal: 5.77s\tremaining: 384ms\n",
      "75:\tlearn: 1883.2213819\ttotal: 5.85s\tremaining: 308ms\n",
      "76:\tlearn: 1881.9923350\ttotal: 5.93s\tremaining: 231ms\n",
      "77:\tlearn: 1880.6580700\ttotal: 6.01s\tremaining: 154ms\n",
      "78:\tlearn: 1879.3915853\ttotal: 6.08s\tremaining: 77ms\n",
      "79:\tlearn: 1877.9076006\ttotal: 6.16s\tremaining: 0us\n",
      "0:\tlearn: 4226.8319951\ttotal: 93.2ms\tremaining: 7.36s\n",
      "1:\tlearn: 3967.3433032\ttotal: 167ms\tremaining: 6.5s\n",
      "2:\tlearn: 3729.1666349\ttotal: 238ms\tremaining: 6.12s\n",
      "3:\tlearn: 3525.4641938\ttotal: 327ms\tremaining: 6.22s\n",
      "4:\tlearn: 3348.8654800\ttotal: 399ms\tremaining: 5.98s\n",
      "5:\tlearn: 3192.5522290\ttotal: 480ms\tremaining: 5.92s\n",
      "6:\tlearn: 3055.7024647\ttotal: 557ms\tremaining: 5.81s\n",
      "7:\tlearn: 2935.7251592\ttotal: 629ms\tremaining: 5.66s\n",
      "8:\tlearn: 2831.1325384\ttotal: 700ms\tremaining: 5.52s\n",
      "9:\tlearn: 2739.7740257\ttotal: 772ms\tremaining: 5.4s\n",
      "10:\tlearn: 2657.9259413\ttotal: 844ms\tremaining: 5.29s\n",
      "11:\tlearn: 2590.7010898\ttotal: 915ms\tremaining: 5.19s\n",
      "12:\tlearn: 2527.2056469\ttotal: 988ms\tremaining: 5.09s\n",
      "13:\tlearn: 2472.0132138\ttotal: 1.07s\tremaining: 5.03s\n",
      "14:\tlearn: 2427.7135857\ttotal: 1.14s\tremaining: 4.94s\n",
      "15:\tlearn: 2386.2009928\ttotal: 1.21s\tremaining: 4.85s\n",
      "16:\tlearn: 2348.2752769\ttotal: 1.29s\tremaining: 4.77s\n",
      "17:\tlearn: 2307.1638806\ttotal: 1.36s\tremaining: 4.7s\n",
      "18:\tlearn: 2273.2981169\ttotal: 1.44s\tremaining: 4.63s\n",
      "19:\tlearn: 2243.6359812\ttotal: 1.51s\tremaining: 4.54s\n",
      "20:\tlearn: 2214.5283446\ttotal: 1.58s\tremaining: 4.45s\n",
      "21:\tlearn: 2190.2662135\ttotal: 1.66s\tremaining: 4.37s\n",
      "22:\tlearn: 2169.6858008\ttotal: 1.73s\tremaining: 4.28s\n",
      "23:\tlearn: 2152.4655937\ttotal: 1.8s\tremaining: 4.21s\n",
      "24:\tlearn: 2133.3795021\ttotal: 1.87s\tremaining: 4.12s\n",
      "25:\tlearn: 2118.8419825\ttotal: 1.95s\tremaining: 4.05s\n",
      "26:\tlearn: 2105.4034254\ttotal: 2.02s\tremaining: 3.97s\n",
      "27:\tlearn: 2093.5018710\ttotal: 2.09s\tremaining: 3.89s\n",
      "28:\tlearn: 2083.8888645\ttotal: 2.17s\tremaining: 3.82s\n",
      "29:\tlearn: 2075.8521524\ttotal: 2.25s\tremaining: 3.75s\n",
      "30:\tlearn: 2066.1773435\ttotal: 2.32s\tremaining: 3.67s\n",
      "31:\tlearn: 2052.0275769\ttotal: 2.4s\tremaining: 3.6s\n",
      "32:\tlearn: 2040.3500849\ttotal: 2.47s\tremaining: 3.52s\n",
      "33:\tlearn: 2030.0786649\ttotal: 2.55s\tremaining: 3.44s\n",
      "34:\tlearn: 2021.4561002\ttotal: 2.62s\tremaining: 3.37s\n",
      "35:\tlearn: 2013.7591546\ttotal: 2.69s\tremaining: 3.29s\n",
      "36:\tlearn: 2005.8157437\ttotal: 2.77s\tremaining: 3.21s\n",
      "37:\tlearn: 2000.2997254\ttotal: 2.85s\tremaining: 3.15s\n",
      "38:\tlearn: 1992.8522657\ttotal: 2.92s\tremaining: 3.07s\n",
      "39:\tlearn: 1986.9746272\ttotal: 3s\tremaining: 3s\n",
      "40:\tlearn: 1982.6041905\ttotal: 3.08s\tremaining: 2.93s\n",
      "41:\tlearn: 1977.4869420\ttotal: 3.16s\tremaining: 2.86s\n",
      "42:\tlearn: 1973.4529464\ttotal: 3.24s\tremaining: 2.79s\n",
      "43:\tlearn: 1968.7129152\ttotal: 3.32s\tremaining: 2.71s\n",
      "44:\tlearn: 1964.9002405\ttotal: 3.4s\tremaining: 2.64s\n",
      "45:\tlearn: 1959.0598135\ttotal: 3.48s\tremaining: 2.57s\n",
      "46:\tlearn: 1955.0249553\ttotal: 3.56s\tremaining: 2.5s\n",
      "47:\tlearn: 1951.4274542\ttotal: 3.67s\tremaining: 2.45s\n",
      "48:\tlearn: 1948.8262919\ttotal: 3.75s\tremaining: 2.37s\n",
      "49:\tlearn: 1945.3101423\ttotal: 3.82s\tremaining: 2.29s\n",
      "50:\tlearn: 1942.1663635\ttotal: 3.9s\tremaining: 2.22s\n",
      "51:\tlearn: 1938.4757787\ttotal: 3.98s\tremaining: 2.14s\n",
      "52:\tlearn: 1935.3889385\ttotal: 4.05s\tremaining: 2.07s\n",
      "53:\tlearn: 1933.2040763\ttotal: 4.13s\tremaining: 1.99s\n",
      "54:\tlearn: 1930.5129155\ttotal: 4.22s\tremaining: 1.92s\n",
      "55:\tlearn: 1927.8483939\ttotal: 4.29s\tremaining: 1.84s\n",
      "56:\tlearn: 1925.1250544\ttotal: 4.37s\tremaining: 1.76s\n",
      "57:\tlearn: 1921.4400699\ttotal: 4.44s\tremaining: 1.69s\n",
      "58:\tlearn: 1919.0255354\ttotal: 4.52s\tremaining: 1.61s\n",
      "59:\tlearn: 1917.2528700\ttotal: 4.6s\tremaining: 1.53s\n",
      "60:\tlearn: 1915.2570283\ttotal: 4.68s\tremaining: 1.46s\n",
      "61:\tlearn: 1911.2689067\ttotal: 4.75s\tremaining: 1.38s\n",
      "62:\tlearn: 1909.1624377\ttotal: 4.83s\tremaining: 1.3s\n",
      "63:\tlearn: 1906.0270716\ttotal: 4.91s\tremaining: 1.23s\n",
      "64:\tlearn: 1903.8187111\ttotal: 4.98s\tremaining: 1.15s\n",
      "65:\tlearn: 1901.9448514\ttotal: 5.06s\tremaining: 1.07s\n",
      "66:\tlearn: 1899.8336356\ttotal: 5.14s\tremaining: 997ms\n",
      "67:\tlearn: 1897.7929334\ttotal: 5.21s\tremaining: 920ms\n",
      "68:\tlearn: 1896.7205464\ttotal: 5.29s\tremaining: 844ms\n",
      "69:\tlearn: 1894.9999885\ttotal: 5.37s\tremaining: 768ms\n",
      "70:\tlearn: 1893.8294138\ttotal: 5.45s\tremaining: 691ms\n",
      "71:\tlearn: 1892.6911217\ttotal: 5.53s\tremaining: 615ms\n",
      "72:\tlearn: 1891.0729234\ttotal: 5.61s\tremaining: 538ms\n",
      "73:\tlearn: 1890.1177737\ttotal: 5.69s\tremaining: 462ms\n",
      "74:\tlearn: 1888.8453380\ttotal: 5.77s\tremaining: 385ms\n",
      "75:\tlearn: 1886.6533001\ttotal: 5.85s\tremaining: 308ms\n",
      "76:\tlearn: 1885.1621665\ttotal: 5.92s\tremaining: 231ms\n",
      "77:\tlearn: 1884.2297275\ttotal: 6s\tremaining: 154ms\n",
      "78:\tlearn: 1882.5249115\ttotal: 6.08s\tremaining: 76.9ms\n",
      "79:\tlearn: 1879.6057690\ttotal: 6.15s\tremaining: 0us\n",
      "0:\tlearn: 4212.2806557\ttotal: 90.9ms\tremaining: 7.18s\n",
      "1:\tlearn: 3951.0019299\ttotal: 164ms\tremaining: 6.39s\n",
      "2:\tlearn: 3722.0634185\ttotal: 247ms\tremaining: 6.33s\n",
      "3:\tlearn: 3514.7274284\ttotal: 333ms\tremaining: 6.33s\n",
      "4:\tlearn: 3334.4874346\ttotal: 411ms\tremaining: 6.16s\n",
      "5:\tlearn: 3180.8763430\ttotal: 482ms\tremaining: 5.95s\n",
      "6:\tlearn: 3042.2307689\ttotal: 559ms\tremaining: 5.83s\n",
      "7:\tlearn: 2927.8224460\ttotal: 630ms\tremaining: 5.67s\n",
      "8:\tlearn: 2823.6720583\ttotal: 701ms\tremaining: 5.53s\n",
      "9:\tlearn: 2731.6604155\ttotal: 775ms\tremaining: 5.42s\n",
      "10:\tlearn: 2649.9788272\ttotal: 851ms\tremaining: 5.34s\n",
      "11:\tlearn: 2581.6049360\ttotal: 923ms\tremaining: 5.23s\n",
      "12:\tlearn: 2518.3367051\ttotal: 995ms\tremaining: 5.13s\n",
      "13:\tlearn: 2465.0969680\ttotal: 1.07s\tremaining: 5.03s\n",
      "14:\tlearn: 2418.7625906\ttotal: 1.14s\tremaining: 4.96s\n",
      "15:\tlearn: 2378.8210588\ttotal: 1.22s\tremaining: 4.87s\n",
      "16:\tlearn: 2333.6051003\ttotal: 1.29s\tremaining: 4.79s\n",
      "17:\tlearn: 2294.7332633\ttotal: 1.36s\tremaining: 4.7s\n",
      "18:\tlearn: 2260.9201401\ttotal: 1.44s\tremaining: 4.62s\n",
      "19:\tlearn: 2233.8389351\ttotal: 1.51s\tremaining: 4.54s\n",
      "20:\tlearn: 2207.5320789\ttotal: 1.59s\tremaining: 4.47s\n",
      "21:\tlearn: 2184.3124849\ttotal: 1.66s\tremaining: 4.38s\n",
      "22:\tlearn: 2163.6942002\ttotal: 1.74s\tremaining: 4.31s\n",
      "23:\tlearn: 2146.0650898\ttotal: 1.81s\tremaining: 4.23s\n",
      "24:\tlearn: 2130.8143689\ttotal: 1.88s\tremaining: 4.14s\n",
      "25:\tlearn: 2114.9186412\ttotal: 1.96s\tremaining: 4.06s\n",
      "26:\tlearn: 2101.6490186\ttotal: 2.03s\tremaining: 3.98s\n",
      "27:\tlearn: 2090.1792024\ttotal: 2.1s\tremaining: 3.9s\n",
      "28:\tlearn: 2079.9229279\ttotal: 2.19s\tremaining: 3.85s\n",
      "29:\tlearn: 2070.5009718\ttotal: 2.27s\tremaining: 3.78s\n",
      "30:\tlearn: 2062.0078078\ttotal: 2.34s\tremaining: 3.7s\n",
      "31:\tlearn: 2048.6411618\ttotal: 2.42s\tremaining: 3.62s\n",
      "32:\tlearn: 2037.6914302\ttotal: 2.49s\tremaining: 3.55s\n",
      "33:\tlearn: 2029.9749230\ttotal: 2.56s\tremaining: 3.47s\n",
      "34:\tlearn: 2019.7348978\ttotal: 2.64s\tremaining: 3.4s\n",
      "35:\tlearn: 2011.7549241\ttotal: 2.72s\tremaining: 3.33s\n",
      "36:\tlearn: 2004.5770577\ttotal: 2.8s\tremaining: 3.25s\n",
      "37:\tlearn: 1998.4191182\ttotal: 2.88s\tremaining: 3.18s\n",
      "38:\tlearn: 1993.0379727\ttotal: 2.96s\tremaining: 3.11s\n",
      "39:\tlearn: 1986.8683870\ttotal: 3.03s\tremaining: 3.03s\n",
      "40:\tlearn: 1982.3779782\ttotal: 3.12s\tremaining: 2.96s\n",
      "41:\tlearn: 1975.8595955\ttotal: 3.19s\tremaining: 2.89s\n",
      "42:\tlearn: 1971.9692593\ttotal: 3.27s\tremaining: 2.82s\n",
      "43:\tlearn: 1967.5668900\ttotal: 3.35s\tremaining: 2.74s\n",
      "44:\tlearn: 1964.0141481\ttotal: 3.43s\tremaining: 2.67s\n",
      "45:\tlearn: 1959.7335786\ttotal: 3.51s\tremaining: 2.59s\n",
      "46:\tlearn: 1956.7384782\ttotal: 3.59s\tremaining: 2.52s\n",
      "47:\tlearn: 1953.5556709\ttotal: 3.67s\tremaining: 2.44s\n",
      "48:\tlearn: 1950.4899105\ttotal: 3.75s\tremaining: 2.37s\n",
      "49:\tlearn: 1947.0542546\ttotal: 3.82s\tremaining: 2.29s\n",
      "50:\tlearn: 1944.1735834\ttotal: 3.9s\tremaining: 2.22s\n",
      "51:\tlearn: 1941.3891254\ttotal: 3.97s\tremaining: 2.14s\n",
      "52:\tlearn: 1938.7886161\ttotal: 4.06s\tremaining: 2.07s\n",
      "53:\tlearn: 1935.3088357\ttotal: 4.14s\tremaining: 1.99s\n",
      "54:\tlearn: 1932.8809898\ttotal: 4.22s\tremaining: 1.92s\n",
      "55:\tlearn: 1929.4294946\ttotal: 4.3s\tremaining: 1.84s\n",
      "56:\tlearn: 1927.4010990\ttotal: 4.38s\tremaining: 1.77s\n",
      "57:\tlearn: 1924.7192978\ttotal: 4.45s\tremaining: 1.69s\n",
      "58:\tlearn: 1922.8343532\ttotal: 4.53s\tremaining: 1.61s\n",
      "59:\tlearn: 1920.4752455\ttotal: 4.61s\tremaining: 1.54s\n",
      "60:\tlearn: 1918.5890768\ttotal: 4.69s\tremaining: 1.46s\n",
      "61:\tlearn: 1916.3358096\ttotal: 4.77s\tremaining: 1.38s\n",
      "62:\tlearn: 1914.6894771\ttotal: 4.85s\tremaining: 1.31s\n",
      "63:\tlearn: 1912.2990890\ttotal: 4.93s\tremaining: 1.23s\n",
      "64:\tlearn: 1910.9722071\ttotal: 5.01s\tremaining: 1.16s\n",
      "65:\tlearn: 1908.3467894\ttotal: 5.08s\tremaining: 1.08s\n",
      "66:\tlearn: 1906.6762674\ttotal: 5.16s\tremaining: 1s\n",
      "67:\tlearn: 1904.7958214\ttotal: 5.24s\tremaining: 924ms\n",
      "68:\tlearn: 1902.5136172\ttotal: 5.32s\tremaining: 848ms\n",
      "69:\tlearn: 1900.6929437\ttotal: 5.39s\tremaining: 771ms\n",
      "70:\tlearn: 1898.8376603\ttotal: 5.48s\tremaining: 695ms\n",
      "71:\tlearn: 1896.8607456\ttotal: 5.55s\tremaining: 617ms\n",
      "72:\tlearn: 1895.7902945\ttotal: 5.64s\tremaining: 541ms\n",
      "73:\tlearn: 1894.3217084\ttotal: 5.72s\tremaining: 464ms\n",
      "74:\tlearn: 1892.6173639\ttotal: 5.8s\tremaining: 387ms\n",
      "75:\tlearn: 1891.7093525\ttotal: 5.88s\tremaining: 310ms\n",
      "76:\tlearn: 1889.9506230\ttotal: 5.96s\tremaining: 232ms\n",
      "77:\tlearn: 1888.9154114\ttotal: 6.04s\tremaining: 155ms\n",
      "78:\tlearn: 1888.2680020\ttotal: 6.13s\tremaining: 77.6ms\n",
      "79:\tlearn: 1887.0018064\ttotal: 6.21s\tremaining: 0us\n",
      "0:\tlearn: 4213.9594433\ttotal: 95ms\tremaining: 7.5s\n",
      "1:\tlearn: 3954.5443690\ttotal: 169ms\tremaining: 6.57s\n",
      "2:\tlearn: 3724.7862650\ttotal: 250ms\tremaining: 6.41s\n",
      "3:\tlearn: 3516.6219021\ttotal: 334ms\tremaining: 6.34s\n",
      "4:\tlearn: 3331.7838515\ttotal: 406ms\tremaining: 6.09s\n",
      "5:\tlearn: 3177.1127492\ttotal: 478ms\tremaining: 5.9s\n",
      "6:\tlearn: 3041.8380318\ttotal: 549ms\tremaining: 5.72s\n",
      "7:\tlearn: 2925.5666478\ttotal: 625ms\tremaining: 5.63s\n",
      "8:\tlearn: 2821.8955370\ttotal: 697ms\tremaining: 5.5s\n",
      "9:\tlearn: 2728.7331927\ttotal: 773ms\tremaining: 5.41s\n",
      "10:\tlearn: 2648.7617735\ttotal: 850ms\tremaining: 5.33s\n",
      "11:\tlearn: 2577.4330571\ttotal: 924ms\tremaining: 5.23s\n",
      "12:\tlearn: 2515.3226424\ttotal: 1s\tremaining: 5.17s\n",
      "13:\tlearn: 2462.6058602\ttotal: 1.08s\tremaining: 5.1s\n",
      "14:\tlearn: 2416.3103007\ttotal: 1.16s\tremaining: 5.01s\n",
      "15:\tlearn: 2374.2005191\ttotal: 1.23s\tremaining: 4.93s\n",
      "16:\tlearn: 2337.7439931\ttotal: 1.31s\tremaining: 4.84s\n",
      "17:\tlearn: 2296.5533978\ttotal: 1.38s\tremaining: 4.76s\n",
      "18:\tlearn: 2261.0856618\ttotal: 1.45s\tremaining: 4.67s\n",
      "19:\tlearn: 2232.2422596\ttotal: 1.53s\tremaining: 4.59s\n",
      "20:\tlearn: 2204.5531897\ttotal: 1.6s\tremaining: 4.5s\n",
      "21:\tlearn: 2180.2503178\ttotal: 1.68s\tremaining: 4.42s\n",
      "22:\tlearn: 2158.8708910\ttotal: 1.75s\tremaining: 4.34s\n",
      "23:\tlearn: 2140.3777847\ttotal: 1.82s\tremaining: 4.26s\n",
      "24:\tlearn: 2123.4356014\ttotal: 1.9s\tremaining: 4.17s\n",
      "25:\tlearn: 2109.1529325\ttotal: 1.97s\tremaining: 4.1s\n",
      "26:\tlearn: 2096.7577586\ttotal: 2.05s\tremaining: 4.03s\n",
      "27:\tlearn: 2085.5806497\ttotal: 2.13s\tremaining: 3.95s\n",
      "28:\tlearn: 2075.9534954\ttotal: 2.2s\tremaining: 3.88s\n",
      "29:\tlearn: 2066.4440722\ttotal: 2.28s\tremaining: 3.79s\n",
      "30:\tlearn: 2057.9975029\ttotal: 2.35s\tremaining: 3.71s\n",
      "31:\tlearn: 2050.9124400\ttotal: 2.43s\tremaining: 3.65s\n",
      "32:\tlearn: 2044.2641649\ttotal: 2.51s\tremaining: 3.57s\n",
      "33:\tlearn: 2038.2985306\ttotal: 2.58s\tremaining: 3.49s\n",
      "34:\tlearn: 2031.7917025\ttotal: 2.65s\tremaining: 3.41s\n",
      "35:\tlearn: 2020.2278826\ttotal: 2.73s\tremaining: 3.33s\n",
      "36:\tlearn: 2009.3889874\ttotal: 2.8s\tremaining: 3.25s\n",
      "37:\tlearn: 2000.7962095\ttotal: 2.88s\tremaining: 3.18s\n",
      "38:\tlearn: 1993.2571528\ttotal: 2.95s\tremaining: 3.1s\n",
      "39:\tlearn: 1987.2573295\ttotal: 3.02s\tremaining: 3.02s\n",
      "40:\tlearn: 1980.7751447\ttotal: 3.09s\tremaining: 2.94s\n",
      "41:\tlearn: 1974.8051771\ttotal: 3.16s\tremaining: 2.86s\n",
      "42:\tlearn: 1970.1347296\ttotal: 3.24s\tremaining: 2.79s\n",
      "43:\tlearn: 1966.3765701\ttotal: 3.32s\tremaining: 2.71s\n",
      "44:\tlearn: 1962.2084683\ttotal: 3.4s\tremaining: 2.64s\n",
      "45:\tlearn: 1956.7803198\ttotal: 3.47s\tremaining: 2.57s\n",
      "46:\tlearn: 1952.9986574\ttotal: 3.55s\tremaining: 2.5s\n",
      "47:\tlearn: 1949.0965154\ttotal: 3.63s\tremaining: 2.42s\n",
      "48:\tlearn: 1946.2178381\ttotal: 3.71s\tremaining: 2.35s\n",
      "49:\tlearn: 1943.3475611\ttotal: 3.79s\tremaining: 2.27s\n",
      "50:\tlearn: 1940.7915492\ttotal: 3.87s\tremaining: 2.2s\n",
      "51:\tlearn: 1937.7973902\ttotal: 3.94s\tremaining: 2.12s\n",
      "52:\tlearn: 1934.1168682\ttotal: 4.02s\tremaining: 2.05s\n",
      "53:\tlearn: 1932.1979238\ttotal: 4.1s\tremaining: 1.97s\n",
      "54:\tlearn: 1929.9886389\ttotal: 4.18s\tremaining: 1.9s\n",
      "55:\tlearn: 1926.9788728\ttotal: 4.26s\tremaining: 1.82s\n",
      "56:\tlearn: 1923.5759235\ttotal: 4.33s\tremaining: 1.75s\n",
      "57:\tlearn: 1921.2137493\ttotal: 4.41s\tremaining: 1.67s\n",
      "58:\tlearn: 1919.3126720\ttotal: 4.49s\tremaining: 1.6s\n",
      "59:\tlearn: 1916.4307940\ttotal: 4.56s\tremaining: 1.52s\n",
      "60:\tlearn: 1914.3134263\ttotal: 4.63s\tremaining: 1.44s\n",
      "61:\tlearn: 1911.7847464\ttotal: 4.71s\tremaining: 1.37s\n",
      "62:\tlearn: 1909.3587295\ttotal: 4.79s\tremaining: 1.29s\n",
      "63:\tlearn: 1907.6108683\ttotal: 4.86s\tremaining: 1.22s\n",
      "64:\tlearn: 1904.8911367\ttotal: 4.94s\tremaining: 1.14s\n",
      "65:\tlearn: 1902.6030877\ttotal: 5.02s\tremaining: 1.06s\n",
      "66:\tlearn: 1900.2438859\ttotal: 5.09s\tremaining: 989ms\n",
      "67:\tlearn: 1899.0180990\ttotal: 5.17s\tremaining: 913ms\n",
      "68:\tlearn: 1897.2530232\ttotal: 5.25s\tremaining: 837ms\n",
      "69:\tlearn: 1895.1559699\ttotal: 5.33s\tremaining: 761ms\n",
      "70:\tlearn: 1894.0387551\ttotal: 5.41s\tremaining: 686ms\n",
      "71:\tlearn: 1892.7101811\ttotal: 5.49s\tremaining: 610ms\n",
      "72:\tlearn: 1891.0747931\ttotal: 5.56s\tremaining: 533ms\n",
      "73:\tlearn: 1890.2463379\ttotal: 5.64s\tremaining: 458ms\n",
      "74:\tlearn: 1887.5879302\ttotal: 5.72s\tremaining: 381ms\n",
      "75:\tlearn: 1886.5427143\ttotal: 5.8s\tremaining: 305ms\n",
      "76:\tlearn: 1885.5570812\ttotal: 5.89s\tremaining: 229ms\n",
      "77:\tlearn: 1884.3361376\ttotal: 5.97s\tremaining: 153ms\n",
      "78:\tlearn: 1883.1801044\ttotal: 6.05s\tremaining: 76.6ms\n",
      "79:\tlearn: 1881.6104272\ttotal: 6.13s\tremaining: 0us\n",
      "0:\tlearn: 3578.6794191\ttotal: 70.9ms\tremaining: 5.25s\n",
      "1:\tlearn: 3055.9570325\ttotal: 134ms\tremaining: 4.9s\n",
      "2:\tlearn: 2721.6545851\ttotal: 187ms\tremaining: 4.49s\n",
      "3:\tlearn: 2540.7893803\ttotal: 242ms\tremaining: 4.29s\n",
      "4:\tlearn: 2419.6556576\ttotal: 301ms\tremaining: 4.22s\n",
      "5:\tlearn: 2323.6700579\ttotal: 359ms\tremaining: 4.13s\n",
      "6:\tlearn: 2271.0035000\ttotal: 409ms\tremaining: 3.97s\n",
      "7:\tlearn: 2235.5547560\ttotal: 460ms\tremaining: 3.85s\n",
      "8:\tlearn: 2213.9752694\ttotal: 516ms\tremaining: 3.78s\n",
      "9:\tlearn: 2178.8409882\ttotal: 566ms\tremaining: 3.68s\n",
      "10:\tlearn: 2153.6476169\ttotal: 617ms\tremaining: 3.59s\n",
      "11:\tlearn: 2128.9515465\ttotal: 667ms\tremaining: 3.5s\n",
      "12:\tlearn: 2111.0886139\ttotal: 721ms\tremaining: 3.44s\n",
      "13:\tlearn: 2102.3149145\ttotal: 776ms\tremaining: 3.38s\n",
      "14:\tlearn: 2088.0663292\ttotal: 831ms\tremaining: 3.32s\n",
      "15:\tlearn: 2071.8904244\ttotal: 881ms\tremaining: 3.25s\n",
      "16:\tlearn: 2059.8041947\ttotal: 937ms\tremaining: 3.19s\n",
      "17:\tlearn: 2051.7722861\ttotal: 985ms\tremaining: 3.12s\n",
      "18:\tlearn: 2040.8848446\ttotal: 1.04s\tremaining: 3.06s\n",
      "19:\tlearn: 2032.4079677\ttotal: 1.09s\tremaining: 3s\n",
      "20:\tlearn: 2026.1292409\ttotal: 1.14s\tremaining: 2.94s\n",
      "21:\tlearn: 2022.7544359\ttotal: 1.2s\tremaining: 2.88s\n",
      "22:\tlearn: 2015.3485746\ttotal: 1.25s\tremaining: 2.83s\n",
      "23:\tlearn: 2008.7157463\ttotal: 1.3s\tremaining: 2.77s\n",
      "24:\tlearn: 2003.5935613\ttotal: 1.36s\tremaining: 2.72s\n",
      "25:\tlearn: 2000.6179470\ttotal: 1.41s\tremaining: 2.66s\n",
      "26:\tlearn: 1994.9194649\ttotal: 1.46s\tremaining: 2.6s\n",
      "27:\tlearn: 1989.9434283\ttotal: 1.51s\tremaining: 2.54s\n",
      "28:\tlearn: 1985.5069165\ttotal: 1.57s\tremaining: 2.5s\n",
      "29:\tlearn: 1982.4599179\ttotal: 1.63s\tremaining: 2.45s\n",
      "30:\tlearn: 1978.3135165\ttotal: 1.68s\tremaining: 2.39s\n",
      "31:\tlearn: 1975.0969467\ttotal: 1.73s\tremaining: 2.33s\n",
      "32:\tlearn: 1967.7123126\ttotal: 1.78s\tremaining: 2.27s\n",
      "33:\tlearn: 1965.2462597\ttotal: 1.84s\tremaining: 2.22s\n",
      "34:\tlearn: 1959.3472427\ttotal: 1.89s\tremaining: 2.16s\n",
      "35:\tlearn: 1956.6411038\ttotal: 1.94s\tremaining: 2.1s\n",
      "36:\tlearn: 1954.5859183\ttotal: 2s\tremaining: 2.05s\n",
      "37:\tlearn: 1950.4648236\ttotal: 2.05s\tremaining: 1.99s\n",
      "38:\tlearn: 1948.7714048\ttotal: 2.1s\tremaining: 1.94s\n",
      "39:\tlearn: 1945.7713032\ttotal: 2.15s\tremaining: 1.88s\n",
      "40:\tlearn: 1943.1346517\ttotal: 2.2s\tremaining: 1.83s\n",
      "41:\tlearn: 1940.6660419\ttotal: 2.26s\tremaining: 1.78s\n",
      "42:\tlearn: 1938.9107109\ttotal: 2.32s\tremaining: 1.72s\n",
      "43:\tlearn: 1936.7654579\ttotal: 2.37s\tremaining: 1.67s\n",
      "44:\tlearn: 1933.3372659\ttotal: 2.42s\tremaining: 1.61s\n",
      "45:\tlearn: 1930.4298180\ttotal: 2.47s\tremaining: 1.56s\n",
      "46:\tlearn: 1927.9566426\ttotal: 2.52s\tremaining: 1.5s\n",
      "47:\tlearn: 1925.7331128\ttotal: 2.58s\tremaining: 1.45s\n",
      "48:\tlearn: 1923.2568337\ttotal: 2.63s\tremaining: 1.39s\n",
      "49:\tlearn: 1922.3905678\ttotal: 2.7s\tremaining: 1.35s\n",
      "50:\tlearn: 1920.4814709\ttotal: 2.76s\tremaining: 1.3s\n",
      "51:\tlearn: 1918.8523486\ttotal: 2.81s\tremaining: 1.24s\n",
      "52:\tlearn: 1916.5389875\ttotal: 2.87s\tremaining: 1.19s\n",
      "53:\tlearn: 1915.1642298\ttotal: 2.92s\tremaining: 1.14s\n",
      "54:\tlearn: 1912.7530668\ttotal: 2.97s\tremaining: 1.08s\n",
      "55:\tlearn: 1910.9375018\ttotal: 3.03s\tremaining: 1.03s\n",
      "56:\tlearn: 1909.2928873\ttotal: 3.08s\tremaining: 973ms\n",
      "57:\tlearn: 1907.9032763\ttotal: 3.14s\tremaining: 919ms\n",
      "58:\tlearn: 1905.8211590\ttotal: 3.19s\tremaining: 864ms\n",
      "59:\tlearn: 1904.5499409\ttotal: 3.24s\tremaining: 810ms\n",
      "60:\tlearn: 1902.1820418\ttotal: 3.29s\tremaining: 756ms\n",
      "61:\tlearn: 1900.9147101\ttotal: 3.35s\tremaining: 702ms\n",
      "62:\tlearn: 1899.8136257\ttotal: 3.4s\tremaining: 648ms\n",
      "63:\tlearn: 1897.3993083\ttotal: 3.46s\tremaining: 594ms\n",
      "64:\tlearn: 1896.2696535\ttotal: 3.51s\tremaining: 540ms\n",
      "65:\tlearn: 1895.0870702\ttotal: 3.56s\tremaining: 486ms\n",
      "66:\tlearn: 1892.7061554\ttotal: 3.61s\tremaining: 432ms\n",
      "67:\tlearn: 1889.8554157\ttotal: 3.66s\tremaining: 377ms\n",
      "68:\tlearn: 1888.1166147\ttotal: 3.71s\tremaining: 323ms\n",
      "69:\tlearn: 1886.6191741\ttotal: 3.77s\tremaining: 269ms\n",
      "70:\tlearn: 1885.2456360\ttotal: 3.82s\tremaining: 215ms\n",
      "71:\tlearn: 1884.4562350\ttotal: 3.88s\tremaining: 161ms\n",
      "72:\tlearn: 1883.2803928\ttotal: 3.93s\tremaining: 108ms\n",
      "73:\tlearn: 1882.5789553\ttotal: 3.99s\tremaining: 53.9ms\n",
      "74:\tlearn: 1880.7403895\ttotal: 4.04s\tremaining: 0us\n",
      "0:\tlearn: 3583.2744261\ttotal: 69ms\tremaining: 5.1s\n",
      "1:\tlearn: 3056.7798002\ttotal: 129ms\tremaining: 4.72s\n",
      "2:\tlearn: 2723.4645356\ttotal: 181ms\tremaining: 4.34s\n",
      "3:\tlearn: 2543.2709435\ttotal: 235ms\tremaining: 4.17s\n",
      "4:\tlearn: 2424.0524905\ttotal: 294ms\tremaining: 4.11s\n",
      "5:\tlearn: 2330.4563537\ttotal: 350ms\tremaining: 4.03s\n",
      "6:\tlearn: 2276.8093763\ttotal: 404ms\tremaining: 3.93s\n",
      "7:\tlearn: 2240.8949757\ttotal: 457ms\tremaining: 3.82s\n",
      "8:\tlearn: 2219.8929513\ttotal: 511ms\tremaining: 3.75s\n",
      "9:\tlearn: 2185.3646273\ttotal: 560ms\tremaining: 3.64s\n",
      "10:\tlearn: 2160.6136102\ttotal: 610ms\tremaining: 3.55s\n",
      "11:\tlearn: 2136.7665988\ttotal: 663ms\tremaining: 3.48s\n",
      "12:\tlearn: 2116.4793034\ttotal: 714ms\tremaining: 3.41s\n",
      "13:\tlearn: 2105.9490443\ttotal: 766ms\tremaining: 3.34s\n",
      "14:\tlearn: 2087.6193455\ttotal: 816ms\tremaining: 3.26s\n",
      "15:\tlearn: 2076.5903037\ttotal: 868ms\tremaining: 3.2s\n",
      "16:\tlearn: 2069.3071669\ttotal: 922ms\tremaining: 3.15s\n",
      "17:\tlearn: 2058.9988149\ttotal: 977ms\tremaining: 3.1s\n",
      "18:\tlearn: 2050.9654888\ttotal: 1.03s\tremaining: 3.03s\n",
      "19:\tlearn: 2038.6865109\ttotal: 1.08s\tremaining: 2.97s\n",
      "20:\tlearn: 2032.8045291\ttotal: 1.13s\tremaining: 2.9s\n",
      "21:\tlearn: 2027.7907632\ttotal: 1.18s\tremaining: 2.85s\n",
      "22:\tlearn: 2023.9306044\ttotal: 1.24s\tremaining: 2.79s\n",
      "23:\tlearn: 2019.5983797\ttotal: 1.29s\tremaining: 2.74s\n",
      "24:\tlearn: 2011.9230247\ttotal: 1.34s\tremaining: 2.68s\n",
      "25:\tlearn: 2006.2909836\ttotal: 1.39s\tremaining: 2.63s\n",
      "26:\tlearn: 2003.6539454\ttotal: 1.45s\tremaining: 2.58s\n",
      "27:\tlearn: 1998.2201829\ttotal: 1.51s\tremaining: 2.53s\n",
      "28:\tlearn: 1992.3436500\ttotal: 1.56s\tremaining: 2.47s\n",
      "29:\tlearn: 1989.0487768\ttotal: 1.61s\tremaining: 2.42s\n",
      "30:\tlearn: 1983.4949991\ttotal: 1.66s\tremaining: 2.36s\n",
      "31:\tlearn: 1980.2209220\ttotal: 1.72s\tremaining: 2.31s\n",
      "32:\tlearn: 1976.1840497\ttotal: 1.77s\tremaining: 2.25s\n",
      "33:\tlearn: 1972.6395005\ttotal: 1.82s\tremaining: 2.19s\n",
      "34:\tlearn: 1969.7850779\ttotal: 1.88s\tremaining: 2.15s\n",
      "35:\tlearn: 1967.5640615\ttotal: 1.93s\tremaining: 2.09s\n",
      "36:\tlearn: 1965.5244712\ttotal: 1.99s\tremaining: 2.04s\n",
      "37:\tlearn: 1962.5858394\ttotal: 2.04s\tremaining: 1.98s\n",
      "38:\tlearn: 1958.9635489\ttotal: 2.09s\tremaining: 1.93s\n",
      "39:\tlearn: 1957.2112852\ttotal: 2.15s\tremaining: 1.88s\n",
      "40:\tlearn: 1954.1674750\ttotal: 2.2s\tremaining: 1.83s\n",
      "41:\tlearn: 1951.1823722\ttotal: 2.25s\tremaining: 1.77s\n",
      "42:\tlearn: 1948.9678760\ttotal: 2.31s\tremaining: 1.72s\n",
      "43:\tlearn: 1946.2046420\ttotal: 2.36s\tremaining: 1.66s\n",
      "44:\tlearn: 1943.3918089\ttotal: 2.41s\tremaining: 1.61s\n",
      "45:\tlearn: 1940.9312600\ttotal: 2.47s\tremaining: 1.56s\n",
      "46:\tlearn: 1939.3742681\ttotal: 2.52s\tremaining: 1.5s\n",
      "47:\tlearn: 1936.6934547\ttotal: 2.57s\tremaining: 1.45s\n",
      "48:\tlearn: 1935.6904916\ttotal: 2.63s\tremaining: 1.39s\n",
      "49:\tlearn: 1934.1291058\ttotal: 2.68s\tremaining: 1.34s\n",
      "50:\tlearn: 1929.2496692\ttotal: 2.73s\tremaining: 1.29s\n",
      "51:\tlearn: 1925.6128562\ttotal: 2.78s\tremaining: 1.23s\n",
      "52:\tlearn: 1923.9717968\ttotal: 2.83s\tremaining: 1.18s\n",
      "53:\tlearn: 1921.2837189\ttotal: 2.89s\tremaining: 1.12s\n",
      "54:\tlearn: 1919.3186076\ttotal: 2.94s\tremaining: 1.07s\n",
      "55:\tlearn: 1918.1295758\ttotal: 2.99s\tremaining: 1.01s\n",
      "56:\tlearn: 1916.5350101\ttotal: 3.04s\tremaining: 960ms\n",
      "57:\tlearn: 1914.5236767\ttotal: 3.09s\tremaining: 906ms\n",
      "58:\tlearn: 1912.6013823\ttotal: 3.14s\tremaining: 852ms\n",
      "59:\tlearn: 1911.4020660\ttotal: 3.19s\tremaining: 799ms\n",
      "60:\tlearn: 1909.5534416\ttotal: 3.25s\tremaining: 745ms\n",
      "61:\tlearn: 1908.8652398\ttotal: 3.3s\tremaining: 692ms\n",
      "62:\tlearn: 1906.0933274\ttotal: 3.35s\tremaining: 638ms\n",
      "63:\tlearn: 1903.6627758\ttotal: 3.4s\tremaining: 584ms\n",
      "64:\tlearn: 1901.9226340\ttotal: 3.45s\tremaining: 530ms\n",
      "65:\tlearn: 1898.3503472\ttotal: 3.5s\tremaining: 477ms\n",
      "66:\tlearn: 1897.0513982\ttotal: 3.56s\tremaining: 425ms\n",
      "67:\tlearn: 1895.7545070\ttotal: 3.61s\tremaining: 371ms\n",
      "68:\tlearn: 1894.9461961\ttotal: 3.66s\tremaining: 318ms\n",
      "69:\tlearn: 1893.3514728\ttotal: 3.72s\tremaining: 266ms\n",
      "70:\tlearn: 1892.0012871\ttotal: 3.77s\tremaining: 213ms\n",
      "71:\tlearn: 1890.1687642\ttotal: 3.83s\tremaining: 159ms\n",
      "72:\tlearn: 1887.7567825\ttotal: 3.88s\tremaining: 106ms\n",
      "73:\tlearn: 1885.8839487\ttotal: 3.94s\tremaining: 53.2ms\n",
      "74:\tlearn: 1884.4999294\ttotal: 3.99s\tremaining: 0us\n",
      "0:\tlearn: 3587.0581557\ttotal: 67.7ms\tremaining: 5.01s\n",
      "1:\tlearn: 3061.3194458\ttotal: 128ms\tremaining: 4.66s\n",
      "2:\tlearn: 2727.6926663\ttotal: 179ms\tremaining: 4.29s\n",
      "3:\tlearn: 2547.0776821\ttotal: 234ms\tremaining: 4.15s\n",
      "4:\tlearn: 2425.6443500\ttotal: 294ms\tremaining: 4.11s\n",
      "5:\tlearn: 2328.2473052\ttotal: 347ms\tremaining: 3.99s\n",
      "6:\tlearn: 2274.9172564\ttotal: 404ms\tremaining: 3.92s\n",
      "7:\tlearn: 2244.7942510\ttotal: 456ms\tremaining: 3.82s\n",
      "8:\tlearn: 2204.5308284\ttotal: 508ms\tremaining: 3.73s\n",
      "9:\tlearn: 2183.4633765\ttotal: 567ms\tremaining: 3.69s\n",
      "10:\tlearn: 2163.9677747\ttotal: 622ms\tremaining: 3.62s\n",
      "11:\tlearn: 2135.7296079\ttotal: 676ms\tremaining: 3.55s\n",
      "12:\tlearn: 2117.5601501\ttotal: 732ms\tremaining: 3.49s\n",
      "13:\tlearn: 2103.4707034\ttotal: 788ms\tremaining: 3.43s\n",
      "14:\tlearn: 2092.2219523\ttotal: 842ms\tremaining: 3.37s\n",
      "15:\tlearn: 2082.1566204\ttotal: 898ms\tremaining: 3.31s\n",
      "16:\tlearn: 2067.2435172\ttotal: 948ms\tremaining: 3.23s\n",
      "17:\tlearn: 2055.9717852\ttotal: 1s\tremaining: 3.18s\n",
      "18:\tlearn: 2047.1030244\ttotal: 1.05s\tremaining: 3.11s\n",
      "19:\tlearn: 2037.5367356\ttotal: 1.1s\tremaining: 3.04s\n",
      "20:\tlearn: 2029.5784209\ttotal: 1.15s\tremaining: 2.97s\n",
      "21:\tlearn: 2024.5276387\ttotal: 1.21s\tremaining: 2.91s\n",
      "22:\tlearn: 2021.2989481\ttotal: 1.26s\tremaining: 2.85s\n",
      "23:\tlearn: 2017.3330161\ttotal: 1.31s\tremaining: 2.79s\n",
      "24:\tlearn: 2012.4296740\ttotal: 1.37s\tremaining: 2.73s\n",
      "25:\tlearn: 2006.5483923\ttotal: 1.42s\tremaining: 2.67s\n",
      "26:\tlearn: 2001.0468245\ttotal: 1.47s\tremaining: 2.62s\n",
      "27:\tlearn: 1994.1805006\ttotal: 1.52s\tremaining: 2.55s\n",
      "28:\tlearn: 1990.4941048\ttotal: 1.57s\tremaining: 2.5s\n",
      "29:\tlearn: 1985.6093515\ttotal: 1.62s\tremaining: 2.44s\n",
      "30:\tlearn: 1981.9856328\ttotal: 1.68s\tremaining: 2.38s\n",
      "31:\tlearn: 1979.2586867\ttotal: 1.73s\tremaining: 2.33s\n",
      "32:\tlearn: 1975.5678597\ttotal: 1.79s\tremaining: 2.27s\n",
      "33:\tlearn: 1972.9092386\ttotal: 1.84s\tremaining: 2.22s\n",
      "34:\tlearn: 1969.1012722\ttotal: 1.9s\tremaining: 2.17s\n",
      "35:\tlearn: 1963.9443048\ttotal: 1.95s\tremaining: 2.11s\n",
      "36:\tlearn: 1958.4595740\ttotal: 2.01s\tremaining: 2.06s\n",
      "37:\tlearn: 1956.7014987\ttotal: 2.06s\tremaining: 2s\n",
      "38:\tlearn: 1953.4701370\ttotal: 2.11s\tremaining: 1.95s\n",
      "39:\tlearn: 1951.1773494\ttotal: 2.16s\tremaining: 1.89s\n",
      "40:\tlearn: 1948.9483547\ttotal: 2.21s\tremaining: 1.83s\n",
      "41:\tlearn: 1946.4392310\ttotal: 2.27s\tremaining: 1.78s\n",
      "42:\tlearn: 1943.4961191\ttotal: 2.32s\tremaining: 1.72s\n",
      "43:\tlearn: 1939.0705762\ttotal: 2.37s\tremaining: 1.67s\n",
      "44:\tlearn: 1935.1688814\ttotal: 2.42s\tremaining: 1.61s\n",
      "45:\tlearn: 1932.9788549\ttotal: 2.48s\tremaining: 1.56s\n",
      "46:\tlearn: 1930.4401827\ttotal: 2.53s\tremaining: 1.5s\n",
      "47:\tlearn: 1928.7271516\ttotal: 2.58s\tremaining: 1.45s\n",
      "48:\tlearn: 1927.1753069\ttotal: 2.63s\tremaining: 1.4s\n",
      "49:\tlearn: 1925.7635475\ttotal: 2.69s\tremaining: 1.34s\n",
      "50:\tlearn: 1923.2355343\ttotal: 2.75s\tremaining: 1.29s\n",
      "51:\tlearn: 1920.4585446\ttotal: 2.8s\tremaining: 1.24s\n",
      "52:\tlearn: 1918.6720374\ttotal: 2.85s\tremaining: 1.18s\n",
      "53:\tlearn: 1915.8049915\ttotal: 2.91s\tremaining: 1.13s\n",
      "54:\tlearn: 1914.2177112\ttotal: 2.96s\tremaining: 1.08s\n",
      "55:\tlearn: 1913.2676536\ttotal: 3.04s\tremaining: 1.03s\n",
      "56:\tlearn: 1911.5894179\ttotal: 3.09s\tremaining: 977ms\n",
      "57:\tlearn: 1909.0372890\ttotal: 3.15s\tremaining: 922ms\n",
      "58:\tlearn: 1906.7054723\ttotal: 3.2s\tremaining: 867ms\n",
      "59:\tlearn: 1904.7310390\ttotal: 3.25s\tremaining: 813ms\n",
      "60:\tlearn: 1902.9341952\ttotal: 3.31s\tremaining: 759ms\n",
      "61:\tlearn: 1901.6852635\ttotal: 3.36s\tremaining: 704ms\n",
      "62:\tlearn: 1900.1546565\ttotal: 3.41s\tremaining: 649ms\n",
      "63:\tlearn: 1898.7445008\ttotal: 3.46s\tremaining: 594ms\n",
      "64:\tlearn: 1897.3150418\ttotal: 3.51s\tremaining: 540ms\n",
      "65:\tlearn: 1895.1258032\ttotal: 3.56s\tremaining: 486ms\n",
      "66:\tlearn: 1893.4229868\ttotal: 3.62s\tremaining: 432ms\n",
      "67:\tlearn: 1891.8698941\ttotal: 3.67s\tremaining: 378ms\n",
      "68:\tlearn: 1890.3583651\ttotal: 3.72s\tremaining: 324ms\n",
      "69:\tlearn: 1888.8738740\ttotal: 3.78s\tremaining: 270ms\n",
      "70:\tlearn: 1887.7579572\ttotal: 3.83s\tremaining: 216ms\n",
      "71:\tlearn: 1886.9697888\ttotal: 3.88s\tremaining: 162ms\n",
      "72:\tlearn: 1886.1383901\ttotal: 3.94s\tremaining: 108ms\n",
      "73:\tlearn: 1884.7675366\ttotal: 3.99s\tremaining: 53.9ms\n",
      "74:\tlearn: 1883.7269849\ttotal: 4.04s\tremaining: 0us\n",
      "0:\tlearn: 3575.2672697\ttotal: 71.5ms\tremaining: 5.29s\n",
      "1:\tlearn: 3056.3517087\ttotal: 132ms\tremaining: 4.81s\n",
      "2:\tlearn: 2726.1651880\ttotal: 184ms\tremaining: 4.42s\n",
      "3:\tlearn: 2547.4065508\ttotal: 240ms\tremaining: 4.26s\n",
      "4:\tlearn: 2405.3051264\ttotal: 305ms\tremaining: 4.27s\n",
      "5:\tlearn: 2324.2554110\ttotal: 355ms\tremaining: 4.08s\n",
      "6:\tlearn: 2275.4239931\ttotal: 408ms\tremaining: 3.96s\n",
      "7:\tlearn: 2242.2792626\ttotal: 463ms\tremaining: 3.88s\n",
      "8:\tlearn: 2209.6366187\ttotal: 518ms\tremaining: 3.8s\n",
      "9:\tlearn: 2179.2780773\ttotal: 573ms\tremaining: 3.73s\n",
      "10:\tlearn: 2163.0542628\ttotal: 631ms\tremaining: 3.67s\n",
      "11:\tlearn: 2129.8994366\ttotal: 683ms\tremaining: 3.59s\n",
      "12:\tlearn: 2117.7763669\ttotal: 735ms\tremaining: 3.51s\n",
      "13:\tlearn: 2108.6666787\ttotal: 791ms\tremaining: 3.45s\n",
      "14:\tlearn: 2093.9729818\ttotal: 844ms\tremaining: 3.38s\n",
      "15:\tlearn: 2078.6214147\ttotal: 902ms\tremaining: 3.33s\n",
      "16:\tlearn: 2066.3655976\ttotal: 953ms\tremaining: 3.25s\n",
      "17:\tlearn: 2059.5329299\ttotal: 1.01s\tremaining: 3.21s\n",
      "18:\tlearn: 2053.4216082\ttotal: 1.06s\tremaining: 3.14s\n",
      "19:\tlearn: 2042.6212465\ttotal: 1.12s\tremaining: 3.07s\n",
      "20:\tlearn: 2034.9318943\ttotal: 1.17s\tremaining: 3s\n",
      "21:\tlearn: 2028.4236321\ttotal: 1.22s\tremaining: 2.94s\n",
      "22:\tlearn: 2024.2104128\ttotal: 1.27s\tremaining: 2.88s\n",
      "23:\tlearn: 2018.4362653\ttotal: 1.32s\tremaining: 2.82s\n",
      "24:\tlearn: 2014.2965345\ttotal: 1.38s\tremaining: 2.76s\n",
      "25:\tlearn: 2006.7334876\ttotal: 1.43s\tremaining: 2.7s\n",
      "26:\tlearn: 2003.6965257\ttotal: 1.49s\tremaining: 2.65s\n",
      "27:\tlearn: 1996.9262003\ttotal: 1.54s\tremaining: 2.58s\n",
      "28:\tlearn: 1991.0087063\ttotal: 1.59s\tremaining: 2.52s\n",
      "29:\tlearn: 1987.3519634\ttotal: 1.64s\tremaining: 2.47s\n",
      "30:\tlearn: 1980.8999993\ttotal: 1.7s\tremaining: 2.41s\n",
      "31:\tlearn: 1978.2080943\ttotal: 1.75s\tremaining: 2.35s\n",
      "32:\tlearn: 1975.9888504\ttotal: 1.8s\tremaining: 2.3s\n",
      "33:\tlearn: 1971.3334281\ttotal: 1.86s\tremaining: 2.24s\n",
      "34:\tlearn: 1966.5146617\ttotal: 1.91s\tremaining: 2.18s\n",
      "35:\tlearn: 1963.7765478\ttotal: 1.96s\tremaining: 2.13s\n",
      "36:\tlearn: 1959.9017696\ttotal: 2.01s\tremaining: 2.07s\n",
      "37:\tlearn: 1957.6297060\ttotal: 2.07s\tremaining: 2.02s\n",
      "38:\tlearn: 1955.1902888\ttotal: 2.12s\tremaining: 1.96s\n",
      "39:\tlearn: 1952.2633011\ttotal: 2.17s\tremaining: 1.9s\n",
      "40:\tlearn: 1949.2610178\ttotal: 2.23s\tremaining: 1.85s\n",
      "41:\tlearn: 1946.4797233\ttotal: 2.28s\tremaining: 1.79s\n",
      "42:\tlearn: 1943.7102699\ttotal: 2.33s\tremaining: 1.74s\n",
      "43:\tlearn: 1940.3980871\ttotal: 2.39s\tremaining: 1.68s\n",
      "44:\tlearn: 1936.0358041\ttotal: 2.44s\tremaining: 1.62s\n",
      "45:\tlearn: 1932.8253792\ttotal: 2.48s\tremaining: 1.56s\n",
      "46:\tlearn: 1929.9691232\ttotal: 2.53s\tremaining: 1.51s\n",
      "47:\tlearn: 1928.1129994\ttotal: 2.58s\tremaining: 1.45s\n",
      "48:\tlearn: 1925.6277155\ttotal: 2.63s\tremaining: 1.4s\n",
      "49:\tlearn: 1923.7380072\ttotal: 2.69s\tremaining: 1.34s\n",
      "50:\tlearn: 1922.0219549\ttotal: 2.73s\tremaining: 1.29s\n",
      "51:\tlearn: 1919.7164376\ttotal: 2.78s\tremaining: 1.23s\n",
      "52:\tlearn: 1917.0115092\ttotal: 2.84s\tremaining: 1.18s\n",
      "53:\tlearn: 1916.1732902\ttotal: 2.9s\tremaining: 1.13s\n",
      "54:\tlearn: 1914.8141378\ttotal: 2.95s\tremaining: 1.07s\n",
      "55:\tlearn: 1912.5320371\ttotal: 3s\tremaining: 1.02s\n",
      "56:\tlearn: 1910.6504008\ttotal: 3.05s\tremaining: 964ms\n",
      "57:\tlearn: 1908.9249111\ttotal: 3.1s\tremaining: 910ms\n",
      "58:\tlearn: 1907.9190423\ttotal: 3.16s\tremaining: 856ms\n",
      "59:\tlearn: 1906.1073077\ttotal: 3.21s\tremaining: 802ms\n",
      "60:\tlearn: 1904.3218954\ttotal: 3.26s\tremaining: 749ms\n",
      "61:\tlearn: 1902.6634221\ttotal: 3.31s\tremaining: 694ms\n",
      "62:\tlearn: 1901.0059520\ttotal: 3.36s\tremaining: 640ms\n",
      "63:\tlearn: 1899.3148032\ttotal: 3.41s\tremaining: 586ms\n",
      "64:\tlearn: 1897.9740203\ttotal: 3.46s\tremaining: 533ms\n",
      "65:\tlearn: 1896.4931725\ttotal: 3.52s\tremaining: 480ms\n",
      "66:\tlearn: 1894.9519616\ttotal: 3.57s\tremaining: 427ms\n",
      "67:\tlearn: 1892.6227046\ttotal: 3.62s\tremaining: 373ms\n",
      "68:\tlearn: 1892.5917677\ttotal: 3.68s\tremaining: 320ms\n",
      "69:\tlearn: 1890.9583826\ttotal: 3.73s\tremaining: 266ms\n",
      "70:\tlearn: 1889.6015769\ttotal: 3.78s\tremaining: 213ms\n",
      "71:\tlearn: 1888.1025029\ttotal: 3.83s\tremaining: 160ms\n",
      "72:\tlearn: 1886.8070534\ttotal: 3.88s\tremaining: 106ms\n",
      "73:\tlearn: 1884.6286506\ttotal: 3.93s\tremaining: 53.1ms\n",
      "74:\tlearn: 1883.5988973\ttotal: 3.99s\tremaining: 0us\n",
      "0:\tlearn: 3576.4106069\ttotal: 71.3ms\tremaining: 5.28s\n",
      "1:\tlearn: 3058.7129070\ttotal: 135ms\tremaining: 4.94s\n",
      "2:\tlearn: 2725.4027108\ttotal: 189ms\tremaining: 4.54s\n",
      "3:\tlearn: 2548.5026715\ttotal: 245ms\tremaining: 4.34s\n",
      "4:\tlearn: 2435.0866411\ttotal: 303ms\tremaining: 4.24s\n",
      "5:\tlearn: 2338.5952751\ttotal: 355ms\tremaining: 4.08s\n",
      "6:\tlearn: 2286.5384810\ttotal: 408ms\tremaining: 3.96s\n",
      "7:\tlearn: 2233.6585576\ttotal: 459ms\tremaining: 3.84s\n",
      "8:\tlearn: 2205.8747474\ttotal: 509ms\tremaining: 3.74s\n",
      "9:\tlearn: 2188.7396882\ttotal: 564ms\tremaining: 3.67s\n",
      "10:\tlearn: 2163.4626186\ttotal: 623ms\tremaining: 3.63s\n",
      "11:\tlearn: 2152.3928377\ttotal: 679ms\tremaining: 3.56s\n",
      "12:\tlearn: 2132.0923611\ttotal: 730ms\tremaining: 3.48s\n",
      "13:\tlearn: 2109.5925023\ttotal: 779ms\tremaining: 3.39s\n",
      "14:\tlearn: 2094.7282109\ttotal: 833ms\tremaining: 3.33s\n",
      "15:\tlearn: 2082.9800073\ttotal: 885ms\tremaining: 3.26s\n",
      "16:\tlearn: 2072.9119257\ttotal: 939ms\tremaining: 3.2s\n",
      "17:\tlearn: 2062.1781899\ttotal: 990ms\tremaining: 3.13s\n",
      "18:\tlearn: 2055.2957505\ttotal: 1.05s\tremaining: 3.09s\n",
      "19:\tlearn: 2045.0001951\ttotal: 1.1s\tremaining: 3.02s\n",
      "20:\tlearn: 2037.0906850\ttotal: 1.15s\tremaining: 2.96s\n",
      "21:\tlearn: 2029.3846794\ttotal: 1.21s\tremaining: 2.91s\n",
      "22:\tlearn: 2019.3995374\ttotal: 1.26s\tremaining: 2.84s\n",
      "23:\tlearn: 2012.6497173\ttotal: 1.31s\tremaining: 2.78s\n",
      "24:\tlearn: 2006.4416740\ttotal: 1.36s\tremaining: 2.72s\n",
      "25:\tlearn: 2000.4663165\ttotal: 1.42s\tremaining: 2.67s\n",
      "26:\tlearn: 1996.2581486\ttotal: 1.47s\tremaining: 2.62s\n",
      "27:\tlearn: 1991.1713174\ttotal: 1.52s\tremaining: 2.56s\n",
      "28:\tlearn: 1985.0161367\ttotal: 1.58s\tremaining: 2.5s\n",
      "29:\tlearn: 1981.6275704\ttotal: 1.63s\tremaining: 2.45s\n",
      "30:\tlearn: 1978.6935329\ttotal: 1.68s\tremaining: 2.39s\n",
      "31:\tlearn: 1973.5015918\ttotal: 1.73s\tremaining: 2.33s\n",
      "32:\tlearn: 1970.2577127\ttotal: 1.78s\tremaining: 2.27s\n",
      "33:\tlearn: 1967.5736754\ttotal: 1.84s\tremaining: 2.22s\n",
      "34:\tlearn: 1964.7760971\ttotal: 1.9s\tremaining: 2.17s\n",
      "35:\tlearn: 1962.2438661\ttotal: 1.95s\tremaining: 2.11s\n",
      "36:\tlearn: 1960.3795868\ttotal: 2s\tremaining: 2.06s\n",
      "37:\tlearn: 1955.8962067\ttotal: 2.06s\tremaining: 2s\n",
      "38:\tlearn: 1953.2626701\ttotal: 2.11s\tremaining: 1.95s\n",
      "39:\tlearn: 1951.1250137\ttotal: 2.17s\tremaining: 1.9s\n",
      "40:\tlearn: 1949.0131945\ttotal: 2.22s\tremaining: 1.84s\n",
      "41:\tlearn: 1947.1366132\ttotal: 2.27s\tremaining: 1.79s\n",
      "42:\tlearn: 1944.2035909\ttotal: 2.32s\tremaining: 1.73s\n",
      "43:\tlearn: 1942.7645938\ttotal: 2.38s\tremaining: 1.68s\n",
      "44:\tlearn: 1939.0945216\ttotal: 2.43s\tremaining: 1.62s\n",
      "45:\tlearn: 1935.3280461\ttotal: 2.48s\tremaining: 1.56s\n",
      "46:\tlearn: 1932.1309979\ttotal: 2.54s\tremaining: 1.51s\n",
      "47:\tlearn: 1929.3213216\ttotal: 2.59s\tremaining: 1.46s\n",
      "48:\tlearn: 1926.8836125\ttotal: 2.64s\tremaining: 1.4s\n",
      "49:\tlearn: 1925.4746201\ttotal: 2.7s\tremaining: 1.35s\n",
      "50:\tlearn: 1923.0471760\ttotal: 2.75s\tremaining: 1.29s\n",
      "51:\tlearn: 1921.6349626\ttotal: 2.81s\tremaining: 1.24s\n",
      "52:\tlearn: 1920.5074398\ttotal: 2.86s\tremaining: 1.19s\n",
      "53:\tlearn: 1918.7391486\ttotal: 2.92s\tremaining: 1.13s\n",
      "54:\tlearn: 1917.3446189\ttotal: 2.96s\tremaining: 1.08s\n",
      "55:\tlearn: 1915.1212316\ttotal: 3.02s\tremaining: 1.02s\n",
      "56:\tlearn: 1912.1889637\ttotal: 3.07s\tremaining: 969ms\n",
      "57:\tlearn: 1910.1222532\ttotal: 3.12s\tremaining: 915ms\n",
      "58:\tlearn: 1908.3394446\ttotal: 3.17s\tremaining: 861ms\n",
      "59:\tlearn: 1906.4717038\ttotal: 3.24s\tremaining: 810ms\n",
      "60:\tlearn: 1904.7253243\ttotal: 3.3s\tremaining: 758ms\n",
      "61:\tlearn: 1903.4822461\ttotal: 3.36s\tremaining: 704ms\n",
      "62:\tlearn: 1901.9875489\ttotal: 3.41s\tremaining: 649ms\n",
      "63:\tlearn: 1900.6496904\ttotal: 3.46s\tremaining: 595ms\n",
      "64:\tlearn: 1899.4334553\ttotal: 3.51s\tremaining: 540ms\n",
      "65:\tlearn: 1897.3252953\ttotal: 3.56s\tremaining: 486ms\n",
      "66:\tlearn: 1895.3522195\ttotal: 3.62s\tremaining: 432ms\n",
      "67:\tlearn: 1894.9037459\ttotal: 3.67s\tremaining: 378ms\n",
      "68:\tlearn: 1892.8509135\ttotal: 3.73s\tremaining: 324ms\n",
      "69:\tlearn: 1891.6347941\ttotal: 3.79s\tremaining: 271ms\n",
      "70:\tlearn: 1890.8307739\ttotal: 3.84s\tremaining: 217ms\n",
      "71:\tlearn: 1888.6569671\ttotal: 3.9s\tremaining: 162ms\n",
      "72:\tlearn: 1885.8446768\ttotal: 3.95s\tremaining: 108ms\n",
      "73:\tlearn: 1884.3424746\ttotal: 4s\tremaining: 54ms\n",
      "74:\tlearn: 1883.3754896\ttotal: 4.05s\tremaining: 0us\n",
      "0:\tlearn: 4210.5153979\ttotal: 103ms\tremaining: 6.59s\n",
      "1:\tlearn: 3944.1762965\ttotal: 185ms\tremaining: 5.83s\n",
      "2:\tlearn: 3708.5509477\ttotal: 276ms\tremaining: 5.7s\n",
      "3:\tlearn: 3498.6625492\ttotal: 372ms\tremaining: 5.68s\n",
      "4:\tlearn: 3319.5126438\ttotal: 453ms\tremaining: 5.44s\n",
      "5:\tlearn: 3162.4103722\ttotal: 534ms\tremaining: 5.25s\n",
      "6:\tlearn: 3021.7802957\ttotal: 615ms\tremaining: 5.1s\n",
      "7:\tlearn: 2896.5080773\ttotal: 702ms\tremaining: 5s\n",
      "8:\tlearn: 2795.3715125\ttotal: 783ms\tremaining: 4.87s\n",
      "9:\tlearn: 2698.3230688\ttotal: 868ms\tremaining: 4.78s\n",
      "10:\tlearn: 2616.5492235\ttotal: 953ms\tremaining: 4.68s\n",
      "11:\tlearn: 2543.8046494\ttotal: 1.03s\tremaining: 4.57s\n",
      "12:\tlearn: 2479.9025065\ttotal: 1.12s\tremaining: 4.47s\n",
      "13:\tlearn: 2425.4788326\ttotal: 1.2s\tremaining: 4.37s\n",
      "14:\tlearn: 2377.4388902\ttotal: 1.28s\tremaining: 4.28s\n",
      "15:\tlearn: 2337.8176301\ttotal: 1.37s\tremaining: 4.19s\n",
      "16:\tlearn: 2294.4650521\ttotal: 1.45s\tremaining: 4.09s\n",
      "17:\tlearn: 2254.1393130\ttotal: 1.53s\tremaining: 3.99s\n",
      "18:\tlearn: 2218.9910927\ttotal: 1.61s\tremaining: 3.9s\n",
      "19:\tlearn: 2190.5307882\ttotal: 1.69s\tremaining: 3.81s\n",
      "20:\tlearn: 2163.9644260\ttotal: 1.77s\tremaining: 3.71s\n",
      "21:\tlearn: 2143.2805951\ttotal: 1.86s\tremaining: 3.63s\n",
      "22:\tlearn: 2124.3679222\ttotal: 1.94s\tremaining: 3.54s\n",
      "23:\tlearn: 2106.2642942\ttotal: 2.02s\tremaining: 3.46s\n",
      "24:\tlearn: 2089.7441826\ttotal: 2.11s\tremaining: 3.37s\n",
      "25:\tlearn: 2076.9691252\ttotal: 2.19s\tremaining: 3.29s\n",
      "26:\tlearn: 2064.9074413\ttotal: 2.28s\tremaining: 3.2s\n",
      "27:\tlearn: 2053.5034670\ttotal: 2.36s\tremaining: 3.12s\n",
      "28:\tlearn: 2044.2201747\ttotal: 2.44s\tremaining: 3.04s\n",
      "29:\tlearn: 2034.2541741\ttotal: 2.53s\tremaining: 2.95s\n",
      "30:\tlearn: 2018.5327632\ttotal: 2.62s\tremaining: 2.87s\n",
      "31:\tlearn: 2006.2318109\ttotal: 2.7s\tremaining: 2.78s\n",
      "32:\tlearn: 1995.1787980\ttotal: 2.78s\tremaining: 2.69s\n",
      "33:\tlearn: 1986.4255912\ttotal: 2.86s\tremaining: 2.61s\n",
      "34:\tlearn: 1977.2851605\ttotal: 2.95s\tremaining: 2.52s\n",
      "35:\tlearn: 1970.0919222\ttotal: 3.03s\tremaining: 2.44s\n",
      "36:\tlearn: 1963.7533336\ttotal: 3.12s\tremaining: 2.36s\n",
      "37:\tlearn: 1957.7877701\ttotal: 3.21s\tremaining: 2.28s\n",
      "38:\tlearn: 1951.8507288\ttotal: 3.29s\tremaining: 2.2s\n",
      "39:\tlearn: 1946.9453334\ttotal: 3.38s\tremaining: 2.11s\n",
      "40:\tlearn: 1942.5019802\ttotal: 3.47s\tremaining: 2.03s\n",
      "41:\tlearn: 1938.3793800\ttotal: 3.56s\tremaining: 1.95s\n",
      "42:\tlearn: 1934.5679451\ttotal: 3.65s\tremaining: 1.87s\n",
      "43:\tlearn: 1929.1701732\ttotal: 3.73s\tremaining: 1.78s\n",
      "44:\tlearn: 1924.6682423\ttotal: 3.82s\tremaining: 1.7s\n",
      "45:\tlearn: 1919.5411099\ttotal: 3.91s\tremaining: 1.61s\n",
      "46:\tlearn: 1915.6452916\ttotal: 3.99s\tremaining: 1.53s\n",
      "47:\tlearn: 1912.9436283\ttotal: 4.08s\tremaining: 1.45s\n",
      "48:\tlearn: 1909.2654632\ttotal: 4.17s\tremaining: 1.36s\n",
      "49:\tlearn: 1906.7212790\ttotal: 4.26s\tremaining: 1.28s\n",
      "50:\tlearn: 1903.6048851\ttotal: 4.35s\tremaining: 1.19s\n",
      "51:\tlearn: 1900.8455799\ttotal: 4.43s\tremaining: 1.11s\n",
      "52:\tlearn: 1898.1003884\ttotal: 4.53s\tremaining: 1.02s\n",
      "53:\tlearn: 1895.1827507\ttotal: 4.62s\tremaining: 940ms\n",
      "54:\tlearn: 1892.5309337\ttotal: 4.71s\tremaining: 857ms\n",
      "55:\tlearn: 1890.8203338\ttotal: 4.81s\tremaining: 773ms\n",
      "56:\tlearn: 1887.8161164\ttotal: 4.89s\tremaining: 687ms\n",
      "57:\tlearn: 1885.5813675\ttotal: 4.98s\tremaining: 601ms\n",
      "58:\tlearn: 1883.4809117\ttotal: 5.07s\tremaining: 516ms\n",
      "59:\tlearn: 1881.4788460\ttotal: 5.16s\tremaining: 430ms\n",
      "60:\tlearn: 1879.9348587\ttotal: 5.25s\tremaining: 344ms\n",
      "61:\tlearn: 1877.8523942\ttotal: 5.33s\tremaining: 258ms\n",
      "62:\tlearn: 1875.7721991\ttotal: 5.42s\tremaining: 172ms\n",
      "63:\tlearn: 1874.7312913\ttotal: 5.52s\tremaining: 86.3ms\n",
      "64:\tlearn: 1872.6059910\ttotal: 5.62s\tremaining: 0us\n",
      "0:\tlearn: 4214.3856518\ttotal: 101ms\tremaining: 6.47s\n",
      "1:\tlearn: 3948.0566160\ttotal: 183ms\tremaining: 5.76s\n",
      "2:\tlearn: 3712.3047966\ttotal: 272ms\tremaining: 5.62s\n",
      "3:\tlearn: 3502.6689382\ttotal: 365ms\tremaining: 5.57s\n",
      "4:\tlearn: 3321.6775238\ttotal: 446ms\tremaining: 5.36s\n",
      "5:\tlearn: 3165.1643822\ttotal: 528ms\tremaining: 5.2s\n",
      "6:\tlearn: 3025.6367166\ttotal: 612ms\tremaining: 5.07s\n",
      "7:\tlearn: 2898.6697897\ttotal: 698ms\tremaining: 4.97s\n",
      "8:\tlearn: 2792.7608721\ttotal: 780ms\tremaining: 4.85s\n",
      "9:\tlearn: 2696.2293372\ttotal: 865ms\tremaining: 4.76s\n",
      "10:\tlearn: 2615.2028705\ttotal: 954ms\tremaining: 4.68s\n",
      "11:\tlearn: 2546.8187824\ttotal: 1.03s\tremaining: 4.57s\n",
      "12:\tlearn: 2486.3427715\ttotal: 1.12s\tremaining: 4.47s\n",
      "13:\tlearn: 2432.5298663\ttotal: 1.2s\tremaining: 4.38s\n",
      "14:\tlearn: 2387.3838323\ttotal: 1.28s\tremaining: 4.27s\n",
      "15:\tlearn: 2344.2477084\ttotal: 1.36s\tremaining: 4.17s\n",
      "16:\tlearn: 2308.4062276\ttotal: 1.44s\tremaining: 4.08s\n",
      "17:\tlearn: 2266.8093819\ttotal: 1.53s\tremaining: 4s\n",
      "18:\tlearn: 2230.5755432\ttotal: 1.62s\tremaining: 3.91s\n",
      "19:\tlearn: 2200.4815496\ttotal: 1.71s\tremaining: 3.84s\n",
      "20:\tlearn: 2175.3792352\ttotal: 1.79s\tremaining: 3.74s\n",
      "21:\tlearn: 2152.5772714\ttotal: 1.87s\tremaining: 3.66s\n",
      "22:\tlearn: 2132.3515841\ttotal: 1.95s\tremaining: 3.57s\n",
      "23:\tlearn: 2115.1144891\ttotal: 2.07s\tremaining: 3.53s\n",
      "24:\tlearn: 2099.3771173\ttotal: 2.15s\tremaining: 3.44s\n",
      "25:\tlearn: 2083.6821438\ttotal: 2.23s\tremaining: 3.35s\n",
      "26:\tlearn: 2071.0449959\ttotal: 2.31s\tremaining: 3.25s\n",
      "27:\tlearn: 2060.4458653\ttotal: 2.39s\tremaining: 3.16s\n",
      "28:\tlearn: 2048.9959888\ttotal: 2.48s\tremaining: 3.08s\n",
      "29:\tlearn: 2039.3729751\ttotal: 2.56s\tremaining: 2.99s\n",
      "30:\tlearn: 2030.7525639\ttotal: 2.65s\tremaining: 2.91s\n",
      "31:\tlearn: 2016.1354860\ttotal: 2.73s\tremaining: 2.82s\n",
      "32:\tlearn: 2006.4649039\ttotal: 2.81s\tremaining: 2.73s\n",
      "33:\tlearn: 1995.1275263\ttotal: 2.89s\tremaining: 2.64s\n",
      "34:\tlearn: 1987.6595784\ttotal: 2.98s\tremaining: 2.55s\n",
      "35:\tlearn: 1980.7483836\ttotal: 3.06s\tremaining: 2.46s\n",
      "36:\tlearn: 1972.8572423\ttotal: 3.14s\tremaining: 2.38s\n",
      "37:\tlearn: 1966.5821883\ttotal: 3.23s\tremaining: 2.29s\n",
      "38:\tlearn: 1960.7343937\ttotal: 3.32s\tremaining: 2.21s\n",
      "39:\tlearn: 1955.0814345\ttotal: 3.4s\tremaining: 2.13s\n",
      "40:\tlearn: 1950.4915093\ttotal: 3.5s\tremaining: 2.05s\n",
      "41:\tlearn: 1946.0948011\ttotal: 3.58s\tremaining: 1.96s\n",
      "42:\tlearn: 1942.5424445\ttotal: 3.67s\tremaining: 1.88s\n",
      "43:\tlearn: 1939.1632683\ttotal: 3.75s\tremaining: 1.79s\n",
      "44:\tlearn: 1934.8930157\ttotal: 3.84s\tremaining: 1.71s\n",
      "45:\tlearn: 1930.7084720\ttotal: 3.93s\tremaining: 1.62s\n",
      "46:\tlearn: 1927.3167699\ttotal: 4.02s\tremaining: 1.54s\n",
      "47:\tlearn: 1923.7668271\ttotal: 4.1s\tremaining: 1.45s\n",
      "48:\tlearn: 1920.8044080\ttotal: 4.19s\tremaining: 1.37s\n",
      "49:\tlearn: 1917.5419036\ttotal: 4.28s\tremaining: 1.28s\n",
      "50:\tlearn: 1913.6483401\ttotal: 4.37s\tremaining: 1.2s\n",
      "51:\tlearn: 1910.6274514\ttotal: 4.46s\tremaining: 1.11s\n",
      "52:\tlearn: 1908.0923595\ttotal: 4.55s\tremaining: 1.03s\n",
      "53:\tlearn: 1904.0686703\ttotal: 4.63s\tremaining: 944ms\n",
      "54:\tlearn: 1901.2820423\ttotal: 4.72s\tremaining: 859ms\n",
      "55:\tlearn: 1898.3242709\ttotal: 4.81s\tremaining: 773ms\n",
      "56:\tlearn: 1896.0019112\ttotal: 4.9s\tremaining: 688ms\n",
      "57:\tlearn: 1891.7546762\ttotal: 4.99s\tremaining: 602ms\n",
      "58:\tlearn: 1889.7706630\ttotal: 5.07s\tremaining: 516ms\n",
      "59:\tlearn: 1886.8632966\ttotal: 5.16s\tremaining: 430ms\n",
      "60:\tlearn: 1884.6158537\ttotal: 5.25s\tremaining: 344ms\n",
      "61:\tlearn: 1882.7590297\ttotal: 5.33s\tremaining: 258ms\n",
      "62:\tlearn: 1880.4400364\ttotal: 5.42s\tremaining: 172ms\n",
      "63:\tlearn: 1878.5942518\ttotal: 5.51s\tremaining: 86ms\n",
      "64:\tlearn: 1876.9569189\ttotal: 5.6s\tremaining: 0us\n",
      "0:\tlearn: 4221.3098919\ttotal: 100ms\tremaining: 6.4s\n",
      "1:\tlearn: 3952.7755308\ttotal: 181ms\tremaining: 5.7s\n",
      "2:\tlearn: 3716.5182685\ttotal: 278ms\tremaining: 5.75s\n",
      "3:\tlearn: 3509.0861909\ttotal: 364ms\tremaining: 5.55s\n",
      "4:\tlearn: 3322.7965380\ttotal: 454ms\tremaining: 5.45s\n",
      "5:\tlearn: 3163.3793105\ttotal: 534ms\tremaining: 5.25s\n",
      "6:\tlearn: 3024.5038486\ttotal: 621ms\tremaining: 5.15s\n",
      "7:\tlearn: 2904.0229280\ttotal: 701ms\tremaining: 5s\n",
      "8:\tlearn: 2793.8209317\ttotal: 780ms\tremaining: 4.86s\n",
      "9:\tlearn: 2699.8449871\ttotal: 860ms\tremaining: 4.73s\n",
      "10:\tlearn: 2619.0683190\ttotal: 944ms\tremaining: 4.63s\n",
      "11:\tlearn: 2545.8369228\ttotal: 1.02s\tremaining: 4.52s\n",
      "12:\tlearn: 2486.3829205\ttotal: 1.1s\tremaining: 4.42s\n",
      "13:\tlearn: 2433.8927731\ttotal: 1.19s\tremaining: 4.33s\n",
      "14:\tlearn: 2386.8953466\ttotal: 1.27s\tremaining: 4.23s\n",
      "15:\tlearn: 2346.1929368\ttotal: 1.35s\tremaining: 4.15s\n",
      "16:\tlearn: 2302.9040726\ttotal: 1.44s\tremaining: 4.06s\n",
      "17:\tlearn: 2261.8705490\ttotal: 1.52s\tremaining: 3.97s\n",
      "18:\tlearn: 2227.4982477\ttotal: 1.6s\tremaining: 3.88s\n",
      "19:\tlearn: 2198.5938146\ttotal: 1.68s\tremaining: 3.78s\n",
      "20:\tlearn: 2174.3036804\ttotal: 1.76s\tremaining: 3.69s\n",
      "21:\tlearn: 2152.2544309\ttotal: 1.85s\tremaining: 3.61s\n",
      "22:\tlearn: 2132.3474926\ttotal: 1.93s\tremaining: 3.53s\n",
      "23:\tlearn: 2113.3170503\ttotal: 2.02s\tremaining: 3.45s\n",
      "24:\tlearn: 2098.4825751\ttotal: 2.11s\tremaining: 3.37s\n",
      "25:\tlearn: 2084.1206332\ttotal: 2.2s\tremaining: 3.31s\n",
      "26:\tlearn: 2069.8737064\ttotal: 2.29s\tremaining: 3.22s\n",
      "27:\tlearn: 2058.8082490\ttotal: 2.37s\tremaining: 3.13s\n",
      "28:\tlearn: 2048.7961734\ttotal: 2.46s\tremaining: 3.05s\n",
      "29:\tlearn: 2039.8793539\ttotal: 2.54s\tremaining: 2.96s\n",
      "30:\tlearn: 2031.1954205\ttotal: 2.63s\tremaining: 2.88s\n",
      "31:\tlearn: 2024.6454449\ttotal: 2.71s\tremaining: 2.79s\n",
      "32:\tlearn: 2018.8868257\ttotal: 2.79s\tremaining: 2.7s\n",
      "33:\tlearn: 2013.3960489\ttotal: 2.88s\tremaining: 2.62s\n",
      "34:\tlearn: 2007.4953349\ttotal: 2.96s\tremaining: 2.54s\n",
      "35:\tlearn: 2002.4092518\ttotal: 3.04s\tremaining: 2.45s\n",
      "36:\tlearn: 1990.1562427\ttotal: 3.13s\tremaining: 2.37s\n",
      "37:\tlearn: 1979.4396704\ttotal: 3.21s\tremaining: 2.28s\n",
      "38:\tlearn: 1970.3141531\ttotal: 3.29s\tremaining: 2.19s\n",
      "39:\tlearn: 1962.3602076\ttotal: 3.37s\tremaining: 2.11s\n",
      "40:\tlearn: 1955.8500149\ttotal: 3.46s\tremaining: 2.03s\n",
      "41:\tlearn: 1949.5428549\ttotal: 3.54s\tremaining: 1.94s\n",
      "42:\tlearn: 1944.1631032\ttotal: 3.64s\tremaining: 1.86s\n",
      "43:\tlearn: 1940.0007840\ttotal: 3.72s\tremaining: 1.78s\n",
      "44:\tlearn: 1936.7421373\ttotal: 3.81s\tremaining: 1.69s\n",
      "45:\tlearn: 1932.5113951\ttotal: 3.9s\tremaining: 1.61s\n",
      "46:\tlearn: 1928.8894929\ttotal: 3.98s\tremaining: 1.52s\n",
      "47:\tlearn: 1925.3637153\ttotal: 4.07s\tremaining: 1.44s\n",
      "48:\tlearn: 1921.4875840\ttotal: 4.16s\tremaining: 1.36s\n",
      "49:\tlearn: 1917.6832547\ttotal: 4.24s\tremaining: 1.27s\n",
      "50:\tlearn: 1914.0227732\ttotal: 4.33s\tremaining: 1.19s\n",
      "51:\tlearn: 1910.5440535\ttotal: 4.43s\tremaining: 1.11s\n",
      "52:\tlearn: 1907.9548919\ttotal: 4.51s\tremaining: 1.02s\n",
      "53:\tlearn: 1905.9376821\ttotal: 4.6s\tremaining: 938ms\n",
      "54:\tlearn: 1901.9561162\ttotal: 4.69s\tremaining: 853ms\n",
      "55:\tlearn: 1899.7145653\ttotal: 4.78s\tremaining: 768ms\n",
      "56:\tlearn: 1897.0306540\ttotal: 4.87s\tremaining: 684ms\n",
      "57:\tlearn: 1894.4934986\ttotal: 4.96s\tremaining: 599ms\n",
      "58:\tlearn: 1891.7231570\ttotal: 5.05s\tremaining: 514ms\n",
      "59:\tlearn: 1888.6768112\ttotal: 5.13s\tremaining: 428ms\n",
      "60:\tlearn: 1886.6653922\ttotal: 5.22s\tremaining: 342ms\n",
      "61:\tlearn: 1884.6645070\ttotal: 5.31s\tremaining: 257ms\n",
      "62:\tlearn: 1883.2816131\ttotal: 5.4s\tremaining: 172ms\n",
      "63:\tlearn: 1880.7335765\ttotal: 5.49s\tremaining: 85.8ms\n",
      "64:\tlearn: 1879.2000268\ttotal: 5.58s\tremaining: 0us\n",
      "0:\tlearn: 4206.9697481\ttotal: 99.9ms\tremaining: 6.39s\n",
      "1:\tlearn: 3942.1295928\ttotal: 180ms\tremaining: 5.67s\n",
      "2:\tlearn: 3706.1038024\ttotal: 276ms\tremaining: 5.71s\n",
      "3:\tlearn: 3498.9114454\ttotal: 358ms\tremaining: 5.46s\n",
      "4:\tlearn: 3316.8643919\ttotal: 442ms\tremaining: 5.31s\n",
      "5:\tlearn: 3155.2064074\ttotal: 533ms\tremaining: 5.24s\n",
      "6:\tlearn: 3014.1701567\ttotal: 618ms\tremaining: 5.12s\n",
      "7:\tlearn: 2890.8778339\ttotal: 699ms\tremaining: 4.98s\n",
      "8:\tlearn: 2788.3670443\ttotal: 778ms\tremaining: 4.84s\n",
      "9:\tlearn: 2695.9922154\ttotal: 859ms\tremaining: 4.73s\n",
      "10:\tlearn: 2615.7453756\ttotal: 943ms\tremaining: 4.63s\n",
      "11:\tlearn: 2546.1852079\ttotal: 1.02s\tremaining: 4.53s\n",
      "12:\tlearn: 2483.5622543\ttotal: 1.11s\tremaining: 4.45s\n",
      "13:\tlearn: 2431.4915997\ttotal: 1.19s\tremaining: 4.35s\n",
      "14:\tlearn: 2385.2667974\ttotal: 1.27s\tremaining: 4.25s\n",
      "15:\tlearn: 2346.8881847\ttotal: 1.36s\tremaining: 4.16s\n",
      "16:\tlearn: 2313.8433745\ttotal: 1.44s\tremaining: 4.07s\n",
      "17:\tlearn: 2272.8761641\ttotal: 1.53s\tremaining: 3.99s\n",
      "18:\tlearn: 2236.4985141\ttotal: 1.61s\tremaining: 3.9s\n",
      "19:\tlearn: 2205.6992930\ttotal: 1.69s\tremaining: 3.81s\n",
      "20:\tlearn: 2180.6361862\ttotal: 1.77s\tremaining: 3.71s\n",
      "21:\tlearn: 2156.5292928\ttotal: 1.85s\tremaining: 3.62s\n",
      "22:\tlearn: 2136.6775741\ttotal: 1.93s\tremaining: 3.53s\n",
      "23:\tlearn: 2117.9580356\ttotal: 2.01s\tremaining: 3.44s\n",
      "24:\tlearn: 2103.2200044\ttotal: 2.09s\tremaining: 3.35s\n",
      "25:\tlearn: 2087.2999476\ttotal: 2.17s\tremaining: 3.26s\n",
      "26:\tlearn: 2074.8712157\ttotal: 2.25s\tremaining: 3.17s\n",
      "27:\tlearn: 2062.9355668\ttotal: 2.33s\tremaining: 3.08s\n",
      "28:\tlearn: 2051.4900212\ttotal: 2.42s\tremaining: 3s\n",
      "29:\tlearn: 2041.0539620\ttotal: 2.5s\tremaining: 2.91s\n",
      "30:\tlearn: 2032.6984968\ttotal: 2.58s\tremaining: 2.83s\n",
      "31:\tlearn: 2019.8565790\ttotal: 2.66s\tremaining: 2.74s\n",
      "32:\tlearn: 2007.4827147\ttotal: 2.73s\tremaining: 2.65s\n",
      "33:\tlearn: 1998.0816523\ttotal: 2.82s\tremaining: 2.57s\n",
      "34:\tlearn: 1989.6932430\ttotal: 2.9s\tremaining: 2.49s\n",
      "35:\tlearn: 1981.7103921\ttotal: 2.98s\tremaining: 2.4s\n",
      "36:\tlearn: 1976.2711548\ttotal: 3.07s\tremaining: 2.32s\n",
      "37:\tlearn: 1968.8106107\ttotal: 3.15s\tremaining: 2.24s\n",
      "38:\tlearn: 1964.1009057\ttotal: 3.23s\tremaining: 2.15s\n",
      "39:\tlearn: 1959.3399737\ttotal: 3.32s\tremaining: 2.08s\n",
      "40:\tlearn: 1953.4578558\ttotal: 3.41s\tremaining: 1.99s\n",
      "41:\tlearn: 1948.6148193\ttotal: 3.5s\tremaining: 1.92s\n",
      "42:\tlearn: 1945.3844217\ttotal: 3.58s\tremaining: 1.83s\n",
      "43:\tlearn: 1940.2089419\ttotal: 3.67s\tremaining: 1.75s\n",
      "44:\tlearn: 1936.0095277\ttotal: 3.75s\tremaining: 1.67s\n",
      "45:\tlearn: 1931.7051800\ttotal: 3.83s\tremaining: 1.58s\n",
      "46:\tlearn: 1928.0842812\ttotal: 3.93s\tremaining: 1.5s\n",
      "47:\tlearn: 1924.4309807\ttotal: 4.01s\tremaining: 1.42s\n",
      "48:\tlearn: 1921.3896959\ttotal: 4.1s\tremaining: 1.34s\n",
      "49:\tlearn: 1918.1796511\ttotal: 4.18s\tremaining: 1.25s\n",
      "50:\tlearn: 1915.5186886\ttotal: 4.28s\tremaining: 1.17s\n",
      "51:\tlearn: 1912.4372363\ttotal: 4.36s\tremaining: 1.09s\n",
      "52:\tlearn: 1909.0723528\ttotal: 4.45s\tremaining: 1.01s\n",
      "53:\tlearn: 1906.2188804\ttotal: 4.53s\tremaining: 923ms\n",
      "54:\tlearn: 1903.4433768\ttotal: 4.62s\tremaining: 839ms\n",
      "55:\tlearn: 1900.3567756\ttotal: 4.7s\tremaining: 756ms\n",
      "56:\tlearn: 1898.1542242\ttotal: 4.79s\tremaining: 672ms\n",
      "57:\tlearn: 1896.5171252\ttotal: 4.87s\tremaining: 588ms\n",
      "58:\tlearn: 1894.5488225\ttotal: 4.96s\tremaining: 504ms\n",
      "59:\tlearn: 1892.2321904\ttotal: 5.05s\tremaining: 421ms\n",
      "60:\tlearn: 1889.9725535\ttotal: 5.13s\tremaining: 336ms\n",
      "61:\tlearn: 1888.0041701\ttotal: 5.22s\tremaining: 252ms\n",
      "62:\tlearn: 1885.9484240\ttotal: 5.3s\tremaining: 168ms\n",
      "63:\tlearn: 1883.2032456\ttotal: 5.38s\tremaining: 84ms\n",
      "64:\tlearn: 1880.7386055\ttotal: 5.46s\tremaining: 0us\n",
      "0:\tlearn: 4208.5401499\ttotal: 99.7ms\tremaining: 6.38s\n",
      "1:\tlearn: 3942.3547900\ttotal: 180ms\tremaining: 5.67s\n",
      "2:\tlearn: 3707.2755785\ttotal: 267ms\tremaining: 5.52s\n",
      "3:\tlearn: 3497.8416371\ttotal: 357ms\tremaining: 5.45s\n",
      "4:\tlearn: 3316.2482369\ttotal: 442ms\tremaining: 5.31s\n",
      "5:\tlearn: 3155.4119713\ttotal: 530ms\tremaining: 5.22s\n",
      "6:\tlearn: 3018.3571711\ttotal: 611ms\tremaining: 5.07s\n",
      "7:\tlearn: 2891.9459283\ttotal: 692ms\tremaining: 4.93s\n",
      "8:\tlearn: 2787.5965427\ttotal: 776ms\tremaining: 4.83s\n",
      "9:\tlearn: 2693.1527926\ttotal: 858ms\tremaining: 4.72s\n",
      "10:\tlearn: 2613.9604794\ttotal: 943ms\tremaining: 4.63s\n",
      "11:\tlearn: 2546.3586678\ttotal: 1.02s\tremaining: 4.52s\n",
      "12:\tlearn: 2480.7485119\ttotal: 1.11s\tremaining: 4.45s\n",
      "13:\tlearn: 2426.9102970\ttotal: 1.2s\tremaining: 4.38s\n",
      "14:\tlearn: 2379.3087186\ttotal: 1.3s\tremaining: 4.34s\n",
      "15:\tlearn: 2338.3174060\ttotal: 1.38s\tremaining: 4.23s\n",
      "16:\tlearn: 2303.7175242\ttotal: 1.47s\tremaining: 4.14s\n",
      "17:\tlearn: 2263.4269978\ttotal: 1.55s\tremaining: 4.05s\n",
      "18:\tlearn: 2229.3756403\ttotal: 1.64s\tremaining: 3.96s\n",
      "19:\tlearn: 2199.0317864\ttotal: 1.72s\tremaining: 3.87s\n",
      "20:\tlearn: 2174.8371304\ttotal: 1.8s\tremaining: 3.78s\n",
      "21:\tlearn: 2149.9784905\ttotal: 1.89s\tremaining: 3.69s\n",
      "22:\tlearn: 2127.9384273\ttotal: 1.97s\tremaining: 3.6s\n",
      "23:\tlearn: 2111.0383602\ttotal: 2.1s\tremaining: 3.59s\n",
      "24:\tlearn: 2093.2804473\ttotal: 2.26s\tremaining: 3.61s\n",
      "25:\tlearn: 2079.8719344\ttotal: 2.34s\tremaining: 3.51s\n",
      "26:\tlearn: 2066.6961325\ttotal: 2.42s\tremaining: 3.41s\n",
      "27:\tlearn: 2055.9356601\ttotal: 2.5s\tremaining: 3.31s\n",
      "28:\tlearn: 2046.0153270\ttotal: 2.59s\tremaining: 3.22s\n",
      "29:\tlearn: 2036.7488155\ttotal: 2.68s\tremaining: 3.12s\n",
      "30:\tlearn: 2027.5349840\ttotal: 2.76s\tremaining: 3.03s\n",
      "31:\tlearn: 2020.1598875\ttotal: 2.84s\tremaining: 2.93s\n",
      "32:\tlearn: 2013.9051446\ttotal: 2.96s\tremaining: 2.87s\n",
      "33:\tlearn: 2007.4040055\ttotal: 3.04s\tremaining: 2.77s\n",
      "34:\tlearn: 1995.3568133\ttotal: 3.13s\tremaining: 2.68s\n",
      "35:\tlearn: 1985.4959607\ttotal: 3.21s\tremaining: 2.59s\n",
      "36:\tlearn: 1975.3005542\ttotal: 3.29s\tremaining: 2.49s\n",
      "37:\tlearn: 1967.0733506\ttotal: 3.38s\tremaining: 2.4s\n",
      "38:\tlearn: 1960.4294581\ttotal: 3.46s\tremaining: 2.31s\n",
      "39:\tlearn: 1953.6468560\ttotal: 3.55s\tremaining: 2.22s\n",
      "40:\tlearn: 1949.8411712\ttotal: 3.63s\tremaining: 2.13s\n",
      "41:\tlearn: 1943.4138246\ttotal: 3.71s\tremaining: 2.03s\n",
      "42:\tlearn: 1939.0674377\ttotal: 3.8s\tremaining: 1.94s\n",
      "43:\tlearn: 1934.3399969\ttotal: 3.89s\tremaining: 1.86s\n",
      "44:\tlearn: 1931.8572705\ttotal: 3.98s\tremaining: 1.77s\n",
      "45:\tlearn: 1927.5923949\ttotal: 4.07s\tremaining: 1.68s\n",
      "46:\tlearn: 1923.5161169\ttotal: 4.16s\tremaining: 1.59s\n",
      "47:\tlearn: 1920.6836937\ttotal: 4.25s\tremaining: 1.5s\n",
      "48:\tlearn: 1917.0943313\ttotal: 4.34s\tremaining: 1.42s\n",
      "49:\tlearn: 1913.7473847\ttotal: 4.42s\tremaining: 1.33s\n",
      "50:\tlearn: 1911.2527958\ttotal: 4.51s\tremaining: 1.24s\n",
      "51:\tlearn: 1909.4187084\ttotal: 4.6s\tremaining: 1.15s\n",
      "52:\tlearn: 1906.8855947\ttotal: 4.69s\tremaining: 1.06s\n",
      "53:\tlearn: 1904.0246656\ttotal: 4.78s\tremaining: 973ms\n",
      "54:\tlearn: 1901.5495604\ttotal: 4.87s\tremaining: 886ms\n",
      "55:\tlearn: 1899.3930610\ttotal: 4.96s\tremaining: 797ms\n",
      "56:\tlearn: 1896.2990315\ttotal: 5.04s\tremaining: 707ms\n",
      "57:\tlearn: 1893.7781848\ttotal: 5.13s\tremaining: 619ms\n",
      "58:\tlearn: 1891.1847215\ttotal: 5.21s\tremaining: 530ms\n",
      "59:\tlearn: 1887.5957343\ttotal: 5.3s\tremaining: 441ms\n",
      "60:\tlearn: 1885.0936510\ttotal: 5.38s\tremaining: 353ms\n",
      "61:\tlearn: 1883.1326584\ttotal: 5.47s\tremaining: 265ms\n",
      "62:\tlearn: 1881.5075047\ttotal: 5.56s\tremaining: 177ms\n",
      "63:\tlearn: 1879.8870715\ttotal: 5.66s\tremaining: 88.4ms\n",
      "64:\tlearn: 1878.2487839\ttotal: 5.74s\tremaining: 0us\n",
      "0:\tlearn: 3787.4446573\ttotal: 69.8ms\tremaining: 6.21s\n",
      "1:\tlearn: 3309.1994050\ttotal: 131ms\tremaining: 5.78s\n",
      "2:\tlearn: 2999.5884989\ttotal: 182ms\tremaining: 5.28s\n",
      "3:\tlearn: 2764.7381572\ttotal: 233ms\tremaining: 5.02s\n",
      "4:\tlearn: 2612.4197761\ttotal: 289ms\tremaining: 4.91s\n",
      "5:\tlearn: 2493.7630803\ttotal: 343ms\tremaining: 4.8s\n",
      "6:\tlearn: 2394.9289851\ttotal: 398ms\tremaining: 4.71s\n",
      "7:\tlearn: 2327.7426587\ttotal: 448ms\tremaining: 4.59s\n",
      "8:\tlearn: 2280.7171451\ttotal: 499ms\tremaining: 4.49s\n",
      "9:\tlearn: 2234.7679935\ttotal: 555ms\tremaining: 4.44s\n",
      "10:\tlearn: 2211.8292516\ttotal: 613ms\tremaining: 4.4s\n",
      "11:\tlearn: 2192.8991059\ttotal: 664ms\tremaining: 4.31s\n",
      "12:\tlearn: 2176.7274470\ttotal: 717ms\tremaining: 4.25s\n",
      "13:\tlearn: 2159.0706386\ttotal: 773ms\tremaining: 4.2s\n",
      "14:\tlearn: 2145.1245127\ttotal: 833ms\tremaining: 4.17s\n",
      "15:\tlearn: 2129.3324799\ttotal: 884ms\tremaining: 4.09s\n",
      "16:\tlearn: 2114.9135014\ttotal: 934ms\tremaining: 4.01s\n",
      "17:\tlearn: 2106.1721281\ttotal: 989ms\tremaining: 3.96s\n",
      "18:\tlearn: 2094.0853680\ttotal: 1.04s\tremaining: 3.9s\n",
      "19:\tlearn: 2085.7860741\ttotal: 1.09s\tremaining: 3.83s\n",
      "20:\tlearn: 2074.2682004\ttotal: 1.15s\tremaining: 3.78s\n",
      "21:\tlearn: 2065.3721130\ttotal: 1.2s\tremaining: 3.72s\n",
      "22:\tlearn: 2057.7267988\ttotal: 1.25s\tremaining: 3.65s\n",
      "23:\tlearn: 2048.3431443\ttotal: 1.31s\tremaining: 3.59s\n",
      "24:\tlearn: 2041.0733027\ttotal: 1.36s\tremaining: 3.53s\n",
      "25:\tlearn: 2035.6567791\ttotal: 1.42s\tremaining: 3.48s\n",
      "26:\tlearn: 2028.1346264\ttotal: 1.47s\tremaining: 3.42s\n",
      "27:\tlearn: 2022.7886832\ttotal: 1.52s\tremaining: 3.36s\n",
      "28:\tlearn: 2017.5912985\ttotal: 1.57s\tremaining: 3.3s\n",
      "29:\tlearn: 2012.7191054\ttotal: 1.62s\tremaining: 3.24s\n",
      "30:\tlearn: 2007.9684622\ttotal: 1.67s\tremaining: 3.18s\n",
      "31:\tlearn: 2002.1159910\ttotal: 1.72s\tremaining: 3.12s\n",
      "32:\tlearn: 1996.5356548\ttotal: 1.77s\tremaining: 3.06s\n",
      "33:\tlearn: 1993.8507747\ttotal: 1.82s\tremaining: 3.01s\n",
      "34:\tlearn: 1990.8390430\ttotal: 1.88s\tremaining: 2.95s\n",
      "35:\tlearn: 1987.7065863\ttotal: 1.93s\tremaining: 2.9s\n",
      "36:\tlearn: 1983.5705817\ttotal: 1.98s\tremaining: 2.84s\n",
      "37:\tlearn: 1977.7276096\ttotal: 2.03s\tremaining: 2.78s\n",
      "38:\tlearn: 1971.6956880\ttotal: 2.08s\tremaining: 2.72s\n",
      "39:\tlearn: 1969.4778483\ttotal: 2.13s\tremaining: 2.67s\n",
      "40:\tlearn: 1967.0961427\ttotal: 2.18s\tremaining: 2.61s\n",
      "41:\tlearn: 1963.9614423\ttotal: 2.24s\tremaining: 2.56s\n",
      "42:\tlearn: 1958.9081030\ttotal: 2.29s\tremaining: 2.5s\n",
      "43:\tlearn: 1956.3434171\ttotal: 2.35s\tremaining: 2.45s\n",
      "44:\tlearn: 1952.7656831\ttotal: 2.4s\tremaining: 2.4s\n",
      "45:\tlearn: 1951.0352408\ttotal: 2.45s\tremaining: 2.35s\n",
      "46:\tlearn: 1948.1121253\ttotal: 2.51s\tremaining: 2.3s\n",
      "47:\tlearn: 1945.9038751\ttotal: 2.57s\tremaining: 2.25s\n",
      "48:\tlearn: 1942.6709850\ttotal: 2.63s\tremaining: 2.2s\n",
      "49:\tlearn: 1940.4012989\ttotal: 2.68s\tremaining: 2.15s\n",
      "50:\tlearn: 1939.0617146\ttotal: 2.74s\tremaining: 2.09s\n",
      "51:\tlearn: 1937.1381406\ttotal: 2.79s\tremaining: 2.04s\n",
      "52:\tlearn: 1935.6215651\ttotal: 2.84s\tremaining: 1.98s\n",
      "53:\tlearn: 1932.7435817\ttotal: 2.9s\tremaining: 1.93s\n",
      "54:\tlearn: 1929.9185895\ttotal: 2.95s\tremaining: 1.88s\n",
      "55:\tlearn: 1928.1145966\ttotal: 3s\tremaining: 1.82s\n",
      "56:\tlearn: 1924.9834105\ttotal: 3.05s\tremaining: 1.77s\n",
      "57:\tlearn: 1922.6496080\ttotal: 3.11s\tremaining: 1.72s\n",
      "58:\tlearn: 1921.2741526\ttotal: 3.17s\tremaining: 1.66s\n",
      "59:\tlearn: 1919.3724107\ttotal: 3.22s\tremaining: 1.61s\n",
      "60:\tlearn: 1917.0237643\ttotal: 3.27s\tremaining: 1.55s\n",
      "61:\tlearn: 1914.4669251\ttotal: 3.32s\tremaining: 1.5s\n",
      "62:\tlearn: 1913.1553018\ttotal: 3.37s\tremaining: 1.45s\n",
      "63:\tlearn: 1912.0927591\ttotal: 3.43s\tremaining: 1.39s\n",
      "64:\tlearn: 1910.6776936\ttotal: 3.48s\tremaining: 1.34s\n",
      "65:\tlearn: 1909.1274658\ttotal: 3.53s\tremaining: 1.28s\n",
      "66:\tlearn: 1907.4775633\ttotal: 3.58s\tremaining: 1.23s\n",
      "67:\tlearn: 1906.2061524\ttotal: 3.64s\tremaining: 1.18s\n",
      "68:\tlearn: 1904.6942000\ttotal: 3.69s\tremaining: 1.12s\n",
      "69:\tlearn: 1903.1467914\ttotal: 3.74s\tremaining: 1.07s\n",
      "70:\tlearn: 1902.2794717\ttotal: 3.8s\tremaining: 1.02s\n",
      "71:\tlearn: 1901.2819023\ttotal: 3.85s\tremaining: 963ms\n",
      "72:\tlearn: 1900.1646070\ttotal: 3.9s\tremaining: 909ms\n",
      "73:\tlearn: 1898.2884291\ttotal: 3.95s\tremaining: 855ms\n",
      "74:\tlearn: 1897.3980369\ttotal: 4.01s\tremaining: 802ms\n",
      "75:\tlearn: 1896.1938012\ttotal: 4.06s\tremaining: 748ms\n",
      "76:\tlearn: 1894.8039629\ttotal: 4.11s\tremaining: 694ms\n",
      "77:\tlearn: 1892.8151376\ttotal: 4.17s\tremaining: 641ms\n",
      "78:\tlearn: 1891.7549091\ttotal: 4.22s\tremaining: 588ms\n",
      "79:\tlearn: 1889.9703636\ttotal: 4.27s\tremaining: 534ms\n",
      "80:\tlearn: 1888.8174937\ttotal: 4.32s\tremaining: 480ms\n",
      "81:\tlearn: 1887.9897078\ttotal: 4.38s\tremaining: 427ms\n",
      "82:\tlearn: 1886.5901549\ttotal: 4.43s\tremaining: 374ms\n",
      "83:\tlearn: 1885.7281577\ttotal: 4.48s\tremaining: 320ms\n",
      "84:\tlearn: 1884.9548949\ttotal: 4.54s\tremaining: 267ms\n",
      "85:\tlearn: 1882.6807557\ttotal: 4.59s\tremaining: 213ms\n",
      "86:\tlearn: 1881.5608557\ttotal: 4.64s\tremaining: 160ms\n",
      "87:\tlearn: 1880.6133176\ttotal: 4.7s\tremaining: 107ms\n",
      "88:\tlearn: 1879.6271308\ttotal: 4.75s\tremaining: 53.4ms\n",
      "89:\tlearn: 1878.5711509\ttotal: 4.8s\tremaining: 0us\n",
      "0:\tlearn: 3791.9282780\ttotal: 68.7ms\tremaining: 6.11s\n",
      "1:\tlearn: 3311.4601938\ttotal: 132ms\tremaining: 5.79s\n",
      "2:\tlearn: 3012.0993328\ttotal: 187ms\tremaining: 5.44s\n",
      "3:\tlearn: 2772.9350846\ttotal: 238ms\tremaining: 5.11s\n",
      "4:\tlearn: 2625.0099918\ttotal: 301ms\tremaining: 5.11s\n",
      "5:\tlearn: 2480.0637725\ttotal: 355ms\tremaining: 4.97s\n",
      "6:\tlearn: 2399.7551856\ttotal: 407ms\tremaining: 4.83s\n",
      "7:\tlearn: 2329.7487227\ttotal: 457ms\tremaining: 4.68s\n",
      "8:\tlearn: 2286.4666714\ttotal: 509ms\tremaining: 4.58s\n",
      "9:\tlearn: 2258.2315129\ttotal: 565ms\tremaining: 4.52s\n",
      "10:\tlearn: 2234.8173708\ttotal: 619ms\tremaining: 4.45s\n",
      "11:\tlearn: 2202.1689943\ttotal: 675ms\tremaining: 4.38s\n",
      "12:\tlearn: 2189.4093047\ttotal: 742ms\tremaining: 4.39s\n",
      "13:\tlearn: 2172.0242077\ttotal: 808ms\tremaining: 4.39s\n",
      "14:\tlearn: 2151.2755042\ttotal: 859ms\tremaining: 4.29s\n",
      "15:\tlearn: 2127.6571249\ttotal: 911ms\tremaining: 4.21s\n",
      "16:\tlearn: 2118.7107866\ttotal: 964ms\tremaining: 4.14s\n",
      "17:\tlearn: 2110.0121802\ttotal: 1.02s\tremaining: 4.08s\n",
      "18:\tlearn: 2097.3120889\ttotal: 1.08s\tremaining: 4.03s\n",
      "19:\tlearn: 2089.2724650\ttotal: 1.14s\tremaining: 3.98s\n",
      "20:\tlearn: 2080.4418093\ttotal: 1.19s\tremaining: 3.91s\n",
      "21:\tlearn: 2071.7396191\ttotal: 1.24s\tremaining: 3.85s\n",
      "22:\tlearn: 2065.5936514\ttotal: 1.3s\tremaining: 3.78s\n",
      "23:\tlearn: 2060.0505886\ttotal: 1.35s\tremaining: 3.72s\n",
      "24:\tlearn: 2050.6876119\ttotal: 1.4s\tremaining: 3.65s\n",
      "25:\tlearn: 2044.3726218\ttotal: 1.46s\tremaining: 3.58s\n",
      "26:\tlearn: 2037.0355794\ttotal: 1.51s\tremaining: 3.52s\n",
      "27:\tlearn: 2029.0071077\ttotal: 1.56s\tremaining: 3.45s\n",
      "28:\tlearn: 2022.0573903\ttotal: 1.61s\tremaining: 3.39s\n",
      "29:\tlearn: 2016.8246280\ttotal: 1.67s\tremaining: 3.34s\n",
      "30:\tlearn: 2011.4632604\ttotal: 1.72s\tremaining: 3.27s\n",
      "31:\tlearn: 2007.0491018\ttotal: 1.77s\tremaining: 3.2s\n",
      "32:\tlearn: 2002.5351025\ttotal: 1.82s\tremaining: 3.14s\n",
      "33:\tlearn: 1999.7916350\ttotal: 1.88s\tremaining: 3.09s\n",
      "34:\tlearn: 1995.8456512\ttotal: 1.93s\tremaining: 3.04s\n",
      "35:\tlearn: 1992.9896613\ttotal: 1.99s\tremaining: 2.98s\n",
      "36:\tlearn: 1990.2429233\ttotal: 2.04s\tremaining: 2.92s\n",
      "37:\tlearn: 1986.1924208\ttotal: 2.1s\tremaining: 2.87s\n",
      "38:\tlearn: 1982.0810989\ttotal: 2.15s\tremaining: 2.81s\n",
      "39:\tlearn: 1980.6084679\ttotal: 2.21s\tremaining: 2.76s\n",
      "40:\tlearn: 1976.4369647\ttotal: 2.26s\tremaining: 2.7s\n",
      "41:\tlearn: 1971.7373752\ttotal: 2.31s\tremaining: 2.64s\n",
      "42:\tlearn: 1969.8523036\ttotal: 2.37s\tremaining: 2.58s\n",
      "43:\tlearn: 1966.0851535\ttotal: 2.42s\tremaining: 2.53s\n",
      "44:\tlearn: 1962.2625980\ttotal: 2.47s\tremaining: 2.47s\n",
      "45:\tlearn: 1959.2664688\ttotal: 2.52s\tremaining: 2.41s\n",
      "46:\tlearn: 1956.0815130\ttotal: 2.58s\tremaining: 2.36s\n",
      "47:\tlearn: 1953.6239447\ttotal: 2.63s\tremaining: 2.3s\n",
      "48:\tlearn: 1950.0084029\ttotal: 2.68s\tremaining: 2.24s\n",
      "49:\tlearn: 1947.3554336\ttotal: 2.73s\tremaining: 2.19s\n",
      "50:\tlearn: 1944.6397062\ttotal: 2.79s\tremaining: 2.13s\n",
      "51:\tlearn: 1942.5997908\ttotal: 2.84s\tremaining: 2.07s\n",
      "52:\tlearn: 1940.5856427\ttotal: 2.89s\tremaining: 2.02s\n",
      "53:\tlearn: 1937.8493207\ttotal: 2.94s\tremaining: 1.96s\n",
      "54:\tlearn: 1936.5976517\ttotal: 3s\tremaining: 1.91s\n",
      "55:\tlearn: 1934.7523701\ttotal: 3.05s\tremaining: 1.85s\n",
      "56:\tlearn: 1933.0856673\ttotal: 3.1s\tremaining: 1.79s\n",
      "57:\tlearn: 1932.0845795\ttotal: 3.16s\tremaining: 1.74s\n",
      "58:\tlearn: 1930.7731735\ttotal: 3.21s\tremaining: 1.69s\n",
      "59:\tlearn: 1929.0683634\ttotal: 3.27s\tremaining: 1.63s\n",
      "60:\tlearn: 1927.5052597\ttotal: 3.31s\tremaining: 1.58s\n",
      "61:\tlearn: 1925.0576884\ttotal: 3.37s\tremaining: 1.52s\n",
      "62:\tlearn: 1923.2674425\ttotal: 3.42s\tremaining: 1.47s\n",
      "63:\tlearn: 1921.0636415\ttotal: 3.47s\tremaining: 1.41s\n",
      "64:\tlearn: 1919.4093380\ttotal: 3.52s\tremaining: 1.35s\n",
      "65:\tlearn: 1917.0797005\ttotal: 3.58s\tremaining: 1.3s\n",
      "66:\tlearn: 1913.5573414\ttotal: 3.63s\tremaining: 1.25s\n",
      "67:\tlearn: 1911.7104692\ttotal: 3.68s\tremaining: 1.19s\n",
      "68:\tlearn: 1910.5574350\ttotal: 3.73s\tremaining: 1.14s\n",
      "69:\tlearn: 1909.1032042\ttotal: 3.79s\tremaining: 1.08s\n",
      "70:\tlearn: 1908.0369669\ttotal: 3.84s\tremaining: 1.03s\n",
      "71:\tlearn: 1906.9561509\ttotal: 3.89s\tremaining: 973ms\n",
      "72:\tlearn: 1904.7539336\ttotal: 3.94s\tremaining: 917ms\n",
      "73:\tlearn: 1903.6713770\ttotal: 3.99s\tremaining: 863ms\n",
      "74:\tlearn: 1901.6640124\ttotal: 4.04s\tremaining: 809ms\n",
      "75:\tlearn: 1900.2964627\ttotal: 4.09s\tremaining: 754ms\n",
      "76:\tlearn: 1898.8679263\ttotal: 4.15s\tremaining: 700ms\n",
      "77:\tlearn: 1897.5068922\ttotal: 4.2s\tremaining: 646ms\n",
      "78:\tlearn: 1896.1407304\ttotal: 4.25s\tremaining: 592ms\n",
      "79:\tlearn: 1894.8848572\ttotal: 4.3s\tremaining: 538ms\n",
      "80:\tlearn: 1894.1209505\ttotal: 4.35s\tremaining: 483ms\n",
      "81:\tlearn: 1892.9712728\ttotal: 4.4s\tremaining: 430ms\n",
      "82:\tlearn: 1892.0172404\ttotal: 4.46s\tremaining: 376ms\n",
      "83:\tlearn: 1891.0099279\ttotal: 4.51s\tremaining: 322ms\n",
      "84:\tlearn: 1890.1098667\ttotal: 4.56s\tremaining: 268ms\n",
      "85:\tlearn: 1889.4346231\ttotal: 4.62s\tremaining: 215ms\n",
      "86:\tlearn: 1887.1479791\ttotal: 4.67s\tremaining: 161ms\n",
      "87:\tlearn: 1886.6004173\ttotal: 4.72s\tremaining: 107ms\n",
      "88:\tlearn: 1885.4268644\ttotal: 4.77s\tremaining: 53.6ms\n",
      "89:\tlearn: 1884.6158265\ttotal: 4.82s\tremaining: 0us\n",
      "0:\tlearn: 3795.4123108\ttotal: 70.3ms\tremaining: 6.26s\n",
      "1:\tlearn: 3315.4010911\ttotal: 132ms\tremaining: 5.82s\n",
      "2:\tlearn: 3014.1945129\ttotal: 187ms\tremaining: 5.41s\n",
      "3:\tlearn: 2776.3171499\ttotal: 237ms\tremaining: 5.1s\n",
      "4:\tlearn: 2627.2647054\ttotal: 295ms\tremaining: 5.01s\n",
      "5:\tlearn: 2484.2011217\ttotal: 351ms\tremaining: 4.91s\n",
      "6:\tlearn: 2400.7224215\ttotal: 402ms\tremaining: 4.76s\n",
      "7:\tlearn: 2340.6545188\ttotal: 451ms\tremaining: 4.62s\n",
      "8:\tlearn: 2301.8249127\ttotal: 502ms\tremaining: 4.52s\n",
      "9:\tlearn: 2250.5522303\ttotal: 557ms\tremaining: 4.46s\n",
      "10:\tlearn: 2226.2675103\ttotal: 612ms\tremaining: 4.39s\n",
      "11:\tlearn: 2199.6970173\ttotal: 666ms\tremaining: 4.33s\n",
      "12:\tlearn: 2183.4442926\ttotal: 717ms\tremaining: 4.25s\n",
      "13:\tlearn: 2166.7444230\ttotal: 778ms\tremaining: 4.22s\n",
      "14:\tlearn: 2142.6127749\ttotal: 827ms\tremaining: 4.14s\n",
      "15:\tlearn: 2126.2084445\ttotal: 876ms\tremaining: 4.05s\n",
      "16:\tlearn: 2109.4599839\ttotal: 926ms\tremaining: 3.97s\n",
      "17:\tlearn: 2100.8619757\ttotal: 985ms\tremaining: 3.94s\n",
      "18:\tlearn: 2093.2911599\ttotal: 1.03s\tremaining: 3.86s\n",
      "19:\tlearn: 2080.6448059\ttotal: 1.08s\tremaining: 3.79s\n",
      "20:\tlearn: 2073.3372207\ttotal: 1.14s\tremaining: 3.73s\n",
      "21:\tlearn: 2062.7683035\ttotal: 1.19s\tremaining: 3.68s\n",
      "22:\tlearn: 2057.3135150\ttotal: 1.24s\tremaining: 3.63s\n",
      "23:\tlearn: 2053.0513636\ttotal: 1.3s\tremaining: 3.56s\n",
      "24:\tlearn: 2046.1448189\ttotal: 1.35s\tremaining: 3.52s\n",
      "25:\tlearn: 2038.9489575\ttotal: 1.41s\tremaining: 3.46s\n",
      "26:\tlearn: 2033.0881141\ttotal: 1.46s\tremaining: 3.41s\n",
      "27:\tlearn: 2026.2056527\ttotal: 1.51s\tremaining: 3.35s\n",
      "28:\tlearn: 2022.6504249\ttotal: 1.56s\tremaining: 3.29s\n",
      "29:\tlearn: 2019.7310895\ttotal: 1.62s\tremaining: 3.24s\n",
      "30:\tlearn: 2014.5630847\ttotal: 1.68s\tremaining: 3.2s\n",
      "31:\tlearn: 2009.2587320\ttotal: 1.73s\tremaining: 3.14s\n",
      "32:\tlearn: 2005.6547256\ttotal: 1.78s\tremaining: 3.08s\n",
      "33:\tlearn: 1999.3234308\ttotal: 1.84s\tremaining: 3.03s\n",
      "34:\tlearn: 1994.3840787\ttotal: 1.89s\tremaining: 2.97s\n",
      "35:\tlearn: 1990.0480474\ttotal: 1.94s\tremaining: 2.91s\n",
      "36:\tlearn: 1987.3301862\ttotal: 1.99s\tremaining: 2.85s\n",
      "37:\tlearn: 1983.7002152\ttotal: 2.05s\tremaining: 2.81s\n",
      "38:\tlearn: 1979.9441020\ttotal: 2.1s\tremaining: 2.75s\n",
      "39:\tlearn: 1976.5795822\ttotal: 2.15s\tremaining: 2.69s\n",
      "40:\tlearn: 1974.4916848\ttotal: 2.2s\tremaining: 2.63s\n",
      "41:\tlearn: 1970.8301041\ttotal: 2.26s\tremaining: 2.58s\n",
      "42:\tlearn: 1967.5014342\ttotal: 2.31s\tremaining: 2.52s\n",
      "43:\tlearn: 1964.5052286\ttotal: 2.36s\tremaining: 2.47s\n",
      "44:\tlearn: 1961.4901430\ttotal: 2.41s\tremaining: 2.41s\n",
      "45:\tlearn: 1959.1421783\ttotal: 2.46s\tremaining: 2.36s\n",
      "46:\tlearn: 1956.3409147\ttotal: 2.52s\tremaining: 2.3s\n",
      "47:\tlearn: 1954.4631283\ttotal: 2.57s\tremaining: 2.25s\n",
      "48:\tlearn: 1951.9741526\ttotal: 2.62s\tremaining: 2.19s\n",
      "49:\tlearn: 1950.2022174\ttotal: 2.67s\tremaining: 2.14s\n",
      "50:\tlearn: 1947.4391362\ttotal: 2.73s\tremaining: 2.08s\n",
      "51:\tlearn: 1944.6311503\ttotal: 2.78s\tremaining: 2.03s\n",
      "52:\tlearn: 1942.0463304\ttotal: 2.83s\tremaining: 1.98s\n",
      "53:\tlearn: 1939.3456384\ttotal: 2.88s\tremaining: 1.92s\n",
      "54:\tlearn: 1937.4602776\ttotal: 2.94s\tremaining: 1.87s\n",
      "55:\tlearn: 1931.9447688\ttotal: 2.99s\tremaining: 1.81s\n",
      "56:\tlearn: 1930.2031438\ttotal: 3.04s\tremaining: 1.76s\n",
      "57:\tlearn: 1928.9612277\ttotal: 3.09s\tremaining: 1.71s\n",
      "58:\tlearn: 1927.0279821\ttotal: 3.15s\tremaining: 1.65s\n",
      "59:\tlearn: 1925.6893622\ttotal: 3.2s\tremaining: 1.6s\n",
      "60:\tlearn: 1924.1053382\ttotal: 3.25s\tremaining: 1.55s\n",
      "61:\tlearn: 1922.4275393\ttotal: 3.3s\tremaining: 1.49s\n",
      "62:\tlearn: 1921.3980248\ttotal: 3.35s\tremaining: 1.44s\n",
      "63:\tlearn: 1919.8259992\ttotal: 3.4s\tremaining: 1.38s\n",
      "64:\tlearn: 1917.8627096\ttotal: 3.45s\tremaining: 1.33s\n",
      "65:\tlearn: 1916.6497160\ttotal: 3.51s\tremaining: 1.27s\n",
      "66:\tlearn: 1913.1045262\ttotal: 3.56s\tremaining: 1.22s\n",
      "67:\tlearn: 1911.8491172\ttotal: 3.62s\tremaining: 1.17s\n",
      "68:\tlearn: 1910.6258189\ttotal: 3.67s\tremaining: 1.11s\n",
      "69:\tlearn: 1909.2267120\ttotal: 3.72s\tremaining: 1.06s\n",
      "70:\tlearn: 1908.1781567\ttotal: 3.77s\tremaining: 1.01s\n",
      "71:\tlearn: 1906.2841586\ttotal: 3.82s\tremaining: 956ms\n",
      "72:\tlearn: 1905.0780512\ttotal: 3.88s\tremaining: 903ms\n",
      "73:\tlearn: 1903.9255306\ttotal: 3.93s\tremaining: 849ms\n",
      "74:\tlearn: 1902.9963776\ttotal: 3.98s\tremaining: 796ms\n",
      "75:\tlearn: 1901.9803415\ttotal: 4.03s\tremaining: 743ms\n",
      "76:\tlearn: 1900.3539667\ttotal: 4.08s\tremaining: 689ms\n",
      "77:\tlearn: 1898.7444235\ttotal: 4.14s\tremaining: 637ms\n",
      "78:\tlearn: 1896.3046897\ttotal: 4.19s\tremaining: 584ms\n",
      "79:\tlearn: 1895.6524134\ttotal: 4.24s\tremaining: 531ms\n",
      "80:\tlearn: 1894.9345603\ttotal: 4.3s\tremaining: 478ms\n",
      "81:\tlearn: 1893.4148829\ttotal: 4.35s\tremaining: 425ms\n",
      "82:\tlearn: 1892.9306450\ttotal: 4.41s\tremaining: 372ms\n",
      "83:\tlearn: 1891.7801236\ttotal: 4.46s\tremaining: 319ms\n",
      "84:\tlearn: 1890.4054072\ttotal: 4.51s\tremaining: 265ms\n",
      "85:\tlearn: 1888.3775886\ttotal: 4.56s\tremaining: 212ms\n",
      "86:\tlearn: 1887.3701140\ttotal: 4.62s\tremaining: 159ms\n",
      "87:\tlearn: 1886.8386629\ttotal: 4.67s\tremaining: 106ms\n",
      "88:\tlearn: 1886.2743110\ttotal: 4.72s\tremaining: 53ms\n",
      "89:\tlearn: 1884.6437697\ttotal: 4.77s\tremaining: 0us\n",
      "0:\tlearn: 3783.5095288\ttotal: 69.8ms\tremaining: 6.21s\n",
      "1:\tlearn: 3300.7185209\ttotal: 132ms\tremaining: 5.8s\n",
      "2:\tlearn: 3002.1715056\ttotal: 185ms\tremaining: 5.38s\n",
      "3:\tlearn: 2767.8798850\ttotal: 234ms\tremaining: 5.03s\n",
      "4:\tlearn: 2602.1838273\ttotal: 292ms\tremaining: 4.96s\n",
      "5:\tlearn: 2488.5132736\ttotal: 345ms\tremaining: 4.84s\n",
      "6:\tlearn: 2386.9330216\ttotal: 398ms\tremaining: 4.72s\n",
      "7:\tlearn: 2324.2032960\ttotal: 448ms\tremaining: 4.59s\n",
      "8:\tlearn: 2278.5912413\ttotal: 499ms\tremaining: 4.49s\n",
      "9:\tlearn: 2237.9157974\ttotal: 552ms\tremaining: 4.42s\n",
      "10:\tlearn: 2214.3229094\ttotal: 608ms\tremaining: 4.36s\n",
      "11:\tlearn: 2194.3200344\ttotal: 663ms\tremaining: 4.31s\n",
      "12:\tlearn: 2176.1238398\ttotal: 715ms\tremaining: 4.23s\n",
      "13:\tlearn: 2164.4360753\ttotal: 767ms\tremaining: 4.17s\n",
      "14:\tlearn: 2147.3378255\ttotal: 823ms\tremaining: 4.12s\n",
      "15:\tlearn: 2134.1120280\ttotal: 877ms\tremaining: 4.05s\n",
      "16:\tlearn: 2125.6494840\ttotal: 932ms\tremaining: 4s\n",
      "17:\tlearn: 2103.0591686\ttotal: 982ms\tremaining: 3.93s\n",
      "18:\tlearn: 2091.7891426\ttotal: 1.04s\tremaining: 3.88s\n",
      "19:\tlearn: 2084.0971826\ttotal: 1.09s\tremaining: 3.82s\n",
      "20:\tlearn: 2073.1228703\ttotal: 1.14s\tremaining: 3.76s\n",
      "21:\tlearn: 2064.9650609\ttotal: 1.2s\tremaining: 3.7s\n",
      "22:\tlearn: 2058.3856106\ttotal: 1.25s\tremaining: 3.64s\n",
      "23:\tlearn: 2052.7959542\ttotal: 1.3s\tremaining: 3.59s\n",
      "24:\tlearn: 2044.9325600\ttotal: 1.36s\tremaining: 3.53s\n",
      "25:\tlearn: 2037.6614220\ttotal: 1.42s\tremaining: 3.48s\n",
      "26:\tlearn: 2033.5827379\ttotal: 1.47s\tremaining: 3.42s\n",
      "27:\tlearn: 2026.8821605\ttotal: 1.52s\tremaining: 3.36s\n",
      "28:\tlearn: 2021.4083914\ttotal: 1.57s\tremaining: 3.31s\n",
      "29:\tlearn: 2015.9711455\ttotal: 1.63s\tremaining: 3.25s\n",
      "30:\tlearn: 2011.1172891\ttotal: 1.68s\tremaining: 3.19s\n",
      "31:\tlearn: 2005.2728125\ttotal: 1.73s\tremaining: 3.13s\n",
      "32:\tlearn: 1999.1085198\ttotal: 1.78s\tremaining: 3.07s\n",
      "33:\tlearn: 1996.1367673\ttotal: 1.83s\tremaining: 3.02s\n",
      "34:\tlearn: 1991.2951601\ttotal: 1.88s\tremaining: 2.96s\n",
      "35:\tlearn: 1987.2414749\ttotal: 1.93s\tremaining: 2.9s\n",
      "36:\tlearn: 1981.0621748\ttotal: 1.99s\tremaining: 2.85s\n",
      "37:\tlearn: 1977.1984304\ttotal: 2.05s\tremaining: 2.8s\n",
      "38:\tlearn: 1973.9311260\ttotal: 2.1s\tremaining: 2.75s\n",
      "39:\tlearn: 1970.5202694\ttotal: 2.15s\tremaining: 2.69s\n",
      "40:\tlearn: 1967.0352704\ttotal: 2.21s\tremaining: 2.64s\n",
      "41:\tlearn: 1963.4323056\ttotal: 2.26s\tremaining: 2.59s\n",
      "42:\tlearn: 1960.3712150\ttotal: 2.32s\tremaining: 2.53s\n",
      "43:\tlearn: 1958.1784351\ttotal: 2.37s\tremaining: 2.48s\n",
      "44:\tlearn: 1955.4471267\ttotal: 2.42s\tremaining: 2.42s\n",
      "45:\tlearn: 1953.8774867\ttotal: 2.48s\tremaining: 2.37s\n",
      "46:\tlearn: 1952.2507319\ttotal: 2.53s\tremaining: 2.32s\n",
      "47:\tlearn: 1950.0878590\ttotal: 2.59s\tremaining: 2.27s\n",
      "48:\tlearn: 1947.7199304\ttotal: 2.64s\tremaining: 2.21s\n",
      "49:\tlearn: 1945.1178528\ttotal: 2.7s\tremaining: 2.16s\n",
      "50:\tlearn: 1939.9843281\ttotal: 2.75s\tremaining: 2.1s\n",
      "51:\tlearn: 1937.3579321\ttotal: 2.8s\tremaining: 2.05s\n",
      "52:\tlearn: 1934.9086254\ttotal: 2.85s\tremaining: 1.99s\n",
      "53:\tlearn: 1932.7612869\ttotal: 2.91s\tremaining: 1.94s\n",
      "54:\tlearn: 1931.2429332\ttotal: 2.97s\tremaining: 1.89s\n",
      "55:\tlearn: 1929.3321929\ttotal: 3.02s\tremaining: 1.83s\n",
      "56:\tlearn: 1927.1315999\ttotal: 3.07s\tremaining: 1.78s\n",
      "57:\tlearn: 1925.2126977\ttotal: 3.12s\tremaining: 1.72s\n",
      "58:\tlearn: 1924.3933673\ttotal: 3.17s\tremaining: 1.67s\n",
      "59:\tlearn: 1921.4819060\ttotal: 3.23s\tremaining: 1.61s\n",
      "60:\tlearn: 1918.5485763\ttotal: 3.27s\tremaining: 1.56s\n",
      "61:\tlearn: 1916.2006984\ttotal: 3.33s\tremaining: 1.5s\n",
      "62:\tlearn: 1913.9258237\ttotal: 3.38s\tremaining: 1.45s\n",
      "63:\tlearn: 1912.4264981\ttotal: 3.44s\tremaining: 1.4s\n",
      "64:\tlearn: 1911.4315200\ttotal: 3.49s\tremaining: 1.34s\n",
      "65:\tlearn: 1910.5185633\ttotal: 3.54s\tremaining: 1.29s\n",
      "66:\tlearn: 1909.5127214\ttotal: 3.6s\tremaining: 1.23s\n",
      "67:\tlearn: 1908.1321892\ttotal: 3.65s\tremaining: 1.18s\n",
      "68:\tlearn: 1906.9407769\ttotal: 3.7s\tremaining: 1.13s\n",
      "69:\tlearn: 1905.9643969\ttotal: 3.75s\tremaining: 1.07s\n",
      "70:\tlearn: 1904.1843590\ttotal: 3.8s\tremaining: 1.02s\n",
      "71:\tlearn: 1903.2782697\ttotal: 3.85s\tremaining: 964ms\n",
      "72:\tlearn: 1901.9532491\ttotal: 3.91s\tremaining: 910ms\n",
      "73:\tlearn: 1900.8443360\ttotal: 3.96s\tremaining: 857ms\n",
      "74:\tlearn: 1899.5438134\ttotal: 4.02s\tremaining: 803ms\n",
      "75:\tlearn: 1898.7162964\ttotal: 4.07s\tremaining: 750ms\n",
      "76:\tlearn: 1898.1507290\ttotal: 4.12s\tremaining: 696ms\n",
      "77:\tlearn: 1896.9179267\ttotal: 4.17s\tremaining: 642ms\n",
      "78:\tlearn: 1895.7681061\ttotal: 4.22s\tremaining: 588ms\n",
      "79:\tlearn: 1894.7630539\ttotal: 4.27s\tremaining: 534ms\n",
      "80:\tlearn: 1893.8272255\ttotal: 4.33s\tremaining: 481ms\n",
      "81:\tlearn: 1893.3676977\ttotal: 4.38s\tremaining: 428ms\n",
      "82:\tlearn: 1892.1650181\ttotal: 4.44s\tremaining: 374ms\n",
      "83:\tlearn: 1891.1344939\ttotal: 4.49s\tremaining: 321ms\n",
      "84:\tlearn: 1890.1740344\ttotal: 4.54s\tremaining: 267ms\n",
      "85:\tlearn: 1889.7955765\ttotal: 4.6s\tremaining: 214ms\n",
      "86:\tlearn: 1888.6308843\ttotal: 4.66s\tremaining: 161ms\n",
      "87:\tlearn: 1887.6241067\ttotal: 4.71s\tremaining: 107ms\n",
      "88:\tlearn: 1886.8863806\ttotal: 4.76s\tremaining: 53.5ms\n",
      "89:\tlearn: 1885.9558951\ttotal: 4.81s\tremaining: 0us\n",
      "0:\tlearn: 3784.9642986\ttotal: 70.5ms\tremaining: 6.28s\n",
      "1:\tlearn: 3299.2927363\ttotal: 132ms\tremaining: 5.82s\n",
      "2:\tlearn: 2969.3635216\ttotal: 184ms\tremaining: 5.34s\n",
      "3:\tlearn: 2759.7471712\ttotal: 248ms\tremaining: 5.34s\n",
      "4:\tlearn: 2589.9784833\ttotal: 302ms\tremaining: 5.13s\n",
      "5:\tlearn: 2465.0317163\ttotal: 355ms\tremaining: 4.97s\n",
      "6:\tlearn: 2385.6884463\ttotal: 408ms\tremaining: 4.84s\n",
      "7:\tlearn: 2334.2835157\ttotal: 458ms\tremaining: 4.69s\n",
      "8:\tlearn: 2280.4133960\ttotal: 512ms\tremaining: 4.61s\n",
      "9:\tlearn: 2249.6208565\ttotal: 563ms\tremaining: 4.51s\n",
      "10:\tlearn: 2231.5160935\ttotal: 622ms\tremaining: 4.46s\n",
      "11:\tlearn: 2201.0238978\ttotal: 678ms\tremaining: 4.41s\n",
      "12:\tlearn: 2181.4262595\ttotal: 732ms\tremaining: 4.33s\n",
      "13:\tlearn: 2165.1106088\ttotal: 791ms\tremaining: 4.29s\n",
      "14:\tlearn: 2154.7656924\ttotal: 858ms\tremaining: 4.29s\n",
      "15:\tlearn: 2138.1567277\ttotal: 908ms\tremaining: 4.2s\n",
      "16:\tlearn: 2128.1837762\ttotal: 961ms\tremaining: 4.13s\n",
      "17:\tlearn: 2113.1768474\ttotal: 1.01s\tremaining: 4.04s\n",
      "18:\tlearn: 2100.6494426\ttotal: 1.06s\tremaining: 3.97s\n",
      "19:\tlearn: 2094.2352951\ttotal: 1.11s\tremaining: 3.9s\n",
      "20:\tlearn: 2082.3713069\ttotal: 1.17s\tremaining: 3.85s\n",
      "21:\tlearn: 2075.9855627\ttotal: 1.23s\tremaining: 3.79s\n",
      "22:\tlearn: 2068.6341699\ttotal: 1.28s\tremaining: 3.72s\n",
      "23:\tlearn: 2059.6537718\ttotal: 1.33s\tremaining: 3.65s\n",
      "24:\tlearn: 2050.8973047\ttotal: 1.38s\tremaining: 3.59s\n",
      "25:\tlearn: 2041.8993207\ttotal: 1.43s\tremaining: 3.52s\n",
      "26:\tlearn: 2037.9424483\ttotal: 1.48s\tremaining: 3.46s\n",
      "27:\tlearn: 2033.8112952\ttotal: 1.54s\tremaining: 3.4s\n",
      "28:\tlearn: 2027.1374775\ttotal: 1.59s\tremaining: 3.35s\n",
      "29:\tlearn: 2022.3495316\ttotal: 1.65s\tremaining: 3.29s\n",
      "30:\tlearn: 2017.3193314\ttotal: 1.7s\tremaining: 3.23s\n",
      "31:\tlearn: 2010.3780874\ttotal: 1.75s\tremaining: 3.17s\n",
      "32:\tlearn: 2006.8987451\ttotal: 1.8s\tremaining: 3.1s\n",
      "33:\tlearn: 2002.8639679\ttotal: 1.85s\tremaining: 3.04s\n",
      "34:\tlearn: 1999.5117986\ttotal: 1.9s\tremaining: 2.99s\n",
      "35:\tlearn: 1996.9626357\ttotal: 1.96s\tremaining: 2.94s\n",
      "36:\tlearn: 1993.6618461\ttotal: 2.02s\tremaining: 2.89s\n",
      "37:\tlearn: 1990.2304276\ttotal: 2.07s\tremaining: 2.84s\n",
      "38:\tlearn: 1983.4009037\ttotal: 2.13s\tremaining: 2.78s\n",
      "39:\tlearn: 1981.4490728\ttotal: 2.18s\tremaining: 2.73s\n",
      "40:\tlearn: 1979.1377984\ttotal: 2.23s\tremaining: 2.67s\n",
      "41:\tlearn: 1975.5708753\ttotal: 2.29s\tremaining: 2.62s\n",
      "42:\tlearn: 1971.2759801\ttotal: 2.34s\tremaining: 2.56s\n",
      "43:\tlearn: 1968.1942096\ttotal: 2.4s\tremaining: 2.51s\n",
      "44:\tlearn: 1964.9041032\ttotal: 2.46s\tremaining: 2.46s\n",
      "45:\tlearn: 1961.3416819\ttotal: 2.51s\tremaining: 2.4s\n",
      "46:\tlearn: 1959.0070402\ttotal: 2.56s\tremaining: 2.35s\n",
      "47:\tlearn: 1957.2257789\ttotal: 2.62s\tremaining: 2.29s\n",
      "48:\tlearn: 1956.2709810\ttotal: 2.67s\tremaining: 2.24s\n",
      "49:\tlearn: 1952.9517984\ttotal: 2.73s\tremaining: 2.18s\n",
      "50:\tlearn: 1950.5072250\ttotal: 2.78s\tremaining: 2.12s\n",
      "51:\tlearn: 1947.2380810\ttotal: 2.83s\tremaining: 2.07s\n",
      "52:\tlearn: 1944.6557451\ttotal: 2.88s\tremaining: 2.01s\n",
      "53:\tlearn: 1942.5589963\ttotal: 2.93s\tremaining: 1.96s\n",
      "54:\tlearn: 1939.9204316\ttotal: 2.99s\tremaining: 1.9s\n",
      "55:\tlearn: 1938.1816965\ttotal: 3.04s\tremaining: 1.85s\n",
      "56:\tlearn: 1936.1040218\ttotal: 3.1s\tremaining: 1.79s\n",
      "57:\tlearn: 1934.8875178\ttotal: 3.15s\tremaining: 1.74s\n",
      "58:\tlearn: 1933.3839625\ttotal: 3.2s\tremaining: 1.68s\n",
      "59:\tlearn: 1931.8332825\ttotal: 3.25s\tremaining: 1.63s\n",
      "60:\tlearn: 1929.8249605\ttotal: 3.3s\tremaining: 1.57s\n",
      "61:\tlearn: 1928.1666167\ttotal: 3.36s\tremaining: 1.52s\n",
      "62:\tlearn: 1926.9916706\ttotal: 3.41s\tremaining: 1.46s\n",
      "63:\tlearn: 1925.1767025\ttotal: 3.46s\tremaining: 1.41s\n",
      "64:\tlearn: 1923.0669319\ttotal: 3.52s\tremaining: 1.35s\n",
      "65:\tlearn: 1921.2822969\ttotal: 3.57s\tremaining: 1.3s\n",
      "66:\tlearn: 1919.2701381\ttotal: 3.62s\tremaining: 1.24s\n",
      "67:\tlearn: 1918.0880260\ttotal: 3.68s\tremaining: 1.19s\n",
      "68:\tlearn: 1915.9164995\ttotal: 3.76s\tremaining: 1.14s\n",
      "69:\tlearn: 1914.0361163\ttotal: 3.81s\tremaining: 1.09s\n",
      "70:\tlearn: 1911.3822905\ttotal: 3.86s\tremaining: 1.03s\n",
      "71:\tlearn: 1910.5135577\ttotal: 3.92s\tremaining: 979ms\n",
      "72:\tlearn: 1910.0074176\ttotal: 3.97s\tremaining: 925ms\n",
      "73:\tlearn: 1908.8887547\ttotal: 4.02s\tremaining: 870ms\n",
      "74:\tlearn: 1907.8154215\ttotal: 4.08s\tremaining: 815ms\n",
      "75:\tlearn: 1906.7542231\ttotal: 4.13s\tremaining: 760ms\n",
      "76:\tlearn: 1905.6783866\ttotal: 4.18s\tremaining: 707ms\n",
      "77:\tlearn: 1904.6800777\ttotal: 4.24s\tremaining: 652ms\n",
      "78:\tlearn: 1903.7493955\ttotal: 4.29s\tremaining: 597ms\n",
      "79:\tlearn: 1902.4790309\ttotal: 4.34s\tremaining: 543ms\n",
      "80:\tlearn: 1901.6730772\ttotal: 4.39s\tremaining: 488ms\n",
      "81:\tlearn: 1900.4652346\ttotal: 4.45s\tremaining: 434ms\n",
      "82:\tlearn: 1899.2245979\ttotal: 4.5s\tremaining: 379ms\n",
      "83:\tlearn: 1897.7851133\ttotal: 4.54s\tremaining: 325ms\n",
      "84:\tlearn: 1896.7153878\ttotal: 4.6s\tremaining: 270ms\n",
      "85:\tlearn: 1895.7859173\ttotal: 4.65s\tremaining: 216ms\n",
      "86:\tlearn: 1893.6780984\ttotal: 4.7s\tremaining: 162ms\n",
      "87:\tlearn: 1893.1350634\ttotal: 4.75s\tremaining: 108ms\n",
      "88:\tlearn: 1892.2345898\ttotal: 4.8s\tremaining: 53.9ms\n",
      "89:\tlearn: 1891.3411200\ttotal: 4.86s\tremaining: 0us\n",
      "0:\tlearn: 3642.3278209\ttotal: 102ms\tremaining: 9.07s\n",
      "1:\tlearn: 3056.4966113\ttotal: 196ms\tremaining: 8.64s\n",
      "2:\tlearn: 2692.2282479\ttotal: 281ms\tremaining: 8.14s\n",
      "3:\tlearn: 2460.6955713\ttotal: 375ms\tremaining: 8.06s\n",
      "4:\tlearn: 2323.5859878\ttotal: 454ms\tremaining: 7.72s\n",
      "5:\tlearn: 2230.8117114\ttotal: 541ms\tremaining: 7.57s\n",
      "6:\tlearn: 2139.6923200\ttotal: 631ms\tremaining: 7.48s\n",
      "7:\tlearn: 2084.2751771\ttotal: 713ms\tremaining: 7.31s\n",
      "8:\tlearn: 2051.5104357\ttotal: 793ms\tremaining: 7.14s\n",
      "9:\tlearn: 2027.8857924\ttotal: 875ms\tremaining: 7s\n",
      "10:\tlearn: 2009.8976119\ttotal: 960ms\tremaining: 6.9s\n",
      "11:\tlearn: 1998.2229403\ttotal: 1.04s\tremaining: 6.78s\n",
      "12:\tlearn: 1965.1648140\ttotal: 1.13s\tremaining: 6.68s\n",
      "13:\tlearn: 1948.1201812\ttotal: 1.21s\tremaining: 6.56s\n",
      "14:\tlearn: 1935.7739959\ttotal: 1.29s\tremaining: 6.44s\n",
      "15:\tlearn: 1923.3019062\ttotal: 1.37s\tremaining: 6.35s\n",
      "16:\tlearn: 1915.9754228\ttotal: 1.46s\tremaining: 6.27s\n",
      "17:\tlearn: 1907.5214918\ttotal: 1.55s\tremaining: 6.2s\n",
      "18:\tlearn: 1901.0631790\ttotal: 1.64s\tremaining: 6.12s\n",
      "19:\tlearn: 1893.0931040\ttotal: 1.72s\tremaining: 6.04s\n",
      "20:\tlearn: 1887.1629739\ttotal: 1.81s\tremaining: 5.95s\n",
      "21:\tlearn: 1881.9866418\ttotal: 1.9s\tremaining: 5.88s\n",
      "22:\tlearn: 1875.1635252\ttotal: 1.99s\tremaining: 5.8s\n",
      "23:\tlearn: 1869.7809165\ttotal: 2.08s\tremaining: 5.71s\n",
      "24:\tlearn: 1865.5435967\ttotal: 2.16s\tremaining: 5.63s\n",
      "25:\tlearn: 1859.8166959\ttotal: 2.25s\tremaining: 5.54s\n",
      "26:\tlearn: 1854.0446488\ttotal: 2.33s\tremaining: 5.44s\n",
      "27:\tlearn: 1850.3964905\ttotal: 2.42s\tremaining: 5.37s\n",
      "28:\tlearn: 1846.5912700\ttotal: 2.51s\tremaining: 5.29s\n",
      "29:\tlearn: 1843.0254683\ttotal: 2.6s\tremaining: 5.2s\n",
      "30:\tlearn: 1839.1434874\ttotal: 2.68s\tremaining: 5.11s\n",
      "31:\tlearn: 1837.0900186\ttotal: 2.77s\tremaining: 5.03s\n",
      "32:\tlearn: 1833.5386148\ttotal: 2.86s\tremaining: 4.94s\n",
      "33:\tlearn: 1829.4770042\ttotal: 2.95s\tremaining: 4.85s\n",
      "34:\tlearn: 1827.6313503\ttotal: 3.03s\tremaining: 4.76s\n",
      "35:\tlearn: 1824.8253227\ttotal: 3.12s\tremaining: 4.67s\n",
      "36:\tlearn: 1822.5392391\ttotal: 3.21s\tremaining: 4.6s\n",
      "37:\tlearn: 1819.2297002\ttotal: 3.3s\tremaining: 4.51s\n",
      "38:\tlearn: 1814.6013322\ttotal: 3.38s\tremaining: 4.42s\n",
      "39:\tlearn: 1812.4962430\ttotal: 3.46s\tremaining: 4.33s\n",
      "40:\tlearn: 1810.7711306\ttotal: 3.56s\tremaining: 4.25s\n",
      "41:\tlearn: 1807.5418320\ttotal: 3.64s\tremaining: 4.16s\n",
      "42:\tlearn: 1805.1699010\ttotal: 3.72s\tremaining: 4.07s\n",
      "43:\tlearn: 1801.6711068\ttotal: 3.81s\tremaining: 3.98s\n",
      "44:\tlearn: 1798.4403366\ttotal: 3.89s\tremaining: 3.89s\n",
      "45:\tlearn: 1796.0134170\ttotal: 3.98s\tremaining: 3.81s\n",
      "46:\tlearn: 1793.7740775\ttotal: 4.07s\tremaining: 3.72s\n",
      "47:\tlearn: 1792.3919174\ttotal: 4.16s\tremaining: 3.64s\n",
      "48:\tlearn: 1790.1098126\ttotal: 4.25s\tremaining: 3.56s\n",
      "49:\tlearn: 1788.3638078\ttotal: 4.35s\tremaining: 3.48s\n",
      "50:\tlearn: 1785.5224869\ttotal: 4.44s\tremaining: 3.39s\n",
      "51:\tlearn: 1782.9274971\ttotal: 4.52s\tremaining: 3.3s\n",
      "52:\tlearn: 1781.2651287\ttotal: 4.61s\tremaining: 3.22s\n",
      "53:\tlearn: 1780.0279906\ttotal: 4.7s\tremaining: 3.13s\n",
      "54:\tlearn: 1779.1551782\ttotal: 4.79s\tremaining: 3.05s\n",
      "55:\tlearn: 1777.9245903\ttotal: 4.87s\tremaining: 2.96s\n",
      "56:\tlearn: 1777.3816111\ttotal: 4.96s\tremaining: 2.87s\n",
      "57:\tlearn: 1775.5658032\ttotal: 5.05s\tremaining: 2.79s\n",
      "58:\tlearn: 1774.1753160\ttotal: 5.13s\tremaining: 2.7s\n",
      "59:\tlearn: 1771.5213638\ttotal: 5.22s\tremaining: 2.61s\n",
      "60:\tlearn: 1769.5422268\ttotal: 5.31s\tremaining: 2.52s\n",
      "61:\tlearn: 1768.0033064\ttotal: 5.4s\tremaining: 2.44s\n",
      "62:\tlearn: 1766.6022699\ttotal: 5.49s\tremaining: 2.35s\n",
      "63:\tlearn: 1765.8558686\ttotal: 5.58s\tremaining: 2.27s\n",
      "64:\tlearn: 1763.9982406\ttotal: 5.67s\tremaining: 2.18s\n",
      "65:\tlearn: 1761.7888908\ttotal: 5.75s\tremaining: 2.09s\n",
      "66:\tlearn: 1760.6019179\ttotal: 5.83s\tremaining: 2s\n",
      "67:\tlearn: 1758.0470626\ttotal: 5.92s\tremaining: 1.92s\n",
      "68:\tlearn: 1756.9005356\ttotal: 6.01s\tremaining: 1.83s\n",
      "69:\tlearn: 1754.4324956\ttotal: 6.1s\tremaining: 1.74s\n",
      "70:\tlearn: 1752.2115904\ttotal: 6.19s\tremaining: 1.66s\n",
      "71:\tlearn: 1750.5593254\ttotal: 6.27s\tremaining: 1.57s\n",
      "72:\tlearn: 1749.5383684\ttotal: 6.36s\tremaining: 1.48s\n",
      "73:\tlearn: 1748.4022778\ttotal: 6.45s\tremaining: 1.4s\n",
      "74:\tlearn: 1747.2075102\ttotal: 6.54s\tremaining: 1.31s\n",
      "75:\tlearn: 1745.2863067\ttotal: 6.63s\tremaining: 1.22s\n",
      "76:\tlearn: 1744.9222857\ttotal: 6.72s\tremaining: 1.13s\n",
      "77:\tlearn: 1742.8241579\ttotal: 6.81s\tremaining: 1.05s\n",
      "78:\tlearn: 1742.0002417\ttotal: 6.9s\tremaining: 960ms\n",
      "79:\tlearn: 1740.3005005\ttotal: 6.98s\tremaining: 873ms\n",
      "80:\tlearn: 1737.7491646\ttotal: 7.06s\tremaining: 785ms\n",
      "81:\tlearn: 1737.3509659\ttotal: 7.15s\tremaining: 698ms\n",
      "82:\tlearn: 1736.4032877\ttotal: 7.25s\tremaining: 611ms\n",
      "83:\tlearn: 1735.2758207\ttotal: 7.33s\tremaining: 524ms\n",
      "84:\tlearn: 1733.3938315\ttotal: 7.41s\tremaining: 436ms\n",
      "85:\tlearn: 1732.7468858\ttotal: 7.5s\tremaining: 349ms\n",
      "86:\tlearn: 1732.5920995\ttotal: 7.59s\tremaining: 262ms\n",
      "87:\tlearn: 1731.2403947\ttotal: 7.71s\tremaining: 175ms\n",
      "88:\tlearn: 1729.5118289\ttotal: 7.79s\tremaining: 87.6ms\n",
      "89:\tlearn: 1729.4473630\ttotal: 7.88s\tremaining: 0us\n",
      "0:\tlearn: 3645.5101992\ttotal: 98.8ms\tremaining: 8.79s\n",
      "1:\tlearn: 3061.1311860\ttotal: 191ms\tremaining: 8.39s\n",
      "2:\tlearn: 2708.6218998\ttotal: 272ms\tremaining: 7.9s\n",
      "3:\tlearn: 2472.7052164\ttotal: 365ms\tremaining: 7.84s\n",
      "4:\tlearn: 2330.1106775\ttotal: 446ms\tremaining: 7.58s\n",
      "5:\tlearn: 2239.5899910\ttotal: 537ms\tremaining: 7.52s\n",
      "6:\tlearn: 2153.6849697\ttotal: 619ms\tremaining: 7.34s\n",
      "7:\tlearn: 2098.3373584\ttotal: 698ms\tremaining: 7.16s\n",
      "8:\tlearn: 2061.5773504\ttotal: 779ms\tremaining: 7.01s\n",
      "9:\tlearn: 2031.8382550\ttotal: 861ms\tremaining: 6.88s\n",
      "10:\tlearn: 2015.9663410\ttotal: 943ms\tremaining: 6.77s\n",
      "11:\tlearn: 1986.6387509\ttotal: 1.03s\tremaining: 6.67s\n",
      "12:\tlearn: 1965.0833743\ttotal: 1.11s\tremaining: 6.55s\n",
      "13:\tlearn: 1949.7278691\ttotal: 1.19s\tremaining: 6.47s\n",
      "14:\tlearn: 1941.5607249\ttotal: 1.28s\tremaining: 6.41s\n",
      "15:\tlearn: 1930.7097207\ttotal: 1.37s\tremaining: 6.35s\n",
      "16:\tlearn: 1921.7319882\ttotal: 1.46s\tremaining: 6.28s\n",
      "17:\tlearn: 1915.4131607\ttotal: 1.56s\tremaining: 6.22s\n",
      "18:\tlearn: 1908.2001659\ttotal: 1.65s\tremaining: 6.15s\n",
      "19:\tlearn: 1898.5851044\ttotal: 1.73s\tremaining: 6.07s\n",
      "20:\tlearn: 1890.2743777\ttotal: 1.82s\tremaining: 5.97s\n",
      "21:\tlearn: 1883.8417919\ttotal: 1.9s\tremaining: 5.88s\n",
      "22:\tlearn: 1878.3541342\ttotal: 1.99s\tremaining: 5.81s\n",
      "23:\tlearn: 1873.7016015\ttotal: 2.08s\tremaining: 5.71s\n",
      "24:\tlearn: 1870.3271937\ttotal: 2.17s\tremaining: 5.64s\n",
      "25:\tlearn: 1866.1612027\ttotal: 2.26s\tremaining: 5.56s\n",
      "26:\tlearn: 1860.2138041\ttotal: 2.35s\tremaining: 5.47s\n",
      "27:\tlearn: 1856.9407476\ttotal: 2.43s\tremaining: 5.38s\n",
      "28:\tlearn: 1852.2467751\ttotal: 2.52s\tremaining: 5.31s\n",
      "29:\tlearn: 1849.2960260\ttotal: 2.6s\tremaining: 5.21s\n",
      "30:\tlearn: 1844.3179164\ttotal: 2.69s\tremaining: 5.12s\n",
      "31:\tlearn: 1840.5845081\ttotal: 2.77s\tremaining: 5.03s\n",
      "32:\tlearn: 1836.7436578\ttotal: 2.86s\tremaining: 4.94s\n",
      "33:\tlearn: 1833.6151217\ttotal: 2.95s\tremaining: 4.86s\n",
      "34:\tlearn: 1829.4407591\ttotal: 3.04s\tremaining: 4.77s\n",
      "35:\tlearn: 1827.1281577\ttotal: 3.12s\tremaining: 4.68s\n",
      "36:\tlearn: 1823.5844693\ttotal: 3.21s\tremaining: 4.59s\n",
      "37:\tlearn: 1821.2818285\ttotal: 3.29s\tremaining: 4.5s\n",
      "38:\tlearn: 1818.7782338\ttotal: 3.38s\tremaining: 4.42s\n",
      "39:\tlearn: 1814.6306311\ttotal: 3.46s\tremaining: 4.33s\n",
      "40:\tlearn: 1812.3850703\ttotal: 3.55s\tremaining: 4.25s\n",
      "41:\tlearn: 1810.5693408\ttotal: 3.64s\tremaining: 4.16s\n",
      "42:\tlearn: 1806.5087595\ttotal: 3.72s\tremaining: 4.07s\n",
      "43:\tlearn: 1804.2094409\ttotal: 3.81s\tremaining: 3.98s\n",
      "44:\tlearn: 1801.2227392\ttotal: 3.9s\tremaining: 3.9s\n",
      "45:\tlearn: 1799.2159959\ttotal: 3.98s\tremaining: 3.81s\n",
      "46:\tlearn: 1797.1683057\ttotal: 4.07s\tremaining: 3.72s\n",
      "47:\tlearn: 1796.0991144\ttotal: 4.16s\tremaining: 3.63s\n",
      "48:\tlearn: 1794.8814007\ttotal: 4.25s\tremaining: 3.55s\n",
      "49:\tlearn: 1792.9686444\ttotal: 4.33s\tremaining: 3.47s\n",
      "50:\tlearn: 1790.4977391\ttotal: 4.42s\tremaining: 3.38s\n",
      "51:\tlearn: 1787.5241613\ttotal: 4.5s\tremaining: 3.29s\n",
      "52:\tlearn: 1785.9637106\ttotal: 4.59s\tremaining: 3.2s\n",
      "53:\tlearn: 1783.0176294\ttotal: 4.67s\tremaining: 3.12s\n",
      "54:\tlearn: 1780.9968793\ttotal: 4.76s\tremaining: 3.03s\n",
      "55:\tlearn: 1779.8219445\ttotal: 4.84s\tremaining: 2.94s\n",
      "56:\tlearn: 1778.1315860\ttotal: 4.93s\tremaining: 2.86s\n",
      "57:\tlearn: 1776.1723293\ttotal: 5.02s\tremaining: 2.77s\n",
      "58:\tlearn: 1774.8760717\ttotal: 5.11s\tremaining: 2.68s\n",
      "59:\tlearn: 1773.2528103\ttotal: 5.19s\tremaining: 2.6s\n",
      "60:\tlearn: 1771.0751481\ttotal: 5.28s\tremaining: 2.51s\n",
      "61:\tlearn: 1769.5583149\ttotal: 5.36s\tremaining: 2.42s\n",
      "62:\tlearn: 1767.4162839\ttotal: 5.45s\tremaining: 2.34s\n",
      "63:\tlearn: 1766.6394795\ttotal: 5.54s\tremaining: 2.25s\n",
      "64:\tlearn: 1764.8229156\ttotal: 5.64s\tremaining: 2.17s\n",
      "65:\tlearn: 1763.7933956\ttotal: 5.72s\tremaining: 2.08s\n",
      "66:\tlearn: 1761.8729292\ttotal: 5.81s\tremaining: 1.99s\n",
      "67:\tlearn: 1760.2614650\ttotal: 5.89s\tremaining: 1.91s\n",
      "68:\tlearn: 1759.0814486\ttotal: 5.98s\tremaining: 1.82s\n",
      "69:\tlearn: 1757.4573891\ttotal: 6.07s\tremaining: 1.73s\n",
      "70:\tlearn: 1756.6986374\ttotal: 6.16s\tremaining: 1.65s\n",
      "71:\tlearn: 1755.1164646\ttotal: 6.25s\tremaining: 1.56s\n",
      "72:\tlearn: 1753.8051600\ttotal: 6.34s\tremaining: 1.48s\n",
      "73:\tlearn: 1752.2741200\ttotal: 6.43s\tremaining: 1.39s\n",
      "74:\tlearn: 1750.6899398\ttotal: 6.52s\tremaining: 1.3s\n",
      "75:\tlearn: 1749.3060761\ttotal: 6.61s\tremaining: 1.22s\n",
      "76:\tlearn: 1749.2237069\ttotal: 6.7s\tremaining: 1.13s\n",
      "77:\tlearn: 1748.1365103\ttotal: 6.79s\tremaining: 1.04s\n",
      "78:\tlearn: 1747.0103257\ttotal: 6.88s\tremaining: 957ms\n",
      "79:\tlearn: 1746.3061613\ttotal: 6.96s\tremaining: 870ms\n",
      "80:\tlearn: 1745.5863736\ttotal: 7.05s\tremaining: 783ms\n",
      "81:\tlearn: 1743.2531113\ttotal: 7.14s\tremaining: 697ms\n",
      "82:\tlearn: 1740.9207842\ttotal: 7.22s\tremaining: 609ms\n",
      "83:\tlearn: 1740.0641521\ttotal: 7.31s\tremaining: 522ms\n",
      "84:\tlearn: 1739.0097115\ttotal: 7.39s\tremaining: 435ms\n",
      "85:\tlearn: 1737.3389075\ttotal: 7.49s\tremaining: 348ms\n",
      "86:\tlearn: 1735.7597215\ttotal: 7.57s\tremaining: 261ms\n",
      "87:\tlearn: 1734.3369141\ttotal: 7.66s\tremaining: 174ms\n",
      "88:\tlearn: 1733.2344570\ttotal: 7.75s\tremaining: 87.1ms\n",
      "89:\tlearn: 1732.1072613\ttotal: 7.84s\tremaining: 0us\n",
      "0:\tlearn: 3661.4418886\ttotal: 101ms\tremaining: 8.99s\n",
      "1:\tlearn: 3068.8355172\ttotal: 190ms\tremaining: 8.38s\n",
      "2:\tlearn: 2713.3733388\ttotal: 272ms\tremaining: 7.88s\n",
      "3:\tlearn: 2493.7814966\ttotal: 361ms\tremaining: 7.76s\n",
      "4:\tlearn: 2336.7389243\ttotal: 480ms\tremaining: 8.16s\n",
      "5:\tlearn: 2219.1934894\ttotal: 575ms\tremaining: 8.04s\n",
      "6:\tlearn: 2146.2636680\ttotal: 655ms\tremaining: 7.76s\n",
      "7:\tlearn: 2101.9303194\ttotal: 732ms\tremaining: 7.51s\n",
      "8:\tlearn: 2061.1308894\ttotal: 814ms\tremaining: 7.33s\n",
      "9:\tlearn: 2030.0613720\ttotal: 896ms\tremaining: 7.17s\n",
      "10:\tlearn: 2014.1438439\ttotal: 983ms\tremaining: 7.06s\n",
      "11:\tlearn: 1981.6971119\ttotal: 1.07s\tremaining: 6.97s\n",
      "12:\tlearn: 1964.0752443\ttotal: 1.15s\tremaining: 6.84s\n",
      "13:\tlearn: 1951.0956035\ttotal: 1.24s\tremaining: 6.71s\n",
      "14:\tlearn: 1939.5754179\ttotal: 1.32s\tremaining: 6.6s\n",
      "15:\tlearn: 1922.8715767\ttotal: 1.4s\tremaining: 6.48s\n",
      "16:\tlearn: 1915.7616983\ttotal: 1.49s\tremaining: 6.4s\n",
      "17:\tlearn: 1907.3412717\ttotal: 1.58s\tremaining: 6.31s\n",
      "18:\tlearn: 1900.0786183\ttotal: 1.66s\tremaining: 6.21s\n",
      "19:\tlearn: 1894.0911441\ttotal: 1.75s\tremaining: 6.11s\n",
      "20:\tlearn: 1886.7732454\ttotal: 1.82s\tremaining: 6s\n",
      "21:\tlearn: 1882.6754747\ttotal: 1.91s\tremaining: 5.91s\n",
      "22:\tlearn: 1879.1348415\ttotal: 1.99s\tremaining: 5.81s\n",
      "23:\tlearn: 1873.4331519\ttotal: 2.08s\tremaining: 5.72s\n",
      "24:\tlearn: 1869.5422181\ttotal: 2.17s\tremaining: 5.64s\n",
      "25:\tlearn: 1863.8276639\ttotal: 2.26s\tremaining: 5.56s\n",
      "26:\tlearn: 1861.4164996\ttotal: 2.35s\tremaining: 5.47s\n",
      "27:\tlearn: 1856.7895735\ttotal: 2.44s\tremaining: 5.39s\n",
      "28:\tlearn: 1851.7116425\ttotal: 2.52s\tremaining: 5.31s\n",
      "29:\tlearn: 1847.9110531\ttotal: 2.61s\tremaining: 5.22s\n",
      "30:\tlearn: 1844.6440497\ttotal: 2.69s\tremaining: 5.13s\n",
      "31:\tlearn: 1840.0802436\ttotal: 2.78s\tremaining: 5.04s\n",
      "32:\tlearn: 1835.4824112\ttotal: 2.87s\tremaining: 4.95s\n",
      "33:\tlearn: 1831.5320591\ttotal: 2.96s\tremaining: 4.87s\n",
      "34:\tlearn: 1829.7962460\ttotal: 3.05s\tremaining: 4.79s\n",
      "35:\tlearn: 1828.1110712\ttotal: 3.13s\tremaining: 4.69s\n",
      "36:\tlearn: 1826.5641320\ttotal: 3.22s\tremaining: 4.61s\n",
      "37:\tlearn: 1823.4287827\ttotal: 3.31s\tremaining: 4.52s\n",
      "38:\tlearn: 1820.8948238\ttotal: 3.4s\tremaining: 4.44s\n",
      "39:\tlearn: 1818.4047636\ttotal: 3.49s\tremaining: 4.36s\n",
      "40:\tlearn: 1816.3636730\ttotal: 3.58s\tremaining: 4.28s\n",
      "41:\tlearn: 1814.5043922\ttotal: 3.67s\tremaining: 4.19s\n",
      "42:\tlearn: 1812.4515564\ttotal: 3.75s\tremaining: 4.1s\n",
      "43:\tlearn: 1809.3792209\ttotal: 3.84s\tremaining: 4.02s\n",
      "44:\tlearn: 1806.6223636\ttotal: 3.93s\tremaining: 3.93s\n",
      "45:\tlearn: 1804.5207644\ttotal: 4.01s\tremaining: 3.84s\n",
      "46:\tlearn: 1801.9530458\ttotal: 4.09s\tremaining: 3.75s\n",
      "47:\tlearn: 1800.1901979\ttotal: 4.18s\tremaining: 3.65s\n",
      "48:\tlearn: 1798.6116524\ttotal: 4.27s\tremaining: 3.57s\n",
      "49:\tlearn: 1797.1726378\ttotal: 4.35s\tremaining: 3.48s\n",
      "50:\tlearn: 1795.6221904\ttotal: 4.44s\tremaining: 3.4s\n",
      "51:\tlearn: 1792.2313371\ttotal: 4.53s\tremaining: 3.31s\n",
      "52:\tlearn: 1790.5587049\ttotal: 4.61s\tremaining: 3.22s\n",
      "53:\tlearn: 1787.2257727\ttotal: 4.7s\tremaining: 3.13s\n",
      "54:\tlearn: 1785.7529982\ttotal: 4.79s\tremaining: 3.05s\n",
      "55:\tlearn: 1784.3368737\ttotal: 4.88s\tremaining: 2.96s\n",
      "56:\tlearn: 1781.9002760\ttotal: 4.96s\tremaining: 2.87s\n",
      "57:\tlearn: 1778.6737801\ttotal: 5.04s\tremaining: 2.78s\n",
      "58:\tlearn: 1777.0333709\ttotal: 5.13s\tremaining: 2.7s\n",
      "59:\tlearn: 1774.9833521\ttotal: 5.22s\tremaining: 2.61s\n",
      "60:\tlearn: 1772.7505847\ttotal: 5.31s\tremaining: 2.52s\n",
      "61:\tlearn: 1771.5436969\ttotal: 5.4s\tremaining: 2.44s\n",
      "62:\tlearn: 1770.5439915\ttotal: 5.48s\tremaining: 2.35s\n",
      "63:\tlearn: 1768.9462806\ttotal: 5.57s\tremaining: 2.26s\n",
      "64:\tlearn: 1768.0563286\ttotal: 5.65s\tremaining: 2.17s\n",
      "65:\tlearn: 1765.8451802\ttotal: 5.74s\tremaining: 2.09s\n",
      "66:\tlearn: 1764.3273623\ttotal: 5.82s\tremaining: 2s\n",
      "67:\tlearn: 1763.2594847\ttotal: 5.91s\tremaining: 1.91s\n",
      "68:\tlearn: 1761.2483029\ttotal: 6s\tremaining: 1.83s\n",
      "69:\tlearn: 1758.8785752\ttotal: 6.08s\tremaining: 1.74s\n",
      "70:\tlearn: 1756.9173237\ttotal: 6.16s\tremaining: 1.65s\n",
      "71:\tlearn: 1756.1393994\ttotal: 6.24s\tremaining: 1.56s\n",
      "72:\tlearn: 1754.8433839\ttotal: 6.33s\tremaining: 1.47s\n",
      "73:\tlearn: 1754.0807660\ttotal: 6.41s\tremaining: 1.39s\n",
      "74:\tlearn: 1752.2152579\ttotal: 6.49s\tremaining: 1.3s\n",
      "75:\tlearn: 1750.5758357\ttotal: 6.58s\tremaining: 1.21s\n",
      "76:\tlearn: 1749.6704999\ttotal: 6.67s\tremaining: 1.13s\n",
      "77:\tlearn: 1748.0123862\ttotal: 6.77s\tremaining: 1.04s\n",
      "78:\tlearn: 1746.6082127\ttotal: 6.85s\tremaining: 954ms\n",
      "79:\tlearn: 1745.8545377\ttotal: 6.93s\tremaining: 867ms\n",
      "80:\tlearn: 1744.6903235\ttotal: 7.02s\tremaining: 780ms\n",
      "81:\tlearn: 1742.7164126\ttotal: 7.11s\tremaining: 694ms\n",
      "82:\tlearn: 1742.0168171\ttotal: 7.2s\tremaining: 607ms\n",
      "83:\tlearn: 1740.6420988\ttotal: 7.29s\tremaining: 521ms\n",
      "84:\tlearn: 1739.2518204\ttotal: 7.38s\tremaining: 434ms\n",
      "85:\tlearn: 1737.7721930\ttotal: 7.46s\tremaining: 347ms\n",
      "86:\tlearn: 1736.1855019\ttotal: 7.55s\tremaining: 260ms\n",
      "87:\tlearn: 1735.1123651\ttotal: 7.64s\tremaining: 174ms\n",
      "88:\tlearn: 1733.7534570\ttotal: 7.72s\tremaining: 86.8ms\n",
      "89:\tlearn: 1732.4037887\ttotal: 7.8s\tremaining: 0us\n",
      "0:\tlearn: 3643.1058763\ttotal: 102ms\tremaining: 9.11s\n",
      "1:\tlearn: 3066.9412793\ttotal: 193ms\tremaining: 8.48s\n",
      "2:\tlearn: 2711.3893394\ttotal: 275ms\tremaining: 7.98s\n",
      "3:\tlearn: 2472.2710910\ttotal: 357ms\tremaining: 7.67s\n",
      "4:\tlearn: 2331.9394488\ttotal: 451ms\tremaining: 7.67s\n",
      "5:\tlearn: 2220.5131605\ttotal: 546ms\tremaining: 7.64s\n",
      "6:\tlearn: 2141.0095061\ttotal: 627ms\tremaining: 7.43s\n",
      "7:\tlearn: 2087.8691252\ttotal: 709ms\tremaining: 7.26s\n",
      "8:\tlearn: 2055.7354713\ttotal: 789ms\tremaining: 7.1s\n",
      "9:\tlearn: 2032.2794206\ttotal: 876ms\tremaining: 7.01s\n",
      "10:\tlearn: 2016.8174465\ttotal: 962ms\tremaining: 6.91s\n",
      "11:\tlearn: 2001.6485077\ttotal: 1.05s\tremaining: 6.84s\n",
      "12:\tlearn: 1971.9845564\ttotal: 1.14s\tremaining: 6.73s\n",
      "13:\tlearn: 1953.0494857\ttotal: 1.22s\tremaining: 6.63s\n",
      "14:\tlearn: 1944.7927599\ttotal: 1.31s\tremaining: 6.55s\n",
      "15:\tlearn: 1930.9249739\ttotal: 1.4s\tremaining: 6.46s\n",
      "16:\tlearn: 1923.2184800\ttotal: 1.48s\tremaining: 6.38s\n",
      "17:\tlearn: 1916.5374703\ttotal: 1.58s\tremaining: 6.3s\n",
      "18:\tlearn: 1908.3595003\ttotal: 1.66s\tremaining: 6.2s\n",
      "19:\tlearn: 1898.3836237\ttotal: 1.79s\tremaining: 6.25s\n",
      "20:\tlearn: 1893.5451157\ttotal: 1.88s\tremaining: 6.19s\n",
      "21:\tlearn: 1886.1540043\ttotal: 1.97s\tremaining: 6.1s\n",
      "22:\tlearn: 1878.9143322\ttotal: 2.06s\tremaining: 6s\n",
      "23:\tlearn: 1873.7333999\ttotal: 2.14s\tremaining: 5.9s\n",
      "24:\tlearn: 1869.7673877\ttotal: 2.24s\tremaining: 5.81s\n",
      "25:\tlearn: 1865.4148613\ttotal: 2.33s\tremaining: 5.72s\n",
      "26:\tlearn: 1862.2368441\ttotal: 2.41s\tremaining: 5.63s\n",
      "27:\tlearn: 1857.2440077\ttotal: 2.5s\tremaining: 5.53s\n",
      "28:\tlearn: 1852.6647483\ttotal: 2.58s\tremaining: 5.44s\n",
      "29:\tlearn: 1849.3920725\ttotal: 2.68s\tremaining: 5.36s\n",
      "30:\tlearn: 1846.0212266\ttotal: 2.76s\tremaining: 5.26s\n",
      "31:\tlearn: 1843.5712480\ttotal: 2.85s\tremaining: 5.17s\n",
      "32:\tlearn: 1840.6392049\ttotal: 2.94s\tremaining: 5.08s\n",
      "33:\tlearn: 1839.0025681\ttotal: 3.03s\tremaining: 5s\n",
      "34:\tlearn: 1834.6698431\ttotal: 3.12s\tremaining: 4.9s\n",
      "35:\tlearn: 1831.3751083\ttotal: 3.21s\tremaining: 4.81s\n",
      "36:\tlearn: 1826.8452781\ttotal: 3.29s\tremaining: 4.71s\n",
      "37:\tlearn: 1825.5223418\ttotal: 3.38s\tremaining: 4.63s\n",
      "38:\tlearn: 1822.4270561\ttotal: 3.47s\tremaining: 4.54s\n",
      "39:\tlearn: 1819.1560764\ttotal: 3.55s\tremaining: 4.44s\n",
      "40:\tlearn: 1815.4668988\ttotal: 3.64s\tremaining: 4.35s\n",
      "41:\tlearn: 1814.1223785\ttotal: 3.73s\tremaining: 4.26s\n",
      "42:\tlearn: 1811.5879180\ttotal: 3.82s\tremaining: 4.17s\n",
      "43:\tlearn: 1809.0392084\ttotal: 3.9s\tremaining: 4.08s\n",
      "44:\tlearn: 1806.7786064\ttotal: 3.99s\tremaining: 3.99s\n",
      "45:\tlearn: 1805.1055818\ttotal: 4.08s\tremaining: 3.9s\n",
      "46:\tlearn: 1802.5688590\ttotal: 4.16s\tremaining: 3.8s\n",
      "47:\tlearn: 1802.5612505\ttotal: 4.2s\tremaining: 3.67s\n",
      "48:\tlearn: 1799.5282513\ttotal: 4.28s\tremaining: 3.58s\n",
      "49:\tlearn: 1796.7152325\ttotal: 4.38s\tremaining: 3.5s\n",
      "50:\tlearn: 1794.9666621\ttotal: 4.46s\tremaining: 3.41s\n",
      "51:\tlearn: 1792.6183271\ttotal: 4.54s\tremaining: 3.32s\n",
      "52:\tlearn: 1789.8269977\ttotal: 4.63s\tremaining: 3.23s\n",
      "53:\tlearn: 1786.9468885\ttotal: 4.72s\tremaining: 3.14s\n",
      "54:\tlearn: 1785.2650279\ttotal: 4.8s\tremaining: 3.06s\n",
      "55:\tlearn: 1783.9544257\ttotal: 4.89s\tremaining: 2.97s\n",
      "56:\tlearn: 1782.5030949\ttotal: 4.98s\tremaining: 2.88s\n",
      "57:\tlearn: 1780.9185778\ttotal: 5.07s\tremaining: 2.8s\n",
      "58:\tlearn: 1780.3606010\ttotal: 5.16s\tremaining: 2.71s\n",
      "59:\tlearn: 1778.4109888\ttotal: 5.25s\tremaining: 2.62s\n",
      "60:\tlearn: 1775.7023860\ttotal: 5.33s\tremaining: 2.53s\n",
      "61:\tlearn: 1773.0897223\ttotal: 5.42s\tremaining: 2.44s\n",
      "62:\tlearn: 1771.2125936\ttotal: 5.5s\tremaining: 2.36s\n",
      "63:\tlearn: 1769.7777581\ttotal: 5.59s\tremaining: 2.27s\n",
      "64:\tlearn: 1767.3218411\ttotal: 5.67s\tremaining: 2.18s\n",
      "65:\tlearn: 1766.1610643\ttotal: 5.75s\tremaining: 2.09s\n",
      "66:\tlearn: 1764.6074398\ttotal: 5.84s\tremaining: 2.01s\n",
      "67:\tlearn: 1763.5535396\ttotal: 5.93s\tremaining: 1.92s\n",
      "68:\tlearn: 1762.0681169\ttotal: 6.01s\tremaining: 1.83s\n",
      "69:\tlearn: 1760.7674771\ttotal: 6.11s\tremaining: 1.74s\n",
      "70:\tlearn: 1758.0753998\ttotal: 6.19s\tremaining: 1.66s\n",
      "71:\tlearn: 1755.8286320\ttotal: 6.28s\tremaining: 1.57s\n",
      "72:\tlearn: 1754.9800045\ttotal: 6.36s\tremaining: 1.48s\n",
      "73:\tlearn: 1753.1137079\ttotal: 6.45s\tremaining: 1.39s\n",
      "74:\tlearn: 1752.1796591\ttotal: 6.54s\tremaining: 1.31s\n",
      "75:\tlearn: 1750.8715480\ttotal: 6.62s\tremaining: 1.22s\n",
      "76:\tlearn: 1749.6400334\ttotal: 6.71s\tremaining: 1.13s\n",
      "77:\tlearn: 1748.2933209\ttotal: 6.79s\tremaining: 1.04s\n",
      "78:\tlearn: 1746.4969070\ttotal: 6.88s\tremaining: 958ms\n",
      "79:\tlearn: 1745.1053370\ttotal: 6.97s\tremaining: 871ms\n",
      "80:\tlearn: 1744.1011454\ttotal: 7.06s\tremaining: 784ms\n",
      "81:\tlearn: 1742.8926486\ttotal: 7.15s\tremaining: 698ms\n",
      "82:\tlearn: 1741.6459757\ttotal: 7.24s\tremaining: 611ms\n",
      "83:\tlearn: 1739.9706959\ttotal: 7.32s\tremaining: 523ms\n",
      "84:\tlearn: 1738.8669684\ttotal: 7.41s\tremaining: 436ms\n",
      "85:\tlearn: 1737.3430787\ttotal: 7.49s\tremaining: 349ms\n",
      "86:\tlearn: 1736.7447979\ttotal: 7.58s\tremaining: 261ms\n",
      "87:\tlearn: 1736.1870599\ttotal: 7.67s\tremaining: 174ms\n",
      "88:\tlearn: 1734.7986757\ttotal: 7.75s\tremaining: 87.1ms\n",
      "89:\tlearn: 1733.8023416\ttotal: 7.86s\tremaining: 0us\n",
      "0:\tlearn: 3642.8784771\ttotal: 102ms\tremaining: 9.09s\n",
      "1:\tlearn: 3067.3742551\ttotal: 192ms\tremaining: 8.45s\n",
      "2:\tlearn: 2709.7757546\ttotal: 275ms\tremaining: 7.98s\n",
      "3:\tlearn: 2479.5242959\ttotal: 369ms\tremaining: 7.93s\n",
      "4:\tlearn: 2333.2089696\ttotal: 448ms\tremaining: 7.62s\n",
      "5:\tlearn: 2248.1717548\ttotal: 538ms\tremaining: 7.53s\n",
      "6:\tlearn: 2164.6766940\ttotal: 623ms\tremaining: 7.39s\n",
      "7:\tlearn: 2104.9938623\ttotal: 707ms\tremaining: 7.25s\n",
      "8:\tlearn: 2066.4195362\ttotal: 787ms\tremaining: 7.08s\n",
      "9:\tlearn: 2038.1618349\ttotal: 874ms\tremaining: 6.99s\n",
      "10:\tlearn: 2021.7080156\ttotal: 955ms\tremaining: 6.86s\n",
      "11:\tlearn: 2003.9889095\ttotal: 1.03s\tremaining: 6.73s\n",
      "12:\tlearn: 1975.1589874\ttotal: 1.12s\tremaining: 6.61s\n",
      "13:\tlearn: 1958.0457697\ttotal: 1.2s\tremaining: 6.5s\n",
      "14:\tlearn: 1947.1543489\ttotal: 1.29s\tremaining: 6.43s\n",
      "15:\tlearn: 1934.2429021\ttotal: 1.37s\tremaining: 6.33s\n",
      "16:\tlearn: 1921.7724974\ttotal: 1.45s\tremaining: 6.24s\n",
      "17:\tlearn: 1916.3786617\ttotal: 1.54s\tremaining: 6.15s\n",
      "18:\tlearn: 1909.4421615\ttotal: 1.63s\tremaining: 6.09s\n",
      "19:\tlearn: 1904.5742188\ttotal: 1.72s\tremaining: 6.03s\n",
      "20:\tlearn: 1897.8155000\ttotal: 1.81s\tremaining: 5.95s\n",
      "21:\tlearn: 1893.4351147\ttotal: 1.9s\tremaining: 5.87s\n",
      "22:\tlearn: 1887.3397953\ttotal: 1.99s\tremaining: 5.79s\n",
      "23:\tlearn: 1883.1212817\ttotal: 2.08s\tremaining: 5.72s\n",
      "24:\tlearn: 1877.3345382\ttotal: 2.17s\tremaining: 5.65s\n",
      "25:\tlearn: 1871.1323146\ttotal: 2.26s\tremaining: 5.56s\n",
      "26:\tlearn: 1865.9526077\ttotal: 2.35s\tremaining: 5.47s\n",
      "27:\tlearn: 1861.0361361\ttotal: 2.43s\tremaining: 5.38s\n",
      "28:\tlearn: 1857.9918034\ttotal: 2.52s\tremaining: 5.3s\n",
      "29:\tlearn: 1856.3169290\ttotal: 2.61s\tremaining: 5.22s\n",
      "30:\tlearn: 1852.5992107\ttotal: 2.7s\tremaining: 5.14s\n",
      "31:\tlearn: 1848.6720909\ttotal: 2.79s\tremaining: 5.06s\n",
      "32:\tlearn: 1845.2958504\ttotal: 2.87s\tremaining: 4.96s\n",
      "33:\tlearn: 1841.7828409\ttotal: 2.96s\tremaining: 4.88s\n",
      "34:\tlearn: 1840.1019414\ttotal: 3.05s\tremaining: 4.79s\n",
      "35:\tlearn: 1837.1619736\ttotal: 3.17s\tremaining: 4.75s\n",
      "36:\tlearn: 1835.3027896\ttotal: 3.26s\tremaining: 4.67s\n",
      "37:\tlearn: 1835.3027492\ttotal: 3.29s\tremaining: 4.51s\n",
      "38:\tlearn: 1831.3410396\ttotal: 3.38s\tremaining: 4.43s\n",
      "39:\tlearn: 1828.8392279\ttotal: 3.47s\tremaining: 4.34s\n",
      "40:\tlearn: 1826.3489247\ttotal: 3.56s\tremaining: 4.25s\n",
      "41:\tlearn: 1823.5022711\ttotal: 3.64s\tremaining: 4.16s\n",
      "42:\tlearn: 1821.1903387\ttotal: 3.73s\tremaining: 4.08s\n",
      "43:\tlearn: 1817.7023579\ttotal: 3.82s\tremaining: 3.99s\n",
      "44:\tlearn: 1814.6778245\ttotal: 3.9s\tremaining: 3.9s\n",
      "45:\tlearn: 1811.2510705\ttotal: 3.99s\tremaining: 3.82s\n",
      "46:\tlearn: 1808.5301552\ttotal: 4.08s\tremaining: 3.73s\n",
      "47:\tlearn: 1806.4416652\ttotal: 4.17s\tremaining: 3.65s\n",
      "48:\tlearn: 1803.3591332\ttotal: 4.26s\tremaining: 3.56s\n",
      "49:\tlearn: 1800.9773619\ttotal: 4.35s\tremaining: 3.48s\n",
      "50:\tlearn: 1799.9985835\ttotal: 4.45s\tremaining: 3.4s\n",
      "51:\tlearn: 1796.1929382\ttotal: 4.53s\tremaining: 3.31s\n",
      "52:\tlearn: 1792.4011805\ttotal: 4.62s\tremaining: 3.23s\n",
      "53:\tlearn: 1790.3554813\ttotal: 4.71s\tremaining: 3.14s\n",
      "54:\tlearn: 1788.2148269\ttotal: 4.79s\tremaining: 3.05s\n",
      "55:\tlearn: 1786.4011268\ttotal: 4.88s\tremaining: 2.96s\n",
      "56:\tlearn: 1784.6739741\ttotal: 4.97s\tremaining: 2.88s\n",
      "57:\tlearn: 1782.0600918\ttotal: 5.05s\tremaining: 2.79s\n",
      "58:\tlearn: 1780.0808272\ttotal: 5.14s\tremaining: 2.7s\n",
      "59:\tlearn: 1777.2913358\ttotal: 5.22s\tremaining: 2.61s\n",
      "60:\tlearn: 1775.4658629\ttotal: 5.31s\tremaining: 2.52s\n",
      "61:\tlearn: 1773.2796405\ttotal: 5.39s\tremaining: 2.44s\n",
      "62:\tlearn: 1771.5278047\ttotal: 5.48s\tremaining: 2.35s\n",
      "63:\tlearn: 1769.0330568\ttotal: 5.57s\tremaining: 2.26s\n",
      "64:\tlearn: 1767.4213117\ttotal: 5.66s\tremaining: 2.17s\n",
      "65:\tlearn: 1766.0639372\ttotal: 5.75s\tremaining: 2.09s\n",
      "66:\tlearn: 1764.8314825\ttotal: 5.83s\tremaining: 2s\n",
      "67:\tlearn: 1763.3566545\ttotal: 5.92s\tremaining: 1.92s\n",
      "68:\tlearn: 1762.1670010\ttotal: 6.01s\tremaining: 1.83s\n",
      "69:\tlearn: 1759.2980999\ttotal: 6.09s\tremaining: 1.74s\n",
      "70:\tlearn: 1757.8777846\ttotal: 6.18s\tremaining: 1.65s\n",
      "71:\tlearn: 1755.7067069\ttotal: 6.27s\tremaining: 1.57s\n",
      "72:\tlearn: 1754.3368661\ttotal: 6.35s\tremaining: 1.48s\n",
      "73:\tlearn: 1752.4816133\ttotal: 6.43s\tremaining: 1.39s\n",
      "74:\tlearn: 1751.3654688\ttotal: 6.52s\tremaining: 1.3s\n",
      "75:\tlearn: 1748.9369873\ttotal: 6.61s\tremaining: 1.22s\n",
      "76:\tlearn: 1747.8631642\ttotal: 6.7s\tremaining: 1.13s\n",
      "77:\tlearn: 1746.5495293\ttotal: 6.78s\tremaining: 1.04s\n",
      "78:\tlearn: 1745.3405598\ttotal: 6.87s\tremaining: 956ms\n",
      "79:\tlearn: 1743.9134220\ttotal: 6.95s\tremaining: 868ms\n",
      "80:\tlearn: 1742.9277745\ttotal: 7.04s\tremaining: 782ms\n",
      "81:\tlearn: 1742.1462283\ttotal: 7.12s\tremaining: 695ms\n",
      "82:\tlearn: 1741.3489885\ttotal: 7.21s\tremaining: 608ms\n",
      "83:\tlearn: 1740.7798708\ttotal: 7.29s\tremaining: 521ms\n",
      "84:\tlearn: 1739.1195967\ttotal: 7.37s\tremaining: 434ms\n",
      "85:\tlearn: 1737.9837803\ttotal: 7.46s\tremaining: 347ms\n",
      "86:\tlearn: 1735.6019906\ttotal: 7.54s\tremaining: 260ms\n",
      "87:\tlearn: 1733.7094808\ttotal: 7.63s\tremaining: 173ms\n",
      "88:\tlearn: 1732.0196013\ttotal: 7.71s\tremaining: 86.7ms\n",
      "89:\tlearn: 1730.5384140\ttotal: 7.8s\tremaining: 0us\n",
      "0:\tlearn: 4257.9106492\ttotal: 69.1ms\tremaining: 4.08s\n",
      "1:\tlearn: 4025.8431556\ttotal: 129ms\tremaining: 3.75s\n",
      "2:\tlearn: 3833.0499626\ttotal: 188ms\tremaining: 3.58s\n",
      "3:\tlearn: 3649.5693556\ttotal: 240ms\tremaining: 3.35s\n",
      "4:\tlearn: 3490.2041219\ttotal: 293ms\tremaining: 3.22s\n",
      "5:\tlearn: 3351.4719767\ttotal: 341ms\tremaining: 3.07s\n",
      "6:\tlearn: 3231.7193057\ttotal: 390ms\tremaining: 2.95s\n",
      "7:\tlearn: 3126.9211734\ttotal: 442ms\tremaining: 2.87s\n",
      "8:\tlearn: 3032.9290183\ttotal: 491ms\tremaining: 2.78s\n",
      "9:\tlearn: 2949.6190908\ttotal: 542ms\tremaining: 2.71s\n",
      "10:\tlearn: 2877.4796638\ttotal: 595ms\tremaining: 2.65s\n",
      "11:\tlearn: 2812.3464305\ttotal: 646ms\tremaining: 2.58s\n",
      "12:\tlearn: 2743.4993619\ttotal: 695ms\tremaining: 2.51s\n",
      "13:\tlearn: 2694.0883045\ttotal: 744ms\tremaining: 2.44s\n",
      "14:\tlearn: 2642.2179495\ttotal: 800ms\tremaining: 2.4s\n",
      "15:\tlearn: 2600.5071204\ttotal: 849ms\tremaining: 2.33s\n",
      "16:\tlearn: 2555.9388367\ttotal: 901ms\tremaining: 2.28s\n",
      "17:\tlearn: 2511.4554093\ttotal: 953ms\tremaining: 2.22s\n",
      "18:\tlearn: 2471.3664561\ttotal: 1s\tremaining: 2.16s\n",
      "19:\tlearn: 2436.9324573\ttotal: 1.05s\tremaining: 2.1s\n",
      "20:\tlearn: 2407.7694573\ttotal: 1.1s\tremaining: 2.05s\n",
      "21:\tlearn: 2379.6851397\ttotal: 1.15s\tremaining: 1.99s\n",
      "22:\tlearn: 2357.2366542\ttotal: 1.21s\tremaining: 1.95s\n",
      "23:\tlearn: 2337.7819447\ttotal: 1.26s\tremaining: 1.9s\n",
      "24:\tlearn: 2316.2830999\ttotal: 1.31s\tremaining: 1.84s\n",
      "25:\tlearn: 2299.7702488\ttotal: 1.37s\tremaining: 1.79s\n",
      "26:\tlearn: 2284.4529585\ttotal: 1.42s\tremaining: 1.73s\n",
      "27:\tlearn: 2272.6144401\ttotal: 1.47s\tremaining: 1.68s\n",
      "28:\tlearn: 2259.9167018\ttotal: 1.52s\tremaining: 1.63s\n",
      "29:\tlearn: 2244.4971482\ttotal: 1.57s\tremaining: 1.57s\n",
      "30:\tlearn: 2229.8829851\ttotal: 1.63s\tremaining: 1.52s\n",
      "31:\tlearn: 2220.6288081\ttotal: 1.68s\tremaining: 1.47s\n",
      "32:\tlearn: 2212.8075355\ttotal: 1.74s\tremaining: 1.42s\n",
      "33:\tlearn: 2201.2385619\ttotal: 1.79s\tremaining: 1.37s\n",
      "34:\tlearn: 2192.3998324\ttotal: 1.84s\tremaining: 1.31s\n",
      "35:\tlearn: 2183.5686983\ttotal: 1.9s\tremaining: 1.26s\n",
      "36:\tlearn: 2176.4714630\ttotal: 1.95s\tremaining: 1.21s\n",
      "37:\tlearn: 2169.4123857\ttotal: 2s\tremaining: 1.16s\n",
      "38:\tlearn: 2163.8156557\ttotal: 2.05s\tremaining: 1.1s\n",
      "39:\tlearn: 2158.7498267\ttotal: 2.11s\tremaining: 1.05s\n",
      "40:\tlearn: 2150.6386907\ttotal: 2.16s\tremaining: 1s\n",
      "41:\tlearn: 2145.4666084\ttotal: 2.22s\tremaining: 950ms\n",
      "42:\tlearn: 2141.1050559\ttotal: 2.28s\tremaining: 901ms\n",
      "43:\tlearn: 2135.8312968\ttotal: 2.34s\tremaining: 850ms\n",
      "44:\tlearn: 2131.6066162\ttotal: 2.39s\tremaining: 797ms\n",
      "45:\tlearn: 2125.7578352\ttotal: 2.44s\tremaining: 744ms\n",
      "46:\tlearn: 2121.8765813\ttotal: 2.5s\tremaining: 690ms\n",
      "47:\tlearn: 2114.8280168\ttotal: 2.54s\tremaining: 636ms\n",
      "48:\tlearn: 2106.4452452\ttotal: 2.59s\tremaining: 582ms\n",
      "49:\tlearn: 2101.3223309\ttotal: 2.64s\tremaining: 528ms\n",
      "50:\tlearn: 2094.6750943\ttotal: 2.69s\tremaining: 475ms\n",
      "51:\tlearn: 2089.7608292\ttotal: 2.74s\tremaining: 422ms\n",
      "52:\tlearn: 2085.9655081\ttotal: 2.79s\tremaining: 369ms\n",
      "53:\tlearn: 2082.0542890\ttotal: 2.84s\tremaining: 316ms\n",
      "54:\tlearn: 2078.9918724\ttotal: 2.89s\tremaining: 263ms\n",
      "55:\tlearn: 2074.8787402\ttotal: 2.95s\tremaining: 211ms\n",
      "56:\tlearn: 2071.0547440\ttotal: 3.01s\tremaining: 158ms\n",
      "57:\tlearn: 2065.6626715\ttotal: 3.06s\tremaining: 105ms\n",
      "58:\tlearn: 2061.8207833\ttotal: 3.1s\tremaining: 52.6ms\n",
      "59:\tlearn: 2059.4053712\ttotal: 3.16s\tremaining: 0us\n",
      "0:\tlearn: 4262.2093037\ttotal: 71ms\tremaining: 4.19s\n",
      "1:\tlearn: 4029.6366839\ttotal: 133ms\tremaining: 3.84s\n",
      "2:\tlearn: 3834.6284917\ttotal: 192ms\tremaining: 3.65s\n",
      "3:\tlearn: 3656.3104717\ttotal: 242ms\tremaining: 3.38s\n",
      "4:\tlearn: 3493.2585969\ttotal: 296ms\tremaining: 3.25s\n",
      "5:\tlearn: 3355.6661762\ttotal: 346ms\tremaining: 3.11s\n",
      "6:\tlearn: 3236.3596174\ttotal: 402ms\tremaining: 3.04s\n",
      "7:\tlearn: 3127.7820776\ttotal: 453ms\tremaining: 2.94s\n",
      "8:\tlearn: 3031.5695308\ttotal: 503ms\tremaining: 2.85s\n",
      "9:\tlearn: 2950.0464609\ttotal: 559ms\tremaining: 2.8s\n",
      "10:\tlearn: 2869.6977978\ttotal: 629ms\tremaining: 2.8s\n",
      "11:\tlearn: 2801.3166512\ttotal: 695ms\tremaining: 2.78s\n",
      "12:\tlearn: 2742.3672437\ttotal: 746ms\tremaining: 2.7s\n",
      "13:\tlearn: 2692.5317727\ttotal: 797ms\tremaining: 2.62s\n",
      "14:\tlearn: 2640.0069591\ttotal: 849ms\tremaining: 2.55s\n",
      "15:\tlearn: 2600.2186810\ttotal: 900ms\tremaining: 2.48s\n",
      "16:\tlearn: 2552.3345337\ttotal: 955ms\tremaining: 2.42s\n",
      "17:\tlearn: 2509.2173640\ttotal: 1.01s\tremaining: 2.35s\n",
      "18:\tlearn: 2472.7238503\ttotal: 1.06s\tremaining: 2.29s\n",
      "19:\tlearn: 2442.5944056\ttotal: 1.11s\tremaining: 2.23s\n",
      "20:\tlearn: 2413.6158480\ttotal: 1.17s\tremaining: 2.17s\n",
      "21:\tlearn: 2389.0890729\ttotal: 1.22s\tremaining: 2.11s\n",
      "22:\tlearn: 2362.8441454\ttotal: 1.27s\tremaining: 2.05s\n",
      "23:\tlearn: 2342.9911298\ttotal: 1.32s\tremaining: 1.99s\n",
      "24:\tlearn: 2325.2814191\ttotal: 1.37s\tremaining: 1.92s\n",
      "25:\tlearn: 2306.5177570\ttotal: 1.42s\tremaining: 1.86s\n",
      "26:\tlearn: 2292.0193244\ttotal: 1.47s\tremaining: 1.8s\n",
      "27:\tlearn: 2275.7007737\ttotal: 1.52s\tremaining: 1.74s\n",
      "28:\tlearn: 2264.1312775\ttotal: 1.58s\tremaining: 1.69s\n",
      "29:\tlearn: 2250.5277514\ttotal: 1.63s\tremaining: 1.63s\n",
      "30:\tlearn: 2241.4405033\ttotal: 1.69s\tremaining: 1.58s\n",
      "31:\tlearn: 2228.6749765\ttotal: 1.74s\tremaining: 1.52s\n",
      "32:\tlearn: 2219.4988957\ttotal: 1.79s\tremaining: 1.47s\n",
      "33:\tlearn: 2211.0154465\ttotal: 1.85s\tremaining: 1.41s\n",
      "34:\tlearn: 2202.7948581\ttotal: 1.9s\tremaining: 1.36s\n",
      "35:\tlearn: 2195.6718671\ttotal: 1.95s\tremaining: 1.3s\n",
      "36:\tlearn: 2189.9456865\ttotal: 2s\tremaining: 1.25s\n",
      "37:\tlearn: 2185.1398215\ttotal: 2.06s\tremaining: 1.19s\n",
      "38:\tlearn: 2176.9626135\ttotal: 2.11s\tremaining: 1.14s\n",
      "39:\tlearn: 2171.7516835\ttotal: 2.16s\tremaining: 1.08s\n",
      "40:\tlearn: 2165.3151162\ttotal: 2.22s\tremaining: 1.03s\n",
      "41:\tlearn: 2159.5556815\ttotal: 2.28s\tremaining: 976ms\n",
      "42:\tlearn: 2153.4177206\ttotal: 2.33s\tremaining: 922ms\n",
      "43:\tlearn: 2149.7178717\ttotal: 2.39s\tremaining: 868ms\n",
      "44:\tlearn: 2144.1366996\ttotal: 2.44s\tremaining: 814ms\n",
      "45:\tlearn: 2140.1920598\ttotal: 2.5s\tremaining: 760ms\n",
      "46:\tlearn: 2135.5056014\ttotal: 2.55s\tremaining: 705ms\n",
      "47:\tlearn: 2126.7841388\ttotal: 2.6s\tremaining: 650ms\n",
      "48:\tlearn: 2120.8019108\ttotal: 2.65s\tremaining: 595ms\n",
      "49:\tlearn: 2113.5376975\ttotal: 2.7s\tremaining: 540ms\n",
      "50:\tlearn: 2109.0099010\ttotal: 2.75s\tremaining: 486ms\n",
      "51:\tlearn: 2104.8322577\ttotal: 2.81s\tremaining: 432ms\n",
      "52:\tlearn: 2098.7498578\ttotal: 2.86s\tremaining: 377ms\n",
      "53:\tlearn: 2095.0054658\ttotal: 2.91s\tremaining: 323ms\n",
      "54:\tlearn: 2090.8297909\ttotal: 2.96s\tremaining: 269ms\n",
      "55:\tlearn: 2087.8522713\ttotal: 3.01s\tremaining: 215ms\n",
      "56:\tlearn: 2083.5219666\ttotal: 3.07s\tremaining: 161ms\n",
      "57:\tlearn: 2079.1443453\ttotal: 3.12s\tremaining: 108ms\n",
      "58:\tlearn: 2073.8990531\ttotal: 3.17s\tremaining: 53.8ms\n",
      "59:\tlearn: 2070.1389241\ttotal: 3.23s\tremaining: 0us\n",
      "0:\tlearn: 4265.1085201\ttotal: 70.6ms\tremaining: 4.17s\n",
      "1:\tlearn: 4033.0386268\ttotal: 134ms\tremaining: 3.88s\n",
      "2:\tlearn: 3838.5643747\ttotal: 193ms\tremaining: 3.67s\n",
      "3:\tlearn: 3660.6245109\ttotal: 243ms\tremaining: 3.41s\n",
      "4:\tlearn: 3497.0615363\ttotal: 294ms\tremaining: 3.23s\n",
      "5:\tlearn: 3353.4102816\ttotal: 344ms\tremaining: 3.09s\n",
      "6:\tlearn: 3233.6741230\ttotal: 399ms\tremaining: 3.02s\n",
      "7:\tlearn: 3127.9545464\ttotal: 448ms\tremaining: 2.91s\n",
      "8:\tlearn: 3030.1285770\ttotal: 498ms\tremaining: 2.82s\n",
      "9:\tlearn: 2948.0134691\ttotal: 548ms\tremaining: 2.74s\n",
      "10:\tlearn: 2871.8934372\ttotal: 596ms\tremaining: 2.65s\n",
      "11:\tlearn: 2798.4441782\ttotal: 646ms\tremaining: 2.58s\n",
      "12:\tlearn: 2741.7347167\ttotal: 695ms\tremaining: 2.51s\n",
      "13:\tlearn: 2691.1306038\ttotal: 745ms\tremaining: 2.45s\n",
      "14:\tlearn: 2639.1250564\ttotal: 797ms\tremaining: 2.39s\n",
      "15:\tlearn: 2597.2983395\ttotal: 847ms\tremaining: 2.33s\n",
      "16:\tlearn: 2556.3692213\ttotal: 897ms\tremaining: 2.27s\n",
      "17:\tlearn: 2510.1094713\ttotal: 947ms\tremaining: 2.21s\n",
      "18:\tlearn: 2471.1029834\ttotal: 996ms\tremaining: 2.15s\n",
      "19:\tlearn: 2436.8581018\ttotal: 1.04s\tremaining: 2.09s\n",
      "20:\tlearn: 2409.1426053\ttotal: 1.09s\tremaining: 2.03s\n",
      "21:\tlearn: 2382.4970952\ttotal: 1.14s\tremaining: 1.98s\n",
      "22:\tlearn: 2358.4264828\ttotal: 1.2s\tremaining: 1.92s\n",
      "23:\tlearn: 2335.1446107\ttotal: 1.25s\tremaining: 1.87s\n",
      "24:\tlearn: 2317.4024985\ttotal: 1.3s\tremaining: 1.82s\n",
      "25:\tlearn: 2299.1156523\ttotal: 1.35s\tremaining: 1.76s\n",
      "26:\tlearn: 2285.5489254\ttotal: 1.4s\tremaining: 1.71s\n",
      "27:\tlearn: 2269.5915891\ttotal: 1.45s\tremaining: 1.66s\n",
      "28:\tlearn: 2253.7830334\ttotal: 1.5s\tremaining: 1.61s\n",
      "29:\tlearn: 2242.0050284\ttotal: 1.55s\tremaining: 1.55s\n",
      "30:\tlearn: 2230.8838455\ttotal: 1.6s\tremaining: 1.5s\n",
      "31:\tlearn: 2218.7068831\ttotal: 1.66s\tremaining: 1.45s\n",
      "32:\tlearn: 2209.8906314\ttotal: 1.72s\tremaining: 1.4s\n",
      "33:\tlearn: 2200.1290259\ttotal: 1.77s\tremaining: 1.35s\n",
      "34:\tlearn: 2193.2367752\ttotal: 1.82s\tremaining: 1.3s\n",
      "35:\tlearn: 2184.8914198\ttotal: 1.87s\tremaining: 1.25s\n",
      "36:\tlearn: 2177.9636642\ttotal: 1.93s\tremaining: 1.2s\n",
      "37:\tlearn: 2171.6990441\ttotal: 1.98s\tremaining: 1.15s\n",
      "38:\tlearn: 2164.8907153\ttotal: 2.04s\tremaining: 1.1s\n",
      "39:\tlearn: 2157.3487100\ttotal: 2.09s\tremaining: 1.04s\n",
      "40:\tlearn: 2151.8695532\ttotal: 2.15s\tremaining: 994ms\n",
      "41:\tlearn: 2147.5481870\ttotal: 2.2s\tremaining: 943ms\n",
      "42:\tlearn: 2142.1314199\ttotal: 2.26s\tremaining: 893ms\n",
      "43:\tlearn: 2138.3473725\ttotal: 2.31s\tremaining: 840ms\n",
      "44:\tlearn: 2133.8930754\ttotal: 2.37s\tremaining: 789ms\n",
      "45:\tlearn: 2128.7502255\ttotal: 2.42s\tremaining: 737ms\n",
      "46:\tlearn: 2121.6796392\ttotal: 2.47s\tremaining: 683ms\n",
      "47:\tlearn: 2113.1114931\ttotal: 2.52s\tremaining: 630ms\n",
      "48:\tlearn: 2107.8436901\ttotal: 2.57s\tremaining: 578ms\n",
      "49:\tlearn: 2103.2602740\ttotal: 2.62s\tremaining: 525ms\n",
      "50:\tlearn: 2096.8385435\ttotal: 2.67s\tremaining: 472ms\n",
      "51:\tlearn: 2093.2860796\ttotal: 2.73s\tremaining: 419ms\n",
      "52:\tlearn: 2090.1331198\ttotal: 2.78s\tremaining: 367ms\n",
      "53:\tlearn: 2085.1125275\ttotal: 2.84s\tremaining: 315ms\n",
      "54:\tlearn: 2081.2246966\ttotal: 2.89s\tremaining: 263ms\n",
      "55:\tlearn: 2075.9626117\ttotal: 2.95s\tremaining: 210ms\n",
      "56:\tlearn: 2073.1252007\ttotal: 3s\tremaining: 158ms\n",
      "57:\tlearn: 2069.3428965\ttotal: 3.05s\tremaining: 105ms\n",
      "58:\tlearn: 2066.8560418\ttotal: 3.11s\tremaining: 52.7ms\n",
      "59:\tlearn: 2061.6546870\ttotal: 3.16s\tremaining: 0us\n",
      "0:\tlearn: 4252.8528448\ttotal: 69.6ms\tremaining: 4.11s\n",
      "1:\tlearn: 4021.3630021\ttotal: 132ms\tremaining: 3.82s\n",
      "2:\tlearn: 3827.0821288\ttotal: 192ms\tremaining: 3.64s\n",
      "3:\tlearn: 3646.5646898\ttotal: 243ms\tremaining: 3.4s\n",
      "4:\tlearn: 3488.4899895\ttotal: 292ms\tremaining: 3.21s\n",
      "5:\tlearn: 3349.9699270\ttotal: 341ms\tremaining: 3.06s\n",
      "6:\tlearn: 3231.8336758\ttotal: 389ms\tremaining: 2.94s\n",
      "7:\tlearn: 3120.4214385\ttotal: 438ms\tremaining: 2.84s\n",
      "8:\tlearn: 3024.1177344\ttotal: 486ms\tremaining: 2.75s\n",
      "9:\tlearn: 2941.6870458\ttotal: 538ms\tremaining: 2.69s\n",
      "10:\tlearn: 2864.9153710\ttotal: 592ms\tremaining: 2.64s\n",
      "11:\tlearn: 2802.2497587\ttotal: 644ms\tremaining: 2.58s\n",
      "12:\tlearn: 2744.5299828\ttotal: 693ms\tremaining: 2.5s\n",
      "13:\tlearn: 2686.8010463\ttotal: 743ms\tremaining: 2.44s\n",
      "14:\tlearn: 2641.4426409\ttotal: 793ms\tremaining: 2.38s\n",
      "15:\tlearn: 2588.9621347\ttotal: 849ms\tremaining: 2.33s\n",
      "16:\tlearn: 2542.4088029\ttotal: 898ms\tremaining: 2.27s\n",
      "17:\tlearn: 2501.1124602\ttotal: 947ms\tremaining: 2.21s\n",
      "18:\tlearn: 2468.3947128\ttotal: 996ms\tremaining: 2.15s\n",
      "19:\tlearn: 2436.8050773\ttotal: 1.05s\tremaining: 2.09s\n",
      "20:\tlearn: 2410.0154554\ttotal: 1.1s\tremaining: 2.04s\n",
      "21:\tlearn: 2385.9083890\ttotal: 1.15s\tremaining: 1.98s\n",
      "22:\tlearn: 2363.7891803\ttotal: 1.19s\tremaining: 1.92s\n",
      "23:\tlearn: 2343.1447890\ttotal: 1.25s\tremaining: 1.87s\n",
      "24:\tlearn: 2325.9208001\ttotal: 1.3s\tremaining: 1.82s\n",
      "25:\tlearn: 2311.2712795\ttotal: 1.35s\tremaining: 1.77s\n",
      "26:\tlearn: 2294.9093435\ttotal: 1.4s\tremaining: 1.71s\n",
      "27:\tlearn: 2281.2900491\ttotal: 1.46s\tremaining: 1.67s\n",
      "28:\tlearn: 2264.1258712\ttotal: 1.51s\tremaining: 1.62s\n",
      "29:\tlearn: 2252.5657369\ttotal: 1.56s\tremaining: 1.56s\n",
      "30:\tlearn: 2240.9393686\ttotal: 1.62s\tremaining: 1.51s\n",
      "31:\tlearn: 2232.3205176\ttotal: 1.67s\tremaining: 1.46s\n",
      "32:\tlearn: 2222.2182204\ttotal: 1.72s\tremaining: 1.41s\n",
      "33:\tlearn: 2214.9810791\ttotal: 1.78s\tremaining: 1.36s\n",
      "34:\tlearn: 2203.3326508\ttotal: 1.83s\tremaining: 1.31s\n",
      "35:\tlearn: 2196.3875639\ttotal: 1.89s\tremaining: 1.26s\n",
      "36:\tlearn: 2190.3325908\ttotal: 1.94s\tremaining: 1.21s\n",
      "37:\tlearn: 2182.0633356\ttotal: 1.99s\tremaining: 1.15s\n",
      "38:\tlearn: 2176.1865890\ttotal: 2.05s\tremaining: 1.1s\n",
      "39:\tlearn: 2170.8045451\ttotal: 2.1s\tremaining: 1.05s\n",
      "40:\tlearn: 2162.3095002\ttotal: 2.15s\tremaining: 999ms\n",
      "41:\tlearn: 2154.8096787\ttotal: 2.21s\tremaining: 947ms\n",
      "42:\tlearn: 2149.7934509\ttotal: 2.27s\tremaining: 896ms\n",
      "43:\tlearn: 2145.7424869\ttotal: 2.32s\tremaining: 845ms\n",
      "44:\tlearn: 2141.9124628\ttotal: 2.38s\tremaining: 792ms\n",
      "45:\tlearn: 2134.4891093\ttotal: 2.43s\tremaining: 738ms\n",
      "46:\tlearn: 2126.2786561\ttotal: 2.48s\tremaining: 685ms\n",
      "47:\tlearn: 2120.8301734\ttotal: 2.53s\tremaining: 632ms\n",
      "48:\tlearn: 2115.5955629\ttotal: 2.6s\tremaining: 583ms\n",
      "49:\tlearn: 2109.3489580\ttotal: 2.66s\tremaining: 532ms\n",
      "50:\tlearn: 2103.8533048\ttotal: 2.71s\tremaining: 478ms\n",
      "51:\tlearn: 2099.5347478\ttotal: 2.77s\tremaining: 426ms\n",
      "52:\tlearn: 2095.1995686\ttotal: 2.82s\tremaining: 373ms\n",
      "53:\tlearn: 2091.6604077\ttotal: 2.88s\tremaining: 320ms\n",
      "54:\tlearn: 2088.3829308\ttotal: 2.93s\tremaining: 267ms\n",
      "55:\tlearn: 2085.3820501\ttotal: 2.98s\tremaining: 213ms\n",
      "56:\tlearn: 2081.3096476\ttotal: 3.04s\tremaining: 160ms\n",
      "57:\tlearn: 2077.7212866\ttotal: 3.09s\tremaining: 107ms\n",
      "58:\tlearn: 2073.8956313\ttotal: 3.15s\tremaining: 53.3ms\n",
      "59:\tlearn: 2069.6240091\ttotal: 3.2s\tremaining: 0us\n",
      "0:\tlearn: 4254.9626042\ttotal: 70.1ms\tremaining: 4.14s\n",
      "1:\tlearn: 4022.9231307\ttotal: 132ms\tremaining: 3.83s\n",
      "2:\tlearn: 3832.0350416\ttotal: 192ms\tremaining: 3.65s\n",
      "3:\tlearn: 3648.9858855\ttotal: 243ms\tremaining: 3.41s\n",
      "4:\tlearn: 3489.8206891\ttotal: 294ms\tremaining: 3.23s\n",
      "5:\tlearn: 3350.1635623\ttotal: 348ms\tremaining: 3.13s\n",
      "6:\tlearn: 3231.0549998\ttotal: 399ms\tremaining: 3.02s\n",
      "7:\tlearn: 3124.5619668\ttotal: 451ms\tremaining: 2.93s\n",
      "8:\tlearn: 3029.1722446\ttotal: 499ms\tremaining: 2.83s\n",
      "9:\tlearn: 2943.9179499\ttotal: 549ms\tremaining: 2.74s\n",
      "10:\tlearn: 2871.0292470\ttotal: 598ms\tremaining: 2.67s\n",
      "11:\tlearn: 2806.3892345\ttotal: 648ms\tremaining: 2.59s\n",
      "12:\tlearn: 2739.3509074\ttotal: 697ms\tremaining: 2.52s\n",
      "13:\tlearn: 2690.1481411\ttotal: 750ms\tremaining: 2.46s\n",
      "14:\tlearn: 2637.6092985\ttotal: 802ms\tremaining: 2.4s\n",
      "15:\tlearn: 2596.4222768\ttotal: 852ms\tremaining: 2.34s\n",
      "16:\tlearn: 2552.8305177\ttotal: 902ms\tremaining: 2.28s\n",
      "17:\tlearn: 2507.9946803\ttotal: 957ms\tremaining: 2.23s\n",
      "18:\tlearn: 2470.0633667\ttotal: 1.01s\tremaining: 2.17s\n",
      "19:\tlearn: 2437.5096174\ttotal: 1.06s\tremaining: 2.12s\n",
      "20:\tlearn: 2407.0307923\ttotal: 1.11s\tremaining: 2.06s\n",
      "21:\tlearn: 2381.3593299\ttotal: 1.16s\tremaining: 2s\n",
      "22:\tlearn: 2358.8064427\ttotal: 1.21s\tremaining: 1.95s\n",
      "23:\tlearn: 2337.3333592\ttotal: 1.27s\tremaining: 1.9s\n",
      "24:\tlearn: 2317.3482232\ttotal: 1.32s\tremaining: 1.85s\n",
      "25:\tlearn: 2300.6033222\ttotal: 1.37s\tremaining: 1.79s\n",
      "26:\tlearn: 2282.5650799\ttotal: 1.42s\tremaining: 1.74s\n",
      "27:\tlearn: 2269.1287875\ttotal: 1.47s\tremaining: 1.68s\n",
      "28:\tlearn: 2257.6725877\ttotal: 1.52s\tremaining: 1.63s\n",
      "29:\tlearn: 2243.7737231\ttotal: 1.57s\tremaining: 1.57s\n",
      "30:\tlearn: 2231.7667099\ttotal: 1.62s\tremaining: 1.52s\n",
      "31:\tlearn: 2220.0342545\ttotal: 1.67s\tremaining: 1.46s\n",
      "32:\tlearn: 2210.1310326\ttotal: 1.73s\tremaining: 1.41s\n",
      "33:\tlearn: 2202.6271029\ttotal: 1.78s\tremaining: 1.36s\n",
      "34:\tlearn: 2193.4873881\ttotal: 1.83s\tremaining: 1.31s\n",
      "35:\tlearn: 2185.6637353\ttotal: 1.89s\tremaining: 1.26s\n",
      "36:\tlearn: 2176.0614478\ttotal: 1.94s\tremaining: 1.21s\n",
      "37:\tlearn: 2169.5787480\ttotal: 1.99s\tremaining: 1.15s\n",
      "38:\tlearn: 2164.1576993\ttotal: 2.05s\tremaining: 1.1s\n",
      "39:\tlearn: 2158.4109277\ttotal: 2.1s\tremaining: 1.05s\n",
      "40:\tlearn: 2152.4246390\ttotal: 2.16s\tremaining: 1s\n",
      "41:\tlearn: 2147.9405217\ttotal: 2.21s\tremaining: 947ms\n",
      "42:\tlearn: 2143.1859877\ttotal: 2.26s\tremaining: 894ms\n",
      "43:\tlearn: 2136.9858810\ttotal: 2.31s\tremaining: 842ms\n",
      "44:\tlearn: 2131.1349958\ttotal: 2.37s\tremaining: 790ms\n",
      "45:\tlearn: 2125.9606961\ttotal: 2.42s\tremaining: 737ms\n",
      "46:\tlearn: 2121.6179294\ttotal: 2.47s\tremaining: 684ms\n",
      "47:\tlearn: 2118.4153092\ttotal: 2.52s\tremaining: 631ms\n",
      "48:\tlearn: 2112.3285355\ttotal: 2.57s\tremaining: 578ms\n",
      "49:\tlearn: 2104.2977510\ttotal: 2.62s\tremaining: 524ms\n",
      "50:\tlearn: 2097.3922342\ttotal: 2.67s\tremaining: 471ms\n",
      "51:\tlearn: 2091.5701436\ttotal: 2.72s\tremaining: 418ms\n",
      "52:\tlearn: 2087.9447687\ttotal: 2.77s\tremaining: 366ms\n",
      "53:\tlearn: 2083.4191119\ttotal: 2.82s\tremaining: 313ms\n",
      "54:\tlearn: 2080.4783003\ttotal: 2.87s\tremaining: 261ms\n",
      "55:\tlearn: 2077.0652958\ttotal: 2.93s\tremaining: 210ms\n",
      "56:\tlearn: 2074.1503699\ttotal: 2.98s\tremaining: 157ms\n",
      "57:\tlearn: 2071.6868772\ttotal: 3.03s\tremaining: 105ms\n",
      "58:\tlearn: 2067.0444180\ttotal: 3.09s\tremaining: 52.4ms\n",
      "59:\tlearn: 2063.4642273\ttotal: 3.15s\tremaining: 0us\n",
      "0:\tlearn: 3653.2627338\ttotal: 129ms\tremaining: 11.5s\n",
      "1:\tlearn: 3056.8392920\ttotal: 257ms\tremaining: 11.3s\n",
      "2:\tlearn: 2689.3257769\ttotal: 358ms\tremaining: 10.4s\n",
      "3:\tlearn: 2457.8924713\ttotal: 462ms\tremaining: 9.94s\n",
      "4:\tlearn: 2314.8367660\ttotal: 577ms\tremaining: 9.81s\n",
      "5:\tlearn: 2224.7864755\ttotal: 680ms\tremaining: 9.52s\n",
      "6:\tlearn: 2141.3656380\ttotal: 801ms\tremaining: 9.5s\n",
      "7:\tlearn: 2084.7983166\ttotal: 913ms\tremaining: 9.36s\n",
      "8:\tlearn: 2053.2887935\ttotal: 1.01s\tremaining: 9.12s\n",
      "9:\tlearn: 2029.4762735\ttotal: 1.12s\tremaining: 8.97s\n",
      "10:\tlearn: 2010.5805333\ttotal: 1.23s\tremaining: 8.8s\n",
      "11:\tlearn: 1981.2746690\ttotal: 1.32s\tremaining: 8.6s\n",
      "12:\tlearn: 1956.5404507\ttotal: 1.42s\tremaining: 8.43s\n",
      "13:\tlearn: 1944.6668943\ttotal: 1.54s\tremaining: 8.35s\n",
      "14:\tlearn: 1937.0530100\ttotal: 1.64s\tremaining: 8.21s\n",
      "15:\tlearn: 1927.1172391\ttotal: 1.75s\tremaining: 8.1s\n",
      "16:\tlearn: 1919.9086283\ttotal: 1.86s\tremaining: 8.01s\n",
      "17:\tlearn: 1913.5068373\ttotal: 1.97s\tremaining: 7.9s\n",
      "18:\tlearn: 1904.4621717\ttotal: 2.08s\tremaining: 7.78s\n",
      "19:\tlearn: 1898.0178577\ttotal: 2.19s\tremaining: 7.65s\n",
      "20:\tlearn: 1891.2405612\ttotal: 2.29s\tremaining: 7.53s\n",
      "21:\tlearn: 1886.5807590\ttotal: 2.4s\tremaining: 7.43s\n",
      "22:\tlearn: 1880.2160882\ttotal: 2.52s\tremaining: 7.33s\n",
      "23:\tlearn: 1875.0555044\ttotal: 2.63s\tremaining: 7.23s\n",
      "24:\tlearn: 1869.3551859\ttotal: 2.74s\tremaining: 7.11s\n",
      "25:\tlearn: 1864.6251660\ttotal: 2.84s\tremaining: 6.98s\n",
      "26:\tlearn: 1861.1210308\ttotal: 2.94s\tremaining: 6.87s\n",
      "27:\tlearn: 1855.9338709\ttotal: 3.05s\tremaining: 6.75s\n",
      "28:\tlearn: 1851.8212370\ttotal: 3.16s\tremaining: 6.65s\n",
      "29:\tlearn: 1849.2406076\ttotal: 3.27s\tremaining: 6.54s\n",
      "30:\tlearn: 1845.8720366\ttotal: 3.38s\tremaining: 6.44s\n",
      "31:\tlearn: 1843.0937147\ttotal: 3.5s\tremaining: 6.34s\n",
      "32:\tlearn: 1840.8426648\ttotal: 3.61s\tremaining: 6.24s\n",
      "33:\tlearn: 1838.7813725\ttotal: 3.72s\tremaining: 6.13s\n",
      "34:\tlearn: 1834.8428041\ttotal: 3.82s\tremaining: 6.01s\n",
      "35:\tlearn: 1831.5234235\ttotal: 3.93s\tremaining: 5.9s\n",
      "36:\tlearn: 1828.2812866\ttotal: 4.05s\tremaining: 5.8s\n",
      "37:\tlearn: 1825.6677340\ttotal: 4.16s\tremaining: 5.69s\n",
      "38:\tlearn: 1822.2775151\ttotal: 4.27s\tremaining: 5.58s\n",
      "39:\tlearn: 1818.5530856\ttotal: 4.41s\tremaining: 5.51s\n",
      "40:\tlearn: 1816.2994743\ttotal: 4.52s\tremaining: 5.41s\n",
      "41:\tlearn: 1812.4656668\ttotal: 4.63s\tremaining: 5.29s\n",
      "42:\tlearn: 1810.0371240\ttotal: 4.74s\tremaining: 5.18s\n",
      "43:\tlearn: 1808.3267412\ttotal: 4.85s\tremaining: 5.07s\n",
      "44:\tlearn: 1806.0127986\ttotal: 4.96s\tremaining: 4.96s\n",
      "45:\tlearn: 1804.1504344\ttotal: 5.07s\tremaining: 4.85s\n",
      "46:\tlearn: 1800.8990710\ttotal: 5.18s\tremaining: 4.74s\n",
      "47:\tlearn: 1799.1257279\ttotal: 5.29s\tremaining: 4.63s\n",
      "48:\tlearn: 1797.2259248\ttotal: 5.4s\tremaining: 4.52s\n",
      "49:\tlearn: 1795.5846088\ttotal: 5.51s\tremaining: 4.41s\n",
      "50:\tlearn: 1793.7530520\ttotal: 5.63s\tremaining: 4.3s\n",
      "51:\tlearn: 1790.4301228\ttotal: 5.73s\tremaining: 4.19s\n",
      "52:\tlearn: 1787.9407716\ttotal: 5.84s\tremaining: 4.08s\n",
      "53:\tlearn: 1786.6060412\ttotal: 5.95s\tremaining: 3.97s\n",
      "54:\tlearn: 1785.6383931\ttotal: 6.06s\tremaining: 3.86s\n",
      "55:\tlearn: 1783.2944131\ttotal: 6.17s\tremaining: 3.74s\n",
      "56:\tlearn: 1780.6497466\ttotal: 6.28s\tremaining: 3.64s\n",
      "57:\tlearn: 1778.5237421\ttotal: 6.39s\tremaining: 3.52s\n",
      "58:\tlearn: 1776.8574550\ttotal: 6.5s\tremaining: 3.42s\n",
      "59:\tlearn: 1776.1074810\ttotal: 6.61s\tremaining: 3.31s\n",
      "60:\tlearn: 1774.8341351\ttotal: 6.72s\tremaining: 3.19s\n",
      "61:\tlearn: 1771.5658229\ttotal: 6.83s\tremaining: 3.08s\n",
      "62:\tlearn: 1769.7473264\ttotal: 6.93s\tremaining: 2.97s\n",
      "63:\tlearn: 1768.4726582\ttotal: 7.05s\tremaining: 2.86s\n",
      "64:\tlearn: 1766.9815907\ttotal: 7.16s\tremaining: 2.75s\n",
      "65:\tlearn: 1765.5752566\ttotal: 7.26s\tremaining: 2.64s\n",
      "66:\tlearn: 1764.7223788\ttotal: 7.37s\tremaining: 2.53s\n",
      "67:\tlearn: 1763.1651594\ttotal: 7.48s\tremaining: 2.42s\n",
      "68:\tlearn: 1760.9223935\ttotal: 7.58s\tremaining: 2.31s\n",
      "69:\tlearn: 1759.1665382\ttotal: 7.7s\tremaining: 2.2s\n",
      "70:\tlearn: 1758.0145500\ttotal: 7.8s\tremaining: 2.09s\n",
      "71:\tlearn: 1756.1648972\ttotal: 7.91s\tremaining: 1.98s\n",
      "72:\tlearn: 1755.1263989\ttotal: 8.02s\tremaining: 1.87s\n",
      "73:\tlearn: 1752.7595755\ttotal: 8.12s\tremaining: 1.75s\n",
      "74:\tlearn: 1752.4074259\ttotal: 8.23s\tremaining: 1.65s\n",
      "75:\tlearn: 1751.3581766\ttotal: 8.34s\tremaining: 1.54s\n",
      "76:\tlearn: 1749.2630260\ttotal: 8.45s\tremaining: 1.43s\n",
      "77:\tlearn: 1748.3290096\ttotal: 8.56s\tremaining: 1.32s\n",
      "78:\tlearn: 1746.9411027\ttotal: 8.66s\tremaining: 1.21s\n",
      "79:\tlearn: 1745.9051457\ttotal: 8.77s\tremaining: 1.1s\n",
      "80:\tlearn: 1744.2599871\ttotal: 8.88s\tremaining: 987ms\n",
      "81:\tlearn: 1742.7937136\ttotal: 8.98s\tremaining: 877ms\n",
      "82:\tlearn: 1740.9637825\ttotal: 9.09s\tremaining: 767ms\n",
      "83:\tlearn: 1740.2761467\ttotal: 9.19s\tremaining: 657ms\n",
      "84:\tlearn: 1739.5987393\ttotal: 9.3s\tremaining: 547ms\n",
      "85:\tlearn: 1738.5825052\ttotal: 9.4s\tremaining: 437ms\n",
      "86:\tlearn: 1736.4859990\ttotal: 9.51s\tremaining: 328ms\n",
      "87:\tlearn: 1735.1008495\ttotal: 9.61s\tremaining: 218ms\n",
      "88:\tlearn: 1734.3334386\ttotal: 9.71s\tremaining: 109ms\n",
      "89:\tlearn: 1733.5961322\ttotal: 9.82s\tremaining: 0us\n",
      "CPU times: user 4min 18s, sys: 1.46 s, total: 4min 19s\n",
      "Wall time: 4min 49s\n"
     ]
    }
   ],
   "source": [
    "%%time\n",
    "start = time.time()\n",
    "\n",
    "model_cbr = CatBoostRegressor() \n",
    "\n",
    "rs_cbr = RandomizedSearchCV(model_cbr, \n",
    "    params, \n",
    "    cv=5,\n",
    "    scoring='neg_root_mean_squared_error',\n",
    "    random_state=RANDOM_STATE,\n",
    "    n_jobs=-1,\n",
    "    n_iter=10,\n",
    "    verbose=1\n",
    ")\n",
    "\n",
    "rs_cbr.fit(X_train, y_train, cat_features=['vehicle_type', 'gearbox', 'fuel_type', 'repaired', 'model_brand'])\n",
    "\n",
    "time_value = (time.time() - start)\n"
   ]
  },
  {
   "cell_type": "code",
   "execution_count": 47,
   "metadata": {},
   "outputs": [
    {
     "data": {
      "text/html": [
       "<div>\n",
       "<style scoped>\n",
       "    .dataframe tbody tr th:only-of-type {\n",
       "        vertical-align: middle;\n",
       "    }\n",
       "\n",
       "    .dataframe tbody tr th {\n",
       "        vertical-align: top;\n",
       "    }\n",
       "\n",
       "    .dataframe thead th {\n",
       "        text-align: right;\n",
       "    }\n",
       "</style>\n",
       "<table border=\"1\" class=\"dataframe\">\n",
       "  <thead>\n",
       "    <tr style=\"text-align: right;\">\n",
       "      <th></th>\n",
       "      <th>Модель</th>\n",
       "      <th>Общее время обучения на кросс-валидации</th>\n",
       "      <th>Лучшие параметры на кросс-валидации</th>\n",
       "      <th>RMSE на кросс-валидации</th>\n",
       "      <th>Среднее время обучения на кросс-валидации</th>\n",
       "      <th>Время предсказания</th>\n",
       "    </tr>\n",
       "  </thead>\n",
       "  <tbody>\n",
       "    <tr>\n",
       "      <th>0</th>\n",
       "      <td>LightGBM</td>\n",
       "      <td>238.394088</td>\n",
       "      <td>{'num_leaves': 60, 'max_depth': 7, 'learning_rate': 0.3}</td>\n",
       "      <td>1659.717632</td>\n",
       "      <td>4.799042</td>\n",
       "      <td>0.581417</td>\n",
       "    </tr>\n",
       "    <tr>\n",
       "      <th>1</th>\n",
       "      <td>CatBoost</td>\n",
       "      <td>289.741059</td>\n",
       "      <td>[{'max_depth': 8, 'learning_rate': 0.3, 'iterations': 90}]</td>\n",
       "      <td>1779.457607</td>\n",
       "      <td>8.675074</td>\n",
       "      <td>0.032834</td>\n",
       "    </tr>\n",
       "  </tbody>\n",
       "</table>\n",
       "</div>"
      ],
      "text/plain": [
       "     Модель  Общее время обучения на кросс-валидации  \\\n",
       "0  LightGBM                               238.394088   \n",
       "1  CatBoost                               289.741059   \n",
       "\n",
       "                          Лучшие параметры на кросс-валидации  \\\n",
       "0    {'num_leaves': 60, 'max_depth': 7, 'learning_rate': 0.3}   \n",
       "1  [{'max_depth': 8, 'learning_rate': 0.3, 'iterations': 90}]   \n",
       "\n",
       "   RMSE на кросс-валидации  Среднее время обучения на кросс-валидации  \\\n",
       "0              1659.717632                                   4.799042   \n",
       "1              1779.457607                                   8.675074   \n",
       "\n",
       "   Время предсказания   \n",
       "0             0.581417  \n",
       "1             0.032834  "
      ]
     },
     "execution_count": 47,
     "metadata": {},
     "output_type": "execute_result"
    }
   ],
   "source": [
    "best_param_value, best_score_value, mean_fit_time, mean_score_time = func_pred(rs_cbr)\n",
    "\n",
    "df_table = df_table.append({'Модель': 'CatBoost', \n",
    "                         'Общее время обучения на кросс-валидации': time_value, \n",
    "                         'Лучшие параметры на кросс-валидации': [best_param_value], \n",
    "                         'RMSE на кросс-валидации': best_score_value, \n",
    "                         'Среднее время обучения на кросс-валидации': mean_fit_time,                          \n",
    "                         'Время предсказания ': mean_score_time}, ignore_index=True)\n",
    "\n",
    "pd.set_option('display.max_colwidth', None)\n",
    "df_table\n"
   ]
  },
  {
   "cell_type": "markdown",
   "metadata": {},
   "source": [
    "**`LinearRegression`**"
   ]
  },
  {
   "cell_type": "code",
   "execution_count": 48,
   "metadata": {},
   "outputs": [],
   "source": [
    "# создаём списки с названиями признаков\n",
    "ohe_columns = ['vehicle_type', 'gearbox', 'fuel_type', 'repaired', 'model_brand']\n",
    "num_columns = ['registration_year', 'power', 'kilometer']\n",
    "\n",
    "\n",
    "# создаём пайплайн для подготовки признаков из списка ohe_columns: заполнение пропусков и OHE-кодирование\n",
    "# SimpleImputer + OHE\n",
    "ohe_pipe = Pipeline(\n",
    "    [('simpleImputer_ohe', SimpleImputer(missing_values=np.nan, strategy='most_frequent')),\n",
    "     ('ohe', OneHotEncoder(drop='first', handle_unknown='ignore', sparse_output=False)) \n",
    "    ]\n",
    "    )\n",
    "\n",
    "# создаём общий пайплайн для подготовки данных\n",
    "data_preprocessor = ColumnTransformer(\n",
    "    [('ohe', ohe_pipe, ohe_columns),\n",
    "     ('num', RobustScaler(), num_columns)], \n",
    "    remainder='passthrough'\n",
    ")\n"
   ]
  },
  {
   "cell_type": "code",
   "execution_count": 49,
   "metadata": {
    "scrolled": false
   },
   "outputs": [
    {
     "name": "stderr",
     "output_type": "stream",
     "text": [
      "/opt/conda/lib/python3.9/site-packages/sklearn/preprocessing/_encoders.py:246: UserWarning: Found unknown categories in columns [4] during transform. These unknown categories will be encoded as all zeros\n",
      "  warnings.warn(\n",
      "/opt/conda/lib/python3.9/site-packages/sklearn/preprocessing/_encoders.py:246: UserWarning: Found unknown categories in columns [4] during transform. These unknown categories will be encoded as all zeros\n",
      "  warnings.warn(\n",
      "/opt/conda/lib/python3.9/site-packages/sklearn/preprocessing/_encoders.py:246: UserWarning: Found unknown categories in columns [4] during transform. These unknown categories will be encoded as all zeros\n",
      "  warnings.warn(\n",
      "/opt/conda/lib/python3.9/site-packages/sklearn/preprocessing/_encoders.py:246: UserWarning: Found unknown categories in columns [4] during transform. These unknown categories will be encoded as all zeros\n",
      "  warnings.warn(\n",
      "/opt/conda/lib/python3.9/site-packages/sklearn/preprocessing/_encoders.py:246: UserWarning: Found unknown categories in columns [4] during transform. These unknown categories will be encoded as all zeros\n",
      "  warnings.warn(\n",
      "/opt/conda/lib/python3.9/site-packages/sklearn/preprocessing/_encoders.py:246: UserWarning: Found unknown categories in columns [4] during transform. These unknown categories will be encoded as all zeros\n",
      "  warnings.warn(\n",
      "/opt/conda/lib/python3.9/site-packages/sklearn/preprocessing/_encoders.py:246: UserWarning: Found unknown categories in columns [4] during transform. These unknown categories will be encoded as all zeros\n",
      "  warnings.warn(\n",
      "/opt/conda/lib/python3.9/site-packages/sklearn/preprocessing/_encoders.py:246: UserWarning: Found unknown categories in columns [4] during transform. These unknown categories will be encoded as all zeros\n",
      "  warnings.warn(\n",
      "/opt/conda/lib/python3.9/site-packages/sklearn/preprocessing/_encoders.py:246: UserWarning: Found unknown categories in columns [4] during transform. These unknown categories will be encoded as all zeros\n",
      "  warnings.warn(\n"
     ]
    },
    {
     "name": "stdout",
     "output_type": "stream",
     "text": [
      "CPU times: user 3min 42s, sys: 1min 12s, total: 4min 54s\n",
      "Wall time: 4min 55s\n"
     ]
    }
   ],
   "source": [
    "%%time\n",
    "start = time.time()\n",
    "\n",
    "# создаём итоговый пайплайн: подготовка данных и модель\n",
    "pipe_final = Pipeline([\n",
    "    ('preprocessor', data_preprocessor),\n",
    "    ('models', LinearRegression( n_jobs= -1))\n",
    "])\n",
    "\n",
    "param_grid = [\n",
    "    \n",
    "    # словарь для модели LinearRegression()\n",
    "    {\n",
    "        'models': [LinearRegression(n_jobs= -1)],\n",
    "        'preprocessor__num': [StandardScaler(), RobustScaler(), 'passthrough']\n",
    "    }\n",
    "]\n",
    "\n",
    "\n",
    "rs_lr = RandomizedSearchCV(\n",
    "    pipe_final, \n",
    "    param_grid, \n",
    "    cv=5,\n",
    "    scoring='neg_root_mean_squared_error',\n",
    "    n_jobs=-1,\n",
    "    n_iter=3\n",
    ")\n",
    "\n",
    "rs_lr.fit(X_train, y_train)\n",
    "\n",
    "time_value = (time.time() - start)\n"
   ]
  },
  {
   "cell_type": "code",
   "execution_count": 50,
   "metadata": {},
   "outputs": [
    {
     "data": {
      "text/html": [
       "<div>\n",
       "<style scoped>\n",
       "    .dataframe tbody tr th:only-of-type {\n",
       "        vertical-align: middle;\n",
       "    }\n",
       "\n",
       "    .dataframe tbody tr th {\n",
       "        vertical-align: top;\n",
       "    }\n",
       "\n",
       "    .dataframe thead th {\n",
       "        text-align: right;\n",
       "    }\n",
       "</style>\n",
       "<table border=\"1\" class=\"dataframe\">\n",
       "  <thead>\n",
       "    <tr style=\"text-align: right;\">\n",
       "      <th></th>\n",
       "      <th>Модель</th>\n",
       "      <th>Общее время обучения на кросс-валидации</th>\n",
       "      <th>Лучшие параметры на кросс-валидации</th>\n",
       "      <th>RMSE на кросс-валидации</th>\n",
       "      <th>Среднее время обучения на кросс-валидации</th>\n",
       "      <th>Время предсказания</th>\n",
       "    </tr>\n",
       "  </thead>\n",
       "  <tbody>\n",
       "    <tr>\n",
       "      <th>0</th>\n",
       "      <td>LightGBM</td>\n",
       "      <td>238.394088</td>\n",
       "      <td>{'num_leaves': 60, 'max_depth': 7, 'learning_rate': 0.3}</td>\n",
       "      <td>1659.717632</td>\n",
       "      <td>4.799042</td>\n",
       "      <td>0.581417</td>\n",
       "    </tr>\n",
       "    <tr>\n",
       "      <th>1</th>\n",
       "      <td>CatBoost</td>\n",
       "      <td>289.741059</td>\n",
       "      <td>[{'max_depth': 8, 'learning_rate': 0.3, 'iterations': 90}]</td>\n",
       "      <td>1779.457607</td>\n",
       "      <td>8.675074</td>\n",
       "      <td>0.032834</td>\n",
       "    </tr>\n",
       "    <tr>\n",
       "      <th>2</th>\n",
       "      <td>LinearRegression</td>\n",
       "      <td>295.503743</td>\n",
       "      <td>[{'preprocessor__num': StandardScaler(), 'models': LinearRegression(n_jobs=-1)}]</td>\n",
       "      <td>2766.889837</td>\n",
       "      <td>17.514615</td>\n",
       "      <td>0.514209</td>\n",
       "    </tr>\n",
       "  </tbody>\n",
       "</table>\n",
       "</div>"
      ],
      "text/plain": [
       "             Модель  Общее время обучения на кросс-валидации  \\\n",
       "0          LightGBM                               238.394088   \n",
       "1          CatBoost                               289.741059   \n",
       "2  LinearRegression                               295.503743   \n",
       "\n",
       "                                                Лучшие параметры на кросс-валидации  \\\n",
       "0                          {'num_leaves': 60, 'max_depth': 7, 'learning_rate': 0.3}   \n",
       "1                        [{'max_depth': 8, 'learning_rate': 0.3, 'iterations': 90}]   \n",
       "2  [{'preprocessor__num': StandardScaler(), 'models': LinearRegression(n_jobs=-1)}]   \n",
       "\n",
       "   RMSE на кросс-валидации  Среднее время обучения на кросс-валидации  \\\n",
       "0              1659.717632                                   4.799042   \n",
       "1              1779.457607                                   8.675074   \n",
       "2              2766.889837                                  17.514615   \n",
       "\n",
       "   Время предсказания   \n",
       "0             0.581417  \n",
       "1             0.032834  \n",
       "2             0.514209  "
      ]
     },
     "execution_count": 50,
     "metadata": {},
     "output_type": "execute_result"
    }
   ],
   "source": [
    "best_param_value, best_score_value, mean_fit_time, mean_score_time = func_pred(rs_lr)\n",
    "\n",
    "df_table = df_table.append({'Модель': 'LinearRegression', \n",
    "                         'Общее время обучения на кросс-валидации': time_value, \n",
    "                         'Лучшие параметры на кросс-валидации': [best_param_value], \n",
    "                         'RMSE на кросс-валидации': best_score_value, \n",
    "                         'Среднее время обучения на кросс-валидации': mean_fit_time,                          \n",
    "                         'Время предсказания ': mean_score_time}, ignore_index=True)\n",
    "\n",
    "pd.set_option('display.max_colwidth', None)\n",
    "df_table\n"
   ]
  },
  {
   "cell_type": "markdown",
   "metadata": {},
   "source": [
    "## Анализ моделей"
   ]
  },
  {
   "cell_type": "code",
   "execution_count": 51,
   "metadata": {},
   "outputs": [
    {
     "data": {
      "text/html": [
       "<div>\n",
       "<style scoped>\n",
       "    .dataframe tbody tr th:only-of-type {\n",
       "        vertical-align: middle;\n",
       "    }\n",
       "\n",
       "    .dataframe tbody tr th {\n",
       "        vertical-align: top;\n",
       "    }\n",
       "\n",
       "    .dataframe thead th {\n",
       "        text-align: right;\n",
       "    }\n",
       "</style>\n",
       "<table border=\"1\" class=\"dataframe\">\n",
       "  <thead>\n",
       "    <tr style=\"text-align: right;\">\n",
       "      <th></th>\n",
       "      <th>Модель</th>\n",
       "      <th>Общее время обучения на кросс-валидации</th>\n",
       "      <th>Лучшие параметры на кросс-валидации</th>\n",
       "      <th>RMSE на кросс-валидации</th>\n",
       "      <th>Среднее время обучения на кросс-валидации</th>\n",
       "      <th>Время предсказания</th>\n",
       "    </tr>\n",
       "  </thead>\n",
       "  <tbody>\n",
       "    <tr>\n",
       "      <th>0</th>\n",
       "      <td>LightGBM</td>\n",
       "      <td>238.394088</td>\n",
       "      <td>{'num_leaves': 60, 'max_depth': 7, 'learning_rate': 0.3}</td>\n",
       "      <td>1659.717632</td>\n",
       "      <td>4.799042</td>\n",
       "      <td>0.581417</td>\n",
       "    </tr>\n",
       "    <tr>\n",
       "      <th>1</th>\n",
       "      <td>CatBoost</td>\n",
       "      <td>289.741059</td>\n",
       "      <td>[{'max_depth': 8, 'learning_rate': 0.3, 'iterations': 90}]</td>\n",
       "      <td>1779.457607</td>\n",
       "      <td>8.675074</td>\n",
       "      <td>0.032834</td>\n",
       "    </tr>\n",
       "    <tr>\n",
       "      <th>2</th>\n",
       "      <td>LinearRegression</td>\n",
       "      <td>295.503743</td>\n",
       "      <td>[{'preprocessor__num': StandardScaler(), 'models': LinearRegression(n_jobs=-1)}]</td>\n",
       "      <td>2766.889837</td>\n",
       "      <td>17.514615</td>\n",
       "      <td>0.514209</td>\n",
       "    </tr>\n",
       "  </tbody>\n",
       "</table>\n",
       "</div>"
      ],
      "text/plain": [
       "             Модель  Общее время обучения на кросс-валидации  \\\n",
       "0          LightGBM                               238.394088   \n",
       "1          CatBoost                               289.741059   \n",
       "2  LinearRegression                               295.503743   \n",
       "\n",
       "                                                Лучшие параметры на кросс-валидации  \\\n",
       "0                          {'num_leaves': 60, 'max_depth': 7, 'learning_rate': 0.3}   \n",
       "1                        [{'max_depth': 8, 'learning_rate': 0.3, 'iterations': 90}]   \n",
       "2  [{'preprocessor__num': StandardScaler(), 'models': LinearRegression(n_jobs=-1)}]   \n",
       "\n",
       "   RMSE на кросс-валидации  Среднее время обучения на кросс-валидации  \\\n",
       "0              1659.717632                                   4.799042   \n",
       "1              1779.457607                                   8.675074   \n",
       "2              2766.889837                                  17.514615   \n",
       "\n",
       "   Время предсказания   \n",
       "0             0.581417  \n",
       "1             0.032834  \n",
       "2             0.514209  "
      ]
     },
     "execution_count": 51,
     "metadata": {},
     "output_type": "execute_result"
    }
   ],
   "source": [
    "df_table"
   ]
  },
  {
   "cell_type": "markdown",
   "metadata": {},
   "source": [
    "Метрика RMSE показывает, что предсказание в среднем отличается от истинного значения для модели LightGBM на 1660 евро на кросс-валидации, время обучения модели на кросс-валидации составляет 5 секунд, время предсказания - менее секунды.\n",
    "\n",
    "Для модели CatBoost метрика RMSE составляет 1780 евро на кросс-валидации, время обучения модели на кросс-валидации составляет 9 секунд, время предсказания - менее десятой доли секунды.\n",
    "\n",
    "Для модели линейной регресии метрика RMSE составляет 2767 евро на кросс-валидации, время обучения модели на кросс-валидации составляет 17 секунд, время предсказания - менее секунды.\n",
    "\n",
    "Итак, наилучшее качество предсказания дает модель LightGBM с параметрами: \n",
    "- максимальное количество листьев дерева - 60.\n",
    "- максимальная глубина дерева - 7.\n",
    "- скорость обучения для процесса градиентного бустинга - 0.3."
   ]
  },
  {
   "cell_type": "code",
   "execution_count": 52,
   "metadata": {},
   "outputs": [
    {
     "name": "stdout",
     "output_type": "stream",
     "text": [
      "Метрика RMSE лучшей модели на тестовой выборке:  1650.77799\n"
     ]
    }
   ],
   "source": [
    "pred = rs_lgb.predict(X_test_cat)\n",
    "rmse_score_test = round(root_mean_squared_error(y_test, pred), 5)\n",
    "\n",
    "print('Метрика RMSE лучшей модели на тестовой выборке: ', rmse_score_test)"
   ]
  },
  {
   "cell_type": "code",
   "execution_count": 53,
   "metadata": {},
   "outputs": [
    {
     "name": "stdout",
     "output_type": "stream",
     "text": [
      "             Feature  Importance\n",
      "1  registration_year        1442\n",
      "3              power        1441\n",
      "7        model_brand        1286\n",
      "4          kilometer         723\n",
      "0       vehicle_type         364\n",
      "6           repaired         239\n",
      "2            gearbox         198\n",
      "5          fuel_type          36\n"
     ]
    },
    {
     "data": {
      "text/plain": [
       "<AxesSubplot:title={'center':'Важность признаков'}, ylabel='Feature'>"
      ]
     },
     "execution_count": 53,
     "metadata": {},
     "output_type": "execute_result"
    },
    {
     "data": {
      "image/png": "[encoded data removed]",
      "text/plain": [
       "<Figure size 720x288 with 1 Axes>"
      ]
     },
     "metadata": {},
     "output_type": "display_data"
    }
   ],
   "source": [
    "feature_importances = pd.DataFrame(\n",
    "    {\n",
    "        'Feature': X_train_cat.columns,\n",
    "        'Importance': rs_lgb.best_estimator_.feature_importances_\n",
    "    })\n",
    "\n",
    "print(feature_importances.sort_values('Importance', ascending=False))\n",
    "sns.set_style('white')\n",
    "(feature_importances\n",
    " .sort_values('Importance', ascending=True)\n",
    " .plot(x='Feature', y='Importance', kind='barh', figsize=(10, 4), title='Важность признаков')) "
   ]
  },
  {
   "cell_type": "markdown",
   "metadata": {},
   "source": [
    "На графике показана важность признаков в порядке убывания.\n",
    "Наибольшее влияние оказывают: год регистрации, мощность, модель и бренд автомобиля. Наименьшее - тип топлива."
   ]
  },
  {
   "cell_type": "markdown",
   "metadata": {},
   "source": [
    "## Общий вывод\n",
    "\n",
    "На основе данных о технических характеристиках, комплектации и ценах других автомобилей для предсказания рыночной стоимости автомобиля были обучены 3 модели: LightGBM, CatBoost, LinearRegression.\n",
    "\n",
    "После записи датасета в переменную `autos` и первичного знакомства с данными видим, что данные в таблицах соответствуют описанию. \n",
    "\n",
    "**Предобработка данных**\n",
    "\n",
    "- Наименования столбцов приведены к \"змеиному\" регистру.\n",
    "- Удалены полные дубликаты строк: 4.\n",
    "- Обработан 1 неявный дубликат.\n",
    "- Для экономии памяти тип данных в столбце скорректирован с int64 до int32.\n",
    "- Удалены признаки, которые не содержат характеристики автомобиля и комплектации, а являются параметрами анкеты: 'date_crawled', 'date_created', 'number_of_pictures','postal_code', 'last_seen', 'registration_month'. \n",
    "- Пропуски в категориальных признаках `vehicle_type` `gearbox`, `model`, `fuel_type`, `repaired` заполнены значением \"unknown\". \n",
    "- 10,7 тыс. строк с нулевой ценой. Был построен 93 % доверительный интервал и отброшены 3,5 % наибольших и 3,5 % наименьших значений (удалено 25 тыс. строк (около 2%)).\n",
    "- удалены строки с некорректным годом регистрации автомобиля: 349(0,1%).\n",
    "- аномальные значения мощности автомобиля - 35 тыс. (10%): заменены медианным значением по связке модель-бренд.\n",
    "- Значения признака — пробег, распределены реалистично: от 5 до 150 тыс. км.\n",
    "- Для устранения мультиколлинеарности между входными признаками, имеющими коэффициент корреляции - 1 создан объединенный признак model - brand.\n",
    "\n",
    "\n",
    "Метрика RMSE показывает, что предсказание в среднем отличается от истинного значения для модели LightGBM на 1660 евро на кросс-валидации, время обучения модели на кросс-валидации составляет 5 секунд, время предсказания - менее секунды.\n",
    "\n",
    "Для модели CatBoost метрика RMSE составляет 1780 евро на кросс-валидации, время обучения модели на кросс-валидации составляет 9 секунд, время предсказания - менее десятой доли секунды.\n",
    "\n",
    "Для модели линейной регресии метрика RMSE составляет 2767 евро на кросс-валидации, время обучения модели на кросс-валидации составляет 17 секунд, время предсказания - менее секунды.\n",
    "\n",
    "Итак, наилучшее качество предсказания дает модель LightGBM с параметрами: \n",
    "- максимальное количество листьев дерева - 60.\n",
    "- максимальная глубина дерева - 7.\n",
    "- скорость обучения для процесса градиентного бустинга - 0.3.\n",
    "\n",
    "Модель LightGBM затрачивает в 2 раза меньше времени, чем CatBoost, при этом в 10 раз меньше времени на предсказание тратит модель CatBoost.\n",
    "\n",
    "Таким образом, можно рекомендовать заказчику использовать модель LightGBM.\n",
    "\n",
    "Метрика качества лучшей модели на тестовой выборке: 1651.\n",
    "Наибольшее влияние на моделирование среди входных признаков оказывают: год регистрации, мощность, модель и бренд автомобиля, наименьшее - тип топлива.\n"
   ]
  },
  {
   "cell_type": "markdown",
   "metadata": {},
   "source": [
    "## Чек-лист проверки"
   ]
  },
  {
   "cell_type": "markdown",
   "metadata": {},
   "source": [
    "Поставьте 'x' в выполненных пунктах. Далее нажмите Shift+Enter."
   ]
  },
  {
   "cell_type": "markdown",
   "metadata": {},
   "source": [
    "- [x]  Jupyter Notebook открыт\n",
    "- [x]  Весь код выполняется без ошибок\n",
    "- [x]  Ячейки с кодом расположены в порядке исполнения\n",
    "- [x]  Выполнена загрузка и подготовка данных\n",
    "- [x]  Выполнено обучение моделей\n",
    "- [x]  Есть анализ скорости работы и качества моделей"
   ]
  },
  {
   "cell_type": "code",
   "execution_count": null,
   "metadata": {},
   "outputs": [],
   "source": []
  }
 ],
 "metadata": {
  "ExecuteTimeLog": [
   {
    "duration": 16547,
    "start_time": "2025-01-22T18:52:49.543Z"
   },
   {
    "duration": 2138,
    "start_time": "2025-01-22T18:53:06.092Z"
   },
   {
    "duration": 3030,
    "start_time": "2025-01-22T18:53:08.233Z"
   },
   {
    "duration": 510,
    "start_time": "2025-01-22T18:53:11.265Z"
   },
   {
    "duration": 9364,
    "start_time": "2025-01-22T18:53:28.327Z"
   },
   {
    "duration": 1986,
    "start_time": "2025-01-22T18:53:37.695Z"
   },
   {
    "duration": 928,
    "start_time": "2025-01-22T18:53:39.683Z"
   },
   {
    "duration": 497,
    "start_time": "2025-01-22T18:53:40.613Z"
   },
   {
    "duration": 164,
    "start_time": "2025-01-22T18:53:41.113Z"
   },
   {
    "duration": 0,
    "start_time": "2025-01-22T18:53:41.279Z"
   },
   {
    "duration": 3817,
    "start_time": "2025-01-22T18:54:53.056Z"
   },
   {
    "duration": 979,
    "start_time": "2025-01-22T18:55:23.413Z"
   },
   {
    "duration": 1088,
    "start_time": "2025-01-22T18:55:41.374Z"
   },
   {
    "duration": 5,
    "start_time": "2025-01-22T19:01:58.523Z"
   },
   {
    "duration": 12,
    "start_time": "2025-01-22T19:58:19.054Z"
   },
   {
    "duration": 5,
    "start_time": "2025-01-22T19:58:35.611Z"
   },
   {
    "duration": 6,
    "start_time": "2025-01-22T19:59:13.102Z"
   },
   {
    "duration": 13,
    "start_time": "2025-01-22T19:59:24.691Z"
   },
   {
    "duration": 4,
    "start_time": "2025-01-22T19:59:58.677Z"
   },
   {
    "duration": 5,
    "start_time": "2025-01-22T20:00:14.045Z"
   },
   {
    "duration": 6,
    "start_time": "2025-01-22T20:02:37.240Z"
   },
   {
    "duration": 12,
    "start_time": "2025-01-22T20:05:41.101Z"
   },
   {
    "duration": 19,
    "start_time": "2025-01-22T20:06:42.025Z"
   },
   {
    "duration": 4,
    "start_time": "2025-01-22T20:07:56.063Z"
   },
   {
    "duration": 11,
    "start_time": "2025-01-22T20:08:58.939Z"
   },
   {
    "duration": 7,
    "start_time": "2025-01-22T20:11:57.621Z"
   },
   {
    "duration": 9108,
    "start_time": "2025-01-22T20:12:35.409Z"
   },
   {
    "duration": 1997,
    "start_time": "2025-01-22T20:12:44.519Z"
   },
   {
    "duration": 1239,
    "start_time": "2025-01-22T20:12:46.517Z"
   },
   {
    "duration": 6,
    "start_time": "2025-01-22T20:12:56.097Z"
   },
   {
    "duration": 8,
    "start_time": "2025-01-22T20:14:52.692Z"
   },
   {
    "duration": 9,
    "start_time": "2025-01-22T20:17:31.989Z"
   },
   {
    "duration": 9,
    "start_time": "2025-01-22T20:17:51.660Z"
   },
   {
    "duration": 10,
    "start_time": "2025-01-22T20:23:58.031Z"
   },
   {
    "duration": 11,
    "start_time": "2025-01-22T20:24:07.341Z"
   },
   {
    "duration": 9,
    "start_time": "2025-01-22T20:24:53.107Z"
   },
   {
    "duration": 8,
    "start_time": "2025-01-22T20:25:10.690Z"
   },
   {
    "duration": 10,
    "start_time": "2025-01-22T20:31:15.421Z"
   },
   {
    "duration": 11,
    "start_time": "2025-01-22T20:32:32.201Z"
   },
   {
    "duration": 163,
    "start_time": "2025-01-22T20:34:07.888Z"
   },
   {
    "duration": 13,
    "start_time": "2025-01-22T20:34:17.443Z"
   },
   {
    "duration": 12,
    "start_time": "2025-01-22T20:34:48.073Z"
   },
   {
    "duration": 9,
    "start_time": "2025-01-22T20:35:50.865Z"
   },
   {
    "duration": 10,
    "start_time": "2025-01-22T20:36:42.710Z"
   },
   {
    "duration": 14,
    "start_time": "2025-01-22T20:37:11.630Z"
   },
   {
    "duration": 23,
    "start_time": "2025-01-22T20:39:07.842Z"
   },
   {
    "duration": 8,
    "start_time": "2025-01-22T20:40:12.977Z"
   },
   {
    "duration": 10,
    "start_time": "2025-01-22T20:42:40.824Z"
   },
   {
    "duration": 16,
    "start_time": "2025-01-22T20:46:35.251Z"
   },
   {
    "duration": 6,
    "start_time": "2025-01-22T20:47:13.901Z"
   },
   {
    "duration": 92,
    "start_time": "2025-01-22T20:47:29.898Z"
   },
   {
    "duration": 19,
    "start_time": "2025-01-22T20:47:33.447Z"
   },
   {
    "duration": 11,
    "start_time": "2025-01-22T20:51:14.950Z"
   },
   {
    "duration": 10,
    "start_time": "2025-01-22T20:59:52.151Z"
   },
   {
    "duration": 12,
    "start_time": "2025-01-22T21:04:01.537Z"
   },
   {
    "duration": 9,
    "start_time": "2025-01-22T21:06:07.556Z"
   },
   {
    "duration": 6,
    "start_time": "2025-01-22T21:06:49.050Z"
   },
   {
    "duration": 10,
    "start_time": "2025-01-22T21:07:06.114Z"
   },
   {
    "duration": 8,
    "start_time": "2025-01-22T21:07:22.685Z"
   },
   {
    "duration": 14,
    "start_time": "2025-01-22T21:07:32.141Z"
   },
   {
    "duration": 11,
    "start_time": "2025-01-22T21:10:43.358Z"
   },
   {
    "duration": 634,
    "start_time": "2025-01-22T21:18:44.393Z"
   },
   {
    "duration": 4,
    "start_time": "2025-01-22T21:18:49.674Z"
   },
   {
    "duration": 516,
    "start_time": "2025-01-22T21:20:09.483Z"
   },
   {
    "duration": 4,
    "start_time": "2025-01-22T21:20:12.125Z"
   },
   {
    "duration": 8817,
    "start_time": "2025-01-22T21:25:37.006Z"
   },
   {
    "duration": 1956,
    "start_time": "2025-01-22T21:25:45.825Z"
   },
   {
    "duration": 1285,
    "start_time": "2025-01-22T21:25:47.783Z"
   },
   {
    "duration": 398,
    "start_time": "2025-01-22T21:25:49.070Z"
   },
   {
    "duration": 4,
    "start_time": "2025-01-22T21:25:49.470Z"
   },
   {
    "duration": 505,
    "start_time": "2025-01-22T21:25:49.476Z"
   },
   {
    "duration": 3820,
    "start_time": "2025-01-22T21:25:49.983Z"
   },
   {
    "duration": 172,
    "start_time": "2025-01-22T21:25:53.805Z"
   },
   {
    "duration": 304,
    "start_time": "2025-01-22T21:27:43.492Z"
   },
   {
    "duration": 4,
    "start_time": "2025-01-22T21:27:47.454Z"
   },
   {
    "duration": 8708,
    "start_time": "2025-01-22T21:28:21.661Z"
   },
   {
    "duration": 1882,
    "start_time": "2025-01-22T21:28:30.371Z"
   },
   {
    "duration": 1162,
    "start_time": "2025-01-22T21:28:32.254Z"
   },
   {
    "duration": 390,
    "start_time": "2025-01-22T21:28:33.418Z"
   },
   {
    "duration": 5,
    "start_time": "2025-01-22T21:28:33.810Z"
   },
   {
    "duration": 496,
    "start_time": "2025-01-22T21:28:33.817Z"
   },
   {
    "duration": 3870,
    "start_time": "2025-01-22T21:28:34.315Z"
   },
   {
    "duration": 177,
    "start_time": "2025-01-22T21:28:38.187Z"
   },
   {
    "duration": 476,
    "start_time": "2025-01-22T21:29:59.249Z"
   },
   {
    "duration": 491,
    "start_time": "2025-01-22T21:30:10.711Z"
   },
   {
    "duration": 486,
    "start_time": "2025-01-22T21:30:20.772Z"
   },
   {
    "duration": 8725,
    "start_time": "2025-01-22T21:34:49.916Z"
   },
   {
    "duration": 1953,
    "start_time": "2025-01-22T21:34:58.649Z"
   },
   {
    "duration": 1185,
    "start_time": "2025-01-22T21:35:00.604Z"
   },
   {
    "duration": 614,
    "start_time": "2025-01-22T21:35:01.791Z"
   },
   {
    "duration": 4,
    "start_time": "2025-01-22T21:35:02.407Z"
   },
   {
    "duration": 508,
    "start_time": "2025-01-22T21:35:02.412Z"
   },
   {
    "duration": 538,
    "start_time": "2025-01-22T21:35:02.922Z"
   },
   {
    "duration": 4023,
    "start_time": "2025-01-22T21:35:03.461Z"
   },
   {
    "duration": 322,
    "start_time": "2025-01-22T21:35:07.539Z"
   },
   {
    "duration": 47,
    "start_time": "2025-01-23T13:53:14.103Z"
   },
   {
    "duration": 13663,
    "start_time": "2025-01-23T13:53:23.873Z"
   },
   {
    "duration": 1922,
    "start_time": "2025-01-23T13:53:37.538Z"
   },
   {
    "duration": 3370,
    "start_time": "2025-01-23T13:53:39.462Z"
   },
   {
    "duration": 537,
    "start_time": "2025-01-23T13:53:42.834Z"
   },
   {
    "duration": 4,
    "start_time": "2025-01-23T13:53:43.374Z"
   },
   {
    "duration": 451,
    "start_time": "2025-01-23T13:53:43.379Z"
   },
   {
    "duration": 913,
    "start_time": "2025-01-23T13:53:43.832Z"
   },
   {
    "duration": 3311,
    "start_time": "2025-01-23T13:53:44.747Z"
   },
   {
    "duration": 140,
    "start_time": "2025-01-23T13:53:48.060Z"
   },
   {
    "duration": 843,
    "start_time": "2025-01-23T13:54:11.106Z"
   },
   {
    "duration": 1508,
    "start_time": "2025-01-23T13:56:46.964Z"
   },
   {
    "duration": 11,
    "start_time": "2025-01-23T14:06:30.085Z"
   },
   {
    "duration": 14,
    "start_time": "2025-01-23T14:06:40.171Z"
   },
   {
    "duration": 103,
    "start_time": "2025-01-23T14:06:45.576Z"
   },
   {
    "duration": 135,
    "start_time": "2025-01-23T14:10:44.131Z"
   },
   {
    "duration": 39,
    "start_time": "2025-01-23T14:13:45.945Z"
   },
   {
    "duration": 12,
    "start_time": "2025-01-23T14:16:19.992Z"
   },
   {
    "duration": 81,
    "start_time": "2025-01-23T14:26:51.235Z"
   },
   {
    "duration": 152,
    "start_time": "2025-01-23T14:27:04.626Z"
   },
   {
    "duration": 25,
    "start_time": "2025-01-23T14:28:16.818Z"
   },
   {
    "duration": 79,
    "start_time": "2025-01-23T14:28:33.715Z"
   },
   {
    "duration": 142,
    "start_time": "2025-01-23T14:28:40.623Z"
   },
   {
    "duration": 33,
    "start_time": "2025-01-23T14:29:56.281Z"
   },
   {
    "duration": 59,
    "start_time": "2025-01-23T14:30:10.448Z"
   },
   {
    "duration": 34,
    "start_time": "2025-01-23T14:30:58.614Z"
   },
   {
    "duration": 60,
    "start_time": "2025-01-23T14:31:12.448Z"
   },
   {
    "duration": 64,
    "start_time": "2025-01-23T14:32:18.346Z"
   },
   {
    "duration": 66,
    "start_time": "2025-01-23T14:34:25.670Z"
   },
   {
    "duration": 73,
    "start_time": "2025-01-23T14:37:09.888Z"
   },
   {
    "duration": 83,
    "start_time": "2025-01-23T14:37:54.869Z"
   },
   {
    "duration": 129,
    "start_time": "2025-01-23T14:52:51.108Z"
   },
   {
    "duration": 125,
    "start_time": "2025-01-23T14:53:03.285Z"
   },
   {
    "duration": 131,
    "start_time": "2025-01-23T14:53:13.986Z"
   },
   {
    "duration": 219,
    "start_time": "2025-01-23T14:53:27.572Z"
   },
   {
    "duration": 132,
    "start_time": "2025-01-23T14:55:13.622Z"
   },
   {
    "duration": 18,
    "start_time": "2025-01-23T14:55:28.298Z"
   },
   {
    "duration": 37,
    "start_time": "2025-01-23T14:55:48.089Z"
   },
   {
    "duration": 42,
    "start_time": "2025-01-23T14:56:03.220Z"
   },
   {
    "duration": 8,
    "start_time": "2025-01-23T14:58:40.254Z"
   },
   {
    "duration": 5,
    "start_time": "2025-01-23T15:02:01.027Z"
   },
   {
    "duration": 3,
    "start_time": "2025-01-23T15:09:06.936Z"
   },
   {
    "duration": 35,
    "start_time": "2025-01-23T15:10:18.582Z"
   },
   {
    "duration": 11,
    "start_time": "2025-01-23T15:25:12.651Z"
   },
   {
    "duration": 9,
    "start_time": "2025-01-23T15:25:14.639Z"
   },
   {
    "duration": 22,
    "start_time": "2025-01-23T15:25:16.104Z"
   },
   {
    "duration": 10,
    "start_time": "2025-01-23T15:25:40.378Z"
   },
   {
    "duration": 1842,
    "start_time": "2025-01-23T15:25:43.125Z"
   },
   {
    "duration": 8,
    "start_time": "2025-01-23T15:26:22.542Z"
   },
   {
    "duration": 8912,
    "start_time": "2025-01-23T15:26:24.867Z"
   },
   {
    "duration": 9,
    "start_time": "2025-01-23T15:29:24.259Z"
   },
   {
    "duration": 75,
    "start_time": "2025-01-23T15:29:56.514Z"
   },
   {
    "duration": 20,
    "start_time": "2025-01-23T15:33:29.232Z"
   },
   {
    "duration": 35,
    "start_time": "2025-01-23T15:33:54.394Z"
   },
   {
    "duration": 27,
    "start_time": "2025-01-23T15:34:14.254Z"
   },
   {
    "duration": 29,
    "start_time": "2025-01-23T17:58:35.573Z"
   },
   {
    "duration": 84,
    "start_time": "2025-01-23T17:58:43.778Z"
   },
   {
    "duration": 9,
    "start_time": "2025-01-23T17:59:25.308Z"
   },
   {
    "duration": 14,
    "start_time": "2025-01-23T18:12:30.848Z"
   },
   {
    "duration": 83,
    "start_time": "2025-01-23T18:12:43.467Z"
   },
   {
    "duration": 7,
    "start_time": "2025-01-23T18:19:33.460Z"
   },
   {
    "duration": 6075,
    "start_time": "2025-01-23T18:21:18.297Z"
   },
   {
    "duration": 81,
    "start_time": "2025-01-23T18:32:58.425Z"
   },
   {
    "duration": 85,
    "start_time": "2025-01-23T18:33:19.503Z"
   },
   {
    "duration": 158,
    "start_time": "2025-01-23T18:35:10.829Z"
   },
   {
    "duration": 11,
    "start_time": "2025-01-23T18:35:37.638Z"
   },
   {
    "duration": 12,
    "start_time": "2025-01-23T18:36:05.912Z"
   },
   {
    "duration": 5399,
    "start_time": "2025-01-23T18:38:49.465Z"
   },
   {
    "duration": 877,
    "start_time": "2025-01-23T18:41:32.633Z"
   },
   {
    "duration": 485,
    "start_time": "2025-01-23T18:41:39.772Z"
   },
   {
    "duration": 7661,
    "start_time": "2025-01-23T18:43:13.287Z"
   },
   {
    "duration": 1652,
    "start_time": "2025-01-23T18:43:20.950Z"
   },
   {
    "duration": 964,
    "start_time": "2025-01-23T18:43:22.603Z"
   },
   {
    "duration": 542,
    "start_time": "2025-01-23T18:43:27.256Z"
   },
   {
    "duration": 37,
    "start_time": "2025-01-23T18:43:41.411Z"
   },
   {
    "duration": 89,
    "start_time": "2025-01-23T18:43:45.602Z"
   },
   {
    "duration": 6014,
    "start_time": "2025-01-23T18:44:08.290Z"
   },
   {
    "duration": 78,
    "start_time": "2025-01-23T18:44:57.419Z"
   },
   {
    "duration": 4877,
    "start_time": "2025-01-23T18:45:01.400Z"
   },
   {
    "duration": 1538,
    "start_time": "2025-01-23T18:46:15.921Z"
   },
   {
    "duration": 26,
    "start_time": "2025-01-23T18:50:32.886Z"
   },
   {
    "duration": 24,
    "start_time": "2025-01-23T18:50:44.545Z"
   },
   {
    "duration": 7446,
    "start_time": "2025-01-23T18:54:30.243Z"
   },
   {
    "duration": 1647,
    "start_time": "2025-01-23T18:54:37.691Z"
   },
   {
    "duration": 988,
    "start_time": "2025-01-23T18:54:39.340Z"
   },
   {
    "duration": 546,
    "start_time": "2025-01-23T18:54:40.330Z"
   },
   {
    "duration": 4,
    "start_time": "2025-01-23T18:54:40.878Z"
   },
   {
    "duration": 394,
    "start_time": "2025-01-23T18:54:40.884Z"
   },
   {
    "duration": 843,
    "start_time": "2025-01-23T18:54:41.280Z"
   },
   {
    "duration": 1564,
    "start_time": "2025-01-23T18:54:42.125Z"
   },
   {
    "duration": 13,
    "start_time": "2025-01-23T18:54:43.690Z"
   },
   {
    "duration": 59,
    "start_time": "2025-01-23T18:54:43.704Z"
   },
   {
    "duration": 39,
    "start_time": "2025-01-23T18:54:43.765Z"
   },
   {
    "duration": 98,
    "start_time": "2025-01-23T18:54:43.806Z"
   },
   {
    "duration": 10,
    "start_time": "2025-01-23T18:54:43.905Z"
   },
   {
    "duration": 98,
    "start_time": "2025-01-23T18:54:43.918Z"
   },
   {
    "duration": 11,
    "start_time": "2025-01-23T18:54:44.018Z"
   },
   {
    "duration": 48,
    "start_time": "2025-01-23T18:54:44.031Z"
   },
   {
    "duration": 28,
    "start_time": "2025-01-23T18:54:44.081Z"
   },
   {
    "duration": 10,
    "start_time": "2025-01-23T18:54:44.110Z"
   },
   {
    "duration": 54,
    "start_time": "2025-01-23T18:54:44.122Z"
   },
   {
    "duration": 6911,
    "start_time": "2025-01-23T18:54:44.178Z"
   },
   {
    "duration": 19,
    "start_time": "2025-01-23T18:54:51.090Z"
   },
   {
    "duration": 5962,
    "start_time": "2025-01-23T18:54:51.110Z"
   },
   {
    "duration": 9,
    "start_time": "2025-01-23T18:54:57.074Z"
   },
   {
    "duration": 169,
    "start_time": "2025-01-23T18:54:57.085Z"
   },
   {
    "duration": 13,
    "start_time": "2025-01-23T18:54:57.256Z"
   },
   {
    "duration": 113,
    "start_time": "2025-01-23T18:54:57.271Z"
   },
   {
    "duration": 0,
    "start_time": "2025-01-23T18:54:57.385Z"
   },
   {
    "duration": 5250,
    "start_time": "2025-01-23T18:56:41.047Z"
   },
   {
    "duration": 25,
    "start_time": "2025-01-23T18:56:47.058Z"
   },
   {
    "duration": 7645,
    "start_time": "2025-01-23T19:06:39.754Z"
   },
   {
    "duration": 1636,
    "start_time": "2025-01-23T19:06:47.401Z"
   },
   {
    "duration": 990,
    "start_time": "2025-01-23T19:06:49.039Z"
   },
   {
    "duration": 584,
    "start_time": "2025-01-23T19:06:50.031Z"
   },
   {
    "duration": 4,
    "start_time": "2025-01-23T19:06:50.616Z"
   },
   {
    "duration": 432,
    "start_time": "2025-01-23T19:06:50.622Z"
   },
   {
    "duration": 879,
    "start_time": "2025-01-23T19:06:51.056Z"
   },
   {
    "duration": 1549,
    "start_time": "2025-01-23T19:06:51.936Z"
   },
   {
    "duration": 12,
    "start_time": "2025-01-23T19:06:53.486Z"
   },
   {
    "duration": 65,
    "start_time": "2025-01-23T19:06:53.500Z"
   },
   {
    "duration": 38,
    "start_time": "2025-01-23T19:06:53.567Z"
   },
   {
    "duration": 102,
    "start_time": "2025-01-23T19:06:53.607Z"
   },
   {
    "duration": 10,
    "start_time": "2025-01-23T19:06:53.711Z"
   },
   {
    "duration": 88,
    "start_time": "2025-01-23T19:06:53.723Z"
   },
   {
    "duration": 11,
    "start_time": "2025-01-23T19:06:53.813Z"
   },
   {
    "duration": 45,
    "start_time": "2025-01-23T19:06:53.825Z"
   },
   {
    "duration": 3,
    "start_time": "2025-01-23T19:06:53.872Z"
   },
   {
    "duration": 14,
    "start_time": "2025-01-23T19:06:53.877Z"
   },
   {
    "duration": 65,
    "start_time": "2025-01-23T19:06:53.892Z"
   },
   {
    "duration": 7100,
    "start_time": "2025-01-23T19:06:53.959Z"
   },
   {
    "duration": 20,
    "start_time": "2025-01-23T19:07:01.061Z"
   },
   {
    "duration": 6194,
    "start_time": "2025-01-23T19:07:01.083Z"
   },
   {
    "duration": 163,
    "start_time": "2025-01-23T19:07:07.278Z"
   },
   {
    "duration": 15,
    "start_time": "2025-01-23T19:07:07.442Z"
   },
   {
    "duration": 21280,
    "start_time": "2025-01-23T19:07:07.459Z"
   },
   {
    "duration": 1619,
    "start_time": "2025-01-23T19:07:28.740Z"
   },
   {
    "duration": 7871,
    "start_time": "2025-01-23T19:12:09.227Z"
   },
   {
    "duration": 1616,
    "start_time": "2025-01-23T19:12:17.100Z"
   },
   {
    "duration": 971,
    "start_time": "2025-01-23T19:12:18.717Z"
   },
   {
    "duration": 580,
    "start_time": "2025-01-23T19:12:19.689Z"
   },
   {
    "duration": 4,
    "start_time": "2025-01-23T19:12:20.272Z"
   },
   {
    "duration": 429,
    "start_time": "2025-01-23T19:12:20.277Z"
   },
   {
    "duration": 894,
    "start_time": "2025-01-23T19:12:20.708Z"
   },
   {
    "duration": 1531,
    "start_time": "2025-01-23T19:12:21.604Z"
   },
   {
    "duration": 22,
    "start_time": "2025-01-23T19:12:23.137Z"
   },
   {
    "duration": 41,
    "start_time": "2025-01-23T19:12:23.161Z"
   },
   {
    "duration": 64,
    "start_time": "2025-01-23T19:12:23.204Z"
   },
   {
    "duration": 90,
    "start_time": "2025-01-23T19:12:23.270Z"
   },
   {
    "duration": 10,
    "start_time": "2025-01-23T19:12:23.362Z"
   },
   {
    "duration": 91,
    "start_time": "2025-01-23T19:12:23.375Z"
   },
   {
    "duration": 13,
    "start_time": "2025-01-23T19:12:23.468Z"
   },
   {
    "duration": 51,
    "start_time": "2025-01-23T19:12:23.483Z"
   },
   {
    "duration": 3,
    "start_time": "2025-01-23T19:12:23.536Z"
   },
   {
    "duration": 30,
    "start_time": "2025-01-23T19:12:23.541Z"
   },
   {
    "duration": 82,
    "start_time": "2025-01-23T19:12:23.573Z"
   },
   {
    "duration": 7178,
    "start_time": "2025-01-23T19:12:23.656Z"
   },
   {
    "duration": 27,
    "start_time": "2025-01-23T19:12:30.836Z"
   },
   {
    "duration": 6234,
    "start_time": "2025-01-23T19:12:30.864Z"
   },
   {
    "duration": 87,
    "start_time": "2025-01-23T19:12:37.099Z"
   },
   {
    "duration": 11,
    "start_time": "2025-01-23T19:12:37.187Z"
   },
   {
    "duration": 4927,
    "start_time": "2025-01-23T19:12:37.200Z"
   },
   {
    "duration": 41,
    "start_time": "2025-01-23T19:12:42.128Z"
   },
   {
    "duration": 24,
    "start_time": "2025-01-23T19:24:44.752Z"
   },
   {
    "duration": 21,
    "start_time": "2025-01-23T19:24:50.683Z"
   },
   {
    "duration": 20,
    "start_time": "2025-01-23T19:25:14.251Z"
   },
   {
    "duration": 97,
    "start_time": "2025-01-23T19:32:15.410Z"
   },
   {
    "duration": 38,
    "start_time": "2025-01-23T19:32:27.360Z"
   },
   {
    "duration": 44,
    "start_time": "2025-01-23T19:33:09.371Z"
   },
   {
    "duration": 18,
    "start_time": "2025-01-23T19:33:53.748Z"
   },
   {
    "duration": 10,
    "start_time": "2025-01-23T19:37:22.671Z"
   },
   {
    "duration": 10,
    "start_time": "2025-01-23T19:37:30.575Z"
   },
   {
    "duration": 21,
    "start_time": "2025-01-23T19:37:47.388Z"
   },
   {
    "duration": 20,
    "start_time": "2025-01-23T19:38:29.298Z"
   },
   {
    "duration": 12,
    "start_time": "2025-01-23T19:42:40.149Z"
   },
   {
    "duration": 12,
    "start_time": "2025-01-23T19:42:46.800Z"
   },
   {
    "duration": 10,
    "start_time": "2025-01-23T19:43:10.429Z"
   },
   {
    "duration": 9,
    "start_time": "2025-01-23T19:43:33.201Z"
   },
   {
    "duration": 41,
    "start_time": "2025-01-23T19:48:44.995Z"
   },
   {
    "duration": 22,
    "start_time": "2025-01-23T19:48:51.208Z"
   },
   {
    "duration": 47,
    "start_time": "2025-01-23T19:56:24.495Z"
   },
   {
    "duration": 20,
    "start_time": "2025-01-23T19:56:37.579Z"
   },
   {
    "duration": 30,
    "start_time": "2025-01-23T19:56:51.096Z"
   },
   {
    "duration": 20,
    "start_time": "2025-01-23T19:57:01.114Z"
   },
   {
    "duration": 19,
    "start_time": "2025-01-23T19:59:16.829Z"
   },
   {
    "duration": 25,
    "start_time": "2025-01-23T19:59:50.407Z"
   },
   {
    "duration": 28,
    "start_time": "2025-01-23T20:00:58.119Z"
   },
   {
    "duration": 14,
    "start_time": "2025-01-23T20:01:08.549Z"
   },
   {
    "duration": 135,
    "start_time": "2025-01-23T20:31:37.809Z"
   },
   {
    "duration": 9,
    "start_time": "2025-01-23T20:31:58.518Z"
   },
   {
    "duration": 46,
    "start_time": "2025-01-23T20:32:47.004Z"
   },
   {
    "duration": 7563,
    "start_time": "2025-01-23T20:33:47.881Z"
   },
   {
    "duration": 2931,
    "start_time": "2025-01-23T20:33:55.446Z"
   },
   {
    "duration": 3109,
    "start_time": "2025-01-23T20:33:58.378Z"
   },
   {
    "duration": 572,
    "start_time": "2025-01-23T20:34:01.489Z"
   },
   {
    "duration": 4,
    "start_time": "2025-01-23T20:34:02.063Z"
   },
   {
    "duration": 429,
    "start_time": "2025-01-23T20:34:02.068Z"
   },
   {
    "duration": 914,
    "start_time": "2025-01-23T20:34:02.499Z"
   },
   {
    "duration": 1601,
    "start_time": "2025-01-23T20:34:03.415Z"
   },
   {
    "duration": 14,
    "start_time": "2025-01-23T20:34:05.018Z"
   },
   {
    "duration": 55,
    "start_time": "2025-01-23T20:34:05.034Z"
   },
   {
    "duration": 63,
    "start_time": "2025-01-23T20:34:05.091Z"
   },
   {
    "duration": 85,
    "start_time": "2025-01-23T20:34:05.156Z"
   },
   {
    "duration": 11,
    "start_time": "2025-01-23T20:34:05.253Z"
   },
   {
    "duration": 87,
    "start_time": "2025-01-23T20:34:05.267Z"
   },
   {
    "duration": 11,
    "start_time": "2025-01-23T20:34:05.356Z"
   },
   {
    "duration": 36,
    "start_time": "2025-01-23T20:34:05.369Z"
   },
   {
    "duration": 3,
    "start_time": "2025-01-23T20:34:05.407Z"
   },
   {
    "duration": 44,
    "start_time": "2025-01-23T20:34:05.412Z"
   },
   {
    "duration": 63,
    "start_time": "2025-01-23T20:34:05.457Z"
   },
   {
    "duration": 7171,
    "start_time": "2025-01-23T20:34:05.521Z"
   },
   {
    "duration": 18,
    "start_time": "2025-01-23T20:34:12.694Z"
   },
   {
    "duration": 61,
    "start_time": "2025-01-23T20:34:12.714Z"
   },
   {
    "duration": 34,
    "start_time": "2025-01-23T20:34:12.776Z"
   },
   {
    "duration": 22,
    "start_time": "2025-01-23T20:34:12.811Z"
   },
   {
    "duration": 23,
    "start_time": "2025-01-23T20:34:12.835Z"
   },
   {
    "duration": 239,
    "start_time": "2025-01-23T20:34:12.860Z"
   },
   {
    "duration": 0,
    "start_time": "2025-01-23T20:34:13.101Z"
   },
   {
    "duration": 0,
    "start_time": "2025-01-23T20:34:13.103Z"
   },
   {
    "duration": 0,
    "start_time": "2025-01-23T20:34:13.104Z"
   },
   {
    "duration": 0,
    "start_time": "2025-01-23T20:34:13.105Z"
   },
   {
    "duration": 0,
    "start_time": "2025-01-23T20:34:13.107Z"
   },
   {
    "duration": 0,
    "start_time": "2025-01-23T20:34:13.108Z"
   },
   {
    "duration": 48,
    "start_time": "2025-01-23T20:34:50.968Z"
   },
   {
    "duration": 8,
    "start_time": "2025-01-23T20:36:30.423Z"
   },
   {
    "duration": 7,
    "start_time": "2025-01-23T20:36:35.879Z"
   },
   {
    "duration": 6,
    "start_time": "2025-01-23T20:36:42.307Z"
   },
   {
    "duration": 7588,
    "start_time": "2025-01-23T20:38:47.272Z"
   },
   {
    "duration": 2642,
    "start_time": "2025-01-23T20:38:54.862Z"
   },
   {
    "duration": 3182,
    "start_time": "2025-01-23T20:38:57.505Z"
   },
   {
    "duration": 545,
    "start_time": "2025-01-23T20:39:00.689Z"
   },
   {
    "duration": 4,
    "start_time": "2025-01-23T20:39:01.236Z"
   },
   {
    "duration": 413,
    "start_time": "2025-01-23T20:39:01.254Z"
   },
   {
    "duration": 918,
    "start_time": "2025-01-23T20:39:01.668Z"
   },
   {
    "duration": 1520,
    "start_time": "2025-01-23T20:39:02.588Z"
   },
   {
    "duration": 14,
    "start_time": "2025-01-23T20:39:04.110Z"
   },
   {
    "duration": 58,
    "start_time": "2025-01-23T20:39:04.125Z"
   },
   {
    "duration": 39,
    "start_time": "2025-01-23T20:39:04.185Z"
   },
   {
    "duration": 108,
    "start_time": "2025-01-23T20:39:04.225Z"
   },
   {
    "duration": 19,
    "start_time": "2025-01-23T20:39:04.335Z"
   },
   {
    "duration": 97,
    "start_time": "2025-01-23T20:39:04.357Z"
   },
   {
    "duration": 11,
    "start_time": "2025-01-23T20:39:04.456Z"
   },
   {
    "duration": 43,
    "start_time": "2025-01-23T20:39:04.468Z"
   },
   {
    "duration": 3,
    "start_time": "2025-01-23T20:39:04.512Z"
   },
   {
    "duration": 9,
    "start_time": "2025-01-23T20:39:04.517Z"
   },
   {
    "duration": 69,
    "start_time": "2025-01-23T20:39:04.527Z"
   },
   {
    "duration": 6928,
    "start_time": "2025-01-23T20:39:04.597Z"
   },
   {
    "duration": 32,
    "start_time": "2025-01-23T20:39:11.527Z"
   },
   {
    "duration": 11,
    "start_time": "2025-01-23T20:39:11.561Z"
   },
   {
    "duration": 31,
    "start_time": "2025-01-23T20:39:11.573Z"
   },
   {
    "duration": 20,
    "start_time": "2025-01-23T20:39:11.605Z"
   },
   {
    "duration": 13,
    "start_time": "2025-01-23T20:39:11.654Z"
   },
   {
    "duration": 58,
    "start_time": "2025-01-23T20:39:35.947Z"
   },
   {
    "duration": 6,
    "start_time": "2025-01-23T20:42:13.585Z"
   },
   {
    "duration": 7480,
    "start_time": "2025-01-23T20:51:53.544Z"
   },
   {
    "duration": 3551,
    "start_time": "2025-01-23T20:52:01.027Z"
   },
   {
    "duration": 2961,
    "start_time": "2025-01-23T20:52:04.580Z"
   },
   {
    "duration": 544,
    "start_time": "2025-01-23T20:52:07.543Z"
   },
   {
    "duration": 4,
    "start_time": "2025-01-23T20:52:08.089Z"
   },
   {
    "duration": 403,
    "start_time": "2025-01-23T20:52:08.094Z"
   },
   {
    "duration": 880,
    "start_time": "2025-01-23T20:52:08.499Z"
   },
   {
    "duration": 1548,
    "start_time": "2025-01-23T20:52:09.380Z"
   },
   {
    "duration": 11,
    "start_time": "2025-01-23T20:52:10.929Z"
   },
   {
    "duration": 43,
    "start_time": "2025-01-23T20:52:10.942Z"
   },
   {
    "duration": 36,
    "start_time": "2025-01-23T20:52:10.987Z"
   },
   {
    "duration": 98,
    "start_time": "2025-01-23T20:52:11.024Z"
   },
   {
    "duration": 14,
    "start_time": "2025-01-23T20:52:11.124Z"
   },
   {
    "duration": 78,
    "start_time": "2025-01-23T20:52:11.140Z"
   },
   {
    "duration": 11,
    "start_time": "2025-01-23T20:52:11.220Z"
   },
   {
    "duration": 49,
    "start_time": "2025-01-23T20:52:11.232Z"
   },
   {
    "duration": 3,
    "start_time": "2025-01-23T20:52:11.283Z"
   },
   {
    "duration": 19,
    "start_time": "2025-01-23T20:52:11.287Z"
   },
   {
    "duration": 66,
    "start_time": "2025-01-23T20:52:11.307Z"
   },
   {
    "duration": 6990,
    "start_time": "2025-01-23T20:52:11.374Z"
   },
   {
    "duration": 19,
    "start_time": "2025-01-23T20:52:18.365Z"
   },
   {
    "duration": 8,
    "start_time": "2025-01-23T20:52:18.385Z"
   },
   {
    "duration": 80,
    "start_time": "2025-01-23T20:52:18.394Z"
   },
   {
    "duration": 19,
    "start_time": "2025-01-23T20:52:18.475Z"
   },
   {
    "duration": 23,
    "start_time": "2025-01-23T20:52:18.496Z"
   },
   {
    "duration": 47,
    "start_time": "2025-01-23T20:53:00.096Z"
   },
   {
    "duration": 7451,
    "start_time": "2025-01-23T20:55:47.436Z"
   },
   {
    "duration": 2784,
    "start_time": "2025-01-23T20:55:54.889Z"
   },
   {
    "duration": 2990,
    "start_time": "2025-01-23T20:55:57.675Z"
   },
   {
    "duration": 549,
    "start_time": "2025-01-23T20:56:00.667Z"
   },
   {
    "duration": 5,
    "start_time": "2025-01-23T20:56:01.218Z"
   },
   {
    "duration": 419,
    "start_time": "2025-01-23T20:56:01.225Z"
   },
   {
    "duration": 891,
    "start_time": "2025-01-23T20:56:01.646Z"
   },
   {
    "duration": 1521,
    "start_time": "2025-01-23T20:56:02.539Z"
   },
   {
    "duration": 14,
    "start_time": "2025-01-23T20:56:04.062Z"
   },
   {
    "duration": 109,
    "start_time": "2025-01-23T20:56:04.078Z"
   },
   {
    "duration": 36,
    "start_time": "2025-01-23T20:56:04.188Z"
   },
   {
    "duration": 94,
    "start_time": "2025-01-23T20:56:04.225Z"
   },
   {
    "duration": 9,
    "start_time": "2025-01-23T20:56:04.321Z"
   },
   {
    "duration": 106,
    "start_time": "2025-01-23T20:56:04.332Z"
   },
   {
    "duration": 24,
    "start_time": "2025-01-23T20:56:04.440Z"
   },
   {
    "duration": 50,
    "start_time": "2025-01-23T20:56:04.466Z"
   },
   {
    "duration": 4,
    "start_time": "2025-01-23T20:56:04.518Z"
   },
   {
    "duration": 9,
    "start_time": "2025-01-23T20:56:04.523Z"
   },
   {
    "duration": 64,
    "start_time": "2025-01-23T20:56:04.533Z"
   },
   {
    "duration": 6967,
    "start_time": "2025-01-23T20:56:04.599Z"
   },
   {
    "duration": 20,
    "start_time": "2025-01-23T20:56:11.567Z"
   },
   {
    "duration": 9,
    "start_time": "2025-01-23T20:56:11.588Z"
   },
   {
    "duration": 82,
    "start_time": "2025-01-23T20:56:11.598Z"
   },
   {
    "duration": 18,
    "start_time": "2025-01-23T20:56:11.682Z"
   },
   {
    "duration": 23,
    "start_time": "2025-01-23T20:56:11.702Z"
   },
   {
    "duration": 2,
    "start_time": "2025-01-23T20:56:11.727Z"
   },
   {
    "duration": 27,
    "start_time": "2025-01-23T20:56:11.730Z"
   },
   {
    "duration": 20,
    "start_time": "2025-01-23T20:56:11.758Z"
   },
   {
    "duration": 6119,
    "start_time": "2025-01-23T20:56:11.779Z"
   },
   {
    "duration": 83,
    "start_time": "2025-01-23T20:56:17.900Z"
   },
   {
    "duration": 11,
    "start_time": "2025-01-23T20:56:17.985Z"
   },
   {
    "duration": 4798,
    "start_time": "2025-01-23T20:56:17.997Z"
   },
   {
    "duration": 25,
    "start_time": "2025-01-23T20:56:22.797Z"
   },
   {
    "duration": 17,
    "start_time": "2025-01-23T20:57:09.267Z"
   },
   {
    "duration": 8,
    "start_time": "2025-01-23T20:57:53.167Z"
   },
   {
    "duration": 40,
    "start_time": "2025-01-23T20:57:56.066Z"
   },
   {
    "duration": 6,
    "start_time": "2025-01-23T20:59:17.485Z"
   },
   {
    "duration": 7555,
    "start_time": "2025-01-23T21:01:57.141Z"
   },
   {
    "duration": 3376,
    "start_time": "2025-01-23T21:02:04.699Z"
   },
   {
    "duration": 2962,
    "start_time": "2025-01-23T21:02:08.077Z"
   },
   {
    "duration": 536,
    "start_time": "2025-01-23T21:02:11.040Z"
   },
   {
    "duration": 4,
    "start_time": "2025-01-23T21:02:11.578Z"
   },
   {
    "duration": 415,
    "start_time": "2025-01-23T21:02:11.583Z"
   },
   {
    "duration": 888,
    "start_time": "2025-01-23T21:02:11.999Z"
   },
   {
    "duration": 1518,
    "start_time": "2025-01-23T21:02:12.888Z"
   },
   {
    "duration": 12,
    "start_time": "2025-01-23T21:02:14.407Z"
   },
   {
    "duration": 52,
    "start_time": "2025-01-23T21:02:14.420Z"
   },
   {
    "duration": 53,
    "start_time": "2025-01-23T21:02:14.473Z"
   },
   {
    "duration": 102,
    "start_time": "2025-01-23T21:02:14.528Z"
   },
   {
    "duration": 22,
    "start_time": "2025-01-23T21:02:14.632Z"
   },
   {
    "duration": 76,
    "start_time": "2025-01-23T21:02:14.657Z"
   },
   {
    "duration": 11,
    "start_time": "2025-01-23T21:02:14.734Z"
   },
   {
    "duration": 92,
    "start_time": "2025-01-23T21:02:14.754Z"
   },
   {
    "duration": 73,
    "start_time": "2025-01-23T21:02:14.847Z"
   },
   {
    "duration": 24,
    "start_time": "2025-01-23T21:02:14.922Z"
   },
   {
    "duration": 75,
    "start_time": "2025-01-23T21:02:14.947Z"
   },
   {
    "duration": 7101,
    "start_time": "2025-01-23T21:02:15.024Z"
   },
   {
    "duration": 32,
    "start_time": "2025-01-23T21:02:22.126Z"
   },
   {
    "duration": 63,
    "start_time": "2025-01-23T21:02:22.160Z"
   },
   {
    "duration": 65,
    "start_time": "2025-01-23T21:02:22.224Z"
   },
   {
    "duration": 21,
    "start_time": "2025-01-23T21:02:22.290Z"
   },
   {
    "duration": 43,
    "start_time": "2025-01-23T21:02:22.313Z"
   },
   {
    "duration": 3,
    "start_time": "2025-01-23T21:02:22.357Z"
   },
   {
    "duration": 13,
    "start_time": "2025-01-23T21:02:22.361Z"
   },
   {
    "duration": 11143,
    "start_time": "2025-01-23T21:02:22.375Z"
   },
   {
    "duration": 17,
    "start_time": "2025-01-23T21:02:33.519Z"
   },
   {
    "duration": 7944,
    "start_time": "2025-01-23T21:02:33.537Z"
   },
   {
    "duration": 94,
    "start_time": "2025-01-23T21:02:41.482Z"
   },
   {
    "duration": 11,
    "start_time": "2025-01-23T21:02:41.578Z"
   },
   {
    "duration": 4895,
    "start_time": "2025-01-23T21:02:41.590Z"
   },
   {
    "duration": 25,
    "start_time": "2025-01-23T21:02:46.486Z"
   },
   {
    "duration": 6,
    "start_time": "2025-01-23T21:03:52.436Z"
   },
   {
    "duration": 25,
    "start_time": "2025-01-23T21:04:17.922Z"
   },
   {
    "duration": 27,
    "start_time": "2025-01-23T21:04:26.150Z"
   },
   {
    "duration": 25,
    "start_time": "2025-01-23T21:04:38.894Z"
   },
   {
    "duration": 25,
    "start_time": "2025-01-23T21:05:18.810Z"
   },
   {
    "duration": 7,
    "start_time": "2025-01-23T21:20:22.784Z"
   },
   {
    "duration": 134,
    "start_time": "2025-01-23T21:20:46.022Z"
   },
   {
    "duration": 366,
    "start_time": "2025-01-23T21:21:48.728Z"
   },
   {
    "duration": 368,
    "start_time": "2025-01-23T21:22:03.037Z"
   },
   {
    "duration": 7,
    "start_time": "2025-01-23T21:22:40.162Z"
   },
   {
    "duration": 12204,
    "start_time": "2025-01-23T21:23:37.191Z"
   },
   {
    "duration": 22,
    "start_time": "2025-01-23T21:27:34.046Z"
   },
   {
    "duration": 218,
    "start_time": "2025-01-23T21:28:15.162Z"
   },
   {
    "duration": 16,
    "start_time": "2025-01-23T21:28:37.167Z"
   },
   {
    "duration": 165,
    "start_time": "2025-01-23T21:44:57.964Z"
   },
   {
    "duration": 179,
    "start_time": "2025-01-23T21:45:20.152Z"
   },
   {
    "duration": 49,
    "start_time": "2025-01-24T15:49:22.105Z"
   },
   {
    "duration": 18394,
    "start_time": "2025-01-24T15:49:52.657Z"
   },
   {
    "duration": 2095,
    "start_time": "2025-01-24T15:50:11.055Z"
   },
   {
    "duration": 3280,
    "start_time": "2025-01-24T15:50:13.152Z"
   },
   {
    "duration": 612,
    "start_time": "2025-01-24T15:50:16.434Z"
   },
   {
    "duration": 5,
    "start_time": "2025-01-24T15:50:17.047Z"
   },
   {
    "duration": 508,
    "start_time": "2025-01-24T15:50:17.054Z"
   },
   {
    "duration": 1028,
    "start_time": "2025-01-24T15:50:17.564Z"
   },
   {
    "duration": 1659,
    "start_time": "2025-01-24T15:50:18.593Z"
   },
   {
    "duration": 14,
    "start_time": "2025-01-24T15:50:20.254Z"
   },
   {
    "duration": 68,
    "start_time": "2025-01-24T15:50:20.270Z"
   },
   {
    "duration": 47,
    "start_time": "2025-01-24T15:50:20.340Z"
   },
   {
    "duration": 121,
    "start_time": "2025-01-24T15:50:20.388Z"
   },
   {
    "duration": 11,
    "start_time": "2025-01-24T15:50:20.515Z"
   },
   {
    "duration": 37,
    "start_time": "2025-01-24T15:51:21.475Z"
   },
   {
    "duration": 153,
    "start_time": "2025-01-24T16:07:47.965Z"
   },
   {
    "duration": 17,
    "start_time": "2025-01-24T16:07:58.318Z"
   },
   {
    "duration": 86,
    "start_time": "2025-01-24T16:08:02.836Z"
   },
   {
    "duration": 90,
    "start_time": "2025-01-24T16:08:05.451Z"
   },
   {
    "duration": 90,
    "start_time": "2025-01-24T16:08:38.494Z"
   },
   {
    "duration": 56,
    "start_time": "2025-01-24T16:08:56.264Z"
   },
   {
    "duration": 79,
    "start_time": "2025-01-24T16:09:54.112Z"
   },
   {
    "duration": 90,
    "start_time": "2025-01-24T16:14:01.084Z"
   },
   {
    "duration": 83,
    "start_time": "2025-01-24T16:15:25.592Z"
   },
   {
    "duration": 87,
    "start_time": "2025-01-24T16:15:31.773Z"
   },
   {
    "duration": 11,
    "start_time": "2025-01-24T16:15:37.779Z"
   },
   {
    "duration": 21,
    "start_time": "2025-01-24T16:16:15.646Z"
   },
   {
    "duration": 12,
    "start_time": "2025-01-24T16:16:27.263Z"
   },
   {
    "duration": 85,
    "start_time": "2025-01-24T16:31:44.871Z"
   },
   {
    "duration": 13,
    "start_time": "2025-01-24T16:31:46.734Z"
   },
   {
    "duration": 15,
    "start_time": "2025-01-24T16:31:50.217Z"
   },
   {
    "duration": 17,
    "start_time": "2025-01-24T16:32:22.867Z"
   },
   {
    "duration": 22,
    "start_time": "2025-01-24T16:33:04.754Z"
   },
   {
    "duration": 18,
    "start_time": "2025-01-24T16:33:11.325Z"
   },
   {
    "duration": 18,
    "start_time": "2025-01-24T16:33:34.718Z"
   },
   {
    "duration": 22,
    "start_time": "2025-01-24T16:34:24.684Z"
   },
   {
    "duration": 10,
    "start_time": "2025-01-24T16:34:45.500Z"
   },
   {
    "duration": 9,
    "start_time": "2025-01-24T16:36:08.424Z"
   },
   {
    "duration": 19,
    "start_time": "2025-01-24T16:44:17.312Z"
   },
   {
    "duration": 10,
    "start_time": "2025-01-24T16:44:37.586Z"
   },
   {
    "duration": 10,
    "start_time": "2025-01-24T16:45:03.071Z"
   },
   {
    "duration": 9,
    "start_time": "2025-01-24T16:45:28.132Z"
   },
   {
    "duration": 21,
    "start_time": "2025-01-24T16:46:03.152Z"
   },
   {
    "duration": 23,
    "start_time": "2025-01-24T16:47:29.534Z"
   },
   {
    "duration": 89,
    "start_time": "2025-01-24T16:56:13.360Z"
   },
   {
    "duration": 95,
    "start_time": "2025-01-24T16:57:19.249Z"
   },
   {
    "duration": 95,
    "start_time": "2025-01-24T16:57:29.052Z"
   },
   {
    "duration": 7,
    "start_time": "2025-01-24T16:57:52.695Z"
   },
   {
    "duration": 94,
    "start_time": "2025-01-24T16:58:37.635Z"
   },
   {
    "duration": 158,
    "start_time": "2025-01-24T17:38:53.768Z"
   },
   {
    "duration": 205,
    "start_time": "2025-01-24T17:39:10.696Z"
   },
   {
    "duration": 179,
    "start_time": "2025-01-24T17:43:12.264Z"
   },
   {
    "duration": 97,
    "start_time": "2025-01-24T17:58:04.444Z"
   },
   {
    "duration": 101,
    "start_time": "2025-01-24T17:58:19.050Z"
   },
   {
    "duration": 55,
    "start_time": "2025-01-24T17:59:36.728Z"
   },
   {
    "duration": 102,
    "start_time": "2025-01-24T17:59:38.732Z"
   },
   {
    "duration": 8,
    "start_time": "2025-01-24T18:02:58.657Z"
   },
   {
    "duration": 10717,
    "start_time": "2025-01-24T18:03:00.234Z"
   },
   {
    "duration": 28,
    "start_time": "2025-01-24T18:03:36.665Z"
   },
   {
    "duration": 8,
    "start_time": "2025-01-24T18:04:23.928Z"
   },
   {
    "duration": 3046,
    "start_time": "2025-01-24T18:04:25.404Z"
   },
   {
    "duration": 7,
    "start_time": "2025-01-24T18:05:18.993Z"
   },
   {
    "duration": 2235,
    "start_time": "2025-01-24T18:05:20.587Z"
   },
   {
    "duration": 112,
    "start_time": "2025-01-24T18:08:16.724Z"
   },
   {
    "duration": 3677,
    "start_time": "2025-01-24T18:08:52.676Z"
   },
   {
    "duration": 1277,
    "start_time": "2025-01-24T18:12:16.382Z"
   },
   {
    "duration": 7,
    "start_time": "2025-01-24T18:16:08.177Z"
   },
   {
    "duration": 1334,
    "start_time": "2025-01-24T18:16:11.137Z"
   },
   {
    "duration": 184,
    "start_time": "2025-01-24T18:16:21.365Z"
   },
   {
    "duration": 1035,
    "start_time": "2025-01-24T18:16:23.424Z"
   },
   {
    "duration": 7,
    "start_time": "2025-01-24T18:16:52.437Z"
   },
   {
    "duration": 1068,
    "start_time": "2025-01-24T18:16:54.509Z"
   },
   {
    "duration": 9,
    "start_time": "2025-01-24T18:17:19.094Z"
   },
   {
    "duration": 1010,
    "start_time": "2025-01-24T18:17:20.720Z"
   },
   {
    "duration": 7,
    "start_time": "2025-01-24T18:18:56.790Z"
   },
   {
    "duration": 1071,
    "start_time": "2025-01-24T18:18:59.573Z"
   },
   {
    "duration": 7,
    "start_time": "2025-01-24T18:19:07.868Z"
   },
   {
    "duration": 1024,
    "start_time": "2025-01-24T18:19:10.109Z"
   },
   {
    "duration": 4,
    "start_time": "2025-01-24T19:00:03.564Z"
   },
   {
    "duration": 124,
    "start_time": "2025-01-24T19:00:11.246Z"
   },
   {
    "duration": 14,
    "start_time": "2025-01-24T19:00:36.550Z"
   },
   {
    "duration": 16,
    "start_time": "2025-01-24T19:00:44.515Z"
   },
   {
    "duration": 4,
    "start_time": "2025-01-24T19:00:56.895Z"
   },
   {
    "duration": 23,
    "start_time": "2025-01-24T19:00:58.029Z"
   },
   {
    "duration": 271,
    "start_time": "2025-01-24T19:01:37.166Z"
   },
   {
    "duration": 9,
    "start_time": "2025-01-24T19:08:08.058Z"
   },
   {
    "duration": 8088,
    "start_time": "2025-01-24T19:08:13.160Z"
   },
   {
    "duration": 9,
    "start_time": "2025-01-24T19:14:24.602Z"
   },
   {
    "duration": 16,
    "start_time": "2025-01-24T19:14:36.608Z"
   },
   {
    "duration": 64,
    "start_time": "2025-01-24T19:14:39.295Z"
   },
   {
    "duration": 8183,
    "start_time": "2025-01-24T19:14:41.745Z"
   },
   {
    "duration": 16,
    "start_time": "2025-01-24T19:20:15.310Z"
   },
   {
    "duration": 62,
    "start_time": "2025-01-24T19:26:16.447Z"
   },
   {
    "duration": 57,
    "start_time": "2025-01-24T19:27:22.584Z"
   },
   {
    "duration": 60,
    "start_time": "2025-01-24T19:28:07.969Z"
   },
   {
    "duration": 8,
    "start_time": "2025-01-24T19:28:14.562Z"
   },
   {
    "duration": 59,
    "start_time": "2025-01-24T19:29:12.278Z"
   },
   {
    "duration": 37,
    "start_time": "2025-01-24T19:29:37.062Z"
   },
   {
    "duration": 16133,
    "start_time": "2025-01-24T19:32:22.676Z"
   },
   {
    "duration": 8010,
    "start_time": "2025-01-24T19:33:02.355Z"
   },
   {
    "duration": 11,
    "start_time": "2025-01-24T19:35:49.427Z"
   },
   {
    "duration": 8,
    "start_time": "2025-01-24T19:36:39.630Z"
   },
   {
    "duration": 7376,
    "start_time": "2025-01-24T19:36:41.748Z"
   },
   {
    "duration": 4,
    "start_time": "2025-01-24T19:37:11.757Z"
   },
   {
    "duration": 21,
    "start_time": "2025-01-24T19:37:14.303Z"
   },
   {
    "duration": 25,
    "start_time": "2025-01-24T19:38:35.484Z"
   },
   {
    "duration": 50,
    "start_time": "2025-01-24T19:43:49.404Z"
   },
   {
    "duration": 7881,
    "start_time": "2025-01-24T19:55:55.310Z"
   },
   {
    "duration": 3592,
    "start_time": "2025-01-24T19:56:03.193Z"
   },
   {
    "duration": 3148,
    "start_time": "2025-01-24T19:56:06.787Z"
   },
   {
    "duration": 540,
    "start_time": "2025-01-24T19:56:09.936Z"
   },
   {
    "duration": 4,
    "start_time": "2025-01-24T19:56:10.478Z"
   },
   {
    "duration": 444,
    "start_time": "2025-01-24T19:56:10.483Z"
   },
   {
    "duration": 900,
    "start_time": "2025-01-24T19:56:10.928Z"
   },
   {
    "duration": 3159,
    "start_time": "2025-01-24T19:56:11.830Z"
   },
   {
    "duration": 30,
    "start_time": "2025-01-24T19:56:14.991Z"
   },
   {
    "duration": 70,
    "start_time": "2025-01-24T19:56:15.023Z"
   },
   {
    "duration": 40,
    "start_time": "2025-01-24T19:56:15.095Z"
   },
   {
    "duration": 92,
    "start_time": "2025-01-24T19:56:15.137Z"
   },
   {
    "duration": 54,
    "start_time": "2025-01-24T19:56:15.231Z"
   },
   {
    "duration": 202,
    "start_time": "2025-01-24T19:56:15.288Z"
   },
   {
    "duration": 96,
    "start_time": "2025-01-24T19:56:15.492Z"
   },
   {
    "duration": 115,
    "start_time": "2025-01-24T19:56:15.589Z"
   },
   {
    "duration": 101,
    "start_time": "2025-01-24T19:56:15.714Z"
   },
   {
    "duration": 111,
    "start_time": "2025-01-24T19:56:15.817Z"
   },
   {
    "duration": 53,
    "start_time": "2025-01-24T19:56:15.930Z"
   },
   {
    "duration": 155,
    "start_time": "2025-01-24T19:56:15.985Z"
   },
   {
    "duration": 13,
    "start_time": "2025-01-24T19:56:16.141Z"
   },
   {
    "duration": 118,
    "start_time": "2025-01-24T19:56:16.155Z"
   },
   {
    "duration": 2,
    "start_time": "2025-01-24T19:56:16.275Z"
   },
   {
    "duration": 8,
    "start_time": "2025-01-24T19:56:16.279Z"
   },
   {
    "duration": 125,
    "start_time": "2025-01-24T19:56:16.289Z"
   },
   {
    "duration": 7247,
    "start_time": "2025-01-24T19:56:16.416Z"
   },
   {
    "duration": 205,
    "start_time": "2025-01-24T19:56:23.665Z"
   },
   {
    "duration": 24,
    "start_time": "2025-01-24T19:56:23.871Z"
   },
   {
    "duration": 22,
    "start_time": "2025-01-24T19:56:23.897Z"
   },
   {
    "duration": 58,
    "start_time": "2025-01-24T19:56:23.920Z"
   },
   {
    "duration": 46,
    "start_time": "2025-01-24T19:56:23.979Z"
   },
   {
    "duration": 114,
    "start_time": "2025-01-24T19:56:24.027Z"
   },
   {
    "duration": 235,
    "start_time": "2025-01-24T19:56:24.143Z"
   },
   {
    "duration": 11,
    "start_time": "2025-01-24T19:58:35.547Z"
   },
   {
    "duration": 7,
    "start_time": "2025-01-24T19:59:08.611Z"
   },
   {
    "duration": 37,
    "start_time": "2025-01-24T19:59:36.855Z"
   },
   {
    "duration": 35,
    "start_time": "2025-01-24T20:00:25.408Z"
   },
   {
    "duration": 5,
    "start_time": "2025-01-24T20:00:58.575Z"
   },
   {
    "duration": 11426,
    "start_time": "2025-01-24T20:02:19.143Z"
   },
   {
    "duration": 8411,
    "start_time": "2025-01-24T20:12:34.900Z"
   },
   {
    "duration": 10,
    "start_time": "2025-01-24T20:13:13.600Z"
   },
   {
    "duration": 6309,
    "start_time": "2025-01-24T20:15:47.472Z"
   },
   {
    "duration": 13,
    "start_time": "2025-01-24T20:26:01.565Z"
   },
   {
    "duration": 169,
    "start_time": "2025-01-24T20:29:56.044Z"
   },
   {
    "duration": 7302,
    "start_time": "2025-01-24T20:30:02.318Z"
   },
   {
    "duration": 8785,
    "start_time": "2025-01-24T20:31:33.644Z"
   },
   {
    "duration": 5180,
    "start_time": "2025-01-24T20:42:00.468Z"
   },
   {
    "duration": 12,
    "start_time": "2025-01-24T20:46:39.150Z"
   },
   {
    "duration": 9,
    "start_time": "2025-01-24T20:46:46.633Z"
   },
   {
    "duration": 28,
    "start_time": "2025-01-24T20:48:43.274Z"
   },
   {
    "duration": 13829,
    "start_time": "2025-01-25T11:43:05.657Z"
   },
   {
    "duration": 1676,
    "start_time": "2025-01-25T11:43:19.488Z"
   },
   {
    "duration": 1152,
    "start_time": "2025-01-25T11:43:21.165Z"
   },
   {
    "duration": 584,
    "start_time": "2025-01-25T11:43:22.320Z"
   },
   {
    "duration": 5,
    "start_time": "2025-01-25T11:43:22.905Z"
   },
   {
    "duration": 487,
    "start_time": "2025-01-25T11:43:22.911Z"
   },
   {
    "duration": 1023,
    "start_time": "2025-01-25T11:43:23.400Z"
   },
   {
    "duration": 4239,
    "start_time": "2025-01-25T11:43:24.425Z"
   },
   {
    "duration": 14,
    "start_time": "2025-01-25T11:43:28.666Z"
   },
   {
    "duration": 61,
    "start_time": "2025-01-25T11:43:28.683Z"
   },
   {
    "duration": 35,
    "start_time": "2025-01-25T11:43:28.746Z"
   },
   {
    "duration": 113,
    "start_time": "2025-01-25T11:43:28.783Z"
   },
   {
    "duration": 37,
    "start_time": "2025-01-25T11:43:28.898Z"
   },
   {
    "duration": 222,
    "start_time": "2025-01-25T11:43:28.937Z"
   },
   {
    "duration": 105,
    "start_time": "2025-01-25T11:43:29.161Z"
   },
   {
    "duration": 121,
    "start_time": "2025-01-25T11:43:29.268Z"
   },
   {
    "duration": 117,
    "start_time": "2025-01-25T11:43:29.391Z"
   },
   {
    "duration": 119,
    "start_time": "2025-01-25T11:43:29.509Z"
   },
   {
    "duration": 57,
    "start_time": "2025-01-25T11:43:29.630Z"
   },
   {
    "duration": 25,
    "start_time": "2025-01-25T11:43:29.688Z"
   },
   {
    "duration": 242,
    "start_time": "2025-01-25T11:43:29.715Z"
   },
   {
    "duration": 7992,
    "start_time": "2025-01-25T11:43:29.958Z"
   },
   {
    "duration": 237,
    "start_time": "2025-01-25T11:43:37.952Z"
   },
   {
    "duration": 31,
    "start_time": "2025-01-25T11:43:38.191Z"
   },
   {
    "duration": 11,
    "start_time": "2025-01-25T11:43:38.224Z"
   },
   {
    "duration": 9,
    "start_time": "2025-01-25T11:43:38.237Z"
   },
   {
    "duration": 106,
    "start_time": "2025-01-25T11:43:38.248Z"
   },
   {
    "duration": 21,
    "start_time": "2025-01-25T11:43:38.358Z"
   },
   {
    "duration": 78,
    "start_time": "2025-01-25T11:43:38.381Z"
   },
   {
    "duration": 8,
    "start_time": "2025-01-25T11:43:38.461Z"
   },
   {
    "duration": 8238,
    "start_time": "2025-01-25T11:43:38.470Z"
   },
   {
    "duration": 9271,
    "start_time": "2025-01-25T11:43:46.710Z"
   },
   {
    "duration": 37,
    "start_time": "2025-01-25T11:43:55.983Z"
   },
   {
    "duration": 5542,
    "start_time": "2025-01-25T11:43:56.022Z"
   },
   {
    "duration": 44,
    "start_time": "2025-01-25T11:44:01.566Z"
   },
   {
    "duration": 146,
    "start_time": "2025-01-25T11:44:01.613Z"
   },
   {
    "duration": 0,
    "start_time": "2025-01-25T11:44:01.762Z"
   },
   {
    "duration": 59,
    "start_time": "2025-01-25T11:44:18.740Z"
   },
   {
    "duration": 78,
    "start_time": "2025-01-25T11:44:32.460Z"
   },
   {
    "duration": 32,
    "start_time": "2025-01-25T11:44:37.926Z"
   },
   {
    "duration": 8510,
    "start_time": "2025-01-25T11:54:39.804Z"
   },
   {
    "duration": 1436,
    "start_time": "2025-01-25T11:54:48.317Z"
   },
   {
    "duration": 1259,
    "start_time": "2025-01-25T11:54:49.755Z"
   },
   {
    "duration": 586,
    "start_time": "2025-01-25T11:54:51.015Z"
   },
   {
    "duration": 5,
    "start_time": "2025-01-25T11:54:51.607Z"
   },
   {
    "duration": 524,
    "start_time": "2025-01-25T11:54:51.613Z"
   },
   {
    "duration": 1026,
    "start_time": "2025-01-25T11:54:52.139Z"
   },
   {
    "duration": 3456,
    "start_time": "2025-01-25T11:54:53.167Z"
   },
   {
    "duration": 13,
    "start_time": "2025-01-25T11:54:56.625Z"
   },
   {
    "duration": 68,
    "start_time": "2025-01-25T11:54:56.640Z"
   },
   {
    "duration": 38,
    "start_time": "2025-01-25T11:54:56.710Z"
   },
   {
    "duration": 112,
    "start_time": "2025-01-25T11:54:56.750Z"
   },
   {
    "duration": 23,
    "start_time": "2025-01-25T11:54:56.864Z"
   },
   {
    "duration": 219,
    "start_time": "2025-01-25T11:54:56.890Z"
   },
   {
    "duration": 100,
    "start_time": "2025-01-25T11:54:57.111Z"
   },
   {
    "duration": 120,
    "start_time": "2025-01-25T11:54:57.213Z"
   },
   {
    "duration": 117,
    "start_time": "2025-01-25T11:54:57.334Z"
   },
   {
    "duration": 115,
    "start_time": "2025-01-25T11:54:57.453Z"
   },
   {
    "duration": 71,
    "start_time": "2025-01-25T11:54:57.570Z"
   },
   {
    "duration": 7,
    "start_time": "2025-01-25T11:54:57.643Z"
   },
   {
    "duration": 144,
    "start_time": "2025-01-25T11:54:57.652Z"
   },
   {
    "duration": 7872,
    "start_time": "2025-01-25T11:54:57.797Z"
   },
   {
    "duration": 232,
    "start_time": "2025-01-25T11:55:05.670Z"
   },
   {
    "duration": 24,
    "start_time": "2025-01-25T11:55:05.908Z"
   },
   {
    "duration": 28,
    "start_time": "2025-01-25T11:55:05.933Z"
   },
   {
    "duration": 27,
    "start_time": "2025-01-25T11:55:05.962Z"
   },
   {
    "duration": 75,
    "start_time": "2025-01-25T11:55:05.991Z"
   },
   {
    "duration": 22,
    "start_time": "2025-01-25T11:55:06.068Z"
   },
   {
    "duration": 70,
    "start_time": "2025-01-25T11:55:06.092Z"
   },
   {
    "duration": 8,
    "start_time": "2025-01-25T11:55:06.164Z"
   },
   {
    "duration": 8355,
    "start_time": "2025-01-25T11:55:06.173Z"
   },
   {
    "duration": 9383,
    "start_time": "2025-01-25T11:55:14.530Z"
   },
   {
    "duration": 22,
    "start_time": "2025-01-25T11:55:23.915Z"
   },
   {
    "duration": 5519,
    "start_time": "2025-01-25T11:55:23.938Z"
   },
   {
    "duration": 20,
    "start_time": "2025-01-25T11:55:29.459Z"
   },
   {
    "duration": 27,
    "start_time": "2025-01-25T11:55:29.481Z"
   },
   {
    "duration": 160,
    "start_time": "2025-01-25T11:55:29.510Z"
   },
   {
    "duration": 59,
    "start_time": "2025-01-25T11:55:29.672Z"
   },
   {
    "duration": 532374,
    "start_time": "2025-01-25T11:55:29.733Z"
   },
   {
    "duration": 3,
    "start_time": "2025-01-25T13:58:17.938Z"
   },
   {
    "duration": 4,
    "start_time": "2025-01-25T13:58:28.660Z"
   },
   {
    "duration": 123,
    "start_time": "2025-01-25T13:58:38.728Z"
   },
   {
    "duration": 4,
    "start_time": "2025-01-25T13:58:45.179Z"
   },
   {
    "duration": 13,
    "start_time": "2025-01-25T13:59:24.752Z"
   },
   {
    "duration": 4,
    "start_time": "2025-01-25T13:59:35.401Z"
   },
   {
    "duration": 3,
    "start_time": "2025-01-25T15:54:44.799Z"
   },
   {
    "duration": 10,
    "start_time": "2025-01-25T15:54:47.469Z"
   },
   {
    "duration": 28,
    "start_time": "2025-01-25T15:54:56.409Z"
   },
   {
    "duration": 4,
    "start_time": "2025-01-25T15:55:43.809Z"
   },
   {
    "duration": 27,
    "start_time": "2025-01-25T15:55:47.676Z"
   },
   {
    "duration": 117,
    "start_time": "2025-01-25T16:17:22.236Z"
   },
   {
    "duration": 5,
    "start_time": "2025-01-25T16:18:08.294Z"
   },
   {
    "duration": 104,
    "start_time": "2025-01-25T16:18:16.454Z"
   },
   {
    "duration": 38,
    "start_time": "2025-01-25T16:19:16.287Z"
   },
   {
    "duration": 86,
    "start_time": "2025-01-25T16:19:23.892Z"
   },
   {
    "duration": 88,
    "start_time": "2025-01-25T16:19:42.492Z"
   },
   {
    "duration": 121,
    "start_time": "2025-01-25T16:20:25.845Z"
   },
   {
    "duration": 3,
    "start_time": "2025-01-25T16:23:18.295Z"
   },
   {
    "duration": 100,
    "start_time": "2025-01-25T16:23:19.499Z"
   },
   {
    "duration": 4,
    "start_time": "2025-01-25T16:24:44.914Z"
   },
   {
    "duration": 112,
    "start_time": "2025-01-25T16:24:47.369Z"
   },
   {
    "duration": 13,
    "start_time": "2025-01-25T16:25:23.510Z"
   },
   {
    "duration": 123,
    "start_time": "2025-01-25T16:25:25.213Z"
   },
   {
    "duration": 12,
    "start_time": "2025-01-25T16:25:59.493Z"
   },
   {
    "duration": 3,
    "start_time": "2025-01-25T16:26:17.721Z"
   },
   {
    "duration": 94,
    "start_time": "2025-01-25T16:26:19.856Z"
   },
   {
    "duration": 3,
    "start_time": "2025-01-25T16:27:35.791Z"
   },
   {
    "duration": 92,
    "start_time": "2025-01-25T16:27:37.050Z"
   },
   {
    "duration": 3,
    "start_time": "2025-01-25T16:28:38.579Z"
   },
   {
    "duration": 44,
    "start_time": "2025-01-25T16:28:40.479Z"
   },
   {
    "duration": 90,
    "start_time": "2025-01-25T16:28:55.152Z"
   },
   {
    "duration": 92,
    "start_time": "2025-01-25T16:29:47.125Z"
   },
   {
    "duration": 4,
    "start_time": "2025-01-25T16:30:23.723Z"
   },
   {
    "duration": 2262,
    "start_time": "2025-01-25T16:30:25.462Z"
   },
   {
    "duration": 3,
    "start_time": "2025-01-25T16:30:57.869Z"
   },
   {
    "duration": 2344,
    "start_time": "2025-01-25T16:30:59.451Z"
   },
   {
    "duration": 17,
    "start_time": "2025-01-25T16:40:03.375Z"
   },
   {
    "duration": 5,
    "start_time": "2025-01-25T16:40:12.526Z"
   },
   {
    "duration": 296,
    "start_time": "2025-01-25T16:40:50.771Z"
   },
   {
    "duration": 3,
    "start_time": "2025-01-25T16:40:54.555Z"
   },
   {
    "duration": 426917,
    "start_time": "2025-01-25T16:41:02.806Z"
   },
   {
    "duration": 3,
    "start_time": "2025-01-25T16:50:41.943Z"
   },
   {
    "duration": 353287,
    "start_time": "2025-01-25T16:51:01.124Z"
   },
   {
    "duration": 3,
    "start_time": "2025-01-25T18:22:58.217Z"
   },
   {
    "duration": 359982,
    "start_time": "2025-01-25T18:23:00.237Z"
   },
   {
    "duration": 98,
    "start_time": "2025-01-25T19:19:55.154Z"
   },
   {
    "duration": 9,
    "start_time": "2025-01-25T19:20:12.336Z"
   },
   {
    "duration": 4,
    "start_time": "2025-01-25T19:50:05.089Z"
   },
   {
    "duration": 8370,
    "start_time": "2025-01-25T20:56:28.078Z"
   },
   {
    "duration": 1420,
    "start_time": "2025-01-25T20:56:36.450Z"
   },
   {
    "duration": 1226,
    "start_time": "2025-01-25T20:56:37.872Z"
   },
   {
    "duration": 594,
    "start_time": "2025-01-25T20:56:39.100Z"
   },
   {
    "duration": 11,
    "start_time": "2025-01-25T20:56:39.697Z"
   },
   {
    "duration": 499,
    "start_time": "2025-01-25T20:56:39.710Z"
   },
   {
    "duration": 1103,
    "start_time": "2025-01-25T20:56:40.210Z"
   },
   {
    "duration": 3419,
    "start_time": "2025-01-25T20:56:41.315Z"
   },
   {
    "duration": 13,
    "start_time": "2025-01-25T20:56:44.736Z"
   },
   {
    "duration": 65,
    "start_time": "2025-01-25T20:56:44.750Z"
   },
   {
    "duration": 39,
    "start_time": "2025-01-25T20:56:44.816Z"
   },
   {
    "duration": 107,
    "start_time": "2025-01-25T20:56:44.856Z"
   },
   {
    "duration": 10,
    "start_time": "2025-01-25T20:56:44.964Z"
   },
   {
    "duration": 253,
    "start_time": "2025-01-25T20:56:44.977Z"
   },
   {
    "duration": 106,
    "start_time": "2025-01-25T20:56:45.232Z"
   },
   {
    "duration": 134,
    "start_time": "2025-01-25T20:56:45.340Z"
   },
   {
    "duration": 117,
    "start_time": "2025-01-25T20:56:45.476Z"
   },
   {
    "duration": 119,
    "start_time": "2025-01-25T20:56:45.595Z"
   },
   {
    "duration": 62,
    "start_time": "2025-01-25T20:56:45.717Z"
   },
   {
    "duration": 10,
    "start_time": "2025-01-25T20:56:45.780Z"
   },
   {
    "duration": 125,
    "start_time": "2025-01-25T20:56:45.809Z"
   },
   {
    "duration": 7641,
    "start_time": "2025-01-25T20:56:45.936Z"
   },
   {
    "duration": 232,
    "start_time": "2025-01-25T20:56:53.578Z"
   },
   {
    "duration": 23,
    "start_time": "2025-01-25T20:56:53.812Z"
   },
   {
    "duration": 13,
    "start_time": "2025-01-25T20:56:53.837Z"
   },
   {
    "duration": 27,
    "start_time": "2025-01-25T20:56:53.851Z"
   },
   {
    "duration": 81,
    "start_time": "2025-01-25T20:56:53.880Z"
   },
   {
    "duration": 23,
    "start_time": "2025-01-25T20:56:53.963Z"
   },
   {
    "duration": 76,
    "start_time": "2025-01-25T20:56:53.988Z"
   },
   {
    "duration": 7,
    "start_time": "2025-01-25T20:56:54.066Z"
   },
   {
    "duration": 8194,
    "start_time": "2025-01-25T20:56:54.075Z"
   },
   {
    "duration": 9126,
    "start_time": "2025-01-25T20:57:02.271Z"
   },
   {
    "duration": 26,
    "start_time": "2025-01-25T20:57:11.399Z"
   },
   {
    "duration": 5305,
    "start_time": "2025-01-25T20:57:11.427Z"
   },
   {
    "duration": 22,
    "start_time": "2025-01-25T20:57:16.734Z"
   },
   {
    "duration": 4,
    "start_time": "2025-01-25T20:57:16.757Z"
   },
   {
    "duration": 154,
    "start_time": "2025-01-25T20:57:16.762Z"
   },
   {
    "duration": 2,
    "start_time": "2025-01-25T20:57:16.918Z"
   },
   {
    "duration": 324,
    "start_time": "2025-01-25T20:57:16.922Z"
   },
   {
    "duration": 3,
    "start_time": "2025-01-25T20:57:17.248Z"
   },
   {
    "duration": 347297,
    "start_time": "2025-01-25T20:57:17.255Z"
   },
   {
    "duration": 11,
    "start_time": "2025-01-25T21:03:04.554Z"
   },
   {
    "duration": 0,
    "start_time": "2025-01-25T21:03:04.566Z"
   },
   {
    "duration": 0,
    "start_time": "2025-01-25T21:03:04.568Z"
   },
   {
    "duration": 0,
    "start_time": "2025-01-25T21:03:04.569Z"
   },
   {
    "duration": 6,
    "start_time": "2025-01-25T21:12:25.796Z"
   },
   {
    "duration": 8390,
    "start_time": "2025-01-25T21:14:06.115Z"
   },
   {
    "duration": 1464,
    "start_time": "2025-01-25T21:14:14.508Z"
   },
   {
    "duration": 1140,
    "start_time": "2025-01-25T21:14:15.975Z"
   },
   {
    "duration": 597,
    "start_time": "2025-01-25T21:14:17.117Z"
   },
   {
    "duration": 5,
    "start_time": "2025-01-25T21:14:17.716Z"
   },
   {
    "duration": 513,
    "start_time": "2025-01-25T21:14:17.723Z"
   },
   {
    "duration": 1059,
    "start_time": "2025-01-25T21:14:18.238Z"
   },
   {
    "duration": 3561,
    "start_time": "2025-01-25T21:14:19.299Z"
   },
   {
    "duration": 14,
    "start_time": "2025-01-25T21:14:22.863Z"
   },
   {
    "duration": 62,
    "start_time": "2025-01-25T21:14:22.879Z"
   },
   {
    "duration": 65,
    "start_time": "2025-01-25T21:14:22.943Z"
   },
   {
    "duration": 100,
    "start_time": "2025-01-25T21:14:23.010Z"
   },
   {
    "duration": 12,
    "start_time": "2025-01-25T21:14:23.112Z"
   },
   {
    "duration": 251,
    "start_time": "2025-01-25T21:14:23.129Z"
   },
   {
    "duration": 112,
    "start_time": "2025-01-25T21:14:23.382Z"
   },
   {
    "duration": 158,
    "start_time": "2025-01-25T21:14:23.496Z"
   },
   {
    "duration": 143,
    "start_time": "2025-01-25T21:14:23.659Z"
   },
   {
    "duration": 122,
    "start_time": "2025-01-25T21:14:23.806Z"
   },
   {
    "duration": 84,
    "start_time": "2025-01-25T21:14:23.930Z"
   },
   {
    "duration": 9,
    "start_time": "2025-01-25T21:14:24.016Z"
   },
   {
    "duration": 125,
    "start_time": "2025-01-25T21:14:24.026Z"
   },
   {
    "duration": 7876,
    "start_time": "2025-01-25T21:14:24.152Z"
   },
   {
    "duration": 229,
    "start_time": "2025-01-25T21:14:32.029Z"
   },
   {
    "duration": 25,
    "start_time": "2025-01-25T21:14:32.260Z"
   },
   {
    "duration": 13,
    "start_time": "2025-01-25T21:14:32.307Z"
   },
   {
    "duration": 12,
    "start_time": "2025-01-25T21:14:32.322Z"
   },
   {
    "duration": 94,
    "start_time": "2025-01-25T21:14:32.337Z"
   },
   {
    "duration": 24,
    "start_time": "2025-01-25T21:14:32.433Z"
   },
   {
    "duration": 82,
    "start_time": "2025-01-25T21:14:32.460Z"
   },
   {
    "duration": 8,
    "start_time": "2025-01-25T21:14:32.544Z"
   },
   {
    "duration": 8283,
    "start_time": "2025-01-25T21:14:32.554Z"
   },
   {
    "duration": 9273,
    "start_time": "2025-01-25T21:14:40.839Z"
   },
   {
    "duration": 21,
    "start_time": "2025-01-25T21:14:50.114Z"
   },
   {
    "duration": 5448,
    "start_time": "2025-01-25T21:14:50.137Z"
   },
   {
    "duration": 34,
    "start_time": "2025-01-25T21:14:55.587Z"
   },
   {
    "duration": 4,
    "start_time": "2025-01-25T21:14:55.622Z"
   },
   {
    "duration": 179,
    "start_time": "2025-01-25T21:14:55.628Z"
   },
   {
    "duration": 3,
    "start_time": "2025-01-25T21:14:55.809Z"
   },
   {
    "duration": 332,
    "start_time": "2025-01-25T21:14:55.813Z"
   },
   {
    "duration": 4,
    "start_time": "2025-01-25T21:14:56.146Z"
   },
   {
    "duration": 504472,
    "start_time": "2025-01-25T21:14:56.153Z"
   },
   {
    "duration": 82,
    "start_time": "2025-01-25T21:23:20.627Z"
   },
   {
    "duration": 0,
    "start_time": "2025-01-25T21:23:20.712Z"
   },
   {
    "duration": 0,
    "start_time": "2025-01-25T21:23:20.714Z"
   },
   {
    "duration": 0,
    "start_time": "2025-01-25T21:23:20.715Z"
   },
   {
    "duration": 8,
    "start_time": "2025-01-25T21:59:58.066Z"
   },
   {
    "duration": 16,
    "start_time": "2025-01-25T22:00:10.641Z"
   },
   {
    "duration": 9,
    "start_time": "2025-01-25T22:00:15.189Z"
   },
   {
    "duration": 1553,
    "start_time": "2025-01-25T22:00:25.990Z"
   },
   {
    "duration": 9,
    "start_time": "2025-01-25T22:00:36.325Z"
   },
   {
    "duration": 9,
    "start_time": "2025-01-25T22:00:59.455Z"
   },
   {
    "duration": 8,
    "start_time": "2025-01-25T22:03:34.425Z"
   },
   {
    "duration": 15,
    "start_time": "2025-01-25T22:03:51.203Z"
   },
   {
    "duration": 94,
    "start_time": "2025-01-25T22:04:12.719Z"
   },
   {
    "duration": 17,
    "start_time": "2025-01-25T22:04:23.170Z"
   },
   {
    "duration": 87,
    "start_time": "2025-01-25T22:04:30.575Z"
   },
   {
    "duration": 9,
    "start_time": "2025-01-25T22:04:32.824Z"
   },
   {
    "duration": 8,
    "start_time": "2025-01-25T22:06:00.200Z"
   },
   {
    "duration": 353314,
    "start_time": "2025-01-25T22:10:09.701Z"
   },
   {
    "duration": 7,
    "start_time": "2025-01-25T22:21:28.156Z"
   },
   {
    "duration": 10,
    "start_time": "2025-01-25T22:21:52.624Z"
   },
   {
    "duration": 6,
    "start_time": "2025-01-25T22:22:00.290Z"
   },
   {
    "duration": 26,
    "start_time": "2025-01-25T22:22:01.683Z"
   },
   {
    "duration": 5,
    "start_time": "2025-01-25T22:22:29.912Z"
   },
   {
    "duration": 1476,
    "start_time": "2025-01-25T22:22:32.147Z"
   },
   {
    "duration": 6,
    "start_time": "2025-01-25T22:22:58.003Z"
   },
   {
    "duration": 1388,
    "start_time": "2025-01-25T22:23:00.533Z"
   },
   {
    "duration": 13,
    "start_time": "2025-01-25T22:23:12.445Z"
   },
   {
    "duration": 11,
    "start_time": "2025-01-25T22:24:39.540Z"
   },
   {
    "duration": 1421,
    "start_time": "2025-01-25T22:25:03.604Z"
   },
   {
    "duration": 3,
    "start_time": "2025-01-25T22:25:07.737Z"
   },
   {
    "duration": 18,
    "start_time": "2025-01-25T22:25:09.829Z"
   },
   {
    "duration": 3,
    "start_time": "2025-01-25T22:26:06.695Z"
   },
   {
    "duration": 5,
    "start_time": "2025-01-25T22:26:44.458Z"
   },
   {
    "duration": 11,
    "start_time": "2025-01-25T22:26:56.067Z"
   },
   {
    "duration": 10,
    "start_time": "2025-01-25T22:27:19.099Z"
   },
   {
    "duration": 4,
    "start_time": "2025-01-25T22:28:48.107Z"
   },
   {
    "duration": 8426,
    "start_time": "2025-01-25T23:04:38.976Z"
   },
   {
    "duration": 1463,
    "start_time": "2025-01-25T23:04:47.405Z"
   },
   {
    "duration": 1136,
    "start_time": "2025-01-25T23:04:48.872Z"
   },
   {
    "duration": 610,
    "start_time": "2025-01-25T23:04:50.010Z"
   },
   {
    "duration": 5,
    "start_time": "2025-01-25T23:04:50.622Z"
   },
   {
    "duration": 487,
    "start_time": "2025-01-25T23:04:50.628Z"
   },
   {
    "duration": 1083,
    "start_time": "2025-01-25T23:04:51.117Z"
   },
   {
    "duration": 3468,
    "start_time": "2025-01-25T23:04:52.202Z"
   },
   {
    "duration": 14,
    "start_time": "2025-01-25T23:04:55.672Z"
   },
   {
    "duration": 61,
    "start_time": "2025-01-25T23:04:55.688Z"
   },
   {
    "duration": 40,
    "start_time": "2025-01-25T23:04:55.751Z"
   },
   {
    "duration": 116,
    "start_time": "2025-01-25T23:04:55.793Z"
   },
   {
    "duration": 11,
    "start_time": "2025-01-25T23:04:55.911Z"
   },
   {
    "duration": 225,
    "start_time": "2025-01-25T23:04:55.923Z"
   },
   {
    "duration": 108,
    "start_time": "2025-01-25T23:04:56.150Z"
   },
   {
    "duration": 120,
    "start_time": "2025-01-25T23:04:56.260Z"
   },
   {
    "duration": 114,
    "start_time": "2025-01-25T23:04:56.381Z"
   },
   {
    "duration": 128,
    "start_time": "2025-01-25T23:04:56.497Z"
   },
   {
    "duration": 70,
    "start_time": "2025-01-25T23:04:56.627Z"
   },
   {
    "duration": 13,
    "start_time": "2025-01-25T23:04:56.699Z"
   },
   {
    "duration": 137,
    "start_time": "2025-01-25T23:04:56.713Z"
   },
   {
    "duration": 7836,
    "start_time": "2025-01-25T23:04:56.852Z"
   },
   {
    "duration": 231,
    "start_time": "2025-01-25T23:05:04.690Z"
   },
   {
    "duration": 24,
    "start_time": "2025-01-25T23:05:04.923Z"
   },
   {
    "duration": 79,
    "start_time": "2025-01-25T23:05:04.949Z"
   },
   {
    "duration": 14,
    "start_time": "2025-01-25T23:05:05.030Z"
   },
   {
    "duration": 80,
    "start_time": "2025-01-25T23:05:05.049Z"
   },
   {
    "duration": 23,
    "start_time": "2025-01-25T23:05:05.131Z"
   },
   {
    "duration": 76,
    "start_time": "2025-01-25T23:05:05.156Z"
   },
   {
    "duration": 7,
    "start_time": "2025-01-25T23:05:05.234Z"
   },
   {
    "duration": 8335,
    "start_time": "2025-01-25T23:05:05.243Z"
   },
   {
    "duration": 9342,
    "start_time": "2025-01-25T23:05:13.580Z"
   },
   {
    "duration": 22,
    "start_time": "2025-01-25T23:05:22.924Z"
   },
   {
    "duration": 5462,
    "start_time": "2025-01-25T23:05:22.948Z"
   },
   {
    "duration": 22,
    "start_time": "2025-01-25T23:05:28.412Z"
   },
   {
    "duration": 4,
    "start_time": "2025-01-25T23:05:28.435Z"
   },
   {
    "duration": 156,
    "start_time": "2025-01-25T23:05:28.440Z"
   },
   {
    "duration": 3,
    "start_time": "2025-01-25T23:05:28.607Z"
   },
   {
    "duration": 323,
    "start_time": "2025-01-25T23:05:28.612Z"
   },
   {
    "duration": 3,
    "start_time": "2025-01-25T23:05:28.937Z"
   },
   {
    "duration": 359067,
    "start_time": "2025-01-25T23:05:28.942Z"
   },
   {
    "duration": 6,
    "start_time": "2025-01-25T23:11:28.011Z"
   },
   {
    "duration": 1093,
    "start_time": "2025-01-25T23:11:28.018Z"
   },
   {
    "duration": 3,
    "start_time": "2025-01-25T23:11:29.113Z"
   },
   {
    "duration": 318667,
    "start_time": "2025-01-25T23:11:29.117Z"
   },
   {
    "duration": 98,
    "start_time": "2025-01-25T23:16:47.785Z"
   },
   {
    "duration": 62,
    "start_time": "2025-01-25T23:16:47.885Z"
   },
   {
    "duration": 28313,
    "start_time": "2025-01-25T23:16:47.949Z"
   },
   {
    "duration": 101,
    "start_time": "2025-01-25T23:17:16.264Z"
   },
   {
    "duration": 27532,
    "start_time": "2025-01-25T23:19:09.991Z"
   },
   {
    "duration": 109,
    "start_time": "2025-01-25T23:19:37.525Z"
   },
   {
    "duration": 79,
    "start_time": "2025-01-25T23:22:45.591Z"
   },
   {
    "duration": 86,
    "start_time": "2025-01-25T23:50:09.079Z"
   },
   {
    "duration": 10,
    "start_time": "2025-01-25T23:50:37.346Z"
   },
   {
    "duration": 48,
    "start_time": "2025-01-25T23:50:50.027Z"
   },
   {
    "duration": 8,
    "start_time": "2025-01-25T23:50:51.477Z"
   },
   {
    "duration": 8,
    "start_time": "2025-01-25T23:53:06.168Z"
   },
   {
    "duration": 8,
    "start_time": "2025-01-25T23:53:27.284Z"
   },
   {
    "duration": 8,
    "start_time": "2025-01-25T23:53:48.079Z"
   },
   {
    "duration": 33,
    "start_time": "2025-01-25T23:54:40.539Z"
   },
   {
    "duration": 6,
    "start_time": "2025-01-25T23:55:49.736Z"
   },
   {
    "duration": 12,
    "start_time": "2025-01-26T00:05:16.010Z"
   },
   {
    "duration": 462,
    "start_time": "2025-01-26T00:06:03.572Z"
   },
   {
    "duration": 6,
    "start_time": "2025-01-26T00:06:18.658Z"
   },
   {
    "duration": 6,
    "start_time": "2025-01-26T00:06:31.705Z"
   },
   {
    "duration": 91,
    "start_time": "2025-01-26T00:06:51.948Z"
   },
   {
    "duration": 12,
    "start_time": "2025-01-26T00:07:02.506Z"
   },
   {
    "duration": 8862,
    "start_time": "2025-01-26T00:07:52.696Z"
   },
   {
    "duration": 4,
    "start_time": "2025-01-26T00:09:14.047Z"
   },
   {
    "duration": 121,
    "start_time": "2025-01-26T00:09:16.220Z"
   },
   {
    "duration": 79,
    "start_time": "2025-01-26T00:09:26.828Z"
   },
   {
    "duration": 8763,
    "start_time": "2025-01-26T00:10:03.172Z"
   },
   {
    "duration": 1418,
    "start_time": "2025-01-26T00:10:11.937Z"
   },
   {
    "duration": 1142,
    "start_time": "2025-01-26T00:10:13.356Z"
   },
   {
    "duration": 610,
    "start_time": "2025-01-26T00:10:14.509Z"
   },
   {
    "duration": 5,
    "start_time": "2025-01-26T00:10:15.122Z"
   },
   {
    "duration": 502,
    "start_time": "2025-01-26T00:10:15.129Z"
   },
   {
    "duration": 1068,
    "start_time": "2025-01-26T00:10:15.634Z"
   },
   {
    "duration": 3446,
    "start_time": "2025-01-26T00:10:16.708Z"
   },
   {
    "duration": 15,
    "start_time": "2025-01-26T00:10:20.157Z"
   },
   {
    "duration": 66,
    "start_time": "2025-01-26T00:10:20.174Z"
   },
   {
    "duration": 43,
    "start_time": "2025-01-26T00:10:20.242Z"
   },
   {
    "duration": 125,
    "start_time": "2025-01-26T00:10:20.286Z"
   },
   {
    "duration": 11,
    "start_time": "2025-01-26T00:10:20.413Z"
   },
   {
    "duration": 243,
    "start_time": "2025-01-26T00:10:20.429Z"
   },
   {
    "duration": 108,
    "start_time": "2025-01-26T00:10:20.673Z"
   },
   {
    "duration": 126,
    "start_time": "2025-01-26T00:10:20.783Z"
   },
   {
    "duration": 111,
    "start_time": "2025-01-26T00:10:20.910Z"
   },
   {
    "duration": 120,
    "start_time": "2025-01-26T00:10:21.022Z"
   },
   {
    "duration": 86,
    "start_time": "2025-01-26T00:10:21.144Z"
   },
   {
    "duration": 9,
    "start_time": "2025-01-26T00:10:21.232Z"
   },
   {
    "duration": 160,
    "start_time": "2025-01-26T00:10:21.242Z"
   },
   {
    "duration": 7683,
    "start_time": "2025-01-26T00:10:21.408Z"
   },
   {
    "duration": 228,
    "start_time": "2025-01-26T00:10:29.093Z"
   },
   {
    "duration": 24,
    "start_time": "2025-01-26T00:10:29.323Z"
   },
   {
    "duration": 12,
    "start_time": "2025-01-26T00:10:29.348Z"
   },
   {
    "duration": 11,
    "start_time": "2025-01-26T00:10:29.361Z"
   },
   {
    "duration": 97,
    "start_time": "2025-01-26T00:10:29.373Z"
   },
   {
    "duration": 41,
    "start_time": "2025-01-26T00:10:29.471Z"
   },
   {
    "duration": 57,
    "start_time": "2025-01-26T00:10:29.514Z"
   },
   {
    "duration": 8387,
    "start_time": "2025-01-26T00:10:29.573Z"
   },
   {
    "duration": 9297,
    "start_time": "2025-01-26T00:10:37.962Z"
   },
   {
    "duration": 23,
    "start_time": "2025-01-26T00:10:47.260Z"
   },
   {
    "duration": 5371,
    "start_time": "2025-01-26T00:10:47.285Z"
   },
   {
    "duration": 4,
    "start_time": "2025-01-26T00:10:52.658Z"
   },
   {
    "duration": 148,
    "start_time": "2025-01-26T00:10:52.663Z"
   },
   {
    "duration": 3,
    "start_time": "2025-01-26T00:10:52.813Z"
   },
   {
    "duration": 86,
    "start_time": "2025-01-26T00:11:08.245Z"
   },
   {
    "duration": 82,
    "start_time": "2025-01-26T00:11:35.247Z"
   },
   {
    "duration": 37,
    "start_time": "2025-01-26T00:13:25.126Z"
   },
   {
    "duration": 7,
    "start_time": "2025-01-26T00:14:16.141Z"
   },
   {
    "duration": 8401,
    "start_time": "2025-01-26T00:16:06.655Z"
   },
   {
    "duration": 1405,
    "start_time": "2025-01-26T00:16:15.059Z"
   },
   {
    "duration": 1143,
    "start_time": "2025-01-26T00:16:16.466Z"
   },
   {
    "duration": 611,
    "start_time": "2025-01-26T00:16:17.611Z"
   },
   {
    "duration": 4,
    "start_time": "2025-01-26T00:16:18.225Z"
   },
   {
    "duration": 491,
    "start_time": "2025-01-26T00:16:18.231Z"
   },
   {
    "duration": 1034,
    "start_time": "2025-01-26T00:16:18.724Z"
   },
   {
    "duration": 3419,
    "start_time": "2025-01-26T00:16:19.760Z"
   },
   {
    "duration": 30,
    "start_time": "2025-01-26T00:16:23.181Z"
   },
   {
    "duration": 53,
    "start_time": "2025-01-26T00:16:23.213Z"
   },
   {
    "duration": 63,
    "start_time": "2025-01-26T00:16:23.268Z"
   },
   {
    "duration": 104,
    "start_time": "2025-01-26T00:16:23.333Z"
   },
   {
    "duration": 12,
    "start_time": "2025-01-26T00:16:23.438Z"
   },
   {
    "duration": 262,
    "start_time": "2025-01-26T00:16:23.453Z"
   },
   {
    "duration": 104,
    "start_time": "2025-01-26T00:16:23.717Z"
   },
   {
    "duration": 121,
    "start_time": "2025-01-26T00:16:23.823Z"
   },
   {
    "duration": 113,
    "start_time": "2025-01-26T00:16:23.945Z"
   },
   {
    "duration": 113,
    "start_time": "2025-01-26T00:16:24.060Z"
   },
   {
    "duration": 76,
    "start_time": "2025-01-26T00:16:24.174Z"
   },
   {
    "duration": 6,
    "start_time": "2025-01-26T00:16:24.252Z"
   },
   {
    "duration": 123,
    "start_time": "2025-01-26T00:16:24.260Z"
   },
   {
    "duration": 7711,
    "start_time": "2025-01-26T00:16:24.385Z"
   },
   {
    "duration": 236,
    "start_time": "2025-01-26T00:16:32.098Z"
   },
   {
    "duration": 24,
    "start_time": "2025-01-26T00:16:32.336Z"
   },
   {
    "duration": 23,
    "start_time": "2025-01-26T00:16:32.362Z"
   },
   {
    "duration": 27,
    "start_time": "2025-01-26T00:16:32.387Z"
   },
   {
    "duration": 73,
    "start_time": "2025-01-26T00:16:32.415Z"
   },
   {
    "duration": 32,
    "start_time": "2025-01-26T00:16:32.490Z"
   },
   {
    "duration": 83,
    "start_time": "2025-01-26T00:16:32.524Z"
   },
   {
    "duration": 3,
    "start_time": "2025-01-26T00:16:32.609Z"
   },
   {
    "duration": 27,
    "start_time": "2025-01-26T00:16:32.615Z"
   },
   {
    "duration": 40,
    "start_time": "2025-01-26T00:18:10.460Z"
   },
   {
    "duration": 27,
    "start_time": "2025-01-26T00:18:24.609Z"
   },
   {
    "duration": 6,
    "start_time": "2025-01-26T00:18:49.980Z"
   },
   {
    "duration": 36,
    "start_time": "2025-01-26T00:20:09.117Z"
   },
   {
    "duration": 6,
    "start_time": "2025-01-26T00:22:34.627Z"
   },
   {
    "duration": 4,
    "start_time": "2025-01-26T00:23:05.487Z"
   },
   {
    "duration": 8386,
    "start_time": "2025-01-26T00:24:47.737Z"
   },
   {
    "duration": 1940,
    "start_time": "2025-01-26T00:24:56.126Z"
   },
   {
    "duration": 1137,
    "start_time": "2025-01-26T00:24:58.068Z"
   },
   {
    "duration": 608,
    "start_time": "2025-01-26T00:24:59.207Z"
   },
   {
    "duration": 4,
    "start_time": "2025-01-26T00:24:59.818Z"
   },
   {
    "duration": 515,
    "start_time": "2025-01-26T00:24:59.824Z"
   },
   {
    "duration": 1112,
    "start_time": "2025-01-26T00:25:00.341Z"
   },
   {
    "duration": 3490,
    "start_time": "2025-01-26T00:25:01.454Z"
   },
   {
    "duration": 15,
    "start_time": "2025-01-26T00:25:04.945Z"
   },
   {
    "duration": 81,
    "start_time": "2025-01-26T00:25:04.962Z"
   },
   {
    "duration": 44,
    "start_time": "2025-01-26T00:25:05.045Z"
   },
   {
    "duration": 120,
    "start_time": "2025-01-26T00:25:05.090Z"
   },
   {
    "duration": 11,
    "start_time": "2025-01-26T00:25:05.212Z"
   },
   {
    "duration": 255,
    "start_time": "2025-01-26T00:25:05.226Z"
   },
   {
    "duration": 110,
    "start_time": "2025-01-26T00:25:05.482Z"
   },
   {
    "duration": 128,
    "start_time": "2025-01-26T00:25:05.594Z"
   },
   {
    "duration": 111,
    "start_time": "2025-01-26T00:25:05.724Z"
   },
   {
    "duration": 115,
    "start_time": "2025-01-26T00:25:05.836Z"
   },
   {
    "duration": 75,
    "start_time": "2025-01-26T00:25:05.953Z"
   },
   {
    "duration": 8,
    "start_time": "2025-01-26T00:25:06.030Z"
   },
   {
    "duration": 218,
    "start_time": "2025-01-26T00:25:06.040Z"
   },
   {
    "duration": 7804,
    "start_time": "2025-01-26T00:25:06.260Z"
   },
   {
    "duration": 231,
    "start_time": "2025-01-26T00:25:14.066Z"
   },
   {
    "duration": 31,
    "start_time": "2025-01-26T00:25:14.299Z"
   },
   {
    "duration": 12,
    "start_time": "2025-01-26T00:25:14.332Z"
   },
   {
    "duration": 10,
    "start_time": "2025-01-26T00:25:14.346Z"
   },
   {
    "duration": 93,
    "start_time": "2025-01-26T00:25:14.358Z"
   },
   {
    "duration": 23,
    "start_time": "2025-01-26T00:25:14.453Z"
   },
   {
    "duration": 79,
    "start_time": "2025-01-26T00:25:14.478Z"
   },
   {
    "duration": 49,
    "start_time": "2025-01-26T00:25:23.663Z"
   },
   {
    "duration": 9844,
    "start_time": "2025-01-26T00:25:25.810Z"
   },
   {
    "duration": 118,
    "start_time": "2025-01-26T00:25:35.656Z"
   },
   {
    "duration": 110,
    "start_time": "2025-01-26T00:25:39.951Z"
   },
   {
    "duration": 4,
    "start_time": "2025-01-26T00:25:56.196Z"
   },
   {
    "duration": 5,
    "start_time": "2025-01-26T00:26:19.840Z"
   },
   {
    "duration": 202,
    "start_time": "2025-01-26T00:26:22.315Z"
   },
   {
    "duration": 149,
    "start_time": "2025-01-26T00:26:36.223Z"
   },
   {
    "duration": 4,
    "start_time": "2025-01-26T00:26:45.322Z"
   },
   {
    "duration": 54,
    "start_time": "2025-01-26T00:38:53.316Z"
   },
   {
    "duration": 6,
    "start_time": "2025-01-26T00:39:05.879Z"
   },
   {
    "duration": 8423,
    "start_time": "2025-01-26T00:40:02.086Z"
   },
   {
    "duration": 2240,
    "start_time": "2025-01-26T00:40:10.513Z"
   },
   {
    "duration": 1257,
    "start_time": "2025-01-26T00:40:12.755Z"
   },
   {
    "duration": 612,
    "start_time": "2025-01-26T00:40:14.015Z"
   },
   {
    "duration": 4,
    "start_time": "2025-01-26T00:40:14.630Z"
   },
   {
    "duration": 517,
    "start_time": "2025-01-26T00:40:14.636Z"
   },
   {
    "duration": 1093,
    "start_time": "2025-01-26T00:40:15.155Z"
   },
   {
    "duration": 3402,
    "start_time": "2025-01-26T00:40:16.250Z"
   },
   {
    "duration": 15,
    "start_time": "2025-01-26T00:40:19.654Z"
   },
   {
    "duration": 73,
    "start_time": "2025-01-26T00:40:19.671Z"
   },
   {
    "duration": 61,
    "start_time": "2025-01-26T00:40:19.747Z"
   },
   {
    "duration": 99,
    "start_time": "2025-01-26T00:40:19.810Z"
   },
   {
    "duration": 25,
    "start_time": "2025-01-26T00:40:19.911Z"
   },
   {
    "duration": 222,
    "start_time": "2025-01-26T00:40:19.940Z"
   },
   {
    "duration": 114,
    "start_time": "2025-01-26T00:40:20.165Z"
   },
   {
    "duration": 127,
    "start_time": "2025-01-26T00:40:20.281Z"
   },
   {
    "duration": 130,
    "start_time": "2025-01-26T00:40:20.410Z"
   },
   {
    "duration": 110,
    "start_time": "2025-01-26T00:40:20.541Z"
   },
   {
    "duration": 80,
    "start_time": "2025-01-26T00:40:20.653Z"
   },
   {
    "duration": 8,
    "start_time": "2025-01-26T00:40:20.734Z"
   },
   {
    "duration": 133,
    "start_time": "2025-01-26T00:40:20.743Z"
   },
   {
    "duration": 7626,
    "start_time": "2025-01-26T00:40:20.877Z"
   },
   {
    "duration": 237,
    "start_time": "2025-01-26T00:40:28.507Z"
   },
   {
    "duration": 24,
    "start_time": "2025-01-26T00:40:28.747Z"
   },
   {
    "duration": 9,
    "start_time": "2025-01-26T00:41:08.896Z"
   },
   {
    "duration": 10,
    "start_time": "2025-01-26T00:41:48.448Z"
   },
   {
    "duration": 9,
    "start_time": "2025-01-26T00:41:57.666Z"
   },
   {
    "duration": 10,
    "start_time": "2025-01-26T00:42:03.779Z"
   },
   {
    "duration": 94,
    "start_time": "2025-01-26T00:44:13.420Z"
   },
   {
    "duration": 129,
    "start_time": "2025-01-26T00:45:05.771Z"
   },
   {
    "duration": 14,
    "start_time": "2025-01-26T00:47:10.929Z"
   },
   {
    "duration": 4,
    "start_time": "2025-01-26T00:47:19.174Z"
   },
   {
    "duration": 4,
    "start_time": "2025-01-26T00:47:23.028Z"
   },
   {
    "duration": 5,
    "start_time": "2025-01-26T00:47:26.063Z"
   },
   {
    "duration": 35,
    "start_time": "2025-01-26T00:49:01.307Z"
   },
   {
    "duration": 10,
    "start_time": "2025-01-26T00:49:56.442Z"
   },
   {
    "duration": 6,
    "start_time": "2025-01-26T00:51:13.874Z"
   },
   {
    "duration": 38,
    "start_time": "2025-01-26T00:51:21.644Z"
   },
   {
    "duration": 14,
    "start_time": "2025-01-26T00:52:38.847Z"
   },
   {
    "duration": 23,
    "start_time": "2025-01-26T00:53:21.688Z"
   },
   {
    "duration": 46,
    "start_time": "2025-01-26T00:53:29.829Z"
   },
   {
    "duration": 12,
    "start_time": "2025-01-26T00:54:24.694Z"
   },
   {
    "duration": 4,
    "start_time": "2025-01-26T00:55:02.005Z"
   },
   {
    "duration": 47,
    "start_time": "2025-01-26T00:55:08.507Z"
   },
   {
    "duration": 48,
    "start_time": "2025-01-26T00:58:09.064Z"
   },
   {
    "duration": 55,
    "start_time": "2025-01-26T00:59:28.116Z"
   },
   {
    "duration": 45,
    "start_time": "2025-01-26T00:59:50.452Z"
   },
   {
    "duration": 21,
    "start_time": "2025-01-26T01:00:32.804Z"
   },
   {
    "duration": 64,
    "start_time": "2025-01-26T01:02:24.233Z"
   },
   {
    "duration": 8414,
    "start_time": "2025-01-26T01:03:31.641Z"
   },
   {
    "duration": 1414,
    "start_time": "2025-01-26T01:03:40.059Z"
   },
   {
    "duration": 1168,
    "start_time": "2025-01-26T01:03:41.475Z"
   },
   {
    "duration": 606,
    "start_time": "2025-01-26T01:03:42.645Z"
   },
   {
    "duration": 5,
    "start_time": "2025-01-26T01:03:43.253Z"
   },
   {
    "duration": 491,
    "start_time": "2025-01-26T01:03:43.260Z"
   },
   {
    "duration": 1055,
    "start_time": "2025-01-26T01:03:43.752Z"
   },
   {
    "duration": 3447,
    "start_time": "2025-01-26T01:03:44.809Z"
   },
   {
    "duration": 13,
    "start_time": "2025-01-26T01:03:48.258Z"
   },
   {
    "duration": 82,
    "start_time": "2025-01-26T01:03:48.273Z"
   },
   {
    "duration": 40,
    "start_time": "2025-01-26T01:03:48.357Z"
   },
   {
    "duration": 121,
    "start_time": "2025-01-26T01:03:48.407Z"
   },
   {
    "duration": 26,
    "start_time": "2025-01-26T01:03:48.530Z"
   },
   {
    "duration": 206,
    "start_time": "2025-01-26T01:03:48.559Z"
   },
   {
    "duration": 107,
    "start_time": "2025-01-26T01:03:48.766Z"
   },
   {
    "duration": 115,
    "start_time": "2025-01-26T01:03:48.875Z"
   },
   {
    "duration": 117,
    "start_time": "2025-01-26T01:03:48.991Z"
   },
   {
    "duration": 117,
    "start_time": "2025-01-26T01:03:49.109Z"
   },
   {
    "duration": 61,
    "start_time": "2025-01-26T01:03:49.227Z"
   },
   {
    "duration": 25,
    "start_time": "2025-01-26T01:03:49.289Z"
   },
   {
    "duration": 118,
    "start_time": "2025-01-26T01:03:49.316Z"
   },
   {
    "duration": 7597,
    "start_time": "2025-01-26T01:03:49.436Z"
   },
   {
    "duration": 231,
    "start_time": "2025-01-26T01:03:57.035Z"
   },
   {
    "duration": 24,
    "start_time": "2025-01-26T01:03:57.268Z"
   },
   {
    "duration": 14,
    "start_time": "2025-01-26T01:03:57.308Z"
   },
   {
    "duration": 20,
    "start_time": "2025-01-26T01:03:57.324Z"
   },
   {
    "duration": 84,
    "start_time": "2025-01-26T01:03:57.346Z"
   },
   {
    "duration": 11,
    "start_time": "2025-01-26T01:03:57.431Z"
   },
   {
    "duration": 131,
    "start_time": "2025-01-26T01:03:57.444Z"
   },
   {
    "duration": 22,
    "start_time": "2025-01-26T01:03:57.576Z"
   },
   {
    "duration": 57,
    "start_time": "2025-01-26T01:03:57.600Z"
   },
   {
    "duration": 7664,
    "start_time": "2025-01-26T01:03:57.659Z"
   },
   {
    "duration": 8930,
    "start_time": "2025-01-26T01:04:05.325Z"
   },
   {
    "duration": 22,
    "start_time": "2025-01-26T01:04:14.257Z"
   },
   {
    "duration": 5142,
    "start_time": "2025-01-26T01:04:14.281Z"
   },
   {
    "duration": 4,
    "start_time": "2025-01-26T01:04:19.425Z"
   },
   {
    "duration": 182,
    "start_time": "2025-01-26T01:04:19.431Z"
   },
   {
    "duration": 3,
    "start_time": "2025-01-26T01:04:19.614Z"
   },
   {
    "duration": 312,
    "start_time": "2025-01-26T01:04:19.619Z"
   },
   {
    "duration": 4,
    "start_time": "2025-01-26T01:04:19.932Z"
   },
   {
    "duration": 285374,
    "start_time": "2025-01-26T01:04:19.940Z"
   },
   {
    "duration": 6,
    "start_time": "2025-01-26T01:09:05.316Z"
   },
   {
    "duration": 1002,
    "start_time": "2025-01-26T01:09:05.323Z"
   },
   {
    "duration": 3,
    "start_time": "2025-01-26T01:09:06.328Z"
   },
   {
    "duration": 9671,
    "start_time": "2025-01-26T01:10:34.668Z"
   },
   {
    "duration": 1404,
    "start_time": "2025-01-26T01:10:44.342Z"
   },
   {
    "duration": 1128,
    "start_time": "2025-01-26T01:10:45.747Z"
   },
   {
    "duration": 610,
    "start_time": "2025-01-26T01:10:46.877Z"
   },
   {
    "duration": 5,
    "start_time": "2025-01-26T01:10:47.489Z"
   },
   {
    "duration": 513,
    "start_time": "2025-01-26T01:10:47.495Z"
   },
   {
    "duration": 1059,
    "start_time": "2025-01-26T01:10:48.010Z"
   },
   {
    "duration": 3460,
    "start_time": "2025-01-26T01:10:49.070Z"
   },
   {
    "duration": 15,
    "start_time": "2025-01-26T01:10:52.532Z"
   },
   {
    "duration": 70,
    "start_time": "2025-01-26T01:10:52.551Z"
   },
   {
    "duration": 42,
    "start_time": "2025-01-26T01:10:52.624Z"
   },
   {
    "duration": 116,
    "start_time": "2025-01-26T01:10:52.668Z"
   },
   {
    "duration": 24,
    "start_time": "2025-01-26T01:10:52.787Z"
   },
   {
    "duration": 226,
    "start_time": "2025-01-26T01:10:52.814Z"
   },
   {
    "duration": 108,
    "start_time": "2025-01-26T01:10:53.042Z"
   },
   {
    "duration": 127,
    "start_time": "2025-01-26T01:10:53.152Z"
   },
   {
    "duration": 109,
    "start_time": "2025-01-26T01:10:53.281Z"
   },
   {
    "duration": 128,
    "start_time": "2025-01-26T01:10:53.392Z"
   },
   {
    "duration": 62,
    "start_time": "2025-01-26T01:10:53.522Z"
   },
   {
    "duration": 23,
    "start_time": "2025-01-26T01:10:53.585Z"
   },
   {
    "duration": 128,
    "start_time": "2025-01-26T01:10:53.610Z"
   },
   {
    "duration": 7607,
    "start_time": "2025-01-26T01:10:53.740Z"
   },
   {
    "duration": 238,
    "start_time": "2025-01-26T01:11:01.353Z"
   },
   {
    "duration": 33,
    "start_time": "2025-01-26T01:11:01.593Z"
   },
   {
    "duration": 14,
    "start_time": "2025-01-26T01:11:01.628Z"
   },
   {
    "duration": 38,
    "start_time": "2025-01-26T01:11:01.643Z"
   },
   {
    "duration": 79,
    "start_time": "2025-01-26T01:11:01.682Z"
   },
   {
    "duration": 10,
    "start_time": "2025-01-26T01:11:01.765Z"
   },
   {
    "duration": 69,
    "start_time": "2025-01-26T01:11:01.777Z"
   },
   {
    "duration": 22,
    "start_time": "2025-01-26T01:11:01.848Z"
   },
   {
    "duration": 77,
    "start_time": "2025-01-26T01:11:01.871Z"
   },
   {
    "duration": 7767,
    "start_time": "2025-01-26T01:11:01.950Z"
   },
   {
    "duration": 9695,
    "start_time": "2025-01-26T01:11:09.718Z"
   },
   {
    "duration": 21,
    "start_time": "2025-01-26T01:11:19.415Z"
   },
   {
    "duration": 5278,
    "start_time": "2025-01-26T01:11:19.438Z"
   },
   {
    "duration": 4,
    "start_time": "2025-01-26T01:11:24.718Z"
   },
   {
    "duration": 134,
    "start_time": "2025-01-26T01:11:24.723Z"
   },
   {
    "duration": 3,
    "start_time": "2025-01-26T01:11:24.859Z"
   },
   {
    "duration": 334,
    "start_time": "2025-01-26T01:11:24.863Z"
   },
   {
    "duration": 4,
    "start_time": "2025-01-26T01:11:25.198Z"
   },
   {
    "duration": 334906,
    "start_time": "2025-01-26T01:11:25.207Z"
   },
   {
    "duration": 6,
    "start_time": "2025-01-26T01:17:00.114Z"
   },
   {
    "duration": 999,
    "start_time": "2025-01-26T01:17:00.121Z"
   },
   {
    "duration": 3,
    "start_time": "2025-01-26T01:17:01.122Z"
   },
   {
    "duration": 306130,
    "start_time": "2025-01-26T01:17:01.127Z"
   },
   {
    "duration": 154,
    "start_time": "2025-01-26T01:22:07.259Z"
   },
   {
    "duration": 4,
    "start_time": "2025-01-26T01:22:07.415Z"
   },
   {
    "duration": 389388,
    "start_time": "2025-01-26T01:22:07.421Z"
   },
   {
    "duration": 909,
    "start_time": "2025-01-26T01:28:36.811Z"
   },
   {
    "duration": 16,
    "start_time": "2025-01-26T01:28:37.723Z"
   },
   {
    "duration": 61,
    "start_time": "2025-01-26T17:01:49.808Z"
   },
   {
    "duration": 19350,
    "start_time": "2025-01-26T17:08:07.461Z"
   },
   {
    "duration": 1414,
    "start_time": "2025-01-26T17:08:26.813Z"
   },
   {
    "duration": 842,
    "start_time": "2025-01-26T17:08:28.228Z"
   },
   {
    "duration": 481,
    "start_time": "2025-01-26T17:08:29.072Z"
   },
   {
    "duration": 4,
    "start_time": "2025-01-26T17:08:29.554Z"
   },
   {
    "duration": 341,
    "start_time": "2025-01-26T17:08:29.559Z"
   },
   {
    "duration": 794,
    "start_time": "2025-01-26T17:08:29.902Z"
   },
   {
    "duration": 2656,
    "start_time": "2025-01-26T17:08:30.697Z"
   },
   {
    "duration": 10,
    "start_time": "2025-01-26T17:08:33.354Z"
   },
   {
    "duration": 40,
    "start_time": "2025-01-26T17:08:33.366Z"
   },
   {
    "duration": 32,
    "start_time": "2025-01-26T17:08:33.407Z"
   },
   {
    "duration": 80,
    "start_time": "2025-01-26T17:08:33.441Z"
   },
   {
    "duration": 9,
    "start_time": "2025-01-26T17:08:33.522Z"
   },
   {
    "duration": 175,
    "start_time": "2025-01-26T17:08:33.533Z"
   },
   {
    "duration": 88,
    "start_time": "2025-01-26T17:08:33.709Z"
   },
   {
    "duration": 105,
    "start_time": "2025-01-26T17:08:33.798Z"
   },
   {
    "duration": 122,
    "start_time": "2025-01-26T17:08:33.905Z"
   },
   {
    "duration": 96,
    "start_time": "2025-01-26T17:08:34.028Z"
   },
   {
    "duration": 59,
    "start_time": "2025-01-26T17:08:34.125Z"
   },
   {
    "duration": 24,
    "start_time": "2025-01-26T17:08:34.186Z"
   },
   {
    "duration": 145,
    "start_time": "2025-01-26T17:08:34.212Z"
   },
   {
    "duration": 6759,
    "start_time": "2025-01-26T17:08:34.359Z"
   },
   {
    "duration": 177,
    "start_time": "2025-01-26T17:08:41.120Z"
   },
   {
    "duration": 17,
    "start_time": "2025-01-26T17:08:41.299Z"
   },
   {
    "duration": 30,
    "start_time": "2025-01-26T17:08:41.317Z"
   },
   {
    "duration": 28,
    "start_time": "2025-01-26T17:08:41.348Z"
   },
   {
    "duration": 85,
    "start_time": "2025-01-26T17:08:41.377Z"
   },
   {
    "duration": 8,
    "start_time": "2025-01-26T17:08:41.465Z"
   },
   {
    "duration": 48,
    "start_time": "2025-01-26T17:08:41.475Z"
   },
   {
    "duration": 33,
    "start_time": "2025-01-26T17:08:41.525Z"
   },
   {
    "duration": 45,
    "start_time": "2025-01-26T17:08:41.559Z"
   },
   {
    "duration": 6072,
    "start_time": "2025-01-26T17:08:41.606Z"
   },
   {
    "duration": 7563,
    "start_time": "2025-01-26T17:08:47.679Z"
   },
   {
    "duration": 20,
    "start_time": "2025-01-26T17:08:55.243Z"
   },
   {
    "duration": 4260,
    "start_time": "2025-01-26T17:08:55.265Z"
   },
   {
    "duration": 3,
    "start_time": "2025-01-26T17:08:59.527Z"
   },
   {
    "duration": 70,
    "start_time": "2025-01-26T17:08:59.531Z"
   },
   {
    "duration": 2,
    "start_time": "2025-01-26T17:08:59.603Z"
   },
   {
    "duration": 204,
    "start_time": "2025-01-26T17:08:59.606Z"
   },
   {
    "duration": 2,
    "start_time": "2025-01-26T17:08:59.812Z"
   },
   {
    "duration": 251442,
    "start_time": "2025-01-26T17:08:59.816Z"
   },
   {
    "duration": 93,
    "start_time": "2025-01-26T17:13:11.260Z"
   },
   {
    "duration": 905,
    "start_time": "2025-01-26T17:13:11.355Z"
   },
   {
    "duration": 2,
    "start_time": "2025-01-26T17:13:12.262Z"
   },
   {
    "duration": 274348,
    "start_time": "2025-01-26T17:13:12.266Z"
   },
   {
    "duration": 76,
    "start_time": "2025-01-26T17:17:46.616Z"
   },
   {
    "duration": 3,
    "start_time": "2025-01-26T17:17:46.694Z"
   },
   {
    "duration": 286564,
    "start_time": "2025-01-26T17:17:46.698Z"
   },
   {
    "duration": 900,
    "start_time": "2025-01-26T17:22:33.354Z"
   },
   {
    "duration": 11,
    "start_time": "2025-01-26T17:22:34.256Z"
   },
   {
    "duration": 114,
    "start_time": "2025-01-26T17:33:19.462Z"
   },
   {
    "duration": 114,
    "start_time": "2025-01-26T17:33:23.629Z"
   },
   {
    "duration": 1685,
    "start_time": "2025-01-26T17:33:33.858Z"
   },
   {
    "duration": 8691,
    "start_time": "2025-01-26T17:50:28.997Z"
   },
   {
    "duration": 1221,
    "start_time": "2025-01-26T17:50:37.690Z"
   },
   {
    "duration": 884,
    "start_time": "2025-01-26T17:50:38.912Z"
   },
   {
    "duration": 532,
    "start_time": "2025-01-26T17:50:39.797Z"
   },
   {
    "duration": 4,
    "start_time": "2025-01-26T17:50:40.331Z"
   },
   {
    "duration": 372,
    "start_time": "2025-01-26T17:50:40.336Z"
   },
   {
    "duration": 819,
    "start_time": "2025-01-26T17:50:40.709Z"
   },
   {
    "duration": 2727,
    "start_time": "2025-01-26T17:50:41.530Z"
   },
   {
    "duration": 11,
    "start_time": "2025-01-26T17:50:44.258Z"
   },
   {
    "duration": 214,
    "start_time": "2025-01-26T17:50:44.270Z"
   },
   {
    "duration": 91,
    "start_time": "2025-01-26T17:50:44.486Z"
   },
   {
    "duration": 56,
    "start_time": "2025-01-26T17:50:44.579Z"
   },
   {
    "duration": 123,
    "start_time": "2025-01-26T17:50:44.637Z"
   },
   {
    "duration": 9,
    "start_time": "2025-01-26T17:50:44.763Z"
   },
   {
    "duration": 158,
    "start_time": "2025-01-26T17:50:44.774Z"
   },
   {
    "duration": 86,
    "start_time": "2025-01-26T17:50:44.933Z"
   },
   {
    "duration": 96,
    "start_time": "2025-01-26T17:50:45.021Z"
   },
   {
    "duration": 92,
    "start_time": "2025-01-26T17:50:45.119Z"
   },
   {
    "duration": 131,
    "start_time": "2025-01-26T17:50:45.213Z"
   },
   {
    "duration": 62,
    "start_time": "2025-01-26T17:50:45.353Z"
   },
   {
    "duration": 6,
    "start_time": "2025-01-26T17:50:45.416Z"
   },
   {
    "duration": 567,
    "start_time": "2025-01-26T17:50:45.423Z"
   },
   {
    "duration": 3,
    "start_time": "2025-01-26T17:50:45.992Z"
   },
   {
    "duration": 382,
    "start_time": "2025-01-26T17:50:45.997Z"
   },
   {
    "duration": 0,
    "start_time": "2025-01-26T17:50:46.381Z"
   },
   {
    "duration": 4,
    "start_time": "2025-01-26T17:52:22.558Z"
   },
   {
    "duration": 383,
    "start_time": "2025-01-26T17:52:39.126Z"
   },
   {
    "duration": 135,
    "start_time": "2025-01-26T17:52:51.348Z"
   },
   {
    "duration": 24,
    "start_time": "2025-01-26T17:53:43.003Z"
   },
   {
    "duration": 8582,
    "start_time": "2025-01-26T17:55:13.355Z"
   },
   {
    "duration": 1281,
    "start_time": "2025-01-26T17:55:21.939Z"
   },
   {
    "duration": 927,
    "start_time": "2025-01-26T17:55:23.222Z"
   },
   {
    "duration": 505,
    "start_time": "2025-01-26T17:55:24.153Z"
   },
   {
    "duration": 4,
    "start_time": "2025-01-26T17:55:24.660Z"
   },
   {
    "duration": 372,
    "start_time": "2025-01-26T17:55:24.665Z"
   },
   {
    "duration": 818,
    "start_time": "2025-01-26T17:55:25.039Z"
   },
   {
    "duration": 2698,
    "start_time": "2025-01-26T17:55:25.859Z"
   },
   {
    "duration": 11,
    "start_time": "2025-01-26T17:55:28.558Z"
   },
   {
    "duration": 30,
    "start_time": "2025-01-26T17:55:28.571Z"
   },
   {
    "duration": 31,
    "start_time": "2025-01-26T17:55:28.603Z"
   },
   {
    "duration": 51,
    "start_time": "2025-01-26T17:55:28.635Z"
   },
   {
    "duration": 75,
    "start_time": "2025-01-26T17:55:28.688Z"
   },
   {
    "duration": 9,
    "start_time": "2025-01-26T17:55:28.764Z"
   },
   {
    "duration": 162,
    "start_time": "2025-01-26T17:55:28.774Z"
   },
   {
    "duration": 82,
    "start_time": "2025-01-26T17:55:28.937Z"
   },
   {
    "duration": 99,
    "start_time": "2025-01-26T17:55:29.021Z"
   },
   {
    "duration": 95,
    "start_time": "2025-01-26T17:55:29.122Z"
   },
   {
    "duration": 82,
    "start_time": "2025-01-26T17:55:29.218Z"
   },
   {
    "duration": 59,
    "start_time": "2025-01-26T17:55:29.302Z"
   },
   {
    "duration": 9,
    "start_time": "2025-01-26T17:55:29.362Z"
   },
   {
    "duration": 127,
    "start_time": "2025-01-26T17:55:29.373Z"
   },
   {
    "duration": 6859,
    "start_time": "2025-01-26T17:55:29.502Z"
   },
   {
    "duration": 190,
    "start_time": "2025-01-26T17:55:36.363Z"
   },
   {
    "duration": 19,
    "start_time": "2025-01-26T17:56:38.417Z"
   },
   {
    "duration": 8,
    "start_time": "2025-01-26T17:58:56.402Z"
   },
   {
    "duration": 7,
    "start_time": "2025-01-26T17:58:56.412Z"
   },
   {
    "duration": 9,
    "start_time": "2025-01-26T18:03:26.698Z"
   },
   {
    "duration": 9,
    "start_time": "2025-01-26T18:03:29.209Z"
   },
   {
    "duration": 19,
    "start_time": "2025-01-26T18:04:42.239Z"
   },
   {
    "duration": 25,
    "start_time": "2025-01-26T18:05:02.733Z"
   },
   {
    "duration": 21,
    "start_time": "2025-01-26T18:08:58.753Z"
   },
   {
    "duration": 23,
    "start_time": "2025-01-26T18:09:28.610Z"
   },
   {
    "duration": 18,
    "start_time": "2025-01-26T18:13:15.168Z"
   },
   {
    "duration": 18,
    "start_time": "2025-01-26T18:14:05.713Z"
   },
   {
    "duration": 17,
    "start_time": "2025-01-26T18:23:17.324Z"
   },
   {
    "duration": 8,
    "start_time": "2025-01-26T18:36:17.533Z"
   },
   {
    "duration": 8,
    "start_time": "2025-01-26T18:36:24.168Z"
   },
   {
    "duration": 24720,
    "start_time": "2025-01-26T18:47:39.632Z"
   },
   {
    "duration": 1300,
    "start_time": "2025-01-26T18:48:04.355Z"
   },
   {
    "duration": 935,
    "start_time": "2025-01-26T18:48:05.656Z"
   },
   {
    "duration": 494,
    "start_time": "2025-01-26T18:48:06.593Z"
   },
   {
    "duration": 4,
    "start_time": "2025-01-26T18:48:07.089Z"
   },
   {
    "duration": 363,
    "start_time": "2025-01-26T18:48:07.094Z"
   },
   {
    "duration": 809,
    "start_time": "2025-01-26T18:48:07.459Z"
   },
   {
    "duration": 2726,
    "start_time": "2025-01-26T18:48:08.269Z"
   },
   {
    "duration": 11,
    "start_time": "2025-01-26T18:48:10.996Z"
   },
   {
    "duration": 45,
    "start_time": "2025-01-26T18:48:11.009Z"
   },
   {
    "duration": 39,
    "start_time": "2025-01-26T18:48:11.056Z"
   },
   {
    "duration": 48,
    "start_time": "2025-01-26T18:48:11.097Z"
   },
   {
    "duration": 70,
    "start_time": "2025-01-26T18:48:11.147Z"
   },
   {
    "duration": 30,
    "start_time": "2025-01-26T18:48:11.218Z"
   },
   {
    "duration": 162,
    "start_time": "2025-01-26T18:48:11.249Z"
   },
   {
    "duration": 70,
    "start_time": "2025-01-26T18:48:11.413Z"
   },
   {
    "duration": 103,
    "start_time": "2025-01-26T18:48:11.485Z"
   },
   {
    "duration": 83,
    "start_time": "2025-01-26T18:48:11.589Z"
   },
   {
    "duration": 91,
    "start_time": "2025-01-26T18:48:11.674Z"
   },
   {
    "duration": 52,
    "start_time": "2025-01-26T18:48:11.766Z"
   },
   {
    "duration": 7,
    "start_time": "2025-01-26T18:48:11.820Z"
   },
   {
    "duration": 137,
    "start_time": "2025-01-26T18:48:11.828Z"
   },
   {
    "duration": 6666,
    "start_time": "2025-01-26T18:48:11.966Z"
   },
   {
    "duration": 183,
    "start_time": "2025-01-26T18:48:18.634Z"
   },
   {
    "duration": 21,
    "start_time": "2025-01-26T18:48:18.818Z"
   },
   {
    "duration": 18,
    "start_time": "2025-01-26T18:48:18.840Z"
   },
   {
    "duration": 2,
    "start_time": "2025-01-26T18:48:18.859Z"
   },
   {
    "duration": 38,
    "start_time": "2025-01-26T18:48:18.864Z"
   },
   {
    "duration": 9,
    "start_time": "2025-01-26T18:48:18.903Z"
   },
   {
    "duration": 74,
    "start_time": "2025-01-26T18:48:18.913Z"
   },
   {
    "duration": 17,
    "start_time": "2025-01-26T18:48:18.989Z"
   },
   {
    "duration": 57,
    "start_time": "2025-01-26T18:48:19.008Z"
   },
   {
    "duration": 6347,
    "start_time": "2025-01-26T18:48:19.066Z"
   },
   {
    "duration": 7606,
    "start_time": "2025-01-26T18:48:25.415Z"
   },
   {
    "duration": 20,
    "start_time": "2025-01-26T18:48:33.023Z"
   },
   {
    "duration": 4455,
    "start_time": "2025-01-26T18:48:33.045Z"
   },
   {
    "duration": 4,
    "start_time": "2025-01-26T18:48:37.501Z"
   },
   {
    "duration": 92,
    "start_time": "2025-01-26T18:48:37.506Z"
   },
   {
    "duration": 3,
    "start_time": "2025-01-26T18:48:37.599Z"
   },
   {
    "duration": 226,
    "start_time": "2025-01-26T18:48:37.603Z"
   },
   {
    "duration": 2,
    "start_time": "2025-01-26T18:48:37.831Z"
   },
   {
    "duration": 248925,
    "start_time": "2025-01-26T18:48:37.835Z"
   },
   {
    "duration": 92,
    "start_time": "2025-01-26T18:52:46.763Z"
   },
   {
    "duration": 910,
    "start_time": "2025-01-26T18:52:46.857Z"
   },
   {
    "duration": 3,
    "start_time": "2025-01-26T18:52:47.768Z"
   },
   {
    "duration": 310285,
    "start_time": "2025-01-26T18:57:40.669Z"
   },
   {
    "duration": 800,
    "start_time": "2025-01-26T19:02:50.957Z"
   },
   {
    "duration": 99,
    "start_time": "2025-01-26T19:02:51.761Z"
   },
   {
    "duration": 8225,
    "start_time": "2025-01-26T20:49:18.998Z"
   },
   {
    "duration": 1281,
    "start_time": "2025-01-26T20:49:27.225Z"
   },
   {
    "duration": 864,
    "start_time": "2025-01-26T20:49:28.508Z"
   },
   {
    "duration": 496,
    "start_time": "2025-01-26T20:49:29.373Z"
   },
   {
    "duration": 3,
    "start_time": "2025-01-26T20:49:29.872Z"
   },
   {
    "duration": 374,
    "start_time": "2025-01-26T20:49:29.876Z"
   },
   {
    "duration": 824,
    "start_time": "2025-01-26T20:49:30.251Z"
   },
   {
    "duration": 2722,
    "start_time": "2025-01-26T20:49:31.076Z"
   },
   {
    "duration": 11,
    "start_time": "2025-01-26T20:49:33.799Z"
   },
   {
    "duration": 42,
    "start_time": "2025-01-26T20:49:33.811Z"
   },
   {
    "duration": 35,
    "start_time": "2025-01-26T20:49:33.854Z"
   },
   {
    "duration": 65,
    "start_time": "2025-01-26T20:49:33.892Z"
   },
   {
    "duration": 77,
    "start_time": "2025-01-26T20:49:33.959Z"
   },
   {
    "duration": 17,
    "start_time": "2025-01-26T20:49:34.039Z"
   },
   {
    "duration": 171,
    "start_time": "2025-01-26T20:49:34.057Z"
   },
   {
    "duration": 87,
    "start_time": "2025-01-26T20:49:34.230Z"
   },
   {
    "duration": 104,
    "start_time": "2025-01-26T20:49:34.319Z"
   },
   {
    "duration": 89,
    "start_time": "2025-01-26T20:49:34.425Z"
   },
   {
    "duration": 90,
    "start_time": "2025-01-26T20:49:34.515Z"
   },
   {
    "duration": 59,
    "start_time": "2025-01-26T20:49:34.606Z"
   },
   {
    "duration": 7,
    "start_time": "2025-01-26T20:49:34.667Z"
   },
   {
    "duration": 128,
    "start_time": "2025-01-26T20:49:34.675Z"
   },
   {
    "duration": 6628,
    "start_time": "2025-01-26T20:49:34.804Z"
   },
   {
    "duration": 177,
    "start_time": "2025-01-26T20:49:41.433Z"
   },
   {
    "duration": 17,
    "start_time": "2025-01-26T20:49:41.612Z"
   },
   {
    "duration": 5,
    "start_time": "2025-01-26T20:49:41.631Z"
   },
   {
    "duration": 37,
    "start_time": "2025-01-26T20:49:41.652Z"
   },
   {
    "duration": 58,
    "start_time": "2025-01-26T20:49:41.690Z"
   },
   {
    "duration": 10,
    "start_time": "2025-01-26T20:49:41.749Z"
   },
   {
    "duration": 77,
    "start_time": "2025-01-26T20:49:41.760Z"
   },
   {
    "duration": 17,
    "start_time": "2025-01-26T20:49:41.838Z"
   },
   {
    "duration": 54,
    "start_time": "2025-01-26T20:49:41.856Z"
   },
   {
    "duration": 6173,
    "start_time": "2025-01-26T20:49:41.911Z"
   },
   {
    "duration": 7707,
    "start_time": "2025-01-26T20:49:48.086Z"
   },
   {
    "duration": 21,
    "start_time": "2025-01-26T20:49:55.795Z"
   },
   {
    "duration": 4364,
    "start_time": "2025-01-26T20:49:55.817Z"
   },
   {
    "duration": 4,
    "start_time": "2025-01-26T20:50:00.183Z"
   },
   {
    "duration": 112,
    "start_time": "2025-01-26T20:50:00.189Z"
   },
   {
    "duration": 3,
    "start_time": "2025-01-26T20:50:00.302Z"
   },
   {
    "duration": 262,
    "start_time": "2025-01-26T20:50:00.306Z"
   },
   {
    "duration": 3,
    "start_time": "2025-01-26T20:50:00.571Z"
   },
   {
    "duration": 276179,
    "start_time": "2025-01-26T20:50:00.576Z"
   },
   {
    "duration": 5,
    "start_time": "2025-01-26T20:54:36.756Z"
   },
   {
    "duration": 91,
    "start_time": "2025-01-26T20:54:36.762Z"
   },
   {
    "duration": 2,
    "start_time": "2025-01-26T20:54:36.855Z"
   },
   {
    "duration": 293224,
    "start_time": "2025-01-26T20:54:36.859Z"
   },
   {
    "duration": 32,
    "start_time": "2025-01-26T20:59:30.085Z"
   },
   {
    "duration": 10,
    "start_time": "2025-01-26T20:59:30.119Z"
   },
   {
    "duration": 294131,
    "start_time": "2025-01-26T20:59:30.131Z"
   },
   {
    "duration": 124,
    "start_time": "2025-01-26T21:04:24.353Z"
   },
   {
    "duration": 8,
    "start_time": "2025-01-26T21:04:24.479Z"
   },
   {
    "duration": 6,
    "start_time": "2025-01-26T21:16:30.162Z"
   },
   {
    "duration": 123,
    "start_time": "2025-01-26T21:19:36.003Z"
   },
   {
    "duration": 124,
    "start_time": "2025-01-26T21:19:49.580Z"
   },
   {
    "duration": 167,
    "start_time": "2025-01-26T21:22:08.983Z"
   },
   {
    "duration": 162,
    "start_time": "2025-01-26T21:22:19.584Z"
   },
   {
    "duration": 165,
    "start_time": "2025-01-26T21:22:28.156Z"
   },
   {
    "duration": 166,
    "start_time": "2025-01-26T21:23:27.310Z"
   },
   {
    "duration": 828,
    "start_time": "2025-01-26T21:26:30.628Z"
   },
   {
    "duration": 166,
    "start_time": "2025-01-26T21:30:05.865Z"
   },
   {
    "duration": 168,
    "start_time": "2025-01-26T21:31:07.759Z"
   },
   {
    "duration": 8326,
    "start_time": "2025-01-26T21:45:20.060Z"
   },
   {
    "duration": 1216,
    "start_time": "2025-01-26T21:45:28.389Z"
   },
   {
    "duration": 896,
    "start_time": "2025-01-26T21:45:29.607Z"
   },
   {
    "duration": 515,
    "start_time": "2025-01-26T21:45:30.505Z"
   },
   {
    "duration": 3,
    "start_time": "2025-01-26T21:45:31.023Z"
   },
   {
    "duration": 433,
    "start_time": "2025-01-26T21:45:31.028Z"
   },
   {
    "duration": 828,
    "start_time": "2025-01-26T21:45:31.463Z"
   },
   {
    "duration": 2685,
    "start_time": "2025-01-26T21:45:32.293Z"
   },
   {
    "duration": 11,
    "start_time": "2025-01-26T21:45:34.979Z"
   },
   {
    "duration": 37,
    "start_time": "2025-01-26T21:45:34.991Z"
   },
   {
    "duration": 50,
    "start_time": "2025-01-26T21:45:35.029Z"
   },
   {
    "duration": 45,
    "start_time": "2025-01-26T21:45:35.081Z"
   },
   {
    "duration": 72,
    "start_time": "2025-01-26T21:45:35.128Z"
   },
   {
    "duration": 15,
    "start_time": "2025-01-26T21:45:35.202Z"
   },
   {
    "duration": 172,
    "start_time": "2025-01-26T21:45:35.218Z"
   },
   {
    "duration": 88,
    "start_time": "2025-01-26T21:45:35.392Z"
   },
   {
    "duration": 101,
    "start_time": "2025-01-26T21:45:35.481Z"
   },
   {
    "duration": 90,
    "start_time": "2025-01-26T21:45:35.584Z"
   },
   {
    "duration": 92,
    "start_time": "2025-01-26T21:45:35.676Z"
   },
   {
    "duration": 51,
    "start_time": "2025-01-26T21:45:35.770Z"
   },
   {
    "duration": 11,
    "start_time": "2025-01-26T21:45:35.823Z"
   },
   {
    "duration": 125,
    "start_time": "2025-01-26T21:45:35.835Z"
   },
   {
    "duration": 6652,
    "start_time": "2025-01-26T21:45:35.962Z"
   },
   {
    "duration": 177,
    "start_time": "2025-01-26T21:45:42.616Z"
   },
   {
    "duration": 18,
    "start_time": "2025-01-26T21:45:42.795Z"
   },
   {
    "duration": 6,
    "start_time": "2025-01-26T21:45:42.815Z"
   },
   {
    "duration": 2,
    "start_time": "2025-01-26T21:45:42.823Z"
   },
   {
    "duration": 56,
    "start_time": "2025-01-26T21:45:42.826Z"
   },
   {
    "duration": 8,
    "start_time": "2025-01-26T21:45:42.883Z"
   },
   {
    "duration": 60,
    "start_time": "2025-01-26T21:45:42.893Z"
   },
   {
    "duration": 17,
    "start_time": "2025-01-26T21:45:42.954Z"
   },
   {
    "duration": 49,
    "start_time": "2025-01-26T21:45:42.973Z"
   },
   {
    "duration": 6075,
    "start_time": "2025-01-26T21:45:43.024Z"
   },
   {
    "duration": 7537,
    "start_time": "2025-01-26T21:45:49.100Z"
   },
   {
    "duration": 21,
    "start_time": "2025-01-26T21:45:56.639Z"
   },
   {
    "duration": 4363,
    "start_time": "2025-01-26T21:45:56.661Z"
   },
   {
    "duration": 3,
    "start_time": "2025-01-26T21:46:01.025Z"
   },
   {
    "duration": 89,
    "start_time": "2025-01-26T21:46:01.030Z"
   },
   {
    "duration": 2,
    "start_time": "2025-01-26T21:46:01.120Z"
   },
   {
    "duration": 222,
    "start_time": "2025-01-26T21:46:01.124Z"
   },
   {
    "duration": 2,
    "start_time": "2025-01-26T21:46:01.352Z"
   },
   {
    "duration": 238498,
    "start_time": "2025-01-26T21:46:01.355Z"
   },
   {
    "duration": 4,
    "start_time": "2025-01-26T21:49:59.855Z"
   },
   {
    "duration": 15,
    "start_time": "2025-01-26T21:49:59.860Z"
   },
   {
    "duration": 2,
    "start_time": "2025-01-26T21:49:59.876Z"
   },
   {
    "duration": 289748,
    "start_time": "2025-01-26T21:49:59.880Z"
   },
   {
    "duration": 17,
    "start_time": "2025-01-26T21:54:49.629Z"
   },
   {
    "duration": 4,
    "start_time": "2025-01-26T21:54:49.647Z"
   },
   {
    "duration": 295601,
    "start_time": "2025-01-26T21:54:49.652Z"
   },
   {
    "duration": 104,
    "start_time": "2025-01-26T21:59:45.255Z"
   },
   {
    "duration": 20,
    "start_time": "2025-01-26T21:59:45.360Z"
   },
   {
    "duration": 874,
    "start_time": "2025-01-26T21:59:45.381Z"
   },
   {
    "duration": 229,
    "start_time": "2025-01-26T21:59:46.257Z"
   }
  ],
  "kernelspec": {
   "display_name": "Python 3 (ipykernel)",
   "language": "python",
   "name": "python3"
  },
  "language_info": {
   "codemirror_mode": {
    "name": "ipython",
    "version": 3
   },
   "file_extension": ".py",
   "mimetype": "text/x-python",
   "name": "python",
   "nbconvert_exporter": "python",
   "pygments_lexer": "ipython3",
   "version": "3.9.19"
  },
  "toc": {
   "base_numbering": 1,
   "nav_menu": {},
   "number_sections": true,
   "sideBar": true,
   "skip_h1_title": true,
   "title_cell": "Table of Contents",
   "title_sidebar": "Contents",
   "toc_cell": false,
   "toc_position": {
    "height": "calc(100% - 180px)",
    "left": "10px",
    "top": "150px",
    "width": "371.391px"
   },
   "toc_section_display": true,
   "toc_window_display": true
  }
 },
 "nbformat": 4,
 "nbformat_minor": 2
}
