{
 "cells": [
  {
   "cell_type": "markdown",
   "metadata": {
    "toc": true
   },
   "source": [
    "<h1>Содержание<span class=\"tocSkip\"></span></h1>\n",
    "<div class=\"toc\"><ul class=\"toc-item\"><li><span><a href=\"#Подготовка\" data-toc-modified-id=\"Подготовка-1\"><span class=\"toc-item-num\">1&nbsp;&nbsp;</span>Подготовка</a></span><ul class=\"toc-item\"><li><span><a href=\"#Промежуточный-вывод\" data-toc-modified-id=\"Промежуточный-вывод-1.1\"><span class=\"toc-item-num\">1.1&nbsp;&nbsp;</span>Промежуточный вывод</a></span></li></ul></li><li><span><a href=\"#Анализ\" data-toc-modified-id=\"Анализ-2\"><span class=\"toc-item-num\">2&nbsp;&nbsp;</span>Анализ</a></span><ul class=\"toc-item\"><li><span><a href=\"#Промежуточный-вывод\" data-toc-modified-id=\"Промежуточный-вывод-2.1\"><span class=\"toc-item-num\">2.1&nbsp;&nbsp;</span>Промежуточный вывод</a></span></li></ul></li><li><span><a href=\"#Обучение\" data-toc-modified-id=\"Обучение-3\"><span class=\"toc-item-num\">3&nbsp;&nbsp;</span>Обучение</a></span><ul class=\"toc-item\"><li><span><a href=\"#Промежуточный-вывод\" data-toc-modified-id=\"Промежуточный-вывод-3.1\"><span class=\"toc-item-num\">3.1&nbsp;&nbsp;</span>Промежуточный вывод</a></span></li></ul></li><li><span><a href=\"#Тестирование\" data-toc-modified-id=\"Тестирование-4\"><span class=\"toc-item-num\">4&nbsp;&nbsp;</span>Тестирование</a></span><ul class=\"toc-item\"><li><span><a href=\"#Промежуточный-вывод\" data-toc-modified-id=\"Промежуточный-вывод-4.1\"><span class=\"toc-item-num\">4.1&nbsp;&nbsp;</span>Промежуточный вывод</a></span></li></ul></li><li><span><a href=\"#Общий-вывод\" data-toc-modified-id=\"Общий-вывод-5\"><span class=\"toc-item-num\">5&nbsp;&nbsp;</span>Общий вывод</a></span></li><li><span><a href=\"#Чек-лист-проверки\" data-toc-modified-id=\"Чек-лист-проверки-6\"><span class=\"toc-item-num\">6&nbsp;&nbsp;</span>Чек-лист проверки</a></span></li></ul></div>"
   ]
  },
  {
   "cell_type": "markdown",
   "metadata": {},
   "source": [
    "#  Прогнозирование заказов такси"
   ]
  },
  {
   "cell_type": "markdown",
   "metadata": {},
   "source": [
    "Компания «Чётенькое такси» собрала исторические данные о заказах такси в аэропортах. Чтобы привлекать больше водителей в период пиковой нагрузки, нужно спрогнозировать количество заказов такси на следующий час. Постройте модель для такого предсказания.\n",
    "\n",
    "Значение метрики *RMSE* на тестовой выборке должно быть не больше 48.\n",
    "\n",
    "Вам нужно:\n",
    "\n",
    "1. Загрузить данные и выполнить их ресемплирование по одному часу.\n",
    "2. Проанализировать данные.\n",
    "3. Обучить разные модели с различными гиперпараметрами. Сделать тестовую выборку размером 10% от исходных данных.\n",
    "4. Проверить данные на тестовой выборке и сделать выводы.\n",
    "\n",
    "\n",
    "Данные лежат в файле `taxi.csv`. Количество заказов находится в столбце `num_orders` (от англ. *number of orders*, «число заказов»)."
   ]
  },
  {
   "cell_type": "markdown",
   "metadata": {},
   "source": [
    "**Импорт библиотек**"
   ]
  },
  {
   "cell_type": "code",
   "execution_count": 1,
   "metadata": {},
   "outputs": [],
   "source": [
    "!pip install --upgrade scikit-learn -q\n",
    "!pip install lightgbm -q"
   ]
  },
  {
   "cell_type": "code",
   "execution_count": 2,
   "metadata": {},
   "outputs": [],
   "source": [
    "import pandas as pd\n",
    "import numpy as np\n",
    "import matplotlib.pyplot as plt\n",
    "import seaborn as sns\n",
    "import sklearn as skl\n",
    "import os\n",
    "import lightgbm as lgb\n",
    "import time\n",
    "\n",
    "from sklearn.model_selection import train_test_split, RandomizedSearchCV, GridSearchCV, TimeSeriesSplit\n",
    "\n",
    "from sklearn.linear_model import LinearRegression\n",
    "from sklearn.neighbors import KNeighborsRegressor\n",
    "from catboost import CatBoostRegressor\n",
    "from lightgbm import LGBMRegressor\n",
    "from sklearn.svm import SVR\n",
    "\n",
    "\n",
    "from sklearn.metrics import (\n",
    "    root_mean_squared_error,\n",
    "    mean_squared_error\n",
    ")\n",
    "\n",
    "from sklearn.pipeline import Pipeline\n",
    "\n",
    "from statsmodels.tsa.seasonal import seasonal_decompose\n",
    "\n",
    "from statsmodels.graphics.tsaplots import plot_acf\n",
    "\n",
    "from statsmodels.tsa.stattools import adfuller\n",
    "\n",
    "\n",
    "RANDOM_STATE = 42  "
   ]
  },
  {
   "cell_type": "markdown",
   "metadata": {},
   "source": [
    "## Подготовка"
   ]
  },
  {
   "cell_type": "code",
   "execution_count": 3,
   "metadata": {},
   "outputs": [
    {
     "data": {
      "text/html": [
       "<div>\n",
       "<style scoped>\n",
       "    .dataframe tbody tr th:only-of-type {\n",
       "        vertical-align: middle;\n",
       "    }\n",
       "\n",
       "    .dataframe tbody tr th {\n",
       "        vertical-align: top;\n",
       "    }\n",
       "\n",
       "    .dataframe thead th {\n",
       "        text-align: right;\n",
       "    }\n",
       "</style>\n",
       "<table border=\"1\" class=\"dataframe\">\n",
       "  <thead>\n",
       "    <tr style=\"text-align: right;\">\n",
       "      <th></th>\n",
       "      <th>num_orders</th>\n",
       "    </tr>\n",
       "    <tr>\n",
       "      <th>datetime</th>\n",
       "      <th></th>\n",
       "    </tr>\n",
       "  </thead>\n",
       "  <tbody>\n",
       "    <tr>\n",
       "      <th>2018-03-01 00:00:00</th>\n",
       "      <td>9</td>\n",
       "    </tr>\n",
       "    <tr>\n",
       "      <th>2018-03-01 00:10:00</th>\n",
       "      <td>14</td>\n",
       "    </tr>\n",
       "    <tr>\n",
       "      <th>2018-03-01 00:20:00</th>\n",
       "      <td>28</td>\n",
       "    </tr>\n",
       "  </tbody>\n",
       "</table>\n",
       "</div>"
      ],
      "text/plain": [
       "                     num_orders\n",
       "datetime                       \n",
       "2018-03-01 00:00:00           9\n",
       "2018-03-01 00:10:00          14\n",
       "2018-03-01 00:20:00          28"
      ]
     },
     "metadata": {},
     "output_type": "display_data"
    },
    {
     "data": {
      "text/html": [
       "<div>\n",
       "<style scoped>\n",
       "    .dataframe tbody tr th:only-of-type {\n",
       "        vertical-align: middle;\n",
       "    }\n",
       "\n",
       "    .dataframe tbody tr th {\n",
       "        vertical-align: top;\n",
       "    }\n",
       "\n",
       "    .dataframe thead th {\n",
       "        text-align: right;\n",
       "    }\n",
       "</style>\n",
       "<table border=\"1\" class=\"dataframe\">\n",
       "  <thead>\n",
       "    <tr style=\"text-align: right;\">\n",
       "      <th></th>\n",
       "      <th>num_orders</th>\n",
       "    </tr>\n",
       "    <tr>\n",
       "      <th>datetime</th>\n",
       "      <th></th>\n",
       "    </tr>\n",
       "  </thead>\n",
       "  <tbody>\n",
       "    <tr>\n",
       "      <th>2018-08-31 23:30:00</th>\n",
       "      <td>27</td>\n",
       "    </tr>\n",
       "    <tr>\n",
       "      <th>2018-08-31 23:40:00</th>\n",
       "      <td>39</td>\n",
       "    </tr>\n",
       "    <tr>\n",
       "      <th>2018-08-31 23:50:00</th>\n",
       "      <td>53</td>\n",
       "    </tr>\n",
       "  </tbody>\n",
       "</table>\n",
       "</div>"
      ],
      "text/plain": [
       "                     num_orders\n",
       "datetime                       \n",
       "2018-08-31 23:30:00          27\n",
       "2018-08-31 23:40:00          39\n",
       "2018-08-31 23:50:00          53"
      ]
     },
     "metadata": {},
     "output_type": "display_data"
    },
    {
     "name": "stdout",
     "output_type": "stream",
     "text": [
      "<class 'pandas.core.frame.DataFrame'>\n",
      "DatetimeIndex: 26496 entries, 2018-03-01 00:00:00 to 2018-08-31 23:50:00\n",
      "Data columns (total 1 columns):\n",
      " #   Column      Non-Null Count  Dtype\n",
      "---  ------      --------------  -----\n",
      " 0   num_orders  26496 non-null  int64\n",
      "dtypes: int64(1)\n",
      "memory usage: 414.0 KB\n"
     ]
    },
    {
     "data": {
      "text/plain": [
       "None"
      ]
     },
     "metadata": {},
     "output_type": "display_data"
    }
   ],
   "source": [
    "pth1 = f'/datasets/taxi.csv'\n",
    "pth2 = f'D:/Данные/taxi.csv'\n",
    "    \n",
    "if os.path.exists(pth1):\n",
    "    data = pd.read_csv(pth1, index_col=[0], parse_dates=[0])\n",
    "elif os.path.exists(pth2):\n",
    "    data  = pd.read_csv(pth2, index_col=[0], parse_dates=[0])\n",
    "else:\n",
    "    print('Something is wrong')\n",
    "    \n",
    "display(data.head(3))\n",
    "display(data.tail(3))\n",
    "display(data.info())     \n"
   ]
  },
  {
   "cell_type": "code",
   "execution_count": 4,
   "metadata": {},
   "outputs": [],
   "source": [
    "data.sort_index(inplace=True)\n",
    "data = data.resample('1H').sum()"
   ]
  },
  {
   "cell_type": "code",
   "execution_count": 5,
   "metadata": {},
   "outputs": [
    {
     "data": {
      "text/html": [
       "<div>\n",
       "<style scoped>\n",
       "    .dataframe tbody tr th:only-of-type {\n",
       "        vertical-align: middle;\n",
       "    }\n",
       "\n",
       "    .dataframe tbody tr th {\n",
       "        vertical-align: top;\n",
       "    }\n",
       "\n",
       "    .dataframe thead th {\n",
       "        text-align: right;\n",
       "    }\n",
       "</style>\n",
       "<table border=\"1\" class=\"dataframe\">\n",
       "  <thead>\n",
       "    <tr style=\"text-align: right;\">\n",
       "      <th></th>\n",
       "      <th>num_orders</th>\n",
       "    </tr>\n",
       "    <tr>\n",
       "      <th>datetime</th>\n",
       "      <th></th>\n",
       "    </tr>\n",
       "  </thead>\n",
       "  <tbody>\n",
       "    <tr>\n",
       "      <th>2018-03-01 00:00:00</th>\n",
       "      <td>124</td>\n",
       "    </tr>\n",
       "    <tr>\n",
       "      <th>2018-03-01 01:00:00</th>\n",
       "      <td>85</td>\n",
       "    </tr>\n",
       "  </tbody>\n",
       "</table>\n",
       "</div>"
      ],
      "text/plain": [
       "                     num_orders\n",
       "datetime                       \n",
       "2018-03-01 00:00:00         124\n",
       "2018-03-01 01:00:00          85"
      ]
     },
     "metadata": {},
     "output_type": "display_data"
    },
    {
     "data": {
      "text/html": [
       "<div>\n",
       "<style scoped>\n",
       "    .dataframe tbody tr th:only-of-type {\n",
       "        vertical-align: middle;\n",
       "    }\n",
       "\n",
       "    .dataframe tbody tr th {\n",
       "        vertical-align: top;\n",
       "    }\n",
       "\n",
       "    .dataframe thead th {\n",
       "        text-align: right;\n",
       "    }\n",
       "</style>\n",
       "<table border=\"1\" class=\"dataframe\">\n",
       "  <thead>\n",
       "    <tr style=\"text-align: right;\">\n",
       "      <th></th>\n",
       "      <th>num_orders</th>\n",
       "    </tr>\n",
       "    <tr>\n",
       "      <th>datetime</th>\n",
       "      <th></th>\n",
       "    </tr>\n",
       "  </thead>\n",
       "  <tbody>\n",
       "    <tr>\n",
       "      <th>2018-08-31 22:00:00</th>\n",
       "      <td>223</td>\n",
       "    </tr>\n",
       "    <tr>\n",
       "      <th>2018-08-31 23:00:00</th>\n",
       "      <td>205</td>\n",
       "    </tr>\n",
       "  </tbody>\n",
       "</table>\n",
       "</div>"
      ],
      "text/plain": [
       "                     num_orders\n",
       "datetime                       \n",
       "2018-08-31 22:00:00         223\n",
       "2018-08-31 23:00:00         205"
      ]
     },
     "metadata": {},
     "output_type": "display_data"
    }
   ],
   "source": [
    "display(data.head(2))\n",
    "display(data.tail(2))"
   ]
  },
  {
   "cell_type": "markdown",
   "metadata": {},
   "source": [
    "### Промежуточный вывод\n",
    "\n",
    "Датсет записан в переменную data, выполнено ресемплирование данных по одному часу."
   ]
  },
  {
   "cell_type": "markdown",
   "metadata": {},
   "source": [
    "## Анализ\n",
    "\n",
    "Построим график временного ряда."
   ]
  },
  {
   "cell_type": "code",
   "execution_count": 6,
   "metadata": {},
   "outputs": [
    {
     "data": {
      "text/plain": [
       "<Figure size 432x576 with 0 Axes>"
      ]
     },
     "execution_count": 6,
     "metadata": {},
     "output_type": "execute_result"
    },
    {
     "data": {
      "image/png": "[encoded data removed]",
      "text/plain": [
       "<Figure size 432x288 with 1 Axes>"
      ]
     },
     "metadata": {
      "needs_background": "light"
     },
     "output_type": "display_data"
    },
    {
     "data": {
      "text/plain": [
       "<Figure size 432x576 with 0 Axes>"
      ]
     },
     "metadata": {},
     "output_type": "display_data"
    }
   ],
   "source": [
    "data.plot()\n",
    "plt.figure(figsize=(6, 8))\n"
   ]
  },
  {
   "cell_type": "markdown",
   "metadata": {},
   "source": [
    "График тренда, сезонности и остатка временного ряда."
   ]
  },
  {
   "cell_type": "code",
   "execution_count": 7,
   "metadata": {},
   "outputs": [
    {
     "data": {
      "image/png": "[encoded data removed]",
      "text/plain": [
       "<Figure size 432x576 with 3 Axes>"
      ]
     },
     "metadata": {
      "needs_background": "light"
     },
     "output_type": "display_data"
    }
   ],
   "source": [
    "decomposed = seasonal_decompose(data) \n",
    "\n",
    "plt.figure(figsize=(6, 8))\n",
    "plt.subplot(311)\n",
    "\n",
    "decomposed.trend.plot(ax=plt.gca())\n",
    "plt.title('Trend')\n",
    "plt.subplot(312)\n",
    "\n",
    "decomposed.seasonal.plot(ax=plt.gca())\n",
    "plt.title('Seasonality')\n",
    "plt.subplot(313)\n",
    "\n",
    "decomposed.resid.plot(ax=plt.gca())\n",
    "plt.title('Residuals')\n",
    "plt.tight_layout()"
   ]
  },
  {
   "cell_type": "markdown",
   "metadata": {},
   "source": [
    "График тренда, сезонности и остатка временного ряда за отрезок длиной в месяц."
   ]
  },
  {
   "cell_type": "code",
   "execution_count": 8,
   "metadata": {},
   "outputs": [
    {
     "data": {
      "text/plain": [
       "Text(0.5, 1.0, 'Residuals')"
      ]
     },
     "execution_count": 8,
     "metadata": {},
     "output_type": "execute_result"
    },
    {
     "data": {
      "image/png": "[encoded data removed]",
      "text/plain": [
       "<Figure size 1224x720 with 3 Axes>"
      ]
     },
     "metadata": {
      "needs_background": "light"
     },
     "output_type": "display_data"
    }
   ],
   "source": [
    "plt.figure(figsize=(17, 10))\n",
    "\n",
    "decomposed = seasonal_decompose(data[\"2018-07-30\":]) \n",
    "\n",
    "plt.subplot(311)\n",
    "\n",
    "decomposed.trend.plot(ax=plt.gca())\n",
    "plt.title('Trend')\n",
    "plt.subplot(312)\n",
    "\n",
    "decomposed.seasonal.plot(ax=plt.gca())\n",
    "plt.title('Seasonality')\n",
    "plt.subplot(313)\n",
    "\n",
    "decomposed.resid.plot(ax=plt.gca())\n",
    "plt.title('Residuals')\n"
   ]
  },
  {
   "cell_type": "markdown",
   "metadata": {},
   "source": [
    "Проверим временной ряд на стационарность, применив тест Дики-Фуллера.\n",
    "Сформулируем нулевую и альтернативные гипотезы:\n",
    "- Ho : данные временного ряда нестационарны.\n",
    "- H1 : данные временного ряда являются стационарными."
   ]
  },
  {
   "cell_type": "code",
   "execution_count": 23,
   "metadata": {},
   "outputs": [
    {
     "name": "stdout",
     "output_type": "stream",
     "text": [
      "Augmneted Dickey_fuller Statistic: -3.068924\n",
      "p-value: 0.028940\n",
      "critical values at different levels:\n",
      "\t1%: -3.432\n",
      "\t5%: -2.862\n",
      "\t10%: -2.567\n",
      "Отвергаем нулевую гипотезу\n"
     ]
    }
   ],
   "source": [
    "alpha = 0.05 # задаем уровень стат. значимости\n",
    "\n",
    "values = data['num_orders'].values\n",
    "res = adfuller(values)\n",
    "\n",
    "print('Augmneted Dickey_fuller Statistic: %f' % res[0])\n",
    "print('p-value: %f' % res[1])\n",
    "\n",
    "print('critical values at different levels:')\n",
    "for k, v in res[4].items():\n",
    "    print('\\t%s: %.3f' % (k, v))\n",
    "    \n",
    "if res[1] <= alpha:\n",
    "    print('Отвергаем нулевую гипотезу')\n",
    "else:\n",
    "    print('Нет оснований отвергнуть нулевую гипотезу')\n"
   ]
  },
  {
   "cell_type": "markdown",
   "metadata": {},
   "source": [
    "P-значение меньше уровня стат. значимости, что означает, что мы можем отвергнуть нулевую гипотезу при 90%, 95% уверенности, то есть данные временного ряда являются стационарными. \n"
   ]
  },
  {
   "cell_type": "markdown",
   "metadata": {},
   "source": [
    "\n",
    "Проведем автокорреляционный анализ для выявления зависимости текущих значений от предыдущих."
   ]
  },
  {
   "cell_type": "code",
   "execution_count": 13,
   "metadata": {},
   "outputs": [
    {
     "data": {
      "text/plain": [
       "<Figure size 1440x720 with 0 Axes>"
      ]
     },
     "metadata": {},
     "output_type": "display_data"
    },
    {
     "data": {
      "image/png": "[encoded data removed]",
      "text/plain": [
       "<Figure size 1440x720 with 1 Axes>"
      ]
     },
     "metadata": {
      "needs_background": "light"
     },
     "output_type": "display_data"
    }
   ],
   "source": [
    "data_a = data['num_orders'].to_numpy()\n",
    "\n",
    "plt.rc(\"figure\", figsize=(20,10))\n",
    "plt.figure(figsize=(20,10))\n",
    "plot_acf(data_a, lags=100)\n",
    "plt.show()"
   ]
  },
  {
   "cell_type": "code",
   "execution_count": 14,
   "metadata": {},
   "outputs": [
    {
     "data": {
      "text/plain": [
       "<Figure size 1440x720 with 0 Axes>"
      ]
     },
     "metadata": {},
     "output_type": "display_data"
    },
    {
     "data": {
      "image/png": "[encoded data removed]",
      "text/plain": [
       "<Figure size 1440x720 with 1 Axes>"
      ]
     },
     "metadata": {
      "needs_background": "light"
     },
     "output_type": "display_data"
    }
   ],
   "source": [
    "data_a = data['num_orders'].resample('1D').sum().to_numpy()\n",
    "\n",
    "plt.rc(\"figure\", figsize=(20,10))\n",
    "plt.figure(figsize=(20,10))\n",
    "plot_acf(data_a, lags=30)\n",
    "plt.show()"
   ]
  },
  {
   "cell_type": "markdown",
   "metadata": {},
   "source": [
    "### Промежуточный вывод\n",
    "\n",
    "На графиках видно, что количество заказов увеличивается от месяца к месяцу.\n",
    "\n",
    "Также наблюдается сезонность внутри дней недели: рост числа заказов по понедельникам и в конце недели.\n",
    "Внутри дня также наблюдается сезонность: больше всего заказов совершается с вечера и достигает пика в ночное время, также есть небольшое увеличение в числе заказов в обеденное время.\n",
    "\n",
    "Вместе с временным рядом изменяются среднее и дисперсия распределения.\n",
    "Однако проведенный статистический тест Дики-Фуллера показал, что ряд является стационарным.\n",
    "\n",
    "На графиках автокорреляции внутри дня наблюдаем одинаковые пики в 24, 48, 72, 96 столбиках. Значимые лаги в 23,24,1 час с сезонностью в 24 часа можем использовать для введения новых признаков с отстающими значениями.\n",
    "\n",
    "Для прогнозирования также используем сезонность в течение недели, равной 7 дням.\n"
   ]
  },
  {
   "cell_type": "markdown",
   "metadata": {},
   "source": [
    "## Обучение\n",
    "\n",
    "Добавим в датасет на основе даты и часа заказа новые признаки на основе сезонности:\n",
    "- день недели заказа;\n",
    "- час заказа.\n",
    "\n",
    "Также добавим новые признаки: \n",
    "- отстающие значения, \n",
    "- скользящее среднее, \n",
    "- скользящее отклонение заказов.\n",
    "\n",
    "Разобьем данные на тренировочную и тестовую выборки в соотношении 9 к 1."
   ]
  },
  {
   "cell_type": "code",
   "execution_count": 10,
   "metadata": {},
   "outputs": [
    {
     "data": {
      "text/plain": [
       "'X_train: (3806, 7)'"
      ]
     },
     "metadata": {},
     "output_type": "display_data"
    },
    {
     "data": {
      "text/plain": [
       "'X_test: (442, 7)'"
      ]
     },
     "metadata": {},
     "output_type": "display_data"
    },
    {
     "data": {
      "text/plain": [
       "'y_train: (3806,)'"
      ]
     },
     "metadata": {},
     "output_type": "display_data"
    },
    {
     "data": {
      "text/plain": [
       "'y_test: (442,)'"
      ]
     },
     "metadata": {},
     "output_type": "display_data"
    }
   ],
   "source": [
    "def make_features(data, max_lag, rolling_mean_size):\n",
    "    data['dayofweek'] = data.index.dayofweek\n",
    "    data['hour'] = data.index.hour\n",
    "    \n",
    "    for lag in [23, 24, 1]:\n",
    "        data['lag_{}'.format(lag)] = data['num_orders'].shift(lag)\n",
    "\n",
    "    data['rolling_mean'] = data['num_orders'].shift().rolling(rolling_mean_size).mean()\n",
    "\n",
    "    data['rolling_std'] = data['num_orders'].shift().rolling(rolling_mean_size).std()\n",
    "    \n",
    "make_features(data, 6, 168)\n",
    "\n",
    "train, test = train_test_split(data.drop('num_orders', axis=1), shuffle=False, test_size=0.1)\n",
    "train = train.dropna()\n",
    "\n",
    "\n",
    "X_train = train.drop('num_orders', axis=1)\n",
    "y_train = train['num_orders']\n",
    "X_test = test.drop('num_orders', axis=1)\n",
    "y_test = test['num_orders']\n",
    "\n",
    "display(f'X_train: {X_train.shape}', \n",
    "        f'X_test: {X_test.shape}',\n",
    "        f'y_train: {y_train.shape}', \n",
    "        f'y_test: {y_test.shape}' )"
   ]
  },
  {
   "cell_type": "markdown",
   "metadata": {},
   "source": [
    "Создадим пайплайн с 5 моделями для обучения, для каждой пропишем словарь с гиперпараметрами.\n",
    "С помощью случайного поиска гиперпараметров выберем оптимальную модель с наименьшим значением метрики RMSE на кросс-валидации."
   ]
  },
  {
   "cell_type": "code",
   "execution_count": 17,
   "metadata": {},
   "outputs": [
    {
     "name": "stdout",
     "output_type": "stream",
     "text": [
      "0:\tlearn: 25.5447528\ttotal: 47.4ms\tremaining: 1.14s\n",
      "1:\tlearn: 23.0339257\ttotal: 48.4ms\tremaining: 556ms\n",
      "2:\tlearn: 21.5597022\ttotal: 49.1ms\tremaining: 360ms\n",
      "3:\tlearn: 20.7924786\ttotal: 49.8ms\tremaining: 261ms\n",
      "4:\tlearn: 19.9867087\ttotal: 50.5ms\tremaining: 202ms\n",
      "5:\tlearn: 19.4134942\ttotal: 51.1ms\tremaining: 162ms\n",
      "6:\tlearn: 19.0838343\ttotal: 51.7ms\tremaining: 133ms\n",
      "7:\tlearn: 18.7410639\ttotal: 52.5ms\tremaining: 112ms\n",
      "8:\tlearn: 18.4435151\ttotal: 53.2ms\tremaining: 94.6ms\n",
      "9:\tlearn: 18.0899760\ttotal: 53.9ms\tremaining: 80.8ms\n",
      "10:\tlearn: 17.5941354\ttotal: 54.4ms\tremaining: 69.3ms\n",
      "11:\tlearn: 17.3198126\ttotal: 55.1ms\tremaining: 59.7ms\n",
      "12:\tlearn: 17.0675994\ttotal: 55.8ms\tremaining: 51.5ms\n",
      "13:\tlearn: 16.9225240\ttotal: 56.4ms\tremaining: 44.3ms\n",
      "14:\tlearn: 16.8071688\ttotal: 57ms\tremaining: 38ms\n",
      "15:\tlearn: 16.5674506\ttotal: 57.5ms\tremaining: 32.3ms\n",
      "16:\tlearn: 16.4834208\ttotal: 58.2ms\tremaining: 27.4ms\n",
      "17:\tlearn: 16.3256909\ttotal: 58.9ms\tremaining: 22.9ms\n",
      "18:\tlearn: 16.0828844\ttotal: 59.6ms\tremaining: 18.8ms\n",
      "19:\tlearn: 15.8730094\ttotal: 60.2ms\tremaining: 15.1ms\n",
      "20:\tlearn: 15.7640353\ttotal: 60.9ms\tremaining: 11.6ms\n",
      "21:\tlearn: 15.5737711\ttotal: 61.5ms\tremaining: 8.38ms\n",
      "22:\tlearn: 15.4771918\ttotal: 62.1ms\tremaining: 5.4ms\n",
      "23:\tlearn: 15.4366707\ttotal: 62.7ms\tremaining: 2.61ms\n",
      "24:\tlearn: 15.2553238\ttotal: 63.4ms\tremaining: 0us\n",
      "0:\tlearn: 27.2858657\ttotal: 1.3ms\tremaining: 31.2ms\n",
      "1:\tlearn: 24.8296211\ttotal: 2.38ms\tremaining: 27.3ms\n",
      "2:\tlearn: 23.3955006\ttotal: 3.37ms\tremaining: 24.7ms\n",
      "3:\tlearn: 22.5404425\ttotal: 4.22ms\tremaining: 22.2ms\n",
      "4:\tlearn: 21.7484637\ttotal: 5.08ms\tremaining: 20.3ms\n",
      "5:\tlearn: 21.3407070\ttotal: 5.97ms\tremaining: 18.9ms\n",
      "6:\tlearn: 20.9914434\ttotal: 6.84ms\tremaining: 17.6ms\n",
      "7:\tlearn: 20.7062866\ttotal: 7.72ms\tremaining: 16.4ms\n",
      "8:\tlearn: 20.4039249\ttotal: 8.57ms\tremaining: 15.2ms\n",
      "9:\tlearn: 20.2677871\ttotal: 9.46ms\tremaining: 14.2ms\n",
      "10:\tlearn: 19.9303648\ttotal: 10.4ms\tremaining: 13.2ms\n",
      "11:\tlearn: 19.7079554\ttotal: 11.3ms\tremaining: 12.2ms\n",
      "12:\tlearn: 19.5743231\ttotal: 12.1ms\tremaining: 11.2ms\n",
      "13:\tlearn: 19.4510668\ttotal: 13ms\tremaining: 10.2ms\n",
      "14:\tlearn: 19.3333560\ttotal: 13.8ms\tremaining: 9.21ms\n",
      "15:\tlearn: 19.2828158\ttotal: 14.6ms\tremaining: 8.21ms\n",
      "16:\tlearn: 19.0677974\ttotal: 15.4ms\tremaining: 7.25ms\n",
      "17:\tlearn: 18.9184694\ttotal: 16.3ms\tremaining: 6.34ms\n",
      "18:\tlearn: 18.7390565\ttotal: 17.1ms\tremaining: 5.4ms\n",
      "19:\tlearn: 18.6460224\ttotal: 18ms\tremaining: 4.49ms\n",
      "20:\tlearn: 18.5037050\ttotal: 18.7ms\tremaining: 3.57ms\n",
      "21:\tlearn: 18.2392491\ttotal: 19.6ms\tremaining: 2.67ms\n",
      "22:\tlearn: 18.1689127\ttotal: 20.3ms\tremaining: 1.77ms\n",
      "23:\tlearn: 18.0934557\ttotal: 21.2ms\tremaining: 883us\n",
      "24:\tlearn: 17.9349500\ttotal: 22.1ms\tremaining: 0us\n",
      "0:\tlearn: 28.8993042\ttotal: 1.34ms\tremaining: 32.1ms\n",
      "1:\tlearn: 26.3741574\ttotal: 2.56ms\tremaining: 29.5ms\n",
      "2:\tlearn: 24.7145485\ttotal: 3.56ms\tremaining: 26.1ms\n",
      "3:\tlearn: 23.6198947\ttotal: 4.58ms\tremaining: 24ms\n",
      "4:\tlearn: 22.8555123\ttotal: 5.6ms\tremaining: 22.4ms\n",
      "5:\tlearn: 22.4006394\ttotal: 6.55ms\tremaining: 20.7ms\n",
      "6:\tlearn: 21.8641767\ttotal: 7.62ms\tremaining: 19.6ms\n",
      "7:\tlearn: 21.5875124\ttotal: 8.62ms\tremaining: 18.3ms\n",
      "8:\tlearn: 21.2000620\ttotal: 9.6ms\tremaining: 17.1ms\n",
      "9:\tlearn: 21.0581842\ttotal: 10.6ms\tremaining: 15.9ms\n",
      "10:\tlearn: 20.8078038\ttotal: 11.6ms\tremaining: 14.8ms\n",
      "11:\tlearn: 20.6562410\ttotal: 12.6ms\tremaining: 13.6ms\n",
      "12:\tlearn: 20.5124898\ttotal: 13.6ms\tremaining: 12.6ms\n",
      "13:\tlearn: 20.3345415\ttotal: 14.7ms\tremaining: 11.6ms\n",
      "14:\tlearn: 20.2433630\ttotal: 15.6ms\tremaining: 10.4ms\n",
      "15:\tlearn: 20.1057561\ttotal: 16.7ms\tremaining: 9.38ms\n",
      "16:\tlearn: 19.8897455\ttotal: 17.6ms\tremaining: 8.3ms\n",
      "17:\tlearn: 19.7858409\ttotal: 18.7ms\tremaining: 7.25ms\n",
      "18:\tlearn: 19.6343786\ttotal: 19.7ms\tremaining: 6.22ms\n",
      "19:\tlearn: 19.4457274\ttotal: 20.7ms\tremaining: 5.17ms\n",
      "20:\tlearn: 19.3902792\ttotal: 21.7ms\tremaining: 4.13ms\n",
      "21:\tlearn: 19.2598181\ttotal: 22.8ms\tremaining: 3.11ms\n",
      "22:\tlearn: 19.2150736\ttotal: 23.7ms\tremaining: 2.06ms\n",
      "23:\tlearn: 19.1561357\ttotal: 24.7ms\tremaining: 1.03ms\n",
      "24:\tlearn: 19.0721910\ttotal: 25.8ms\tremaining: 0us\n",
      "0:\tlearn: 29.9215155\ttotal: 1.25ms\tremaining: 30.1ms\n",
      "1:\tlearn: 27.3305330\ttotal: 2.51ms\tremaining: 28.9ms\n",
      "2:\tlearn: 25.4709295\ttotal: 3.57ms\tremaining: 26.2ms\n",
      "3:\tlearn: 24.4746293\ttotal: 4.67ms\tremaining: 24.5ms\n",
      "4:\tlearn: 23.6946443\ttotal: 5.74ms\tremaining: 23ms\n",
      "5:\tlearn: 23.2741488\ttotal: 6.77ms\tremaining: 21.4ms\n",
      "6:\tlearn: 22.8413637\ttotal: 7.79ms\tremaining: 20ms\n",
      "7:\tlearn: 22.4445998\ttotal: 8.81ms\tremaining: 18.7ms\n",
      "8:\tlearn: 22.2780127\ttotal: 9.78ms\tremaining: 17.4ms\n",
      "9:\tlearn: 21.8487550\ttotal: 10.8ms\tremaining: 16.2ms\n",
      "10:\tlearn: 21.6626299\ttotal: 11.9ms\tremaining: 15.2ms\n",
      "11:\tlearn: 21.4341901\ttotal: 12.9ms\tremaining: 14ms\n",
      "12:\tlearn: 21.2487481\ttotal: 14.1ms\tremaining: 13ms\n",
      "13:\tlearn: 21.0816226\ttotal: 15.1ms\tremaining: 11.9ms\n",
      "14:\tlearn: 21.0284505\ttotal: 16.1ms\tremaining: 10.7ms\n",
      "15:\tlearn: 20.9403587\ttotal: 17.1ms\tremaining: 9.63ms\n",
      "16:\tlearn: 20.8254197\ttotal: 18.2ms\tremaining: 8.57ms\n",
      "17:\tlearn: 20.7481891\ttotal: 19.2ms\tremaining: 7.48ms\n",
      "18:\tlearn: 20.6909688\ttotal: 20.3ms\tremaining: 6.4ms\n",
      "19:\tlearn: 20.5796288\ttotal: 21.3ms\tremaining: 5.33ms\n",
      "20:\tlearn: 20.4691588\ttotal: 22.3ms\tremaining: 4.25ms\n",
      "21:\tlearn: 20.3391326\ttotal: 23.3ms\tremaining: 3.18ms\n",
      "22:\tlearn: 20.2715056\ttotal: 24.4ms\tremaining: 2.12ms\n",
      "23:\tlearn: 20.2395385\ttotal: 25.3ms\tremaining: 1.06ms\n",
      "24:\tlearn: 20.1736997\ttotal: 26.3ms\tremaining: 0us\n",
      "0:\tlearn: 28.5719676\ttotal: 790us\tremaining: 3.16ms\n",
      "1:\tlearn: 27.9826043\ttotal: 1.71ms\tremaining: 2.57ms\n",
      "2:\tlearn: 27.4291701\ttotal: 2.4ms\tremaining: 1.6ms\n",
      "3:\tlearn: 27.0102270\ttotal: 3.11ms\tremaining: 777us\n",
      "4:\tlearn: 26.4951632\ttotal: 3.81ms\tremaining: 0us\n",
      "0:\tlearn: 30.5334726\ttotal: 951us\tremaining: 3.81ms\n",
      "1:\tlearn: 29.8753460\ttotal: 1.99ms\tremaining: 2.98ms\n",
      "2:\tlearn: 29.2948517\ttotal: 2.86ms\tremaining: 1.9ms\n",
      "3:\tlearn: 28.8264086\ttotal: 3.7ms\tremaining: 924us\n",
      "4:\tlearn: 28.2753573\ttotal: 4.64ms\tremaining: 0us\n",
      "0:\tlearn: 32.3242432\ttotal: 1.12ms\tremaining: 4.48ms\n",
      "1:\tlearn: 31.6396250\ttotal: 2.37ms\tremaining: 3.56ms\n",
      "2:\tlearn: 31.0075446\ttotal: 3.45ms\tremaining: 2.3ms\n",
      "3:\tlearn: 30.4094279\ttotal: 4.41ms\tremaining: 1.1ms\n",
      "4:\tlearn: 29.8139119\ttotal: 5.43ms\tremaining: 0us\n",
      "0:\tlearn: 33.5254733\ttotal: 1.23ms\tremaining: 4.92ms\n",
      "1:\tlearn: 32.8180108\ttotal: 2.46ms\tremaining: 3.7ms\n",
      "2:\tlearn: 32.1420392\ttotal: 3.46ms\tremaining: 2.31ms\n",
      "3:\tlearn: 31.5502748\ttotal: 4.57ms\tremaining: 1.14ms\n",
      "4:\tlearn: 30.9030449\ttotal: 5.66ms\tremaining: 0us\n",
      "0:\tlearn: 25.5447528\ttotal: 828us\tremaining: 7.45ms\n",
      "1:\tlearn: 23.0339257\ttotal: 1.59ms\tremaining: 6.35ms\n",
      "2:\tlearn: 21.5597022\ttotal: 2.4ms\tremaining: 5.6ms\n",
      "3:\tlearn: 20.7924786\ttotal: 3.11ms\tremaining: 4.67ms\n",
      "4:\tlearn: 19.9867087\ttotal: 3.75ms\tremaining: 3.75ms\n",
      "5:\tlearn: 19.4134942\ttotal: 4.36ms\tremaining: 2.91ms\n",
      "6:\tlearn: 19.0838343\ttotal: 5.06ms\tremaining: 2.17ms\n",
      "7:\tlearn: 18.7410639\ttotal: 5.79ms\tremaining: 1.45ms\n",
      "8:\tlearn: 18.4435151\ttotal: 6.39ms\tremaining: 710us\n",
      "9:\tlearn: 18.0899760\ttotal: 7.08ms\tremaining: 0us\n",
      "0:\tlearn: 27.2858657\ttotal: 1.09ms\tremaining: 9.8ms\n",
      "1:\tlearn: 24.8296211\ttotal: 2.11ms\tremaining: 8.44ms\n",
      "2:\tlearn: 23.3955006\ttotal: 3.11ms\tremaining: 7.25ms\n",
      "3:\tlearn: 22.5404425\ttotal: 3.92ms\tremaining: 5.89ms\n",
      "4:\tlearn: 21.7484637\ttotal: 4.66ms\tremaining: 4.66ms\n",
      "5:\tlearn: 21.3407070\ttotal: 5.56ms\tremaining: 3.71ms\n",
      "6:\tlearn: 20.9914434\ttotal: 6.42ms\tremaining: 2.75ms\n",
      "7:\tlearn: 20.7062866\ttotal: 7.55ms\tremaining: 1.89ms\n",
      "8:\tlearn: 20.4039249\ttotal: 8.38ms\tremaining: 930us\n",
      "9:\tlearn: 20.2677871\ttotal: 9.22ms\tremaining: 0us\n",
      "0:\tlearn: 28.8993042\ttotal: 1.18ms\tremaining: 10.6ms\n",
      "1:\tlearn: 26.3741574\ttotal: 2.45ms\tremaining: 9.8ms\n",
      "2:\tlearn: 24.7145485\ttotal: 3.44ms\tremaining: 8.03ms\n",
      "3:\tlearn: 23.6198947\ttotal: 4.39ms\tremaining: 6.59ms\n",
      "4:\tlearn: 22.8555123\ttotal: 5.42ms\tremaining: 5.42ms\n",
      "5:\tlearn: 22.4006394\ttotal: 6.43ms\tremaining: 4.29ms\n",
      "6:\tlearn: 21.8641767\ttotal: 7.41ms\tremaining: 3.18ms\n",
      "7:\tlearn: 21.5875124\ttotal: 8.38ms\tremaining: 2.1ms\n",
      "8:\tlearn: 21.2000620\ttotal: 9.32ms\tremaining: 1.03ms\n",
      "9:\tlearn: 21.0581842\ttotal: 10.4ms\tremaining: 0us\n",
      "0:\tlearn: 29.9215155\ttotal: 1.34ms\tremaining: 12ms\n",
      "1:\tlearn: 27.3305330\ttotal: 2.67ms\tremaining: 10.7ms\n",
      "2:\tlearn: 25.4709295\ttotal: 3.78ms\tremaining: 8.81ms\n",
      "3:\tlearn: 24.4746293\ttotal: 4.95ms\tremaining: 7.43ms\n",
      "4:\tlearn: 23.6946443\ttotal: 6.25ms\tremaining: 6.25ms\n",
      "5:\tlearn: 23.2741488\ttotal: 7.27ms\tremaining: 4.85ms\n",
      "6:\tlearn: 22.8413637\ttotal: 8.38ms\tremaining: 3.59ms\n",
      "7:\tlearn: 22.4445998\ttotal: 9.5ms\tremaining: 2.37ms\n",
      "8:\tlearn: 22.2780127\ttotal: 10.4ms\tremaining: 1.16ms\n",
      "9:\tlearn: 21.8487550\ttotal: 11.5ms\tremaining: 0us\n",
      "0:\tlearn: 28.5598848\ttotal: 729us\tremaining: 13.9ms\n",
      "1:\tlearn: 27.9567833\ttotal: 1.43ms\tremaining: 12.8ms\n",
      "2:\tlearn: 27.4381907\ttotal: 1.95ms\tremaining: 11ms\n",
      "3:\tlearn: 26.9211206\ttotal: 2.49ms\tremaining: 9.98ms\n",
      "4:\tlearn: 26.3895288\ttotal: 2.97ms\tremaining: 8.92ms\n",
      "5:\tlearn: 25.8895198\ttotal: 3.44ms\tremaining: 8.02ms\n",
      "6:\tlearn: 25.4328231\ttotal: 3.88ms\tremaining: 7.21ms\n",
      "7:\tlearn: 25.0439160\ttotal: 4.28ms\tremaining: 6.43ms\n",
      "8:\tlearn: 24.6345443\ttotal: 4.72ms\tremaining: 5.77ms\n",
      "9:\tlearn: 24.2462184\ttotal: 5.14ms\tremaining: 5.14ms\n",
      "10:\tlearn: 23.9436499\ttotal: 5.55ms\tremaining: 4.54ms\n",
      "11:\tlearn: 23.6536288\ttotal: 6.02ms\tremaining: 4.01ms\n",
      "12:\tlearn: 23.3334969\ttotal: 6.45ms\tremaining: 3.47ms\n",
      "13:\tlearn: 23.0500698\ttotal: 6.91ms\tremaining: 2.96ms\n",
      "14:\tlearn: 22.7693905\ttotal: 7.33ms\tremaining: 2.44ms\n",
      "15:\tlearn: 22.5620310\ttotal: 7.75ms\tremaining: 1.94ms\n",
      "16:\tlearn: 22.3041113\ttotal: 8.17ms\tremaining: 1.44ms\n",
      "17:\tlearn: 22.0443571\ttotal: 8.68ms\tremaining: 964us\n",
      "18:\tlearn: 21.8464571\ttotal: 9.11ms\tremaining: 479us\n",
      "19:\tlearn: 21.6438541\ttotal: 9.56ms\tremaining: 0us\n",
      "0:\tlearn: 30.5788955\ttotal: 744us\tremaining: 14.1ms\n",
      "1:\tlearn: 29.9687138\ttotal: 1.49ms\tremaining: 13.4ms\n",
      "2:\tlearn: 29.3558837\ttotal: 2.08ms\tremaining: 11.8ms\n",
      "3:\tlearn: 28.8251110\ttotal: 2.76ms\tremaining: 11ms\n",
      "4:\tlearn: 28.3366053\ttotal: 3.4ms\tremaining: 10.2ms\n",
      "5:\tlearn: 27.8502273\ttotal: 4.04ms\tremaining: 9.42ms\n",
      "6:\tlearn: 27.4034924\ttotal: 4.6ms\tremaining: 8.55ms\n",
      "7:\tlearn: 26.9991454\ttotal: 5.23ms\tremaining: 7.85ms\n",
      "8:\tlearn: 26.5672222\ttotal: 5.89ms\tremaining: 7.2ms\n",
      "9:\tlearn: 26.2057266\ttotal: 6.47ms\tremaining: 6.47ms\n",
      "10:\tlearn: 25.9068886\ttotal: 7.03ms\tremaining: 5.75ms\n",
      "11:\tlearn: 25.5778336\ttotal: 7.65ms\tremaining: 5.1ms\n",
      "12:\tlearn: 25.2406745\ttotal: 8.27ms\tremaining: 4.45ms\n",
      "13:\tlearn: 24.9146564\ttotal: 8.8ms\tremaining: 3.77ms\n",
      "14:\tlearn: 24.6460766\ttotal: 9.4ms\tremaining: 3.13ms\n",
      "15:\tlearn: 24.4191565\ttotal: 10ms\tremaining: 2.51ms\n",
      "16:\tlearn: 24.1585470\ttotal: 10.7ms\tremaining: 1.89ms\n",
      "17:\tlearn: 23.9600583\ttotal: 11.4ms\tremaining: 1.26ms\n",
      "18:\tlearn: 23.7346011\ttotal: 11.9ms\tremaining: 625us\n",
      "19:\tlearn: 23.5469687\ttotal: 12.4ms\tremaining: 0us\n",
      "0:\tlearn: 32.3266832\ttotal: 879us\tremaining: 16.7ms\n",
      "1:\tlearn: 31.6358267\ttotal: 2ms\tremaining: 18ms\n",
      "2:\tlearn: 30.9831168\ttotal: 2.63ms\tremaining: 14.9ms\n",
      "3:\tlearn: 30.4110758\ttotal: 3.28ms\tremaining: 13.1ms\n",
      "4:\tlearn: 29.8870774\ttotal: 4.02ms\tremaining: 12.1ms\n",
      "5:\tlearn: 29.3948880\ttotal: 4.77ms\tremaining: 11.1ms\n",
      "6:\tlearn: 28.9062395\ttotal: 5.47ms\tremaining: 10.2ms\n",
      "7:\tlearn: 28.5082400\ttotal: 6.08ms\tremaining: 9.12ms\n",
      "8:\tlearn: 28.0656008\ttotal: 6.81ms\tremaining: 8.32ms\n",
      "9:\tlearn: 27.6555860\ttotal: 7.53ms\tremaining: 7.53ms\n",
      "10:\tlearn: 27.2980686\ttotal: 8.17ms\tremaining: 6.69ms\n",
      "11:\tlearn: 26.9733319\ttotal: 8.85ms\tremaining: 5.9ms\n",
      "12:\tlearn: 26.6176320\ttotal: 9.59ms\tremaining: 5.16ms\n",
      "13:\tlearn: 26.2929553\ttotal: 10.3ms\tremaining: 4.42ms\n",
      "14:\tlearn: 26.0263053\ttotal: 11ms\tremaining: 3.66ms\n",
      "15:\tlearn: 25.7824772\ttotal: 11.7ms\tremaining: 2.91ms\n",
      "16:\tlearn: 25.5120720\ttotal: 12.3ms\tremaining: 2.18ms\n",
      "17:\tlearn: 25.2763980\ttotal: 13ms\tremaining: 1.45ms\n",
      "18:\tlearn: 25.0607259\ttotal: 13.8ms\tremaining: 723us\n",
      "19:\tlearn: 24.8312206\ttotal: 14.5ms\tremaining: 0us\n",
      "0:\tlearn: 33.5321686\ttotal: 1.22ms\tremaining: 23.2ms\n",
      "1:\tlearn: 32.8414803\ttotal: 2.54ms\tremaining: 22.8ms\n",
      "2:\tlearn: 32.1816229\ttotal: 3.52ms\tremaining: 19.9ms\n",
      "3:\tlearn: 31.6328780\ttotal: 4.54ms\tremaining: 18.1ms\n",
      "4:\tlearn: 31.0433922\ttotal: 5.65ms\tremaining: 17ms\n",
      "5:\tlearn: 30.5023027\ttotal: 6.47ms\tremaining: 15.1ms\n",
      "6:\tlearn: 29.9815666\ttotal: 7.59ms\tremaining: 14.1ms\n",
      "7:\tlearn: 29.5417437\ttotal: 8.47ms\tremaining: 12.7ms\n",
      "8:\tlearn: 29.0749841\ttotal: 9.39ms\tremaining: 11.5ms\n",
      "9:\tlearn: 28.6627146\ttotal: 10.3ms\tremaining: 10.3ms\n",
      "10:\tlearn: 28.3036866\ttotal: 11.2ms\tremaining: 9.15ms\n",
      "11:\tlearn: 27.9494013\ttotal: 11.9ms\tremaining: 7.93ms\n",
      "12:\tlearn: 27.5952963\ttotal: 12.6ms\tremaining: 6.79ms\n",
      "13:\tlearn: 27.2972306\ttotal: 13.5ms\tremaining: 5.76ms\n",
      "14:\tlearn: 27.0218356\ttotal: 14.3ms\tremaining: 4.75ms\n",
      "15:\tlearn: 26.7792350\ttotal: 15.1ms\tremaining: 3.78ms\n",
      "16:\tlearn: 26.4822107\ttotal: 15.9ms\tremaining: 2.81ms\n",
      "17:\tlearn: 26.2265704\ttotal: 16.8ms\tremaining: 1.86ms\n",
      "18:\tlearn: 25.9970230\ttotal: 17.7ms\tremaining: 929us\n",
      "19:\tlearn: 25.7939373\ttotal: 18.4ms\tremaining: 0us\n",
      "0:\tlearn: 25.4936532\ttotal: 578us\tremaining: 5.2ms\n",
      "1:\tlearn: 23.0842123\ttotal: 1.21ms\tremaining: 4.85ms\n",
      "2:\tlearn: 21.5393116\ttotal: 1.7ms\tremaining: 3.97ms\n",
      "3:\tlearn: 20.5907377\ttotal: 2.24ms\tremaining: 3.37ms\n",
      "4:\tlearn: 20.1462913\ttotal: 2.73ms\tremaining: 2.73ms\n",
      "5:\tlearn: 19.6254524\ttotal: 3.19ms\tremaining: 2.13ms\n",
      "6:\tlearn: 19.3104188\ttotal: 3.66ms\tremaining: 1.57ms\n",
      "7:\tlearn: 19.0263737\ttotal: 4.15ms\tremaining: 1.04ms\n",
      "8:\tlearn: 18.8186737\ttotal: 4.86ms\tremaining: 539us\n",
      "9:\tlearn: 18.5206308\ttotal: 5.28ms\tremaining: 0us\n",
      "0:\tlearn: 27.5629415\ttotal: 698us\tremaining: 6.28ms\n",
      "1:\tlearn: 25.0635545\ttotal: 1.52ms\tremaining: 6.07ms\n",
      "2:\tlearn: 23.7299108\ttotal: 2.19ms\tremaining: 5.11ms\n",
      "3:\tlearn: 22.9069193\ttotal: 2.79ms\tremaining: 4.19ms\n",
      "4:\tlearn: 22.2766510\ttotal: 3.41ms\tremaining: 3.41ms\n",
      "5:\tlearn: 21.6805866\ttotal: 4ms\tremaining: 2.67ms\n",
      "6:\tlearn: 21.4472406\ttotal: 4.66ms\tremaining: 2ms\n",
      "7:\tlearn: 20.9689058\ttotal: 5.26ms\tremaining: 1.31ms\n",
      "8:\tlearn: 20.7341832\ttotal: 5.85ms\tremaining: 649us\n",
      "9:\tlearn: 20.5361009\ttotal: 6.38ms\tremaining: 0us\n",
      "0:\tlearn: 28.9208691\ttotal: 871us\tremaining: 7.84ms\n",
      "1:\tlearn: 26.4591060\ttotal: 1.69ms\tremaining: 6.76ms\n",
      "2:\tlearn: 24.8539283\ttotal: 2.38ms\tremaining: 5.56ms\n",
      "3:\tlearn: 23.9708430\ttotal: 3.02ms\tremaining: 4.53ms\n",
      "4:\tlearn: 23.2026050\ttotal: 3.73ms\tremaining: 3.73ms\n",
      "5:\tlearn: 22.6144116\ttotal: 4.41ms\tremaining: 2.94ms\n",
      "6:\tlearn: 22.3460084\ttotal: 5.07ms\tremaining: 2.17ms\n",
      "7:\tlearn: 22.0075514\ttotal: 5.68ms\tremaining: 1.42ms\n",
      "8:\tlearn: 21.7896278\ttotal: 6.39ms\tremaining: 710us\n",
      "9:\tlearn: 21.6109096\ttotal: 7.06ms\tremaining: 0us\n",
      "0:\tlearn: 29.9669052\ttotal: 967us\tremaining: 8.71ms\n",
      "1:\tlearn: 27.4255155\ttotal: 1.96ms\tremaining: 7.86ms\n",
      "2:\tlearn: 25.8447128\ttotal: 3.02ms\tremaining: 7.05ms\n",
      "3:\tlearn: 24.7639984\ttotal: 3.83ms\tremaining: 5.75ms\n",
      "4:\tlearn: 24.0099939\ttotal: 4.63ms\tremaining: 4.63ms\n",
      "5:\tlearn: 23.5822686\ttotal: 5.44ms\tremaining: 3.63ms\n",
      "6:\tlearn: 23.2807437\ttotal: 6.26ms\tremaining: 2.68ms\n",
      "7:\tlearn: 23.0278755\ttotal: 7ms\tremaining: 1.75ms\n",
      "8:\tlearn: 22.8412773\ttotal: 7.74ms\tremaining: 859us\n",
      "9:\tlearn: 22.6712903\ttotal: 8.52ms\tremaining: 0us\n",
      "0:\tlearn: 28.5430659\ttotal: 2.56ms\tremaining: 23ms\n",
      "1:\tlearn: 27.8597397\ttotal: 4.18ms\tremaining: 16.7ms\n",
      "2:\tlearn: 27.3792636\ttotal: 5.92ms\tremaining: 13.8ms\n",
      "3:\tlearn: 26.8690555\ttotal: 7.88ms\tremaining: 11.8ms\n",
      "4:\tlearn: 26.3469013\ttotal: 9.73ms\tremaining: 9.73ms\n",
      "5:\tlearn: 25.8023634\ttotal: 11.2ms\tremaining: 7.49ms\n",
      "6:\tlearn: 25.3365310\ttotal: 12.9ms\tremaining: 5.54ms\n",
      "7:\tlearn: 24.9101886\ttotal: 14.8ms\tremaining: 3.71ms\n",
      "8:\tlearn: 24.5017735\ttotal: 16.6ms\tremaining: 1.84ms\n",
      "9:\tlearn: 24.1058726\ttotal: 18.2ms\tremaining: 0us\n",
      "0:\tlearn: 30.4912589\ttotal: 2.52ms\tremaining: 22.7ms\n",
      "1:\tlearn: 29.8294139\ttotal: 4.87ms\tremaining: 19.5ms\n",
      "2:\tlearn: 29.2126025\ttotal: 6.91ms\tremaining: 16.1ms\n",
      "3:\tlearn: 28.6546043\ttotal: 8.84ms\tremaining: 13.3ms\n",
      "4:\tlearn: 28.1522631\ttotal: 11.1ms\tremaining: 11.1ms\n",
      "5:\tlearn: 27.6268812\ttotal: 13ms\tremaining: 8.69ms\n",
      "6:\tlearn: 27.1608669\ttotal: 15.1ms\tremaining: 6.49ms\n",
      "7:\tlearn: 26.6843307\ttotal: 17.1ms\tremaining: 4.29ms\n",
      "8:\tlearn: 26.2815293\ttotal: 19ms\tremaining: 2.11ms\n",
      "9:\tlearn: 25.8589951\ttotal: 21ms\tremaining: 0us\n",
      "0:\tlearn: 32.2805741\ttotal: 2.72ms\tremaining: 24.5ms\n",
      "1:\tlearn: 31.5213986\ttotal: 5.31ms\tremaining: 21.3ms\n",
      "2:\tlearn: 30.8941946\ttotal: 7.29ms\tremaining: 17ms\n",
      "3:\tlearn: 30.2743865\ttotal: 9.31ms\tremaining: 14ms\n",
      "4:\tlearn: 29.6713639\ttotal: 11.5ms\tremaining: 11.5ms\n",
      "5:\tlearn: 29.0867339\ttotal: 13.6ms\tremaining: 9.05ms\n",
      "6:\tlearn: 28.5836340\ttotal: 15.7ms\tremaining: 6.72ms\n",
      "7:\tlearn: 28.0654932\ttotal: 17.6ms\tremaining: 4.39ms\n",
      "8:\tlearn: 27.6251016\ttotal: 19.6ms\tremaining: 2.17ms\n",
      "9:\tlearn: 27.1898574\ttotal: 21.5ms\tremaining: 0us\n",
      "0:\tlearn: 33.5040386\ttotal: 2.59ms\tremaining: 23.3ms\n",
      "1:\tlearn: 32.7247199\ttotal: 5.13ms\tremaining: 20.5ms\n",
      "2:\tlearn: 32.0097393\ttotal: 7.28ms\tremaining: 17ms\n",
      "3:\tlearn: 31.3017567\ttotal: 9.58ms\tremaining: 14.4ms\n",
      "4:\tlearn: 30.6747226\ttotal: 11.8ms\tremaining: 11.8ms\n",
      "5:\tlearn: 30.0693080\ttotal: 14ms\tremaining: 9.34ms\n",
      "6:\tlearn: 29.5423432\ttotal: 16ms\tremaining: 6.87ms\n",
      "7:\tlearn: 29.0447135\ttotal: 18.2ms\tremaining: 4.54ms\n",
      "8:\tlearn: 28.6065352\ttotal: 20.2ms\tremaining: 2.25ms\n",
      "9:\tlearn: 28.1718021\ttotal: 22.5ms\tremaining: 0us\n",
      "0:\tlearn: 28.5430659\ttotal: 1.8ms\tremaining: 25.3ms\n",
      "1:\tlearn: 27.8597397\ttotal: 3.65ms\tremaining: 23.8ms\n",
      "2:\tlearn: 27.3792636\ttotal: 5.22ms\tremaining: 20.9ms\n",
      "3:\tlearn: 26.8690555\ttotal: 6.92ms\tremaining: 19ms\n",
      "4:\tlearn: 26.3469013\ttotal: 8.54ms\tremaining: 17.1ms\n",
      "5:\tlearn: 25.8023634\ttotal: 10.3ms\tremaining: 15.5ms\n",
      "6:\tlearn: 25.3365310\ttotal: 11.9ms\tremaining: 13.6ms\n",
      "7:\tlearn: 24.9101886\ttotal: 13.5ms\tremaining: 11.8ms\n",
      "8:\tlearn: 24.5017735\ttotal: 15.2ms\tremaining: 10.1ms\n",
      "9:\tlearn: 24.1058726\ttotal: 16.9ms\tremaining: 8.43ms\n",
      "10:\tlearn: 23.7174658\ttotal: 18.5ms\tremaining: 6.72ms\n",
      "11:\tlearn: 23.3651661\ttotal: 20.2ms\tremaining: 5.04ms\n",
      "12:\tlearn: 22.9880194\ttotal: 22ms\tremaining: 3.38ms\n",
      "13:\tlearn: 22.7115578\ttotal: 23.6ms\tremaining: 1.69ms\n",
      "14:\tlearn: 22.3822932\ttotal: 25.6ms\tremaining: 0us\n",
      "0:\tlearn: 30.4912589\ttotal: 3.61ms\tremaining: 50.5ms\n",
      "1:\tlearn: 29.8294139\ttotal: 6.87ms\tremaining: 44.6ms\n",
      "2:\tlearn: 29.2126025\ttotal: 10ms\tremaining: 40.1ms\n",
      "3:\tlearn: 28.6546043\ttotal: 13.2ms\tremaining: 36.4ms\n",
      "4:\tlearn: 28.1522631\ttotal: 16.1ms\tremaining: 32.3ms\n",
      "5:\tlearn: 27.6268812\ttotal: 19.3ms\tremaining: 29ms\n",
      "6:\tlearn: 27.1608669\ttotal: 22.5ms\tremaining: 25.7ms\n",
      "7:\tlearn: 26.6843307\ttotal: 25.5ms\tremaining: 22.3ms\n",
      "8:\tlearn: 26.2815293\ttotal: 27.2ms\tremaining: 18.2ms\n",
      "9:\tlearn: 25.8589951\ttotal: 29.2ms\tremaining: 14.6ms\n",
      "10:\tlearn: 25.4682610\ttotal: 30.9ms\tremaining: 11.2ms\n",
      "11:\tlearn: 25.1344643\ttotal: 32.7ms\tremaining: 8.18ms\n",
      "12:\tlearn: 24.8044313\ttotal: 34.5ms\tremaining: 5.3ms\n",
      "13:\tlearn: 24.5293653\ttotal: 36.4ms\tremaining: 2.6ms\n",
      "14:\tlearn: 24.2243454\ttotal: 38.3ms\tremaining: 0us\n",
      "0:\tlearn: 32.2805741\ttotal: 2.3ms\tremaining: 32.2ms\n",
      "1:\tlearn: 31.5213986\ttotal: 4.68ms\tremaining: 30.4ms\n",
      "2:\tlearn: 30.8941946\ttotal: 6.69ms\tremaining: 26.8ms\n",
      "3:\tlearn: 30.2743865\ttotal: 8.77ms\tremaining: 24.1ms\n",
      "4:\tlearn: 29.6713639\ttotal: 11ms\tremaining: 22.1ms\n",
      "5:\tlearn: 29.0867339\ttotal: 12.9ms\tremaining: 19.4ms\n",
      "6:\tlearn: 28.5836340\ttotal: 14.9ms\tremaining: 17ms\n",
      "7:\tlearn: 28.0654932\ttotal: 16.9ms\tremaining: 14.8ms\n",
      "8:\tlearn: 27.6251016\ttotal: 19.1ms\tremaining: 12.7ms\n",
      "9:\tlearn: 27.1898574\ttotal: 21.3ms\tremaining: 10.6ms\n",
      "10:\tlearn: 26.8061663\ttotal: 23.2ms\tremaining: 8.43ms\n",
      "11:\tlearn: 26.4207966\ttotal: 25.2ms\tremaining: 6.3ms\n",
      "12:\tlearn: 26.0534203\ttotal: 27.3ms\tremaining: 4.2ms\n",
      "13:\tlearn: 25.7344119\ttotal: 29.5ms\tremaining: 2.11ms\n",
      "14:\tlearn: 25.4147456\ttotal: 31.7ms\tremaining: 0us\n",
      "0:\tlearn: 33.5040386\ttotal: 2.63ms\tremaining: 36.8ms\n",
      "1:\tlearn: 32.7247199\ttotal: 5.26ms\tremaining: 34.2ms\n",
      "2:\tlearn: 32.0097393\ttotal: 7.75ms\tremaining: 31ms\n",
      "3:\tlearn: 31.3017567\ttotal: 10.2ms\tremaining: 28ms\n",
      "4:\tlearn: 30.6747226\ttotal: 12.6ms\tremaining: 25.2ms\n",
      "5:\tlearn: 30.0693080\ttotal: 15ms\tremaining: 22.5ms\n",
      "6:\tlearn: 29.5423432\ttotal: 17.4ms\tremaining: 19.9ms\n",
      "7:\tlearn: 29.0447135\ttotal: 19.8ms\tremaining: 17.3ms\n",
      "8:\tlearn: 28.6065352\ttotal: 22.1ms\tremaining: 14.7ms\n",
      "9:\tlearn: 28.1718021\ttotal: 24.4ms\tremaining: 12.2ms\n",
      "10:\tlearn: 27.7721286\ttotal: 26.6ms\tremaining: 9.65ms\n",
      "11:\tlearn: 27.3804770\ttotal: 29ms\tremaining: 7.24ms\n",
      "12:\tlearn: 26.9890430\ttotal: 31.3ms\tremaining: 4.82ms\n",
      "13:\tlearn: 26.6266503\ttotal: 33.5ms\tremaining: 2.4ms\n",
      "14:\tlearn: 26.2929485\ttotal: 35.8ms\tremaining: 0us\n",
      "0:\tlearn: 27.8762704\ttotal: 1.33ms\tremaining: 11.9ms\n",
      "1:\tlearn: 26.7680850\ttotal: 3.16ms\tremaining: 12.7ms\n",
      "2:\tlearn: 25.7191065\ttotal: 4.73ms\tremaining: 11ms\n",
      "3:\tlearn: 24.7407723\ttotal: 5.96ms\tremaining: 8.94ms\n",
      "4:\tlearn: 23.9928978\ttotal: 7.67ms\tremaining: 7.67ms\n",
      "5:\tlearn: 23.2713201\ttotal: 8.86ms\tremaining: 5.9ms\n",
      "6:\tlearn: 22.6206322\ttotal: 10.7ms\tremaining: 4.6ms\n",
      "7:\tlearn: 21.9581543\ttotal: 12.1ms\tremaining: 3.04ms\n",
      "8:\tlearn: 21.4921622\ttotal: 13.3ms\tremaining: 1.48ms\n",
      "9:\tlearn: 21.0449082\ttotal: 15.1ms\tremaining: 0us\n",
      "0:\tlearn: 29.7679650\ttotal: 1.37ms\tremaining: 12.3ms\n",
      "1:\tlearn: 28.6392767\ttotal: 2.8ms\tremaining: 11.2ms\n",
      "2:\tlearn: 27.5965550\ttotal: 4.04ms\tremaining: 9.43ms\n",
      "3:\tlearn: 26.7985867\ttotal: 5.35ms\tremaining: 8.03ms\n",
      "4:\tlearn: 25.9792447\ttotal: 6.68ms\tremaining: 6.68ms\n",
      "5:\tlearn: 25.3185358\ttotal: 7.95ms\tremaining: 5.3ms\n",
      "6:\tlearn: 24.6567164\ttotal: 9.23ms\tremaining: 3.96ms\n",
      "7:\tlearn: 24.0584755\ttotal: 10.5ms\tremaining: 2.63ms\n",
      "8:\tlearn: 23.5374099\ttotal: 11.8ms\tremaining: 1.32ms\n",
      "9:\tlearn: 23.1093246\ttotal: 13.1ms\tremaining: 0us\n",
      "0:\tlearn: 31.5666708\ttotal: 1.64ms\tremaining: 14.8ms\n",
      "1:\tlearn: 30.2068355\ttotal: 3.25ms\tremaining: 13ms\n",
      "2:\tlearn: 29.1125808\ttotal: 4.76ms\tremaining: 11.1ms\n",
      "3:\tlearn: 28.2571711\ttotal: 6.12ms\tremaining: 9.18ms\n",
      "4:\tlearn: 27.3969580\ttotal: 7.52ms\tremaining: 7.52ms\n",
      "5:\tlearn: 26.6404763\ttotal: 8.87ms\tremaining: 5.91ms\n",
      "6:\tlearn: 25.9216955\ttotal: 10.3ms\tremaining: 4.4ms\n",
      "7:\tlearn: 25.2741336\ttotal: 11.6ms\tremaining: 2.9ms\n",
      "8:\tlearn: 24.7282277\ttotal: 13ms\tremaining: 1.44ms\n",
      "9:\tlearn: 24.3028797\ttotal: 14.3ms\tremaining: 0us\n",
      "0:\tlearn: 32.7373434\ttotal: 1.68ms\tremaining: 15.2ms\n",
      "1:\tlearn: 31.3286949\ttotal: 3.21ms\tremaining: 12.8ms\n",
      "2:\tlearn: 30.1608374\ttotal: 4.84ms\tremaining: 11.3ms\n",
      "3:\tlearn: 29.1679158\ttotal: 6.31ms\tremaining: 9.46ms\n",
      "4:\tlearn: 28.2411896\ttotal: 7.83ms\tremaining: 7.83ms\n",
      "5:\tlearn: 27.4291065\ttotal: 9.22ms\tremaining: 6.15ms\n",
      "6:\tlearn: 26.7092337\ttotal: 10.7ms\tremaining: 4.6ms\n",
      "7:\tlearn: 26.0956169\ttotal: 12.2ms\tremaining: 3.05ms\n",
      "8:\tlearn: 25.5862775\ttotal: 13.7ms\tremaining: 1.52ms\n",
      "9:\tlearn: 25.0923762\ttotal: 15.3ms\tremaining: 0us\n",
      "0:\tlearn: 28.5598848\ttotal: 624us\tremaining: 15ms\n",
      "1:\tlearn: 27.9567833\ttotal: 1.3ms\tremaining: 15ms\n",
      "2:\tlearn: 27.4381907\ttotal: 1.78ms\tremaining: 13.1ms\n",
      "3:\tlearn: 26.9211206\ttotal: 2.35ms\tremaining: 12.3ms\n",
      "4:\tlearn: 26.3895288\ttotal: 2.82ms\tremaining: 11.3ms\n",
      "5:\tlearn: 25.8895198\ttotal: 3.22ms\tremaining: 10.2ms\n",
      "6:\tlearn: 25.4328231\ttotal: 3.65ms\tremaining: 9.38ms\n",
      "7:\tlearn: 25.0439160\ttotal: 4.13ms\tremaining: 8.79ms\n",
      "8:\tlearn: 24.6345443\ttotal: 4.65ms\tremaining: 8.26ms\n",
      "9:\tlearn: 24.2462184\ttotal: 5.08ms\tremaining: 7.61ms\n",
      "10:\tlearn: 23.9436499\ttotal: 5.55ms\tremaining: 7.07ms\n",
      "11:\tlearn: 23.6536288\ttotal: 6.08ms\tremaining: 6.59ms\n",
      "12:\tlearn: 23.3334969\ttotal: 6.51ms\tremaining: 6.01ms\n",
      "13:\tlearn: 23.0500698\ttotal: 6.93ms\tremaining: 5.44ms\n",
      "14:\tlearn: 22.7693905\ttotal: 7.38ms\tremaining: 4.92ms\n",
      "15:\tlearn: 22.5620310\ttotal: 7.83ms\tremaining: 4.41ms\n",
      "16:\tlearn: 22.3041113\ttotal: 8.3ms\tremaining: 3.91ms\n",
      "17:\tlearn: 22.0443571\ttotal: 8.68ms\tremaining: 3.38ms\n",
      "18:\tlearn: 21.8464571\ttotal: 9.08ms\tremaining: 2.87ms\n",
      "19:\tlearn: 21.6438541\ttotal: 9.45ms\tremaining: 2.36ms\n",
      "20:\tlearn: 21.4224410\ttotal: 9.82ms\tremaining: 1.87ms\n",
      "21:\tlearn: 21.2586684\ttotal: 10.3ms\tremaining: 1.4ms\n",
      "22:\tlearn: 21.0729952\ttotal: 10.7ms\tremaining: 932us\n",
      "23:\tlearn: 20.9430013\ttotal: 11.2ms\tremaining: 465us\n",
      "24:\tlearn: 20.7999747\ttotal: 11.6ms\tremaining: 0us\n",
      "0:\tlearn: 30.5788955\ttotal: 664us\tremaining: 16ms\n",
      "1:\tlearn: 29.9687138\ttotal: 1.5ms\tremaining: 17.3ms\n",
      "2:\tlearn: 29.3558837\ttotal: 2.15ms\tremaining: 15.8ms\n",
      "3:\tlearn: 28.8251110\ttotal: 2.76ms\tremaining: 14.5ms\n",
      "4:\tlearn: 28.3366053\ttotal: 3.32ms\tremaining: 13.3ms\n",
      "5:\tlearn: 27.8502273\ttotal: 3.83ms\tremaining: 12.1ms\n",
      "6:\tlearn: 27.4034924\ttotal: 4.42ms\tremaining: 11.4ms\n",
      "7:\tlearn: 26.9991454\ttotal: 5.02ms\tremaining: 10.7ms\n",
      "8:\tlearn: 26.5672222\ttotal: 5.62ms\tremaining: 9.99ms\n",
      "9:\tlearn: 26.2057266\ttotal: 6.13ms\tremaining: 9.2ms\n",
      "10:\tlearn: 25.9068886\ttotal: 6.73ms\tremaining: 8.57ms\n",
      "11:\tlearn: 25.5778336\ttotal: 7.32ms\tremaining: 7.93ms\n",
      "12:\tlearn: 25.2406745\ttotal: 7.94ms\tremaining: 7.33ms\n",
      "13:\tlearn: 24.9146564\ttotal: 8.56ms\tremaining: 6.73ms\n",
      "14:\tlearn: 24.6460766\ttotal: 9.04ms\tremaining: 6.03ms\n",
      "15:\tlearn: 24.4191565\ttotal: 9.57ms\tremaining: 5.38ms\n",
      "16:\tlearn: 24.1585470\ttotal: 10.2ms\tremaining: 4.79ms\n",
      "17:\tlearn: 23.9600583\ttotal: 10.8ms\tremaining: 4.19ms\n",
      "18:\tlearn: 23.7346011\ttotal: 11.3ms\tremaining: 3.58ms\n",
      "19:\tlearn: 23.5469687\ttotal: 11.9ms\tremaining: 2.97ms\n",
      "20:\tlearn: 23.3675710\ttotal: 12.6ms\tremaining: 2.4ms\n",
      "21:\tlearn: 23.1804782\ttotal: 13.3ms\tremaining: 1.81ms\n",
      "22:\tlearn: 23.0070386\ttotal: 13.9ms\tremaining: 1.21ms\n",
      "23:\tlearn: 22.8485599\ttotal: 14.6ms\tremaining: 606us\n",
      "24:\tlearn: 22.7082228\ttotal: 15.2ms\tremaining: 0us\n",
      "0:\tlearn: 32.3266832\ttotal: 866us\tremaining: 20.8ms\n",
      "1:\tlearn: 31.6358267\ttotal: 1.78ms\tremaining: 20.5ms\n",
      "2:\tlearn: 30.9831168\ttotal: 2.54ms\tremaining: 18.6ms\n",
      "3:\tlearn: 30.4110758\ttotal: 3.23ms\tremaining: 16.9ms\n",
      "4:\tlearn: 29.8870774\ttotal: 4.19ms\tremaining: 16.8ms\n",
      "5:\tlearn: 29.3948880\ttotal: 5ms\tremaining: 15.8ms\n",
      "6:\tlearn: 28.9062395\ttotal: 5.72ms\tremaining: 14.7ms\n",
      "7:\tlearn: 28.5082400\ttotal: 6.36ms\tremaining: 13.5ms\n",
      "8:\tlearn: 28.0656008\ttotal: 7.14ms\tremaining: 12.7ms\n",
      "9:\tlearn: 27.6555860\ttotal: 7.92ms\tremaining: 11.9ms\n",
      "10:\tlearn: 27.2980686\ttotal: 8.61ms\tremaining: 11ms\n",
      "11:\tlearn: 26.9733319\ttotal: 9.35ms\tremaining: 10.1ms\n",
      "12:\tlearn: 26.6176320\ttotal: 10.1ms\tremaining: 9.34ms\n",
      "13:\tlearn: 26.2929553\ttotal: 10.8ms\tremaining: 8.52ms\n",
      "14:\tlearn: 26.0263053\ttotal: 11.5ms\tremaining: 7.69ms\n",
      "15:\tlearn: 25.7824772\ttotal: 12.3ms\tremaining: 6.9ms\n",
      "16:\tlearn: 25.5120720\ttotal: 12.9ms\tremaining: 6.09ms\n",
      "17:\tlearn: 25.2763980\ttotal: 13.6ms\tremaining: 5.3ms\n",
      "18:\tlearn: 25.0607259\ttotal: 14.3ms\tremaining: 4.53ms\n",
      "19:\tlearn: 24.8312206\ttotal: 15ms\tremaining: 3.75ms\n",
      "20:\tlearn: 24.6416040\ttotal: 15.8ms\tremaining: 3.02ms\n",
      "21:\tlearn: 24.4551822\ttotal: 16.6ms\tremaining: 2.26ms\n",
      "22:\tlearn: 24.2717542\ttotal: 17.3ms\tremaining: 1.5ms\n",
      "23:\tlearn: 24.1166911\ttotal: 18ms\tremaining: 748us\n",
      "24:\tlearn: 23.9796221\ttotal: 18.7ms\tremaining: 0us\n",
      "0:\tlearn: 33.5321686\ttotal: 1.03ms\tremaining: 24.8ms\n",
      "1:\tlearn: 32.8414803\ttotal: 2.03ms\tremaining: 23.4ms\n",
      "2:\tlearn: 32.1816229\ttotal: 2.95ms\tremaining: 21.6ms\n",
      "3:\tlearn: 31.6328780\ttotal: 3.78ms\tremaining: 19.8ms\n",
      "4:\tlearn: 31.0433922\ttotal: 4.6ms\tremaining: 18.4ms\n",
      "5:\tlearn: 30.5023027\ttotal: 5.4ms\tremaining: 17.1ms\n",
      "6:\tlearn: 29.9815666\ttotal: 6.18ms\tremaining: 15.9ms\n",
      "7:\tlearn: 29.5417437\ttotal: 7.1ms\tremaining: 15.1ms\n",
      "8:\tlearn: 29.0749841\ttotal: 7.98ms\tremaining: 14.2ms\n",
      "9:\tlearn: 28.6627146\ttotal: 8.79ms\tremaining: 13.2ms\n",
      "10:\tlearn: 28.3036866\ttotal: 9.63ms\tremaining: 12.3ms\n",
      "11:\tlearn: 27.9494013\ttotal: 10.5ms\tremaining: 11.4ms\n",
      "12:\tlearn: 27.5952963\ttotal: 11.2ms\tremaining: 10.4ms\n",
      "13:\tlearn: 27.2972306\ttotal: 12.1ms\tremaining: 9.54ms\n",
      "14:\tlearn: 27.0218356\ttotal: 13.1ms\tremaining: 8.7ms\n",
      "15:\tlearn: 26.7792350\ttotal: 13.9ms\tremaining: 7.79ms\n",
      "16:\tlearn: 26.4822107\ttotal: 14.7ms\tremaining: 6.9ms\n",
      "17:\tlearn: 26.2265704\ttotal: 15.5ms\tremaining: 6.04ms\n",
      "18:\tlearn: 25.9970230\ttotal: 16.3ms\tremaining: 5.15ms\n",
      "19:\tlearn: 25.7939373\ttotal: 17.1ms\tremaining: 4.28ms\n",
      "20:\tlearn: 25.5775125\ttotal: 18ms\tremaining: 3.43ms\n",
      "21:\tlearn: 25.3731528\ttotal: 18.8ms\tremaining: 2.57ms\n",
      "22:\tlearn: 25.1929009\ttotal: 19.7ms\tremaining: 1.71ms\n",
      "23:\tlearn: 25.0469787\ttotal: 20.5ms\tremaining: 854us\n",
      "24:\tlearn: 24.9002204\ttotal: 21.4ms\tremaining: 0us\n",
      "0:\tlearn: 27.9062719\ttotal: 593us\tremaining: 2.37ms\n",
      "1:\tlearn: 26.7822206\ttotal: 1.16ms\tremaining: 1.74ms\n",
      "2:\tlearn: 25.7813434\ttotal: 1.61ms\tremaining: 1.07ms\n",
      "3:\tlearn: 24.9490833\ttotal: 2.06ms\tremaining: 514us\n",
      "4:\tlearn: 24.1489806\ttotal: 2.56ms\tremaining: 0us\n",
      "0:\tlearn: 29.9305496\ttotal: 730us\tremaining: 2.92ms\n",
      "1:\tlearn: 28.8660563\ttotal: 1.52ms\tremaining: 2.28ms\n",
      "2:\tlearn: 27.9354229\ttotal: 2.13ms\tremaining: 1.42ms\n",
      "3:\tlearn: 27.1150404\ttotal: 2.75ms\tremaining: 686us\n",
      "4:\tlearn: 26.3815738\ttotal: 3.37ms\tremaining: 0us\n",
      "0:\tlearn: 31.5961920\ttotal: 960us\tremaining: 3.84ms\n",
      "1:\tlearn: 30.3492424\ttotal: 1.84ms\tremaining: 2.77ms\n",
      "2:\tlearn: 29.2458215\ttotal: 2.69ms\tremaining: 1.8ms\n",
      "3:\tlearn: 28.3458468\ttotal: 3.48ms\tremaining: 869us\n",
      "4:\tlearn: 27.5704964\ttotal: 4.13ms\tremaining: 0us\n",
      "0:\tlearn: 32.7674526\ttotal: 950us\tremaining: 3.8ms\n",
      "1:\tlearn: 31.5030634\ttotal: 1.95ms\tremaining: 2.92ms\n",
      "2:\tlearn: 30.3859616\ttotal: 2.74ms\tremaining: 1.83ms\n",
      "3:\tlearn: 29.5283033\ttotal: 3.56ms\tremaining: 890us\n",
      "4:\tlearn: 28.6240956\ttotal: 4.29ms\tremaining: 0us\n",
      "0:\tlearn: 25.5447528\ttotal: 855us\tremaining: 16.2ms\n",
      "1:\tlearn: 23.0339257\ttotal: 1.76ms\tremaining: 15.9ms\n",
      "2:\tlearn: 21.5597022\ttotal: 2.52ms\tremaining: 14.3ms\n",
      "3:\tlearn: 20.7924786\ttotal: 3.31ms\tremaining: 13.3ms\n",
      "4:\tlearn: 19.9867087\ttotal: 3.98ms\tremaining: 11.9ms\n",
      "5:\tlearn: 19.4134942\ttotal: 4.75ms\tremaining: 11.1ms\n",
      "6:\tlearn: 19.0838343\ttotal: 5.46ms\tremaining: 10.1ms\n",
      "7:\tlearn: 18.7410639\ttotal: 6.3ms\tremaining: 9.45ms\n",
      "8:\tlearn: 18.4435151\ttotal: 7.03ms\tremaining: 8.59ms\n",
      "9:\tlearn: 18.0899760\ttotal: 7.7ms\tremaining: 7.7ms\n",
      "10:\tlearn: 17.5941354\ttotal: 8.44ms\tremaining: 6.9ms\n",
      "11:\tlearn: 17.3198126\ttotal: 9.18ms\tremaining: 6.12ms\n",
      "12:\tlearn: 17.0675994\ttotal: 9.84ms\tremaining: 5.3ms\n",
      "13:\tlearn: 16.9225240\ttotal: 10.4ms\tremaining: 4.47ms\n",
      "14:\tlearn: 16.8071688\ttotal: 11ms\tremaining: 3.67ms\n",
      "15:\tlearn: 16.5674506\ttotal: 11.6ms\tremaining: 2.9ms\n",
      "16:\tlearn: 16.4834208\ttotal: 12.3ms\tremaining: 2.17ms\n",
      "17:\tlearn: 16.3256909\ttotal: 12.9ms\tremaining: 1.44ms\n",
      "18:\tlearn: 16.0828844\ttotal: 13.6ms\tremaining: 715us\n",
      "19:\tlearn: 15.8730094\ttotal: 14.2ms\tremaining: 0us\n",
      "0:\tlearn: 27.2858657\ttotal: 971us\tremaining: 18.5ms\n",
      "1:\tlearn: 24.8296211\ttotal: 1.97ms\tremaining: 17.7ms\n",
      "2:\tlearn: 23.3955006\ttotal: 2.95ms\tremaining: 16.7ms\n",
      "3:\tlearn: 22.5404425\ttotal: 3.75ms\tremaining: 15ms\n",
      "4:\tlearn: 21.7484637\ttotal: 4.53ms\tremaining: 13.6ms\n",
      "5:\tlearn: 21.3407070\ttotal: 5.39ms\tremaining: 12.6ms\n",
      "6:\tlearn: 20.9914434\ttotal: 6.19ms\tremaining: 11.5ms\n",
      "7:\tlearn: 20.7062866\ttotal: 7.03ms\tremaining: 10.5ms\n",
      "8:\tlearn: 20.4039249\ttotal: 7.86ms\tremaining: 9.6ms\n",
      "9:\tlearn: 20.2677871\ttotal: 8.71ms\tremaining: 8.71ms\n",
      "10:\tlearn: 19.9303648\ttotal: 9.49ms\tremaining: 7.76ms\n",
      "11:\tlearn: 19.7079554\ttotal: 10.3ms\tremaining: 6.88ms\n",
      "12:\tlearn: 19.5743231\ttotal: 11.2ms\tremaining: 6.02ms\n",
      "13:\tlearn: 19.4510668\ttotal: 12ms\tremaining: 5.12ms\n",
      "14:\tlearn: 19.3333560\ttotal: 12.7ms\tremaining: 4.25ms\n",
      "15:\tlearn: 19.2828158\ttotal: 13.5ms\tremaining: 3.38ms\n",
      "16:\tlearn: 19.0677974\ttotal: 14.4ms\tremaining: 2.54ms\n",
      "17:\tlearn: 18.9184694\ttotal: 15.2ms\tremaining: 1.69ms\n",
      "18:\tlearn: 18.7390565\ttotal: 16ms\tremaining: 842us\n",
      "19:\tlearn: 18.6460224\ttotal: 16.8ms\tremaining: 0us\n",
      "0:\tlearn: 28.8993042\ttotal: 1.03ms\tremaining: 19.5ms\n",
      "1:\tlearn: 26.3741574\ttotal: 2.3ms\tremaining: 20.7ms\n",
      "2:\tlearn: 24.7145485\ttotal: 3.34ms\tremaining: 18.9ms\n",
      "3:\tlearn: 23.6198947\ttotal: 4.39ms\tremaining: 17.6ms\n",
      "4:\tlearn: 22.8555123\ttotal: 5.3ms\tremaining: 15.9ms\n",
      "5:\tlearn: 22.4006394\ttotal: 6.23ms\tremaining: 14.5ms\n",
      "6:\tlearn: 21.8641767\ttotal: 7.25ms\tremaining: 13.5ms\n",
      "7:\tlearn: 21.5875124\ttotal: 8.16ms\tremaining: 12.2ms\n",
      "8:\tlearn: 21.2000620\ttotal: 9.24ms\tremaining: 11.3ms\n",
      "9:\tlearn: 21.0581842\ttotal: 10.3ms\tremaining: 10.3ms\n",
      "10:\tlearn: 20.8078038\ttotal: 11.1ms\tremaining: 9.12ms\n",
      "11:\tlearn: 20.6562410\ttotal: 12ms\tremaining: 7.97ms\n",
      "12:\tlearn: 20.5124898\ttotal: 13ms\tremaining: 6.98ms\n",
      "13:\tlearn: 20.3345415\ttotal: 14ms\tremaining: 6.01ms\n",
      "14:\tlearn: 20.2433630\ttotal: 15ms\tremaining: 5.01ms\n",
      "15:\tlearn: 20.1057561\ttotal: 16ms\tremaining: 4ms\n",
      "16:\tlearn: 19.8897455\ttotal: 17ms\tremaining: 3ms\n",
      "17:\tlearn: 19.7858409\ttotal: 18ms\tremaining: 2ms\n",
      "18:\tlearn: 19.6343786\ttotal: 18.9ms\tremaining: 997us\n",
      "19:\tlearn: 19.4457274\ttotal: 19.9ms\tremaining: 0us\n",
      "0:\tlearn: 29.9215155\ttotal: 1.47ms\tremaining: 27.9ms\n",
      "1:\tlearn: 27.3305330\ttotal: 2.79ms\tremaining: 25.1ms\n",
      "2:\tlearn: 25.4709295\ttotal: 4.05ms\tremaining: 22.9ms\n",
      "3:\tlearn: 24.4746293\ttotal: 5.16ms\tremaining: 20.7ms\n",
      "4:\tlearn: 23.6946443\ttotal: 6.24ms\tremaining: 18.7ms\n",
      "5:\tlearn: 23.2741488\ttotal: 7.27ms\tremaining: 17ms\n",
      "6:\tlearn: 22.8413637\ttotal: 8.38ms\tremaining: 15.6ms\n",
      "7:\tlearn: 22.4445998\ttotal: 9.5ms\tremaining: 14.3ms\n",
      "8:\tlearn: 22.2780127\ttotal: 10.6ms\tremaining: 12.9ms\n",
      "9:\tlearn: 21.8487550\ttotal: 11.7ms\tremaining: 11.7ms\n",
      "10:\tlearn: 21.6626299\ttotal: 12.7ms\tremaining: 10.4ms\n",
      "11:\tlearn: 21.4341901\ttotal: 13.7ms\tremaining: 9.15ms\n",
      "12:\tlearn: 21.2487481\ttotal: 14.8ms\tremaining: 8ms\n",
      "13:\tlearn: 21.0816226\ttotal: 15.9ms\tremaining: 6.81ms\n",
      "14:\tlearn: 21.0284505\ttotal: 17ms\tremaining: 5.67ms\n",
      "15:\tlearn: 20.9403587\ttotal: 18.2ms\tremaining: 4.55ms\n",
      "16:\tlearn: 20.8254197\ttotal: 19.3ms\tremaining: 3.4ms\n",
      "17:\tlearn: 20.7481891\ttotal: 20.4ms\tremaining: 2.27ms\n",
      "18:\tlearn: 20.6909688\ttotal: 21.4ms\tremaining: 1.13ms\n",
      "19:\tlearn: 20.5796288\ttotal: 22.5ms\tremaining: 0us\n",
      "0:\tlearn: 27.8762704\ttotal: 1.09ms\tremaining: 20.7ms\n",
      "1:\tlearn: 26.7680850\ttotal: 2.31ms\tremaining: 20.8ms\n",
      "2:\tlearn: 25.7191065\ttotal: 3.46ms\tremaining: 19.6ms\n",
      "3:\tlearn: 24.7407723\ttotal: 4.58ms\tremaining: 18.3ms\n",
      "4:\tlearn: 23.9928978\ttotal: 5.66ms\tremaining: 17ms\n",
      "5:\tlearn: 23.2713201\ttotal: 6.66ms\tremaining: 15.5ms\n",
      "6:\tlearn: 22.6206322\ttotal: 7.63ms\tremaining: 14.2ms\n",
      "7:\tlearn: 21.9581543\ttotal: 8.71ms\tremaining: 13.1ms\n",
      "8:\tlearn: 21.4921622\ttotal: 9.95ms\tremaining: 12.2ms\n",
      "9:\tlearn: 21.0449082\ttotal: 10.9ms\tremaining: 10.9ms\n",
      "10:\tlearn: 20.5909255\ttotal: 12.1ms\tremaining: 9.88ms\n",
      "11:\tlearn: 20.2784495\ttotal: 13.3ms\tremaining: 8.86ms\n",
      "12:\tlearn: 19.8898614\ttotal: 14.4ms\tremaining: 7.74ms\n",
      "13:\tlearn: 19.5747428\ttotal: 15.5ms\tremaining: 6.62ms\n",
      "14:\tlearn: 19.3339790\ttotal: 16.6ms\tremaining: 5.54ms\n",
      "15:\tlearn: 19.0825396\ttotal: 17.7ms\tremaining: 4.43ms\n",
      "16:\tlearn: 18.8485113\ttotal: 18.8ms\tremaining: 3.32ms\n",
      "17:\tlearn: 18.6405389\ttotal: 19.8ms\tremaining: 2.2ms\n",
      "18:\tlearn: 18.4711511\ttotal: 20.8ms\tremaining: 1.09ms\n",
      "19:\tlearn: 18.3027917\ttotal: 22ms\tremaining: 0us\n",
      "0:\tlearn: 29.7679650\ttotal: 1.47ms\tremaining: 27.9ms\n",
      "1:\tlearn: 28.6392767\ttotal: 2.81ms\tremaining: 25.3ms\n",
      "2:\tlearn: 27.5965550\ttotal: 4.19ms\tremaining: 23.7ms\n",
      "3:\tlearn: 26.7985867\ttotal: 5.36ms\tremaining: 21.4ms\n",
      "4:\tlearn: 25.9792447\ttotal: 6.61ms\tremaining: 19.8ms\n",
      "5:\tlearn: 25.3185358\ttotal: 8.3ms\tremaining: 19.4ms\n",
      "6:\tlearn: 24.6567164\ttotal: 9.45ms\tremaining: 17.6ms\n",
      "7:\tlearn: 24.0584755\ttotal: 10.7ms\tremaining: 16.1ms\n",
      "8:\tlearn: 23.5374099\ttotal: 11.9ms\tremaining: 14.6ms\n",
      "9:\tlearn: 23.1093246\ttotal: 13.1ms\tremaining: 13.1ms\n",
      "10:\tlearn: 22.6772275\ttotal: 14.8ms\tremaining: 12.1ms\n",
      "11:\tlearn: 22.2923720\ttotal: 16.1ms\tremaining: 10.8ms\n",
      "12:\tlearn: 21.9568577\ttotal: 17.3ms\tremaining: 9.34ms\n",
      "13:\tlearn: 21.6953610\ttotal: 18.6ms\tremaining: 7.95ms\n",
      "14:\tlearn: 21.4278874\ttotal: 19.9ms\tremaining: 6.64ms\n",
      "15:\tlearn: 21.1986901\ttotal: 21.1ms\tremaining: 5.28ms\n",
      "16:\tlearn: 20.9920095\ttotal: 22.5ms\tremaining: 3.96ms\n",
      "17:\tlearn: 20.8138566\ttotal: 23.7ms\tremaining: 2.63ms\n",
      "18:\tlearn: 20.6265061\ttotal: 24.9ms\tremaining: 1.31ms\n",
      "19:\tlearn: 20.4538243\ttotal: 26.1ms\tremaining: 0us\n",
      "0:\tlearn: 31.5666708\ttotal: 1.75ms\tremaining: 33.2ms\n",
      "1:\tlearn: 30.2068355\ttotal: 3.23ms\tremaining: 29.1ms\n",
      "2:\tlearn: 29.1125808\ttotal: 4.65ms\tremaining: 26.4ms\n",
      "3:\tlearn: 28.2571711\ttotal: 5.95ms\tremaining: 23.8ms\n",
      "4:\tlearn: 27.3969580\ttotal: 7.29ms\tremaining: 21.9ms\n",
      "5:\tlearn: 26.6404763\ttotal: 8.59ms\tremaining: 20ms\n",
      "6:\tlearn: 25.9216955\ttotal: 9.88ms\tremaining: 18.3ms\n",
      "7:\tlearn: 25.2741336\ttotal: 11.2ms\tremaining: 16.8ms\n",
      "8:\tlearn: 24.7282277\ttotal: 12.5ms\tremaining: 15.2ms\n",
      "9:\tlearn: 24.3028797\ttotal: 13.8ms\tremaining: 13.8ms\n",
      "10:\tlearn: 23.8503955\ttotal: 15ms\tremaining: 12.3ms\n",
      "11:\tlearn: 23.4374075\ttotal: 16.3ms\tremaining: 10.9ms\n",
      "12:\tlearn: 23.0666339\ttotal: 17.7ms\tremaining: 9.52ms\n",
      "13:\tlearn: 22.7605438\ttotal: 19ms\tremaining: 8.13ms\n",
      "14:\tlearn: 22.4500079\ttotal: 20.3ms\tremaining: 6.75ms\n",
      "15:\tlearn: 22.1928881\ttotal: 21.5ms\tremaining: 5.37ms\n",
      "16:\tlearn: 21.9672215\ttotal: 22.9ms\tremaining: 4.04ms\n",
      "17:\tlearn: 21.7989510\ttotal: 24.3ms\tremaining: 2.7ms\n",
      "18:\tlearn: 21.6304748\ttotal: 25.6ms\tremaining: 1.35ms\n",
      "19:\tlearn: 21.4888108\ttotal: 26.9ms\tremaining: 0us\n",
      "0:\tlearn: 32.7373434\ttotal: 1.7ms\tremaining: 32.3ms\n",
      "1:\tlearn: 31.3286949\ttotal: 3.43ms\tremaining: 30.9ms\n",
      "2:\tlearn: 30.1608374\ttotal: 4.75ms\tremaining: 26.9ms\n",
      "3:\tlearn: 29.1679158\ttotal: 6.11ms\tremaining: 24.4ms\n",
      "4:\tlearn: 28.2411896\ttotal: 7.46ms\tremaining: 22.4ms\n",
      "5:\tlearn: 27.4291065\ttotal: 8.93ms\tremaining: 20.8ms\n",
      "6:\tlearn: 26.7092337\ttotal: 10.4ms\tremaining: 19.3ms\n",
      "7:\tlearn: 26.0956169\ttotal: 11.9ms\tremaining: 17.9ms\n",
      "8:\tlearn: 25.5862775\ttotal: 13.4ms\tremaining: 16.3ms\n",
      "9:\tlearn: 25.0923762\ttotal: 14.7ms\tremaining: 14.7ms\n",
      "10:\tlearn: 24.6650127\ttotal: 16.2ms\tremaining: 13.3ms\n",
      "11:\tlearn: 24.3174387\ttotal: 17.5ms\tremaining: 11.7ms\n",
      "12:\tlearn: 23.9374058\ttotal: 19ms\tremaining: 10.2ms\n",
      "13:\tlearn: 23.6754526\ttotal: 20.4ms\tremaining: 8.74ms\n",
      "14:\tlearn: 23.3990981\ttotal: 21.8ms\tremaining: 7.28ms\n",
      "15:\tlearn: 23.1814707\ttotal: 23.2ms\tremaining: 5.79ms\n",
      "16:\tlearn: 22.9660379\ttotal: 24.7ms\tremaining: 4.35ms\n",
      "17:\tlearn: 22.8142287\ttotal: 26.1ms\tremaining: 2.9ms\n",
      "18:\tlearn: 22.6507627\ttotal: 27.6ms\tremaining: 1.45ms\n",
      "19:\tlearn: 22.5237154\ttotal: 29.1ms\tremaining: 0us\n",
      "0:\tlearn: 27.9062719\ttotal: 654us\tremaining: 12.4ms\n",
      "1:\tlearn: 26.7822206\ttotal: 1.29ms\tremaining: 11.6ms\n",
      "2:\tlearn: 25.7813434\ttotal: 1.91ms\tremaining: 10.8ms\n",
      "3:\tlearn: 24.9490833\ttotal: 2.58ms\tremaining: 10.3ms\n",
      "4:\tlearn: 24.1489806\ttotal: 3.15ms\tremaining: 9.46ms\n",
      "5:\tlearn: 23.4504689\ttotal: 3.74ms\tremaining: 8.73ms\n",
      "6:\tlearn: 22.8534844\ttotal: 4.3ms\tremaining: 7.98ms\n",
      "7:\tlearn: 22.3496830\ttotal: 4.87ms\tremaining: 7.3ms\n",
      "8:\tlearn: 21.8689934\ttotal: 5.47ms\tremaining: 6.69ms\n",
      "9:\tlearn: 21.4169630\ttotal: 5.99ms\tremaining: 5.99ms\n",
      "10:\tlearn: 21.1408548\ttotal: 6.51ms\tremaining: 5.32ms\n",
      "11:\tlearn: 20.8572468\ttotal: 7.08ms\tremaining: 4.72ms\n",
      "12:\tlearn: 20.6037516\ttotal: 7.64ms\tremaining: 4.11ms\n",
      "13:\tlearn: 20.3326598\ttotal: 8.19ms\tremaining: 3.51ms\n",
      "14:\tlearn: 20.1656054\ttotal: 8.65ms\tremaining: 2.88ms\n",
      "15:\tlearn: 19.9264028\ttotal: 9.11ms\tremaining: 2.28ms\n",
      "16:\tlearn: 19.6420280\ttotal: 9.68ms\tremaining: 1.71ms\n",
      "17:\tlearn: 19.5183866\ttotal: 10.2ms\tremaining: 1.13ms\n",
      "18:\tlearn: 19.3822095\ttotal: 10.8ms\tremaining: 566us\n",
      "19:\tlearn: 19.2625450\ttotal: 11.3ms\tremaining: 0us\n",
      "0:\tlearn: 29.9305496\ttotal: 703us\tremaining: 13.4ms\n",
      "1:\tlearn: 28.8660563\ttotal: 1.62ms\tremaining: 14.6ms\n",
      "2:\tlearn: 27.9354229\ttotal: 2.25ms\tremaining: 12.8ms\n",
      "3:\tlearn: 27.1150404\ttotal: 2.84ms\tremaining: 11.4ms\n",
      "4:\tlearn: 26.3815738\ttotal: 3.49ms\tremaining: 10.5ms\n",
      "5:\tlearn: 25.6782184\ttotal: 4.2ms\tremaining: 9.79ms\n",
      "6:\tlearn: 25.0786475\ttotal: 4.84ms\tremaining: 9ms\n",
      "7:\tlearn: 24.5157238\ttotal: 5.37ms\tremaining: 8.06ms\n",
      "8:\tlearn: 23.9795973\ttotal: 5.95ms\tremaining: 7.27ms\n",
      "9:\tlearn: 23.5459747\ttotal: 6.48ms\tremaining: 6.48ms\n",
      "10:\tlearn: 23.2207498\ttotal: 7.19ms\tremaining: 5.88ms\n",
      "11:\tlearn: 22.9365773\ttotal: 7.85ms\tremaining: 5.23ms\n",
      "12:\tlearn: 22.6476680\ttotal: 8.42ms\tremaining: 4.54ms\n",
      "13:\tlearn: 22.3852337\ttotal: 8.9ms\tremaining: 3.81ms\n",
      "14:\tlearn: 22.1355234\ttotal: 9.45ms\tremaining: 3.15ms\n",
      "15:\tlearn: 21.9554562\ttotal: 9.99ms\tremaining: 2.5ms\n",
      "16:\tlearn: 21.7550983\ttotal: 10.6ms\tremaining: 1.87ms\n",
      "17:\tlearn: 21.5859812\ttotal: 11.2ms\tremaining: 1.24ms\n",
      "18:\tlearn: 21.4479242\ttotal: 11.7ms\tremaining: 615us\n",
      "19:\tlearn: 21.3048152\ttotal: 12.2ms\tremaining: 0us\n",
      "0:\tlearn: 31.5961920\ttotal: 920us\tremaining: 17.5ms\n",
      "1:\tlearn: 30.3492424\ttotal: 1.84ms\tremaining: 16.6ms\n",
      "2:\tlearn: 29.2458215\ttotal: 2.68ms\tremaining: 15.2ms\n",
      "3:\tlearn: 28.3458468\ttotal: 3.45ms\tremaining: 13.8ms\n",
      "4:\tlearn: 27.5704964\ttotal: 4.07ms\tremaining: 12.2ms\n",
      "5:\tlearn: 26.8790380\ttotal: 4.7ms\tremaining: 11ms\n",
      "6:\tlearn: 26.2030524\ttotal: 5.45ms\tremaining: 10.1ms\n",
      "7:\tlearn: 25.6219760\ttotal: 6.16ms\tremaining: 9.25ms\n",
      "8:\tlearn: 25.1272988\ttotal: 6.93ms\tremaining: 8.47ms\n",
      "9:\tlearn: 24.7108711\ttotal: 7.68ms\tremaining: 7.68ms\n",
      "10:\tlearn: 24.3585705\ttotal: 8.44ms\tremaining: 6.9ms\n",
      "11:\tlearn: 23.9909098\ttotal: 9.21ms\tremaining: 6.14ms\n",
      "12:\tlearn: 23.6666044\ttotal: 9.92ms\tremaining: 5.34ms\n",
      "13:\tlearn: 23.3933410\ttotal: 10.6ms\tremaining: 4.55ms\n",
      "14:\tlearn: 23.1845414\ttotal: 11.3ms\tremaining: 3.76ms\n",
      "15:\tlearn: 22.9609240\ttotal: 12ms\tremaining: 3ms\n",
      "16:\tlearn: 22.7833331\ttotal: 12.6ms\tremaining: 2.23ms\n",
      "17:\tlearn: 22.5668595\ttotal: 13.3ms\tremaining: 1.48ms\n",
      "18:\tlearn: 22.4089061\ttotal: 14ms\tremaining: 737us\n",
      "19:\tlearn: 22.2825579\ttotal: 14.7ms\tremaining: 0us\n",
      "0:\tlearn: 32.7674526\ttotal: 974us\tremaining: 18.5ms\n",
      "1:\tlearn: 31.5030634\ttotal: 1.84ms\tremaining: 16.5ms\n",
      "2:\tlearn: 30.3859616\ttotal: 2.67ms\tremaining: 15.2ms\n",
      "3:\tlearn: 29.5283033\ttotal: 3.53ms\tremaining: 14.1ms\n",
      "4:\tlearn: 28.6240956\ttotal: 4.44ms\tremaining: 13.3ms\n",
      "5:\tlearn: 27.8813359\ttotal: 5.24ms\tremaining: 12.2ms\n",
      "6:\tlearn: 27.1684061\ttotal: 6.04ms\tremaining: 11.2ms\n",
      "7:\tlearn: 26.6209475\ttotal: 6.86ms\tremaining: 10.3ms\n",
      "8:\tlearn: 26.0980251\ttotal: 7.63ms\tremaining: 9.33ms\n",
      "9:\tlearn: 25.6467480\ttotal: 8.39ms\tremaining: 8.39ms\n",
      "10:\tlearn: 25.2942222\ttotal: 9.22ms\tremaining: 7.54ms\n",
      "11:\tlearn: 24.9962823\ttotal: 10ms\tremaining: 6.67ms\n",
      "12:\tlearn: 24.6622555\ttotal: 10.7ms\tremaining: 5.76ms\n",
      "13:\tlearn: 24.3811415\ttotal: 11.3ms\tremaining: 4.86ms\n",
      "14:\tlearn: 24.1751642\ttotal: 12.1ms\tremaining: 4.03ms\n",
      "15:\tlearn: 23.9980651\ttotal: 12.9ms\tremaining: 3.22ms\n",
      "16:\tlearn: 23.7987889\ttotal: 13.6ms\tremaining: 2.4ms\n",
      "17:\tlearn: 23.6541980\ttotal: 14.3ms\tremaining: 1.59ms\n",
      "18:\tlearn: 23.4958550\ttotal: 15.1ms\tremaining: 795us\n",
      "19:\tlearn: 23.3971229\ttotal: 15.8ms\tremaining: 0us\n",
      "0:\tlearn: 28.5455942\ttotal: 1.27ms\tremaining: 24.2ms\n",
      "1:\tlearn: 27.9521732\ttotal: 2.58ms\tremaining: 23.3ms\n",
      "2:\tlearn: 27.3514574\ttotal: 3.68ms\tremaining: 20.9ms\n",
      "3:\tlearn: 26.7576336\ttotal: 4.68ms\tremaining: 18.7ms\n",
      "4:\tlearn: 26.2441211\ttotal: 5.58ms\tremaining: 16.7ms\n",
      "5:\tlearn: 25.7496368\ttotal: 6.42ms\tremaining: 15ms\n",
      "6:\tlearn: 25.2811560\ttotal: 7.31ms\tremaining: 13.6ms\n",
      "7:\tlearn: 24.7644952\ttotal: 8.26ms\tremaining: 12.4ms\n",
      "8:\tlearn: 24.3736343\ttotal: 9.3ms\tremaining: 11.4ms\n",
      "9:\tlearn: 23.9688621\ttotal: 10.2ms\tremaining: 10.2ms\n",
      "10:\tlearn: 23.5669142\ttotal: 11.2ms\tremaining: 9.19ms\n",
      "11:\tlearn: 23.2399434\ttotal: 12.3ms\tremaining: 8.23ms\n",
      "12:\tlearn: 22.8638851\ttotal: 13.3ms\tremaining: 7.14ms\n",
      "13:\tlearn: 22.5551379\ttotal: 14.2ms\tremaining: 6.07ms\n",
      "14:\tlearn: 22.2741123\ttotal: 15.1ms\tremaining: 5.02ms\n",
      "15:\tlearn: 21.9954652\ttotal: 16.2ms\tremaining: 4.06ms\n",
      "16:\tlearn: 21.7139990\ttotal: 17.2ms\tremaining: 3.03ms\n",
      "17:\tlearn: 21.4739456\ttotal: 18.2ms\tremaining: 2.02ms\n",
      "18:\tlearn: 21.2467986\ttotal: 19.3ms\tremaining: 1.01ms\n",
      "19:\tlearn: 21.0284598\ttotal: 20.3ms\tremaining: 0us\n",
      "0:\tlearn: 30.4978520\ttotal: 1.55ms\tremaining: 29.5ms\n",
      "1:\tlearn: 29.8875911\ttotal: 2.99ms\tremaining: 26.9ms\n",
      "2:\tlearn: 29.2701562\ttotal: 4.29ms\tremaining: 24.3ms\n",
      "3:\tlearn: 28.7712163\ttotal: 5.5ms\tremaining: 22ms\n",
      "4:\tlearn: 28.2385128\ttotal: 6.68ms\tremaining: 20ms\n",
      "5:\tlearn: 27.7530591\ttotal: 7.97ms\tremaining: 18.6ms\n",
      "6:\tlearn: 27.2399933\ttotal: 9.3ms\tremaining: 17.3ms\n",
      "7:\tlearn: 26.7832281\ttotal: 10.5ms\tremaining: 15.7ms\n",
      "8:\tlearn: 26.3734130\ttotal: 11.8ms\tremaining: 14.5ms\n",
      "9:\tlearn: 25.9551895\ttotal: 13.1ms\tremaining: 13.1ms\n",
      "10:\tlearn: 25.5751637\ttotal: 14.4ms\tremaining: 11.8ms\n",
      "11:\tlearn: 25.2325666\ttotal: 15.8ms\tremaining: 10.6ms\n",
      "12:\tlearn: 24.8832378\ttotal: 17.2ms\tremaining: 9.24ms\n",
      "13:\tlearn: 24.5683406\ttotal: 18.4ms\tremaining: 7.87ms\n",
      "14:\tlearn: 24.2617230\ttotal: 19.6ms\tremaining: 6.53ms\n",
      "15:\tlearn: 23.9884410\ttotal: 20.8ms\tremaining: 5.2ms\n",
      "16:\tlearn: 23.7160492\ttotal: 21.9ms\tremaining: 3.86ms\n",
      "17:\tlearn: 23.4928620\ttotal: 23.1ms\tremaining: 2.56ms\n",
      "18:\tlearn: 23.2561681\ttotal: 24.3ms\tremaining: 1.28ms\n",
      "19:\tlearn: 23.0536773\ttotal: 25.6ms\tremaining: 0us\n",
      "0:\tlearn: 32.3121569\ttotal: 1.53ms\tremaining: 29.1ms\n",
      "1:\tlearn: 31.5811023\ttotal: 3.04ms\tremaining: 27.3ms\n",
      "2:\tlearn: 30.9084279\ttotal: 4.42ms\tremaining: 25ms\n",
      "3:\tlearn: 30.3749274\ttotal: 5.81ms\tremaining: 23.3ms\n",
      "4:\tlearn: 29.8109997\ttotal: 7.19ms\tremaining: 21.6ms\n",
      "5:\tlearn: 29.2622952\ttotal: 8.6ms\tremaining: 20.1ms\n",
      "6:\tlearn: 28.7353286\ttotal: 10ms\tremaining: 18.6ms\n",
      "7:\tlearn: 28.2224230\ttotal: 11.7ms\tremaining: 17.5ms\n",
      "8:\tlearn: 27.7728380\ttotal: 13.6ms\tremaining: 16.7ms\n",
      "9:\tlearn: 27.3805033\ttotal: 15.1ms\tremaining: 15.1ms\n",
      "10:\tlearn: 26.9633185\ttotal: 16.6ms\tremaining: 13.6ms\n",
      "11:\tlearn: 26.5569476\ttotal: 17.9ms\tremaining: 12ms\n",
      "12:\tlearn: 26.1749677\ttotal: 19.3ms\tremaining: 10.4ms\n",
      "13:\tlearn: 25.8390253\ttotal: 20.7ms\tremaining: 8.88ms\n",
      "14:\tlearn: 25.5101930\ttotal: 22.2ms\tremaining: 7.38ms\n",
      "15:\tlearn: 25.2006102\ttotal: 23.6ms\tremaining: 5.89ms\n",
      "16:\tlearn: 24.9106379\ttotal: 25ms\tremaining: 4.41ms\n",
      "17:\tlearn: 24.6733244\ttotal: 26.3ms\tremaining: 2.92ms\n",
      "18:\tlearn: 24.4223755\ttotal: 27.8ms\tremaining: 1.46ms\n",
      "19:\tlearn: 24.2005394\ttotal: 29.2ms\tremaining: 0us\n",
      "0:\tlearn: 33.5172974\ttotal: 1.78ms\tremaining: 33.8ms\n",
      "1:\tlearn: 32.7823358\ttotal: 3.54ms\tremaining: 31.9ms\n",
      "2:\tlearn: 32.0775866\ttotal: 5.13ms\tremaining: 29ms\n",
      "3:\tlearn: 31.4531206\ttotal: 6.65ms\tremaining: 26.6ms\n",
      "4:\tlearn: 30.8412049\ttotal: 8.19ms\tremaining: 24.6ms\n",
      "5:\tlearn: 30.2993630\ttotal: 9.53ms\tremaining: 22.2ms\n",
      "6:\tlearn: 29.7539357\ttotal: 11ms\tremaining: 20.4ms\n",
      "7:\tlearn: 29.2479627\ttotal: 12.5ms\tremaining: 18.8ms\n",
      "8:\tlearn: 28.7834260\ttotal: 14ms\tremaining: 17.1ms\n",
      "9:\tlearn: 28.3738855\ttotal: 15.5ms\tremaining: 15.5ms\n",
      "10:\tlearn: 27.9488700\ttotal: 17ms\tremaining: 13.9ms\n",
      "11:\tlearn: 27.5441949\ttotal: 18.4ms\tremaining: 12.3ms\n",
      "12:\tlearn: 27.1236004\ttotal: 20ms\tremaining: 10.8ms\n",
      "13:\tlearn: 26.7979807\ttotal: 21.4ms\tremaining: 9.19ms\n",
      "14:\tlearn: 26.4688191\ttotal: 23ms\tremaining: 7.66ms\n",
      "15:\tlearn: 26.1687188\ttotal: 24.4ms\tremaining: 6.1ms\n",
      "16:\tlearn: 25.8842626\ttotal: 26.1ms\tremaining: 4.6ms\n",
      "17:\tlearn: 25.6035276\ttotal: 27.6ms\tremaining: 3.06ms\n",
      "18:\tlearn: 25.3624126\ttotal: 29.2ms\tremaining: 1.53ms\n",
      "19:\tlearn: 25.1360982\ttotal: 30.5ms\tremaining: 0us\n",
      "0:\tlearn: 25.3852073\ttotal: 1.33ms\tremaining: 11.9ms\n",
      "1:\tlearn: 22.7503745\ttotal: 2.7ms\tremaining: 10.8ms\n",
      "2:\tlearn: 21.0506325\ttotal: 3.87ms\tremaining: 9.03ms\n",
      "3:\tlearn: 19.9062647\ttotal: 4.96ms\tremaining: 7.43ms\n",
      "4:\tlearn: 19.1126552\ttotal: 5.99ms\tremaining: 5.99ms\n",
      "5:\tlearn: 18.5386868\ttotal: 7.03ms\tremaining: 4.69ms\n",
      "6:\tlearn: 18.0903979\ttotal: 8.09ms\tremaining: 3.47ms\n",
      "7:\tlearn: 17.6029545\ttotal: 9.15ms\tremaining: 2.29ms\n",
      "8:\tlearn: 17.3437514\ttotal: 10.1ms\tremaining: 1.12ms\n",
      "9:\tlearn: 17.0625362\ttotal: 11ms\tremaining: 0us\n",
      "0:\tlearn: 27.0725298\ttotal: 1.31ms\tremaining: 11.8ms\n",
      "1:\tlearn: 24.7302499\ttotal: 2.7ms\tremaining: 10.8ms\n",
      "2:\tlearn: 23.1079343\ttotal: 3.97ms\tremaining: 9.27ms\n",
      "3:\tlearn: 22.1747272\ttotal: 5.21ms\tremaining: 7.81ms\n",
      "4:\tlearn: 21.4466543\ttotal: 6.35ms\tremaining: 6.35ms\n",
      "5:\tlearn: 20.8668986\ttotal: 7.5ms\tremaining: 5ms\n",
      "6:\tlearn: 20.4949626\ttotal: 8.71ms\tremaining: 3.73ms\n",
      "7:\tlearn: 19.9855581\ttotal: 9.82ms\tremaining: 2.46ms\n",
      "8:\tlearn: 19.6756517\ttotal: 10.9ms\tremaining: 1.22ms\n",
      "9:\tlearn: 19.4670325\ttotal: 12.1ms\tremaining: 0us\n",
      "0:\tlearn: 28.8267612\ttotal: 1.58ms\tremaining: 14.3ms\n",
      "1:\tlearn: 25.9669401\ttotal: 3.35ms\tremaining: 13.4ms\n",
      "2:\tlearn: 24.2602859\ttotal: 4.76ms\tremaining: 11.1ms\n",
      "3:\tlearn: 23.3423795\ttotal: 6.01ms\tremaining: 9.02ms\n",
      "4:\tlearn: 22.5540165\ttotal: 7.44ms\tremaining: 7.44ms\n",
      "5:\tlearn: 21.7317218\ttotal: 8.77ms\tremaining: 5.85ms\n",
      "6:\tlearn: 21.3959124\ttotal: 10.1ms\tremaining: 4.32ms\n",
      "7:\tlearn: 20.9967168\ttotal: 11.5ms\tremaining: 2.88ms\n",
      "8:\tlearn: 20.6745939\ttotal: 12.9ms\tremaining: 1.44ms\n",
      "9:\tlearn: 20.3642685\ttotal: 14.2ms\tremaining: 0us\n",
      "0:\tlearn: 29.8724212\ttotal: 1.78ms\tremaining: 16ms\n",
      "1:\tlearn: 26.9692090\ttotal: 3.58ms\tremaining: 14.3ms\n",
      "2:\tlearn: 25.2187039\ttotal: 5.21ms\tremaining: 12.2ms\n",
      "3:\tlearn: 24.3204899\ttotal: 6.78ms\tremaining: 10.2ms\n",
      "4:\tlearn: 23.5055634\ttotal: 8.41ms\tremaining: 8.41ms\n",
      "5:\tlearn: 22.7620194\ttotal: 9.85ms\tremaining: 6.57ms\n",
      "6:\tlearn: 22.4712643\ttotal: 11.2ms\tremaining: 4.8ms\n",
      "7:\tlearn: 22.0553735\ttotal: 12.7ms\tremaining: 3.17ms\n",
      "8:\tlearn: 21.9022332\ttotal: 14.2ms\tremaining: 1.58ms\n",
      "9:\tlearn: 21.5198893\ttotal: 15.6ms\tremaining: 0us\n",
      "0:\tlearn: 28.5719676\ttotal: 812us\tremaining: 19.5ms\n",
      "1:\tlearn: 27.9826043\ttotal: 1.63ms\tremaining: 18.8ms\n",
      "2:\tlearn: 27.4291701\ttotal: 2.42ms\tremaining: 17.8ms\n",
      "3:\tlearn: 27.0102270\ttotal: 3.15ms\tremaining: 16.5ms\n",
      "4:\tlearn: 26.4951632\ttotal: 3.79ms\tremaining: 15.2ms\n",
      "5:\tlearn: 26.0388286\ttotal: 4.49ms\tremaining: 14.2ms\n",
      "6:\tlearn: 25.6241202\ttotal: 5.22ms\tremaining: 13.4ms\n",
      "7:\tlearn: 25.1860467\ttotal: 5.93ms\tremaining: 12.6ms\n",
      "8:\tlearn: 24.7568574\ttotal: 6.67ms\tremaining: 11.9ms\n",
      "9:\tlearn: 24.3498309\ttotal: 7.31ms\tremaining: 11ms\n",
      "10:\tlearn: 23.9291452\ttotal: 7.87ms\tremaining: 10ms\n",
      "11:\tlearn: 23.6135408\ttotal: 8.47ms\tremaining: 9.18ms\n",
      "12:\tlearn: 23.2546713\ttotal: 9.1ms\tremaining: 8.4ms\n",
      "13:\tlearn: 22.9395833\ttotal: 9.78ms\tremaining: 7.68ms\n",
      "14:\tlearn: 22.7152526\ttotal: 10.3ms\tremaining: 6.89ms\n",
      "15:\tlearn: 22.4459748\ttotal: 10.9ms\tremaining: 6.14ms\n",
      "16:\tlearn: 22.1989786\ttotal: 11.6ms\tremaining: 5.46ms\n",
      "17:\tlearn: 21.9351905\ttotal: 12.3ms\tremaining: 4.77ms\n",
      "18:\tlearn: 21.6924506\ttotal: 12.9ms\tremaining: 4.09ms\n",
      "19:\tlearn: 21.4822618\ttotal: 13.6ms\tremaining: 3.41ms\n",
      "20:\tlearn: 21.2690251\ttotal: 14.3ms\tremaining: 2.72ms\n",
      "21:\tlearn: 21.0977956\ttotal: 14.9ms\tremaining: 2.03ms\n",
      "22:\tlearn: 20.9350719\ttotal: 15.6ms\tremaining: 1.35ms\n",
      "23:\tlearn: 20.7829017\ttotal: 16.3ms\tremaining: 677us\n",
      "24:\tlearn: 20.6864452\ttotal: 16.9ms\tremaining: 0us\n",
      "0:\tlearn: 30.5334726\ttotal: 1.44ms\tremaining: 34.7ms\n",
      "1:\tlearn: 29.8753460\ttotal: 2.73ms\tremaining: 31.4ms\n",
      "2:\tlearn: 29.2948517\ttotal: 3.94ms\tremaining: 28.9ms\n",
      "3:\tlearn: 28.8264086\ttotal: 4.79ms\tremaining: 25.2ms\n",
      "4:\tlearn: 28.2753573\ttotal: 5.68ms\tremaining: 22.7ms\n",
      "5:\tlearn: 27.7698981\ttotal: 6.54ms\tremaining: 20.7ms\n",
      "6:\tlearn: 27.3432541\ttotal: 7.39ms\tremaining: 19ms\n",
      "7:\tlearn: 26.8634584\ttotal: 8.25ms\tremaining: 17.5ms\n",
      "8:\tlearn: 26.4556149\ttotal: 9.07ms\tremaining: 16.1ms\n",
      "9:\tlearn: 26.0577718\ttotal: 9.98ms\tremaining: 15ms\n",
      "10:\tlearn: 25.6793337\ttotal: 10.9ms\tremaining: 13.8ms\n",
      "11:\tlearn: 25.3395831\ttotal: 11.7ms\tremaining: 12.7ms\n",
      "12:\tlearn: 25.0083626\ttotal: 12.7ms\tremaining: 11.7ms\n",
      "13:\tlearn: 24.7035530\ttotal: 13.5ms\tremaining: 10.6ms\n",
      "14:\tlearn: 24.4414587\ttotal: 14.3ms\tremaining: 9.52ms\n",
      "15:\tlearn: 24.1861169\ttotal: 15.2ms\tremaining: 8.53ms\n",
      "16:\tlearn: 23.9476452\ttotal: 16ms\tremaining: 7.52ms\n",
      "17:\tlearn: 23.7112930\ttotal: 16.8ms\tremaining: 6.53ms\n",
      "18:\tlearn: 23.4910892\ttotal: 17.7ms\tremaining: 5.58ms\n",
      "19:\tlearn: 23.2716872\ttotal: 18.5ms\tremaining: 4.64ms\n",
      "20:\tlearn: 23.0744728\ttotal: 19.3ms\tremaining: 3.68ms\n",
      "21:\tlearn: 22.8984462\ttotal: 20.1ms\tremaining: 2.73ms\n",
      "22:\tlearn: 22.7356292\ttotal: 20.9ms\tremaining: 1.82ms\n",
      "23:\tlearn: 22.5930583\ttotal: 21.8ms\tremaining: 907us\n",
      "24:\tlearn: 22.4484209\ttotal: 22.5ms\tremaining: 0us\n",
      "0:\tlearn: 32.3242432\ttotal: 1.17ms\tremaining: 28.1ms\n",
      "1:\tlearn: 31.6396250\ttotal: 2.37ms\tremaining: 27.3ms\n",
      "2:\tlearn: 31.0075446\ttotal: 3.5ms\tremaining: 25.7ms\n",
      "3:\tlearn: 30.4094279\ttotal: 4.54ms\tremaining: 23.9ms\n",
      "4:\tlearn: 29.8139119\ttotal: 5.56ms\tremaining: 22.2ms\n",
      "5:\tlearn: 29.2740005\ttotal: 6.59ms\tremaining: 20.9ms\n",
      "6:\tlearn: 28.7889172\ttotal: 7.52ms\tremaining: 19.3ms\n",
      "7:\tlearn: 28.3306241\ttotal: 8.45ms\tremaining: 17.9ms\n",
      "8:\tlearn: 27.8743278\ttotal: 9.41ms\tremaining: 16.7ms\n",
      "9:\tlearn: 27.4862298\ttotal: 10.4ms\tremaining: 15.7ms\n",
      "10:\tlearn: 27.0802185\ttotal: 11.4ms\tremaining: 14.6ms\n",
      "11:\tlearn: 26.7384317\ttotal: 12.5ms\tremaining: 13.5ms\n",
      "12:\tlearn: 26.3662563\ttotal: 13.5ms\tremaining: 12.5ms\n",
      "13:\tlearn: 26.0259680\ttotal: 14.4ms\tremaining: 11.3ms\n",
      "14:\tlearn: 25.7586231\ttotal: 15.3ms\tremaining: 10.2ms\n",
      "15:\tlearn: 25.4714399\ttotal: 16.4ms\tremaining: 9.23ms\n",
      "16:\tlearn: 25.2105193\ttotal: 17.5ms\tremaining: 8.23ms\n",
      "17:\tlearn: 24.9522227\ttotal: 18.5ms\tremaining: 7.21ms\n",
      "18:\tlearn: 24.7198461\ttotal: 19.6ms\tremaining: 6.2ms\n",
      "19:\tlearn: 24.5272081\ttotal: 20.6ms\tremaining: 5.15ms\n",
      "20:\tlearn: 24.3061342\ttotal: 21.6ms\tremaining: 4.11ms\n",
      "21:\tlearn: 24.1264951\ttotal: 22.5ms\tremaining: 3.06ms\n",
      "22:\tlearn: 23.9507221\ttotal: 23.4ms\tremaining: 2.04ms\n",
      "23:\tlearn: 23.8002348\ttotal: 24.5ms\tremaining: 1.02ms\n",
      "24:\tlearn: 23.6520642\ttotal: 25.5ms\tremaining: 0us\n",
      "0:\tlearn: 33.5254733\ttotal: 1.24ms\tremaining: 29.7ms\n",
      "1:\tlearn: 32.8180108\ttotal: 2.37ms\tremaining: 27.3ms\n",
      "2:\tlearn: 32.1420392\ttotal: 3.46ms\tremaining: 25.4ms\n",
      "3:\tlearn: 31.5502748\ttotal: 4.58ms\tremaining: 24ms\n",
      "4:\tlearn: 30.9030449\ttotal: 5.71ms\tremaining: 22.8ms\n",
      "5:\tlearn: 30.3436431\ttotal: 6.86ms\tremaining: 21.7ms\n",
      "6:\tlearn: 29.8096799\ttotal: 7.96ms\tremaining: 20.5ms\n",
      "7:\tlearn: 29.3375852\ttotal: 9.14ms\tremaining: 19.4ms\n",
      "8:\tlearn: 28.8986243\ttotal: 10.1ms\tremaining: 17.9ms\n",
      "9:\tlearn: 28.4923910\ttotal: 11.1ms\tremaining: 16.6ms\n",
      "10:\tlearn: 28.1139758\ttotal: 12.2ms\tremaining: 15.6ms\n",
      "11:\tlearn: 27.7121906\ttotal: 13.2ms\tremaining: 14.3ms\n",
      "12:\tlearn: 27.3683335\ttotal: 14.3ms\tremaining: 13.2ms\n",
      "13:\tlearn: 27.0326042\ttotal: 15.3ms\tremaining: 12ms\n",
      "14:\tlearn: 26.7453133\ttotal: 16.4ms\tremaining: 11ms\n",
      "15:\tlearn: 26.4527965\ttotal: 17.5ms\tremaining: 9.83ms\n",
      "16:\tlearn: 26.1940541\ttotal: 18.6ms\tremaining: 8.75ms\n",
      "17:\tlearn: 25.9454038\ttotal: 19.6ms\tremaining: 7.63ms\n",
      "18:\tlearn: 25.7112416\ttotal: 20.7ms\tremaining: 6.53ms\n",
      "19:\tlearn: 25.4930350\ttotal: 21.8ms\tremaining: 5.45ms\n",
      "20:\tlearn: 25.2831060\ttotal: 22.8ms\tremaining: 4.35ms\n",
      "21:\tlearn: 25.1125469\ttotal: 23.9ms\tremaining: 3.26ms\n",
      "22:\tlearn: 24.9425556\ttotal: 25ms\tremaining: 2.17ms\n",
      "23:\tlearn: 24.7799718\ttotal: 25.9ms\tremaining: 1.08ms\n",
      "24:\tlearn: 24.6220347\ttotal: 26.8ms\tremaining: 0us\n",
      "0:\tlearn: 28.8164366\ttotal: 1.91ms\tremaining: 36.3ms\n",
      "1:\tlearn: 28.4022176\ttotal: 3.56ms\tremaining: 32ms\n",
      "2:\tlearn: 28.0992670\ttotal: 5.28ms\tremaining: 29.9ms\n",
      "3:\tlearn: 27.7580256\ttotal: 6.88ms\tremaining: 27.5ms\n",
      "4:\tlearn: 27.4365353\ttotal: 8.48ms\tremaining: 25.5ms\n",
      "5:\tlearn: 27.0659139\ttotal: 9.95ms\tremaining: 23.2ms\n",
      "6:\tlearn: 26.7469357\ttotal: 11.7ms\tremaining: 21.7ms\n",
      "7:\tlearn: 26.4485026\ttotal: 13.2ms\tremaining: 19.8ms\n",
      "8:\tlearn: 26.1522367\ttotal: 14.9ms\tremaining: 18.2ms\n",
      "9:\tlearn: 25.8602420\ttotal: 16.5ms\tremaining: 16.5ms\n",
      "10:\tlearn: 25.5621569\ttotal: 18.2ms\tremaining: 14.9ms\n",
      "11:\tlearn: 25.2785831\ttotal: 20ms\tremaining: 13.3ms\n",
      "12:\tlearn: 24.9929761\ttotal: 21.8ms\tremaining: 11.7ms\n",
      "13:\tlearn: 24.7738044\ttotal: 23.4ms\tremaining: 10ms\n",
      "14:\tlearn: 24.5110610\ttotal: 25.1ms\tremaining: 8.37ms\n",
      "15:\tlearn: 24.2643324\ttotal: 26.9ms\tremaining: 6.72ms\n",
      "16:\tlearn: 24.0128148\ttotal: 28.4ms\tremaining: 5.01ms\n",
      "17:\tlearn: 23.7813522\ttotal: 30ms\tremaining: 3.33ms\n",
      "18:\tlearn: 23.5642938\ttotal: 31.7ms\tremaining: 1.67ms\n",
      "19:\tlearn: 23.3599914\ttotal: 33.6ms\tremaining: 0us\n",
      "0:\tlearn: 30.7913518\ttotal: 2.09ms\tremaining: 39.8ms\n",
      "1:\tlearn: 30.3817198\ttotal: 4.07ms\tremaining: 36.6ms\n",
      "2:\tlearn: 29.9920728\ttotal: 6.01ms\tremaining: 34.1ms\n",
      "3:\tlearn: 29.6526039\ttotal: 8.06ms\tremaining: 32.2ms\n",
      "4:\tlearn: 29.3188207\ttotal: 9.87ms\tremaining: 29.6ms\n",
      "5:\tlearn: 28.9396472\ttotal: 11.8ms\tremaining: 27.5ms\n",
      "6:\tlearn: 28.6102746\ttotal: 13.8ms\tremaining: 25.6ms\n",
      "7:\tlearn: 28.2722858\ttotal: 15.6ms\tremaining: 23.4ms\n",
      "8:\tlearn: 27.9844550\ttotal: 17.6ms\tremaining: 21.5ms\n",
      "9:\tlearn: 27.7002323\ttotal: 19.4ms\tremaining: 19.4ms\n",
      "10:\tlearn: 27.4033749\ttotal: 21.3ms\tremaining: 17.4ms\n",
      "11:\tlearn: 27.1121604\ttotal: 23.1ms\tremaining: 15.4ms\n",
      "12:\tlearn: 26.8461819\ttotal: 25.1ms\tremaining: 13.5ms\n",
      "13:\tlearn: 26.6123144\ttotal: 26.8ms\tremaining: 11.5ms\n",
      "14:\tlearn: 26.3623260\ttotal: 28.7ms\tremaining: 9.57ms\n",
      "15:\tlearn: 26.0855020\ttotal: 30.5ms\tremaining: 7.63ms\n",
      "16:\tlearn: 25.8342607\ttotal: 32.3ms\tremaining: 5.7ms\n",
      "17:\tlearn: 25.6058631\ttotal: 34.2ms\tremaining: 3.8ms\n",
      "18:\tlearn: 25.3720699\ttotal: 36ms\tremaining: 1.9ms\n",
      "19:\tlearn: 25.1589276\ttotal: 37.8ms\tremaining: 0us\n",
      "0:\tlearn: 32.5973801\ttotal: 2.42ms\tremaining: 45.9ms\n",
      "1:\tlearn: 32.1355163\ttotal: 4.53ms\tremaining: 40.8ms\n",
      "2:\tlearn: 31.6960098\ttotal: 6.69ms\tremaining: 37.9ms\n",
      "3:\tlearn: 31.2942229\ttotal: 9.01ms\tremaining: 36ms\n",
      "4:\tlearn: 30.8930025\ttotal: 11.2ms\tremaining: 33.5ms\n",
      "5:\tlearn: 30.4927653\ttotal: 13.4ms\tremaining: 31.2ms\n",
      "6:\tlearn: 30.1465265\ttotal: 15.5ms\tremaining: 28.8ms\n",
      "7:\tlearn: 29.7776523\ttotal: 17.7ms\tremaining: 26.5ms\n",
      "8:\tlearn: 29.4505330\ttotal: 19.7ms\tremaining: 24.1ms\n",
      "9:\tlearn: 29.1234701\ttotal: 22ms\tremaining: 22ms\n",
      "10:\tlearn: 28.7837056\ttotal: 24ms\tremaining: 19.6ms\n",
      "11:\tlearn: 28.4759118\ttotal: 26.2ms\tremaining: 17.5ms\n",
      "12:\tlearn: 28.1880305\ttotal: 28.3ms\tremaining: 15.2ms\n",
      "13:\tlearn: 27.9176089\ttotal: 30.3ms\tremaining: 13ms\n",
      "14:\tlearn: 27.6613421\ttotal: 32.4ms\tremaining: 10.8ms\n",
      "15:\tlearn: 27.3852427\ttotal: 34.7ms\tremaining: 8.68ms\n",
      "16:\tlearn: 27.1253124\ttotal: 36.8ms\tremaining: 6.49ms\n",
      "17:\tlearn: 26.8782127\ttotal: 39ms\tremaining: 4.33ms\n",
      "18:\tlearn: 26.6468461\ttotal: 41.4ms\tremaining: 2.18ms\n",
      "19:\tlearn: 26.4090101\ttotal: 43.6ms\tremaining: 0us\n",
      "0:\tlearn: 33.8276130\ttotal: 2.52ms\tremaining: 48ms\n",
      "1:\tlearn: 33.3459645\ttotal: 4.96ms\tremaining: 44.7ms\n",
      "2:\tlearn: 32.8918983\ttotal: 7.18ms\tremaining: 40.7ms\n",
      "3:\tlearn: 32.4817852\ttotal: 9.38ms\tremaining: 37.5ms\n",
      "4:\tlearn: 32.0617499\ttotal: 11.6ms\tremaining: 34.7ms\n",
      "5:\tlearn: 31.6461584\ttotal: 13.9ms\tremaining: 32.4ms\n",
      "6:\tlearn: 31.2827255\ttotal: 16ms\tremaining: 29.7ms\n",
      "7:\tlearn: 30.8931233\ttotal: 18.2ms\tremaining: 27.4ms\n",
      "8:\tlearn: 30.5328583\ttotal: 20.4ms\tremaining: 24.9ms\n",
      "9:\tlearn: 30.1780330\ttotal: 22.4ms\tremaining: 22.4ms\n",
      "10:\tlearn: 29.8424919\ttotal: 24.5ms\tremaining: 20.1ms\n",
      "11:\tlearn: 29.5263677\ttotal: 27.7ms\tremaining: 18.5ms\n",
      "12:\tlearn: 29.2248748\ttotal: 30.2ms\tremaining: 16.2ms\n",
      "13:\tlearn: 28.9238528\ttotal: 32.5ms\tremaining: 13.9ms\n",
      "14:\tlearn: 28.6497898\ttotal: 34.9ms\tremaining: 11.6ms\n",
      "15:\tlearn: 28.3605230\ttotal: 37.2ms\tremaining: 9.3ms\n",
      "16:\tlearn: 28.1035446\ttotal: 39.3ms\tremaining: 6.94ms\n",
      "17:\tlearn: 27.8431185\ttotal: 41.6ms\tremaining: 4.62ms\n",
      "18:\tlearn: 27.6019742\ttotal: 43.6ms\tremaining: 2.29ms\n",
      "19:\tlearn: 27.3763116\ttotal: 45.7ms\tremaining: 0us\n",
      "0:\tlearn: 25.3852073\ttotal: 1.33ms\tremaining: 25.3ms\n",
      "1:\tlearn: 22.7503745\ttotal: 2.66ms\tremaining: 23.9ms\n",
      "2:\tlearn: 21.0506325\ttotal: 3.91ms\tremaining: 22.1ms\n",
      "3:\tlearn: 19.9062647\ttotal: 4.96ms\tremaining: 19.8ms\n",
      "4:\tlearn: 19.1126552\ttotal: 5.9ms\tremaining: 17.7ms\n",
      "5:\tlearn: 18.5386868\ttotal: 7.02ms\tremaining: 16.4ms\n",
      "6:\tlearn: 18.0903979\ttotal: 7.99ms\tremaining: 14.8ms\n",
      "7:\tlearn: 17.6029545\ttotal: 8.88ms\tremaining: 13.3ms\n",
      "8:\tlearn: 17.3437514\ttotal: 9.74ms\tremaining: 11.9ms\n",
      "9:\tlearn: 17.0625362\ttotal: 10.7ms\tremaining: 10.7ms\n",
      "10:\tlearn: 16.7469683\ttotal: 11.7ms\tremaining: 9.57ms\n",
      "11:\tlearn: 16.4528512\ttotal: 12.7ms\tremaining: 8.45ms\n",
      "12:\tlearn: 16.1998032\ttotal: 13.8ms\tremaining: 7.45ms\n",
      "13:\tlearn: 16.0671325\ttotal: 15ms\tremaining: 6.43ms\n",
      "14:\tlearn: 15.8471289\ttotal: 16.1ms\tremaining: 5.36ms\n",
      "15:\tlearn: 15.6510153\ttotal: 17.1ms\tremaining: 4.27ms\n",
      "16:\tlearn: 15.4425034\ttotal: 18.1ms\tremaining: 3.2ms\n",
      "17:\tlearn: 15.2674788\ttotal: 19.1ms\tremaining: 2.12ms\n",
      "18:\tlearn: 15.0282829\ttotal: 20.2ms\tremaining: 1.06ms\n",
      "19:\tlearn: 14.8896744\ttotal: 21.3ms\tremaining: 0us\n",
      "0:\tlearn: 27.0725298\ttotal: 1.44ms\tremaining: 27.4ms\n",
      "1:\tlearn: 24.7302499\ttotal: 2.88ms\tremaining: 25.9ms\n",
      "2:\tlearn: 23.1079343\ttotal: 4.14ms\tremaining: 23.5ms\n",
      "3:\tlearn: 22.1747272\ttotal: 5.3ms\tremaining: 21.2ms\n",
      "4:\tlearn: 21.4466543\ttotal: 6.56ms\tremaining: 19.7ms\n",
      "5:\tlearn: 20.8668986\ttotal: 7.86ms\tremaining: 18.3ms\n",
      "6:\tlearn: 20.4949626\ttotal: 9.17ms\tremaining: 17ms\n",
      "7:\tlearn: 19.9855581\ttotal: 10.5ms\tremaining: 15.7ms\n",
      "8:\tlearn: 19.6756517\ttotal: 11.8ms\tremaining: 14.4ms\n",
      "9:\tlearn: 19.4670325\ttotal: 13.1ms\tremaining: 13.1ms\n",
      "10:\tlearn: 19.1938411\ttotal: 14.3ms\tremaining: 11.7ms\n",
      "11:\tlearn: 19.0412532\ttotal: 15.5ms\tremaining: 10.4ms\n",
      "12:\tlearn: 18.7262877\ttotal: 16.8ms\tremaining: 9.03ms\n",
      "13:\tlearn: 18.4811991\ttotal: 17.8ms\tremaining: 7.65ms\n",
      "14:\tlearn: 18.3412769\ttotal: 19.1ms\tremaining: 6.37ms\n",
      "15:\tlearn: 18.0928125\ttotal: 20.3ms\tremaining: 5.06ms\n",
      "16:\tlearn: 17.8635477\ttotal: 21.5ms\tremaining: 3.79ms\n",
      "17:\tlearn: 17.6961430\ttotal: 22.7ms\tremaining: 2.52ms\n",
      "18:\tlearn: 17.5026754\ttotal: 24ms\tremaining: 1.26ms\n",
      "19:\tlearn: 17.3766585\ttotal: 25.2ms\tremaining: 0us\n",
      "0:\tlearn: 28.8267612\ttotal: 1.62ms\tremaining: 30.8ms\n",
      "1:\tlearn: 25.9669401\ttotal: 3.32ms\tremaining: 29.9ms\n",
      "2:\tlearn: 24.2602859\ttotal: 4.79ms\tremaining: 27.2ms\n",
      "3:\tlearn: 23.3423795\ttotal: 6.24ms\tremaining: 25ms\n",
      "4:\tlearn: 22.5540165\ttotal: 7.61ms\tremaining: 22.8ms\n",
      "5:\tlearn: 21.7317218\ttotal: 9.16ms\tremaining: 21.4ms\n",
      "6:\tlearn: 21.3959124\ttotal: 10.6ms\tremaining: 19.8ms\n",
      "7:\tlearn: 20.9967168\ttotal: 12.1ms\tremaining: 18.1ms\n",
      "8:\tlearn: 20.6745939\ttotal: 13.5ms\tremaining: 16.5ms\n",
      "9:\tlearn: 20.3642685\ttotal: 15ms\tremaining: 15ms\n",
      "10:\tlearn: 20.0933477\ttotal: 16.5ms\tremaining: 13.5ms\n",
      "11:\tlearn: 19.8842239\ttotal: 17.9ms\tremaining: 11.9ms\n",
      "12:\tlearn: 19.6287510\ttotal: 19.3ms\tremaining: 10.4ms\n",
      "13:\tlearn: 19.4701785\ttotal: 20.6ms\tremaining: 8.82ms\n",
      "14:\tlearn: 19.2300548\ttotal: 22ms\tremaining: 7.35ms\n",
      "15:\tlearn: 19.1626144\ttotal: 23.4ms\tremaining: 5.86ms\n",
      "16:\tlearn: 19.0278541\ttotal: 24.9ms\tremaining: 4.39ms\n",
      "17:\tlearn: 18.8960238\ttotal: 26.2ms\tremaining: 2.92ms\n",
      "18:\tlearn: 18.7624213\ttotal: 27.7ms\tremaining: 1.46ms\n",
      "19:\tlearn: 18.5859522\ttotal: 29.1ms\tremaining: 0us\n",
      "0:\tlearn: 29.8724212\ttotal: 1.79ms\tremaining: 34ms\n",
      "1:\tlearn: 26.9692090\ttotal: 3.76ms\tremaining: 33.9ms\n",
      "2:\tlearn: 25.2187039\ttotal: 5.42ms\tremaining: 30.7ms\n",
      "3:\tlearn: 24.3204899\ttotal: 7ms\tremaining: 28ms\n",
      "4:\tlearn: 23.5055634\ttotal: 8.51ms\tremaining: 25.5ms\n",
      "5:\tlearn: 22.7620194\ttotal: 10.2ms\tremaining: 23.7ms\n",
      "6:\tlearn: 22.4712643\ttotal: 11.6ms\tremaining: 21.5ms\n",
      "7:\tlearn: 22.0553735\ttotal: 13.1ms\tremaining: 19.6ms\n",
      "8:\tlearn: 21.9022332\ttotal: 14.4ms\tremaining: 17.6ms\n",
      "9:\tlearn: 21.5198893\ttotal: 15.8ms\tremaining: 15.8ms\n",
      "10:\tlearn: 21.2664068\ttotal: 17.4ms\tremaining: 14.2ms\n",
      "11:\tlearn: 21.1130097\ttotal: 18.9ms\tremaining: 12.6ms\n",
      "12:\tlearn: 20.9640439\ttotal: 20.4ms\tremaining: 11ms\n",
      "13:\tlearn: 20.7923475\ttotal: 21.9ms\tremaining: 9.38ms\n",
      "14:\tlearn: 20.4993231\ttotal: 23.5ms\tremaining: 7.84ms\n",
      "15:\tlearn: 20.3951498\ttotal: 25.1ms\tremaining: 6.26ms\n",
      "16:\tlearn: 20.2517094\ttotal: 26.7ms\tremaining: 4.7ms\n",
      "17:\tlearn: 20.0846925\ttotal: 28.1ms\tremaining: 3.12ms\n",
      "18:\tlearn: 19.9790623\ttotal: 29.6ms\tremaining: 1.56ms\n",
      "19:\tlearn: 19.8944689\ttotal: 31.2ms\tremaining: 0us\n",
      "0:\tlearn: 27.9291671\ttotal: 829us\tremaining: 11.6ms\n",
      "1:\tlearn: 26.8325725\ttotal: 1.8ms\tremaining: 11.7ms\n",
      "2:\tlearn: 25.8591473\ttotal: 2.54ms\tremaining: 10.2ms\n",
      "3:\tlearn: 25.1818119\ttotal: 3.22ms\tremaining: 8.85ms\n",
      "4:\tlearn: 24.3741494\ttotal: 3.83ms\tremaining: 7.67ms\n",
      "5:\tlearn: 23.6710356\ttotal: 4.66ms\tremaining: 6.99ms\n",
      "6:\tlearn: 23.0768835\ttotal: 5.34ms\tremaining: 6.1ms\n",
      "7:\tlearn: 22.5174358\ttotal: 6.01ms\tremaining: 5.26ms\n",
      "8:\tlearn: 22.0354793\ttotal: 6.81ms\tremaining: 4.54ms\n",
      "9:\tlearn: 21.6107665\ttotal: 7.5ms\tremaining: 3.75ms\n",
      "10:\tlearn: 21.1773839\ttotal: 8.18ms\tremaining: 2.97ms\n",
      "11:\tlearn: 20.7577560\ttotal: 8.85ms\tremaining: 2.21ms\n",
      "12:\tlearn: 20.4915681\ttotal: 9.47ms\tremaining: 1.46ms\n",
      "13:\tlearn: 20.2070465\ttotal: 10.2ms\tremaining: 728us\n",
      "14:\tlearn: 20.0175002\ttotal: 10.9ms\tremaining: 0us\n",
      "0:\tlearn: 29.8392896\ttotal: 1.1ms\tremaining: 15.4ms\n",
      "1:\tlearn: 28.6286420\ttotal: 2.2ms\tremaining: 14.3ms\n",
      "2:\tlearn: 27.6345173\ttotal: 3.18ms\tremaining: 12.7ms\n",
      "3:\tlearn: 26.8895215\ttotal: 4.13ms\tremaining: 11.4ms\n",
      "4:\tlearn: 26.1026183\ttotal: 4.93ms\tremaining: 9.86ms\n",
      "5:\tlearn: 25.4216182\ttotal: 5.78ms\tremaining: 8.67ms\n",
      "6:\tlearn: 24.8325381\ttotal: 6.67ms\tremaining: 7.62ms\n",
      "7:\tlearn: 24.2661380\ttotal: 7.53ms\tremaining: 6.58ms\n",
      "8:\tlearn: 23.8253536\ttotal: 8.38ms\tremaining: 5.59ms\n",
      "9:\tlearn: 23.4167063\ttotal: 9.26ms\tremaining: 4.63ms\n",
      "10:\tlearn: 22.9700420\ttotal: 10.1ms\tremaining: 3.67ms\n",
      "11:\tlearn: 22.6186044\ttotal: 10.9ms\tremaining: 2.73ms\n",
      "12:\tlearn: 22.3455980\ttotal: 11.7ms\tremaining: 1.8ms\n",
      "13:\tlearn: 22.0481996\ttotal: 12.5ms\tremaining: 895us\n",
      "14:\tlearn: 21.8552790\ttotal: 13.3ms\tremaining: 0us\n",
      "0:\tlearn: 31.5908819\ttotal: 1.22ms\tremaining: 17.1ms\n",
      "1:\tlearn: 30.2749681\ttotal: 2.36ms\tremaining: 15.3ms\n",
      "2:\tlearn: 29.1938402\ttotal: 3.27ms\tremaining: 13.1ms\n",
      "3:\tlearn: 28.2456735\ttotal: 4.28ms\tremaining: 11.8ms\n",
      "4:\tlearn: 27.3498238\ttotal: 5.28ms\tremaining: 10.6ms\n",
      "5:\tlearn: 26.6626328\ttotal: 6.26ms\tremaining: 9.4ms\n",
      "6:\tlearn: 26.0647573\ttotal: 7.52ms\tremaining: 8.6ms\n",
      "7:\tlearn: 25.4714373\ttotal: 8.56ms\tremaining: 7.49ms\n",
      "8:\tlearn: 24.9359681\ttotal: 9.52ms\tremaining: 6.35ms\n",
      "9:\tlearn: 24.4875751\ttotal: 10.5ms\tremaining: 5.27ms\n",
      "10:\tlearn: 24.0694743\ttotal: 11.5ms\tremaining: 4.18ms\n",
      "11:\tlearn: 23.7048228\ttotal: 12.4ms\tremaining: 3.11ms\n",
      "12:\tlearn: 23.3911502\ttotal: 13.6ms\tremaining: 2.08ms\n",
      "13:\tlearn: 23.0970763\ttotal: 14.6ms\tremaining: 1.04ms\n",
      "14:\tlearn: 22.7826022\ttotal: 15.4ms\tremaining: 0us\n",
      "0:\tlearn: 32.7537231\ttotal: 1.14ms\tremaining: 15.9ms\n",
      "1:\tlearn: 31.3803663\ttotal: 2.4ms\tremaining: 15.6ms\n",
      "2:\tlearn: 30.1976415\ttotal: 3.43ms\tremaining: 13.7ms\n",
      "3:\tlearn: 29.2998474\ttotal: 4.4ms\tremaining: 12.1ms\n",
      "4:\tlearn: 28.3738201\ttotal: 5.54ms\tremaining: 11.1ms\n",
      "5:\tlearn: 27.6114996\ttotal: 6.55ms\tremaining: 9.82ms\n",
      "6:\tlearn: 26.9436076\ttotal: 7.51ms\tremaining: 8.58ms\n",
      "7:\tlearn: 26.3250224\ttotal: 8.51ms\tremaining: 7.45ms\n",
      "8:\tlearn: 25.8181267\ttotal: 9.45ms\tremaining: 6.3ms\n",
      "9:\tlearn: 25.3858460\ttotal: 10.5ms\tremaining: 5.25ms\n",
      "10:\tlearn: 24.9245104\ttotal: 11.6ms\tremaining: 4.22ms\n",
      "11:\tlearn: 24.5661681\ttotal: 12.6ms\tremaining: 3.15ms\n",
      "12:\tlearn: 24.2685571\ttotal: 13.6ms\tremaining: 2.09ms\n",
      "13:\tlearn: 23.9362136\ttotal: 14.6ms\tremaining: 1.04ms\n",
      "14:\tlearn: 23.7036845\ttotal: 15.6ms\tremaining: 0us\n",
      "0:\tlearn: 28.8179006\ttotal: 1.21ms\tremaining: 17ms\n",
      "1:\tlearn: 28.4523615\ttotal: 2.59ms\tremaining: 16.8ms\n",
      "2:\tlearn: 28.0800724\ttotal: 3.7ms\tremaining: 14.8ms\n",
      "3:\tlearn: 27.7208716\ttotal: 4.75ms\tremaining: 13.1ms\n",
      "4:\tlearn: 27.3811953\ttotal: 5.99ms\tremaining: 12ms\n",
      "5:\tlearn: 27.0487641\ttotal: 7.12ms\tremaining: 10.7ms\n",
      "6:\tlearn: 26.6941199\ttotal: 8.34ms\tremaining: 9.53ms\n",
      "7:\tlearn: 26.3698254\ttotal: 9.52ms\tremaining: 8.33ms\n",
      "8:\tlearn: 26.0821474\ttotal: 10.6ms\tremaining: 7.06ms\n",
      "9:\tlearn: 25.7830249\ttotal: 11.6ms\tremaining: 5.79ms\n",
      "10:\tlearn: 25.4789480\ttotal: 12.6ms\tremaining: 4.59ms\n",
      "11:\tlearn: 25.2026596\ttotal: 13.6ms\tremaining: 3.4ms\n",
      "12:\tlearn: 24.9655087\ttotal: 14.6ms\tremaining: 2.24ms\n",
      "13:\tlearn: 24.7190543\ttotal: 15.8ms\tremaining: 1.13ms\n",
      "14:\tlearn: 24.4681106\ttotal: 16.7ms\tremaining: 0us\n",
      "0:\tlearn: 30.7953010\ttotal: 1.49ms\tremaining: 20.8ms\n",
      "1:\tlearn: 30.4173637\ttotal: 2.92ms\tremaining: 19ms\n",
      "2:\tlearn: 30.0264280\ttotal: 4.18ms\tremaining: 16.7ms\n",
      "3:\tlearn: 29.7004494\ttotal: 5.49ms\tremaining: 15.1ms\n",
      "4:\tlearn: 29.3477698\ttotal: 6.78ms\tremaining: 13.6ms\n",
      "5:\tlearn: 29.0166941\ttotal: 8.06ms\tremaining: 12.1ms\n",
      "6:\tlearn: 28.6898018\ttotal: 9.3ms\tremaining: 10.6ms\n",
      "7:\tlearn: 28.3358386\ttotal: 10.5ms\tremaining: 9.16ms\n",
      "8:\tlearn: 28.0348135\ttotal: 11.8ms\tremaining: 7.84ms\n",
      "9:\tlearn: 27.7196150\ttotal: 13ms\tremaining: 6.49ms\n",
      "10:\tlearn: 27.4183296\ttotal: 14.3ms\tremaining: 5.19ms\n",
      "11:\tlearn: 27.1458578\ttotal: 15.6ms\tremaining: 3.89ms\n",
      "12:\tlearn: 26.8828729\ttotal: 16.7ms\tremaining: 2.58ms\n",
      "13:\tlearn: 26.6363084\ttotal: 18ms\tremaining: 1.28ms\n",
      "14:\tlearn: 26.3711149\ttotal: 19.2ms\tremaining: 0us\n",
      "0:\tlearn: 32.6163164\ttotal: 2.51ms\tremaining: 35.1ms\n",
      "1:\tlearn: 32.1653547\ttotal: 4.7ms\tremaining: 30.6ms\n",
      "2:\tlearn: 31.7379830\ttotal: 7.5ms\tremaining: 30ms\n",
      "3:\tlearn: 31.3554652\ttotal: 9.79ms\tremaining: 26.9ms\n",
      "4:\tlearn: 30.9814959\ttotal: 11.9ms\tremaining: 23.8ms\n",
      "5:\tlearn: 30.5976941\ttotal: 14.1ms\tremaining: 21.2ms\n",
      "6:\tlearn: 30.2275522\ttotal: 16.3ms\tremaining: 18.6ms\n",
      "7:\tlearn: 29.8636213\ttotal: 18.3ms\tremaining: 16ms\n",
      "8:\tlearn: 29.5292806\ttotal: 20.2ms\tremaining: 13.4ms\n",
      "9:\tlearn: 29.2280354\ttotal: 21.8ms\tremaining: 10.9ms\n",
      "10:\tlearn: 28.8964200\ttotal: 23.8ms\tremaining: 8.65ms\n",
      "11:\tlearn: 28.5736962\ttotal: 25.2ms\tremaining: 6.31ms\n",
      "12:\tlearn: 28.2815570\ttotal: 26.7ms\tremaining: 4.11ms\n",
      "13:\tlearn: 28.0175380\ttotal: 28ms\tremaining: 2ms\n",
      "14:\tlearn: 27.7195767\ttotal: 29.5ms\tremaining: 0us\n",
      "0:\tlearn: 33.8355538\ttotal: 1.93ms\tremaining: 27ms\n",
      "1:\tlearn: 33.3799031\ttotal: 3.82ms\tremaining: 24.8ms\n",
      "2:\tlearn: 32.9307424\ttotal: 5.59ms\tremaining: 22.4ms\n",
      "3:\tlearn: 32.5195741\ttotal: 7.12ms\tremaining: 19.6ms\n",
      "4:\tlearn: 32.1114734\ttotal: 8.74ms\tremaining: 17.5ms\n",
      "5:\tlearn: 31.7366357\ttotal: 10.3ms\tremaining: 15.5ms\n",
      "6:\tlearn: 31.3529555\ttotal: 11.8ms\tremaining: 13.5ms\n",
      "7:\tlearn: 30.9765343\ttotal: 13.3ms\tremaining: 11.6ms\n",
      "8:\tlearn: 30.6127246\ttotal: 14.6ms\tremaining: 9.76ms\n",
      "9:\tlearn: 30.2905876\ttotal: 16.1ms\tremaining: 8.03ms\n",
      "10:\tlearn: 29.9566763\ttotal: 17.4ms\tremaining: 6.32ms\n",
      "11:\tlearn: 29.6398808\ttotal: 18.8ms\tremaining: 4.71ms\n",
      "12:\tlearn: 29.3178568\ttotal: 20.3ms\tremaining: 3.12ms\n",
      "13:\tlearn: 29.0219520\ttotal: 21.8ms\tremaining: 1.56ms\n",
      "14:\tlearn: 28.7221803\ttotal: 23.4ms\tremaining: 0us\n",
      "0:\tlearn: 25.4936532\ttotal: 616us\tremaining: 2.46ms\n",
      "1:\tlearn: 23.0842123\ttotal: 1.48ms\tremaining: 2.22ms\n",
      "2:\tlearn: 21.5393116\ttotal: 1.89ms\tremaining: 1.26ms\n",
      "3:\tlearn: 20.5907377\ttotal: 2.31ms\tremaining: 578us\n",
      "4:\tlearn: 20.1462913\ttotal: 2.82ms\tremaining: 0us\n",
      "0:\tlearn: 27.5629415\ttotal: 713us\tremaining: 2.85ms\n",
      "1:\tlearn: 25.0635545\ttotal: 1.54ms\tremaining: 2.31ms\n",
      "2:\tlearn: 23.7299108\ttotal: 2.13ms\tremaining: 1.42ms\n",
      "3:\tlearn: 22.9069193\ttotal: 2.69ms\tremaining: 673us\n",
      "4:\tlearn: 22.2766510\ttotal: 3.23ms\tremaining: 0us\n",
      "0:\tlearn: 28.9208691\ttotal: 857us\tremaining: 3.43ms\n",
      "1:\tlearn: 26.4591060\ttotal: 1.83ms\tremaining: 2.74ms\n",
      "2:\tlearn: 24.8539283\ttotal: 2.55ms\tremaining: 1.7ms\n",
      "3:\tlearn: 23.9708430\ttotal: 3.21ms\tremaining: 801us\n",
      "4:\tlearn: 23.2026050\ttotal: 3.86ms\tremaining: 0us\n",
      "0:\tlearn: 29.9669052\ttotal: 881us\tremaining: 3.52ms\n",
      "1:\tlearn: 27.4255155\ttotal: 1.81ms\tremaining: 2.72ms\n",
      "2:\tlearn: 25.8447128\ttotal: 2.72ms\tremaining: 1.81ms\n",
      "3:\tlearn: 24.7639984\ttotal: 3.49ms\tremaining: 872us\n",
      "4:\tlearn: 24.0099939\ttotal: 4.33ms\tremaining: 0us\n",
      "0:\tlearn: 28.8337047\ttotal: 841us\tremaining: 20.2ms\n",
      "1:\tlearn: 28.4701937\ttotal: 1.86ms\tremaining: 21.4ms\n",
      "2:\tlearn: 28.1214175\ttotal: 2.63ms\tremaining: 19.3ms\n",
      "3:\tlearn: 27.8489533\ttotal: 3.39ms\tremaining: 17.8ms\n",
      "4:\tlearn: 27.5106757\ttotal: 4.11ms\tremaining: 16.4ms\n",
      "5:\tlearn: 27.1916641\ttotal: 4.8ms\tremaining: 15.2ms\n",
      "6:\tlearn: 26.8721947\ttotal: 5.52ms\tremaining: 14.2ms\n",
      "7:\tlearn: 26.5547977\ttotal: 6.25ms\tremaining: 13.3ms\n",
      "8:\tlearn: 26.2499357\ttotal: 7.13ms\tremaining: 12.7ms\n",
      "9:\tlearn: 25.9379465\ttotal: 8.1ms\tremaining: 12.2ms\n",
      "10:\tlearn: 25.6275157\ttotal: 9.21ms\tremaining: 11.7ms\n",
      "11:\tlearn: 25.3606574\ttotal: 10.2ms\tremaining: 11ms\n",
      "12:\tlearn: 25.1256745\ttotal: 10.9ms\tremaining: 10.1ms\n",
      "13:\tlearn: 24.8660962\ttotal: 11.7ms\tremaining: 9.17ms\n",
      "14:\tlearn: 24.6447264\ttotal: 12.4ms\tremaining: 8.27ms\n",
      "15:\tlearn: 24.4164238\ttotal: 13.1ms\tremaining: 7.35ms\n",
      "16:\tlearn: 24.2045751\ttotal: 13.7ms\tremaining: 6.45ms\n",
      "17:\tlearn: 23.9800425\ttotal: 14.3ms\tremaining: 5.56ms\n",
      "18:\tlearn: 23.7515114\ttotal: 15ms\tremaining: 4.73ms\n",
      "19:\tlearn: 23.5492491\ttotal: 15.7ms\tremaining: 3.92ms\n",
      "20:\tlearn: 23.3278417\ttotal: 16.5ms\tremaining: 3.14ms\n",
      "21:\tlearn: 23.1307481\ttotal: 17.1ms\tremaining: 2.34ms\n",
      "22:\tlearn: 22.9584707\ttotal: 17.8ms\tremaining: 1.55ms\n",
      "23:\tlearn: 22.7914314\ttotal: 18.6ms\tremaining: 776us\n",
      "24:\tlearn: 22.6522537\ttotal: 19.3ms\tremaining: 0us\n",
      "0:\tlearn: 30.8166599\ttotal: 1.16ms\tremaining: 28ms\n",
      "1:\tlearn: 30.4090173\ttotal: 2.25ms\tremaining: 25.9ms\n",
      "2:\tlearn: 30.0396688\ttotal: 3.2ms\tremaining: 23.4ms\n",
      "3:\tlearn: 29.7333260\ttotal: 4.06ms\tremaining: 21.3ms\n",
      "4:\tlearn: 29.3678338\ttotal: 5.03ms\tremaining: 20.1ms\n",
      "5:\tlearn: 29.0222271\ttotal: 5.93ms\tremaining: 18.8ms\n",
      "6:\tlearn: 28.7211229\ttotal: 6.83ms\tremaining: 17.6ms\n",
      "7:\tlearn: 28.4129058\ttotal: 7.63ms\tremaining: 16.2ms\n",
      "8:\tlearn: 28.1110438\ttotal: 8.45ms\tremaining: 15ms\n",
      "9:\tlearn: 27.8058171\ttotal: 9.37ms\tremaining: 14.1ms\n",
      "10:\tlearn: 27.5310115\ttotal: 10.3ms\tremaining: 13.1ms\n",
      "11:\tlearn: 27.2656240\ttotal: 11.1ms\tremaining: 12ms\n",
      "12:\tlearn: 26.9818726\ttotal: 11.9ms\tremaining: 11ms\n",
      "13:\tlearn: 26.7246410\ttotal: 12.8ms\tremaining: 10.1ms\n",
      "14:\tlearn: 26.5088499\ttotal: 13.6ms\tremaining: 9.1ms\n",
      "15:\tlearn: 26.2682038\ttotal: 14.5ms\tremaining: 8.15ms\n",
      "16:\tlearn: 26.0564005\ttotal: 15.3ms\tremaining: 7.22ms\n",
      "17:\tlearn: 25.8177980\ttotal: 16.2ms\tremaining: 6.32ms\n",
      "18:\tlearn: 25.6020199\ttotal: 17.1ms\tremaining: 5.39ms\n",
      "19:\tlearn: 25.3930929\ttotal: 18ms\tremaining: 4.5ms\n",
      "20:\tlearn: 25.1965143\ttotal: 18.9ms\tremaining: 3.59ms\n",
      "21:\tlearn: 25.0135927\ttotal: 20.1ms\tremaining: 2.74ms\n",
      "22:\tlearn: 24.8425354\ttotal: 21ms\tremaining: 1.82ms\n",
      "23:\tlearn: 24.6828837\ttotal: 21.9ms\tremaining: 910us\n",
      "24:\tlearn: 24.5133828\ttotal: 22.7ms\tremaining: 0us\n",
      "0:\tlearn: 32.6235623\ttotal: 1.22ms\tremaining: 29.4ms\n",
      "1:\tlearn: 32.1895049\ttotal: 2.48ms\tremaining: 28.6ms\n",
      "2:\tlearn: 31.7872576\ttotal: 3.58ms\tremaining: 26.2ms\n",
      "3:\tlearn: 31.3967548\ttotal: 4.54ms\tremaining: 23.8ms\n",
      "4:\tlearn: 30.9996759\ttotal: 5.56ms\tremaining: 22.2ms\n",
      "5:\tlearn: 30.6427277\ttotal: 6.58ms\tremaining: 20.8ms\n",
      "6:\tlearn: 30.3010891\ttotal: 7.59ms\tremaining: 19.5ms\n",
      "7:\tlearn: 29.9525437\ttotal: 8.69ms\tremaining: 18.5ms\n",
      "8:\tlearn: 29.6286116\ttotal: 9.58ms\tremaining: 17ms\n",
      "9:\tlearn: 29.2980443\ttotal: 10.6ms\tremaining: 15.9ms\n",
      "10:\tlearn: 29.0078111\ttotal: 11.5ms\tremaining: 14.7ms\n",
      "11:\tlearn: 28.7339987\ttotal: 12.5ms\tremaining: 13.5ms\n",
      "12:\tlearn: 28.4613231\ttotal: 13.4ms\tremaining: 12.4ms\n",
      "13:\tlearn: 28.1737661\ttotal: 14.4ms\tremaining: 11.3ms\n",
      "14:\tlearn: 27.9049814\ttotal: 15.4ms\tremaining: 10.3ms\n",
      "15:\tlearn: 27.6421836\ttotal: 16.4ms\tremaining: 9.22ms\n",
      "16:\tlearn: 27.3854939\ttotal: 17.4ms\tremaining: 8.18ms\n",
      "17:\tlearn: 27.1657184\ttotal: 18.3ms\tremaining: 7.12ms\n",
      "18:\tlearn: 26.9373634\ttotal: 19.2ms\tremaining: 6.07ms\n",
      "19:\tlearn: 26.7320030\ttotal: 20.2ms\tremaining: 5.05ms\n",
      "20:\tlearn: 26.5080407\ttotal: 21.1ms\tremaining: 4.02ms\n",
      "21:\tlearn: 26.3168381\ttotal: 22ms\tremaining: 3.01ms\n",
      "22:\tlearn: 26.1324293\ttotal: 23ms\tremaining: 2ms\n",
      "23:\tlearn: 25.9684266\ttotal: 23.9ms\tremaining: 997us\n",
      "24:\tlearn: 25.8010502\ttotal: 24.9ms\tremaining: 0us\n",
      "0:\tlearn: 33.8404552\ttotal: 1.3ms\tremaining: 31.3ms\n",
      "1:\tlearn: 33.3851308\ttotal: 2.55ms\tremaining: 29.3ms\n",
      "2:\tlearn: 32.9472107\ttotal: 3.81ms\tremaining: 28ms\n",
      "3:\tlearn: 32.5617772\ttotal: 5.01ms\tremaining: 26.3ms\n",
      "4:\tlearn: 32.1437666\ttotal: 6.2ms\tremaining: 24.8ms\n",
      "5:\tlearn: 31.7580566\ttotal: 7.31ms\tremaining: 23.1ms\n",
      "6:\tlearn: 31.3929435\ttotal: 8.4ms\tremaining: 21.6ms\n",
      "7:\tlearn: 31.0424936\ttotal: 9.46ms\tremaining: 20.1ms\n",
      "8:\tlearn: 30.7345976\ttotal: 10.6ms\tremaining: 18.9ms\n",
      "9:\tlearn: 30.4016699\ttotal: 11.8ms\tremaining: 17.6ms\n",
      "10:\tlearn: 30.1018547\ttotal: 12.9ms\tremaining: 16.4ms\n",
      "11:\tlearn: 29.7879711\ttotal: 14.1ms\tremaining: 15.3ms\n",
      "12:\tlearn: 29.4949807\ttotal: 15.3ms\tremaining: 14.1ms\n",
      "13:\tlearn: 29.2013091\ttotal: 16.5ms\tremaining: 13ms\n",
      "14:\tlearn: 28.9349347\ttotal: 17.7ms\tremaining: 11.8ms\n",
      "15:\tlearn: 28.6717747\ttotal: 18.9ms\tremaining: 10.7ms\n",
      "16:\tlearn: 28.4196415\ttotal: 20.1ms\tremaining: 9.48ms\n",
      "17:\tlearn: 28.1953477\ttotal: 21.3ms\tremaining: 8.28ms\n",
      "18:\tlearn: 27.9528578\ttotal: 22.4ms\tremaining: 7.09ms\n",
      "19:\tlearn: 27.7389196\ttotal: 23.6ms\tremaining: 5.89ms\n",
      "20:\tlearn: 27.5123072\ttotal: 24.7ms\tremaining: 4.7ms\n",
      "21:\tlearn: 27.3276141\ttotal: 25.8ms\tremaining: 3.52ms\n",
      "22:\tlearn: 27.1430344\ttotal: 27ms\tremaining: 2.35ms\n",
      "23:\tlearn: 26.9634391\ttotal: 28.2ms\tremaining: 1.17ms\n",
      "24:\tlearn: 26.7807600\ttotal: 29.4ms\tremaining: 0us\n",
      "0:\tlearn: 25.3626561\ttotal: 1.95ms\tremaining: 46.8ms\n",
      "1:\tlearn: 22.6423820\ttotal: 3.72ms\tremaining: 42.8ms\n",
      "2:\tlearn: 21.2884730\ttotal: 5.27ms\tremaining: 38.7ms\n",
      "3:\tlearn: 20.0648170\ttotal: 7.04ms\tremaining: 37ms\n",
      "4:\tlearn: 19.2268749\ttotal: 8.48ms\tremaining: 33.9ms\n",
      "5:\tlearn: 18.4122851\ttotal: 10.3ms\tremaining: 32.5ms\n",
      "6:\tlearn: 17.7720393\ttotal: 11.9ms\tremaining: 30.6ms\n",
      "7:\tlearn: 17.2161888\ttotal: 13.5ms\tremaining: 28.8ms\n",
      "8:\tlearn: 16.9792658\ttotal: 15ms\tremaining: 26.6ms\n",
      "9:\tlearn: 16.6909938\ttotal: 16.6ms\tremaining: 25ms\n",
      "10:\tlearn: 16.3962407\ttotal: 18.2ms\tremaining: 23.1ms\n",
      "11:\tlearn: 15.9992110\ttotal: 19.7ms\tremaining: 21.4ms\n",
      "12:\tlearn: 15.6501775\ttotal: 21.4ms\tremaining: 19.8ms\n",
      "13:\tlearn: 15.4886053\ttotal: 23.1ms\tremaining: 18.2ms\n",
      "14:\tlearn: 15.2211624\ttotal: 24.8ms\tremaining: 16.5ms\n",
      "15:\tlearn: 15.0001159\ttotal: 26.6ms\tremaining: 15ms\n",
      "16:\tlearn: 14.8265574\ttotal: 28.3ms\tremaining: 13.3ms\n",
      "17:\tlearn: 14.7050910\ttotal: 29.9ms\tremaining: 11.6ms\n",
      "18:\tlearn: 14.4443857\ttotal: 31.5ms\tremaining: 9.96ms\n",
      "19:\tlearn: 14.3705779\ttotal: 33.1ms\tremaining: 8.28ms\n",
      "20:\tlearn: 14.1114383\ttotal: 34.7ms\tremaining: 6.61ms\n",
      "21:\tlearn: 13.8253889\ttotal: 36.4ms\tremaining: 4.97ms\n",
      "22:\tlearn: 13.6549483\ttotal: 38.2ms\tremaining: 3.32ms\n",
      "23:\tlearn: 13.5213262\ttotal: 39.9ms\tremaining: 1.66ms\n",
      "24:\tlearn: 13.3577751\ttotal: 41.6ms\tremaining: 0us\n",
      "0:\tlearn: 27.0324603\ttotal: 2.64ms\tremaining: 63.3ms\n",
      "1:\tlearn: 24.5329835\ttotal: 4.7ms\tremaining: 54ms\n",
      "2:\tlearn: 22.9612757\ttotal: 6.69ms\tremaining: 49.1ms\n",
      "3:\tlearn: 21.9266080\ttotal: 8.6ms\tremaining: 45.1ms\n",
      "4:\tlearn: 21.1214806\ttotal: 10.5ms\tremaining: 41.9ms\n",
      "5:\tlearn: 20.5115101\ttotal: 12.3ms\tremaining: 39ms\n",
      "6:\tlearn: 20.0025367\ttotal: 14.2ms\tremaining: 36.6ms\n",
      "7:\tlearn: 19.5324768\ttotal: 16.7ms\tremaining: 35.4ms\n",
      "8:\tlearn: 19.3966192\ttotal: 18.6ms\tremaining: 33ms\n",
      "9:\tlearn: 19.0746436\ttotal: 20.3ms\tremaining: 30.5ms\n",
      "10:\tlearn: 18.6741087\ttotal: 22.3ms\tremaining: 28.4ms\n",
      "11:\tlearn: 18.3825385\ttotal: 24.1ms\tremaining: 26.1ms\n",
      "12:\tlearn: 18.1792999\ttotal: 26.1ms\tremaining: 24.1ms\n",
      "13:\tlearn: 17.9986829\ttotal: 27.9ms\tremaining: 21.9ms\n",
      "14:\tlearn: 17.7526960\ttotal: 29.7ms\tremaining: 19.8ms\n",
      "15:\tlearn: 17.5039323\ttotal: 31.4ms\tremaining: 17.6ms\n",
      "16:\tlearn: 17.3377735\ttotal: 33.3ms\tremaining: 15.7ms\n",
      "17:\tlearn: 17.1992805\ttotal: 35.2ms\tremaining: 13.7ms\n",
      "18:\tlearn: 16.9546913\ttotal: 37.2ms\tremaining: 11.8ms\n",
      "19:\tlearn: 16.7444932\ttotal: 39.1ms\tremaining: 9.78ms\n",
      "20:\tlearn: 16.4963797\ttotal: 41.1ms\tremaining: 7.82ms\n",
      "21:\tlearn: 16.3131771\ttotal: 43.1ms\tremaining: 5.88ms\n",
      "22:\tlearn: 16.1460971\ttotal: 45.1ms\tremaining: 3.92ms\n",
      "23:\tlearn: 16.0545600\ttotal: 47ms\tremaining: 1.96ms\n",
      "24:\tlearn: 15.9455953\ttotal: 48.8ms\tremaining: 0us\n",
      "0:\tlearn: 28.6374450\ttotal: 2.58ms\tremaining: 61.8ms\n",
      "1:\tlearn: 25.7289882\ttotal: 5.04ms\tremaining: 57.9ms\n",
      "2:\tlearn: 24.1117724\ttotal: 7.21ms\tremaining: 52.9ms\n",
      "3:\tlearn: 22.8146888\ttotal: 9.44ms\tremaining: 49.5ms\n",
      "4:\tlearn: 22.0169381\ttotal: 11.8ms\tremaining: 47.3ms\n",
      "5:\tlearn: 21.3424772\ttotal: 14.1ms\tremaining: 44.5ms\n",
      "6:\tlearn: 20.9827185\ttotal: 16.3ms\tremaining: 41.9ms\n",
      "7:\tlearn: 20.5360824\ttotal: 18.4ms\tremaining: 39.2ms\n",
      "8:\tlearn: 20.2328589\ttotal: 20.8ms\tremaining: 36.9ms\n",
      "9:\tlearn: 19.9095580\ttotal: 23ms\tremaining: 34.4ms\n",
      "10:\tlearn: 19.5482098\ttotal: 25.2ms\tremaining: 32ms\n",
      "11:\tlearn: 19.4703018\ttotal: 27.5ms\tremaining: 29.8ms\n",
      "12:\tlearn: 19.2373754\ttotal: 29.8ms\tremaining: 27.5ms\n",
      "13:\tlearn: 19.0272874\ttotal: 31.8ms\tremaining: 25ms\n",
      "14:\tlearn: 18.8875545\ttotal: 34.1ms\tremaining: 22.8ms\n",
      "15:\tlearn: 18.7092361\ttotal: 36.3ms\tremaining: 20.4ms\n",
      "16:\tlearn: 18.5108937\ttotal: 38.4ms\tremaining: 18.1ms\n",
      "17:\tlearn: 18.4062476\ttotal: 40.6ms\tremaining: 15.8ms\n",
      "18:\tlearn: 18.2300684\ttotal: 42.7ms\tremaining: 13.5ms\n",
      "19:\tlearn: 18.1667311\ttotal: 44.8ms\tremaining: 11.2ms\n",
      "20:\tlearn: 17.9825799\ttotal: 47ms\tremaining: 8.95ms\n",
      "21:\tlearn: 17.8925430\ttotal: 48.9ms\tremaining: 6.67ms\n",
      "22:\tlearn: 17.7656209\ttotal: 51.1ms\tremaining: 4.44ms\n",
      "23:\tlearn: 17.6534537\ttotal: 53.2ms\tremaining: 2.22ms\n",
      "24:\tlearn: 17.5408944\ttotal: 55.3ms\tremaining: 0us\n",
      "0:\tlearn: 29.7917036\ttotal: 2.88ms\tremaining: 69.1ms\n",
      "1:\tlearn: 26.7679263\ttotal: 5.52ms\tremaining: 63.5ms\n",
      "2:\tlearn: 25.0974712\ttotal: 8.02ms\tremaining: 58.8ms\n",
      "3:\tlearn: 23.8893645\ttotal: 10.4ms\tremaining: 54.8ms\n",
      "4:\tlearn: 23.0925428\ttotal: 12.6ms\tremaining: 50.4ms\n",
      "5:\tlearn: 22.5731579\ttotal: 15.1ms\tremaining: 47.8ms\n",
      "6:\tlearn: 22.1742306\ttotal: 17.4ms\tremaining: 44.6ms\n",
      "7:\tlearn: 21.7199177\ttotal: 19.3ms\tremaining: 41.1ms\n",
      "8:\tlearn: 21.5440168\ttotal: 21.8ms\tremaining: 38.7ms\n",
      "9:\tlearn: 21.2409473\ttotal: 24.2ms\tremaining: 36.3ms\n",
      "10:\tlearn: 20.8803891\ttotal: 26.3ms\tremaining: 33.5ms\n",
      "11:\tlearn: 20.7910963\ttotal: 28.6ms\tremaining: 30.9ms\n",
      "12:\tlearn: 20.6533847\ttotal: 31ms\tremaining: 28.6ms\n",
      "13:\tlearn: 20.4395662\ttotal: 33.2ms\tremaining: 26.1ms\n",
      "14:\tlearn: 20.2238227\ttotal: 35.5ms\tremaining: 23.7ms\n",
      "15:\tlearn: 20.0818308\ttotal: 37.9ms\tremaining: 21.3ms\n",
      "16:\tlearn: 19.8227259\ttotal: 40.3ms\tremaining: 19ms\n",
      "17:\tlearn: 19.6482064\ttotal: 42.3ms\tremaining: 16.4ms\n",
      "18:\tlearn: 19.5120581\ttotal: 44.5ms\tremaining: 14ms\n",
      "19:\tlearn: 19.4340998\ttotal: 46.6ms\tremaining: 11.7ms\n",
      "20:\tlearn: 19.3289853\ttotal: 48.9ms\tremaining: 9.32ms\n",
      "21:\tlearn: 19.2575259\ttotal: 51.2ms\tremaining: 6.99ms\n",
      "22:\tlearn: 19.2159892\ttotal: 53.4ms\tremaining: 4.64ms\n",
      "23:\tlearn: 19.0382214\ttotal: 55.7ms\tremaining: 2.32ms\n",
      "24:\tlearn: 18.9304396\ttotal: 58.1ms\tremaining: 0us\n",
      "0:\tlearn: 28.8263086\ttotal: 586us\tremaining: 2.35ms\n",
      "1:\tlearn: 28.4545683\ttotal: 1.22ms\tremaining: 1.82ms\n",
      "2:\tlearn: 28.1254574\ttotal: 1.82ms\tremaining: 1.22ms\n",
      "3:\tlearn: 27.7900845\ttotal: 2.31ms\tremaining: 577us\n",
      "4:\tlearn: 27.4857409\ttotal: 2.86ms\tremaining: 0us\n",
      "0:\tlearn: 30.8438606\ttotal: 1.12ms\tremaining: 4.49ms\n",
      "1:\tlearn: 30.4661142\ttotal: 2.21ms\tremaining: 3.31ms\n",
      "2:\tlearn: 30.0755097\ttotal: 3.18ms\tremaining: 2.12ms\n",
      "3:\tlearn: 29.7331311\ttotal: 4.21ms\tremaining: 1.05ms\n",
      "4:\tlearn: 29.3792925\ttotal: 5.16ms\tremaining: 0us\n",
      "0:\tlearn: 32.6249761\ttotal: 832us\tremaining: 3.33ms\n",
      "1:\tlearn: 32.1969410\ttotal: 1.68ms\tremaining: 2.52ms\n",
      "2:\tlearn: 31.7796731\ttotal: 2.43ms\tremaining: 1.62ms\n",
      "3:\tlearn: 31.4040269\ttotal: 3.13ms\tremaining: 782us\n",
      "4:\tlearn: 31.0143713\ttotal: 3.81ms\tremaining: 0us\n",
      "0:\tlearn: 33.8444322\ttotal: 914us\tremaining: 3.66ms\n",
      "1:\tlearn: 33.4113221\ttotal: 1.97ms\tremaining: 2.96ms\n",
      "2:\tlearn: 32.9785662\ttotal: 2.87ms\tremaining: 1.92ms\n",
      "3:\tlearn: 32.6049734\ttotal: 3.66ms\tremaining: 914us\n",
      "4:\tlearn: 32.2159083\ttotal: 4.51ms\tremaining: 0us\n",
      "0:\tlearn: 27.9062719\ttotal: 670us\tremaining: 16.1ms\n",
      "1:\tlearn: 26.7822206\ttotal: 1.43ms\tremaining: 16.5ms\n",
      "2:\tlearn: 25.7813434\ttotal: 1.96ms\tremaining: 14.4ms\n",
      "3:\tlearn: 24.9490833\ttotal: 2.43ms\tremaining: 12.8ms\n",
      "4:\tlearn: 24.1489806\ttotal: 2.91ms\tremaining: 11.7ms\n",
      "5:\tlearn: 23.4504689\ttotal: 3.37ms\tremaining: 10.7ms\n",
      "6:\tlearn: 22.8534844\ttotal: 3.93ms\tremaining: 10.1ms\n",
      "7:\tlearn: 22.3496830\ttotal: 4.48ms\tremaining: 9.52ms\n",
      "8:\tlearn: 21.8689934\ttotal: 4.89ms\tremaining: 8.7ms\n",
      "9:\tlearn: 21.4169630\ttotal: 5.36ms\tremaining: 8.04ms\n",
      "10:\tlearn: 21.1408548\ttotal: 5.8ms\tremaining: 7.39ms\n",
      "11:\tlearn: 20.8572468\ttotal: 6.25ms\tremaining: 6.77ms\n",
      "12:\tlearn: 20.6037516\ttotal: 6.67ms\tremaining: 6.16ms\n",
      "13:\tlearn: 20.3326598\ttotal: 7.2ms\tremaining: 5.66ms\n",
      "14:\tlearn: 20.1656054\ttotal: 7.66ms\tremaining: 5.1ms\n",
      "15:\tlearn: 19.9264028\ttotal: 8.13ms\tremaining: 4.57ms\n",
      "16:\tlearn: 19.6420280\ttotal: 8.58ms\tremaining: 4.04ms\n",
      "17:\tlearn: 19.5183866\ttotal: 9.13ms\tremaining: 3.55ms\n",
      "18:\tlearn: 19.3822095\ttotal: 9.83ms\tremaining: 3.1ms\n",
      "19:\tlearn: 19.2625450\ttotal: 10.4ms\tremaining: 2.6ms\n",
      "20:\tlearn: 19.1400258\ttotal: 11ms\tremaining: 2.09ms\n",
      "21:\tlearn: 19.0574123\ttotal: 11.4ms\tremaining: 1.56ms\n",
      "22:\tlearn: 18.8813634\ttotal: 12ms\tremaining: 1.04ms\n",
      "23:\tlearn: 18.7461046\ttotal: 12.4ms\tremaining: 518us\n",
      "24:\tlearn: 18.6306485\ttotal: 12.9ms\tremaining: 0us\n",
      "0:\tlearn: 29.9305496\ttotal: 720us\tremaining: 17.3ms\n",
      "1:\tlearn: 28.8660563\ttotal: 1.45ms\tremaining: 16.6ms\n",
      "2:\tlearn: 27.9354229\ttotal: 2.08ms\tremaining: 15.2ms\n",
      "3:\tlearn: 27.1150404\ttotal: 2.77ms\tremaining: 14.5ms\n",
      "4:\tlearn: 26.3815738\ttotal: 3.41ms\tremaining: 13.6ms\n",
      "5:\tlearn: 25.6782184\ttotal: 4.03ms\tremaining: 12.8ms\n",
      "6:\tlearn: 25.0786475\ttotal: 4.61ms\tremaining: 11.8ms\n",
      "7:\tlearn: 24.5157238\ttotal: 5.2ms\tremaining: 11.1ms\n",
      "8:\tlearn: 23.9795973\ttotal: 5.79ms\tremaining: 10.3ms\n",
      "9:\tlearn: 23.5459747\ttotal: 6.41ms\tremaining: 9.62ms\n",
      "10:\tlearn: 23.2207498\ttotal: 7.04ms\tremaining: 8.96ms\n",
      "11:\tlearn: 22.9365773\ttotal: 7.55ms\tremaining: 8.19ms\n",
      "12:\tlearn: 22.6476680\ttotal: 8.21ms\tremaining: 7.58ms\n",
      "13:\tlearn: 22.3852337\ttotal: 8.82ms\tremaining: 6.93ms\n",
      "14:\tlearn: 22.1355234\ttotal: 9.36ms\tremaining: 6.24ms\n",
      "15:\tlearn: 21.9554562\ttotal: 10ms\tremaining: 5.64ms\n",
      "16:\tlearn: 21.7550983\ttotal: 10.6ms\tremaining: 4.99ms\n",
      "17:\tlearn: 21.5859812\ttotal: 11.2ms\tremaining: 4.37ms\n",
      "18:\tlearn: 21.4479242\ttotal: 11.8ms\tremaining: 3.74ms\n",
      "19:\tlearn: 21.3048152\ttotal: 12.5ms\tremaining: 3.13ms\n",
      "20:\tlearn: 21.1524305\ttotal: 13.1ms\tremaining: 2.5ms\n",
      "21:\tlearn: 21.0612865\ttotal: 13.7ms\tremaining: 1.87ms\n",
      "22:\tlearn: 20.9755277\ttotal: 14.3ms\tremaining: 1.25ms\n",
      "23:\tlearn: 20.8328837\ttotal: 14.9ms\tremaining: 622us\n",
      "24:\tlearn: 20.7448727\ttotal: 15.6ms\tremaining: 0us\n",
      "0:\tlearn: 31.5961920\ttotal: 874us\tremaining: 21ms\n",
      "1:\tlearn: 30.3492424\ttotal: 1.87ms\tremaining: 21.6ms\n",
      "2:\tlearn: 29.2458215\ttotal: 2.64ms\tremaining: 19.3ms\n",
      "3:\tlearn: 28.3458468\ttotal: 3.46ms\tremaining: 18.1ms\n",
      "4:\tlearn: 27.5704964\ttotal: 4.22ms\tremaining: 16.9ms\n",
      "5:\tlearn: 26.8790380\ttotal: 4.98ms\tremaining: 15.8ms\n",
      "6:\tlearn: 26.2030524\ttotal: 5.8ms\tremaining: 14.9ms\n",
      "7:\tlearn: 25.6219760\ttotal: 6.51ms\tremaining: 13.8ms\n",
      "8:\tlearn: 25.1272988\ttotal: 7.22ms\tremaining: 12.8ms\n",
      "9:\tlearn: 24.7108711\ttotal: 7.87ms\tremaining: 11.8ms\n",
      "10:\tlearn: 24.3585705\ttotal: 8.63ms\tremaining: 11ms\n",
      "11:\tlearn: 23.9909098\ttotal: 9.41ms\tremaining: 10.2ms\n",
      "12:\tlearn: 23.6666044\ttotal: 10.2ms\tremaining: 9.38ms\n",
      "13:\tlearn: 23.3933410\ttotal: 10.8ms\tremaining: 8.5ms\n",
      "14:\tlearn: 23.1845414\ttotal: 11.6ms\tremaining: 7.73ms\n",
      "15:\tlearn: 22.9609240\ttotal: 12.3ms\tremaining: 6.92ms\n",
      "16:\tlearn: 22.7833331\ttotal: 13ms\tremaining: 6.14ms\n",
      "17:\tlearn: 22.5668595\ttotal: 13.8ms\tremaining: 5.35ms\n",
      "18:\tlearn: 22.4089061\ttotal: 14.5ms\tremaining: 4.57ms\n",
      "19:\tlearn: 22.2825579\ttotal: 15.2ms\tremaining: 3.79ms\n",
      "20:\tlearn: 22.1183770\ttotal: 15.9ms\tremaining: 3.03ms\n",
      "21:\tlearn: 21.9969753\ttotal: 16.5ms\tremaining: 2.26ms\n",
      "22:\tlearn: 21.9010802\ttotal: 17.2ms\tremaining: 1.5ms\n",
      "23:\tlearn: 21.7679524\ttotal: 17.9ms\tremaining: 747us\n",
      "24:\tlearn: 21.6389551\ttotal: 18.7ms\tremaining: 0us\n",
      "0:\tlearn: 32.7674526\ttotal: 1.03ms\tremaining: 24.8ms\n",
      "1:\tlearn: 31.5030634\ttotal: 2.08ms\tremaining: 23.9ms\n",
      "2:\tlearn: 30.3859616\ttotal: 2.91ms\tremaining: 21.4ms\n",
      "3:\tlearn: 29.5283033\ttotal: 3.73ms\tremaining: 19.6ms\n",
      "4:\tlearn: 28.6240956\ttotal: 4.56ms\tremaining: 18.2ms\n",
      "5:\tlearn: 27.8813359\ttotal: 5.36ms\tremaining: 17ms\n",
      "6:\tlearn: 27.1684061\ttotal: 6.11ms\tremaining: 15.7ms\n",
      "7:\tlearn: 26.6209475\ttotal: 7.05ms\tremaining: 15ms\n",
      "8:\tlearn: 26.0980251\ttotal: 7.89ms\tremaining: 14ms\n",
      "9:\tlearn: 25.6467480\ttotal: 8.56ms\tremaining: 12.8ms\n",
      "10:\tlearn: 25.2942222\ttotal: 9.33ms\tremaining: 11.9ms\n",
      "11:\tlearn: 24.9962823\ttotal: 10.2ms\tremaining: 11.1ms\n",
      "12:\tlearn: 24.6622555\ttotal: 11ms\tremaining: 10.1ms\n",
      "13:\tlearn: 24.3811415\ttotal: 11.7ms\tremaining: 9.19ms\n",
      "14:\tlearn: 24.1751642\ttotal: 12.5ms\tremaining: 8.33ms\n",
      "15:\tlearn: 23.9980651\ttotal: 13.4ms\tremaining: 7.51ms\n",
      "16:\tlearn: 23.7987889\ttotal: 14.1ms\tremaining: 6.64ms\n",
      "17:\tlearn: 23.6541980\ttotal: 14.9ms\tremaining: 5.8ms\n",
      "18:\tlearn: 23.4958550\ttotal: 15.8ms\tremaining: 4.99ms\n",
      "19:\tlearn: 23.3971229\ttotal: 16.6ms\tremaining: 4.15ms\n",
      "20:\tlearn: 23.2498722\ttotal: 17.4ms\tremaining: 3.31ms\n",
      "21:\tlearn: 23.1499458\ttotal: 18.1ms\tremaining: 2.47ms\n",
      "22:\tlearn: 23.0680824\ttotal: 18.8ms\tremaining: 1.64ms\n",
      "23:\tlearn: 22.9583665\ttotal: 19.7ms\tremaining: 822us\n",
      "24:\tlearn: 22.8139056\ttotal: 20.9ms\tremaining: 0us\n",
      "0:\tlearn: 28.8263086\ttotal: 696us\tremaining: 6.27ms\n",
      "1:\tlearn: 28.4545683\ttotal: 1.43ms\tremaining: 5.73ms\n",
      "2:\tlearn: 28.1254574\ttotal: 1.99ms\tremaining: 4.63ms\n",
      "3:\tlearn: 27.7900845\ttotal: 2.5ms\tremaining: 3.74ms\n",
      "4:\tlearn: 27.4857409\ttotal: 2.96ms\tremaining: 2.96ms\n",
      "5:\tlearn: 27.2000807\ttotal: 3.38ms\tremaining: 2.26ms\n",
      "6:\tlearn: 26.8765197\ttotal: 3.83ms\tremaining: 1.64ms\n",
      "7:\tlearn: 26.5950062\ttotal: 4.25ms\tremaining: 1.06ms\n",
      "8:\tlearn: 26.2951431\ttotal: 4.76ms\tremaining: 528us\n",
      "9:\tlearn: 25.9989458\ttotal: 5.32ms\tremaining: 0us\n",
      "0:\tlearn: 30.8438606\ttotal: 769us\tremaining: 6.92ms\n",
      "1:\tlearn: 30.4661142\ttotal: 1.62ms\tremaining: 6.48ms\n",
      "2:\tlearn: 30.0755097\ttotal: 2.31ms\tremaining: 5.38ms\n",
      "3:\tlearn: 29.7331311\ttotal: 2.98ms\tremaining: 4.46ms\n",
      "4:\tlearn: 29.3792925\ttotal: 3.65ms\tremaining: 3.65ms\n",
      "5:\tlearn: 29.0497026\ttotal: 4.32ms\tremaining: 2.88ms\n",
      "6:\tlearn: 28.7318893\ttotal: 5.12ms\tremaining: 2.19ms\n",
      "7:\tlearn: 28.4314758\ttotal: 5.74ms\tremaining: 1.44ms\n",
      "8:\tlearn: 28.1226722\ttotal: 6.39ms\tremaining: 710us\n",
      "9:\tlearn: 27.8436195\ttotal: 6.99ms\tremaining: 0us\n",
      "0:\tlearn: 32.6249761\ttotal: 904us\tremaining: 8.14ms\n",
      "1:\tlearn: 32.1969410\ttotal: 1.82ms\tremaining: 7.3ms\n",
      "2:\tlearn: 31.7796731\ttotal: 2.62ms\tremaining: 6.11ms\n",
      "3:\tlearn: 31.4040269\ttotal: 3.42ms\tremaining: 5.12ms\n",
      "4:\tlearn: 31.0143713\ttotal: 4.11ms\tremaining: 4.11ms\n",
      "5:\tlearn: 30.6721372\ttotal: 4.83ms\tremaining: 3.22ms\n",
      "6:\tlearn: 30.3291357\ttotal: 5.55ms\tremaining: 2.38ms\n",
      "7:\tlearn: 30.0437113\ttotal: 6.29ms\tremaining: 1.57ms\n",
      "8:\tlearn: 29.7185972\ttotal: 6.98ms\tremaining: 775us\n",
      "9:\tlearn: 29.4052017\ttotal: 7.7ms\tremaining: 0us\n",
      "0:\tlearn: 33.8444322\ttotal: 918us\tremaining: 8.27ms\n",
      "1:\tlearn: 33.4113221\ttotal: 2.03ms\tremaining: 8.11ms\n",
      "2:\tlearn: 32.9785662\ttotal: 2.91ms\tremaining: 6.79ms\n",
      "3:\tlearn: 32.6049734\ttotal: 3.88ms\tremaining: 5.81ms\n",
      "4:\tlearn: 32.2159083\ttotal: 4.78ms\tremaining: 4.78ms\n",
      "5:\tlearn: 31.8599289\ttotal: 5.67ms\tremaining: 3.78ms\n",
      "6:\tlearn: 31.5079039\ttotal: 6.53ms\tremaining: 2.8ms\n",
      "7:\tlearn: 31.1940247\ttotal: 7.34ms\tremaining: 1.84ms\n",
      "8:\tlearn: 30.8529124\ttotal: 8.22ms\tremaining: 913us\n",
      "9:\tlearn: 30.5306256\ttotal: 9.02ms\tremaining: 0us\n",
      "0:\tlearn: 28.8263086\ttotal: 616us\tremaining: 11.7ms\n",
      "1:\tlearn: 28.4545683\ttotal: 1.39ms\tremaining: 12.5ms\n",
      "2:\tlearn: 28.1254574\ttotal: 1.9ms\tremaining: 10.8ms\n",
      "3:\tlearn: 27.7900845\ttotal: 2.42ms\tremaining: 9.66ms\n",
      "4:\tlearn: 27.4857409\ttotal: 2.93ms\tremaining: 8.79ms\n",
      "5:\tlearn: 27.2000807\ttotal: 3.45ms\tremaining: 8.05ms\n",
      "6:\tlearn: 26.8765197\ttotal: 3.92ms\tremaining: 7.29ms\n",
      "7:\tlearn: 26.5950062\ttotal: 4.42ms\tremaining: 6.63ms\n",
      "8:\tlearn: 26.2951431\ttotal: 4.93ms\tremaining: 6.03ms\n",
      "9:\tlearn: 25.9989458\ttotal: 5.44ms\tremaining: 5.44ms\n",
      "10:\tlearn: 25.7513334\ttotal: 5.87ms\tremaining: 4.8ms\n",
      "11:\tlearn: 25.5121641\ttotal: 6.37ms\tremaining: 4.25ms\n",
      "12:\tlearn: 25.2278614\ttotal: 6.82ms\tremaining: 3.67ms\n",
      "13:\tlearn: 24.9845952\ttotal: 7.38ms\tremaining: 3.16ms\n",
      "14:\tlearn: 24.7313548\ttotal: 7.92ms\tremaining: 2.64ms\n",
      "15:\tlearn: 24.5373272\ttotal: 8.36ms\tremaining: 2.09ms\n",
      "16:\tlearn: 24.3214369\ttotal: 8.79ms\tremaining: 1.55ms\n",
      "17:\tlearn: 24.0908406\ttotal: 9.2ms\tremaining: 1.02ms\n",
      "18:\tlearn: 23.8926617\ttotal: 9.62ms\tremaining: 506us\n",
      "19:\tlearn: 23.6751769\ttotal: 10.2ms\tremaining: 0us\n",
      "0:\tlearn: 30.8438606\ttotal: 728us\tremaining: 13.8ms\n",
      "1:\tlearn: 30.4661142\ttotal: 1.58ms\tremaining: 14.2ms\n",
      "2:\tlearn: 30.0755097\ttotal: 2.24ms\tremaining: 12.7ms\n",
      "3:\tlearn: 29.7331311\ttotal: 2.82ms\tremaining: 11.3ms\n",
      "4:\tlearn: 29.3792925\ttotal: 3.48ms\tremaining: 10.4ms\n",
      "5:\tlearn: 29.0497026\ttotal: 4.13ms\tremaining: 9.64ms\n",
      "6:\tlearn: 28.7318893\ttotal: 4.75ms\tremaining: 8.82ms\n",
      "7:\tlearn: 28.4314758\ttotal: 5.34ms\tremaining: 8.01ms\n",
      "8:\tlearn: 28.1226722\ttotal: 5.93ms\tremaining: 7.25ms\n",
      "9:\tlearn: 27.8436195\ttotal: 6.57ms\tremaining: 6.57ms\n",
      "10:\tlearn: 27.5937063\ttotal: 7.23ms\tremaining: 5.91ms\n",
      "11:\tlearn: 27.3233941\ttotal: 7.86ms\tremaining: 5.24ms\n",
      "12:\tlearn: 27.0547059\ttotal: 8.46ms\tremaining: 4.55ms\n",
      "13:\tlearn: 26.7886163\ttotal: 9.11ms\tremaining: 3.9ms\n",
      "14:\tlearn: 26.5613377\ttotal: 9.73ms\tremaining: 3.24ms\n",
      "15:\tlearn: 26.3540450\ttotal: 10.3ms\tremaining: 2.58ms\n",
      "16:\tlearn: 26.1311990\ttotal: 10.9ms\tremaining: 1.93ms\n",
      "17:\tlearn: 25.9316869\ttotal: 11.5ms\tremaining: 1.27ms\n",
      "18:\tlearn: 25.7220886\ttotal: 12.1ms\tremaining: 638us\n",
      "19:\tlearn: 25.5538393\ttotal: 12.8ms\tremaining: 0us\n",
      "0:\tlearn: 32.6249761\ttotal: 855us\tremaining: 16.3ms\n",
      "1:\tlearn: 32.1969410\ttotal: 1.97ms\tremaining: 17.8ms\n",
      "2:\tlearn: 31.7796731\ttotal: 2.79ms\tremaining: 15.8ms\n",
      "3:\tlearn: 31.4040269\ttotal: 3.56ms\tremaining: 14.3ms\n",
      "4:\tlearn: 31.0143713\ttotal: 4.28ms\tremaining: 12.8ms\n",
      "5:\tlearn: 30.6721372\ttotal: 4.96ms\tremaining: 11.6ms\n",
      "6:\tlearn: 30.3291357\ttotal: 5.65ms\tremaining: 10.5ms\n",
      "7:\tlearn: 30.0437113\ttotal: 6.33ms\tremaining: 9.5ms\n",
      "8:\tlearn: 29.7185972\ttotal: 7.09ms\tremaining: 8.67ms\n",
      "9:\tlearn: 29.4052017\ttotal: 7.92ms\tremaining: 7.92ms\n",
      "10:\tlearn: 29.1228162\ttotal: 8.56ms\tremaining: 7.01ms\n",
      "11:\tlearn: 28.8508726\ttotal: 9.29ms\tremaining: 6.19ms\n",
      "12:\tlearn: 28.5473833\ttotal: 10ms\tremaining: 5.41ms\n",
      "13:\tlearn: 28.2842969\ttotal: 10.8ms\tremaining: 4.64ms\n",
      "14:\tlearn: 28.0229089\ttotal: 11.5ms\tremaining: 3.84ms\n",
      "15:\tlearn: 27.7999714\ttotal: 12.2ms\tremaining: 3.06ms\n",
      "16:\tlearn: 27.5715983\ttotal: 12.9ms\tremaining: 2.28ms\n",
      "17:\tlearn: 27.3555203\ttotal: 13.6ms\tremaining: 1.51ms\n",
      "18:\tlearn: 27.1353839\ttotal: 14.2ms\tremaining: 749us\n",
      "19:\tlearn: 26.9460897\ttotal: 14.9ms\tremaining: 0us\n",
      "0:\tlearn: 33.8444322\ttotal: 1.53ms\tremaining: 29ms\n",
      "1:\tlearn: 33.4113221\ttotal: 3.15ms\tremaining: 28.3ms\n",
      "2:\tlearn: 32.9785662\ttotal: 4.49ms\tremaining: 25.4ms\n",
      "3:\tlearn: 32.6049734\ttotal: 5.81ms\tremaining: 23.2ms\n",
      "4:\tlearn: 32.2159083\ttotal: 7.1ms\tremaining: 21.3ms\n",
      "5:\tlearn: 31.8599289\ttotal: 8.42ms\tremaining: 19.6ms\n",
      "6:\tlearn: 31.5079039\ttotal: 9.85ms\tremaining: 18.3ms\n",
      "7:\tlearn: 31.1940247\ttotal: 11.2ms\tremaining: 16.7ms\n",
      "8:\tlearn: 30.8529124\ttotal: 12.5ms\tremaining: 15.3ms\n",
      "9:\tlearn: 30.5306256\ttotal: 13.8ms\tremaining: 13.8ms\n",
      "10:\tlearn: 30.2320075\ttotal: 15ms\tremaining: 12.3ms\n",
      "11:\tlearn: 29.9407357\ttotal: 16.2ms\tremaining: 10.8ms\n",
      "12:\tlearn: 29.6335651\ttotal: 17.5ms\tremaining: 9.42ms\n",
      "13:\tlearn: 29.3546655\ttotal: 18.8ms\tremaining: 8.05ms\n",
      "14:\tlearn: 29.1012500\ttotal: 20.1ms\tremaining: 6.69ms\n",
      "15:\tlearn: 28.8548975\ttotal: 21.4ms\tremaining: 5.34ms\n",
      "16:\tlearn: 28.5980266\ttotal: 22.3ms\tremaining: 3.94ms\n",
      "17:\tlearn: 28.3827816\ttotal: 23.2ms\tremaining: 2.58ms\n",
      "18:\tlearn: 28.1636997\ttotal: 24.1ms\tremaining: 1.27ms\n",
      "19:\tlearn: 27.9682085\ttotal: 25ms\tremaining: 0us\n",
      "0:\tlearn: 27.9291671\ttotal: 807us\tremaining: 15.3ms\n",
      "1:\tlearn: 26.8325725\ttotal: 1.83ms\tremaining: 16.5ms\n",
      "2:\tlearn: 25.8591473\ttotal: 2.5ms\tremaining: 14.2ms\n",
      "3:\tlearn: 25.1818119\ttotal: 3.27ms\tremaining: 13.1ms\n",
      "4:\tlearn: 24.3741494\ttotal: 4.03ms\tremaining: 12.1ms\n",
      "5:\tlearn: 23.6710356\ttotal: 4.88ms\tremaining: 11.4ms\n",
      "6:\tlearn: 23.0768835\ttotal: 5.68ms\tremaining: 10.6ms\n",
      "7:\tlearn: 22.5174358\ttotal: 6.43ms\tremaining: 9.64ms\n",
      "8:\tlearn: 22.0354793\ttotal: 7.17ms\tremaining: 8.77ms\n",
      "9:\tlearn: 21.6107665\ttotal: 7.9ms\tremaining: 7.9ms\n",
      "10:\tlearn: 21.1773839\ttotal: 8.63ms\tremaining: 7.06ms\n",
      "11:\tlearn: 20.7577560\ttotal: 9.31ms\tremaining: 6.21ms\n",
      "12:\tlearn: 20.4915681\ttotal: 10.1ms\tremaining: 5.42ms\n",
      "13:\tlearn: 20.2070465\ttotal: 10.9ms\tremaining: 4.66ms\n",
      "14:\tlearn: 20.0175002\ttotal: 11.8ms\tremaining: 3.93ms\n",
      "15:\tlearn: 19.7440414\ttotal: 12.4ms\tremaining: 3.11ms\n",
      "16:\tlearn: 19.5161561\ttotal: 13.2ms\tremaining: 2.33ms\n",
      "17:\tlearn: 19.3619032\ttotal: 13.9ms\tremaining: 1.54ms\n",
      "18:\tlearn: 19.1656990\ttotal: 14.6ms\tremaining: 768us\n",
      "19:\tlearn: 19.0296751\ttotal: 15.3ms\tremaining: 0us\n",
      "0:\tlearn: 29.8392896\ttotal: 1.09ms\tremaining: 20.8ms\n",
      "1:\tlearn: 28.6286420\ttotal: 2.26ms\tremaining: 20.3ms\n",
      "2:\tlearn: 27.6345173\ttotal: 3.21ms\tremaining: 18.2ms\n",
      "3:\tlearn: 26.8895215\ttotal: 4.08ms\tremaining: 16.3ms\n",
      "4:\tlearn: 26.1026183\ttotal: 4.88ms\tremaining: 14.6ms\n",
      "5:\tlearn: 25.4216182\ttotal: 5.78ms\tremaining: 13.5ms\n",
      "6:\tlearn: 24.8325381\ttotal: 6.63ms\tremaining: 12.3ms\n",
      "7:\tlearn: 24.2661380\ttotal: 7.48ms\tremaining: 11.2ms\n",
      "8:\tlearn: 23.8253536\ttotal: 8.35ms\tremaining: 10.2ms\n",
      "9:\tlearn: 23.4167063\ttotal: 9.27ms\tremaining: 9.27ms\n",
      "10:\tlearn: 22.9700420\ttotal: 10.1ms\tremaining: 8.24ms\n",
      "11:\tlearn: 22.6186044\ttotal: 10.8ms\tremaining: 7.22ms\n",
      "12:\tlearn: 22.3455980\ttotal: 11.7ms\tremaining: 6.28ms\n",
      "13:\tlearn: 22.0481996\ttotal: 12.5ms\tremaining: 5.36ms\n",
      "14:\tlearn: 21.8552790\ttotal: 13.3ms\tremaining: 4.42ms\n",
      "15:\tlearn: 21.6140816\ttotal: 14.1ms\tremaining: 3.54ms\n",
      "16:\tlearn: 21.4069427\ttotal: 15.1ms\tremaining: 2.66ms\n",
      "17:\tlearn: 21.2370440\ttotal: 15.9ms\tremaining: 1.77ms\n",
      "18:\tlearn: 21.0903811\ttotal: 16.8ms\tremaining: 885us\n",
      "19:\tlearn: 20.9326939\ttotal: 17.7ms\tremaining: 0us\n",
      "0:\tlearn: 31.5908819\ttotal: 1.15ms\tremaining: 21.8ms\n",
      "1:\tlearn: 30.2749681\ttotal: 2.26ms\tremaining: 20.4ms\n",
      "2:\tlearn: 29.1938402\ttotal: 3.25ms\tremaining: 18.4ms\n",
      "3:\tlearn: 28.2456735\ttotal: 4.24ms\tremaining: 16.9ms\n",
      "4:\tlearn: 27.3498238\ttotal: 5.19ms\tremaining: 15.6ms\n",
      "5:\tlearn: 26.6626328\ttotal: 6.17ms\tremaining: 14.4ms\n",
      "6:\tlearn: 26.0647573\ttotal: 7.28ms\tremaining: 13.5ms\n",
      "7:\tlearn: 25.4714373\ttotal: 8.36ms\tremaining: 12.5ms\n",
      "8:\tlearn: 24.9359681\ttotal: 9.33ms\tremaining: 11.4ms\n",
      "9:\tlearn: 24.4875751\ttotal: 10.3ms\tremaining: 10.3ms\n",
      "10:\tlearn: 24.0694743\ttotal: 11.3ms\tremaining: 9.23ms\n",
      "11:\tlearn: 23.7048228\ttotal: 12.3ms\tremaining: 8.22ms\n",
      "12:\tlearn: 23.3911502\ttotal: 13.3ms\tremaining: 7.19ms\n",
      "13:\tlearn: 23.0970763\ttotal: 14.3ms\tremaining: 6.12ms\n",
      "14:\tlearn: 22.7826022\ttotal: 15.4ms\tremaining: 5.13ms\n",
      "15:\tlearn: 22.5684007\ttotal: 16.4ms\tremaining: 4.1ms\n",
      "16:\tlearn: 22.4259368\ttotal: 17.3ms\tremaining: 3.06ms\n",
      "17:\tlearn: 22.2705137\ttotal: 18.3ms\tremaining: 2.04ms\n",
      "18:\tlearn: 22.1279782\ttotal: 19.3ms\tremaining: 1.01ms\n",
      "19:\tlearn: 21.9749968\ttotal: 20.2ms\tremaining: 0us\n",
      "0:\tlearn: 32.7537231\ttotal: 1.29ms\tremaining: 24.6ms\n",
      "1:\tlearn: 31.3803663\ttotal: 2.58ms\tremaining: 23.2ms\n",
      "2:\tlearn: 30.1976415\ttotal: 3.73ms\tremaining: 21.1ms\n",
      "3:\tlearn: 29.2998474\ttotal: 4.96ms\tremaining: 19.8ms\n",
      "4:\tlearn: 28.3738201\ttotal: 6.11ms\tremaining: 18.3ms\n",
      "5:\tlearn: 27.6114996\ttotal: 7.31ms\tremaining: 17.1ms\n",
      "6:\tlearn: 26.9436076\ttotal: 8.45ms\tremaining: 15.7ms\n",
      "7:\tlearn: 26.3250224\ttotal: 9.52ms\tremaining: 14.3ms\n",
      "8:\tlearn: 25.8181267\ttotal: 10.6ms\tremaining: 12.9ms\n",
      "9:\tlearn: 25.3858460\ttotal: 11.7ms\tremaining: 11.7ms\n",
      "10:\tlearn: 24.9245104\ttotal: 12.8ms\tremaining: 10.5ms\n",
      "11:\tlearn: 24.5661681\ttotal: 14ms\tremaining: 9.36ms\n",
      "12:\tlearn: 24.2685571\ttotal: 15.2ms\tremaining: 8.16ms\n",
      "13:\tlearn: 23.9362136\ttotal: 16.2ms\tremaining: 6.96ms\n",
      "14:\tlearn: 23.7036845\ttotal: 17.4ms\tremaining: 5.79ms\n",
      "15:\tlearn: 23.4955406\ttotal: 18.4ms\tremaining: 4.61ms\n",
      "16:\tlearn: 23.3003254\ttotal: 19.5ms\tremaining: 3.44ms\n",
      "17:\tlearn: 23.1353193\ttotal: 20.5ms\tremaining: 2.28ms\n",
      "18:\tlearn: 23.0047781\ttotal: 21.7ms\tremaining: 1.14ms\n",
      "19:\tlearn: 22.8790020\ttotal: 22.8ms\tremaining: 0us\n",
      "0:\tlearn: 27.8762704\ttotal: 1.15ms\tremaining: 4.6ms\n",
      "1:\tlearn: 26.7680850\ttotal: 2.49ms\tremaining: 3.74ms\n",
      "2:\tlearn: 25.7191065\ttotal: 3.64ms\tremaining: 2.43ms\n",
      "3:\tlearn: 24.7407723\ttotal: 5.06ms\tremaining: 1.26ms\n",
      "4:\tlearn: 23.9928978\ttotal: 6.1ms\tremaining: 0us\n",
      "0:\tlearn: 29.7679650\ttotal: 1.45ms\tremaining: 5.82ms\n",
      "1:\tlearn: 28.6392767\ttotal: 3.08ms\tremaining: 4.62ms\n",
      "2:\tlearn: 27.5965550\ttotal: 4.6ms\tremaining: 3.07ms\n",
      "3:\tlearn: 26.7985867\ttotal: 6ms\tremaining: 1.5ms\n",
      "4:\tlearn: 25.9792447\ttotal: 7.61ms\tremaining: 0us\n",
      "0:\tlearn: 31.5666708\ttotal: 1.6ms\tremaining: 6.39ms\n",
      "1:\tlearn: 30.2068355\ttotal: 3.12ms\tremaining: 4.68ms\n",
      "2:\tlearn: 29.1125808\ttotal: 4.54ms\tremaining: 3.03ms\n",
      "3:\tlearn: 28.2571711\ttotal: 5.74ms\tremaining: 1.44ms\n",
      "4:\tlearn: 27.3969580\ttotal: 7.14ms\tremaining: 0us\n",
      "0:\tlearn: 32.7373434\ttotal: 1.69ms\tremaining: 6.74ms\n",
      "1:\tlearn: 31.3286949\ttotal: 3.4ms\tremaining: 5.11ms\n",
      "2:\tlearn: 30.1608374\ttotal: 4.89ms\tremaining: 3.26ms\n",
      "3:\tlearn: 29.1679158\ttotal: 6.35ms\tremaining: 1.59ms\n",
      "4:\tlearn: 28.2411896\ttotal: 7.86ms\tremaining: 0us\n",
      "0:\tlearn: 25.3626561\ttotal: 1.97ms\tremaining: 7.9ms\n",
      "1:\tlearn: 22.6423820\ttotal: 4ms\tremaining: 6.01ms\n",
      "2:\tlearn: 21.2884730\ttotal: 5.74ms\tremaining: 3.83ms\n",
      "3:\tlearn: 20.0648170\ttotal: 7.5ms\tremaining: 1.88ms\n",
      "4:\tlearn: 19.2268749\ttotal: 9.27ms\tremaining: 0us\n",
      "0:\tlearn: 27.0324603\ttotal: 2.12ms\tremaining: 8.48ms\n",
      "1:\tlearn: 24.5329835\ttotal: 4.18ms\tremaining: 6.27ms\n",
      "2:\tlearn: 22.9612757\ttotal: 6.29ms\tremaining: 4.19ms\n",
      "3:\tlearn: 21.9266080\ttotal: 8.33ms\tremaining: 2.08ms\n",
      "4:\tlearn: 21.1214806\ttotal: 10.4ms\tremaining: 0us\n",
      "0:\tlearn: 28.6374450\ttotal: 2.38ms\tremaining: 9.51ms\n",
      "1:\tlearn: 25.7289882\ttotal: 4.64ms\tremaining: 6.96ms\n",
      "2:\tlearn: 24.1117724\ttotal: 6.64ms\tremaining: 4.42ms\n",
      "3:\tlearn: 22.8146888\ttotal: 8.56ms\tremaining: 2.14ms\n",
      "4:\tlearn: 22.0169381\ttotal: 10.6ms\tremaining: 0us\n",
      "0:\tlearn: 29.7917036\ttotal: 2.38ms\tremaining: 9.53ms\n",
      "1:\tlearn: 26.7679263\ttotal: 4.95ms\tremaining: 7.43ms\n",
      "2:\tlearn: 25.0974712\ttotal: 7ms\tremaining: 4.67ms\n",
      "3:\tlearn: 23.8893645\ttotal: 9.05ms\tremaining: 2.26ms\n",
      "4:\tlearn: 23.0925428\ttotal: 11.1ms\tremaining: 0us\n",
      "0:\tlearn: 27.9062719\ttotal: 575us\tremaining: 8.05ms\n",
      "1:\tlearn: 26.7822206\ttotal: 1.38ms\tremaining: 8.97ms\n",
      "2:\tlearn: 25.7813434\ttotal: 1.85ms\tremaining: 7.39ms\n",
      "3:\tlearn: 24.9490833\ttotal: 2.36ms\tremaining: 6.49ms\n",
      "4:\tlearn: 24.1489806\ttotal: 2.83ms\tremaining: 5.66ms\n",
      "5:\tlearn: 23.4504689\ttotal: 3.34ms\tremaining: 5.01ms\n",
      "6:\tlearn: 22.8534844\ttotal: 3.78ms\tremaining: 4.32ms\n",
      "7:\tlearn: 22.3496830\ttotal: 4.38ms\tremaining: 3.83ms\n",
      "8:\tlearn: 21.8689934\ttotal: 4.91ms\tremaining: 3.27ms\n",
      "9:\tlearn: 21.4169630\ttotal: 5.34ms\tremaining: 2.67ms\n",
      "10:\tlearn: 21.1408548\ttotal: 5.81ms\tremaining: 2.11ms\n",
      "11:\tlearn: 20.8572468\ttotal: 6.3ms\tremaining: 1.57ms\n",
      "12:\tlearn: 20.6037516\ttotal: 6.76ms\tremaining: 1.04ms\n",
      "13:\tlearn: 20.3326598\ttotal: 7.25ms\tremaining: 517us\n",
      "14:\tlearn: 20.1656054\ttotal: 7.67ms\tremaining: 0us\n",
      "0:\tlearn: 29.9305496\ttotal: 789us\tremaining: 11.1ms\n",
      "1:\tlearn: 28.8660563\ttotal: 1.62ms\tremaining: 10.5ms\n",
      "2:\tlearn: 27.9354229\ttotal: 2.26ms\tremaining: 9.04ms\n",
      "3:\tlearn: 27.1150404\ttotal: 2.87ms\tremaining: 7.89ms\n",
      "4:\tlearn: 26.3815738\ttotal: 3.56ms\tremaining: 7.13ms\n",
      "5:\tlearn: 25.6782184\ttotal: 4.11ms\tremaining: 6.16ms\n",
      "6:\tlearn: 25.0786475\ttotal: 4.61ms\tremaining: 5.27ms\n",
      "7:\tlearn: 24.5157238\ttotal: 5.17ms\tremaining: 4.52ms\n",
      "8:\tlearn: 23.9795973\ttotal: 5.75ms\tremaining: 3.83ms\n",
      "9:\tlearn: 23.5459747\ttotal: 6.31ms\tremaining: 3.15ms\n",
      "10:\tlearn: 23.2207498\ttotal: 6.94ms\tremaining: 2.52ms\n",
      "11:\tlearn: 22.9365773\ttotal: 7.51ms\tremaining: 1.88ms\n",
      "12:\tlearn: 22.6476680\ttotal: 8.02ms\tremaining: 1.23ms\n",
      "13:\tlearn: 22.3852337\ttotal: 8.65ms\tremaining: 617us\n",
      "14:\tlearn: 22.1355234\ttotal: 9.21ms\tremaining: 0us\n",
      "0:\tlearn: 31.5961920\ttotal: 835us\tremaining: 11.7ms\n",
      "1:\tlearn: 30.3492424\ttotal: 1.75ms\tremaining: 11.4ms\n",
      "2:\tlearn: 29.2458215\ttotal: 2.4ms\tremaining: 9.59ms\n",
      "3:\tlearn: 28.3458468\ttotal: 3.06ms\tremaining: 8.41ms\n",
      "4:\tlearn: 27.5704964\ttotal: 3.76ms\tremaining: 7.53ms\n",
      "5:\tlearn: 26.8790380\ttotal: 4.43ms\tremaining: 6.65ms\n",
      "6:\tlearn: 26.2030524\ttotal: 5.09ms\tremaining: 5.82ms\n",
      "7:\tlearn: 25.6219760\ttotal: 5.74ms\tremaining: 5.03ms\n",
      "8:\tlearn: 25.1272988\ttotal: 6.39ms\tremaining: 4.26ms\n",
      "9:\tlearn: 24.7108711\ttotal: 7.16ms\tremaining: 3.58ms\n",
      "10:\tlearn: 24.3585705\ttotal: 7.92ms\tremaining: 2.88ms\n",
      "11:\tlearn: 23.9909098\ttotal: 8.6ms\tremaining: 2.15ms\n",
      "12:\tlearn: 23.6666044\ttotal: 9.21ms\tremaining: 1.42ms\n",
      "13:\tlearn: 23.3933410\ttotal: 9.91ms\tremaining: 707us\n",
      "14:\tlearn: 23.1845414\ttotal: 10.6ms\tremaining: 0us\n",
      "0:\tlearn: 32.7674526\ttotal: 1ms\tremaining: 14.1ms\n",
      "1:\tlearn: 31.5030634\ttotal: 2.19ms\tremaining: 14.2ms\n",
      "2:\tlearn: 30.3859616\ttotal: 3.03ms\tremaining: 12.1ms\n",
      "3:\tlearn: 29.5283033\ttotal: 3.87ms\tremaining: 10.6ms\n",
      "4:\tlearn: 28.6240956\ttotal: 4.78ms\tremaining: 9.55ms\n",
      "5:\tlearn: 27.8813359\ttotal: 5.69ms\tremaining: 8.53ms\n",
      "6:\tlearn: 27.1684061\ttotal: 6.49ms\tremaining: 7.42ms\n",
      "7:\tlearn: 26.6209475\ttotal: 7.29ms\tremaining: 6.38ms\n",
      "8:\tlearn: 26.0980251\ttotal: 8.13ms\tremaining: 5.42ms\n",
      "9:\tlearn: 25.6467480\ttotal: 8.91ms\tremaining: 4.45ms\n",
      "10:\tlearn: 25.2942222\ttotal: 9.68ms\tremaining: 3.52ms\n",
      "11:\tlearn: 24.9962823\ttotal: 10.5ms\tremaining: 2.62ms\n",
      "12:\tlearn: 24.6622555\ttotal: 11.2ms\tremaining: 1.73ms\n",
      "13:\tlearn: 24.3811415\ttotal: 12ms\tremaining: 853us\n",
      "14:\tlearn: 24.1751642\ttotal: 12.7ms\tremaining: 0us\n",
      "0:\tlearn: 28.8337047\ttotal: 857us\tremaining: 12ms\n",
      "1:\tlearn: 28.4701937\ttotal: 1.74ms\tremaining: 11.3ms\n",
      "2:\tlearn: 28.1214175\ttotal: 2.56ms\tremaining: 10.2ms\n",
      "3:\tlearn: 27.8489533\ttotal: 3.43ms\tremaining: 9.44ms\n",
      "4:\tlearn: 27.5106757\ttotal: 4.11ms\tremaining: 8.22ms\n",
      "5:\tlearn: 27.1916641\ttotal: 4.85ms\tremaining: 7.28ms\n",
      "6:\tlearn: 26.8721947\ttotal: 5.68ms\tremaining: 6.49ms\n",
      "7:\tlearn: 26.5547977\ttotal: 6.47ms\tremaining: 5.66ms\n",
      "8:\tlearn: 26.2499357\ttotal: 7.09ms\tremaining: 4.72ms\n",
      "9:\tlearn: 25.9379465\ttotal: 7.74ms\tremaining: 3.87ms\n",
      "10:\tlearn: 25.6275157\ttotal: 8.48ms\tremaining: 3.08ms\n",
      "11:\tlearn: 25.3606574\ttotal: 9.22ms\tremaining: 2.3ms\n",
      "12:\tlearn: 25.1256745\ttotal: 9.91ms\tremaining: 1.52ms\n",
      "13:\tlearn: 24.8660962\ttotal: 10.6ms\tremaining: 754us\n",
      "14:\tlearn: 24.6447264\ttotal: 11.4ms\tremaining: 0us\n",
      "0:\tlearn: 30.8166599\ttotal: 1.08ms\tremaining: 15.2ms\n",
      "1:\tlearn: 30.4090173\ttotal: 2.23ms\tremaining: 14.5ms\n",
      "2:\tlearn: 30.0396688\ttotal: 3.27ms\tremaining: 13.1ms\n",
      "3:\tlearn: 29.7333260\ttotal: 4.2ms\tremaining: 11.6ms\n",
      "4:\tlearn: 29.3678338\ttotal: 5.16ms\tremaining: 10.3ms\n",
      "5:\tlearn: 29.0222271\ttotal: 6.1ms\tremaining: 9.15ms\n",
      "6:\tlearn: 28.7211229\ttotal: 7.09ms\tremaining: 8.1ms\n",
      "7:\tlearn: 28.4129058\ttotal: 8.06ms\tremaining: 7.05ms\n",
      "8:\tlearn: 28.1110438\ttotal: 9.03ms\tremaining: 6.02ms\n",
      "9:\tlearn: 27.8058171\ttotal: 10ms\tremaining: 5.01ms\n",
      "10:\tlearn: 27.5310115\ttotal: 11ms\tremaining: 3.99ms\n",
      "11:\tlearn: 27.2656240\ttotal: 11.8ms\tremaining: 2.96ms\n",
      "12:\tlearn: 26.9818726\ttotal: 12.8ms\tremaining: 1.97ms\n",
      "13:\tlearn: 26.7246410\ttotal: 13.7ms\tremaining: 981us\n",
      "14:\tlearn: 26.5088499\ttotal: 14.7ms\tremaining: 0us\n",
      "0:\tlearn: 32.6235623\ttotal: 1.11ms\tremaining: 15.6ms\n",
      "1:\tlearn: 32.1895049\ttotal: 2.51ms\tremaining: 16.3ms\n",
      "2:\tlearn: 31.7872576\ttotal: 3.47ms\tremaining: 13.9ms\n",
      "3:\tlearn: 31.3967548\ttotal: 4.48ms\tremaining: 12.3ms\n",
      "4:\tlearn: 30.9996759\ttotal: 5.45ms\tremaining: 10.9ms\n",
      "5:\tlearn: 30.6427277\ttotal: 6.37ms\tremaining: 9.56ms\n",
      "6:\tlearn: 30.3010891\ttotal: 7.43ms\tremaining: 8.5ms\n",
      "7:\tlearn: 29.9525437\ttotal: 8.42ms\tremaining: 7.37ms\n",
      "8:\tlearn: 29.6286116\ttotal: 9.31ms\tremaining: 6.21ms\n",
      "9:\tlearn: 29.2980443\ttotal: 10.2ms\tremaining: 5.1ms\n",
      "10:\tlearn: 29.0078111\ttotal: 11.2ms\tremaining: 4.06ms\n",
      "11:\tlearn: 28.7339987\ttotal: 12.2ms\tremaining: 3.04ms\n",
      "12:\tlearn: 28.4613231\ttotal: 13.2ms\tremaining: 2.03ms\n",
      "13:\tlearn: 28.1737661\ttotal: 14.2ms\tremaining: 1.01ms\n",
      "14:\tlearn: 27.9049814\ttotal: 15.2ms\tremaining: 0us\n",
      "0:\tlearn: 33.8404552\ttotal: 1.24ms\tremaining: 17.4ms\n",
      "1:\tlearn: 33.3851308\ttotal: 2.52ms\tremaining: 16.4ms\n",
      "2:\tlearn: 32.9472107\ttotal: 3.68ms\tremaining: 14.7ms\n",
      "3:\tlearn: 32.5617772\ttotal: 4.75ms\tremaining: 13.1ms\n",
      "4:\tlearn: 32.1437666\ttotal: 5.75ms\tremaining: 11.5ms\n",
      "5:\tlearn: 31.7580566\ttotal: 6.8ms\tremaining: 10.2ms\n",
      "6:\tlearn: 31.3929435\ttotal: 7.88ms\tremaining: 9ms\n",
      "7:\tlearn: 31.0424936\ttotal: 8.93ms\tremaining: 7.82ms\n",
      "8:\tlearn: 30.7345976\ttotal: 10.1ms\tremaining: 6.76ms\n",
      "9:\tlearn: 30.4016699\ttotal: 11.1ms\tremaining: 5.57ms\n",
      "10:\tlearn: 30.1018547\ttotal: 12.1ms\tremaining: 4.41ms\n",
      "11:\tlearn: 29.7879711\ttotal: 13.2ms\tremaining: 3.31ms\n",
      "12:\tlearn: 29.4949807\ttotal: 14.4ms\tremaining: 2.22ms\n",
      "13:\tlearn: 29.2013091\ttotal: 15.5ms\tremaining: 1.11ms\n",
      "14:\tlearn: 28.9349347\ttotal: 16.7ms\tremaining: 0us\n",
      "0:\tlearn: 25.4936532\ttotal: 563us\tremaining: 13.5ms\n",
      "1:\tlearn: 23.0842123\ttotal: 1.25ms\tremaining: 14.4ms\n",
      "2:\tlearn: 21.5393116\ttotal: 1.77ms\tremaining: 13ms\n",
      "3:\tlearn: 20.5907377\ttotal: 2.29ms\tremaining: 12ms\n",
      "4:\tlearn: 20.1462913\ttotal: 2.72ms\tremaining: 10.9ms\n",
      "5:\tlearn: 19.6254524\ttotal: 3.21ms\tremaining: 10.2ms\n",
      "6:\tlearn: 19.3104188\ttotal: 3.66ms\tremaining: 9.41ms\n",
      "7:\tlearn: 19.0263737\ttotal: 4.19ms\tremaining: 8.9ms\n",
      "8:\tlearn: 18.8186737\ttotal: 4.72ms\tremaining: 8.39ms\n",
      "9:\tlearn: 18.5206308\ttotal: 5.17ms\tremaining: 7.75ms\n",
      "10:\tlearn: 18.4120310\ttotal: 5.64ms\tremaining: 7.18ms\n",
      "11:\tlearn: 18.3310867\ttotal: 6.1ms\tremaining: 6.61ms\n",
      "12:\tlearn: 18.1403531\ttotal: 6.51ms\tremaining: 6.01ms\n",
      "13:\tlearn: 17.9658442\ttotal: 6.97ms\tremaining: 5.48ms\n",
      "14:\tlearn: 17.8414170\ttotal: 7.4ms\tremaining: 4.93ms\n",
      "15:\tlearn: 17.7776357\ttotal: 7.86ms\tremaining: 4.42ms\n",
      "16:\tlearn: 17.5610220\ttotal: 8.34ms\tremaining: 3.92ms\n",
      "17:\tlearn: 17.4049238\ttotal: 8.77ms\tremaining: 3.41ms\n",
      "18:\tlearn: 17.3326538\ttotal: 9.18ms\tremaining: 2.9ms\n",
      "19:\tlearn: 17.2320957\ttotal: 9.6ms\tremaining: 2.4ms\n",
      "20:\tlearn: 17.1043893\ttotal: 10ms\tremaining: 1.91ms\n",
      "21:\tlearn: 17.0075099\ttotal: 10.5ms\tremaining: 1.43ms\n",
      "22:\tlearn: 16.7577353\ttotal: 11ms\tremaining: 957us\n",
      "23:\tlearn: 16.6485161\ttotal: 11.5ms\tremaining: 477us\n",
      "24:\tlearn: 16.5476007\ttotal: 12ms\tremaining: 0us\n",
      "0:\tlearn: 27.5629415\ttotal: 772us\tremaining: 18.5ms\n",
      "1:\tlearn: 25.0635545\ttotal: 1.67ms\tremaining: 19.2ms\n",
      "2:\tlearn: 23.7299108\ttotal: 2.3ms\tremaining: 16.9ms\n",
      "3:\tlearn: 22.9069193\ttotal: 2.88ms\tremaining: 15.1ms\n",
      "4:\tlearn: 22.2766510\ttotal: 3.48ms\tremaining: 13.9ms\n",
      "5:\tlearn: 21.6805866\ttotal: 4.06ms\tremaining: 12.9ms\n",
      "6:\tlearn: 21.4472406\ttotal: 4.62ms\tremaining: 11.9ms\n",
      "7:\tlearn: 20.9689058\ttotal: 5.11ms\tremaining: 10.9ms\n",
      "8:\tlearn: 20.7341832\ttotal: 5.72ms\tremaining: 10.2ms\n",
      "9:\tlearn: 20.5361009\ttotal: 6.25ms\tremaining: 9.38ms\n",
      "10:\tlearn: 20.3332147\ttotal: 6.84ms\tremaining: 8.7ms\n",
      "11:\tlearn: 20.2102138\ttotal: 7.33ms\tremaining: 7.94ms\n",
      "12:\tlearn: 20.1130361\ttotal: 7.89ms\tremaining: 7.28ms\n",
      "13:\tlearn: 19.9441824\ttotal: 8.4ms\tremaining: 6.6ms\n",
      "14:\tlearn: 19.6791465\ttotal: 8.98ms\tremaining: 5.99ms\n",
      "15:\tlearn: 19.5788357\ttotal: 9.65ms\tremaining: 5.43ms\n",
      "16:\tlearn: 19.4921847\ttotal: 10.2ms\tremaining: 4.82ms\n",
      "17:\tlearn: 19.3679752\ttotal: 10.8ms\tremaining: 4.19ms\n",
      "18:\tlearn: 19.2828150\ttotal: 11.3ms\tremaining: 3.55ms\n",
      "19:\tlearn: 19.2041053\ttotal: 11.8ms\tremaining: 2.95ms\n",
      "20:\tlearn: 18.9932712\ttotal: 12.4ms\tremaining: 2.35ms\n",
      "21:\tlearn: 18.9210588\ttotal: 12.9ms\tremaining: 1.76ms\n",
      "22:\tlearn: 18.8000758\ttotal: 13.5ms\tremaining: 1.18ms\n",
      "23:\tlearn: 18.7546375\ttotal: 14.1ms\tremaining: 585us\n",
      "24:\tlearn: 18.5770017\ttotal: 14.7ms\tremaining: 0us\n",
      "0:\tlearn: 28.9208691\ttotal: 941us\tremaining: 22.6ms\n",
      "1:\tlearn: 26.4591060\ttotal: 1.97ms\tremaining: 22.6ms\n",
      "2:\tlearn: 24.8539283\ttotal: 2.69ms\tremaining: 19.7ms\n",
      "3:\tlearn: 23.9708430\ttotal: 3.42ms\tremaining: 17.9ms\n",
      "4:\tlearn: 23.2026050\ttotal: 4.17ms\tremaining: 16.7ms\n",
      "5:\tlearn: 22.6144116\ttotal: 4.9ms\tremaining: 15.5ms\n",
      "6:\tlearn: 22.3460084\ttotal: 5.58ms\tremaining: 14.3ms\n",
      "7:\tlearn: 22.0075514\ttotal: 6.29ms\tremaining: 13.4ms\n",
      "8:\tlearn: 21.7896278\ttotal: 7.13ms\tremaining: 12.7ms\n",
      "9:\tlearn: 21.6109096\ttotal: 7.92ms\tremaining: 11.9ms\n",
      "10:\tlearn: 21.2579957\ttotal: 8.64ms\tremaining: 11ms\n",
      "11:\tlearn: 21.1963724\ttotal: 9.38ms\tremaining: 10.2ms\n",
      "12:\tlearn: 21.0704170\ttotal: 10.1ms\tremaining: 9.33ms\n",
      "13:\tlearn: 20.8530399\ttotal: 10.7ms\tremaining: 8.41ms\n",
      "14:\tlearn: 20.7458133\ttotal: 11.2ms\tremaining: 7.5ms\n",
      "15:\tlearn: 20.6560829\ttotal: 11.9ms\tremaining: 6.7ms\n",
      "16:\tlearn: 20.4545457\ttotal: 12.6ms\tremaining: 5.95ms\n",
      "17:\tlearn: 20.2960273\ttotal: 13.3ms\tremaining: 5.19ms\n",
      "18:\tlearn: 20.2053911\ttotal: 14ms\tremaining: 4.42ms\n",
      "19:\tlearn: 20.1294195\ttotal: 14.6ms\tremaining: 3.65ms\n",
      "20:\tlearn: 20.0213481\ttotal: 15.6ms\tremaining: 2.96ms\n",
      "21:\tlearn: 19.9492648\ttotal: 16.3ms\tremaining: 2.22ms\n",
      "22:\tlearn: 19.8388374\ttotal: 16.9ms\tremaining: 1.47ms\n",
      "23:\tlearn: 19.7621700\ttotal: 17.5ms\tremaining: 727us\n",
      "24:\tlearn: 19.5705660\ttotal: 18.1ms\tremaining: 0us\n",
      "0:\tlearn: 29.9669052\ttotal: 1.32ms\tremaining: 31.7ms\n",
      "1:\tlearn: 27.4255155\ttotal: 2.89ms\tremaining: 33.3ms\n",
      "2:\tlearn: 25.8447128\ttotal: 4.11ms\tremaining: 30.1ms\n",
      "3:\tlearn: 24.7639984\ttotal: 5.45ms\tremaining: 28.6ms\n",
      "4:\tlearn: 24.0099939\ttotal: 6.6ms\tremaining: 26.4ms\n",
      "5:\tlearn: 23.5822686\ttotal: 7.74ms\tremaining: 24.5ms\n",
      "6:\tlearn: 23.2807437\ttotal: 8.89ms\tremaining: 22.9ms\n",
      "7:\tlearn: 23.0278755\ttotal: 10.1ms\tremaining: 21.4ms\n",
      "8:\tlearn: 22.8412773\ttotal: 11.2ms\tremaining: 20ms\n",
      "9:\tlearn: 22.6712903\ttotal: 12.3ms\tremaining: 18.4ms\n",
      "10:\tlearn: 22.2174587\ttotal: 13.3ms\tremaining: 16.9ms\n",
      "11:\tlearn: 22.1065223\ttotal: 14.6ms\tremaining: 15.8ms\n",
      "12:\tlearn: 21.9322988\ttotal: 15.7ms\tremaining: 14.5ms\n",
      "13:\tlearn: 21.7898118\ttotal: 16.7ms\tremaining: 13.2ms\n",
      "14:\tlearn: 21.6865966\ttotal: 17.8ms\tremaining: 11.9ms\n",
      "15:\tlearn: 21.5910320\ttotal: 19ms\tremaining: 10.7ms\n",
      "16:\tlearn: 21.4488851\ttotal: 20.1ms\tremaining: 9.47ms\n",
      "17:\tlearn: 21.3278122\ttotal: 21.1ms\tremaining: 8.19ms\n",
      "18:\tlearn: 21.2559229\ttotal: 22.2ms\tremaining: 7ms\n",
      "19:\tlearn: 21.1941321\ttotal: 23.4ms\tremaining: 5.86ms\n",
      "20:\tlearn: 21.1090059\ttotal: 24.7ms\tremaining: 4.71ms\n",
      "21:\tlearn: 21.0198403\ttotal: 26ms\tremaining: 3.54ms\n",
      "22:\tlearn: 20.9705972\ttotal: 27.1ms\tremaining: 2.36ms\n",
      "23:\tlearn: 20.9250529\ttotal: 28.3ms\tremaining: 1.18ms\n",
      "24:\tlearn: 20.8020451\ttotal: 29.5ms\tremaining: 0us\n",
      "0:\tlearn: 28.8164366\ttotal: 1.9ms\tremaining: 17.1ms\n",
      "1:\tlearn: 28.4022176\ttotal: 3.75ms\tremaining: 15ms\n",
      "2:\tlearn: 28.0992670\ttotal: 5.2ms\tremaining: 12.1ms\n",
      "3:\tlearn: 27.7580256\ttotal: 6.94ms\tremaining: 10.4ms\n",
      "4:\tlearn: 27.4365353\ttotal: 8.83ms\tremaining: 8.83ms\n",
      "5:\tlearn: 27.0659139\ttotal: 10.5ms\tremaining: 7.03ms\n",
      "6:\tlearn: 26.7469357\ttotal: 12.4ms\tremaining: 5.3ms\n",
      "7:\tlearn: 26.4485026\ttotal: 14ms\tremaining: 3.5ms\n",
      "8:\tlearn: 26.1522367\ttotal: 15.6ms\tremaining: 1.74ms\n",
      "9:\tlearn: 25.8602420\ttotal: 17.3ms\tremaining: 0us\n",
      "0:\tlearn: 30.7913518\ttotal: 2ms\tremaining: 18ms\n",
      "1:\tlearn: 30.3817198\ttotal: 4.1ms\tremaining: 16.4ms\n",
      "2:\tlearn: 29.9920728\ttotal: 6.19ms\tremaining: 14.5ms\n",
      "3:\tlearn: 29.6526039\ttotal: 8.22ms\tremaining: 12.3ms\n",
      "4:\tlearn: 29.3188207\ttotal: 10.3ms\tremaining: 10.3ms\n",
      "5:\tlearn: 28.9396472\ttotal: 12.4ms\tremaining: 8.27ms\n",
      "6:\tlearn: 28.6102746\ttotal: 14.7ms\tremaining: 6.3ms\n",
      "7:\tlearn: 28.2722858\ttotal: 16.6ms\tremaining: 4.15ms\n",
      "8:\tlearn: 27.9844550\ttotal: 18.6ms\tremaining: 2.06ms\n",
      "9:\tlearn: 27.7002323\ttotal: 20.5ms\tremaining: 0us\n",
      "0:\tlearn: 32.5973801\ttotal: 2.23ms\tremaining: 20.1ms\n",
      "1:\tlearn: 32.1355163\ttotal: 4.39ms\tremaining: 17.6ms\n",
      "2:\tlearn: 31.6960098\ttotal: 6.26ms\tremaining: 14.6ms\n",
      "3:\tlearn: 31.2942229\ttotal: 8.19ms\tremaining: 12.3ms\n",
      "4:\tlearn: 30.8930025\ttotal: 10.2ms\tremaining: 10.2ms\n",
      "5:\tlearn: 30.4927653\ttotal: 12.3ms\tremaining: 8.23ms\n",
      "6:\tlearn: 30.1465265\ttotal: 14.5ms\tremaining: 6.23ms\n",
      "7:\tlearn: 29.7776523\ttotal: 16.6ms\tremaining: 4.14ms\n",
      "8:\tlearn: 29.4505330\ttotal: 19ms\tremaining: 2.12ms\n",
      "9:\tlearn: 29.1234701\ttotal: 21.2ms\tremaining: 0us\n",
      "0:\tlearn: 33.8276130\ttotal: 3.69ms\tremaining: 33.2ms\n",
      "1:\tlearn: 33.3459645\ttotal: 6.74ms\tremaining: 27ms\n",
      "2:\tlearn: 32.8918983\ttotal: 10.5ms\tremaining: 24.5ms\n",
      "3:\tlearn: 32.4817852\ttotal: 13.1ms\tremaining: 19.6ms\n",
      "4:\tlearn: 32.0617499\ttotal: 15.3ms\tremaining: 15.3ms\n",
      "5:\tlearn: 31.6461584\ttotal: 17.8ms\tremaining: 11.8ms\n",
      "6:\tlearn: 31.2827255\ttotal: 20ms\tremaining: 8.58ms\n",
      "7:\tlearn: 30.8931233\ttotal: 22.2ms\tremaining: 5.54ms\n",
      "8:\tlearn: 30.5328583\ttotal: 25.7ms\tremaining: 2.86ms\n",
      "9:\tlearn: 30.1780330\ttotal: 28.2ms\tremaining: 0us\n",
      "0:\tlearn: 28.8164366\ttotal: 2.04ms\tremaining: 28.5ms\n",
      "1:\tlearn: 28.4022176\ttotal: 3.78ms\tremaining: 24.6ms\n",
      "2:\tlearn: 28.0992670\ttotal: 5.56ms\tremaining: 22.2ms\n",
      "3:\tlearn: 27.7580256\ttotal: 7.16ms\tremaining: 19.7ms\n",
      "4:\tlearn: 27.4365353\ttotal: 9.01ms\tremaining: 18ms\n",
      "5:\tlearn: 27.0659139\ttotal: 10.8ms\tremaining: 16.1ms\n",
      "6:\tlearn: 26.7469357\ttotal: 12.7ms\tremaining: 14.5ms\n",
      "7:\tlearn: 26.4485026\ttotal: 14.3ms\tremaining: 12.5ms\n",
      "8:\tlearn: 26.1522367\ttotal: 16ms\tremaining: 10.7ms\n",
      "9:\tlearn: 25.8602420\ttotal: 17.6ms\tremaining: 8.78ms\n",
      "10:\tlearn: 25.5621569\ttotal: 19.3ms\tremaining: 7ms\n",
      "11:\tlearn: 25.2785831\ttotal: 20.9ms\tremaining: 5.23ms\n",
      "12:\tlearn: 24.9929761\ttotal: 22.8ms\tremaining: 3.5ms\n",
      "13:\tlearn: 24.7738044\ttotal: 24.4ms\tremaining: 1.74ms\n",
      "14:\tlearn: 24.5110610\ttotal: 26.1ms\tremaining: 0us\n",
      "0:\tlearn: 30.7913518\ttotal: 2.6ms\tremaining: 36.5ms\n",
      "1:\tlearn: 30.3817198\ttotal: 4.8ms\tremaining: 31.2ms\n",
      "2:\tlearn: 29.9920728\ttotal: 6.89ms\tremaining: 27.6ms\n",
      "3:\tlearn: 29.6526039\ttotal: 8.84ms\tremaining: 24.3ms\n",
      "4:\tlearn: 29.3188207\ttotal: 10.9ms\tremaining: 21.7ms\n",
      "5:\tlearn: 28.9396472\ttotal: 12.8ms\tremaining: 19.3ms\n",
      "6:\tlearn: 28.6102746\ttotal: 14.9ms\tremaining: 17ms\n",
      "7:\tlearn: 28.2722858\ttotal: 16.8ms\tremaining: 14.7ms\n",
      "8:\tlearn: 27.9844550\ttotal: 18.8ms\tremaining: 12.5ms\n",
      "9:\tlearn: 27.7002323\ttotal: 20.6ms\tremaining: 10.3ms\n",
      "10:\tlearn: 27.4033749\ttotal: 22.5ms\tremaining: 8.19ms\n",
      "11:\tlearn: 27.1121604\ttotal: 24.4ms\tremaining: 6.09ms\n",
      "12:\tlearn: 26.8461819\ttotal: 26.2ms\tremaining: 4.04ms\n",
      "13:\tlearn: 26.6123144\ttotal: 28ms\tremaining: 2ms\n",
      "14:\tlearn: 26.3623260\ttotal: 29.9ms\tremaining: 0us\n",
      "0:\tlearn: 32.5973801\ttotal: 2.42ms\tremaining: 34ms\n",
      "1:\tlearn: 32.1355163\ttotal: 4.81ms\tremaining: 31.3ms\n",
      "2:\tlearn: 31.6960098\ttotal: 7.13ms\tremaining: 28.5ms\n",
      "3:\tlearn: 31.2942229\ttotal: 9.42ms\tremaining: 25.9ms\n",
      "4:\tlearn: 30.8930025\ttotal: 11.6ms\tremaining: 23.3ms\n",
      "5:\tlearn: 30.4927653\ttotal: 14ms\tremaining: 20.9ms\n",
      "6:\tlearn: 30.1465265\ttotal: 16.1ms\tremaining: 18.4ms\n",
      "7:\tlearn: 29.7776523\ttotal: 18.2ms\tremaining: 15.9ms\n",
      "8:\tlearn: 29.4505330\ttotal: 20.2ms\tremaining: 13.5ms\n",
      "9:\tlearn: 29.1234701\ttotal: 22.2ms\tremaining: 11.1ms\n",
      "10:\tlearn: 28.7837056\ttotal: 24.2ms\tremaining: 8.8ms\n",
      "11:\tlearn: 28.4759118\ttotal: 26.2ms\tremaining: 6.55ms\n",
      "12:\tlearn: 28.1880305\ttotal: 28.3ms\tremaining: 4.36ms\n",
      "13:\tlearn: 27.9176089\ttotal: 30.5ms\tremaining: 2.18ms\n",
      "14:\tlearn: 27.6613421\ttotal: 32.6ms\tremaining: 0us\n",
      "0:\tlearn: 33.8276130\ttotal: 2.65ms\tremaining: 37.1ms\n",
      "1:\tlearn: 33.3459645\ttotal: 5.02ms\tremaining: 32.6ms\n",
      "2:\tlearn: 32.8918983\ttotal: 7.38ms\tremaining: 29.5ms\n",
      "3:\tlearn: 32.4817852\ttotal: 9.65ms\tremaining: 26.5ms\n",
      "4:\tlearn: 32.0617499\ttotal: 12ms\tremaining: 24ms\n",
      "5:\tlearn: 31.6461584\ttotal: 14.2ms\tremaining: 21.3ms\n",
      "6:\tlearn: 31.2827255\ttotal: 16.5ms\tremaining: 18.8ms\n",
      "7:\tlearn: 30.8931233\ttotal: 18.6ms\tremaining: 16.3ms\n",
      "8:\tlearn: 30.5328583\ttotal: 21ms\tremaining: 14ms\n",
      "9:\tlearn: 30.1780330\ttotal: 23.4ms\tremaining: 11.7ms\n",
      "10:\tlearn: 29.8424919\ttotal: 25.6ms\tremaining: 9.3ms\n",
      "11:\tlearn: 29.5263677\ttotal: 28ms\tremaining: 7ms\n",
      "12:\tlearn: 29.2248748\ttotal: 30.3ms\tremaining: 4.66ms\n",
      "13:\tlearn: 28.9238528\ttotal: 32.5ms\tremaining: 2.32ms\n",
      "14:\tlearn: 28.6497898\ttotal: 34.9ms\tremaining: 0us\n",
      "0:\tlearn: 28.5430659\ttotal: 2.09ms\tremaining: 39.7ms\n",
      "1:\tlearn: 27.8597397\ttotal: 4.05ms\tremaining: 36.5ms\n",
      "2:\tlearn: 27.3792636\ttotal: 5.91ms\tremaining: 33.5ms\n",
      "3:\tlearn: 26.8690555\ttotal: 7.81ms\tremaining: 31.3ms\n",
      "4:\tlearn: 26.3469013\ttotal: 9.6ms\tremaining: 28.8ms\n",
      "5:\tlearn: 25.8023634\ttotal: 11.3ms\tremaining: 26.5ms\n",
      "6:\tlearn: 25.3365310\ttotal: 13.1ms\tremaining: 24.3ms\n",
      "7:\tlearn: 24.9101886\ttotal: 14.9ms\tremaining: 22.3ms\n",
      "8:\tlearn: 24.5017735\ttotal: 16.8ms\tremaining: 20.6ms\n",
      "9:\tlearn: 24.1058726\ttotal: 18.5ms\tremaining: 18.5ms\n",
      "10:\tlearn: 23.7174658\ttotal: 20.2ms\tremaining: 16.5ms\n",
      "11:\tlearn: 23.3651661\ttotal: 22.1ms\tremaining: 14.7ms\n",
      "12:\tlearn: 22.9880194\ttotal: 23.7ms\tremaining: 12.8ms\n",
      "13:\tlearn: 22.7115578\ttotal: 25.4ms\tremaining: 10.9ms\n",
      "14:\tlearn: 22.3822932\ttotal: 27.1ms\tremaining: 9.03ms\n",
      "15:\tlearn: 22.1139228\ttotal: 28.9ms\tremaining: 7.22ms\n",
      "16:\tlearn: 21.8164652\ttotal: 30.5ms\tremaining: 5.38ms\n",
      "17:\tlearn: 21.5751210\ttotal: 32.1ms\tremaining: 3.57ms\n",
      "18:\tlearn: 21.3482231\ttotal: 33.8ms\tremaining: 1.78ms\n",
      "19:\tlearn: 21.1192399\ttotal: 35.4ms\tremaining: 0us\n",
      "0:\tlearn: 30.4912589\ttotal: 2.1ms\tremaining: 40ms\n",
      "1:\tlearn: 29.8294139\ttotal: 4.33ms\tremaining: 39ms\n",
      "2:\tlearn: 29.2126025\ttotal: 6.42ms\tremaining: 36.4ms\n",
      "3:\tlearn: 28.6546043\ttotal: 8.49ms\tremaining: 34ms\n",
      "4:\tlearn: 28.1522631\ttotal: 10.5ms\tremaining: 31.6ms\n",
      "5:\tlearn: 27.6268812\ttotal: 12.4ms\tremaining: 29ms\n",
      "6:\tlearn: 27.1608669\ttotal: 14.3ms\tremaining: 26.5ms\n",
      "7:\tlearn: 26.6843307\ttotal: 16.1ms\tremaining: 24.1ms\n",
      "8:\tlearn: 26.2815293\ttotal: 17.8ms\tremaining: 21.8ms\n",
      "9:\tlearn: 25.8589951\ttotal: 19.5ms\tremaining: 19.5ms\n",
      "10:\tlearn: 25.4682610\ttotal: 21.3ms\tremaining: 17.4ms\n",
      "11:\tlearn: 25.1344643\ttotal: 23.2ms\tremaining: 15.5ms\n",
      "12:\tlearn: 24.8044313\ttotal: 25.3ms\tremaining: 13.6ms\n",
      "13:\tlearn: 24.5293653\ttotal: 27.1ms\tremaining: 11.6ms\n",
      "14:\tlearn: 24.2243454\ttotal: 29.2ms\tremaining: 9.75ms\n",
      "15:\tlearn: 23.8894178\ttotal: 31.2ms\tremaining: 7.8ms\n",
      "16:\tlearn: 23.5937191\ttotal: 33.2ms\tremaining: 5.86ms\n",
      "17:\tlearn: 23.3223375\ttotal: 35.1ms\tremaining: 3.9ms\n",
      "18:\tlearn: 23.0850055\ttotal: 37.1ms\tremaining: 1.95ms\n",
      "19:\tlearn: 22.8381569\ttotal: 39.1ms\tremaining: 0us\n",
      "0:\tlearn: 32.2805741\ttotal: 2.38ms\tremaining: 45.2ms\n",
      "1:\tlearn: 31.5213986\ttotal: 4.75ms\tremaining: 42.8ms\n",
      "2:\tlearn: 30.8941946\ttotal: 6.64ms\tremaining: 37.7ms\n",
      "3:\tlearn: 30.2743865\ttotal: 8.82ms\tremaining: 35.3ms\n",
      "4:\tlearn: 29.6713639\ttotal: 10.9ms\tremaining: 32.6ms\n",
      "5:\tlearn: 29.0867339\ttotal: 13ms\tremaining: 30.3ms\n",
      "6:\tlearn: 28.5836340\ttotal: 15.1ms\tremaining: 28.1ms\n",
      "7:\tlearn: 28.0654932\ttotal: 17.1ms\tremaining: 25.6ms\n",
      "8:\tlearn: 27.6251016\ttotal: 19.3ms\tremaining: 23.6ms\n",
      "9:\tlearn: 27.1898574\ttotal: 21.5ms\tremaining: 21.5ms\n",
      "10:\tlearn: 26.8061663\ttotal: 23.5ms\tremaining: 19.2ms\n",
      "11:\tlearn: 26.4207966\ttotal: 25.7ms\tremaining: 17.1ms\n",
      "12:\tlearn: 26.0534203\ttotal: 28ms\tremaining: 15.1ms\n",
      "13:\tlearn: 25.7344119\ttotal: 30ms\tremaining: 12.8ms\n",
      "14:\tlearn: 25.4147456\ttotal: 32.3ms\tremaining: 10.8ms\n",
      "15:\tlearn: 25.1025525\ttotal: 34.7ms\tremaining: 8.69ms\n",
      "16:\tlearn: 24.7890403\ttotal: 37ms\tremaining: 6.53ms\n",
      "17:\tlearn: 24.5179588\ttotal: 39.3ms\tremaining: 4.37ms\n",
      "18:\tlearn: 24.2668447\ttotal: 41.6ms\tremaining: 2.19ms\n",
      "19:\tlearn: 24.0248542\ttotal: 44.4ms\tremaining: 0us\n",
      "0:\tlearn: 33.5040386\ttotal: 2.69ms\tremaining: 51.1ms\n",
      "1:\tlearn: 32.7247199\ttotal: 5.17ms\tremaining: 46.6ms\n",
      "2:\tlearn: 32.0097393\ttotal: 7.58ms\tremaining: 43ms\n",
      "3:\tlearn: 31.3017567\ttotal: 10ms\tremaining: 40ms\n",
      "4:\tlearn: 30.6747226\ttotal: 12.3ms\tremaining: 36.9ms\n",
      "5:\tlearn: 30.0693080\ttotal: 14.4ms\tremaining: 33.6ms\n",
      "6:\tlearn: 29.5423432\ttotal: 16.6ms\tremaining: 30.8ms\n",
      "7:\tlearn: 29.0447135\ttotal: 18.8ms\tremaining: 28.2ms\n",
      "8:\tlearn: 28.6065352\ttotal: 20.9ms\tremaining: 25.5ms\n",
      "9:\tlearn: 28.1718021\ttotal: 23ms\tremaining: 23ms\n",
      "10:\tlearn: 27.7721286\ttotal: 25.2ms\tremaining: 20.6ms\n",
      "11:\tlearn: 27.3804770\ttotal: 27.4ms\tremaining: 18.2ms\n",
      "12:\tlearn: 26.9890430\ttotal: 29.7ms\tremaining: 16ms\n",
      "13:\tlearn: 26.6266503\ttotal: 31.9ms\tremaining: 13.7ms\n",
      "14:\tlearn: 26.2929485\ttotal: 34.1ms\tremaining: 11.4ms\n",
      "15:\tlearn: 25.9651438\ttotal: 36.6ms\tremaining: 9.16ms\n",
      "16:\tlearn: 25.6640020\ttotal: 39ms\tremaining: 6.88ms\n",
      "17:\tlearn: 25.4086996\ttotal: 41.8ms\tremaining: 4.64ms\n",
      "18:\tlearn: 25.1449105\ttotal: 44.1ms\tremaining: 2.32ms\n",
      "19:\tlearn: 24.8959197\ttotal: 46.4ms\tremaining: 0us\n",
      "0:\tlearn: 28.5719676\ttotal: 908us\tremaining: 12.7ms\n",
      "1:\tlearn: 27.9826043\ttotal: 1.8ms\tremaining: 11.7ms\n",
      "2:\tlearn: 27.4291701\ttotal: 2.49ms\tremaining: 9.95ms\n",
      "3:\tlearn: 27.0102270\ttotal: 3.19ms\tremaining: 8.77ms\n",
      "4:\tlearn: 26.4951632\ttotal: 3.91ms\tremaining: 7.82ms\n",
      "5:\tlearn: 26.0388286\ttotal: 4.49ms\tremaining: 6.73ms\n",
      "6:\tlearn: 25.6241202\ttotal: 5.16ms\tremaining: 5.9ms\n",
      "7:\tlearn: 25.1860467\ttotal: 5.9ms\tremaining: 5.16ms\n",
      "8:\tlearn: 24.7568574\ttotal: 6.62ms\tremaining: 4.42ms\n",
      "9:\tlearn: 24.3498309\ttotal: 7.3ms\tremaining: 3.65ms\n",
      "10:\tlearn: 23.9291452\ttotal: 7.91ms\tremaining: 2.88ms\n",
      "11:\tlearn: 23.6135408\ttotal: 8.67ms\tremaining: 2.17ms\n",
      "12:\tlearn: 23.2546713\ttotal: 9.33ms\tremaining: 1.43ms\n",
      "13:\tlearn: 22.9395833\ttotal: 9.93ms\tremaining: 709us\n",
      "14:\tlearn: 22.7152526\ttotal: 10.5ms\tremaining: 0us\n",
      "0:\tlearn: 30.5334726\ttotal: 970us\tremaining: 13.6ms\n",
      "1:\tlearn: 29.8753460\ttotal: 2.01ms\tremaining: 13.1ms\n",
      "2:\tlearn: 29.2948517\ttotal: 2.98ms\tremaining: 11.9ms\n",
      "3:\tlearn: 28.8264086\ttotal: 3.95ms\tremaining: 10.9ms\n",
      "4:\tlearn: 28.2753573\ttotal: 4.85ms\tremaining: 9.71ms\n",
      "5:\tlearn: 27.7698981\ttotal: 5.67ms\tremaining: 8.5ms\n",
      "6:\tlearn: 27.3432541\ttotal: 6.54ms\tremaining: 7.47ms\n",
      "7:\tlearn: 26.8634584\ttotal: 7.33ms\tremaining: 6.41ms\n",
      "8:\tlearn: 26.4556149\ttotal: 8.14ms\tremaining: 5.43ms\n",
      "9:\tlearn: 26.0577718\ttotal: 9ms\tremaining: 4.5ms\n",
      "10:\tlearn: 25.6793337\ttotal: 9.92ms\tremaining: 3.61ms\n",
      "11:\tlearn: 25.3395831\ttotal: 10.8ms\tremaining: 2.69ms\n",
      "12:\tlearn: 25.0083626\ttotal: 11.5ms\tremaining: 1.77ms\n",
      "13:\tlearn: 24.7035530\ttotal: 12.4ms\tremaining: 884us\n",
      "14:\tlearn: 24.4414587\ttotal: 13.3ms\tremaining: 0us\n",
      "0:\tlearn: 32.3242432\ttotal: 1.17ms\tremaining: 16.4ms\n",
      "1:\tlearn: 31.6396250\ttotal: 2.4ms\tremaining: 15.6ms\n",
      "2:\tlearn: 31.0075446\ttotal: 3.47ms\tremaining: 13.9ms\n",
      "3:\tlearn: 30.4094279\ttotal: 4.4ms\tremaining: 12.1ms\n",
      "4:\tlearn: 29.8139119\ttotal: 5.35ms\tremaining: 10.7ms\n",
      "5:\tlearn: 29.2740005\ttotal: 6.41ms\tremaining: 9.62ms\n",
      "6:\tlearn: 28.7889172\ttotal: 7.37ms\tremaining: 8.43ms\n",
      "7:\tlearn: 28.3306241\ttotal: 8.32ms\tremaining: 7.28ms\n",
      "8:\tlearn: 27.8743278\ttotal: 9.35ms\tremaining: 6.23ms\n",
      "9:\tlearn: 27.4862298\ttotal: 10.4ms\tremaining: 5.22ms\n",
      "10:\tlearn: 27.0802185\ttotal: 11.5ms\tremaining: 4.18ms\n",
      "11:\tlearn: 26.7384317\ttotal: 12.7ms\tremaining: 3.16ms\n",
      "12:\tlearn: 26.3662563\ttotal: 13.7ms\tremaining: 2.1ms\n",
      "13:\tlearn: 26.0259680\ttotal: 14.5ms\tremaining: 1.04ms\n",
      "14:\tlearn: 25.7586231\ttotal: 15.5ms\tremaining: 0us\n",
      "0:\tlearn: 33.5254733\ttotal: 1.3ms\tremaining: 18.2ms\n",
      "1:\tlearn: 32.8180108\ttotal: 2.67ms\tremaining: 17.3ms\n",
      "2:\tlearn: 32.1420392\ttotal: 3.71ms\tremaining: 14.8ms\n",
      "3:\tlearn: 31.5502748\ttotal: 4.81ms\tremaining: 13.2ms\n",
      "4:\tlearn: 30.9030449\ttotal: 5.92ms\tremaining: 11.8ms\n",
      "5:\tlearn: 30.3436431\ttotal: 7.02ms\tremaining: 10.5ms\n",
      "6:\tlearn: 29.8096799\ttotal: 8.09ms\tremaining: 9.25ms\n",
      "7:\tlearn: 29.3375852\ttotal: 9.15ms\tremaining: 8.01ms\n",
      "8:\tlearn: 28.8986243\ttotal: 10.3ms\tremaining: 6.89ms\n",
      "9:\tlearn: 28.4923910\ttotal: 11.4ms\tremaining: 5.71ms\n",
      "10:\tlearn: 28.1139758\ttotal: 12.5ms\tremaining: 4.55ms\n",
      "11:\tlearn: 27.7121906\ttotal: 13.7ms\tremaining: 3.42ms\n",
      "12:\tlearn: 27.3683335\ttotal: 14.8ms\tremaining: 2.27ms\n",
      "13:\tlearn: 27.0326042\ttotal: 15.9ms\tremaining: 1.13ms\n",
      "14:\tlearn: 26.7453133\ttotal: 17ms\tremaining: 0us\n",
      "0:\tlearn: 27.8707592\ttotal: 1.92ms\tremaining: 7.66ms\n",
      "1:\tlearn: 26.6007116\ttotal: 3.76ms\tremaining: 5.63ms\n",
      "2:\tlearn: 25.7490572\ttotal: 5.46ms\tremaining: 3.64ms\n",
      "3:\tlearn: 24.7491571\ttotal: 7.11ms\tremaining: 1.78ms\n",
      "4:\tlearn: 24.0309262\ttotal: 8.88ms\tremaining: 0us\n",
      "0:\tlearn: 29.7547281\ttotal: 2.25ms\tremaining: 8.98ms\n",
      "1:\tlearn: 28.5274124\ttotal: 4.32ms\tremaining: 6.48ms\n",
      "2:\tlearn: 27.4544205\ttotal: 6.2ms\tremaining: 4.13ms\n",
      "3:\tlearn: 26.6071769\ttotal: 8.19ms\tremaining: 2.05ms\n",
      "4:\tlearn: 25.7761338\ttotal: 10.3ms\tremaining: 0us\n",
      "0:\tlearn: 31.5034190\ttotal: 2.46ms\tremaining: 9.82ms\n",
      "1:\tlearn: 30.0580638\ttotal: 4.87ms\tremaining: 7.3ms\n",
      "2:\tlearn: 28.8562890\ttotal: 7.27ms\tremaining: 4.84ms\n",
      "3:\tlearn: 27.8490000\ttotal: 9.57ms\tremaining: 2.39ms\n",
      "4:\tlearn: 27.0102006\ttotal: 11.8ms\tremaining: 0us\n",
      "0:\tlearn: 32.7107137\ttotal: 2.49ms\tremaining: 9.96ms\n",
      "1:\tlearn: 31.2685905\ttotal: 4.95ms\tremaining: 7.43ms\n",
      "2:\tlearn: 30.0780502\ttotal: 7.33ms\tremaining: 4.89ms\n",
      "3:\tlearn: 29.0642494\ttotal: 9.68ms\tremaining: 2.42ms\n",
      "4:\tlearn: 28.1353627\ttotal: 12.1ms\tremaining: 0us\n",
      "0:\tlearn: 28.5455942\ttotal: 1.21ms\tremaining: 16.9ms\n",
      "1:\tlearn: 27.9521732\ttotal: 2.57ms\tremaining: 16.7ms\n",
      "2:\tlearn: 27.3514574\ttotal: 3.64ms\tremaining: 14.6ms\n",
      "3:\tlearn: 26.7576336\ttotal: 4.77ms\tremaining: 13.1ms\n",
      "4:\tlearn: 26.2441211\ttotal: 5.94ms\tremaining: 11.9ms\n",
      "5:\tlearn: 25.7496368\ttotal: 6.97ms\tremaining: 10.5ms\n",
      "6:\tlearn: 25.2811560\ttotal: 8.36ms\tremaining: 9.56ms\n",
      "7:\tlearn: 24.7644952\ttotal: 9.79ms\tremaining: 8.57ms\n",
      "8:\tlearn: 24.3736343\ttotal: 11ms\tremaining: 7.32ms\n",
      "9:\tlearn: 23.9688621\ttotal: 12.2ms\tremaining: 6.09ms\n",
      "10:\tlearn: 23.5669142\ttotal: 13.1ms\tremaining: 4.77ms\n",
      "11:\tlearn: 23.2399434\ttotal: 14ms\tremaining: 3.51ms\n",
      "12:\tlearn: 22.8638851\ttotal: 15.2ms\tremaining: 2.34ms\n",
      "13:\tlearn: 22.5551379\ttotal: 16.3ms\tremaining: 1.16ms\n",
      "14:\tlearn: 22.2741123\ttotal: 17.6ms\tremaining: 0us\n",
      "0:\tlearn: 30.4978520\ttotal: 1.35ms\tremaining: 18.8ms\n",
      "1:\tlearn: 29.8875911\ttotal: 2.84ms\tremaining: 18.5ms\n",
      "2:\tlearn: 29.2701562\ttotal: 4.04ms\tremaining: 16.2ms\n",
      "3:\tlearn: 28.7712163\ttotal: 5.23ms\tremaining: 14.4ms\n",
      "4:\tlearn: 28.2385128\ttotal: 6.49ms\tremaining: 13ms\n",
      "5:\tlearn: 27.7530591\ttotal: 7.63ms\tremaining: 11.4ms\n",
      "6:\tlearn: 27.2399933\ttotal: 8.7ms\tremaining: 9.94ms\n",
      "7:\tlearn: 26.7832281\ttotal: 9.93ms\tremaining: 8.69ms\n",
      "8:\tlearn: 26.3734130\ttotal: 11.1ms\tremaining: 7.41ms\n",
      "9:\tlearn: 25.9551895\ttotal: 12.3ms\tremaining: 6.17ms\n",
      "10:\tlearn: 25.5751637\ttotal: 13.5ms\tremaining: 4.92ms\n",
      "11:\tlearn: 25.2325666\ttotal: 14.8ms\tremaining: 3.69ms\n",
      "12:\tlearn: 24.8832378\ttotal: 15.9ms\tremaining: 2.44ms\n",
      "13:\tlearn: 24.5683406\ttotal: 17ms\tremaining: 1.21ms\n",
      "14:\tlearn: 24.2617230\ttotal: 18.2ms\tremaining: 0us\n",
      "0:\tlearn: 32.3121569\ttotal: 1.57ms\tremaining: 22ms\n",
      "1:\tlearn: 31.5811023\ttotal: 3.22ms\tremaining: 20.9ms\n",
      "2:\tlearn: 30.9084279\ttotal: 4.69ms\tremaining: 18.7ms\n",
      "3:\tlearn: 30.3749274\ttotal: 6.21ms\tremaining: 17.1ms\n",
      "4:\tlearn: 29.8109997\ttotal: 7.56ms\tremaining: 15.1ms\n",
      "5:\tlearn: 29.2622952\ttotal: 8.99ms\tremaining: 13.5ms\n",
      "6:\tlearn: 28.7353286\ttotal: 10.4ms\tremaining: 11.9ms\n",
      "7:\tlearn: 28.2224230\ttotal: 11.9ms\tremaining: 10.4ms\n",
      "8:\tlearn: 27.7728380\ttotal: 13.2ms\tremaining: 8.8ms\n",
      "9:\tlearn: 27.3805033\ttotal: 14.7ms\tremaining: 7.34ms\n",
      "10:\tlearn: 26.9633185\ttotal: 16.2ms\tremaining: 5.87ms\n",
      "11:\tlearn: 26.5569476\ttotal: 17.5ms\tremaining: 4.38ms\n",
      "12:\tlearn: 26.1749677\ttotal: 18.9ms\tremaining: 2.91ms\n",
      "13:\tlearn: 25.8390253\ttotal: 20.3ms\tremaining: 1.45ms\n",
      "14:\tlearn: 25.5101930\ttotal: 21.8ms\tremaining: 0us\n",
      "0:\tlearn: 33.5172974\ttotal: 1.61ms\tremaining: 22.5ms\n",
      "1:\tlearn: 32.7823358\ttotal: 3.39ms\tremaining: 22ms\n",
      "2:\tlearn: 32.0775866\ttotal: 4.96ms\tremaining: 19.8ms\n",
      "3:\tlearn: 31.4531206\ttotal: 6.36ms\tremaining: 17.5ms\n",
      "4:\tlearn: 30.8412049\ttotal: 7.8ms\tremaining: 15.6ms\n",
      "5:\tlearn: 30.2993630\ttotal: 9.24ms\tremaining: 13.9ms\n",
      "6:\tlearn: 29.7539357\ttotal: 10.8ms\tremaining: 12.4ms\n",
      "7:\tlearn: 29.2479627\ttotal: 12.2ms\tremaining: 10.7ms\n",
      "8:\tlearn: 28.7834260\ttotal: 13.5ms\tremaining: 9.02ms\n",
      "9:\tlearn: 28.3738855\ttotal: 14.9ms\tremaining: 7.47ms\n",
      "10:\tlearn: 27.9488700\ttotal: 16.3ms\tremaining: 5.94ms\n",
      "11:\tlearn: 27.5441949\ttotal: 17.9ms\tremaining: 4.47ms\n",
      "12:\tlearn: 27.1236004\ttotal: 19.3ms\tremaining: 2.96ms\n",
      "13:\tlearn: 26.7979807\ttotal: 20.8ms\tremaining: 1.48ms\n",
      "14:\tlearn: 26.4688191\ttotal: 22.3ms\tremaining: 0us\n",
      "0:\tlearn: 27.8707592\ttotal: 1.87ms\tremaining: 26.1ms\n",
      "1:\tlearn: 26.6007116\ttotal: 3.75ms\tremaining: 24.3ms\n",
      "2:\tlearn: 25.7490572\ttotal: 5.49ms\tremaining: 22ms\n",
      "3:\tlearn: 24.7491571\ttotal: 7.29ms\tremaining: 20ms\n",
      "4:\tlearn: 24.0309262\ttotal: 9.18ms\tremaining: 18.4ms\n",
      "5:\tlearn: 23.1955659\ttotal: 10.6ms\tremaining: 16ms\n",
      "6:\tlearn: 22.5363709\ttotal: 12.4ms\tremaining: 14.2ms\n",
      "7:\tlearn: 21.8853170\ttotal: 14.1ms\tremaining: 12.3ms\n",
      "8:\tlearn: 21.4046328\ttotal: 15.8ms\tremaining: 10.5ms\n",
      "9:\tlearn: 20.9815598\ttotal: 17.3ms\tremaining: 8.64ms\n",
      "10:\tlearn: 20.6259148\ttotal: 18.1ms\tremaining: 6.59ms\n",
      "11:\tlearn: 20.2617940\ttotal: 19.7ms\tremaining: 4.92ms\n",
      "12:\tlearn: 19.8394718\ttotal: 21.6ms\tremaining: 3.32ms\n",
      "13:\tlearn: 19.5492011\ttotal: 23.3ms\tremaining: 1.66ms\n",
      "14:\tlearn: 19.3498826\ttotal: 25ms\tremaining: 0us\n",
      "0:\tlearn: 29.7547281\ttotal: 2.24ms\tremaining: 31.4ms\n",
      "1:\tlearn: 28.5274124\ttotal: 4.13ms\tremaining: 26.8ms\n",
      "2:\tlearn: 27.4544205\ttotal: 5.95ms\tremaining: 23.8ms\n",
      "3:\tlearn: 26.6071769\ttotal: 8.07ms\tremaining: 22.2ms\n",
      "4:\tlearn: 25.7761338\ttotal: 10ms\tremaining: 20ms\n",
      "5:\tlearn: 24.9937684\ttotal: 12ms\tremaining: 18ms\n",
      "6:\tlearn: 24.3608039\ttotal: 14.1ms\tremaining: 16.1ms\n",
      "7:\tlearn: 23.7173769\ttotal: 15.9ms\tremaining: 13.9ms\n",
      "8:\tlearn: 23.2227664\ttotal: 17.7ms\tremaining: 11.8ms\n",
      "9:\tlearn: 22.8070845\ttotal: 19.6ms\tremaining: 9.81ms\n",
      "10:\tlearn: 22.3975140\ttotal: 21.4ms\tremaining: 7.8ms\n",
      "11:\tlearn: 22.0953775\ttotal: 23.3ms\tremaining: 5.83ms\n",
      "12:\tlearn: 21.7450690\ttotal: 25.2ms\tremaining: 3.88ms\n",
      "13:\tlearn: 21.4244960\ttotal: 27.2ms\tremaining: 1.94ms\n",
      "14:\tlearn: 21.1346055\ttotal: 29.2ms\tremaining: 0us\n",
      "0:\tlearn: 31.5034190\ttotal: 2.26ms\tremaining: 31.7ms\n",
      "1:\tlearn: 30.0580638\ttotal: 4.54ms\tremaining: 29.5ms\n",
      "2:\tlearn: 28.8562890\ttotal: 6.79ms\tremaining: 27.2ms\n",
      "3:\tlearn: 27.8490000\ttotal: 8.99ms\tremaining: 24.7ms\n",
      "4:\tlearn: 27.0102006\ttotal: 11.1ms\tremaining: 22.3ms\n",
      "5:\tlearn: 26.1580930\ttotal: 13.3ms\tremaining: 20ms\n",
      "6:\tlearn: 25.5245891\ttotal: 15.8ms\tremaining: 18ms\n",
      "7:\tlearn: 24.8597076\ttotal: 17.7ms\tremaining: 15.5ms\n",
      "8:\tlearn: 24.3576657\ttotal: 20ms\tremaining: 13.3ms\n",
      "9:\tlearn: 23.8855048\ttotal: 22.3ms\tremaining: 11.2ms\n",
      "10:\tlearn: 23.4378552\ttotal: 24.2ms\tremaining: 8.81ms\n",
      "11:\tlearn: 23.0775894\ttotal: 26.4ms\tremaining: 6.61ms\n",
      "12:\tlearn: 22.7203044\ttotal: 28.5ms\tremaining: 4.38ms\n",
      "13:\tlearn: 22.4873785\ttotal: 30.8ms\tremaining: 2.2ms\n",
      "14:\tlearn: 22.2108463\ttotal: 33.1ms\tremaining: 0us\n",
      "0:\tlearn: 32.7107137\ttotal: 2.65ms\tremaining: 37.1ms\n",
      "1:\tlearn: 31.2685905\ttotal: 5.17ms\tremaining: 33.6ms\n",
      "2:\tlearn: 30.0780502\ttotal: 7.55ms\tremaining: 30.2ms\n",
      "3:\tlearn: 29.0642494\ttotal: 9.8ms\tremaining: 27ms\n",
      "4:\tlearn: 28.1353627\ttotal: 12.2ms\tremaining: 24.4ms\n",
      "5:\tlearn: 27.2550013\ttotal: 14.6ms\tremaining: 21.8ms\n",
      "6:\tlearn: 26.5791925\ttotal: 16.8ms\tremaining: 19.2ms\n",
      "7:\tlearn: 25.9281742\ttotal: 19.1ms\tremaining: 16.7ms\n",
      "8:\tlearn: 25.4157655\ttotal: 21.4ms\tremaining: 14.3ms\n",
      "9:\tlearn: 24.9606468\ttotal: 23.6ms\tremaining: 11.8ms\n",
      "10:\tlearn: 24.5748203\ttotal: 25.8ms\tremaining: 9.37ms\n",
      "11:\tlearn: 24.2561181\ttotal: 27.8ms\tremaining: 6.95ms\n",
      "12:\tlearn: 23.9302937\ttotal: 30ms\tremaining: 4.61ms\n",
      "13:\tlearn: 23.5831105\ttotal: 32.3ms\tremaining: 2.31ms\n",
      "14:\tlearn: 23.2965260\ttotal: 34.6ms\tremaining: 0us\n",
      "0:\tlearn: 25.5447528\ttotal: 755us\tremaining: 3.02ms\n",
      "1:\tlearn: 23.0339257\ttotal: 1.55ms\tremaining: 2.32ms\n",
      "2:\tlearn: 21.5597022\ttotal: 2.63ms\tremaining: 1.75ms\n",
      "3:\tlearn: 20.7924786\ttotal: 3.34ms\tremaining: 835us\n",
      "4:\tlearn: 19.9867087\ttotal: 4.1ms\tremaining: 0us\n",
      "0:\tlearn: 27.2858657\ttotal: 929us\tremaining: 3.72ms\n",
      "1:\tlearn: 24.8296211\ttotal: 2.08ms\tremaining: 3.12ms\n",
      "2:\tlearn: 23.3955006\ttotal: 3.05ms\tremaining: 2.03ms\n",
      "3:\tlearn: 22.5404425\ttotal: 3.83ms\tremaining: 957us\n",
      "4:\tlearn: 21.7484637\ttotal: 4.69ms\tremaining: 0us\n",
      "0:\tlearn: 28.8993042\ttotal: 1.21ms\tremaining: 4.83ms\n",
      "1:\tlearn: 26.3741574\ttotal: 2.28ms\tremaining: 3.41ms\n",
      "2:\tlearn: 24.7145485\ttotal: 3.29ms\tremaining: 2.19ms\n",
      "3:\tlearn: 23.6198947\ttotal: 4.18ms\tremaining: 1.04ms\n",
      "4:\tlearn: 22.8555123\ttotal: 5.05ms\tremaining: 0us\n",
      "0:\tlearn: 29.9215155\ttotal: 1.26ms\tremaining: 5.03ms\n",
      "1:\tlearn: 27.3305330\ttotal: 2.56ms\tremaining: 3.83ms\n",
      "2:\tlearn: 25.4709295\ttotal: 3.59ms\tremaining: 2.4ms\n",
      "3:\tlearn: 24.4746293\ttotal: 4.76ms\tremaining: 1.19ms\n",
      "4:\tlearn: 23.6946443\ttotal: 5.89ms\tremaining: 0us\n",
      "0:\tlearn: 28.8337047\ttotal: 748us\tremaining: 2.99ms\n",
      "1:\tlearn: 28.4701937\ttotal: 1.6ms\tremaining: 2.4ms\n",
      "2:\tlearn: 28.1214175\ttotal: 2.31ms\tremaining: 1.54ms\n",
      "3:\tlearn: 27.8489533\ttotal: 3.03ms\tremaining: 757us\n",
      "4:\tlearn: 27.5106757\ttotal: 3.73ms\tremaining: 0us\n",
      "0:\tlearn: 30.8166599\ttotal: 1.06ms\tremaining: 4.24ms\n",
      "1:\tlearn: 30.4090173\ttotal: 2.12ms\tremaining: 3.17ms\n",
      "2:\tlearn: 30.0396688\ttotal: 3ms\tremaining: 2ms\n",
      "3:\tlearn: 29.7333260\ttotal: 3.89ms\tremaining: 971us\n",
      "4:\tlearn: 29.3678338\ttotal: 4.73ms\tremaining: 0us\n",
      "0:\tlearn: 32.6235623\ttotal: 1.23ms\tremaining: 4.9ms\n",
      "1:\tlearn: 32.1895049\ttotal: 2.36ms\tremaining: 3.54ms\n",
      "2:\tlearn: 31.7872576\ttotal: 3.35ms\tremaining: 2.23ms\n",
      "3:\tlearn: 31.3967548\ttotal: 4.35ms\tremaining: 1.09ms\n",
      "4:\tlearn: 30.9996759\ttotal: 5.31ms\tremaining: 0us\n",
      "0:\tlearn: 33.8404552\ttotal: 1.21ms\tremaining: 4.85ms\n",
      "1:\tlearn: 33.3851308\ttotal: 2.6ms\tremaining: 3.91ms\n",
      "2:\tlearn: 32.9472107\ttotal: 3.79ms\tremaining: 2.53ms\n",
      "3:\tlearn: 32.5617772\ttotal: 5ms\tremaining: 1.25ms\n",
      "4:\tlearn: 32.1437666\ttotal: 6.1ms\tremaining: 0us\n",
      "0:\tlearn: 28.8263086\ttotal: 608us\tremaining: 8.51ms\n",
      "1:\tlearn: 28.4545683\ttotal: 1.57ms\tremaining: 10.2ms\n",
      "2:\tlearn: 28.1254574\ttotal: 2.36ms\tremaining: 9.45ms\n",
      "3:\tlearn: 27.7900845\ttotal: 3.26ms\tremaining: 8.97ms\n",
      "4:\tlearn: 27.4857409\ttotal: 4.12ms\tremaining: 8.24ms\n",
      "5:\tlearn: 27.2000807\ttotal: 5ms\tremaining: 7.51ms\n",
      "6:\tlearn: 26.8765197\ttotal: 5.91ms\tremaining: 6.76ms\n",
      "7:\tlearn: 26.5950062\ttotal: 6.68ms\tremaining: 5.84ms\n",
      "8:\tlearn: 26.2951431\ttotal: 7.44ms\tremaining: 4.96ms\n",
      "9:\tlearn: 25.9989458\ttotal: 8.14ms\tremaining: 4.07ms\n",
      "10:\tlearn: 25.7513334\ttotal: 8.88ms\tremaining: 3.23ms\n",
      "11:\tlearn: 25.5121641\ttotal: 9.64ms\tremaining: 2.41ms\n",
      "12:\tlearn: 25.2278614\ttotal: 10.3ms\tremaining: 1.58ms\n",
      "13:\tlearn: 24.9845952\ttotal: 11.2ms\tremaining: 798us\n",
      "14:\tlearn: 24.7313548\ttotal: 11.9ms\tremaining: 0us\n",
      "0:\tlearn: 30.8438606\ttotal: 753us\tremaining: 10.5ms\n",
      "1:\tlearn: 30.4661142\ttotal: 1.58ms\tremaining: 10.3ms\n",
      "2:\tlearn: 30.0755097\ttotal: 2.19ms\tremaining: 8.76ms\n",
      "3:\tlearn: 29.7331311\ttotal: 2.82ms\tremaining: 7.76ms\n",
      "4:\tlearn: 29.3792925\ttotal: 3.51ms\tremaining: 7.02ms\n",
      "5:\tlearn: 29.0497026\ttotal: 4.06ms\tremaining: 6.09ms\n",
      "6:\tlearn: 28.7318893\ttotal: 4.55ms\tremaining: 5.2ms\n",
      "7:\tlearn: 28.4314758\ttotal: 5.12ms\tremaining: 4.48ms\n",
      "8:\tlearn: 28.1226722\ttotal: 5.63ms\tremaining: 3.75ms\n",
      "9:\tlearn: 27.8436195\ttotal: 6.21ms\tremaining: 3.11ms\n",
      "10:\tlearn: 27.5937063\ttotal: 6.83ms\tremaining: 2.48ms\n",
      "11:\tlearn: 27.3233941\ttotal: 7.4ms\tremaining: 1.85ms\n",
      "12:\tlearn: 27.0547059\ttotal: 7.95ms\tremaining: 1.22ms\n",
      "13:\tlearn: 26.7886163\ttotal: 8.57ms\tremaining: 612us\n",
      "14:\tlearn: 26.5613377\ttotal: 9.2ms\tremaining: 0us\n",
      "0:\tlearn: 32.6249761\ttotal: 731us\tremaining: 10.2ms\n",
      "1:\tlearn: 32.1969410\ttotal: 1.59ms\tremaining: 10.3ms\n",
      "2:\tlearn: 31.7796731\ttotal: 2.39ms\tremaining: 9.55ms\n",
      "3:\tlearn: 31.4040269\ttotal: 3.06ms\tremaining: 8.41ms\n",
      "4:\tlearn: 31.0143713\ttotal: 3.75ms\tremaining: 7.5ms\n",
      "5:\tlearn: 30.6721372\ttotal: 4.49ms\tremaining: 6.74ms\n",
      "6:\tlearn: 30.3291357\ttotal: 5.23ms\tremaining: 5.98ms\n",
      "7:\tlearn: 30.0437113\ttotal: 6.02ms\tremaining: 5.26ms\n",
      "8:\tlearn: 29.7185972\ttotal: 6.75ms\tremaining: 4.5ms\n",
      "9:\tlearn: 29.4052017\ttotal: 7.44ms\tremaining: 3.72ms\n",
      "10:\tlearn: 29.1228162\ttotal: 8.14ms\tremaining: 2.96ms\n",
      "11:\tlearn: 28.8508726\ttotal: 8.85ms\tremaining: 2.21ms\n",
      "12:\tlearn: 28.5473833\ttotal: 9.54ms\tremaining: 1.47ms\n",
      "13:\tlearn: 28.2842969\ttotal: 10.2ms\tremaining: 729us\n",
      "14:\tlearn: 28.0229089\ttotal: 11ms\tremaining: 0us\n",
      "0:\tlearn: 33.8444322\ttotal: 959us\tremaining: 13.4ms\n",
      "1:\tlearn: 33.4113221\ttotal: 1.9ms\tremaining: 12.3ms\n",
      "2:\tlearn: 32.9785662\ttotal: 2.7ms\tremaining: 10.8ms\n",
      "3:\tlearn: 32.6049734\ttotal: 3.43ms\tremaining: 9.43ms\n",
      "4:\tlearn: 32.2159083\ttotal: 4.25ms\tremaining: 8.51ms\n",
      "5:\tlearn: 31.8599289\ttotal: 5.21ms\tremaining: 7.82ms\n",
      "6:\tlearn: 31.5079039\ttotal: 6.04ms\tremaining: 6.91ms\n",
      "7:\tlearn: 31.1940247\ttotal: 6.82ms\tremaining: 5.97ms\n",
      "8:\tlearn: 30.8529124\ttotal: 7.66ms\tremaining: 5.11ms\n",
      "9:\tlearn: 30.5306256\ttotal: 8.46ms\tremaining: 4.23ms\n",
      "10:\tlearn: 30.2320075\ttotal: 9.19ms\tremaining: 3.34ms\n",
      "11:\tlearn: 29.9407357\ttotal: 9.98ms\tremaining: 2.49ms\n",
      "12:\tlearn: 29.6335651\ttotal: 10.8ms\tremaining: 1.66ms\n",
      "13:\tlearn: 29.3546655\ttotal: 11.5ms\tremaining: 821us\n",
      "14:\tlearn: 29.1012500\ttotal: 12.2ms\tremaining: 0us\n",
      "0:\tlearn: 25.4936532\ttotal: 650us\tremaining: 12.4ms\n",
      "1:\tlearn: 23.0842123\ttotal: 1.39ms\tremaining: 12.5ms\n",
      "2:\tlearn: 21.5393116\ttotal: 1.99ms\tremaining: 11.3ms\n",
      "3:\tlearn: 20.5907377\ttotal: 2.57ms\tremaining: 10.3ms\n",
      "4:\tlearn: 20.1462913\ttotal: 3.19ms\tremaining: 9.58ms\n",
      "5:\tlearn: 19.6254524\ttotal: 3.74ms\tremaining: 8.73ms\n",
      "6:\tlearn: 19.3104188\ttotal: 4.3ms\tremaining: 7.98ms\n",
      "7:\tlearn: 19.0263737\ttotal: 4.78ms\tremaining: 7.17ms\n",
      "8:\tlearn: 18.8186737\ttotal: 5.37ms\tremaining: 6.56ms\n",
      "9:\tlearn: 18.5206308\ttotal: 5.99ms\tremaining: 5.99ms\n",
      "10:\tlearn: 18.4120310\ttotal: 6.52ms\tremaining: 5.33ms\n",
      "11:\tlearn: 18.3310867\ttotal: 7.08ms\tremaining: 4.72ms\n",
      "12:\tlearn: 18.1403531\ttotal: 7.67ms\tremaining: 4.13ms\n",
      "13:\tlearn: 17.9658442\ttotal: 8.22ms\tremaining: 3.52ms\n",
      "14:\tlearn: 17.8414170\ttotal: 8.7ms\tremaining: 2.9ms\n",
      "15:\tlearn: 17.7776357\ttotal: 9.23ms\tremaining: 2.31ms\n",
      "16:\tlearn: 17.5610220\ttotal: 9.79ms\tremaining: 1.73ms\n",
      "17:\tlearn: 17.4049238\ttotal: 10.4ms\tremaining: 1.15ms\n",
      "18:\tlearn: 17.3326538\ttotal: 11ms\tremaining: 576us\n",
      "19:\tlearn: 17.2320957\ttotal: 11.5ms\tremaining: 0us\n",
      "0:\tlearn: 27.5629415\ttotal: 738us\tremaining: 14ms\n",
      "1:\tlearn: 25.0635545\ttotal: 1.44ms\tremaining: 13ms\n",
      "2:\tlearn: 23.7299108\ttotal: 2.14ms\tremaining: 12.2ms\n",
      "3:\tlearn: 22.9069193\ttotal: 2.82ms\tremaining: 11.3ms\n",
      "4:\tlearn: 22.2766510\ttotal: 3.56ms\tremaining: 10.7ms\n",
      "5:\tlearn: 21.6805866\ttotal: 4.28ms\tremaining: 9.98ms\n",
      "6:\tlearn: 21.4472406\ttotal: 4.99ms\tremaining: 9.26ms\n",
      "7:\tlearn: 20.9689058\ttotal: 5.62ms\tremaining: 8.43ms\n",
      "8:\tlearn: 20.7341832\ttotal: 6.31ms\tremaining: 7.71ms\n",
      "9:\tlearn: 20.5361009\ttotal: 6.99ms\tremaining: 6.99ms\n",
      "10:\tlearn: 20.3332147\ttotal: 7.62ms\tremaining: 6.23ms\n",
      "11:\tlearn: 20.2102138\ttotal: 8.25ms\tremaining: 5.5ms\n",
      "12:\tlearn: 20.1130361\ttotal: 8.87ms\tremaining: 4.78ms\n",
      "13:\tlearn: 19.9441824\ttotal: 9.55ms\tremaining: 4.09ms\n",
      "14:\tlearn: 19.6791465\ttotal: 10.2ms\tremaining: 3.41ms\n",
      "15:\tlearn: 19.5788357\ttotal: 10.9ms\tremaining: 2.72ms\n",
      "16:\tlearn: 19.4921847\ttotal: 11.5ms\tremaining: 2.02ms\n",
      "17:\tlearn: 19.3679752\ttotal: 12.1ms\tremaining: 1.35ms\n",
      "18:\tlearn: 19.2828150\ttotal: 12.8ms\tremaining: 671us\n",
      "19:\tlearn: 19.2041053\ttotal: 13.4ms\tremaining: 0us\n",
      "0:\tlearn: 28.9208691\ttotal: 799us\tremaining: 15.2ms\n",
      "1:\tlearn: 26.4591060\ttotal: 1.74ms\tremaining: 15.7ms\n",
      "2:\tlearn: 24.8539283\ttotal: 2.53ms\tremaining: 14.3ms\n",
      "3:\tlearn: 23.9708430\ttotal: 3.21ms\tremaining: 12.8ms\n",
      "4:\tlearn: 23.2026050\ttotal: 3.95ms\tremaining: 11.9ms\n",
      "5:\tlearn: 22.6144116\ttotal: 4.7ms\tremaining: 11ms\n",
      "6:\tlearn: 22.3460084\ttotal: 5.38ms\tremaining: 9.98ms\n",
      "7:\tlearn: 22.0075514\ttotal: 6.05ms\tremaining: 9.07ms\n",
      "8:\tlearn: 21.7896278\ttotal: 6.73ms\tremaining: 8.23ms\n",
      "9:\tlearn: 21.6109096\ttotal: 7.41ms\tremaining: 7.41ms\n",
      "10:\tlearn: 21.2579957\ttotal: 8.11ms\tremaining: 6.64ms\n",
      "11:\tlearn: 21.1963724\ttotal: 8.76ms\tremaining: 5.84ms\n",
      "12:\tlearn: 21.0704170\ttotal: 9.42ms\tremaining: 5.07ms\n",
      "13:\tlearn: 20.8530399\ttotal: 10.1ms\tremaining: 4.32ms\n",
      "14:\tlearn: 20.7458133\ttotal: 10.8ms\tremaining: 3.6ms\n",
      "15:\tlearn: 20.6560829\ttotal: 11.5ms\tremaining: 2.86ms\n",
      "16:\tlearn: 20.4545457\ttotal: 12.1ms\tremaining: 2.14ms\n",
      "17:\tlearn: 20.2960273\ttotal: 12.8ms\tremaining: 1.42ms\n",
      "18:\tlearn: 20.2053911\ttotal: 13.4ms\tremaining: 707us\n",
      "19:\tlearn: 20.1294195\ttotal: 14ms\tremaining: 0us\n",
      "0:\tlearn: 29.9669052\ttotal: 1.01ms\tremaining: 19.3ms\n",
      "1:\tlearn: 27.4255155\ttotal: 2ms\tremaining: 18ms\n",
      "2:\tlearn: 25.8447128\ttotal: 2.88ms\tremaining: 16.3ms\n",
      "3:\tlearn: 24.7639984\ttotal: 3.7ms\tremaining: 14.8ms\n",
      "4:\tlearn: 24.0099939\ttotal: 4.49ms\tremaining: 13.5ms\n",
      "5:\tlearn: 23.5822686\ttotal: 5.22ms\tremaining: 12.2ms\n",
      "6:\tlearn: 23.2807437\ttotal: 6ms\tremaining: 11.1ms\n",
      "7:\tlearn: 23.0278755\ttotal: 6.8ms\tremaining: 10.2ms\n",
      "8:\tlearn: 22.8412773\ttotal: 7.57ms\tremaining: 9.25ms\n",
      "9:\tlearn: 22.6712903\ttotal: 8.37ms\tremaining: 8.37ms\n",
      "10:\tlearn: 22.2174587\ttotal: 9.13ms\tremaining: 7.47ms\n",
      "11:\tlearn: 22.1065223\ttotal: 9.94ms\tremaining: 6.63ms\n",
      "12:\tlearn: 21.9322988\ttotal: 10.7ms\tremaining: 5.77ms\n",
      "13:\tlearn: 21.7898118\ttotal: 11.5ms\tremaining: 4.91ms\n",
      "14:\tlearn: 21.6865966\ttotal: 12.2ms\tremaining: 4.07ms\n",
      "15:\tlearn: 21.5910320\ttotal: 12.9ms\tremaining: 3.23ms\n",
      "16:\tlearn: 21.4488851\ttotal: 13.7ms\tremaining: 2.42ms\n",
      "17:\tlearn: 21.3278122\ttotal: 14.5ms\tremaining: 1.61ms\n",
      "18:\tlearn: 21.2559229\ttotal: 15.4ms\tremaining: 808us\n",
      "19:\tlearn: 21.1941321\ttotal: 16.1ms\tremaining: 0us\n",
      "0:\tlearn: 27.9291671\ttotal: 707us\tremaining: 2.83ms\n",
      "1:\tlearn: 26.8325725\ttotal: 1.78ms\tremaining: 2.67ms\n",
      "2:\tlearn: 25.8591473\ttotal: 2.54ms\tremaining: 1.69ms\n",
      "3:\tlearn: 25.1818119\ttotal: 3.32ms\tremaining: 830us\n",
      "4:\tlearn: 24.3741494\ttotal: 3.99ms\tremaining: 0us\n",
      "0:\tlearn: 29.8392896\ttotal: 1.07ms\tremaining: 4.27ms\n",
      "1:\tlearn: 28.6286420\ttotal: 2.27ms\tremaining: 3.4ms\n",
      "2:\tlearn: 27.6345173\ttotal: 3.24ms\tremaining: 2.16ms\n",
      "3:\tlearn: 26.8895215\ttotal: 4.23ms\tremaining: 1.06ms\n",
      "4:\tlearn: 26.1026183\ttotal: 5.11ms\tremaining: 0us\n",
      "0:\tlearn: 31.5908819\ttotal: 1.22ms\tremaining: 4.87ms\n",
      "1:\tlearn: 30.2749681\ttotal: 2.36ms\tremaining: 3.54ms\n",
      "2:\tlearn: 29.1938402\ttotal: 3.32ms\tremaining: 2.21ms\n",
      "3:\tlearn: 28.2456735\ttotal: 4.25ms\tremaining: 1.06ms\n",
      "4:\tlearn: 27.3498238\ttotal: 5.07ms\tremaining: 0us\n",
      "0:\tlearn: 32.7537231\ttotal: 1.32ms\tremaining: 5.27ms\n",
      "1:\tlearn: 31.3803663\ttotal: 2.58ms\tremaining: 3.86ms\n",
      "2:\tlearn: 30.1976415\ttotal: 3.65ms\tremaining: 2.43ms\n",
      "3:\tlearn: 29.2998474\ttotal: 4.69ms\tremaining: 1.17ms\n",
      "4:\tlearn: 28.3738201\ttotal: 5.71ms\tremaining: 0us\n",
      "0:\tlearn: 28.5719676\ttotal: 765us\tremaining: 14.5ms\n",
      "1:\tlearn: 27.9826043\ttotal: 1.63ms\tremaining: 14.7ms\n",
      "2:\tlearn: 27.4291701\ttotal: 2.35ms\tremaining: 13.3ms\n",
      "3:\tlearn: 27.0102270\ttotal: 3.07ms\tremaining: 12.3ms\n",
      "4:\tlearn: 26.4951632\ttotal: 3.78ms\tremaining: 11.3ms\n",
      "5:\tlearn: 26.0388286\ttotal: 4.46ms\tremaining: 10.4ms\n",
      "6:\tlearn: 25.6241202\ttotal: 5.28ms\tremaining: 9.8ms\n",
      "7:\tlearn: 25.1860467\ttotal: 6.05ms\tremaining: 9.07ms\n",
      "8:\tlearn: 24.7568574\ttotal: 6.73ms\tremaining: 8.23ms\n",
      "9:\tlearn: 24.3498309\ttotal: 7.31ms\tremaining: 7.31ms\n",
      "10:\tlearn: 23.9291452\ttotal: 8.02ms\tremaining: 6.56ms\n",
      "11:\tlearn: 23.6135408\ttotal: 8.68ms\tremaining: 5.79ms\n",
      "12:\tlearn: 23.2546713\ttotal: 9.39ms\tremaining: 5.05ms\n",
      "13:\tlearn: 22.9395833\ttotal: 10ms\tremaining: 4.29ms\n",
      "14:\tlearn: 22.7152526\ttotal: 10.7ms\tremaining: 3.56ms\n",
      "15:\tlearn: 22.4459748\ttotal: 11.3ms\tremaining: 2.83ms\n",
      "16:\tlearn: 22.1989786\ttotal: 12ms\tremaining: 2.12ms\n",
      "17:\tlearn: 21.9351905\ttotal: 12.7ms\tremaining: 1.42ms\n",
      "18:\tlearn: 21.6924506\ttotal: 13.4ms\tremaining: 706us\n",
      "19:\tlearn: 21.4822618\ttotal: 14.1ms\tremaining: 0us\n",
      "0:\tlearn: 30.5334726\ttotal: 1.73ms\tremaining: 32.8ms\n",
      "1:\tlearn: 29.8753460\ttotal: 2.88ms\tremaining: 25.9ms\n",
      "2:\tlearn: 29.2948517\ttotal: 4.5ms\tremaining: 25.5ms\n",
      "3:\tlearn: 28.8264086\ttotal: 5.96ms\tremaining: 23.8ms\n",
      "4:\tlearn: 28.2753573\ttotal: 7.37ms\tremaining: 22.1ms\n",
      "5:\tlearn: 27.7698981\ttotal: 8.37ms\tremaining: 19.5ms\n",
      "6:\tlearn: 27.3432541\ttotal: 9.36ms\tremaining: 17.4ms\n",
      "7:\tlearn: 26.8634584\ttotal: 10.6ms\tremaining: 15.9ms\n",
      "8:\tlearn: 26.4556149\ttotal: 11.8ms\tremaining: 14.4ms\n",
      "9:\tlearn: 26.0577718\ttotal: 13.3ms\tremaining: 13.3ms\n",
      "10:\tlearn: 25.6793337\ttotal: 14.8ms\tremaining: 12.1ms\n",
      "11:\tlearn: 25.3395831\ttotal: 16.2ms\tremaining: 10.8ms\n",
      "12:\tlearn: 25.0083626\ttotal: 17.3ms\tremaining: 9.33ms\n",
      "13:\tlearn: 24.7035530\ttotal: 18.6ms\tremaining: 7.97ms\n",
      "14:\tlearn: 24.4414587\ttotal: 19.8ms\tremaining: 6.61ms\n",
      "15:\tlearn: 24.1861169\ttotal: 21.1ms\tremaining: 5.27ms\n",
      "16:\tlearn: 23.9476452\ttotal: 22ms\tremaining: 3.88ms\n",
      "17:\tlearn: 23.7112930\ttotal: 22.9ms\tremaining: 2.54ms\n",
      "18:\tlearn: 23.4910892\ttotal: 23.9ms\tremaining: 1.26ms\n",
      "19:\tlearn: 23.2716872\ttotal: 24.7ms\tremaining: 0us\n",
      "0:\tlearn: 32.3242432\ttotal: 1.03ms\tremaining: 19.5ms\n",
      "1:\tlearn: 31.6396250\ttotal: 2.26ms\tremaining: 20.3ms\n",
      "2:\tlearn: 31.0075446\ttotal: 3.24ms\tremaining: 18.4ms\n",
      "3:\tlearn: 30.4094279\ttotal: 4.18ms\tremaining: 16.7ms\n",
      "4:\tlearn: 29.8139119\ttotal: 5.17ms\tremaining: 15.5ms\n",
      "5:\tlearn: 29.2740005\ttotal: 6.23ms\tremaining: 14.5ms\n",
      "6:\tlearn: 28.7889172\ttotal: 7.13ms\tremaining: 13.2ms\n",
      "7:\tlearn: 28.3306241\ttotal: 8.18ms\tremaining: 12.3ms\n",
      "8:\tlearn: 27.8743278\ttotal: 9.71ms\tremaining: 11.9ms\n",
      "9:\tlearn: 27.4862298\ttotal: 10.7ms\tremaining: 10.7ms\n",
      "10:\tlearn: 27.0802185\ttotal: 11.7ms\tremaining: 9.55ms\n",
      "11:\tlearn: 26.7384317\ttotal: 12.7ms\tremaining: 8.45ms\n",
      "12:\tlearn: 26.3662563\ttotal: 13.7ms\tremaining: 7.37ms\n",
      "13:\tlearn: 26.0259680\ttotal: 14.6ms\tremaining: 6.24ms\n",
      "14:\tlearn: 25.7586231\ttotal: 15.5ms\tremaining: 5.17ms\n",
      "15:\tlearn: 25.4714399\ttotal: 16.4ms\tremaining: 4.11ms\n",
      "16:\tlearn: 25.2105193\ttotal: 17.3ms\tremaining: 3.06ms\n",
      "17:\tlearn: 24.9522227\ttotal: 18.3ms\tremaining: 2.03ms\n",
      "18:\tlearn: 24.7198461\ttotal: 19.3ms\tremaining: 1.01ms\n",
      "19:\tlearn: 24.5272081\ttotal: 20.3ms\tremaining: 0us\n",
      "0:\tlearn: 33.5254733\ttotal: 1.2ms\tremaining: 22.9ms\n",
      "1:\tlearn: 32.8180108\ttotal: 2.5ms\tremaining: 22.5ms\n",
      "2:\tlearn: 32.1420392\ttotal: 3.54ms\tremaining: 20ms\n",
      "3:\tlearn: 31.5502748\ttotal: 4.79ms\tremaining: 19.1ms\n",
      "4:\tlearn: 30.9030449\ttotal: 5.83ms\tremaining: 17.5ms\n",
      "5:\tlearn: 30.3436431\ttotal: 7.07ms\tremaining: 16.5ms\n",
      "6:\tlearn: 29.8096799\ttotal: 8.13ms\tremaining: 15.1ms\n",
      "7:\tlearn: 29.3375852\ttotal: 9.07ms\tremaining: 13.6ms\n",
      "8:\tlearn: 28.8986243\ttotal: 10.2ms\tremaining: 12.4ms\n",
      "9:\tlearn: 28.4923910\ttotal: 11.2ms\tremaining: 11.2ms\n",
      "10:\tlearn: 28.1139758\ttotal: 12.3ms\tremaining: 10.1ms\n",
      "11:\tlearn: 27.7121906\ttotal: 13.4ms\tremaining: 8.94ms\n",
      "12:\tlearn: 27.3683335\ttotal: 14.5ms\tremaining: 7.8ms\n",
      "13:\tlearn: 27.0326042\ttotal: 15.5ms\tremaining: 6.64ms\n",
      "14:\tlearn: 26.7453133\ttotal: 16.6ms\tremaining: 5.54ms\n",
      "15:\tlearn: 26.4527965\ttotal: 17.7ms\tremaining: 4.44ms\n",
      "16:\tlearn: 26.1940541\ttotal: 18.9ms\tremaining: 3.33ms\n",
      "17:\tlearn: 25.9454038\ttotal: 19.9ms\tremaining: 2.21ms\n",
      "18:\tlearn: 25.7112416\ttotal: 20.9ms\tremaining: 1.1ms\n",
      "19:\tlearn: 25.4930350\ttotal: 21.9ms\tremaining: 0us\n",
      "0:\tlearn: 33.8923686\ttotal: 976us\tremaining: 23.4ms\n",
      "1:\tlearn: 31.0886826\ttotal: 1.99ms\tremaining: 22.9ms\n",
      "2:\tlearn: 29.1742915\ttotal: 2.9ms\tremaining: 21.3ms\n",
      "3:\tlearn: 27.6917066\ttotal: 3.75ms\tremaining: 19.7ms\n",
      "4:\tlearn: 26.8041370\ttotal: 4.71ms\tremaining: 18.9ms\n",
      "5:\tlearn: 26.2497151\ttotal: 5.67ms\tremaining: 18ms\n",
      "6:\tlearn: 25.7114758\ttotal: 6.63ms\tremaining: 17ms\n",
      "7:\tlearn: 25.4062010\ttotal: 7.42ms\tremaining: 15.8ms\n",
      "8:\tlearn: 25.2005524\ttotal: 8.25ms\tremaining: 14.7ms\n",
      "9:\tlearn: 25.0299769\ttotal: 9.11ms\tremaining: 13.7ms\n",
      "10:\tlearn: 24.6923180\ttotal: 10.1ms\tremaining: 12.8ms\n",
      "11:\tlearn: 24.4312680\ttotal: 11.1ms\tremaining: 12ms\n",
      "12:\tlearn: 24.3255921\ttotal: 12.1ms\tremaining: 11.1ms\n",
      "13:\tlearn: 24.2821786\ttotal: 12.9ms\tremaining: 10.2ms\n",
      "14:\tlearn: 24.0336754\ttotal: 13.8ms\tremaining: 9.17ms\n",
      "15:\tlearn: 23.9951563\ttotal: 14.6ms\tremaining: 8.23ms\n",
      "16:\tlearn: 23.7022917\ttotal: 15.5ms\tremaining: 7.32ms\n",
      "17:\tlearn: 23.5713180\ttotal: 16.4ms\tremaining: 6.37ms\n",
      "18:\tlearn: 23.4958061\ttotal: 17.2ms\tremaining: 5.44ms\n",
      "19:\tlearn: 23.4416147\ttotal: 18.1ms\tremaining: 4.53ms\n",
      "20:\tlearn: 23.1930088\ttotal: 19.1ms\tremaining: 3.63ms\n",
      "21:\tlearn: 23.1660681\ttotal: 19.8ms\tremaining: 2.71ms\n",
      "22:\tlearn: 23.0168468\ttotal: 20.7ms\tremaining: 1.8ms\n",
      "23:\tlearn: 22.9694869\ttotal: 21.6ms\tremaining: 898us\n",
      "24:\tlearn: 22.8080029\ttotal: 22.5ms\tremaining: 0us\n"
     ]
    },
    {
     "data": {
      "text/html": [
       "<style>#sk-container-id-1 {\n",
       "  /* Definition of color scheme common for light and dark mode */\n",
       "  --sklearn-color-text: #000;\n",
       "  --sklearn-color-text-muted: #666;\n",
       "  --sklearn-color-line: gray;\n",
       "  /* Definition of color scheme for unfitted estimators */\n",
       "  --sklearn-color-unfitted-level-0: #fff5e6;\n",
       "  --sklearn-color-unfitted-level-1: #f6e4d2;\n",
       "  --sklearn-color-unfitted-level-2: #ffe0b3;\n",
       "  --sklearn-color-unfitted-level-3: chocolate;\n",
       "  /* Definition of color scheme for fitted estimators */\n",
       "  --sklearn-color-fitted-level-0: #f0f8ff;\n",
       "  --sklearn-color-fitted-level-1: #d4ebff;\n",
       "  --sklearn-color-fitted-level-2: #b3dbfd;\n",
       "  --sklearn-color-fitted-level-3: cornflowerblue;\n",
       "\n",
       "  /* Specific color for light theme */\n",
       "  --sklearn-color-text-on-default-background: var(--sg-text-color, var(--theme-code-foreground, var(--jp-content-font-color1, black)));\n",
       "  --sklearn-color-background: var(--sg-background-color, var(--theme-background, var(--jp-layout-color0, white)));\n",
       "  --sklearn-color-border-box: var(--sg-text-color, var(--theme-code-foreground, var(--jp-content-font-color1, black)));\n",
       "  --sklearn-color-icon: #696969;\n",
       "\n",
       "  @media (prefers-color-scheme: dark) {\n",
       "    /* Redefinition of color scheme for dark theme */\n",
       "    --sklearn-color-text-on-default-background: var(--sg-text-color, var(--theme-code-foreground, var(--jp-content-font-color1, white)));\n",
       "    --sklearn-color-background: var(--sg-background-color, var(--theme-background, var(--jp-layout-color0, #111)));\n",
       "    --sklearn-color-border-box: var(--sg-text-color, var(--theme-code-foreground, var(--jp-content-font-color1, white)));\n",
       "    --sklearn-color-icon: #878787;\n",
       "  }\n",
       "}\n",
       "\n",
       "#sk-container-id-1 {\n",
       "  color: var(--sklearn-color-text);\n",
       "}\n",
       "\n",
       "#sk-container-id-1 pre {\n",
       "  padding: 0;\n",
       "}\n",
       "\n",
       "#sk-container-id-1 input.sk-hidden--visually {\n",
       "  border: 0;\n",
       "  clip: rect(1px 1px 1px 1px);\n",
       "  clip: rect(1px, 1px, 1px, 1px);\n",
       "  height: 1px;\n",
       "  margin: -1px;\n",
       "  overflow: hidden;\n",
       "  padding: 0;\n",
       "  position: absolute;\n",
       "  width: 1px;\n",
       "}\n",
       "\n",
       "#sk-container-id-1 div.sk-dashed-wrapped {\n",
       "  border: 1px dashed var(--sklearn-color-line);\n",
       "  margin: 0 0.4em 0.5em 0.4em;\n",
       "  box-sizing: border-box;\n",
       "  padding-bottom: 0.4em;\n",
       "  background-color: var(--sklearn-color-background);\n",
       "}\n",
       "\n",
       "#sk-container-id-1 div.sk-container {\n",
       "  /* jupyter's `normalize.less` sets `[hidden] { display: none; }`\n",
       "     but bootstrap.min.css set `[hidden] { display: none !important; }`\n",
       "     so we also need the `!important` here to be able to override the\n",
       "     default hidden behavior on the sphinx rendered scikit-learn.org.\n",
       "     See: https://github.com/scikit-learn/scikit-learn/issues/21755 */\n",
       "  display: inline-block !important;\n",
       "  position: relative;\n",
       "}\n",
       "\n",
       "#sk-container-id-1 div.sk-text-repr-fallback {\n",
       "  display: none;\n",
       "}\n",
       "\n",
       "div.sk-parallel-item,\n",
       "div.sk-serial,\n",
       "div.sk-item {\n",
       "  /* draw centered vertical line to link estimators */\n",
       "  background-image: linear-gradient(var(--sklearn-color-text-on-default-background), var(--sklearn-color-text-on-default-background));\n",
       "  background-size: 2px 100%;\n",
       "  background-repeat: no-repeat;\n",
       "  background-position: center center;\n",
       "}\n",
       "\n",
       "/* Parallel-specific style estimator block */\n",
       "\n",
       "#sk-container-id-1 div.sk-parallel-item::after {\n",
       "  content: \"\";\n",
       "  width: 100%;\n",
       "  border-bottom: 2px solid var(--sklearn-color-text-on-default-background);\n",
       "  flex-grow: 1;\n",
       "}\n",
       "\n",
       "#sk-container-id-1 div.sk-parallel {\n",
       "  display: flex;\n",
       "  align-items: stretch;\n",
       "  justify-content: center;\n",
       "  background-color: var(--sklearn-color-background);\n",
       "  position: relative;\n",
       "}\n",
       "\n",
       "#sk-container-id-1 div.sk-parallel-item {\n",
       "  display: flex;\n",
       "  flex-direction: column;\n",
       "}\n",
       "\n",
       "#sk-container-id-1 div.sk-parallel-item:first-child::after {\n",
       "  align-self: flex-end;\n",
       "  width: 50%;\n",
       "}\n",
       "\n",
       "#sk-container-id-1 div.sk-parallel-item:last-child::after {\n",
       "  align-self: flex-start;\n",
       "  width: 50%;\n",
       "}\n",
       "\n",
       "#sk-container-id-1 div.sk-parallel-item:only-child::after {\n",
       "  width: 0;\n",
       "}\n",
       "\n",
       "/* Serial-specific style estimator block */\n",
       "\n",
       "#sk-container-id-1 div.sk-serial {\n",
       "  display: flex;\n",
       "  flex-direction: column;\n",
       "  align-items: center;\n",
       "  background-color: var(--sklearn-color-background);\n",
       "  padding-right: 1em;\n",
       "  padding-left: 1em;\n",
       "}\n",
       "\n",
       "\n",
       "/* Toggleable style: style used for estimator/Pipeline/ColumnTransformer box that is\n",
       "clickable and can be expanded/collapsed.\n",
       "- Pipeline and ColumnTransformer use this feature and define the default style\n",
       "- Estimators will overwrite some part of the style using the `sk-estimator` class\n",
       "*/\n",
       "\n",
       "/* Pipeline and ColumnTransformer style (default) */\n",
       "\n",
       "#sk-container-id-1 div.sk-toggleable {\n",
       "  /* Default theme specific background. It is overwritten whether we have a\n",
       "  specific estimator or a Pipeline/ColumnTransformer */\n",
       "  background-color: var(--sklearn-color-background);\n",
       "}\n",
       "\n",
       "/* Toggleable label */\n",
       "#sk-container-id-1 label.sk-toggleable__label {\n",
       "  cursor: pointer;\n",
       "  display: flex;\n",
       "  width: 100%;\n",
       "  margin-bottom: 0;\n",
       "  padding: 0.5em;\n",
       "  box-sizing: border-box;\n",
       "  text-align: center;\n",
       "  align-items: start;\n",
       "  justify-content: space-between;\n",
       "  gap: 0.5em;\n",
       "}\n",
       "\n",
       "#sk-container-id-1 label.sk-toggleable__label .caption {\n",
       "  font-size: 0.6rem;\n",
       "  font-weight: lighter;\n",
       "  color: var(--sklearn-color-text-muted);\n",
       "}\n",
       "\n",
       "#sk-container-id-1 label.sk-toggleable__label-arrow:before {\n",
       "  /* Arrow on the left of the label */\n",
       "  content: \"▸\";\n",
       "  float: left;\n",
       "  margin-right: 0.25em;\n",
       "  color: var(--sklearn-color-icon);\n",
       "}\n",
       "\n",
       "#sk-container-id-1 label.sk-toggleable__label-arrow:hover:before {\n",
       "  color: var(--sklearn-color-text);\n",
       "}\n",
       "\n",
       "/* Toggleable content - dropdown */\n",
       "\n",
       "#sk-container-id-1 div.sk-toggleable__content {\n",
       "  max-height: 0;\n",
       "  max-width: 0;\n",
       "  overflow: hidden;\n",
       "  text-align: left;\n",
       "  /* unfitted */\n",
       "  background-color: var(--sklearn-color-unfitted-level-0);\n",
       "}\n",
       "\n",
       "#sk-container-id-1 div.sk-toggleable__content.fitted {\n",
       "  /* fitted */\n",
       "  background-color: var(--sklearn-color-fitted-level-0);\n",
       "}\n",
       "\n",
       "#sk-container-id-1 div.sk-toggleable__content pre {\n",
       "  margin: 0.2em;\n",
       "  border-radius: 0.25em;\n",
       "  color: var(--sklearn-color-text);\n",
       "  /* unfitted */\n",
       "  background-color: var(--sklearn-color-unfitted-level-0);\n",
       "}\n",
       "\n",
       "#sk-container-id-1 div.sk-toggleable__content.fitted pre {\n",
       "  /* unfitted */\n",
       "  background-color: var(--sklearn-color-fitted-level-0);\n",
       "}\n",
       "\n",
       "#sk-container-id-1 input.sk-toggleable__control:checked~div.sk-toggleable__content {\n",
       "  /* Expand drop-down */\n",
       "  max-height: 200px;\n",
       "  max-width: 100%;\n",
       "  overflow: auto;\n",
       "}\n",
       "\n",
       "#sk-container-id-1 input.sk-toggleable__control:checked~label.sk-toggleable__label-arrow:before {\n",
       "  content: \"▾\";\n",
       "}\n",
       "\n",
       "/* Pipeline/ColumnTransformer-specific style */\n",
       "\n",
       "#sk-container-id-1 div.sk-label input.sk-toggleable__control:checked~label.sk-toggleable__label {\n",
       "  color: var(--sklearn-color-text);\n",
       "  background-color: var(--sklearn-color-unfitted-level-2);\n",
       "}\n",
       "\n",
       "#sk-container-id-1 div.sk-label.fitted input.sk-toggleable__control:checked~label.sk-toggleable__label {\n",
       "  background-color: var(--sklearn-color-fitted-level-2);\n",
       "}\n",
       "\n",
       "/* Estimator-specific style */\n",
       "\n",
       "/* Colorize estimator box */\n",
       "#sk-container-id-1 div.sk-estimator input.sk-toggleable__control:checked~label.sk-toggleable__label {\n",
       "  /* unfitted */\n",
       "  background-color: var(--sklearn-color-unfitted-level-2);\n",
       "}\n",
       "\n",
       "#sk-container-id-1 div.sk-estimator.fitted input.sk-toggleable__control:checked~label.sk-toggleable__label {\n",
       "  /* fitted */\n",
       "  background-color: var(--sklearn-color-fitted-level-2);\n",
       "}\n",
       "\n",
       "#sk-container-id-1 div.sk-label label.sk-toggleable__label,\n",
       "#sk-container-id-1 div.sk-label label {\n",
       "  /* The background is the default theme color */\n",
       "  color: var(--sklearn-color-text-on-default-background);\n",
       "}\n",
       "\n",
       "/* On hover, darken the color of the background */\n",
       "#sk-container-id-1 div.sk-label:hover label.sk-toggleable__label {\n",
       "  color: var(--sklearn-color-text);\n",
       "  background-color: var(--sklearn-color-unfitted-level-2);\n",
       "}\n",
       "\n",
       "/* Label box, darken color on hover, fitted */\n",
       "#sk-container-id-1 div.sk-label.fitted:hover label.sk-toggleable__label.fitted {\n",
       "  color: var(--sklearn-color-text);\n",
       "  background-color: var(--sklearn-color-fitted-level-2);\n",
       "}\n",
       "\n",
       "/* Estimator label */\n",
       "\n",
       "#sk-container-id-1 div.sk-label label {\n",
       "  font-family: monospace;\n",
       "  font-weight: bold;\n",
       "  display: inline-block;\n",
       "  line-height: 1.2em;\n",
       "}\n",
       "\n",
       "#sk-container-id-1 div.sk-label-container {\n",
       "  text-align: center;\n",
       "}\n",
       "\n",
       "/* Estimator-specific */\n",
       "#sk-container-id-1 div.sk-estimator {\n",
       "  font-family: monospace;\n",
       "  border: 1px dotted var(--sklearn-color-border-box);\n",
       "  border-radius: 0.25em;\n",
       "  box-sizing: border-box;\n",
       "  margin-bottom: 0.5em;\n",
       "  /* unfitted */\n",
       "  background-color: var(--sklearn-color-unfitted-level-0);\n",
       "}\n",
       "\n",
       "#sk-container-id-1 div.sk-estimator.fitted {\n",
       "  /* fitted */\n",
       "  background-color: var(--sklearn-color-fitted-level-0);\n",
       "}\n",
       "\n",
       "/* on hover */\n",
       "#sk-container-id-1 div.sk-estimator:hover {\n",
       "  /* unfitted */\n",
       "  background-color: var(--sklearn-color-unfitted-level-2);\n",
       "}\n",
       "\n",
       "#sk-container-id-1 div.sk-estimator.fitted:hover {\n",
       "  /* fitted */\n",
       "  background-color: var(--sklearn-color-fitted-level-2);\n",
       "}\n",
       "\n",
       "/* Specification for estimator info (e.g. \"i\" and \"?\") */\n",
       "\n",
       "/* Common style for \"i\" and \"?\" */\n",
       "\n",
       ".sk-estimator-doc-link,\n",
       "a:link.sk-estimator-doc-link,\n",
       "a:visited.sk-estimator-doc-link {\n",
       "  float: right;\n",
       "  font-size: smaller;\n",
       "  line-height: 1em;\n",
       "  font-family: monospace;\n",
       "  background-color: var(--sklearn-color-background);\n",
       "  border-radius: 1em;\n",
       "  height: 1em;\n",
       "  width: 1em;\n",
       "  text-decoration: none !important;\n",
       "  margin-left: 0.5em;\n",
       "  text-align: center;\n",
       "  /* unfitted */\n",
       "  border: var(--sklearn-color-unfitted-level-1) 1pt solid;\n",
       "  color: var(--sklearn-color-unfitted-level-1);\n",
       "}\n",
       "\n",
       ".sk-estimator-doc-link.fitted,\n",
       "a:link.sk-estimator-doc-link.fitted,\n",
       "a:visited.sk-estimator-doc-link.fitted {\n",
       "  /* fitted */\n",
       "  border: var(--sklearn-color-fitted-level-1) 1pt solid;\n",
       "  color: var(--sklearn-color-fitted-level-1);\n",
       "}\n",
       "\n",
       "/* On hover */\n",
       "div.sk-estimator:hover .sk-estimator-doc-link:hover,\n",
       ".sk-estimator-doc-link:hover,\n",
       "div.sk-label-container:hover .sk-estimator-doc-link:hover,\n",
       ".sk-estimator-doc-link:hover {\n",
       "  /* unfitted */\n",
       "  background-color: var(--sklearn-color-unfitted-level-3);\n",
       "  color: var(--sklearn-color-background);\n",
       "  text-decoration: none;\n",
       "}\n",
       "\n",
       "div.sk-estimator.fitted:hover .sk-estimator-doc-link.fitted:hover,\n",
       ".sk-estimator-doc-link.fitted:hover,\n",
       "div.sk-label-container:hover .sk-estimator-doc-link.fitted:hover,\n",
       ".sk-estimator-doc-link.fitted:hover {\n",
       "  /* fitted */\n",
       "  background-color: var(--sklearn-color-fitted-level-3);\n",
       "  color: var(--sklearn-color-background);\n",
       "  text-decoration: none;\n",
       "}\n",
       "\n",
       "/* Span, style for the box shown on hovering the info icon */\n",
       ".sk-estimator-doc-link span {\n",
       "  display: none;\n",
       "  z-index: 9999;\n",
       "  position: relative;\n",
       "  font-weight: normal;\n",
       "  right: .2ex;\n",
       "  padding: .5ex;\n",
       "  margin: .5ex;\n",
       "  width: min-content;\n",
       "  min-width: 20ex;\n",
       "  max-width: 50ex;\n",
       "  color: var(--sklearn-color-text);\n",
       "  box-shadow: 2pt 2pt 4pt #999;\n",
       "  /* unfitted */\n",
       "  background: var(--sklearn-color-unfitted-level-0);\n",
       "  border: .5pt solid var(--sklearn-color-unfitted-level-3);\n",
       "}\n",
       "\n",
       ".sk-estimator-doc-link.fitted span {\n",
       "  /* fitted */\n",
       "  background: var(--sklearn-color-fitted-level-0);\n",
       "  border: var(--sklearn-color-fitted-level-3);\n",
       "}\n",
       "\n",
       ".sk-estimator-doc-link:hover span {\n",
       "  display: block;\n",
       "}\n",
       "\n",
       "/* \"?\"-specific style due to the `<a>` HTML tag */\n",
       "\n",
       "#sk-container-id-1 a.estimator_doc_link {\n",
       "  float: right;\n",
       "  font-size: 1rem;\n",
       "  line-height: 1em;\n",
       "  font-family: monospace;\n",
       "  background-color: var(--sklearn-color-background);\n",
       "  border-radius: 1rem;\n",
       "  height: 1rem;\n",
       "  width: 1rem;\n",
       "  text-decoration: none;\n",
       "  /* unfitted */\n",
       "  color: var(--sklearn-color-unfitted-level-1);\n",
       "  border: var(--sklearn-color-unfitted-level-1) 1pt solid;\n",
       "}\n",
       "\n",
       "#sk-container-id-1 a.estimator_doc_link.fitted {\n",
       "  /* fitted */\n",
       "  border: var(--sklearn-color-fitted-level-1) 1pt solid;\n",
       "  color: var(--sklearn-color-fitted-level-1);\n",
       "}\n",
       "\n",
       "/* On hover */\n",
       "#sk-container-id-1 a.estimator_doc_link:hover {\n",
       "  /* unfitted */\n",
       "  background-color: var(--sklearn-color-unfitted-level-3);\n",
       "  color: var(--sklearn-color-background);\n",
       "  text-decoration: none;\n",
       "}\n",
       "\n",
       "#sk-container-id-1 a.estimator_doc_link.fitted:hover {\n",
       "  /* fitted */\n",
       "  background-color: var(--sklearn-color-fitted-level-3);\n",
       "}\n",
       "</style><div id=\"sk-container-id-1\" class=\"sk-top-container\"><div class=\"sk-text-repr-fallback\"><pre>RandomizedSearchCV(cv=TimeSeriesSplit(gap=0, max_train_size=None, n_splits=4, test_size=None),\n",
       "                   estimator=Pipeline(steps=[(&#x27;models&#x27;,\n",
       "                                              LinearRegression(n_jobs=-1))]),\n",
       "                   n_iter=100, n_jobs=-1,\n",
       "                   param_distributions=[{&#x27;models&#x27;: [LinearRegression(n_jobs=-1)]},\n",
       "                                        {&#x27;models&#x27;: [KNeighborsRegressor()],\n",
       "                                         &#x27;models__n_neighbors&#x27;: range(3, 7)},\n",
       "                                        {&#x27;models&#x27;: [LGBMRegressor()],\n",
       "                                         &#x27;models__lear...\n",
       "                                         &#x27;models__max_depth&#x27;: range(4, 8),\n",
       "                                         &#x27;models__num_leaves&#x27;: range(5, 30, 5)},\n",
       "                                        {&#x27;models&#x27;: [&lt;catboost.core.CatBoostRegressor object at 0x7fb541383a00&gt;],\n",
       "                                         &#x27;models__iterations&#x27;: range(5, 30, 5),\n",
       "                                         &#x27;models__learning_rate&#x27;: [0.03, 0.05,\n",
       "                                                                   0.1, 0.3],\n",
       "                                         &#x27;models__max_depth&#x27;: range(4, 8)},\n",
       "                                        {&#x27;models&#x27;: [SVR()],\n",
       "                                         &#x27;models__degree&#x27;: range(3, 7),\n",
       "                                         &#x27;models__kernel&#x27;: [&#x27;rbf&#x27;, &#x27;poly&#x27;]}],\n",
       "                   random_state=42, scoring=&#x27;neg_root_mean_squared_error&#x27;)</pre><b>In a Jupyter environment, please rerun this cell to show the HTML representation or trust the notebook. <br />On GitHub, the HTML representation is unable to render, please try loading this page with nbviewer.org.</b></div><div class=\"sk-container\" hidden><div class=\"sk-item sk-dashed-wrapped\"><div class=\"sk-label-container\"><div class=\"sk-label fitted sk-toggleable\"><input class=\"sk-toggleable__control sk-hidden--visually\" id=\"sk-estimator-id-1\" type=\"checkbox\" ><label for=\"sk-estimator-id-1\" class=\"sk-toggleable__label fitted sk-toggleable__label-arrow\"><div><div>RandomizedSearchCV</div></div><div><a class=\"sk-estimator-doc-link fitted\" rel=\"noreferrer\" target=\"_blank\" href=\"https://scikit-learn.org/1.6/modules/generated/sklearn.model_selection.RandomizedSearchCV.html\">?<span>Documentation for RandomizedSearchCV</span></a><span class=\"sk-estimator-doc-link fitted\">i<span>Fitted</span></span></div></label><div class=\"sk-toggleable__content fitted\"><pre>RandomizedSearchCV(cv=TimeSeriesSplit(gap=0, max_train_size=None, n_splits=4, test_size=None),\n",
       "                   estimator=Pipeline(steps=[(&#x27;models&#x27;,\n",
       "                                              LinearRegression(n_jobs=-1))]),\n",
       "                   n_iter=100, n_jobs=-1,\n",
       "                   param_distributions=[{&#x27;models&#x27;: [LinearRegression(n_jobs=-1)]},\n",
       "                                        {&#x27;models&#x27;: [KNeighborsRegressor()],\n",
       "                                         &#x27;models__n_neighbors&#x27;: range(3, 7)},\n",
       "                                        {&#x27;models&#x27;: [LGBMRegressor()],\n",
       "                                         &#x27;models__lear...\n",
       "                                         &#x27;models__max_depth&#x27;: range(4, 8),\n",
       "                                         &#x27;models__num_leaves&#x27;: range(5, 30, 5)},\n",
       "                                        {&#x27;models&#x27;: [&lt;catboost.core.CatBoostRegressor object at 0x7fb541383a00&gt;],\n",
       "                                         &#x27;models__iterations&#x27;: range(5, 30, 5),\n",
       "                                         &#x27;models__learning_rate&#x27;: [0.03, 0.05,\n",
       "                                                                   0.1, 0.3],\n",
       "                                         &#x27;models__max_depth&#x27;: range(4, 8)},\n",
       "                                        {&#x27;models&#x27;: [SVR()],\n",
       "                                         &#x27;models__degree&#x27;: range(3, 7),\n",
       "                                         &#x27;models__kernel&#x27;: [&#x27;rbf&#x27;, &#x27;poly&#x27;]}],\n",
       "                   random_state=42, scoring=&#x27;neg_root_mean_squared_error&#x27;)</pre></div> </div></div><div class=\"sk-parallel\"><div class=\"sk-parallel-item\"><div class=\"sk-item\"><div class=\"sk-label-container\"><div class=\"sk-label fitted sk-toggleable\"><input class=\"sk-toggleable__control sk-hidden--visually\" id=\"sk-estimator-id-2\" type=\"checkbox\" ><label for=\"sk-estimator-id-2\" class=\"sk-toggleable__label fitted sk-toggleable__label-arrow\"><div><div>best_estimator_: Pipeline</div></div></label><div class=\"sk-toggleable__content fitted\"><pre>Pipeline(steps=[(&#x27;models&#x27;,\n",
       "                 &lt;catboost.core.CatBoostRegressor object at 0x7fb54174cb50&gt;)])</pre></div> </div></div><div class=\"sk-serial\"><div class=\"sk-item\"><div class=\"sk-serial\"><div class=\"sk-item\"><div class=\"sk-estimator fitted sk-toggleable\"><input class=\"sk-toggleable__control sk-hidden--visually\" id=\"sk-estimator-id-3\" type=\"checkbox\" ><label for=\"sk-estimator-id-3\" class=\"sk-toggleable__label fitted sk-toggleable__label-arrow\"><div><div>CatBoostRegressor</div></div></label><div class=\"sk-toggleable__content fitted\"><pre>&lt;catboost.core.CatBoostRegressor object at 0x7fb54174cb50&gt;</pre></div> </div></div></div></div></div></div></div></div></div></div></div>"
      ],
      "text/plain": [
       "RandomizedSearchCV(cv=TimeSeriesSplit(gap=0, max_train_size=None, n_splits=4, test_size=None),\n",
       "                   estimator=Pipeline(steps=[('models',\n",
       "                                              LinearRegression(n_jobs=-1))]),\n",
       "                   n_iter=100, n_jobs=-1,\n",
       "                   param_distributions=[{'models': [LinearRegression(n_jobs=-1)]},\n",
       "                                        {'models': [KNeighborsRegressor()],\n",
       "                                         'models__n_neighbors': range(3, 7)},\n",
       "                                        {'models': [LGBMRegressor()],\n",
       "                                         'models__lear...\n",
       "                                         'models__max_depth': range(4, 8),\n",
       "                                         'models__num_leaves': range(5, 30, 5)},\n",
       "                                        {'models': [<catboost.core.CatBoostRegressor object at 0x7fb541383a00>],\n",
       "                                         'models__iterations': range(5, 30, 5),\n",
       "                                         'models__learning_rate': [0.03, 0.05,\n",
       "                                                                   0.1, 0.3],\n",
       "                                         'models__max_depth': range(4, 8)},\n",
       "                                        {'models': [SVR()],\n",
       "                                         'models__degree': range(3, 7),\n",
       "                                         'models__kernel': ['rbf', 'poly']}],\n",
       "                   random_state=42, scoring='neg_root_mean_squared_error')"
      ]
     },
     "execution_count": 17,
     "metadata": {},
     "output_type": "execute_result"
    }
   ],
   "source": [
    "pipe_final = Pipeline([('models', LinearRegression(n_jobs= -1))])\n",
    "\n",
    "param_grid = [\n",
    "    \n",
    "        # словарь для модели LinearRegression()\n",
    "    {\n",
    "        'models': [LinearRegression(n_jobs= -1)]\n",
    "    },\n",
    "     \n",
    "    # словарь для модели KNeighborsRegressor() \n",
    "    {\n",
    "        'models': [KNeighborsRegressor()],\n",
    "        'models__n_neighbors': range(3,7)\n",
    "    },\n",
    "\n",
    "        # словарь для модели LGBMRegressor() \n",
    "    {\n",
    "        'models': [LGBMRegressor()],\n",
    "        'models__max_depth': range(4,8),\n",
    "        'models__learning_rate': [0.03, 0.05, 0.1, 0.3],\n",
    "        'models__num_leaves': range(5, 30, 5)\n",
    "    },\n",
    "    \n",
    "        # словарь для модели CatBoostRegressor() \n",
    "    {\n",
    "        'models': [CatBoostRegressor(loss_function='RMSE')],\n",
    "        'models__learning_rate': [0.03, 0.05, 0.1, 0.3],\n",
    "        'models__iterations': range(5, 30, 5),\n",
    "        'models__max_depth': range(4,8)\n",
    "    } ,\n",
    "    \n",
    "      #словарь для модели SVM() \n",
    "    {\n",
    "        'models': [SVR()], \n",
    "        'models__kernel': ['rbf', 'poly'],            \n",
    "        'models__degree': range(3,7)\n",
    "    }\n",
    "]\n",
    "\n",
    "tscv = TimeSeriesSplit(n_splits=4)\n",
    "\n",
    "gs = RandomizedSearchCV(\n",
    "    pipe_final, \n",
    "    param_grid, \n",
    "    cv=tscv,\n",
    "    scoring='neg_root_mean_squared_error',\n",
    "    random_state=RANDOM_STATE,\n",
    "    n_jobs=-1\n",
    "    ,n_iter=100\n",
    ")\n",
    "\n",
    "gs.fit(X_train, y_train)\n"
   ]
  },
  {
   "cell_type": "code",
   "execution_count": 18,
   "metadata": {},
   "outputs": [
    {
     "name": "stdout",
     "output_type": "stream",
     "text": [
      "Лучшая модель и её параметры:\n",
      "\n",
      " {'models__max_depth': 4, 'models__learning_rate': 0.3, 'models__iterations': 25, 'models': <catboost.core.CatBoostRegressor object at 0x7fb541383a00>} \n",
      "\n",
      "\n",
      "Метрика \"RMSE\" лучшей модели на кросс-валидации: 26.421485775688733 \n",
      "\n",
      "Среднее время обучения на кросс-валидации:  0.5146170854568481 \n",
      "\n",
      "Время предсказания:  0.0026150941848754883 \n",
      "\n",
      "\n"
     ]
    }
   ],
   "source": [
    "print('Лучшая модель и её параметры:\\n\\n', gs.best_params_, '\\n\\n')\n",
    "print ('Метрика \"RMSE\" лучшей модели на кросс-валидации:', gs.best_score_ * (-1), '\\n\\n'\n",
    "       'Среднее время обучения на кросс-валидации: ',  \n",
    "       pd.DataFrame(gs.cv_results_)\n",
    "       .sort_values(by='rank_test_score')\n",
    "       .head(1)['mean_fit_time']\n",
    "       .values[0],  '\\n\\n'                         \n",
    "        'Время предсказания: ', \n",
    "       pd.DataFrame(gs.cv_results_)\n",
    "       .sort_values(by='rank_test_score')\n",
    "       .head(1)['mean_score_time']\n",
    "       .values[0], '\\n\\n')\n",
    "\n"
   ]
  },
  {
   "cell_type": "markdown",
   "metadata": {},
   "source": [
    "### Промежуточный вывод\n",
    "\n",
    "В данные для обучения были добавлены новые признаки: день недели, час заказа, отстающие значения, скользящее среднее и скользящее отклонение заказов.\n",
    "\n",
    "Данные разбиты на тренировочную и тестовую выборки в соотношении 9 к 1.\n",
    "\n",
    "Были обучены 5 моделей и подобраны гиперпараметры.\n",
    "\n",
    "На кросс-валидации выбрана лучшая модель CatBoostRegressor с параметрами: \n",
    "- максимальное количество деревьев - 25.\n",
    "- максимальная глубина дерева - 4.\n",
    "- скорость обучения для процесса градиентного бустинга - 0.3.\n",
    "\n",
    "Метрика RMSE показывает, что предсказание в среднем отличается от истинного значения для модели LightGBM на 26 заказов в час на кросс-валидации, время обучения модели на кросс-валидации составляет 0,5 секунд, время предсказания - менее сотой секунды.\n"
   ]
  },
  {
   "cell_type": "markdown",
   "metadata": {},
   "source": [
    "## Тестирование"
   ]
  },
  {
   "cell_type": "code",
   "execution_count": 20,
   "metadata": {},
   "outputs": [
    {
     "name": "stdout",
     "output_type": "stream",
     "text": [
      "Метрика RMSE лучшей модели на тестовой выборке:  46.27631\n"
     ]
    }
   ],
   "source": [
    "pred = gs.predict(X_test)\n",
    "\n",
    "print('Метрика RMSE лучшей модели на тестовой выборке: ', round(root_mean_squared_error(y_test, pred), 5))"
   ]
  },
  {
   "cell_type": "markdown",
   "metadata": {},
   "source": [
    "### Промежуточный вывод\n",
    "\n",
    "Получено предсказание на тестовой выборке.\n",
    "Метрика качества лучшей модели на тестовой выборке: 46 заказов, что не превышает 48 заказов из условия задачи.\n"
   ]
  },
  {
   "cell_type": "markdown",
   "metadata": {},
   "source": [
    "## Общий вывод\n",
    "\n",
    "На основе исторических данных о заказах такси в аэропортах для предсказания количества заказов на следующий час были обучены 5 моделей: LightGBM, CatBoost, LinearRegression, KNeighborsRegressor, SVR.\n",
    "\n",
    "После записи датасета в переменную `data` и первичного знакомства с данными видим, что данные в таблицах соответствуют описанию. \n",
    "\n",
    "Выполнено ресемплирование данных по одному часу.\n",
    "\n",
    "- Для поиска лучшей модели использован пайплайн для 5 моделей: LightGBM, CatBoost, LinearRegression, KNeighborsRegressor, SVR.\n",
    "- использован инструмент случайного подбора гиперпараметров.\n",
    "- для оценки качества модели выбрана метрика *RMSE*.\n",
    "\n",
    "Наилучшее качество предсказания дает модель CatBoostRegressor с параметрами: \n",
    "- максимальное количество деревьев - 25.\n",
    "- максимальная глубина дерева - 4.\n",
    "- скорость обучения для процесса градиентного бустинга - 0.3.\n",
    "\n",
    "Метрика RMSE показывает, что предсказание в среднем отличается от истинного значения для модели CatBoostRegressor на 26 заказов в час на кросс-валидации, время обучения модели на кросс-валидации составляет 0,5 секунд, время предсказания - менее сотой секунды.\n",
    "\n",
    "Метрика качества лучшей модели на тестовой выборке: 46 заказов, что не превышает 48 заказов из условия задачи.\n"
   ]
  },
  {
   "cell_type": "markdown",
   "metadata": {},
   "source": [
    "## Чек-лист проверки"
   ]
  },
  {
   "cell_type": "markdown",
   "metadata": {},
   "source": [
    "- [x]  Jupyter Notebook открыт\n",
    "- [x]  Весь код выполняется без ошибок\n",
    "- [x]  Ячейки с кодом расположены в порядке исполнения\n",
    "- [x]  Данные загружены и подготовлены\n",
    "- [x]  Данные проанализированы\n",
    "- [x]  Модель обучена, гиперпараметры подобраны\n",
    "- [x]  Качество моделей проверено, выводы сделаны\n",
    "- [x]  Значение *RMSE* на тестовой выборке не больше 48"
   ]
  }
 ],
 "metadata": {
  "ExecuteTimeLog": [
   {
    "duration": 11931,
    "start_time": "2025-01-27T08:15:08.299Z"
   },
   {
    "duration": 1490,
    "start_time": "2025-01-27T08:15:20.233Z"
   },
   {
    "duration": 65,
    "start_time": "2025-01-27T08:15:21.725Z"
   },
   {
    "duration": 53,
    "start_time": "2025-01-27T08:24:54.894Z"
   },
   {
    "duration": 8,
    "start_time": "2025-01-27T08:25:09.840Z"
   },
   {
    "duration": 9,
    "start_time": "2025-01-27T08:25:23.331Z"
   },
   {
    "duration": 224,
    "start_time": "2025-01-27T08:50:45.726Z"
   },
   {
    "duration": 115,
    "start_time": "2025-01-27T10:59:48.934Z"
   },
   {
    "duration": 43,
    "start_time": "2025-01-27T10:59:57.107Z"
   },
   {
    "duration": 5,
    "start_time": "2025-01-27T11:00:24.375Z"
   },
   {
    "duration": 836,
    "start_time": "2025-01-27T11:00:31.313Z"
   },
   {
    "duration": 7699,
    "start_time": "2025-01-27T22:11:30.091Z"
   },
   {
    "duration": 7,
    "start_time": "2025-01-27T22:11:37.793Z"
   },
   {
    "duration": 151,
    "start_time": "2025-01-27T22:11:37.801Z"
   },
   {
    "duration": 7,
    "start_time": "2025-01-27T22:11:37.954Z"
   },
   {
    "duration": 67,
    "start_time": "2025-01-27T22:11:37.962Z"
   },
   {
    "duration": 216,
    "start_time": "2025-01-27T22:11:38.031Z"
   },
   {
    "duration": 780,
    "start_time": "2025-01-27T22:11:38.249Z"
   },
   {
    "duration": 21,
    "start_time": "2025-01-27T22:11:39.031Z"
   },
   {
    "duration": 21,
    "start_time": "2025-01-27T22:11:39.054Z"
   },
   {
    "duration": 5,
    "start_time": "2025-01-27T22:12:23.614Z"
   },
   {
    "duration": 7734,
    "start_time": "2025-01-27T22:12:36.918Z"
   },
   {
    "duration": 1374,
    "start_time": "2025-01-27T22:12:44.654Z"
   },
   {
    "duration": 59,
    "start_time": "2025-01-27T22:12:46.029Z"
   },
   {
    "duration": 8,
    "start_time": "2025-01-27T22:12:46.089Z"
   },
   {
    "duration": 12,
    "start_time": "2025-01-27T22:12:46.099Z"
   },
   {
    "duration": 254,
    "start_time": "2025-01-27T22:12:46.113Z"
   },
   {
    "duration": 736,
    "start_time": "2025-01-27T22:12:46.369Z"
   },
   {
    "duration": 23,
    "start_time": "2025-01-27T22:12:47.106Z"
   },
   {
    "duration": 4493,
    "start_time": "2025-01-27T22:12:47.131Z"
   },
   {
    "duration": 7716,
    "start_time": "2025-01-27T22:14:14.632Z"
   },
   {
    "duration": 1312,
    "start_time": "2025-01-27T22:14:22.351Z"
   },
   {
    "duration": 58,
    "start_time": "2025-01-27T22:14:23.664Z"
   },
   {
    "duration": 7,
    "start_time": "2025-01-27T22:14:23.724Z"
   },
   {
    "duration": 12,
    "start_time": "2025-01-27T22:14:23.733Z"
   },
   {
    "duration": 229,
    "start_time": "2025-01-27T22:14:23.747Z"
   },
   {
    "duration": 722,
    "start_time": "2025-01-27T22:14:23.978Z"
   },
   {
    "duration": 27,
    "start_time": "2025-01-27T22:14:24.702Z"
   },
   {
    "duration": 44027,
    "start_time": "2025-01-27T22:14:24.731Z"
   },
   {
    "duration": 21,
    "start_time": "2025-01-27T22:28:25.061Z"
   },
   {
    "duration": 11,
    "start_time": "2025-01-27T22:28:45.034Z"
   },
   {
    "duration": 14,
    "start_time": "2025-01-27T22:28:57.485Z"
   },
   {
    "duration": 117,
    "start_time": "2025-01-27T22:49:01.238Z"
   },
   {
    "duration": 10,
    "start_time": "2025-01-27T22:49:14.281Z"
   },
   {
    "duration": 11,
    "start_time": "2025-01-27T22:49:34.809Z"
   },
   {
    "duration": 10,
    "start_time": "2025-01-27T22:49:47.778Z"
   },
   {
    "duration": 11,
    "start_time": "2025-01-27T22:50:04.528Z"
   },
   {
    "duration": 7492,
    "start_time": "2025-01-27T22:54:19.236Z"
   },
   {
    "duration": 1306,
    "start_time": "2025-01-27T22:54:26.731Z"
   },
   {
    "duration": 57,
    "start_time": "2025-01-27T22:54:28.038Z"
   },
   {
    "duration": 8,
    "start_time": "2025-01-27T22:54:28.096Z"
   },
   {
    "duration": 21,
    "start_time": "2025-01-27T22:54:28.105Z"
   },
   {
    "duration": 248,
    "start_time": "2025-01-27T22:54:28.128Z"
   },
   {
    "duration": 713,
    "start_time": "2025-01-27T22:54:28.377Z"
   },
   {
    "duration": 35,
    "start_time": "2025-01-27T22:54:29.092Z"
   },
   {
    "duration": 250113,
    "start_time": "2025-01-27T22:54:29.129Z"
   },
   {
    "duration": 79,
    "start_time": "2025-01-27T22:58:39.243Z"
   },
   {
    "duration": 11,
    "start_time": "2025-01-27T22:58:39.324Z"
   },
   {
    "duration": 5309,
    "start_time": "2025-01-27T23:05:07.232Z"
   },
   {
    "duration": 1357,
    "start_time": "2025-01-27T23:05:12.543Z"
   },
   {
    "duration": 69,
    "start_time": "2025-01-27T23:05:13.902Z"
   },
   {
    "duration": 8,
    "start_time": "2025-01-27T23:05:13.973Z"
   },
   {
    "duration": 9,
    "start_time": "2025-01-27T23:05:13.983Z"
   },
   {
    "duration": 256,
    "start_time": "2025-01-27T23:05:13.994Z"
   },
   {
    "duration": 753,
    "start_time": "2025-01-27T23:05:14.251Z"
   },
   {
    "duration": 32,
    "start_time": "2025-01-27T23:05:15.006Z"
   },
   {
    "duration": 267405,
    "start_time": "2025-01-27T23:05:15.040Z"
   },
   {
    "duration": 11,
    "start_time": "2025-01-27T23:09:42.447Z"
   },
   {
    "duration": 63,
    "start_time": "2025-01-27T23:09:42.461Z"
   },
   {
    "duration": 5223,
    "start_time": "2025-01-27T23:11:45.037Z"
   },
   {
    "duration": 1317,
    "start_time": "2025-01-27T23:11:50.263Z"
   },
   {
    "duration": 71,
    "start_time": "2025-01-27T23:11:51.582Z"
   },
   {
    "duration": 11,
    "start_time": "2025-01-27T23:11:51.655Z"
   },
   {
    "duration": 27,
    "start_time": "2025-01-27T23:11:51.668Z"
   },
   {
    "duration": 251,
    "start_time": "2025-01-27T23:11:51.697Z"
   },
   {
    "duration": 751,
    "start_time": "2025-01-27T23:11:51.950Z"
   },
   {
    "duration": 30,
    "start_time": "2025-01-27T23:11:52.703Z"
   },
   {
    "duration": 239406,
    "start_time": "2025-01-27T23:11:52.735Z"
   },
   {
    "duration": 13,
    "start_time": "2025-01-27T23:15:52.143Z"
   },
   {
    "duration": 73,
    "start_time": "2025-01-27T23:15:52.158Z"
   },
   {
    "duration": 5286,
    "start_time": "2025-01-27T23:16:44.577Z"
   },
   {
    "duration": 1340,
    "start_time": "2025-01-27T23:16:49.866Z"
   },
   {
    "duration": 57,
    "start_time": "2025-01-27T23:16:51.207Z"
   },
   {
    "duration": 8,
    "start_time": "2025-01-27T23:16:51.266Z"
   },
   {
    "duration": 10,
    "start_time": "2025-01-27T23:16:51.276Z"
   },
   {
    "duration": 252,
    "start_time": "2025-01-27T23:16:51.287Z"
   },
   {
    "duration": 754,
    "start_time": "2025-01-27T23:16:51.540Z"
   },
   {
    "duration": 29,
    "start_time": "2025-01-27T23:16:52.296Z"
   },
   {
    "duration": 236608,
    "start_time": "2025-01-27T23:16:52.326Z"
   },
   {
    "duration": 13,
    "start_time": "2025-01-27T23:20:48.936Z"
   },
   {
    "duration": 53,
    "start_time": "2025-01-27T23:20:48.951Z"
   },
   {
    "duration": 507,
    "start_time": "2025-01-27T23:20:49.006Z"
   },
   {
    "duration": 607,
    "start_time": "2025-01-27T23:22:12.181Z"
   },
   {
    "duration": 494,
    "start_time": "2025-01-27T23:22:17.378Z"
   },
   {
    "duration": 593,
    "start_time": "2025-01-27T23:22:27.106Z"
   },
   {
    "duration": 600,
    "start_time": "2025-01-27T23:23:26.040Z"
   },
   {
    "duration": 5251,
    "start_time": "2025-01-27T23:23:43.763Z"
   },
   {
    "duration": 1297,
    "start_time": "2025-01-27T23:23:49.017Z"
   },
   {
    "duration": 61,
    "start_time": "2025-01-27T23:23:50.318Z"
   },
   {
    "duration": 9,
    "start_time": "2025-01-27T23:23:50.381Z"
   },
   {
    "duration": 14,
    "start_time": "2025-01-27T23:23:50.392Z"
   },
   {
    "duration": 246,
    "start_time": "2025-01-27T23:23:50.407Z"
   },
   {
    "duration": 739,
    "start_time": "2025-01-27T23:23:50.654Z"
   },
   {
    "duration": 29,
    "start_time": "2025-01-27T23:23:51.394Z"
   },
   {
    "duration": 231798,
    "start_time": "2025-01-27T23:23:51.425Z"
   },
   {
    "duration": 9,
    "start_time": "2025-01-27T23:27:43.225Z"
   },
   {
    "duration": 6,
    "start_time": "2025-01-27T23:27:43.235Z"
   },
   {
    "duration": 5312,
    "start_time": "2025-01-27T23:31:54.639Z"
   },
   {
    "duration": 1318,
    "start_time": "2025-01-27T23:31:59.954Z"
   },
   {
    "duration": 58,
    "start_time": "2025-01-27T23:32:01.274Z"
   },
   {
    "duration": 8,
    "start_time": "2025-01-27T23:32:01.334Z"
   },
   {
    "duration": 16,
    "start_time": "2025-01-27T23:32:01.344Z"
   },
   {
    "duration": 250,
    "start_time": "2025-01-27T23:32:01.362Z"
   },
   {
    "duration": 777,
    "start_time": "2025-01-27T23:32:01.621Z"
   },
   {
    "duration": 40,
    "start_time": "2025-01-27T23:32:02.400Z"
   },
   {
    "duration": 269372,
    "start_time": "2025-01-27T23:32:02.442Z"
   },
   {
    "duration": 11,
    "start_time": "2025-01-27T23:36:31.816Z"
   },
   {
    "duration": 64,
    "start_time": "2025-01-27T23:36:31.828Z"
   },
   {
    "duration": 5412,
    "start_time": "2025-01-27T23:49:17.791Z"
   },
   {
    "duration": 1291,
    "start_time": "2025-01-27T23:49:23.205Z"
   },
   {
    "duration": 56,
    "start_time": "2025-01-27T23:49:24.497Z"
   },
   {
    "duration": 7,
    "start_time": "2025-01-27T23:49:24.555Z"
   },
   {
    "duration": 9,
    "start_time": "2025-01-27T23:49:24.564Z"
   },
   {
    "duration": 250,
    "start_time": "2025-01-27T23:49:24.575Z"
   },
   {
    "duration": 744,
    "start_time": "2025-01-27T23:49:24.826Z"
   },
   {
    "duration": 23,
    "start_time": "2025-01-27T23:49:25.571Z"
   },
   {
    "duration": 279489,
    "start_time": "2025-01-27T23:49:25.595Z"
   },
   {
    "duration": 10,
    "start_time": "2025-01-27T23:54:05.085Z"
   },
   {
    "duration": 19,
    "start_time": "2025-01-27T23:54:05.097Z"
   },
   {
    "duration": 5249,
    "start_time": "2025-01-27T23:59:31.093Z"
   },
   {
    "duration": 1362,
    "start_time": "2025-01-27T23:59:36.344Z"
   },
   {
    "duration": 56,
    "start_time": "2025-01-27T23:59:37.708Z"
   },
   {
    "duration": 23,
    "start_time": "2025-01-27T23:59:37.766Z"
   },
   {
    "duration": 20,
    "start_time": "2025-01-27T23:59:37.792Z"
   },
   {
    "duration": 263,
    "start_time": "2025-01-27T23:59:37.814Z"
   },
   {
    "duration": 724,
    "start_time": "2025-01-27T23:59:38.079Z"
   },
   {
    "duration": 32,
    "start_time": "2025-01-27T23:59:38.805Z"
   },
   {
    "duration": 128,
    "start_time": "2025-01-27T23:59:38.838Z"
   },
   {
    "duration": 0,
    "start_time": "2025-01-27T23:59:38.968Z"
   },
   {
    "duration": 0,
    "start_time": "2025-01-27T23:59:38.969Z"
   },
   {
    "duration": 6,
    "start_time": "2025-01-28T00:00:02.026Z"
   },
   {
    "duration": 5405,
    "start_time": "2025-01-28T00:00:13.393Z"
   },
   {
    "duration": 1305,
    "start_time": "2025-01-28T00:00:18.800Z"
   },
   {
    "duration": 60,
    "start_time": "2025-01-28T00:00:20.106Z"
   },
   {
    "duration": 10,
    "start_time": "2025-01-28T00:00:20.167Z"
   },
   {
    "duration": 35,
    "start_time": "2025-01-28T00:00:20.179Z"
   },
   {
    "duration": 271,
    "start_time": "2025-01-28T00:00:20.216Z"
   },
   {
    "duration": 727,
    "start_time": "2025-01-28T00:00:20.488Z"
   },
   {
    "duration": 22,
    "start_time": "2025-01-28T00:00:21.221Z"
   },
   {
    "duration": 297228,
    "start_time": "2025-01-28T00:00:21.244Z"
   },
   {
    "duration": 10,
    "start_time": "2025-01-28T00:05:18.473Z"
   },
   {
    "duration": 9,
    "start_time": "2025-01-28T00:05:18.485Z"
   },
   {
    "duration": 35,
    "start_time": "2025-01-28T00:07:39.388Z"
   },
   {
    "duration": 16,
    "start_time": "2025-01-28T00:11:02.751Z"
   },
   {
    "duration": 5450,
    "start_time": "2025-01-28T00:18:25.401Z"
   },
   {
    "duration": 1320,
    "start_time": "2025-01-28T00:18:30.854Z"
   },
   {
    "duration": 56,
    "start_time": "2025-01-28T00:18:32.175Z"
   },
   {
    "duration": 9,
    "start_time": "2025-01-28T00:18:32.233Z"
   },
   {
    "duration": 11,
    "start_time": "2025-01-28T00:18:32.244Z"
   },
   {
    "duration": 277,
    "start_time": "2025-01-28T00:18:32.257Z"
   },
   {
    "duration": 742,
    "start_time": "2025-01-28T00:18:32.535Z"
   },
   {
    "duration": 21,
    "start_time": "2025-01-28T00:18:33.278Z"
   },
   {
    "duration": 297212,
    "start_time": "2025-01-28T00:18:33.300Z"
   },
   {
    "duration": 10,
    "start_time": "2025-01-28T00:23:30.514Z"
   },
   {
    "duration": 32,
    "start_time": "2025-01-28T00:23:30.525Z"
   },
   {
    "duration": 9,
    "start_time": "2025-01-28T00:23:30.558Z"
   },
   {
    "duration": 5256,
    "start_time": "2025-01-28T00:26:22.988Z"
   },
   {
    "duration": 1334,
    "start_time": "2025-01-28T00:26:28.247Z"
   },
   {
    "duration": 70,
    "start_time": "2025-01-28T00:26:29.584Z"
   },
   {
    "duration": 8,
    "start_time": "2025-01-28T00:26:29.655Z"
   },
   {
    "duration": 26,
    "start_time": "2025-01-28T00:26:29.665Z"
   },
   {
    "duration": 14,
    "start_time": "2025-01-28T00:26:29.693Z"
   },
   {
    "duration": 720,
    "start_time": "2025-01-28T00:26:29.709Z"
   },
   {
    "duration": 23,
    "start_time": "2025-01-28T00:26:30.430Z"
   },
   {
    "duration": 393010,
    "start_time": "2025-01-28T00:26:30.454Z"
   },
   {
    "duration": 11,
    "start_time": "2025-01-28T00:33:03.465Z"
   },
   {
    "duration": 61,
    "start_time": "2025-01-28T00:33:03.477Z"
   },
   {
    "duration": 12,
    "start_time": "2025-01-28T00:33:03.539Z"
   },
   {
    "duration": 127,
    "start_time": "2025-01-28T00:34:19.168Z"
   },
   {
    "duration": 6,
    "start_time": "2025-01-28T00:34:29.518Z"
   },
   {
    "duration": 675,
    "start_time": "2025-01-28T00:34:37.877Z"
   },
   {
    "duration": 5241,
    "start_time": "2025-01-28T00:47:05.845Z"
   },
   {
    "duration": 1310,
    "start_time": "2025-01-28T00:47:11.088Z"
   },
   {
    "duration": 79,
    "start_time": "2025-01-28T00:47:12.401Z"
   },
   {
    "duration": 8,
    "start_time": "2025-01-28T00:47:12.482Z"
   },
   {
    "duration": 9,
    "start_time": "2025-01-28T00:47:12.491Z"
   },
   {
    "duration": 233,
    "start_time": "2025-01-28T00:47:12.502Z"
   },
   {
    "duration": 3,
    "start_time": "2025-01-28T00:47:12.737Z"
   },
   {
    "duration": 133,
    "start_time": "2025-01-28T00:47:12.741Z"
   },
   {
    "duration": 0,
    "start_time": "2025-01-28T00:47:12.876Z"
   },
   {
    "duration": 0,
    "start_time": "2025-01-28T00:47:12.877Z"
   },
   {
    "duration": 0,
    "start_time": "2025-01-28T00:47:12.878Z"
   },
   {
    "duration": 0,
    "start_time": "2025-01-28T00:47:12.879Z"
   },
   {
    "duration": 0,
    "start_time": "2025-01-28T00:47:12.881Z"
   },
   {
    "duration": 3,
    "start_time": "2025-01-28T00:50:11.574Z"
   },
   {
    "duration": 11,
    "start_time": "2025-01-28T00:50:12.701Z"
   },
   {
    "duration": 5205,
    "start_time": "2025-01-28T00:50:29.732Z"
   },
   {
    "duration": 1346,
    "start_time": "2025-01-28T00:50:34.939Z"
   },
   {
    "duration": 58,
    "start_time": "2025-01-28T00:50:36.287Z"
   },
   {
    "duration": 7,
    "start_time": "2025-01-28T00:50:36.347Z"
   },
   {
    "duration": 13,
    "start_time": "2025-01-28T00:50:36.356Z"
   },
   {
    "duration": 241,
    "start_time": "2025-01-28T00:50:36.371Z"
   },
   {
    "duration": 3,
    "start_time": "2025-01-28T00:50:36.621Z"
   },
   {
    "duration": 798,
    "start_time": "2025-01-28T00:50:36.626Z"
   },
   {
    "duration": 24,
    "start_time": "2025-01-28T00:50:37.425Z"
   },
   {
    "duration": 335390,
    "start_time": "2025-01-28T00:50:37.451Z"
   },
   {
    "duration": 11,
    "start_time": "2025-01-28T00:56:12.842Z"
   },
   {
    "duration": 39,
    "start_time": "2025-01-28T00:56:12.854Z"
   },
   {
    "duration": 5,
    "start_time": "2025-01-28T00:56:12.895Z"
   },
   {
    "duration": 17,
    "start_time": "2025-01-28T00:57:07.261Z"
   },
   {
    "duration": 6,
    "start_time": "2025-01-28T01:01:09.734Z"
   },
   {
    "duration": 18,
    "start_time": "2025-01-28T01:01:19.496Z"
   },
   {
    "duration": 5390,
    "start_time": "2025-01-28T01:05:53.723Z"
   },
   {
    "duration": 1325,
    "start_time": "2025-01-28T01:05:59.115Z"
   },
   {
    "duration": 68,
    "start_time": "2025-01-28T01:06:00.442Z"
   },
   {
    "duration": 8,
    "start_time": "2025-01-28T01:06:00.513Z"
   },
   {
    "duration": 11,
    "start_time": "2025-01-28T01:06:00.522Z"
   },
   {
    "duration": 240,
    "start_time": "2025-01-28T01:06:00.535Z"
   },
   {
    "duration": 727,
    "start_time": "2025-01-28T01:06:00.776Z"
   },
   {
    "duration": 5,
    "start_time": "2025-01-28T01:06:01.505Z"
   },
   {
    "duration": 51,
    "start_time": "2025-01-28T01:06:01.522Z"
   },
   {
    "duration": 5274,
    "start_time": "2025-01-28T01:15:49.634Z"
   },
   {
    "duration": 1276,
    "start_time": "2025-01-28T01:15:54.911Z"
   },
   {
    "duration": 67,
    "start_time": "2025-01-28T01:15:56.189Z"
   },
   {
    "duration": 8,
    "start_time": "2025-01-28T01:15:56.258Z"
   },
   {
    "duration": 20,
    "start_time": "2025-01-28T01:15:56.267Z"
   },
   {
    "duration": 288,
    "start_time": "2025-01-28T01:15:56.289Z"
   },
   {
    "duration": 717,
    "start_time": "2025-01-28T01:15:56.579Z"
   },
   {
    "duration": 6,
    "start_time": "2025-01-28T01:15:57.297Z"
   },
   {
    "duration": 31,
    "start_time": "2025-01-28T01:15:57.305Z"
   },
   {
    "duration": 5306,
    "start_time": "2025-01-28T01:18:39.604Z"
   },
   {
    "duration": 1345,
    "start_time": "2025-01-28T01:18:44.912Z"
   },
   {
    "duration": 58,
    "start_time": "2025-01-28T01:18:46.259Z"
   },
   {
    "duration": 9,
    "start_time": "2025-01-28T01:18:46.322Z"
   },
   {
    "duration": 54,
    "start_time": "2025-01-28T01:18:46.333Z"
   },
   {
    "duration": 228,
    "start_time": "2025-01-28T01:18:46.389Z"
   },
   {
    "duration": 727,
    "start_time": "2025-01-28T01:18:46.622Z"
   },
   {
    "duration": 5,
    "start_time": "2025-01-28T01:18:47.350Z"
   },
   {
    "duration": 22,
    "start_time": "2025-01-28T01:18:47.357Z"
   },
   {
    "duration": 349485,
    "start_time": "2025-01-28T01:18:47.380Z"
   },
   {
    "duration": 11,
    "start_time": "2025-01-28T01:24:36.867Z"
   },
   {
    "duration": 76,
    "start_time": "2025-01-28T01:24:36.879Z"
   },
   {
    "duration": 7,
    "start_time": "2025-01-28T01:24:36.957Z"
   },
   {
    "duration": 20,
    "start_time": "2025-01-28T01:25:10.413Z"
   },
   {
    "duration": 20,
    "start_time": "2025-01-28T01:26:03.881Z"
   },
   {
    "duration": 24,
    "start_time": "2025-01-28T01:26:19.113Z"
   },
   {
    "duration": 22,
    "start_time": "2025-01-28T01:28:26.835Z"
   },
   {
    "duration": 21,
    "start_time": "2025-01-28T01:34:37.166Z"
   },
   {
    "duration": 5348,
    "start_time": "2025-01-28T01:36:00.446Z"
   },
   {
    "duration": 1307,
    "start_time": "2025-01-28T01:36:05.796Z"
   },
   {
    "duration": 57,
    "start_time": "2025-01-28T01:36:07.105Z"
   },
   {
    "duration": 7,
    "start_time": "2025-01-28T01:36:07.164Z"
   },
   {
    "duration": 12,
    "start_time": "2025-01-28T01:36:07.173Z"
   },
   {
    "duration": 245,
    "start_time": "2025-01-28T01:36:07.186Z"
   },
   {
    "duration": 778,
    "start_time": "2025-01-28T01:36:07.433Z"
   },
   {
    "duration": 11,
    "start_time": "2025-01-28T01:36:08.213Z"
   },
   {
    "duration": 77,
    "start_time": "2025-01-28T01:36:08.226Z"
   },
   {
    "duration": 381551,
    "start_time": "2025-01-28T01:36:08.306Z"
   },
   {
    "duration": 11,
    "start_time": "2025-01-28T01:42:29.858Z"
   },
   {
    "duration": 42,
    "start_time": "2025-01-28T01:42:29.870Z"
   },
   {
    "duration": 9,
    "start_time": "2025-01-28T01:42:29.913Z"
   },
   {
    "duration": 22,
    "start_time": "2025-01-28T01:42:29.924Z"
   },
   {
    "duration": 5589,
    "start_time": "2025-01-28T01:46:27.334Z"
   },
   {
    "duration": 1369,
    "start_time": "2025-01-28T01:46:32.926Z"
   },
   {
    "duration": 60,
    "start_time": "2025-01-28T01:46:34.297Z"
   },
   {
    "duration": 9,
    "start_time": "2025-01-28T01:46:34.359Z"
   },
   {
    "duration": 29,
    "start_time": "2025-01-28T01:46:34.369Z"
   },
   {
    "duration": 240,
    "start_time": "2025-01-28T01:46:34.399Z"
   },
   {
    "duration": 758,
    "start_time": "2025-01-28T01:46:34.641Z"
   },
   {
    "duration": 6,
    "start_time": "2025-01-28T01:46:35.400Z"
   },
   {
    "duration": 36,
    "start_time": "2025-01-28T01:46:35.408Z"
   },
   {
    "duration": 316794,
    "start_time": "2025-01-28T01:46:35.446Z"
   },
   {
    "duration": 10,
    "start_time": "2025-01-28T01:51:52.242Z"
   },
   {
    "duration": 91,
    "start_time": "2025-01-28T01:51:52.253Z"
   },
   {
    "duration": 10,
    "start_time": "2025-01-28T01:51:52.346Z"
   },
   {
    "duration": 66,
    "start_time": "2025-01-28T01:51:52.358Z"
   },
   {
    "duration": 145,
    "start_time": "2025-01-28T01:54:18.184Z"
   },
   {
    "duration": 20,
    "start_time": "2025-01-28T01:54:44.203Z"
   },
   {
    "duration": 19,
    "start_time": "2025-01-28T01:54:52.004Z"
   },
   {
    "duration": 5376,
    "start_time": "2025-01-28T01:55:36.172Z"
   },
   {
    "duration": 1356,
    "start_time": "2025-01-28T01:55:41.550Z"
   },
   {
    "duration": 59,
    "start_time": "2025-01-28T01:55:42.907Z"
   },
   {
    "duration": 9,
    "start_time": "2025-01-28T01:55:42.968Z"
   },
   {
    "duration": 11,
    "start_time": "2025-01-28T01:55:42.979Z"
   },
   {
    "duration": 243,
    "start_time": "2025-01-28T01:55:42.992Z"
   },
   {
    "duration": 754,
    "start_time": "2025-01-28T01:55:43.237Z"
   },
   {
    "duration": 625,
    "start_time": "2025-01-28T01:55:43.993Z"
   },
   {
    "duration": 4,
    "start_time": "2025-01-28T01:55:44.622Z"
   },
   {
    "duration": 28,
    "start_time": "2025-01-28T01:55:44.629Z"
   },
   {
    "duration": 271886,
    "start_time": "2025-01-28T01:55:44.658Z"
   },
   {
    "duration": 10,
    "start_time": "2025-01-28T02:00:16.622Z"
   },
   {
    "duration": 63,
    "start_time": "2025-01-28T02:00:16.633Z"
   },
   {
    "duration": 27,
    "start_time": "2025-01-28T02:00:16.698Z"
   },
   {
    "duration": 33,
    "start_time": "2025-01-28T02:00:16.726Z"
   },
   {
    "duration": 154,
    "start_time": "2025-01-28T02:04:28.248Z"
   },
   {
    "duration": 5382,
    "start_time": "2025-01-28T02:05:03.204Z"
   },
   {
    "duration": 1301,
    "start_time": "2025-01-28T02:05:08.588Z"
   },
   {
    "duration": 56,
    "start_time": "2025-01-28T02:05:09.890Z"
   },
   {
    "duration": 8,
    "start_time": "2025-01-28T02:05:09.948Z"
   },
   {
    "duration": 17,
    "start_time": "2025-01-28T02:05:09.957Z"
   },
   {
    "duration": 266,
    "start_time": "2025-01-28T02:05:09.976Z"
   },
   {
    "duration": 750,
    "start_time": "2025-01-28T02:05:10.244Z"
   },
   {
    "duration": 1005,
    "start_time": "2025-01-28T02:05:10.996Z"
   },
   {
    "duration": 124,
    "start_time": "2025-01-28T02:05:12.003Z"
   },
   {
    "duration": 0,
    "start_time": "2025-01-28T02:05:12.129Z"
   },
   {
    "duration": 0,
    "start_time": "2025-01-28T02:05:12.130Z"
   },
   {
    "duration": 0,
    "start_time": "2025-01-28T02:05:12.131Z"
   },
   {
    "duration": 0,
    "start_time": "2025-01-28T02:05:12.132Z"
   },
   {
    "duration": 0,
    "start_time": "2025-01-28T02:05:12.133Z"
   },
   {
    "duration": 0,
    "start_time": "2025-01-28T02:05:12.134Z"
   },
   {
    "duration": 0,
    "start_time": "2025-01-28T02:05:12.135Z"
   },
   {
    "duration": 987,
    "start_time": "2025-01-28T02:06:19.434Z"
   },
   {
    "duration": 758,
    "start_time": "2025-01-28T02:06:40.396Z"
   },
   {
    "duration": 1095,
    "start_time": "2025-01-28T02:07:04.135Z"
   },
   {
    "duration": 568,
    "start_time": "2025-01-28T02:08:09.745Z"
   },
   {
    "duration": 8,
    "start_time": "2025-01-28T02:08:31.757Z"
   },
   {
    "duration": 678,
    "start_time": "2025-01-28T02:08:57.025Z"
   },
   {
    "duration": 968,
    "start_time": "2025-01-28T02:09:44.805Z"
   },
   {
    "duration": 84,
    "start_time": "2025-01-28T02:10:55.704Z"
   },
   {
    "duration": 257,
    "start_time": "2025-01-28T02:11:06.184Z"
   },
   {
    "duration": 82,
    "start_time": "2025-01-28T02:11:16.564Z"
   },
   {
    "duration": 1085,
    "start_time": "2025-01-28T02:11:57.354Z"
   },
   {
    "duration": 973,
    "start_time": "2025-01-28T02:12:05.306Z"
   },
   {
    "duration": 745,
    "start_time": "2025-01-28T02:13:25.394Z"
   },
   {
    "duration": 804,
    "start_time": "2025-01-28T02:13:39.801Z"
   },
   {
    "duration": 513,
    "start_time": "2025-01-28T02:16:55.634Z"
   },
   {
    "duration": 443,
    "start_time": "2025-01-28T02:17:14.247Z"
   },
   {
    "duration": 481,
    "start_time": "2025-01-28T02:17:36.284Z"
   },
   {
    "duration": 466,
    "start_time": "2025-01-28T02:17:49.087Z"
   },
   {
    "duration": 493,
    "start_time": "2025-01-28T02:18:12.454Z"
   },
   {
    "duration": 18,
    "start_time": "2025-01-28T02:22:40.414Z"
   },
   {
    "duration": 571,
    "start_time": "2025-01-28T02:23:18.674Z"
   },
   {
    "duration": 440,
    "start_time": "2025-01-28T02:23:36.866Z"
   },
   {
    "duration": 814,
    "start_time": "2025-01-28T02:31:15.444Z"
   },
   {
    "duration": 5338,
    "start_time": "2025-01-28T02:44:38.022Z"
   },
   {
    "duration": 1241,
    "start_time": "2025-01-28T02:44:43.362Z"
   },
   {
    "duration": 56,
    "start_time": "2025-01-28T02:44:44.604Z"
   },
   {
    "duration": 8,
    "start_time": "2025-01-28T02:44:44.661Z"
   },
   {
    "duration": 9,
    "start_time": "2025-01-28T02:44:44.671Z"
   },
   {
    "duration": 242,
    "start_time": "2025-01-28T02:44:44.681Z"
   },
   {
    "duration": 752,
    "start_time": "2025-01-28T02:44:44.924Z"
   },
   {
    "duration": 579,
    "start_time": "2025-01-28T02:44:45.677Z"
   },
   {
    "duration": 5,
    "start_time": "2025-01-28T02:44:46.257Z"
   },
   {
    "duration": 31,
    "start_time": "2025-01-28T02:44:46.264Z"
   },
   {
    "duration": 273448,
    "start_time": "2025-01-28T02:44:46.296Z"
   },
   {
    "duration": 79,
    "start_time": "2025-01-28T02:49:19.745Z"
   },
   {
    "duration": 114,
    "start_time": "2025-01-28T02:49:19.826Z"
   },
   {
    "duration": 11,
    "start_time": "2025-01-28T02:49:19.944Z"
   },
   {
    "duration": 76,
    "start_time": "2025-01-28T02:49:19.956Z"
   },
   {
    "duration": 0,
    "start_time": "2025-01-28T03:11:55.879Z"
   },
   {
    "duration": 0,
    "start_time": "2025-01-28T03:11:55.880Z"
   },
   {
    "duration": 0,
    "start_time": "2025-01-28T03:11:55.881Z"
   },
   {
    "duration": 0,
    "start_time": "2025-01-28T03:11:55.882Z"
   },
   {
    "duration": 0,
    "start_time": "2025-01-28T03:11:55.883Z"
   },
   {
    "duration": 0,
    "start_time": "2025-01-28T03:11:55.884Z"
   },
   {
    "duration": 0,
    "start_time": "2025-01-28T03:11:55.885Z"
   },
   {
    "duration": 0,
    "start_time": "2025-01-28T03:11:55.886Z"
   },
   {
    "duration": 0,
    "start_time": "2025-01-28T03:11:55.888Z"
   },
   {
    "duration": 0,
    "start_time": "2025-01-28T03:11:55.889Z"
   },
   {
    "duration": 0,
    "start_time": "2025-01-28T03:11:55.890Z"
   },
   {
    "duration": 0,
    "start_time": "2025-01-28T03:11:55.892Z"
   },
   {
    "duration": 0,
    "start_time": "2025-01-28T03:11:55.893Z"
   },
   {
    "duration": 5285,
    "start_time": "2025-01-28T03:23:51.541Z"
   },
   {
    "duration": 1345,
    "start_time": "2025-01-28T03:23:56.829Z"
   },
   {
    "duration": 61,
    "start_time": "2025-01-28T03:23:58.176Z"
   },
   {
    "duration": 9,
    "start_time": "2025-01-28T03:23:58.238Z"
   },
   {
    "duration": 12,
    "start_time": "2025-01-28T03:23:58.250Z"
   },
   {
    "duration": 259,
    "start_time": "2025-01-28T03:23:58.264Z"
   },
   {
    "duration": 756,
    "start_time": "2025-01-28T03:23:58.525Z"
   },
   {
    "duration": 564,
    "start_time": "2025-01-28T03:23:59.282Z"
   },
   {
    "duration": 5,
    "start_time": "2025-01-28T03:23:59.848Z"
   },
   {
    "duration": 43,
    "start_time": "2025-01-28T03:23:59.854Z"
   },
   {
    "duration": 135,
    "start_time": "2025-01-28T03:23:59.898Z"
   },
   {
    "duration": 0,
    "start_time": "2025-01-28T03:24:00.035Z"
   },
   {
    "duration": 0,
    "start_time": "2025-01-28T03:24:00.036Z"
   },
   {
    "duration": 19,
    "start_time": "2025-01-28T03:25:26.959Z"
   },
   {
    "duration": 20,
    "start_time": "2025-01-28T03:26:51.960Z"
   },
   {
    "duration": 7,
    "start_time": "2025-01-28T03:27:34.553Z"
   },
   {
    "duration": 19,
    "start_time": "2025-01-28T03:27:57.392Z"
   },
   {
    "duration": 17,
    "start_time": "2025-01-28T03:28:20.672Z"
   },
   {
    "duration": 5276,
    "start_time": "2025-01-28T03:29:05.682Z"
   },
   {
    "duration": 1224,
    "start_time": "2025-01-28T03:29:10.960Z"
   },
   {
    "duration": 56,
    "start_time": "2025-01-28T03:29:12.186Z"
   },
   {
    "duration": 9,
    "start_time": "2025-01-28T03:29:12.243Z"
   },
   {
    "duration": 8,
    "start_time": "2025-01-28T03:29:12.254Z"
   },
   {
    "duration": 265,
    "start_time": "2025-01-28T03:29:12.264Z"
   },
   {
    "duration": 768,
    "start_time": "2025-01-28T03:29:12.531Z"
   },
   {
    "duration": 581,
    "start_time": "2025-01-28T03:29:13.301Z"
   },
   {
    "duration": 5,
    "start_time": "2025-01-28T03:29:13.883Z"
   },
   {
    "duration": 38,
    "start_time": "2025-01-28T03:29:13.889Z"
   },
   {
    "duration": 135,
    "start_time": "2025-01-28T03:29:13.929Z"
   },
   {
    "duration": 0,
    "start_time": "2025-01-28T03:29:14.065Z"
   },
   {
    "duration": 0,
    "start_time": "2025-01-28T03:29:14.067Z"
   },
   {
    "duration": 19,
    "start_time": "2025-01-28T03:31:06.738Z"
   },
   {
    "duration": 18,
    "start_time": "2025-01-28T03:31:22.170Z"
   },
   {
    "duration": 82,
    "start_time": "2025-01-28T03:31:53.172Z"
   },
   {
    "duration": 17,
    "start_time": "2025-01-28T03:31:59.910Z"
   },
   {
    "duration": 20,
    "start_time": "2025-01-28T03:32:10.888Z"
   },
   {
    "duration": 21,
    "start_time": "2025-01-28T03:34:51.951Z"
   },
   {
    "duration": 21,
    "start_time": "2025-01-28T03:35:02.751Z"
   },
   {
    "duration": 5335,
    "start_time": "2025-01-28T03:40:17.083Z"
   },
   {
    "duration": 7,
    "start_time": "2025-01-28T03:40:22.422Z"
   },
   {
    "duration": 81,
    "start_time": "2025-01-28T03:40:22.431Z"
   },
   {
    "duration": 7,
    "start_time": "2025-01-28T03:40:22.514Z"
   },
   {
    "duration": 101,
    "start_time": "2025-01-28T03:40:22.523Z"
   },
   {
    "duration": 234,
    "start_time": "2025-01-28T03:40:22.625Z"
   },
   {
    "duration": 780,
    "start_time": "2025-01-28T03:40:22.861Z"
   },
   {
    "duration": 545,
    "start_time": "2025-01-28T03:40:23.642Z"
   },
   {
    "duration": 4,
    "start_time": "2025-01-28T03:40:24.189Z"
   },
   {
    "duration": 37,
    "start_time": "2025-01-28T03:40:24.195Z"
   },
   {
    "duration": 329991,
    "start_time": "2025-01-28T03:40:24.234Z"
   },
   {
    "duration": 11,
    "start_time": "2025-01-28T03:45:54.226Z"
   },
   {
    "duration": 9,
    "start_time": "2025-01-28T03:45:54.238Z"
   },
   {
    "duration": 9418,
    "start_time": "2025-01-28T06:52:51.230Z"
   },
   {
    "duration": 1595,
    "start_time": "2025-01-28T06:53:00.650Z"
   },
   {
    "duration": 64,
    "start_time": "2025-01-28T06:53:02.247Z"
   },
   {
    "duration": 9,
    "start_time": "2025-01-28T06:53:02.314Z"
   },
   {
    "duration": 56,
    "start_time": "2025-01-28T06:53:02.325Z"
   },
   {
    "duration": 237,
    "start_time": "2025-01-28T06:53:02.383Z"
   },
   {
    "duration": 834,
    "start_time": "2025-01-28T06:53:02.622Z"
   },
   {
    "duration": 617,
    "start_time": "2025-01-28T06:53:03.458Z"
   },
   {
    "duration": 5,
    "start_time": "2025-01-28T06:53:04.077Z"
   },
   {
    "duration": 11,
    "start_time": "2025-01-28T06:53:27.386Z"
   },
   {
    "duration": 28,
    "start_time": "2025-01-28T06:56:01.675Z"
   },
   {
    "duration": 20,
    "start_time": "2025-01-28T06:56:10.175Z"
   },
   {
    "duration": 50,
    "start_time": "2025-01-28T10:20:07.925Z"
   },
   {
    "duration": 6,
    "start_time": "2025-01-28T10:34:34.853Z"
   },
   {
    "duration": 9423,
    "start_time": "2025-01-28T10:35:23.075Z"
   },
   {
    "duration": 1534,
    "start_time": "2025-01-28T10:35:32.501Z"
   },
   {
    "duration": 170,
    "start_time": "2025-01-28T10:35:34.037Z"
   },
   {
    "duration": 9,
    "start_time": "2025-01-28T10:35:34.210Z"
   },
   {
    "duration": 36,
    "start_time": "2025-01-28T10:35:34.221Z"
   },
   {
    "duration": 222,
    "start_time": "2025-01-28T10:35:34.258Z"
   },
   {
    "duration": 761,
    "start_time": "2025-01-28T10:35:34.481Z"
   },
   {
    "duration": 582,
    "start_time": "2025-01-28T10:35:35.244Z"
   },
   {
    "duration": 5,
    "start_time": "2025-01-28T10:35:35.828Z"
   },
   {
    "duration": 49,
    "start_time": "2025-01-28T10:35:35.834Z"
   },
   {
    "duration": 483042,
    "start_time": "2025-01-28T10:35:35.885Z"
   },
   {
    "duration": 13,
    "start_time": "2025-01-28T10:43:38.928Z"
   },
   {
    "duration": 18,
    "start_time": "2025-01-28T10:43:38.943Z"
   },
   {
    "duration": 49,
    "start_time": "2025-01-28T10:43:38.964Z"
   },
   {
    "duration": 12,
    "start_time": "2025-01-28T10:53:23.730Z"
   },
   {
    "duration": 12,
    "start_time": "2025-01-28T10:53:51.271Z"
   },
   {
    "duration": 39,
    "start_time": "2025-01-28T11:34:00.994Z"
   },
   {
    "duration": 21,
    "start_time": "2025-01-28T11:58:15.552Z"
   },
   {
    "duration": 450,
    "start_time": "2025-01-28T11:59:45.443Z"
   },
   {
    "duration": 3,
    "start_time": "2025-01-28T12:00:12.037Z"
   },
   {
    "duration": 4,
    "start_time": "2025-01-28T12:00:28.763Z"
   },
   {
    "duration": 4,
    "start_time": "2025-01-28T12:00:31.910Z"
   },
   {
    "duration": 558,
    "start_time": "2025-01-28T12:00:42.479Z"
   },
   {
    "duration": 6,
    "start_time": "2025-01-28T12:01:46.006Z"
   },
   {
    "duration": 544,
    "start_time": "2025-01-28T12:02:15.456Z"
   },
   {
    "duration": 579,
    "start_time": "2025-01-28T12:02:21.148Z"
   },
   {
    "duration": 307,
    "start_time": "2025-01-28T12:04:41.136Z"
   },
   {
    "duration": 328,
    "start_time": "2025-01-28T12:04:55.584Z"
   },
   {
    "duration": 296,
    "start_time": "2025-01-28T12:05:09.617Z"
   },
   {
    "duration": 267,
    "start_time": "2025-01-28T12:05:35.256Z"
   },
   {
    "duration": 84,
    "start_time": "2025-01-28T12:07:14.273Z"
   },
   {
    "duration": 40,
    "start_time": "2025-01-28T12:07:21.544Z"
   },
   {
    "duration": 114,
    "start_time": "2025-01-28T12:08:52.187Z"
   },
   {
    "duration": 47,
    "start_time": "2025-01-28T12:09:16.692Z"
   },
   {
    "duration": 64,
    "start_time": "2025-01-28T12:09:30.738Z"
   },
   {
    "duration": 290,
    "start_time": "2025-01-28T12:18:47.765Z"
   },
   {
    "duration": 196,
    "start_time": "2025-01-28T12:20:45.478Z"
   },
   {
    "duration": 6,
    "start_time": "2025-01-28T12:21:03.578Z"
   },
   {
    "duration": 8,
    "start_time": "2025-01-28T12:21:15.378Z"
   },
   {
    "duration": 8,
    "start_time": "2025-01-28T12:22:00.542Z"
   },
   {
    "duration": 8,
    "start_time": "2025-01-28T12:22:38.442Z"
   },
   {
    "duration": 301,
    "start_time": "2025-01-28T12:22:50.770Z"
   },
   {
    "duration": 5321,
    "start_time": "2025-01-28T12:43:08.750Z"
   },
   {
    "duration": 1351,
    "start_time": "2025-01-28T12:43:14.073Z"
   },
   {
    "duration": 72,
    "start_time": "2025-01-28T12:43:15.426Z"
   },
   {
    "duration": 9,
    "start_time": "2025-01-28T12:43:15.499Z"
   },
   {
    "duration": 11,
    "start_time": "2025-01-28T12:43:15.510Z"
   },
   {
    "duration": 247,
    "start_time": "2025-01-28T12:43:15.523Z"
   },
   {
    "duration": 728,
    "start_time": "2025-01-28T12:43:15.772Z"
   },
   {
    "duration": 590,
    "start_time": "2025-01-28T12:43:16.503Z"
   },
   {
    "duration": 17,
    "start_time": "2025-01-28T12:43:17.095Z"
   },
   {
    "duration": 23,
    "start_time": "2025-01-28T12:43:17.114Z"
   },
   {
    "duration": 303,
    "start_time": "2025-01-28T12:43:17.138Z"
   },
   {
    "duration": 8,
    "start_time": "2025-01-28T12:43:17.443Z"
   },
   {
    "duration": 285,
    "start_time": "2025-01-28T12:43:17.452Z"
   },
   {
    "duration": 250186,
    "start_time": "2025-01-28T12:43:17.740Z"
   },
   {
    "duration": 10,
    "start_time": "2025-01-28T12:47:27.928Z"
   },
   {
    "duration": 83,
    "start_time": "2025-01-28T12:47:27.940Z"
   },
   {
    "duration": 13,
    "start_time": "2025-01-28T12:47:28.024Z"
   },
   {
    "duration": 94,
    "start_time": "2025-01-28T13:02:41.099Z"
   },
   {
    "duration": 17,
    "start_time": "2025-01-28T13:39:54.212Z"
   },
   {
    "duration": 79,
    "start_time": "2025-01-28T13:40:58.436Z"
   },
   {
    "duration": 1869,
    "start_time": "2025-01-28T13:41:05.142Z"
   },
   {
    "duration": 2270,
    "start_time": "2025-01-28T13:41:34.139Z"
   },
   {
    "duration": 121,
    "start_time": "2025-01-28T13:42:19.917Z"
   },
   {
    "duration": 10,
    "start_time": "2025-01-28T13:42:54.566Z"
   },
   {
    "duration": 132,
    "start_time": "2025-01-28T13:44:02.987Z"
   },
   {
    "duration": 6,
    "start_time": "2025-01-28T13:44:25.442Z"
   },
   {
    "duration": 7,
    "start_time": "2025-01-28T13:44:39.900Z"
   },
   {
    "duration": 7,
    "start_time": "2025-01-28T13:45:11.903Z"
   },
   {
    "duration": 18,
    "start_time": "2025-01-28T13:45:20.865Z"
   },
   {
    "duration": 7,
    "start_time": "2025-01-28T13:45:30.466Z"
   },
   {
    "duration": 2180,
    "start_time": "2025-01-28T13:45:40.231Z"
   },
   {
    "duration": 811,
    "start_time": "2025-01-28T13:45:59.402Z"
   },
   {
    "duration": 7,
    "start_time": "2025-01-28T13:47:16.804Z"
   },
   {
    "duration": 1635,
    "start_time": "2025-01-28T13:47:52.986Z"
   },
   {
    "duration": 17,
    "start_time": "2025-01-28T13:56:50.931Z"
   },
   {
    "duration": 5658,
    "start_time": "2025-01-28T14:03:49.496Z"
   },
   {
    "duration": 1290,
    "start_time": "2025-01-28T14:03:55.156Z"
   },
   {
    "duration": 58,
    "start_time": "2025-01-28T14:03:56.448Z"
   },
   {
    "duration": 8,
    "start_time": "2025-01-28T14:03:56.509Z"
   },
   {
    "duration": 10,
    "start_time": "2025-01-28T14:03:56.519Z"
   },
   {
    "duration": 242,
    "start_time": "2025-01-28T14:03:56.530Z"
   },
   {
    "duration": 729,
    "start_time": "2025-01-28T14:03:56.774Z"
   },
   {
    "duration": 571,
    "start_time": "2025-01-28T14:03:57.504Z"
   },
   {
    "duration": 4,
    "start_time": "2025-01-28T14:03:58.077Z"
   },
   {
    "duration": 33,
    "start_time": "2025-01-28T14:03:58.083Z"
   },
   {
    "duration": 320,
    "start_time": "2025-01-28T14:03:58.117Z"
   },
   {
    "duration": 8,
    "start_time": "2025-01-28T14:03:58.438Z"
   },
   {
    "duration": 308,
    "start_time": "2025-01-28T14:03:58.448Z"
   },
   {
    "duration": 6,
    "start_time": "2025-01-28T14:03:58.759Z"
   },
   {
    "duration": 1749,
    "start_time": "2025-01-28T14:03:58.766Z"
   },
   {
    "duration": 199,
    "start_time": "2025-01-28T14:04:00.518Z"
   },
   {
    "duration": 797,
    "start_time": "2025-01-28T14:04:00.718Z"
   },
   {
    "duration": 566311,
    "start_time": "2025-01-28T14:04:01.517Z"
   },
   {
    "duration": 12,
    "start_time": "2025-01-28T14:13:27.829Z"
   },
   {
    "duration": 133,
    "start_time": "2025-01-28T14:13:27.842Z"
   },
   {
    "duration": 36,
    "start_time": "2025-01-28T14:13:27.977Z"
   },
   {
    "duration": 14,
    "start_time": "2025-01-28T14:17:41.807Z"
   },
   {
    "duration": 5452,
    "start_time": "2025-01-28T14:18:59.513Z"
   },
   {
    "duration": 1361,
    "start_time": "2025-01-28T14:19:04.968Z"
   },
   {
    "duration": 59,
    "start_time": "2025-01-28T14:19:06.331Z"
   },
   {
    "duration": 15,
    "start_time": "2025-01-28T14:19:06.392Z"
   },
   {
    "duration": 32,
    "start_time": "2025-01-28T14:19:06.409Z"
   },
   {
    "duration": 245,
    "start_time": "2025-01-28T14:19:06.443Z"
   },
   {
    "duration": 800,
    "start_time": "2025-01-28T14:19:06.689Z"
   },
   {
    "duration": 583,
    "start_time": "2025-01-28T14:19:07.491Z"
   },
   {
    "duration": 7,
    "start_time": "2025-01-28T14:19:08.076Z"
   },
   {
    "duration": 41,
    "start_time": "2025-01-28T14:19:08.085Z"
   },
   {
    "duration": 29,
    "start_time": "2025-01-28T14:19:08.128Z"
   },
   {
    "duration": 336,
    "start_time": "2025-01-28T14:19:08.159Z"
   },
   {
    "duration": 13,
    "start_time": "2025-01-28T14:19:08.497Z"
   },
   {
    "duration": 352,
    "start_time": "2025-01-28T14:19:08.511Z"
   },
   {
    "duration": 11,
    "start_time": "2025-01-28T14:19:08.865Z"
   },
   {
    "duration": 2235,
    "start_time": "2025-01-28T14:19:08.878Z"
   },
   {
    "duration": 105,
    "start_time": "2025-01-28T14:19:11.119Z"
   },
   {
    "duration": 790,
    "start_time": "2025-01-28T14:19:11.226Z"
   },
   {
    "duration": 339309,
    "start_time": "2025-01-28T14:19:12.018Z"
   },
   {
    "duration": 11,
    "start_time": "2025-01-28T14:24:51.329Z"
   },
   {
    "duration": 91,
    "start_time": "2025-01-28T14:24:51.342Z"
   },
   {
    "duration": 9,
    "start_time": "2025-01-28T14:24:51.435Z"
   },
   {
    "duration": 5738,
    "start_time": "2025-01-28T14:42:36.429Z"
   },
   {
    "duration": 1264,
    "start_time": "2025-01-28T14:42:42.169Z"
   },
   {
    "duration": 59,
    "start_time": "2025-01-28T14:42:43.435Z"
   },
   {
    "duration": 16,
    "start_time": "2025-01-28T14:42:43.496Z"
   },
   {
    "duration": 11,
    "start_time": "2025-01-28T14:42:43.513Z"
   },
   {
    "duration": 250,
    "start_time": "2025-01-28T14:42:43.526Z"
   },
   {
    "duration": 731,
    "start_time": "2025-01-28T14:42:43.778Z"
   },
   {
    "duration": 578,
    "start_time": "2025-01-28T14:42:44.511Z"
   },
   {
    "duration": 18,
    "start_time": "2025-01-28T14:42:45.091Z"
   },
   {
    "duration": 25,
    "start_time": "2025-01-28T14:42:45.113Z"
   },
   {
    "duration": 21,
    "start_time": "2025-01-28T14:42:45.140Z"
   },
   {
    "duration": 363,
    "start_time": "2025-01-28T14:42:45.163Z"
   },
   {
    "duration": 9,
    "start_time": "2025-01-28T14:42:45.528Z"
   },
   {
    "duration": 309,
    "start_time": "2025-01-28T14:42:45.539Z"
   },
   {
    "duration": 6,
    "start_time": "2025-01-28T14:42:45.850Z"
   },
   {
    "duration": 1856,
    "start_time": "2025-01-28T14:42:45.858Z"
   },
   {
    "duration": 203,
    "start_time": "2025-01-28T14:42:47.716Z"
   },
   {
    "duration": 890,
    "start_time": "2025-01-28T14:42:47.921Z"
   },
   {
    "duration": 3870311,
    "start_time": "2025-01-28T14:42:48.822Z"
   },
   {
    "duration": 12,
    "start_time": "2025-01-28T15:47:19.135Z"
   },
   {
    "duration": 107,
    "start_time": "2025-01-28T15:47:19.148Z"
   },
   {
    "duration": 16,
    "start_time": "2025-01-28T15:47:19.257Z"
   },
   {
    "duration": 38,
    "start_time": "2025-01-28T15:52:56.504Z"
   },
   {
    "duration": 4,
    "start_time": "2025-01-28T16:03:45.126Z"
   },
   {
    "duration": 19,
    "start_time": "2025-01-28T16:08:04.709Z"
   },
   {
    "duration": 22,
    "start_time": "2025-01-28T16:19:37.308Z"
   },
   {
    "duration": 22,
    "start_time": "2025-01-28T16:19:40.832Z"
   },
   {
    "duration": 7306,
    "start_time": "2025-01-28T16:21:46.195Z"
   },
   {
    "duration": 1289,
    "start_time": "2025-01-28T16:21:53.504Z"
   },
   {
    "duration": 68,
    "start_time": "2025-01-28T16:21:54.794Z"
   },
   {
    "duration": 8,
    "start_time": "2025-01-28T16:21:54.864Z"
   },
   {
    "duration": 13,
    "start_time": "2025-01-28T16:21:54.874Z"
   },
   {
    "duration": 232,
    "start_time": "2025-01-28T16:21:54.889Z"
   },
   {
    "duration": 769,
    "start_time": "2025-01-28T16:21:55.123Z"
   },
   {
    "duration": 574,
    "start_time": "2025-01-28T16:21:55.894Z"
   },
   {
    "duration": 6,
    "start_time": "2025-01-28T16:21:56.470Z"
   },
   {
    "duration": 49,
    "start_time": "2025-01-28T16:21:56.478Z"
   },
   {
    "duration": 20,
    "start_time": "2025-01-28T16:21:56.528Z"
   },
   {
    "duration": 304,
    "start_time": "2025-01-28T16:21:56.551Z"
   },
   {
    "duration": 9,
    "start_time": "2025-01-28T16:21:56.857Z"
   },
   {
    "duration": 341,
    "start_time": "2025-01-28T16:21:56.868Z"
   },
   {
    "duration": 5,
    "start_time": "2025-01-28T16:21:57.211Z"
   },
   {
    "duration": 1702,
    "start_time": "2025-01-28T16:21:57.218Z"
   },
   {
    "duration": 111,
    "start_time": "2025-01-28T16:21:59.011Z"
   },
   {
    "duration": 787,
    "start_time": "2025-01-28T16:21:59.123Z"
   },
   {
    "duration": 442220,
    "start_time": "2025-01-28T16:21:59.912Z"
   },
   {
    "duration": 76,
    "start_time": "2025-01-28T16:29:22.134Z"
   },
   {
    "duration": 107,
    "start_time": "2025-01-28T16:29:22.212Z"
   },
   {
    "duration": 16,
    "start_time": "2025-01-28T16:29:22.321Z"
   },
   {
    "duration": 76,
    "start_time": "2025-01-28T16:29:22.339Z"
   },
   {
    "duration": 5318,
    "start_time": "2025-01-28T16:38:16.636Z"
   },
   {
    "duration": 1357,
    "start_time": "2025-01-28T16:38:21.957Z"
   },
   {
    "duration": 59,
    "start_time": "2025-01-28T16:38:23.316Z"
   },
   {
    "duration": 9,
    "start_time": "2025-01-28T16:38:23.377Z"
   },
   {
    "duration": 23,
    "start_time": "2025-01-28T16:38:23.388Z"
   },
   {
    "duration": 235,
    "start_time": "2025-01-28T16:38:23.413Z"
   },
   {
    "duration": 732,
    "start_time": "2025-01-28T16:38:23.650Z"
   },
   {
    "duration": 579,
    "start_time": "2025-01-28T16:38:24.384Z"
   },
   {
    "duration": 6,
    "start_time": "2025-01-28T16:38:24.965Z"
   },
   {
    "duration": 40,
    "start_time": "2025-01-28T16:38:24.973Z"
   },
   {
    "duration": 16,
    "start_time": "2025-01-28T16:38:25.016Z"
   },
   {
    "duration": 312,
    "start_time": "2025-01-28T16:38:25.034Z"
   },
   {
    "duration": 9,
    "start_time": "2025-01-28T16:38:25.347Z"
   },
   {
    "duration": 301,
    "start_time": "2025-01-28T16:38:25.358Z"
   },
   {
    "duration": 7,
    "start_time": "2025-01-28T16:38:25.660Z"
   },
   {
    "duration": 1748,
    "start_time": "2025-01-28T16:38:25.669Z"
   },
   {
    "duration": 193,
    "start_time": "2025-01-28T16:38:27.419Z"
   },
   {
    "duration": 696,
    "start_time": "2025-01-28T16:38:27.613Z"
   },
   {
    "duration": 255403,
    "start_time": "2025-01-28T16:38:28.312Z"
   },
   {
    "duration": 12,
    "start_time": "2025-01-28T16:42:43.716Z"
   },
   {
    "duration": 101,
    "start_time": "2025-01-28T16:42:43.729Z"
   },
   {
    "duration": 8,
    "start_time": "2025-01-28T16:42:43.832Z"
   },
   {
    "duration": 16,
    "start_time": "2025-01-28T16:42:43.842Z"
   },
   {
    "duration": 5255,
    "start_time": "2025-01-28T16:48:53.345Z"
   },
   {
    "duration": 1339,
    "start_time": "2025-01-28T16:48:58.602Z"
   },
   {
    "duration": 55,
    "start_time": "2025-01-28T16:48:59.942Z"
   },
   {
    "duration": 12,
    "start_time": "2025-01-28T16:48:59.999Z"
   },
   {
    "duration": 94,
    "start_time": "2025-01-28T16:49:00.012Z"
   },
   {
    "duration": 242,
    "start_time": "2025-01-28T16:49:00.108Z"
   },
   {
    "duration": 751,
    "start_time": "2025-01-28T16:49:00.351Z"
   },
   {
    "duration": 571,
    "start_time": "2025-01-28T16:49:01.104Z"
   },
   {
    "duration": 5,
    "start_time": "2025-01-28T16:49:01.677Z"
   },
   {
    "duration": 44,
    "start_time": "2025-01-28T16:49:01.684Z"
   },
   {
    "duration": 19,
    "start_time": "2025-01-28T16:49:01.730Z"
   },
   {
    "duration": 320,
    "start_time": "2025-01-28T16:49:01.751Z"
   },
   {
    "duration": 9,
    "start_time": "2025-01-28T16:49:02.073Z"
   },
   {
    "duration": 380,
    "start_time": "2025-01-28T16:49:02.084Z"
   },
   {
    "duration": 6,
    "start_time": "2025-01-28T16:49:02.466Z"
   },
   {
    "duration": 2045,
    "start_time": "2025-01-28T16:49:02.474Z"
   },
   {
    "duration": 105,
    "start_time": "2025-01-28T16:49:04.612Z"
   },
   {
    "duration": 802,
    "start_time": "2025-01-28T16:49:04.718Z"
   },
   {
    "duration": 194912,
    "start_time": "2025-01-28T16:49:05.612Z"
   },
   {
    "duration": 9,
    "start_time": "2025-01-28T16:52:20.526Z"
   },
   {
    "duration": 101,
    "start_time": "2025-01-28T16:52:20.536Z"
   },
   {
    "duration": 11,
    "start_time": "2025-01-28T16:52:20.639Z"
   },
   {
    "duration": 63,
    "start_time": "2025-01-28T16:52:20.652Z"
   },
   {
    "duration": 4,
    "start_time": "2025-01-28T17:09:30.296Z"
   },
   {
    "duration": 1994,
    "start_time": "2025-01-28T17:10:41.220Z"
   },
   {
    "duration": 361,
    "start_time": "2025-01-28T17:14:34.529Z"
   },
   {
    "duration": 353,
    "start_time": "2025-01-28T17:15:12.003Z"
   },
   {
    "duration": 356,
    "start_time": "2025-01-28T17:15:52.805Z"
   },
   {
    "duration": 5511,
    "start_time": "2025-01-28T17:17:30.148Z"
   },
   {
    "duration": 1339,
    "start_time": "2025-01-28T17:17:35.661Z"
   },
   {
    "duration": 76,
    "start_time": "2025-01-28T17:17:37.002Z"
   },
   {
    "duration": 9,
    "start_time": "2025-01-28T17:17:37.080Z"
   },
   {
    "duration": 11,
    "start_time": "2025-01-28T17:17:37.091Z"
   },
   {
    "duration": 234,
    "start_time": "2025-01-28T17:17:37.104Z"
   },
   {
    "duration": 752,
    "start_time": "2025-01-28T17:17:37.340Z"
   },
   {
    "duration": 575,
    "start_time": "2025-01-28T17:17:38.094Z"
   },
   {
    "duration": 6,
    "start_time": "2025-01-28T17:17:38.671Z"
   },
   {
    "duration": 39,
    "start_time": "2025-01-28T17:17:38.679Z"
   },
   {
    "duration": 16,
    "start_time": "2025-01-28T17:17:38.719Z"
   },
   {
    "duration": 292,
    "start_time": "2025-01-28T17:17:38.737Z"
   },
   {
    "duration": 309,
    "start_time": "2025-01-28T17:17:39.031Z"
   },
   {
    "duration": 294,
    "start_time": "2025-01-28T17:17:39.343Z"
   },
   {
    "duration": 1879,
    "start_time": "2025-01-28T17:17:39.640Z"
   },
   {
    "duration": 98,
    "start_time": "2025-01-28T17:17:41.611Z"
   },
   {
    "duration": 198620,
    "start_time": "2025-01-28T17:17:41.711Z"
   },
   {
    "duration": 11,
    "start_time": "2025-01-28T17:21:00.332Z"
   },
   {
    "duration": 148,
    "start_time": "2025-01-28T17:21:00.344Z"
   },
   {
    "duration": 23,
    "start_time": "2025-01-28T17:21:00.494Z"
   },
   {
    "duration": 22,
    "start_time": "2025-01-28T17:21:00.518Z"
   },
   {
    "duration": 5556,
    "start_time": "2025-01-28T17:27:31.156Z"
   },
   {
    "duration": 1292,
    "start_time": "2025-01-28T17:27:36.714Z"
   },
   {
    "duration": 70,
    "start_time": "2025-01-28T17:27:38.009Z"
   },
   {
    "duration": 7,
    "start_time": "2025-01-28T17:27:38.081Z"
   },
   {
    "duration": 35,
    "start_time": "2025-01-28T17:27:38.090Z"
   },
   {
    "duration": 235,
    "start_time": "2025-01-28T17:27:38.126Z"
   },
   {
    "duration": 761,
    "start_time": "2025-01-28T17:27:38.363Z"
   },
   {
    "duration": 562,
    "start_time": "2025-01-28T17:27:39.126Z"
   },
   {
    "duration": 4,
    "start_time": "2025-01-28T17:27:39.690Z"
   },
   {
    "duration": 22,
    "start_time": "2025-01-28T17:27:39.709Z"
   },
   {
    "duration": 16,
    "start_time": "2025-01-28T17:27:39.732Z"
   },
   {
    "duration": 260,
    "start_time": "2025-01-28T17:27:39.749Z"
   },
   {
    "duration": 321,
    "start_time": "2025-01-28T17:27:40.011Z"
   },
   {
    "duration": 304,
    "start_time": "2025-01-28T17:27:40.334Z"
   },
   {
    "duration": 2073,
    "start_time": "2025-01-28T17:27:40.640Z"
   },
   {
    "duration": 96,
    "start_time": "2025-01-28T17:27:42.716Z"
   },
   {
    "duration": 193315,
    "start_time": "2025-01-28T17:27:42.816Z"
   },
   {
    "duration": 10,
    "start_time": "2025-01-28T17:30:56.133Z"
   },
   {
    "duration": 145,
    "start_time": "2025-01-28T17:30:56.145Z"
   },
   {
    "duration": 23,
    "start_time": "2025-01-28T17:30:56.291Z"
   },
   {
    "duration": 16,
    "start_time": "2025-01-28T17:30:56.315Z"
   },
   {
    "duration": 5304,
    "start_time": "2025-01-28T18:08:32.800Z"
   },
   {
    "duration": 1294,
    "start_time": "2025-01-28T18:08:38.106Z"
   },
   {
    "duration": 61,
    "start_time": "2025-01-28T18:08:39.402Z"
   },
   {
    "duration": 7,
    "start_time": "2025-01-28T18:08:39.465Z"
   },
   {
    "duration": 10,
    "start_time": "2025-01-28T18:08:39.474Z"
   },
   {
    "duration": 228,
    "start_time": "2025-01-28T18:08:39.485Z"
   },
   {
    "duration": 716,
    "start_time": "2025-01-28T18:08:39.715Z"
   },
   {
    "duration": 560,
    "start_time": "2025-01-28T18:08:40.433Z"
   },
   {
    "duration": 15,
    "start_time": "2025-01-28T18:08:40.995Z"
   },
   {
    "duration": 24,
    "start_time": "2025-01-28T18:08:41.011Z"
   },
   {
    "duration": 15,
    "start_time": "2025-01-28T18:08:41.036Z"
   },
   {
    "duration": 253,
    "start_time": "2025-01-28T18:08:41.052Z"
   },
   {
    "duration": 320,
    "start_time": "2025-01-28T18:08:41.308Z"
   },
   {
    "duration": 313,
    "start_time": "2025-01-28T18:08:41.630Z"
   },
   {
    "duration": 2066,
    "start_time": "2025-01-28T18:08:41.944Z"
   },
   {
    "duration": 96,
    "start_time": "2025-01-28T18:08:44.013Z"
   },
   {
    "duration": 179559,
    "start_time": "2025-01-28T18:08:44.111Z"
   },
   {
    "duration": 11,
    "start_time": "2025-01-28T18:11:43.672Z"
   },
   {
    "duration": 137,
    "start_time": "2025-01-28T18:11:43.684Z"
   },
   {
    "duration": 6,
    "start_time": "2025-01-28T18:11:43.823Z"
   },
   {
    "duration": 19,
    "start_time": "2025-01-28T18:11:43.831Z"
   },
   {
    "duration": 1529,
    "start_time": "2025-01-28T18:36:25.184Z"
   },
   {
    "duration": 2092,
    "start_time": "2025-01-28T18:45:04.424Z"
   },
   {
    "duration": 7,
    "start_time": "2025-01-28T20:39:57.216Z"
   },
   {
    "duration": 8,
    "start_time": "2025-01-28T20:40:01.251Z"
   }
  ],
  "kernelspec": {
   "display_name": "Python 3 (ipykernel)",
   "language": "python",
   "name": "python3"
  },
  "language_info": {
   "codemirror_mode": {
    "name": "ipython",
    "version": 3
   },
   "file_extension": ".py",
   "mimetype": "text/x-python",
   "name": "python",
   "nbconvert_exporter": "python",
   "pygments_lexer": "ipython3",
   "version": "3.9.19"
  },
  "toc": {
   "base_numbering": 1,
   "nav_menu": {},
   "number_sections": true,
   "sideBar": true,
   "skip_h1_title": true,
   "title_cell": "Содержание",
   "title_sidebar": "Contents",
   "toc_cell": true,
   "toc_position": {
    "height": "calc(100% - 180px)",
    "left": "10px",
    "top": "150px",
    "width": "238.788px"
   },
   "toc_section_display": true,
   "toc_window_display": true
  }
 },
 "nbformat": 4,
 "nbformat_minor": 2
}
